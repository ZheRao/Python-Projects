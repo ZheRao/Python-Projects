{
 "cells": [
  {
   "cell_type": "code",
   "execution_count": 1,
   "id": "f6d289c0",
   "metadata": {},
   "outputs": [
    {
     "data": {
      "text/plain": [
       "<torch._C.Generator at 0x281e92086b0>"
      ]
     },
     "execution_count": 1,
     "metadata": {},
     "output_type": "execute_result"
    }
   ],
   "source": [
    "# imports\n",
    "import numpy as np\n",
    "import matplotlib.pyplot as plt\n",
    "import torch\n",
    "import torchvision\n",
    "import torch.nn as nn\n",
    "import torch.nn.functional as F\n",
    "import torchvision.transforms as transforms\n",
    "torch.manual_seed(55)"
   ]
  },
  {
   "cell_type": "markdown",
   "id": "13be4658",
   "metadata": {},
   "source": [
    "# define model"
   ]
  },
  {
   "cell_type": "code",
   "execution_count": 2,
   "id": "79300754",
   "metadata": {},
   "outputs": [],
   "source": [
    "class LeNet(nn.Module):\n",
    "    def __init__(self):\n",
    "        super(LeNet,self).__init__()\n",
    "        self.conv1 = nn.Conv2d(in_channels=3,out_channels=6,kernel_size=5)\n",
    "        self.conv2 = nn.Conv2d(in_channels=6,out_channels=16,kernel_size=5)\n",
    "        self.dense1 = nn.Linear(in_features=16*5*5,out_features=120)\n",
    "        self.dense2 = nn.Linear(in_features=120,out_features=84)\n",
    "        self.dense3 = nn.Linear(in_features=84, out_features=10)\n",
    "        \n",
    "    def flattened_features(self, x):\n",
    "        # faltten everything except for first (batch) dimension\n",
    "        size = x.size()[1:]\n",
    "        num_features = 1\n",
    "        for s in size:\n",
    "            num_features *= s\n",
    "        return num_features\n",
    "    \n",
    "    def forward(self,x):\n",
    "        x = F.relu(self.conv1(x))\n",
    "        x = F.avg_pool2d(x,2)\n",
    "        x = F.relu(self.conv2(x))\n",
    "        x = F.avg_pool2d(x,2)\n",
    "        x = x.view(-1, self.flattened_features(x))\n",
    "        x = F.relu(self.dense1(x))\n",
    "        x = F.relu(self.dense2(x))\n",
    "        x = self.dense3(x)\n",
    "        return x\n",
    "\n",
    "        "
   ]
  },
  {
   "cell_type": "code",
   "execution_count": 18,
   "id": "e4ae297d",
   "metadata": {},
   "outputs": [],
   "source": [
    "class LeNet_max(nn.Module):\n",
    "    def __init__(self):\n",
    "        super(LeNet_max,self).__init__()\n",
    "        self.conv1 = nn.Conv2d(in_channels=3,out_channels=6,kernel_size=5)\n",
    "        self.conv2 = nn.Conv2d(in_channels=6,out_channels=16,kernel_size=5)\n",
    "        self.dense1 = nn.Linear(in_features=16*5*5,out_features=120)\n",
    "        self.dense2 = nn.Linear(in_features=120,out_features=84)\n",
    "        self.dense3 = nn.Linear(in_features=84, out_features=10)\n",
    "        \n",
    "    def flattened_features(self, x):\n",
    "        # faltten everything except for first (batch) dimension\n",
    "        size = x.size()[1:]\n",
    "        num_features = 1\n",
    "        for s in size:\n",
    "            num_features *= s\n",
    "        return num_features\n",
    "    \n",
    "    def forward(self,x):\n",
    "        x = F.relu(self.conv1(x))\n",
    "        x = F.max_pool2d(x,2)\n",
    "        x = F.relu(self.conv2(x))\n",
    "        x = F.max_pool2d(x,2)\n",
    "        x = torch.flatten(x,1)\n",
    "        x = F.relu(self.dense1(x))\n",
    "        x = F.relu(self.dense2(x))\n",
    "        x = self.dense3(x)\n",
    "        return x\n"
   ]
  },
  {
   "cell_type": "code",
   "execution_count": 4,
   "id": "5dedad54",
   "metadata": {},
   "outputs": [
    {
     "name": "stdout",
     "output_type": "stream",
     "text": [
      "LeNet(\n",
      "  (conv1): Conv2d(3, 6, kernel_size=(5, 5), stride=(1, 1))\n",
      "  (conv2): Conv2d(6, 16, kernel_size=(5, 5), stride=(1, 1))\n",
      "  (dense1): Linear(in_features=400, out_features=120, bias=True)\n",
      "  (dense2): Linear(in_features=120, out_features=84, bias=True)\n",
      "  (dense3): Linear(in_features=84, out_features=10, bias=True)\n",
      ")\n"
     ]
    }
   ],
   "source": [
    "# check model structure\n",
    "lenet = LeNet()\n",
    "lenet.cuda()\n",
    "print(lenet)"
   ]
  },
  {
   "cell_type": "markdown",
   "id": "36a735de",
   "metadata": {},
   "source": [
    "# Training and Testing routine"
   ]
  },
  {
   "cell_type": "code",
   "execution_count": 3,
   "id": "2f06812e",
   "metadata": {},
   "outputs": [],
   "source": [
    "def train(net, trainloader, optim, epoch, device):\n",
    "    # initialize loss\n",
    "    loss_total = 0.0\n",
    "    for i, (X,y) in enumerate(trainloader, 0): # i starts with 0\n",
    "        X, y = X.to(device), y.to(device)\n",
    "        optim.zero_grad() # zero the parameter gradients\n",
    "        output = net(X)\n",
    "        loss_fn = nn.CrossEntropyLoss()\n",
    "        loss = loss_fn(output,y)\n",
    "        loss.backward()\n",
    "        optim.step()\n",
    "        \n",
    "        # update loss\n",
    "        loss_total += loss.item()\n",
    "        \n",
    "        # print every 1000 batches\n",
    "        if (i+1) % 1000 == 0:\n",
    "            print(\"[Epoch number: %d, Mini-batches: %5d] loss: %.3f\" % (epoch+1,i+1,loss_total/200))\n",
    "            loss_total = 0\n",
    "    "
   ]
  },
  {
   "cell_type": "code",
   "execution_count": 4,
   "id": "5febb623",
   "metadata": {},
   "outputs": [],
   "source": [
    "def test(net, testloader, device):\n",
    "    success = 0\n",
    "    counter = 0\n",
    "    with torch.no_grad():\n",
    "        for X, y in testloader:\n",
    "            X, y = X.to(device), y.to(device)\n",
    "            output = net(X)\n",
    "            _,pred = torch.max(output.data,1)\n",
    "            counter += y.size(0)\n",
    "            success += (pred == y).sum().item()\n",
    "    print(\"LeNet accuracy on 10000 images from test dataset: %d %%\" % (100*success/counter))"
   ]
  },
  {
   "cell_type": "markdown",
   "id": "7553bba0",
   "metadata": {},
   "source": [
    "# load Images"
   ]
  },
  {
   "cell_type": "code",
   "execution_count": 5,
   "id": "34949281",
   "metadata": {},
   "outputs": [],
   "source": [
    "train_transform = transforms.Compose([transforms.RandomHorizontalFlip(),\n",
    "                                     transforms.RandomCrop(32,4),\n",
    "                                     transforms.ToTensor(),\n",
    "                                     transforms.Normalize((0.5,0.5,0.5),(0.5,0.5,0.5))])\n",
    "trainset = torchvision.datasets.CIFAR10(root=\"W://Study Material/Jupyter Notebook/Datasets/CIFAR-10\",\n",
    "                                       train=True,download=False,transform=train_transform)\n",
    "trainloader = torch.utils.data.DataLoader(trainset,batch_size=8,shuffle=True,num_workers=1)\n",
    "\n",
    "test_transform = transforms.Compose([transforms.ToTensor(),transforms.Normalize((0.5,0.5,0.5),(0.5,0.5,0.5))])\n",
    "testset = torchvision.datasets.CIFAR10(root=\"W://Study Material/Jupyter Notebook/Datasets/CIFAR-10\",\n",
    "                                      train=False,download=False,transform=test_transform)\n",
    "testloader = torch.utils.data.DataLoader(testset,batch_size=10000,shuffle=False,num_workers=2)\n",
    "\n",
    "classes = (\"plane\",\"car\",\"bird\",\"cat\",\"deer\",\"dog\",\"frog\",\"horse\",\"ship\",\"truck\")"
   ]
  },
  {
   "cell_type": "code",
   "execution_count": 6,
   "id": "c79ebdf9",
   "metadata": {},
   "outputs": [
    {
     "data": {
      "image/png": "[encoded data removed]",
      "text/plain": [
       "<Figure size 432x288 with 1 Axes>"
      ]
     },
     "metadata": {
      "needs_background": "light"
     },
     "output_type": "display_data"
    },
    {
     "name": "stdout",
     "output_type": "stream",
     "text": [
      "        plane  ||   frog  ||   dog  ||   cat\n"
     ]
    }
   ],
   "source": [
    "# define function that displays an image\n",
    "\n",
    "def imageshow(image):\n",
    "    # un-nomalize the image\n",
    "    image = image/2 + 0.5\n",
    "    npimage = image.numpy()\n",
    "    plt.imshow(np.transpose(npimage,(1,2,0)))\n",
    "    plt.show()\n",
    "\n",
    "# extract image from training set\n",
    "dataiter = iter(trainloader)\n",
    "images, labels = dataiter.next()\n",
    "\n",
    "# display images in a grid\n",
    "num_images = 4\n",
    "imageshow(torchvision.utils.make_grid(images[:num_images]))\n",
    "\n",
    "# print labels\n",
    "print(\" \"*8 + \"  ||   \".join(classes[labels[j]] for j in range(num_images)))"
   ]
  },
  {
   "cell_type": "markdown",
   "id": "6b5571ba",
   "metadata": {},
   "source": [
    "# training"
   ]
  },
  {
   "cell_type": "code",
   "execution_count": 21,
   "id": "4299fed4",
   "metadata": {},
   "outputs": [
    {
     "name": "stdout",
     "output_type": "stream",
     "text": [
      "[Epoch number: 1, Mini-batches:  1000] loss: 12.106\n",
      "[Epoch number: 1, Mini-batches:  2000] loss: 11.572\n",
      "[Epoch number: 1, Mini-batches:  3000] loss: 11.590\n",
      "[Epoch number: 1, Mini-batches:  4000] loss: 11.577\n",
      "[Epoch number: 1, Mini-batches:  5000] loss: 11.579\n",
      "[Epoch number: 1, Mini-batches:  6000] loss: 11.583\n",
      "\n",
      "LeNet accuracy on 10000 images from test dataset: 10 %\n",
      "\n",
      "[Epoch number: 2, Mini-batches:  1000] loss: 11.589\n",
      "[Epoch number: 2, Mini-batches:  2000] loss: 11.574\n",
      "[Epoch number: 2, Mini-batches:  3000] loss: 11.584\n",
      "[Epoch number: 2, Mini-batches:  4000] loss: 11.572\n",
      "[Epoch number: 2, Mini-batches:  5000] loss: 11.573\n",
      "[Epoch number: 2, Mini-batches:  6000] loss: 11.586\n",
      "\n",
      "LeNet accuracy on 10000 images from test dataset: 10 %\n",
      "\n",
      "[Epoch number: 3, Mini-batches:  1000] loss: 11.577\n",
      "[Epoch number: 3, Mini-batches:  2000] loss: 11.578\n",
      "[Epoch number: 3, Mini-batches:  3000] loss: 11.573\n",
      "[Epoch number: 3, Mini-batches:  4000] loss: 11.585\n",
      "[Epoch number: 3, Mini-batches:  5000] loss: 11.576\n",
      "[Epoch number: 3, Mini-batches:  6000] loss: 11.588\n",
      "\n",
      "LeNet accuracy on 10000 images from test dataset: 10 %\n",
      "\n",
      "Finished training!\n"
     ]
    }
   ],
   "source": [
    "# this is for using average pooling \n",
    "lenet = LeNet()\n",
    "lenet.cuda()\n",
    "optim = torch.optim.Adam(lenet.parameters(),lr=0.05)\n",
    "device = torch.device(\"cuda\")\n",
    "\n",
    "for epoch in range(3):\n",
    "    train(lenet, trainloader, optim, epoch, device)\n",
    "    print()\n",
    "    test(lenet, testloader, device)\n",
    "    print()\n",
    "print(\"Finished training!\")"
   ]
  },
  {
   "cell_type": "code",
   "execution_count": 7,
   "id": "6cfb675d",
   "metadata": {},
   "outputs": [
    {
     "name": "stdout",
     "output_type": "stream",
     "text": [
      "[Epoch number: 1, Mini-batches:  1000] loss: 9.884\n",
      "[Epoch number: 1, Mini-batches:  2000] loss: 8.815\n",
      "[Epoch number: 1, Mini-batches:  3000] loss: 8.413\n",
      "[Epoch number: 1, Mini-batches:  4000] loss: 8.159\n",
      "[Epoch number: 1, Mini-batches:  5000] loss: 7.992\n",
      "[Epoch number: 1, Mini-batches:  6000] loss: 7.823\n",
      "\n",
      "LeNet accuracy on 10000 images from test dataset: 46 %\n",
      "\n",
      "[Epoch number: 2, Mini-batches:  1000] loss: 7.543\n",
      "[Epoch number: 2, Mini-batches:  2000] loss: 7.530\n",
      "[Epoch number: 2, Mini-batches:  3000] loss: 7.388\n",
      "[Epoch number: 2, Mini-batches:  4000] loss: 7.448\n",
      "[Epoch number: 2, Mini-batches:  5000] loss: 7.296\n",
      "[Epoch number: 2, Mini-batches:  6000] loss: 7.288\n",
      "\n",
      "LeNet accuracy on 10000 images from test dataset: 52 %\n",
      "\n",
      "[Epoch number: 3, Mini-batches:  1000] loss: 7.134\n",
      "[Epoch number: 3, Mini-batches:  2000] loss: 7.120\n",
      "[Epoch number: 3, Mini-batches:  3000] loss: 6.978\n",
      "[Epoch number: 3, Mini-batches:  4000] loss: 6.966\n",
      "[Epoch number: 3, Mini-batches:  5000] loss: 6.990\n",
      "[Epoch number: 3, Mini-batches:  6000] loss: 6.918\n",
      "\n",
      "LeNet accuracy on 10000 images from test dataset: 54 %\n",
      "\n",
      "Finished training!\n"
     ]
    }
   ],
   "source": [
    "# some experiment showed that the learning rate was too high\n",
    "lenet = LeNet()\n",
    "lenet.cuda()\n",
    "optim = torch.optim.Adam(lenet.parameters(),lr=0.001)\n",
    "device = torch.device(\"cuda\")\n",
    "\n",
    "for epoch in range(3):\n",
    "    train(lenet, trainloader, optim, epoch, device)\n",
    "    print()\n",
    "    test(lenet, testloader, device)\n",
    "    print()\n",
    "print(\"Finished training!\")"
   ]
  },
  {
   "cell_type": "code",
   "execution_count": 23,
   "id": "0acae029",
   "metadata": {},
   "outputs": [],
   "source": [
    "# save model\n",
    "model_path = \"W://Study Material/Jupyter Notebook/Small Projects/CIFAR-10 - PyTorch./LeNet_model.pth\"\n",
    "torch.save(lenet.state_dict(),model_path)"
   ]
  },
  {
   "cell_type": "code",
   "execution_count": 8,
   "id": "ed21c104",
   "metadata": {},
   "outputs": [
    {
     "name": "stdout",
     "output_type": "stream",
     "text": [
      "[Epoch number: 1, Mini-batches:  1000] loss: 6.447\n",
      "[Epoch number: 1, Mini-batches:  2000] loss: 6.384\n",
      "[Epoch number: 1, Mini-batches:  3000] loss: 6.425\n",
      "[Epoch number: 1, Mini-batches:  4000] loss: 6.476\n",
      "[Epoch number: 1, Mini-batches:  5000] loss: 6.437\n",
      "[Epoch number: 1, Mini-batches:  6000] loss: 6.322\n",
      "\n",
      "LeNet accuracy on 10000 images from test dataset: 57 %\n",
      "\n",
      "[Epoch number: 2, Mini-batches:  1000] loss: 6.184\n",
      "[Epoch number: 2, Mini-batches:  2000] loss: 6.270\n",
      "[Epoch number: 2, Mini-batches:  3000] loss: 6.261\n",
      "[Epoch number: 2, Mini-batches:  4000] loss: 6.293\n",
      "[Epoch number: 2, Mini-batches:  5000] loss: 6.128\n",
      "[Epoch number: 2, Mini-batches:  6000] loss: 6.174\n",
      "\n",
      "LeNet accuracy on 10000 images from test dataset: 59 %\n",
      "\n",
      "[Epoch number: 3, Mini-batches:  1000] loss: 6.110\n",
      "[Epoch number: 3, Mini-batches:  2000] loss: 6.111\n",
      "[Epoch number: 3, Mini-batches:  3000] loss: 6.164\n",
      "[Epoch number: 3, Mini-batches:  4000] loss: 6.014\n",
      "[Epoch number: 3, Mini-batches:  5000] loss: 5.958\n",
      "[Epoch number: 3, Mini-batches:  6000] loss: 6.013\n",
      "\n",
      "LeNet accuracy on 10000 images from test dataset: 60 %\n",
      "\n",
      "[Epoch number: 4, Mini-batches:  1000] loss: 5.937\n",
      "[Epoch number: 4, Mini-batches:  2000] loss: 6.004\n",
      "[Epoch number: 4, Mini-batches:  3000] loss: 5.811\n",
      "[Epoch number: 4, Mini-batches:  4000] loss: 5.946\n",
      "[Epoch number: 4, Mini-batches:  5000] loss: 6.060\n",
      "[Epoch number: 4, Mini-batches:  6000] loss: 5.909\n",
      "\n",
      "LeNet accuracy on 10000 images from test dataset: 60 %\n",
      "\n",
      "[Epoch number: 5, Mini-batches:  1000] loss: 5.860\n",
      "[Epoch number: 5, Mini-batches:  2000] loss: 5.882\n",
      "[Epoch number: 5, Mini-batches:  3000] loss: 5.888\n",
      "[Epoch number: 5, Mini-batches:  4000] loss: 5.750\n",
      "[Epoch number: 5, Mini-batches:  5000] loss: 5.747\n",
      "[Epoch number: 5, Mini-batches:  6000] loss: 5.729\n",
      "\n",
      "LeNet accuracy on 10000 images from test dataset: 62 %\n",
      "\n",
      "[Epoch number: 6, Mini-batches:  1000] loss: 5.751\n",
      "[Epoch number: 6, Mini-batches:  2000] loss: 5.714\n",
      "[Epoch number: 6, Mini-batches:  3000] loss: 5.805\n",
      "[Epoch number: 6, Mini-batches:  4000] loss: 5.632\n",
      "[Epoch number: 6, Mini-batches:  5000] loss: 5.606\n",
      "[Epoch number: 6, Mini-batches:  6000] loss: 5.658\n",
      "\n",
      "LeNet accuracy on 10000 images from test dataset: 62 %\n",
      "\n",
      "[Epoch number: 7, Mini-batches:  1000] loss: 5.684\n",
      "[Epoch number: 7, Mini-batches:  2000] loss: 5.600\n",
      "[Epoch number: 7, Mini-batches:  3000] loss: 5.570\n",
      "[Epoch number: 7, Mini-batches:  4000] loss: 5.585\n",
      "[Epoch number: 7, Mini-batches:  5000] loss: 5.587\n",
      "[Epoch number: 7, Mini-batches:  6000] loss: 5.724\n",
      "\n",
      "LeNet accuracy on 10000 images from test dataset: 64 %\n",
      "\n",
      "[Epoch number: 8, Mini-batches:  1000] loss: 5.527\n",
      "[Epoch number: 8, Mini-batches:  2000] loss: 5.555\n",
      "[Epoch number: 8, Mini-batches:  3000] loss: 5.533\n",
      "[Epoch number: 8, Mini-batches:  4000] loss: 5.538\n",
      "[Epoch number: 8, Mini-batches:  5000] loss: 5.486\n",
      "[Epoch number: 8, Mini-batches:  6000] loss: 5.516\n",
      "\n",
      "LeNet accuracy on 10000 images from test dataset: 63 %\n",
      "\n",
      "[Epoch number: 9, Mini-batches:  1000] loss: 5.502\n",
      "[Epoch number: 9, Mini-batches:  2000] loss: 5.589\n",
      "[Epoch number: 9, Mini-batches:  3000] loss: 5.426\n",
      "[Epoch number: 9, Mini-batches:  4000] loss: 5.394\n",
      "[Epoch number: 9, Mini-batches:  5000] loss: 5.445\n",
      "[Epoch number: 9, Mini-batches:  6000] loss: 5.412\n",
      "\n",
      "LeNet accuracy on 10000 images from test dataset: 64 %\n",
      "\n",
      "[Epoch number: 10, Mini-batches:  1000] loss: 5.376\n",
      "[Epoch number: 10, Mini-batches:  2000] loss: 5.332\n",
      "[Epoch number: 10, Mini-batches:  3000] loss: 5.470\n",
      "[Epoch number: 10, Mini-batches:  4000] loss: 5.335\n",
      "[Epoch number: 10, Mini-batches:  5000] loss: 5.394\n",
      "[Epoch number: 10, Mini-batches:  6000] loss: 5.449\n",
      "\n",
      "LeNet accuracy on 10000 images from test dataset: 63 %\n",
      "\n",
      "Finished training!\n"
     ]
    }
   ],
   "source": [
    "# continuing training with even lower training rate\n",
    "optim = torch.optim.Adam(lenet.parameters(),lr=0.0005)\n",
    "for epoch in range(10):\n",
    "    train(lenet, trainloader, optim, epoch, device)\n",
    "    print()\n",
    "    test(lenet, testloader, device)\n",
    "    print()\n",
    "print(\"Finished training!\")"
   ]
  },
  {
   "cell_type": "code",
   "execution_count": 25,
   "id": "4f60eeb8",
   "metadata": {},
   "outputs": [],
   "source": [
    "torch.save(lenet.state_dict(),model_path)"
   ]
  },
  {
   "cell_type": "markdown",
   "id": "0edc5424",
   "metadata": {},
   "source": [
    "# Test"
   ]
  },
  {
   "cell_type": "code",
   "execution_count": 11,
   "id": "854895bf",
   "metadata": {},
   "outputs": [
    {
     "name": "stdout",
     "output_type": "stream",
     "text": [
      "LeNet(\n",
      "  (conv1): Conv2d(3, 6, kernel_size=(5, 5), stride=(1, 1))\n",
      "  (conv2): Conv2d(6, 16, kernel_size=(5, 5), stride=(1, 1))\n",
      "  (dense1): Linear(in_features=400, out_features=120, bias=True)\n",
      "  (dense2): Linear(in_features=120, out_features=84, bias=True)\n",
      "  (dense3): Linear(in_features=84, out_features=10, bias=True)\n",
      ")\n"
     ]
    }
   ],
   "source": [
    "# load model\n",
    "lenet2 = LeNet()\n",
    "lenet2.cuda()\n",
    "model_path = \"W://Study Material/Jupyter Notebook/Small Projects/CIFAR-10 - PyTorch./LeNet_model.pth\"\n",
    "lenet2.load_state_dict(torch.load(model_path))\n",
    "print(lenet2)"
   ]
  },
  {
   "cell_type": "code",
   "execution_count": 28,
   "id": "cb03d995",
   "metadata": {},
   "outputs": [
    {
     "data": {
      "image/png": "[encoded data removed]",
      "text/plain": [
       "<Figure size 432x288 with 1 Axes>"
      ]
     },
     "metadata": {
      "needs_background": "light"
     },
     "output_type": "display_data"
    },
    {
     "name": "stdout",
     "output_type": "stream",
     "text": [
      "Label:           cat   ship   ship  plane   frog   frog\n",
      "Prediction:       cat    car   ship  plane   frog   frog\n"
     ]
    }
   ],
   "source": [
    "# load test dataset images\n",
    "testbatchs = iter(testloader)\n",
    "X, y = next(testbatchs)\n",
    "\n",
    "# show iamges and labels\n",
    "imageshow(torchvision.utils.make_grid(X[:6]))\n",
    "X, y = X.to(\"cuda\"), y.to(\"cuda\")\n",
    "print(\"Label:        \", \"  \".join(\"%5s\" % classes[y[j]] for j in range(6)))\n",
    "\n",
    "# making model inference\n",
    "prediction = lenet(X)\n",
    "_, pred = torch.max(prediction, 1)\n",
    "print(\"Prediction:    \", \"  \".join(\"%5s\" % classes[pred[j]] for j in range(6)))"
   ]
  },
  {
   "cell_type": "code",
   "execution_count": 9,
   "id": "45ce0405",
   "metadata": {},
   "outputs": [
    {
     "name": "stdout",
     "output_type": "stream",
     "text": [
      "LeNet accuracy on 10000 images from test dataset: 63 %\n"
     ]
    }
   ],
   "source": [
    "test(lenet, testloader, device)"
   ]
  },
  {
   "cell_type": "code",
   "execution_count": 12,
   "id": "8b5472d9",
   "metadata": {},
   "outputs": [
    {
     "name": "stdout",
     "output_type": "stream",
     "text": [
      "LeNet accuracy on 10000 images from test dataset: 63 %\n"
     ]
    }
   ],
   "source": [
    "test(lenet2, testloader, device)"
   ]
  },
  {
   "cell_type": "code",
   "execution_count": 13,
   "id": "f4d01775",
   "metadata": {},
   "outputs": [
    {
     "name": "stdout",
     "output_type": "stream",
     "text": [
      "Model accuracy on 10000 images from test dataset: 63%\n"
     ]
    }
   ],
   "source": [
    "# check overall accuracy\n",
    "success = 0\n",
    "counter = 0\n",
    "with torch.no_grad():\n",
    "    for data in testloader:\n",
    "        X, y = data\n",
    "        X, y = X.to(\"cuda\"), y.to(\"cuda\")\n",
    "        prediction = lenet(X)\n",
    "        pred_max_val, pred_max_idx = torch.max(prediction, 1)\n",
    "        counter += y.size()[0]\n",
    "        success += (pred_max_idx==y).sum().item()\n",
    "print(\"Model accuracy on 10000 images from test dataset: %d%%\" %(100*success/counter))\n"
   ]
  },
  {
   "cell_type": "code",
   "execution_count": 16,
   "id": "3f92bd0c",
   "metadata": {},
   "outputs": [
    {
     "name": "stdout",
     "output_type": "stream",
     "text": [
      "Model accuracy for class plane:  70.1%\n",
      "Model accuracy for class car:  82.1%\n",
      "Model accuracy for class bird:  58.6%\n",
      "Model accuracy for class cat:  34.1%\n",
      "Model accuracy for class deer:  49.0%\n",
      "Model accuracy for class dog:  48.2%\n",
      "Model accuracy for class frog:  82.4%\n",
      "Model accuracy for class horse:  62.0%\n",
      "Model accuracy for class ship:  77.3%\n",
      "Model accuracy for class truck:  71.7%\n"
     ]
    }
   ],
   "source": [
    "# per class accuracy\n",
    "class_success = list(0. for i in range(10))\n",
    "class_counter = list(0. for i in range(10))\n",
    "\n",
    "k = (pred_max_idx == y).squeeze()\n",
    "for i in range(10000):\n",
    "    label = y[i]\n",
    "    class_success[label] += k[i].item()\n",
    "    class_counter[label] += 1\n",
    "\n",
    "for i in range(10):\n",
    "    print(f\"Model accuracy for class {classes[i]}:  {100*class_success[i]/class_counter[i]}%\")\n",
    "\n",
    "        \n"
   ]
  },
  {
   "cell_type": "code",
   "execution_count": null,
   "id": "4b804b7c",
   "metadata": {},
   "outputs": [],
   "source": []
  }
 ],
 "metadata": {
  "kernelspec": {
   "display_name": "Python 3 (ipykernel)",
   "language": "python",
   "name": "python3"
  },
  "language_info": {
   "codemirror_mode": {
    "name": "ipython",
    "version": 3
   },
   "file_extension": ".py",
   "mimetype": "text/x-python",
   "name": "python",
   "nbconvert_exporter": "python",
   "pygments_lexer": "ipython3",
   "version": "3.9.7"
  }
 },
 "nbformat": 4,
 "nbformat_minor": 5
}
