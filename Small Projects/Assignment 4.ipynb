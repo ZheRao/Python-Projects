{
 "cells": [
  {
   "cell_type": "code",
   "execution_count": 1,
   "id": "740cbae4",
   "metadata": {},
   "outputs": [
    {
     "data": {
      "text/plain": [
       "<torch._C.Generator at 0x1c459060550>"
      ]
     },
     "execution_count": 1,
     "metadata": {},
     "output_type": "execute_result"
    }
   ],
   "source": [
    "# imports\n",
    "import numpy as np\n",
    "import matplotlib.pyplot as plt\n",
    "import torch\n",
    "import torchvision\n",
    "import torch.nn as nn\n",
    "import torch.nn.functional as F\n",
    "import torchvision.transforms as transforms\n",
    "import torchvision.models as models\n",
    "from torch.utils.data import DataLoader\n",
    "from torch import optim\n",
    "from tqdm.auto import tqdm\n",
    "import math\n",
    "torch.manual_seed(55)"
   ]
  },
  {
   "cell_type": "code",
   "execution_count": null,
   "id": "58310e6a",
   "metadata": {},
   "outputs": [],
   "source": []
  },
  {
   "cell_type": "markdown",
   "id": "8d07f556",
   "metadata": {},
   "source": [
    "# read in data"
   ]
  },
  {
   "cell_type": "code",
   "execution_count": 2,
   "id": "67d2ed17",
   "metadata": {},
   "outputs": [],
   "source": [
    "path = \"W://Study Material/Jupyter Notebook/Datasets/CIFAR-10/cifar-10-batches-py\"\n",
    "def unpickle(file):\n",
    "    import pickle\n",
    "    with open(file, \"rb\") as fo:\n",
    "        dict = pickle.load(fo,encoding=\"bytes\")\n",
    "    return dict"
   ]
  },
  {
   "cell_type": "code",
   "execution_count": 3,
   "id": "2f3dd0f6",
   "metadata": {},
   "outputs": [
    {
     "data": {
      "text/plain": [
       "(4,)"
      ]
     },
     "execution_count": 3,
     "metadata": {},
     "output_type": "execute_result"
    }
   ],
   "source": [
    "training_batch = np.empty((4),dtype=object)\n",
    "val_batch = np.empty((1),dtype=object)\n",
    "test_batch = np.empty((1),dtype=object)\n",
    "training_batch.shape"
   ]
  },
  {
   "cell_type": "code",
   "execution_count": 4,
   "id": "d19b00f2",
   "metadata": {},
   "outputs": [],
   "source": [
    "training_batch[0] = unpickle(path+\"/data_batch_1\")\n",
    "training_batch[1] = unpickle(path+\"/data_batch_2\")\n",
    "training_batch[2] = unpickle(path+\"/data_batch_3\")\n",
    "training_batch[3] = unpickle(path+\"/data_batch_4\")\n",
    "val_batch[0] = unpickle(path+\"/data_batch_5\")\n",
    "test_batch[0] = unpickle(path+\"/test_batch\")\n",
    "meta_data = unpickle(path+\"/batches.meta\")"
   ]
  },
  {
   "cell_type": "code",
   "execution_count": 5,
   "id": "6dd4606f",
   "metadata": {},
   "outputs": [
    {
     "data": {
      "text/plain": [
       "dict_keys([b'batch_label', b'labels', b'data', b'filenames'])"
      ]
     },
     "execution_count": 5,
     "metadata": {},
     "output_type": "execute_result"
    }
   ],
   "source": [
    "training_batch[0].keys()"
   ]
  },
  {
   "cell_type": "code",
   "execution_count": 6,
   "id": "a00a5df9",
   "metadata": {},
   "outputs": [
    {
     "data": {
      "text/plain": [
       "(10000,)"
      ]
     },
     "execution_count": 6,
     "metadata": {},
     "output_type": "execute_result"
    }
   ],
   "source": [
    "np.array(training_batch[0][b'labels']).shape"
   ]
  },
  {
   "cell_type": "code",
   "execution_count": 7,
   "id": "eb3a7835",
   "metadata": {},
   "outputs": [
    {
     "data": {
      "text/plain": [
       "(10000, 3072)"
      ]
     },
     "execution_count": 7,
     "metadata": {},
     "output_type": "execute_result"
    }
   ],
   "source": [
    "training_batch[0][b'data'].shape"
   ]
  },
  {
   "cell_type": "code",
   "execution_count": 8,
   "id": "b76a22c8",
   "metadata": {},
   "outputs": [
    {
     "data": {
      "text/plain": [
       "[b'airplane',\n",
       " b'automobile',\n",
       " b'bird',\n",
       " b'cat',\n",
       " b'deer',\n",
       " b'dog',\n",
       " b'frog',\n",
       " b'horse',\n",
       " b'ship',\n",
       " b'truck']"
      ]
     },
     "execution_count": 8,
     "metadata": {},
     "output_type": "execute_result"
    }
   ],
   "source": [
    "meta_data[b'label_names']"
   ]
  },
  {
   "cell_type": "code",
   "execution_count": null,
   "id": "a7018435",
   "metadata": {},
   "outputs": [],
   "source": []
  },
  {
   "cell_type": "markdown",
   "id": "a30e5681",
   "metadata": {},
   "source": [
    "# define custom data loader"
   ]
  },
  {
   "cell_type": "code",
   "execution_count": 9,
   "id": "f308a319",
   "metadata": {},
   "outputs": [],
   "source": [
    "class CustomDataset(torch.utils.data.Dataset):\n",
    "    def __init__(self,batch,b_type,transform):\n",
    "        self.transform = transform\n",
    "        if b_type == \"train\":\n",
    "            self.data = np.concatenate((batch[0][b'data'],batch[1][b'data'],\n",
    "                                        batch[2][b'data'],batch[3][b'data']),axis=0)\n",
    "            #print(b_type, \" data shape: \",self.data.shape)\n",
    "            self.label = np.concatenate((batch[0][b'labels'],batch[1][b'labels'],\n",
    "                                        batch[2][b'labels'],batch[3][b'labels']))\n",
    "            #print(b_type, \" label shape: \",len(self.label))\n",
    "        else:\n",
    "            self.data = batch[0][b'data']\n",
    "            #print(b_type, \" data shape: \",self.data.shape)\n",
    "            self.label = batch[0][b'labels']\n",
    "            #print(b_type, \" label shape: \", len(self.label))\n",
    "    \n",
    "    def __len__(self):\n",
    "        return len(self.label)\n",
    "    \n",
    "    def __getitem__(self,index):\n",
    "        label = self.label[index]\n",
    "        image_data = self.data[index]\n",
    "        # convert (3072,) array to (3,32,32)\n",
    "        image_r = image_data[:1024].reshape(32,32)\n",
    "        image_g = image_data[1024:2048].reshape(32,32)\n",
    "        image_b = image_data[2048:].reshape(32,32)\n",
    "        image = np.array([image_r,image_g,image_b])\n",
    "        image = np.transpose(image,(1,2,0)) # change the batch dimension to the last dimension\n",
    "        #image = torch.tensor(image,dtype=torch.float)\n",
    "        if self.transform is not None:\n",
    "            image = self.transform(image)\n",
    "        #print(image.shape)\n",
    "        return image, label\n",
    "    "
   ]
  },
  {
   "cell_type": "code",
   "execution_count": 10,
   "id": "02e1fdb9",
   "metadata": {},
   "outputs": [
    {
     "data": {
      "text/plain": [
       "(3, 1, 2)"
      ]
     },
     "execution_count": 10,
     "metadata": {},
     "output_type": "execute_result"
    }
   ],
   "source": [
    "x = np.ones((1,2,3))\n",
    "np.transpose(x,(2,0,1)).shape"
   ]
  },
  {
   "cell_type": "markdown",
   "id": "abb81755",
   "metadata": {},
   "source": [
    "### transformation"
   ]
  },
  {
   "cell_type": "code",
   "execution_count": 11,
   "id": "e935b4eb",
   "metadata": {},
   "outputs": [],
   "source": [
    "# define data augmentation\n",
    "data_transformers = {\"train\": transforms.Compose([transforms.ToPILImage(),\n",
    "                                     transforms.RandomResizedCrop(224),\n",
    "                                     transforms.RandomHorizontalFlip(),\n",
    "                                     transforms.RandomRotation(30),\n",
    "                                     transforms.ToTensor()]),\n",
    "            \"test\":transforms.Compose([transforms.ToPILImage(),\n",
    "                                       transforms.Resize(224),\n",
    "                                       transforms.ToTensor()])}"
   ]
  },
  {
   "cell_type": "markdown",
   "id": "7fb6849d",
   "metadata": {},
   "source": [
    "### datasets"
   ]
  },
  {
   "cell_type": "code",
   "execution_count": 12,
   "id": "217ec77d",
   "metadata": {},
   "outputs": [],
   "source": [
    "# defining datasets\n",
    "train_data = CustomDataset(training_batch,\"train\",transform=data_transformers[\"train\"])\n",
    "val_data = CustomDataset(val_batch,\"validation\",transform=data_transformers[\"test\"])\n",
    "test_data = CustomDataset(test_batch,\"test\",transform=data_transformers[\"test\"])"
   ]
  },
  {
   "cell_type": "code",
   "execution_count": 13,
   "id": "2a1535d8",
   "metadata": {},
   "outputs": [
    {
     "name": "stdout",
     "output_type": "stream",
     "text": [
      "torch.Size([3, 224, 224])\n"
     ]
    }
   ],
   "source": [
    "# make sure the shape of the image extracted is okay\n",
    "print(train_data[0][0].shape)\n",
    "#print(train_data[0][1])"
   ]
  },
  {
   "cell_type": "markdown",
   "id": "5cab6536",
   "metadata": {},
   "source": [
    "### dataloader"
   ]
  },
  {
   "cell_type": "code",
   "execution_count": 14,
   "id": "91d41bc4",
   "metadata": {},
   "outputs": [],
   "source": [
    "train_dataloader = DataLoader(train_data,batch_size=128,shuffle=True)\n",
    "val_dataloader = DataLoader(val_data,batch_size=128,shuffle=True)\n",
    "test_dataloader = DataLoader(test_data,batch_size=128,shuffle=False)"
   ]
  },
  {
   "cell_type": "code",
   "execution_count": null,
   "id": "fa1b589b",
   "metadata": {},
   "outputs": [],
   "source": []
  },
  {
   "cell_type": "code",
   "execution_count": null,
   "id": "bc60fb95",
   "metadata": {},
   "outputs": [],
   "source": []
  },
  {
   "cell_type": "markdown",
   "id": "1238b45a",
   "metadata": {},
   "source": [
    "# training and validation routine"
   ]
  },
  {
   "cell_type": "code",
   "execution_count": 19,
   "id": "1442f373",
   "metadata": {},
   "outputs": [],
   "source": [
    "def train(model,trainloader,valloader,epochs,print_frequency,loss_fn,optimizer,device,run,part):\n",
    "    training_steps = epochs * (len(trainloader))\n",
    "    progress_bar = tqdm(range(training_steps))\n",
    "    ep = epochs\n",
    "    print_every = math.floor(training_steps/print_frequency)\n",
    "    steps = 0\n",
    "    model.to(device)\n",
    "    model.train()\n",
    "    total = 0\n",
    "    correct = 0\n",
    "    best_val = 10000\n",
    "    \n",
    "    current_loss = 0\n",
    "    \n",
    "    for e in np.arange(ep):\n",
    "        for batch,(images,labels) in enumerate(trainloader):\n",
    "            steps += 1\n",
    "            images, labels = images.to(device), labels.to(device)\n",
    "            # convert images to float because weights are floats\n",
    "            images = images.float()\n",
    "            labels = labels.type(torch.long) # need to be int\n",
    "            \n",
    "            # calculate loss and backpropogate\n",
    "            optimizer.zero_grad()\n",
    "            outputs = model(images)\n",
    "            _,predictions = torch.max(outputs.data,1)\n",
    "            total += labels.size(0)\n",
    "            correct += (predictions == labels).sum().item()\n",
    "            loss = loss_fn(outputs,labels)\n",
    "            loss.backward()\n",
    "            optimizer.step()\n",
    "            \n",
    "            current_loss += loss.item()\n",
    "            progress_bar.update(1)\n",
    "            \n",
    "            if steps % print_every == 0:\n",
    "                print('EPOCHS : {}/{}'.format(e+1,epochs),\n",
    "                      'Loss : {:.6f}'.format(current_loss/print_every)) \n",
    "                print('The training accuracy is {:.2f}%'.format(correct/total*100))\n",
    "                current_loss = 0\n",
    "                val_loss = validate(model,valloader,loss_fn, device)\n",
    "                if val_loss < best_val:\n",
    "                    torch.save(model.state_dict(),\"Weights/part-{}-run-{}-Best.pth\".format(str(part),\n",
    "                                                                                           str(run)))\n",
    "    torch.save(model.state_dict(),\"Weights/part-{}-run-{}-Last.pth\".format(str(part),\n",
    "                                                                           str(run)))"
   ]
  },
  {
   "cell_type": "code",
   "execution_count": 25,
   "id": "1bb58508",
   "metadata": {},
   "outputs": [],
   "source": [
    "# extracting top predictions from original alex net\n",
    "def predict(model, valloader, loss_fn, device):\n",
    "    model.eval()\n",
    "    predictions_count = np.zeros(1000)\n",
    "    predictionss = []\n",
    "    true_labels = []\n",
    "    true_labels_count = np.zeros(10)\n",
    "    with torch.no_grad():\n",
    "        for batch, (images,labels) in enumerate(valloader):\n",
    "            images, labels = images.to(device), labels.to(device)\n",
    "            # convert images to float because weights are floats\n",
    "            images = images.float()\n",
    "            labels = labels.type(torch.long) # need to be int\n",
    "            outputs = model(images)\n",
    "            _, predictions = torch.max(outputs.data,1)\n",
    "            for i in predictions:\n",
    "                predictions_count[i] += 1\n",
    "            for i in labels:\n",
    "                true_labels_count[i] += 1\n",
    "            predictionss.extend(predictions.to(\"cpu\"))\n",
    "            true_labels.extend(labels.to(\"cpu\"))\n",
    "    return true_labels, predictionss, true_labels_count, predictions_count"
   ]
  },
  {
   "cell_type": "code",
   "execution_count": 23,
   "id": "db86a247",
   "metadata": {},
   "outputs": [],
   "source": [
    "#old\n",
    "def validate(model, valloader, loss_fn, device):\n",
    "    total = 0\n",
    "    correct = 0\n",
    "    val_loss = 0\n",
    "    model.eval()\n",
    "    steps = 0\n",
    "    with torch.no_grad():\n",
    "        for batch, (images,labels) in enumerate(valloader):\n",
    "            images, labels = images.to(device), labels.to(device)\n",
    "            # convert images to float because weights are floats\n",
    "            images = images.float()\n",
    "            labels = labels.type(torch.long) # need to be int\n",
    "            steps += 1\n",
    "            outputs = model(images)\n",
    "            _, predictions = torch.max(outputs.data,1)\n",
    "            total += labels.size(0)\n",
    "            correct += (labels == predictions).sum().item()\n",
    "            loss = loss_fn(outputs,labels)\n",
    "            val_loss += loss.item()\n",
    "    val_loss /= steps\n",
    "    accuracy = correct / total * 100\n",
    "    print(\"The validation loss is %.4f\" % (val_loss))\n",
    "    print('The valudation accuracy is {:.2f}%\\n'.format(accuracy))\n",
    "    return val_loss"
   ]
  },
  {
   "cell_type": "code",
   "execution_count": null,
   "id": "5bbc7229",
   "metadata": {},
   "outputs": [],
   "source": []
  },
  {
   "cell_type": "code",
   "execution_count": null,
   "id": "41793a9f",
   "metadata": {},
   "outputs": [],
   "source": []
  },
  {
   "cell_type": "code",
   "execution_count": null,
   "id": "80150338",
   "metadata": {},
   "outputs": [],
   "source": []
  },
  {
   "cell_type": "code",
   "execution_count": null,
   "id": "fc3144df",
   "metadata": {},
   "outputs": [],
   "source": []
  },
  {
   "cell_type": "markdown",
   "id": "bef0a3d4",
   "metadata": {},
   "source": [
    "# Part b)"
   ]
  },
  {
   "cell_type": "code",
   "execution_count": 18,
   "id": "d3611bff",
   "metadata": {},
   "outputs": [
    {
     "data": {
      "text/plain": [
       "AlexNet(\n",
       "  (features): Sequential(\n",
       "    (0): Conv2d(3, 64, kernel_size=(11, 11), stride=(4, 4), padding=(2, 2))\n",
       "    (1): ReLU(inplace=True)\n",
       "    (2): MaxPool2d(kernel_size=3, stride=2, padding=0, dilation=1, ceil_mode=False)\n",
       "    (3): Conv2d(64, 192, kernel_size=(5, 5), stride=(1, 1), padding=(2, 2))\n",
       "    (4): ReLU(inplace=True)\n",
       "    (5): MaxPool2d(kernel_size=3, stride=2, padding=0, dilation=1, ceil_mode=False)\n",
       "    (6): Conv2d(192, 384, kernel_size=(3, 3), stride=(1, 1), padding=(1, 1))\n",
       "    (7): ReLU(inplace=True)\n",
       "    (8): Conv2d(384, 256, kernel_size=(3, 3), stride=(1, 1), padding=(1, 1))\n",
       "    (9): ReLU(inplace=True)\n",
       "    (10): Conv2d(256, 256, kernel_size=(3, 3), stride=(1, 1), padding=(1, 1))\n",
       "    (11): ReLU(inplace=True)\n",
       "    (12): MaxPool2d(kernel_size=3, stride=2, padding=0, dilation=1, ceil_mode=False)\n",
       "  )\n",
       "  (avgpool): AdaptiveAvgPool2d(output_size=(6, 6))\n",
       "  (classifier): Sequential(\n",
       "    (0): Dropout(p=0.5, inplace=False)\n",
       "    (1): Linear(in_features=9216, out_features=4096, bias=True)\n",
       "    (2): ReLU(inplace=True)\n",
       "    (3): Dropout(p=0.5, inplace=False)\n",
       "    (4): Linear(in_features=4096, out_features=4096, bias=True)\n",
       "    (5): ReLU(inplace=True)\n",
       "    (6): Linear(in_features=4096, out_features=1000, bias=True)\n",
       "  )\n",
       ")"
      ]
     },
     "execution_count": 18,
     "metadata": {},
     "output_type": "execute_result"
    }
   ],
   "source": [
    "AlexNet = models.alexnet(pretrained=False)\n",
    "AlexNet.load_state_dict(torch.load(\"W://Study Material/Jupyter Notebook/Pretrained_Weights/alexnet-owt-7be5be79.pth\"))\n",
    "AlexNet.cuda()"
   ]
  },
  {
   "cell_type": "code",
   "execution_count": 26,
   "id": "888e6498",
   "metadata": {},
   "outputs": [],
   "source": [
    "# get predictions and true labels\n",
    "true_labels, predictionss, true_labels_count, predictions_count = predict(AlexNet, test_dataloader, \"loss\", \"cuda\")"
   ]
  },
  {
   "cell_type": "code",
   "execution_count": 28,
   "id": "5cc6f250",
   "metadata": {},
   "outputs": [
    {
     "name": "stdout",
     "output_type": "stream",
     "text": [
      "[901 680  80 351 190 556 111 653 813 712]\n",
      "[3023. 2226.  695.  501.  410.  343.  299.  297.  173.  172.]\n"
     ]
    }
   ],
   "source": [
    "# calculate top predictions\n",
    "top_predictions_idx =  predictions_count.argsort()[-10:][::-1]\n",
    "top_predictions_count = predictions_count[top_predictions_idx]\n",
    "print(top_predictions_idx)\n",
    "print(top_predictions_count)"
   ]
  },
  {
   "cell_type": "code",
   "execution_count": 32,
   "id": "32e5ddc8",
   "metadata": {},
   "outputs": [],
   "source": [
    "# read in the image net labels\n",
    "with open('imagenet_classes.txt') as f:\n",
    "    imgnet_labels = [line.strip() for line in f.readlines()]"
   ]
  },
  {
   "cell_type": "code",
   "execution_count": 33,
   "id": "3c85c921",
   "metadata": {},
   "outputs": [
    {
     "data": {
      "text/plain": [
       "['0, tench',\n",
       " '1, goldfish',\n",
       " '2, great_white_shark',\n",
       " '3, tiger_shark',\n",
       " '4, hammerhead',\n",
       " '5, electric_ray',\n",
       " '6, stingray',\n",
       " '7, cock',\n",
       " '8, hen',\n",
       " '9, ostrich']"
      ]
     },
     "execution_count": 33,
     "metadata": {},
     "output_type": "execute_result"
    }
   ],
   "source": [
    "imgnet_labels[:10]"
   ]
  },
  {
   "cell_type": "code",
   "execution_count": 34,
   "id": "1f342621",
   "metadata": {},
   "outputs": [
    {
     "data": {
      "text/plain": [
       "['901, whiskey_jug',\n",
       " '680, nipple',\n",
       " '80, black_grouse',\n",
       " '351, hartebeest',\n",
       " '190, Sealyham_terrier',\n",
       " '556, fire_screen',\n",
       " '111, nematode',\n",
       " '653, milk_can',\n",
       " '813, spatula',\n",
       " '712, Petri_dish']"
      ]
     },
     "execution_count": 34,
     "metadata": {},
     "output_type": "execute_result"
    }
   ],
   "source": [
    "top_classes = []\n",
    "for i in top_predictions_idx:\n",
    "    top_classes.append(imgnet_labels[i])\n",
    "\n",
    "top_classes"
   ]
  },
  {
   "cell_type": "code",
   "execution_count": 38,
   "id": "bd6c2a17",
   "metadata": {},
   "outputs": [],
   "source": [
    "predictions_np = np.array(predictionss)\n",
    "truelabel_np = np.array(true_labels)"
   ]
  },
  {
   "cell_type": "code",
   "execution_count": 39,
   "id": "d7204ca7",
   "metadata": {},
   "outputs": [
    {
     "data": {
      "text/plain": [
       "10000"
      ]
     },
     "execution_count": 39,
     "metadata": {},
     "output_type": "execute_result"
    }
   ],
   "source": []
  },
  {
   "cell_type": "markdown",
   "id": "6e8e2055",
   "metadata": {},
   "source": [
    "## confusion matrix"
   ]
  },
  {
   "cell_type": "code",
   "execution_count": 47,
   "id": "4fe4d491",
   "metadata": {},
   "outputs": [
    {
     "name": "stdout",
     "output_type": "stream",
     "text": [
      "8139\n"
     ]
    }
   ],
   "source": [
    "# Build confusion matrix\n",
    "from sklearn.metrics import confusion_matrix\n",
    "import seaborn as sn\n",
    "import pandas as pd\n",
    "\n",
    "predict_class = [imgnet_labels[i] for i in predictions_np]  \n",
    "\n",
    "indices = [] \n",
    "\n",
    "for idx,each in enumerate(predict_class):\n",
    "    if each in top_classes:\n",
    "        indices.append(idx)\n",
    "\n",
    "print(len(indices))\n",
    "\n",
    "predict_class = [top_classes.index(predict_class[i]) for i in indices] \n",
    "\n",
    "true_class = [truelabel_np[i] for i in indices] \n",
    "\n",
    "Matrix= confusion_matrix(true_class, predict_class)"
   ]
  },
  {
   "cell_type": "code",
   "execution_count": 71,
   "id": "255a8524",
   "metadata": {},
   "outputs": [],
   "source": [
    "# extract the names for the top predicted classes\n",
    "top_classes[0].split()[1]\n",
    "top_classes_names = [top_classes[i].split()[1] for i in np.arange(len(top_classes))]"
   ]
  },
  {
   "cell_type": "code",
   "execution_count": 72,
   "id": "587ec161",
   "metadata": {},
   "outputs": [
    {
     "data": {
      "image/png": "[encoded data removed]",
      "text/plain": [
       "<Figure size 1080x720 with 2 Axes>"
      ]
     },
     "metadata": {
      "needs_background": "light"
     },
     "output_type": "display_data"
    }
   ],
   "source": [
    "fig = plt.figure(figsize=(15,10))\n",
    "ax= plt.subplot()\n",
    "sn.heatmap(Matrix, annot=True, ax = ax, fmt = 'g');\n",
    "ax.set_xlabel('Predicted')\n",
    "plt.xticks(rotation=45)\n",
    "ax.xaxis.set_ticklabels(top_classes_names)\n",
    "ax.xaxis.tick_bottom()\n",
    "ax.set_ylabel('True')\n",
    "cifar_classes = ('Airplane', 'Car', 'Bird', 'Cat', 'Deer', 'Dog', 'Frog', 'Horse', 'Ship', 'Truck')\n",
    "ax.yaxis.set_ticklabels(cifar_classes)\n",
    "\n",
    "plt.savefig('cm.png')\n",
    "plt.show()\n"
   ]
  },
  {
   "cell_type": "code",
   "execution_count": null,
   "id": "2fb14f99",
   "metadata": {},
   "outputs": [],
   "source": []
  },
  {
   "cell_type": "code",
   "execution_count": null,
   "id": "ff8f7ef7",
   "metadata": {},
   "outputs": [],
   "source": []
  },
  {
   "cell_type": "code",
   "execution_count": null,
   "id": "b799fbdf",
   "metadata": {},
   "outputs": [],
   "source": []
  },
  {
   "cell_type": "code",
   "execution_count": null,
   "id": "f83ab0ca",
   "metadata": {},
   "outputs": [],
   "source": []
  },
  {
   "cell_type": "code",
   "execution_count": null,
   "id": "6638bf78",
   "metadata": {},
   "outputs": [],
   "source": []
  },
  {
   "cell_type": "code",
   "execution_count": null,
   "id": "c940ef91",
   "metadata": {},
   "outputs": [],
   "source": []
  },
  {
   "cell_type": "code",
   "execution_count": null,
   "id": "4ff0ecb1",
   "metadata": {},
   "outputs": [],
   "source": []
  },
  {
   "cell_type": "code",
   "execution_count": null,
   "id": "26b54448",
   "metadata": {},
   "outputs": [],
   "source": []
  },
  {
   "cell_type": "markdown",
   "id": "8a455dd7",
   "metadata": {},
   "source": [
    "# Part c)"
   ]
  },
  {
   "cell_type": "code",
   "execution_count": 59,
   "id": "c849fa3c",
   "metadata": {
    "scrolled": true
   },
   "outputs": [
    {
     "data": {
      "text/plain": [
       "AlexNet(\n",
       "  (features): Sequential(\n",
       "    (0): Conv2d(3, 64, kernel_size=(11, 11), stride=(4, 4), padding=(2, 2))\n",
       "    (1): ReLU(inplace=True)\n",
       "    (2): MaxPool2d(kernel_size=3, stride=2, padding=0, dilation=1, ceil_mode=False)\n",
       "    (3): Conv2d(64, 192, kernel_size=(5, 5), stride=(1, 1), padding=(2, 2))\n",
       "    (4): ReLU(inplace=True)\n",
       "    (5): MaxPool2d(kernel_size=3, stride=2, padding=0, dilation=1, ceil_mode=False)\n",
       "    (6): Conv2d(192, 384, kernel_size=(3, 3), stride=(1, 1), padding=(1, 1))\n",
       "    (7): ReLU(inplace=True)\n",
       "    (8): Conv2d(384, 256, kernel_size=(3, 3), stride=(1, 1), padding=(1, 1))\n",
       "    (9): ReLU(inplace=True)\n",
       "    (10): Conv2d(256, 256, kernel_size=(3, 3), stride=(1, 1), padding=(1, 1))\n",
       "    (11): ReLU(inplace=True)\n",
       "    (12): MaxPool2d(kernel_size=3, stride=2, padding=0, dilation=1, ceil_mode=False)\n",
       "  )\n",
       "  (avgpool): AdaptiveAvgPool2d(output_size=(6, 6))\n",
       "  (classifier): Sequential(\n",
       "    (0): Dropout(p=0.5, inplace=False)\n",
       "    (1): Linear(in_features=9216, out_features=4096, bias=True)\n",
       "    (2): ReLU(inplace=True)\n",
       "    (3): Dropout(p=0.5, inplace=False)\n",
       "    (4): Linear(in_features=4096, out_features=4096, bias=True)\n",
       "    (5): ReLU(inplace=True)\n",
       "    (6): Linear(in_features=4096, out_features=1000, bias=True)\n",
       "  )\n",
       ")"
      ]
     },
     "execution_count": 59,
     "metadata": {},
     "output_type": "execute_result"
    }
   ],
   "source": [
    "AlexNet2 = models.alexnet(pretrained=False)\n",
    "AlexNet2.load_state_dict(torch.load(\"W://Study Material/Jupyter Notebook/Pretrained_Weights/alexnet-owt-7be5be79.pth\"))\n",
    "AlexNet2.cuda()"
   ]
  },
  {
   "cell_type": "code",
   "execution_count": 60,
   "id": "6fb08029",
   "metadata": {
    "scrolled": true
   },
   "outputs": [
    {
     "name": "stdout",
     "output_type": "stream",
     "text": [
      "AlexNet(\n",
      "  (features): Sequential(\n",
      "    (0): Conv2d(3, 64, kernel_size=(11, 11), stride=(4, 4), padding=(2, 2))\n",
      "    (1): ReLU(inplace=True)\n",
      "    (2): MaxPool2d(kernel_size=3, stride=2, padding=0, dilation=1, ceil_mode=False)\n",
      "    (3): Conv2d(64, 192, kernel_size=(5, 5), stride=(1, 1), padding=(2, 2))\n",
      "    (4): ReLU(inplace=True)\n",
      "    (5): MaxPool2d(kernel_size=3, stride=2, padding=0, dilation=1, ceil_mode=False)\n",
      "    (6): Conv2d(192, 384, kernel_size=(3, 3), stride=(1, 1), padding=(1, 1))\n",
      "    (7): ReLU(inplace=True)\n",
      "    (8): Conv2d(384, 256, kernel_size=(3, 3), stride=(1, 1), padding=(1, 1))\n",
      "    (9): ReLU(inplace=True)\n",
      "    (10): Conv2d(256, 256, kernel_size=(3, 3), stride=(1, 1), padding=(1, 1))\n",
      "    (11): ReLU(inplace=True)\n",
      "    (12): MaxPool2d(kernel_size=3, stride=2, padding=0, dilation=1, ceil_mode=False)\n",
      "  )\n",
      "  (avgpool): AdaptiveAvgPool2d(output_size=(6, 6))\n",
      "  (classifier): Sequential(\n",
      "    (0): Dropout(p=0.5, inplace=False)\n",
      "    (1): Linear(in_features=9216, out_features=4096, bias=True)\n",
      "    (2): Linear(in_features=4096, out_features=10, bias=True)\n",
      "  )\n",
      ")\n"
     ]
    }
   ],
   "source": [
    "AlexNet2.classifier = nn.Sequential(\n",
    "    nn.Dropout(0.5,False),\n",
    "    nn.Linear(9216,4096,True),\n",
    "    nn.Linear(4096,10,True) # will train this layer\n",
    ")\n",
    "print(AlexNet2)"
   ]
  },
  {
   "cell_type": "code",
   "execution_count": 65,
   "id": "9b6d79d1",
   "metadata": {
    "scrolled": true
   },
   "outputs": [
    {
     "name": "stdout",
     "output_type": "stream",
     "text": [
      "features.0.weight\n",
      "False\n",
      "features.0.bias\n",
      "False\n",
      "features.3.weight\n",
      "False\n",
      "features.3.bias\n",
      "False\n",
      "features.6.weight\n",
      "False\n",
      "features.6.bias\n",
      "False\n",
      "features.8.weight\n",
      "False\n",
      "features.8.bias\n",
      "False\n",
      "features.10.weight\n",
      "False\n",
      "features.10.bias\n",
      "False\n",
      "classifier.1.weight\n",
      "False\n",
      "classifier.1.bias\n",
      "False\n",
      "classifier.2.weight\n",
      "True\n",
      "classifier.2.bias\n",
      "True\n"
     ]
    }
   ],
   "source": [
    "# freeze all layers except for the last one so that we only train the last layer (classifier)\n",
    "for name, param in AlexNet2.named_parameters():\n",
    "    if name != \"classifier.2.weight\" and name != \"classifier.2.bias\":\n",
    "        param.requires_grad = False\n",
    "    print(name)\n",
    "    print(param.requires_grad)"
   ]
  },
  {
   "cell_type": "code",
   "execution_count": null,
   "id": "9c3c9236",
   "metadata": {},
   "outputs": [],
   "source": []
  },
  {
   "cell_type": "code",
   "execution_count": 66,
   "id": "0e9cc847",
   "metadata": {},
   "outputs": [],
   "source": [
    "loss_fn = nn.CrossEntropyLoss()\n",
    "optimizer = optim.Adam(AlexNet2.parameters(),lr=1e-4)"
   ]
  },
  {
   "cell_type": "code",
   "execution_count": 67,
   "id": "9d19b52c",
   "metadata": {
    "scrolled": true
   },
   "outputs": [
    {
     "data": {
      "application/vnd.jupyter.widget-view+json": {
       "model_id": "8dfa51c4a23c48dfa8e42bb24a29b100",
       "version_major": 2,
       "version_minor": 0
      },
      "text/plain": [
       "  0%|          | 0/3130 [00:00<?, ?it/s]"
      ]
     },
     "metadata": {},
     "output_type": "display_data"
    },
    {
     "name": "stdout",
     "output_type": "stream",
     "text": [
      "EPOCHS : 1/10 Loss : 2.198151\n",
      "The training accuracy is 19.57%\n",
      "The validation loss is 2.0677\n",
      "The valudation accuracy is 30.33%\n",
      "\n",
      "EPOCHS : 1/10 Loss : 2.002858\n",
      "The training accuracy is 26.24%\n",
      "The validation loss is 1.9146\n",
      "The valudation accuracy is 30.71%\n",
      "\n",
      "EPOCHS : 2/10 Loss : 1.904387\n",
      "The training accuracy is 29.28%\n",
      "The validation loss is 1.7687\n",
      "The valudation accuracy is 42.49%\n",
      "\n",
      "EPOCHS : 2/10 Loss : 1.831361\n",
      "The training accuracy is 31.36%\n",
      "The validation loss is 1.6840\n",
      "The valudation accuracy is 41.31%\n",
      "\n",
      "EPOCHS : 3/10 Loss : 1.779761\n",
      "The training accuracy is 32.89%\n",
      "The validation loss is 1.6018\n",
      "The valudation accuracy is 45.18%\n",
      "\n",
      "EPOCHS : 3/10 Loss : 1.756415\n",
      "The training accuracy is 33.99%\n",
      "The validation loss is 1.5451\n",
      "The valudation accuracy is 48.27%\n",
      "\n",
      "EPOCHS : 4/10 Loss : 1.729908\n",
      "The training accuracy is 34.91%\n",
      "The validation loss is 1.4876\n",
      "The valudation accuracy is 51.47%\n",
      "\n",
      "EPOCHS : 4/10 Loss : 1.691144\n",
      "The training accuracy is 35.75%\n",
      "The validation loss is 1.4576\n",
      "The valudation accuracy is 51.86%\n",
      "\n",
      "EPOCHS : 5/10 Loss : 1.676046\n",
      "The training accuracy is 36.46%\n",
      "The validation loss is 1.4294\n",
      "The valudation accuracy is 52.78%\n",
      "\n",
      "EPOCHS : 5/10 Loss : 1.657073\n",
      "The training accuracy is 37.06%\n",
      "The validation loss is 1.4069\n",
      "The valudation accuracy is 51.91%\n",
      "\n",
      "EPOCHS : 6/10 Loss : 1.653102\n",
      "The training accuracy is 37.57%\n",
      "The validation loss is 1.3728\n",
      "The valudation accuracy is 53.75%\n",
      "\n",
      "EPOCHS : 6/10 Loss : 1.635156\n",
      "The training accuracy is 38.03%\n",
      "The validation loss is 1.3550\n",
      "The valudation accuracy is 54.17%\n",
      "\n",
      "EPOCHS : 7/10 Loss : 1.627850\n",
      "The training accuracy is 38.42%\n",
      "The validation loss is 1.3316\n",
      "The valudation accuracy is 55.32%\n",
      "\n",
      "EPOCHS : 7/10 Loss : 1.614846\n",
      "The training accuracy is 38.78%\n",
      "The validation loss is 1.3204\n",
      "The valudation accuracy is 56.26%\n",
      "\n",
      "EPOCHS : 8/10 Loss : 1.607044\n",
      "The training accuracy is 39.14%\n",
      "The validation loss is 1.2860\n",
      "The valudation accuracy is 57.44%\n",
      "\n",
      "EPOCHS : 8/10 Loss : 1.592130\n",
      "The training accuracy is 39.50%\n",
      "The validation loss is 1.2763\n",
      "The valudation accuracy is 57.20%\n",
      "\n",
      "EPOCHS : 9/10 Loss : 1.591540\n",
      "The training accuracy is 39.80%\n",
      "The validation loss is 1.2630\n",
      "The valudation accuracy is 58.09%\n",
      "\n",
      "EPOCHS : 9/10 Loss : 1.566804\n",
      "The training accuracy is 40.13%\n",
      "The validation loss is 1.2452\n",
      "The valudation accuracy is 58.62%\n",
      "\n",
      "EPOCHS : 10/10 Loss : 1.567773\n",
      "The training accuracy is 40.40%\n",
      "The validation loss is 1.2446\n",
      "The valudation accuracy is 58.29%\n",
      "\n",
      "EPOCHS : 10/10 Loss : 1.574220\n",
      "The training accuracy is 40.64%\n",
      "The validation loss is 1.2344\n",
      "The valudation accuracy is 58.63%\n",
      "\n"
     ]
    }
   ],
   "source": [
    "train(AlexNet2,train_dataloader,val_dataloader,10,20,loss_fn,optimizer,\"cuda\",1,\"c\")"
   ]
  },
  {
   "cell_type": "code",
   "execution_count": 30,
   "id": "06758a72",
   "metadata": {
    "scrolled": true
   },
   "outputs": [
    {
     "data": {
      "application/vnd.jupyter.widget-view+json": {
       "model_id": "113d6ee37f984d4a89f2d1ea7ee3a739",
       "version_major": 2,
       "version_minor": 0
      },
      "text/plain": [
       "  0%|          | 0/3130 [00:00<?, ?it/s]"
      ]
     },
     "metadata": {},
     "output_type": "display_data"
    },
    {
     "name": "stdout",
     "output_type": "stream",
     "text": [
      "EPOCHS : 1/10 Loss : 0.983893\n",
      "The training accuracy is 65.21%\n",
      "The validation loss is 0.4936\n",
      "The valudation accuracy is 83.12%\n",
      "\n",
      "EPOCHS : 1/10 Loss : 0.904120\n",
      "The training accuracy is 66.81%\n",
      "The validation loss is 0.4828\n",
      "The valudation accuracy is 83.32%\n",
      "\n",
      "EPOCHS : 2/10 Loss : 0.906161\n",
      "The training accuracy is 67.25%\n",
      "The validation loss is 0.4769\n",
      "The valudation accuracy is 83.34%\n",
      "\n",
      "EPOCHS : 2/10 Loss : 0.900338\n",
      "The training accuracy is 67.54%\n",
      "The validation loss is 0.4763\n",
      "The valudation accuracy is 83.48%\n",
      "\n",
      "EPOCHS : 3/10 Loss : 0.921114\n",
      "The training accuracy is 67.56%\n",
      "The validation loss is 0.4737\n",
      "The valudation accuracy is 83.46%\n",
      "\n",
      "EPOCHS : 3/10 Loss : 0.895418\n",
      "The training accuracy is 67.72%\n",
      "The validation loss is 0.4758\n",
      "The valudation accuracy is 83.38%\n",
      "\n",
      "EPOCHS : 4/10 Loss : 0.905156\n",
      "The training accuracy is 67.83%\n",
      "The validation loss is 0.4768\n",
      "The valudation accuracy is 83.53%\n",
      "\n",
      "EPOCHS : 4/10 Loss : 0.887147\n",
      "The training accuracy is 67.99%\n",
      "The validation loss is 0.4795\n",
      "The valudation accuracy is 83.49%\n",
      "\n",
      "EPOCHS : 5/10 Loss : 0.894696\n",
      "The training accuracy is 68.05%\n",
      "The validation loss is 0.4749\n",
      "The valudation accuracy is 83.54%\n",
      "\n",
      "EPOCHS : 5/10 Loss : 0.898819\n",
      "The training accuracy is 68.12%\n",
      "The validation loss is 0.4786\n",
      "The valudation accuracy is 83.61%\n",
      "\n",
      "EPOCHS : 6/10 Loss : 0.897295\n",
      "The training accuracy is 68.15%\n",
      "The validation loss is 0.4721\n",
      "The valudation accuracy is 83.72%\n",
      "\n",
      "EPOCHS : 6/10 Loss : 0.907410\n",
      "The training accuracy is 68.16%\n",
      "The validation loss is 0.4769\n",
      "The valudation accuracy is 83.68%\n",
      "\n",
      "EPOCHS : 7/10 Loss : 0.901949\n",
      "The training accuracy is 68.16%\n",
      "The validation loss is 0.4778\n",
      "The valudation accuracy is 83.59%\n",
      "\n",
      "EPOCHS : 7/10 Loss : 0.892131\n",
      "The training accuracy is 68.21%\n",
      "The validation loss is 0.4749\n",
      "The valudation accuracy is 83.58%\n",
      "\n",
      "EPOCHS : 8/10 Loss : 0.893424\n",
      "The training accuracy is 68.25%\n",
      "The validation loss is 0.4760\n",
      "The valudation accuracy is 83.66%\n",
      "\n",
      "EPOCHS : 8/10 Loss : 0.907078\n",
      "The training accuracy is 68.25%\n",
      "The validation loss is 0.4715\n",
      "The valudation accuracy is 83.68%\n",
      "\n",
      "EPOCHS : 9/10 Loss : 0.907165\n",
      "The training accuracy is 68.24%\n",
      "The validation loss is 0.4700\n",
      "The valudation accuracy is 83.64%\n",
      "\n",
      "EPOCHS : 9/10 Loss : 0.888679\n",
      "The training accuracy is 68.26%\n",
      "The validation loss is 0.4740\n",
      "The valudation accuracy is 83.61%\n",
      "\n",
      "EPOCHS : 10/10 Loss : 0.898744\n",
      "The training accuracy is 68.29%\n",
      "The validation loss is 0.4734\n",
      "The valudation accuracy is 83.69%\n",
      "\n",
      "EPOCHS : 10/10 Loss : 0.893277\n",
      "The training accuracy is 68.30%\n",
      "The validation loss is 0.4694\n",
      "The valudation accuracy is 83.58%\n",
      "\n"
     ]
    }
   ],
   "source": [
    "optimizer = optim.Adam(AlexNet2.parameters(),lr=1e-6)\n",
    "train(AlexNet2,train_dataloader,val_dataloader,10,20,loss_fn,optimizer,\"cuda\",2,\"c\")"
   ]
  },
  {
   "cell_type": "code",
   "execution_count": 31,
   "id": "d563de2c",
   "metadata": {
    "scrolled": true
   },
   "outputs": [
    {
     "data": {
      "application/vnd.jupyter.widget-view+json": {
       "model_id": "e816a42f3d764b7a812ab849890a7d09",
       "version_major": 2,
       "version_minor": 0
      },
      "text/plain": [
       "  0%|          | 0/3130 [00:00<?, ?it/s]"
      ]
     },
     "metadata": {},
     "output_type": "display_data"
    },
    {
     "name": "stdout",
     "output_type": "stream",
     "text": [
      "EPOCHS : 1/10 Loss : 0.960729\n",
      "The training accuracy is 65.96%\n",
      "The validation loss is 0.4728\n",
      "The valudation accuracy is 83.51%\n",
      "\n",
      "EPOCHS : 1/10 Loss : 0.884539\n",
      "The training accuracy is 67.56%\n",
      "The validation loss is 0.4713\n",
      "The valudation accuracy is 83.52%\n",
      "\n",
      "EPOCHS : 2/10 Loss : 0.894978\n",
      "The training accuracy is 67.94%\n",
      "The validation loss is 0.4709\n",
      "The valudation accuracy is 83.56%\n",
      "\n",
      "EPOCHS : 2/10 Loss : 0.900989\n",
      "The training accuracy is 68.03%\n",
      "The validation loss is 0.4811\n",
      "The valudation accuracy is 83.58%\n",
      "\n",
      "EPOCHS : 3/10 Loss : 0.895619\n",
      "The training accuracy is 68.20%\n",
      "The validation loss is 0.4710\n",
      "The valudation accuracy is 83.62%\n",
      "\n",
      "EPOCHS : 3/10 Loss : 0.904552\n",
      "The training accuracy is 68.23%\n",
      "The validation loss is 0.4682\n",
      "The valudation accuracy is 83.59%\n",
      "\n",
      "EPOCHS : 4/10 Loss : 0.898023\n",
      "The training accuracy is 68.27%\n",
      "The validation loss is 0.4718\n",
      "The valudation accuracy is 83.64%\n",
      "\n",
      "EPOCHS : 4/10 Loss : 0.896598\n",
      "The training accuracy is 68.29%\n",
      "The validation loss is 0.4702\n",
      "The valudation accuracy is 83.62%\n",
      "\n",
      "EPOCHS : 5/10 Loss : 0.886057\n",
      "The training accuracy is 68.36%\n",
      "The validation loss is 0.4696\n",
      "The valudation accuracy is 83.62%\n",
      "\n",
      "EPOCHS : 5/10 Loss : 0.891967\n",
      "The training accuracy is 68.42%\n",
      "The validation loss is 0.4730\n",
      "The valudation accuracy is 83.62%\n",
      "\n",
      "EPOCHS : 6/10 Loss : 0.902300\n",
      "The training accuracy is 68.40%\n",
      "The validation loss is 0.4713\n",
      "The valudation accuracy is 83.61%\n",
      "\n",
      "EPOCHS : 6/10 Loss : 0.888475\n",
      "The training accuracy is 68.45%\n",
      "The validation loss is 0.4702\n",
      "The valudation accuracy is 83.65%\n",
      "\n",
      "EPOCHS : 7/10 Loss : 0.886854\n",
      "The training accuracy is 68.51%\n",
      "The validation loss is 0.4714\n",
      "The valudation accuracy is 83.63%\n",
      "\n",
      "EPOCHS : 7/10 Loss : 0.900989\n",
      "The training accuracy is 68.50%\n",
      "The validation loss is 0.4767\n",
      "The valudation accuracy is 83.65%\n",
      "\n",
      "EPOCHS : 8/10 Loss : 0.898051\n",
      "The training accuracy is 68.50%\n",
      "The validation loss is 0.4729\n",
      "The valudation accuracy is 83.66%\n",
      "\n",
      "EPOCHS : 8/10 Loss : 0.888562\n",
      "The training accuracy is 68.51%\n",
      "The validation loss is 0.4689\n",
      "The valudation accuracy is 83.66%\n",
      "\n",
      "EPOCHS : 9/10 Loss : 0.882809\n",
      "The training accuracy is 68.55%\n",
      "The validation loss is 0.4671\n",
      "The valudation accuracy is 83.67%\n",
      "\n",
      "EPOCHS : 9/10 Loss : 0.898687\n",
      "The training accuracy is 68.53%\n",
      "The validation loss is 0.4736\n",
      "The valudation accuracy is 83.69%\n",
      "\n",
      "EPOCHS : 10/10 Loss : 0.892271\n",
      "The training accuracy is 68.54%\n",
      "The validation loss is 0.4707\n",
      "The valudation accuracy is 83.68%\n",
      "\n",
      "EPOCHS : 10/10 Loss : 0.904148\n",
      "The training accuracy is 68.52%\n",
      "The validation loss is 0.4711\n",
      "The valudation accuracy is 83.65%\n",
      "\n"
     ]
    }
   ],
   "source": [
    "optimizer = optim.Adam(AlexNet2.parameters(),lr=1e-8)\n",
    "#AlexNet.load_state_dict(torch.load(\"Weights/part-c-run-2-Best.pth\"))\n",
    "train(AlexNet2,train_dataloader,val_dataloader,10,20,loss_fn,optimizer,\"cuda\",3,\"c\")"
   ]
  },
  {
   "cell_type": "code",
   "execution_count": null,
   "id": "43c38748",
   "metadata": {},
   "outputs": [],
   "source": []
  },
  {
   "cell_type": "code",
   "execution_count": 48,
   "id": "1e47e74d",
   "metadata": {},
   "outputs": [
    {
     "data": {
      "text/plain": [
       "<All keys matched successfully>"
      ]
     },
     "execution_count": 48,
     "metadata": {},
     "output_type": "execute_result"
    }
   ],
   "source": [
    "AlexNet2.load_state_dict(torch.load(\"Weights/part-c-run-3-Best.pth\"))"
   ]
  },
  {
   "cell_type": "code",
   "execution_count": 51,
   "id": "70c16301",
   "metadata": {},
   "outputs": [
    {
     "name": "stdout",
     "output_type": "stream",
     "text": [
      "The validation loss is 0.4810\n",
      "The valudation accuracy is 83.54%\n",
      "\n"
     ]
    }
   ],
   "source": [
    "AlexNet2.cuda()\n",
    "val_loss = validate(AlexNet2, test_dataloader, loss_fn, \"cuda\")"
   ]
  },
  {
   "cell_type": "code",
   "execution_count": null,
   "id": "9c682398",
   "metadata": {},
   "outputs": [],
   "source": []
  },
  {
   "cell_type": "markdown",
   "id": "2e144b63",
   "metadata": {},
   "source": [
    "# Part d)"
   ]
  },
  {
   "cell_type": "code",
   "execution_count": 32,
   "id": "f5743b6b",
   "metadata": {},
   "outputs": [
    {
     "data": {
      "text/plain": [
       "AlexNet(\n",
       "  (features): Sequential(\n",
       "    (0): Conv2d(3, 64, kernel_size=(11, 11), stride=(4, 4), padding=(2, 2))\n",
       "    (1): ReLU(inplace=True)\n",
       "    (2): MaxPool2d(kernel_size=3, stride=2, padding=0, dilation=1, ceil_mode=False)\n",
       "    (3): Conv2d(64, 192, kernel_size=(5, 5), stride=(1, 1), padding=(2, 2))\n",
       "    (4): ReLU(inplace=True)\n",
       "    (5): MaxPool2d(kernel_size=3, stride=2, padding=0, dilation=1, ceil_mode=False)\n",
       "    (6): Conv2d(192, 384, kernel_size=(3, 3), stride=(1, 1), padding=(1, 1))\n",
       "    (7): ReLU(inplace=True)\n",
       "    (8): Conv2d(384, 256, kernel_size=(3, 3), stride=(1, 1), padding=(1, 1))\n",
       "    (9): ReLU(inplace=True)\n",
       "    (10): Conv2d(256, 256, kernel_size=(3, 3), stride=(1, 1), padding=(1, 1))\n",
       "    (11): ReLU(inplace=True)\n",
       "    (12): MaxPool2d(kernel_size=3, stride=2, padding=0, dilation=1, ceil_mode=False)\n",
       "  )\n",
       "  (avgpool): AdaptiveAvgPool2d(output_size=(6, 6))\n",
       "  (classifier): Sequential(\n",
       "    (0): Dropout(p=0.5, inplace=False)\n",
       "    (1): Linear(in_features=9216, out_features=4096, bias=True)\n",
       "    (2): ReLU(inplace=True)\n",
       "    (3): Dropout(p=0.5, inplace=False)\n",
       "    (4): Linear(in_features=4096, out_features=4096, bias=True)\n",
       "    (5): ReLU(inplace=True)\n",
       "    (6): Linear(in_features=4096, out_features=1000, bias=True)\n",
       "  )\n",
       ")"
      ]
     },
     "execution_count": 32,
     "metadata": {},
     "output_type": "execute_result"
    }
   ],
   "source": [
    "AlexNet3 = models.alexnet(pretrained=False)\n",
    "AlexNet3.load_state_dict(torch.load(\"W://Study Material/Jupyter Notebook/Pretrained_Weights/alexnet-owt-7be5be79.pth\"))\n",
    "AlexNet3.cuda()"
   ]
  },
  {
   "cell_type": "code",
   "execution_count": 34,
   "id": "45e3f38a",
   "metadata": {},
   "outputs": [
    {
     "name": "stdout",
     "output_type": "stream",
     "text": [
      "AlexNet(\n",
      "  (features): Sequential(\n",
      "    (0): Conv2d(3, 64, kernel_size=(11, 11), stride=(4, 4), padding=(2, 2))\n",
      "    (1): ReLU(inplace=True)\n",
      "    (2): MaxPool2d(kernel_size=3, stride=2, padding=0, dilation=1, ceil_mode=False)\n",
      "    (3): Conv2d(64, 192, kernel_size=(5, 5), stride=(1, 1), padding=(2, 2))\n",
      "    (4): ReLU(inplace=True)\n",
      "    (5): MaxPool2d(kernel_size=3, stride=2, padding=0, dilation=1, ceil_mode=False)\n",
      "    (6): Conv2d(192, 384, kernel_size=(3, 3), stride=(1, 1), padding=(1, 1))\n",
      "    (7): ReLU(inplace=True)\n",
      "    (8): Conv2d(384, 256, kernel_size=(3, 3), stride=(1, 1), padding=(1, 1))\n",
      "    (9): ReLU(inplace=True)\n",
      "    (10): Conv2d(256, 256, kernel_size=(3, 3), stride=(1, 1), padding=(1, 1))\n",
      "    (11): ReLU(inplace=True)\n",
      "    (12): MaxPool2d(kernel_size=3, stride=2, padding=0, dilation=1, ceil_mode=False)\n",
      "  )\n",
      "  (avgpool): AdaptiveAvgPool2d(output_size=(6, 6))\n",
      "  (classifier): Sequential(\n",
      "    (0): Dropout(p=0.5, inplace=False)\n",
      "    (1): Linear(in_features=9216, out_features=4096, bias=True)\n",
      "    (2): ReLU(inplace=True)\n",
      "    (3): Dropout(p=0.5, inplace=False)\n",
      "    (4): Linear(in_features=4096, out_features=4096, bias=True)\n",
      "    (5): ReLU(inplace=True)\n",
      "    (6): Linear(in_features=4096, out_features=10, bias=True)\n",
      "  )\n",
      ")\n"
     ]
    }
   ],
   "source": [
    "AlexNet3.classifier[6] = nn.Linear(4096,10,True)\n",
    "print(AlexNet3)"
   ]
  },
  {
   "cell_type": "code",
   "execution_count": 35,
   "id": "987d99e3",
   "metadata": {},
   "outputs": [],
   "source": [
    "loss_fn = nn.CrossEntropyLoss()\n",
    "optimizer = optim.Adam(AlexNet3.parameters(),lr=1e-5)"
   ]
  },
  {
   "cell_type": "code",
   "execution_count": 36,
   "id": "5673cdfe",
   "metadata": {
    "scrolled": true
   },
   "outputs": [
    {
     "data": {
      "application/vnd.jupyter.widget-view+json": {
       "model_id": "89a8697c307a490a87fd579b2ff75f49",
       "version_major": 2,
       "version_minor": 0
      },
      "text/plain": [
       "  0%|          | 0/3130 [00:00<?, ?it/s]"
      ]
     },
     "metadata": {},
     "output_type": "display_data"
    },
    {
     "name": "stdout",
     "output_type": "stream",
     "text": [
      "EPOCHS : 1/10 Loss : 1.850561\n",
      "The training accuracy is 32.47%\n",
      "The validation loss is 1.2623\n",
      "The valudation accuracy is 55.76%\n",
      "\n",
      "EPOCHS : 1/10 Loss : 1.405315\n",
      "The training accuracy is 40.75%\n",
      "The validation loss is 0.9747\n",
      "The valudation accuracy is 65.92%\n",
      "\n",
      "EPOCHS : 2/10 Loss : 1.257076\n",
      "The training accuracy is 45.55%\n",
      "The validation loss is 0.8586\n",
      "The valudation accuracy is 69.45%\n",
      "\n",
      "EPOCHS : 2/10 Loss : 1.177570\n",
      "The training accuracy is 48.66%\n",
      "The validation loss is 0.7658\n",
      "The valudation accuracy is 73.17%\n",
      "\n",
      "EPOCHS : 3/10 Loss : 1.127938\n",
      "The training accuracy is 50.88%\n",
      "The validation loss is 0.6838\n",
      "The valudation accuracy is 76.32%\n",
      "\n",
      "EPOCHS : 3/10 Loss : 1.089887\n",
      "The training accuracy is 52.55%\n",
      "The validation loss is 0.6361\n",
      "The valudation accuracy is 78.05%\n",
      "\n",
      "EPOCHS : 4/10 Loss : 1.061739\n",
      "The training accuracy is 53.94%\n",
      "The validation loss is 0.6482\n",
      "The valudation accuracy is 77.48%\n",
      "\n",
      "EPOCHS : 4/10 Loss : 1.048316\n",
      "The training accuracy is 55.06%\n",
      "The validation loss is 0.5840\n",
      "The valudation accuracy is 79.73%\n",
      "\n",
      "EPOCHS : 5/10 Loss : 1.028207\n",
      "The training accuracy is 56.01%\n",
      "The validation loss is 0.5783\n",
      "The valudation accuracy is 79.75%\n",
      "\n",
      "EPOCHS : 5/10 Loss : 0.997779\n",
      "The training accuracy is 56.87%\n",
      "The validation loss is 0.5529\n",
      "The valudation accuracy is 80.76%\n",
      "\n",
      "EPOCHS : 6/10 Loss : 0.981257\n",
      "The training accuracy is 57.63%\n",
      "The validation loss is 0.5608\n",
      "The valudation accuracy is 80.42%\n",
      "\n",
      "EPOCHS : 6/10 Loss : 0.972149\n",
      "The training accuracy is 58.28%\n",
      "The validation loss is 0.5433\n",
      "The valudation accuracy is 81.03%\n",
      "\n",
      "EPOCHS : 7/10 Loss : 0.949519\n",
      "The training accuracy is 58.90%\n",
      "The validation loss is 0.5389\n",
      "The valudation accuracy is 81.30%\n",
      "\n",
      "EPOCHS : 7/10 Loss : 0.933250\n",
      "The training accuracy is 59.49%\n",
      "The validation loss is 0.5344\n",
      "The valudation accuracy is 81.23%\n",
      "\n",
      "EPOCHS : 8/10 Loss : 0.917924\n",
      "The training accuracy is 60.05%\n",
      "The validation loss is 0.5027\n",
      "The valudation accuracy is 82.17%\n",
      "\n",
      "EPOCHS : 8/10 Loss : 0.908061\n",
      "The training accuracy is 60.55%\n",
      "The validation loss is 0.4832\n",
      "The valudation accuracy is 83.11%\n",
      "\n",
      "EPOCHS : 9/10 Loss : 0.900666\n",
      "The training accuracy is 60.99%\n",
      "The validation loss is 0.4841\n",
      "The valudation accuracy is 83.14%\n",
      "\n",
      "EPOCHS : 9/10 Loss : 0.893229\n",
      "The training accuracy is 61.41%\n",
      "The validation loss is 0.4815\n",
      "The valudation accuracy is 83.27%\n",
      "\n",
      "EPOCHS : 10/10 Loss : 0.887517\n",
      "The training accuracy is 61.80%\n",
      "The validation loss is 0.4666\n",
      "The valudation accuracy is 83.78%\n",
      "\n",
      "EPOCHS : 10/10 Loss : 0.872435\n",
      "The training accuracy is 62.16%\n",
      "The validation loss is 0.4633\n",
      "The valudation accuracy is 83.90%\n",
      "\n"
     ]
    }
   ],
   "source": [
    "train(AlexNet3,train_dataloader,val_dataloader,10,20,loss_fn,optimizer,\"cuda\",1,\"d\")"
   ]
  },
  {
   "cell_type": "code",
   "execution_count": 37,
   "id": "1614ae00",
   "metadata": {
    "scrolled": true
   },
   "outputs": [
    {
     "data": {
      "application/vnd.jupyter.widget-view+json": {
       "model_id": "6ac5bc614d0241e78414c669d1ba736e",
       "version_major": 2,
       "version_minor": 0
      },
      "text/plain": [
       "  0%|          | 0/3130 [00:00<?, ?it/s]"
      ]
     },
     "metadata": {},
     "output_type": "display_data"
    },
    {
     "name": "stdout",
     "output_type": "stream",
     "text": [
      "EPOCHS : 1/10 Loss : 1.000398\n",
      "The training accuracy is 64.65%\n",
      "The validation loss is 0.4515\n",
      "The valudation accuracy is 84.18%\n",
      "\n",
      "EPOCHS : 1/10 Loss : 0.840051\n",
      "The training accuracy is 67.60%\n",
      "The validation loss is 0.4455\n",
      "The valudation accuracy is 84.52%\n",
      "\n",
      "EPOCHS : 2/10 Loss : 0.841163\n",
      "The training accuracy is 68.52%\n",
      "The validation loss is 0.4427\n",
      "The valudation accuracy is 84.39%\n",
      "\n",
      "EPOCHS : 2/10 Loss : 0.834193\n",
      "The training accuracy is 69.07%\n",
      "The validation loss is 0.4453\n",
      "The valudation accuracy is 84.51%\n",
      "\n",
      "EPOCHS : 3/10 Loss : 0.842139\n",
      "The training accuracy is 69.33%\n",
      "The validation loss is 0.4452\n",
      "The valudation accuracy is 84.52%\n",
      "\n",
      "EPOCHS : 3/10 Loss : 0.832247\n",
      "The training accuracy is 69.59%\n",
      "The validation loss is 0.4508\n",
      "The valudation accuracy is 84.45%\n",
      "\n",
      "EPOCHS : 4/10 Loss : 0.829938\n",
      "The training accuracy is 69.76%\n",
      "The validation loss is 0.4495\n",
      "The valudation accuracy is 84.32%\n",
      "\n",
      "EPOCHS : 4/10 Loss : 0.840508\n",
      "The training accuracy is 69.87%\n",
      "The validation loss is 0.4373\n",
      "The valudation accuracy is 84.74%\n",
      "\n",
      "EPOCHS : 5/10 Loss : 0.830376\n",
      "The training accuracy is 69.95%\n",
      "The validation loss is 0.4497\n",
      "The valudation accuracy is 84.30%\n",
      "\n",
      "EPOCHS : 5/10 Loss : 0.828192\n",
      "The training accuracy is 70.06%\n",
      "The validation loss is 0.4463\n",
      "The valudation accuracy is 84.54%\n",
      "\n",
      "EPOCHS : 6/10 Loss : 0.817075\n",
      "The training accuracy is 70.18%\n",
      "The validation loss is 0.4493\n",
      "The valudation accuracy is 84.43%\n",
      "\n",
      "EPOCHS : 6/10 Loss : 0.840949\n",
      "The training accuracy is 70.18%\n",
      "The validation loss is 0.4396\n",
      "The valudation accuracy is 84.62%\n",
      "\n",
      "EPOCHS : 7/10 Loss : 0.830831\n",
      "The training accuracy is 70.21%\n",
      "The validation loss is 0.4396\n",
      "The valudation accuracy is 84.62%\n",
      "\n",
      "EPOCHS : 7/10 Loss : 0.815412\n",
      "The training accuracy is 70.30%\n",
      "The validation loss is 0.4503\n",
      "The valudation accuracy is 84.29%\n",
      "\n",
      "EPOCHS : 8/10 Loss : 0.811264\n",
      "The training accuracy is 70.35%\n",
      "The validation loss is 0.4431\n",
      "The valudation accuracy is 84.75%\n",
      "\n",
      "EPOCHS : 8/10 Loss : 0.815634\n",
      "The training accuracy is 70.40%\n",
      "The validation loss is 0.4378\n",
      "The valudation accuracy is 84.83%\n",
      "\n",
      "EPOCHS : 9/10 Loss : 0.819109\n",
      "The training accuracy is 70.46%\n",
      "The validation loss is 0.4370\n",
      "The valudation accuracy is 84.89%\n",
      "\n",
      "EPOCHS : 9/10 Loss : 0.816168\n",
      "The training accuracy is 70.52%\n",
      "The validation loss is 0.4373\n",
      "The valudation accuracy is 84.64%\n",
      "\n",
      "EPOCHS : 10/10 Loss : 0.823191\n",
      "The training accuracy is 70.53%\n",
      "The validation loss is 0.4414\n",
      "The valudation accuracy is 84.70%\n",
      "\n",
      "EPOCHS : 10/10 Loss : 0.817268\n",
      "The training accuracy is 70.57%\n",
      "The validation loss is 0.4332\n",
      "The valudation accuracy is 84.92%\n",
      "\n"
     ]
    }
   ],
   "source": [
    "optimizer = optim.Adam(AlexNet3.parameters(),lr=1e-6)\n",
    "train(AlexNet3,train_dataloader,val_dataloader,10,20,loss_fn,optimizer,\"cuda\",2,\"d\")"
   ]
  },
  {
   "cell_type": "code",
   "execution_count": 38,
   "id": "4546a846",
   "metadata": {
    "scrolled": true
   },
   "outputs": [
    {
     "data": {
      "application/vnd.jupyter.widget-view+json": {
       "model_id": "0926d574551a4a30885288bbd65350a1",
       "version_major": 2,
       "version_minor": 0
      },
      "text/plain": [
       "  0%|          | 0/3130 [00:00<?, ?it/s]"
      ]
     },
     "metadata": {},
     "output_type": "display_data"
    },
    {
     "name": "stdout",
     "output_type": "stream",
     "text": [
      "EPOCHS : 1/10 Loss : 0.991773\n",
      "The training accuracy is 64.99%\n",
      "The validation loss is 0.4360\n",
      "The valudation accuracy is 84.82%\n",
      "\n",
      "EPOCHS : 1/10 Loss : 0.805074\n",
      "The training accuracy is 68.39%\n",
      "The validation loss is 0.4337\n",
      "The valudation accuracy is 84.83%\n",
      "\n",
      "EPOCHS : 2/10 Loss : 0.811057\n",
      "The training accuracy is 69.44%\n",
      "The validation loss is 0.4410\n",
      "The valudation accuracy is 84.85%\n",
      "\n",
      "EPOCHS : 2/10 Loss : 0.822433\n",
      "The training accuracy is 69.90%\n",
      "The validation loss is 0.4325\n",
      "The valudation accuracy is 84.87%\n",
      "\n",
      "EPOCHS : 3/10 Loss : 0.820671\n",
      "The training accuracy is 70.17%\n",
      "The validation loss is 0.4350\n",
      "The valudation accuracy is 84.86%\n",
      "\n",
      "EPOCHS : 3/10 Loss : 0.810344\n",
      "The training accuracy is 70.41%\n",
      "The validation loss is 0.4347\n",
      "The valudation accuracy is 84.86%\n",
      "\n",
      "EPOCHS : 4/10 Loss : 0.813434\n",
      "The training accuracy is 70.58%\n",
      "The validation loss is 0.4321\n",
      "The valudation accuracy is 84.92%\n",
      "\n",
      "EPOCHS : 4/10 Loss : 0.816192\n",
      "The training accuracy is 70.63%\n",
      "The validation loss is 0.4329\n",
      "The valudation accuracy is 84.91%\n",
      "\n",
      "EPOCHS : 5/10 Loss : 0.803453\n",
      "The training accuracy is 70.76%\n",
      "The validation loss is 0.4387\n",
      "The valudation accuracy is 84.91%\n",
      "\n",
      "EPOCHS : 5/10 Loss : 0.815467\n",
      "The training accuracy is 70.82%\n",
      "The validation loss is 0.4337\n",
      "The valudation accuracy is 84.91%\n",
      "\n",
      "EPOCHS : 6/10 Loss : 0.811431\n",
      "The training accuracy is 70.85%\n",
      "The validation loss is 0.4321\n",
      "The valudation accuracy is 84.94%\n",
      "\n",
      "EPOCHS : 6/10 Loss : 0.815065\n",
      "The training accuracy is 70.88%\n",
      "The validation loss is 0.4348\n",
      "The valudation accuracy is 84.96%\n",
      "\n",
      "EPOCHS : 7/10 Loss : 0.806256\n",
      "The training accuracy is 70.94%\n",
      "The validation loss is 0.4310\n",
      "The valudation accuracy is 84.98%\n",
      "\n",
      "EPOCHS : 7/10 Loss : 0.807493\n",
      "The training accuracy is 70.99%\n",
      "The validation loss is 0.4324\n",
      "The valudation accuracy is 84.95%\n",
      "\n",
      "EPOCHS : 8/10 Loss : 0.812556\n",
      "The training accuracy is 71.01%\n",
      "The validation loss is 0.4330\n",
      "The valudation accuracy is 84.94%\n",
      "\n",
      "EPOCHS : 8/10 Loss : 0.814946\n",
      "The training accuracy is 71.05%\n",
      "The validation loss is 0.4334\n",
      "The valudation accuracy is 84.96%\n",
      "\n",
      "EPOCHS : 9/10 Loss : 0.814383\n",
      "The training accuracy is 71.06%\n",
      "The validation loss is 0.4323\n",
      "The valudation accuracy is 84.96%\n",
      "\n",
      "EPOCHS : 9/10 Loss : 0.804518\n",
      "The training accuracy is 71.10%\n",
      "The validation loss is 0.4302\n",
      "The valudation accuracy is 84.96%\n",
      "\n",
      "EPOCHS : 10/10 Loss : 0.820406\n",
      "The training accuracy is 71.08%\n",
      "The validation loss is 0.4344\n",
      "The valudation accuracy is 84.96%\n",
      "\n",
      "EPOCHS : 10/10 Loss : 0.801487\n",
      "The training accuracy is 71.12%\n",
      "The validation loss is 0.4318\n",
      "The valudation accuracy is 84.97%\n",
      "\n"
     ]
    }
   ],
   "source": [
    "optimizer = optim.Adam(AlexNet3.parameters(),lr=1e-8)\n",
    "#AlexNet.load_state_dict(torch.load(\"Weights/part-d-run-2-Best.pth\"))\n",
    "train(AlexNet3,train_dataloader,val_dataloader,10,20,loss_fn,optimizer,\"cuda\",3,\"d\")"
   ]
  },
  {
   "cell_type": "code",
   "execution_count": null,
   "id": "15f53cbf",
   "metadata": {},
   "outputs": [],
   "source": []
  }
 ],
 "metadata": {
  "kernelspec": {
   "display_name": "Python 3 (ipykernel)",
   "language": "python",
   "name": "python3"
  },
  "language_info": {
   "codemirror_mode": {
    "name": "ipython",
    "version": 3
   },
   "file_extension": ".py",
   "mimetype": "text/x-python",
   "name": "python",
   "nbconvert_exporter": "python",
   "pygments_lexer": "ipython3",
   "version": "3.9.7"
  }
 },
 "nbformat": 4,
 "nbformat_minor": 5
}
