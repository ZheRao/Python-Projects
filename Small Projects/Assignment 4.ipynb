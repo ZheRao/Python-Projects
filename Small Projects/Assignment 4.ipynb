{
 "cells": [
  {
   "cell_type": "code",
   "execution_count": 1,
   "id": "740cbae4",
   "metadata": {},
   "outputs": [
    {
     "data": {
      "text/plain": [
       "<torch._C.Generator at 0x286494ef510>"
      ]
     },
     "execution_count": 1,
     "metadata": {},
     "output_type": "execute_result"
    }
   ],
   "source": [
    "# imports\n",
    "import numpy as np\n",
    "import matplotlib.pyplot as plt\n",
    "import torch\n",
    "import torchvision\n",
    "import torch.nn as nn\n",
    "import torch.nn.functional as F\n",
    "import torchvision.transforms as transforms\n",
    "import torchvision.models as models\n",
    "from torch.utils.data import DataLoader\n",
    "from torch import optim\n",
    "from tqdm.auto import tqdm\n",
    "import math\n",
    "torch.manual_seed(55)"
   ]
  },
  {
   "cell_type": "code",
   "execution_count": null,
   "id": "58310e6a",
   "metadata": {},
   "outputs": [],
   "source": []
  },
  {
   "cell_type": "markdown",
   "id": "8d07f556",
   "metadata": {},
   "source": [
    "# read in data"
   ]
  },
  {
   "cell_type": "code",
   "execution_count": 2,
   "id": "67d2ed17",
   "metadata": {},
   "outputs": [],
   "source": [
    "path = \"W://Study Material/Jupyter Notebook/Datasets/CIFAR-10/cifar-10-batches-py\"\n",
    "def unpickle(file):\n",
    "    import pickle\n",
    "    with open(file, \"rb\") as fo:\n",
    "        dict = pickle.load(fo,encoding=\"bytes\")\n",
    "    return dict"
   ]
  },
  {
   "cell_type": "code",
   "execution_count": 3,
   "id": "2f3dd0f6",
   "metadata": {},
   "outputs": [
    {
     "data": {
      "text/plain": [
       "(4,)"
      ]
     },
     "execution_count": 3,
     "metadata": {},
     "output_type": "execute_result"
    }
   ],
   "source": [
    "training_batch = np.empty((4),dtype=object)\n",
    "val_batch = np.empty((1),dtype=object)\n",
    "test_batch = np.empty((1),dtype=object)\n",
    "training_batch.shape"
   ]
  },
  {
   "cell_type": "code",
   "execution_count": 4,
   "id": "d19b00f2",
   "metadata": {},
   "outputs": [],
   "source": [
    "training_batch[0] = unpickle(path+\"/data_batch_1\")\n",
    "training_batch[1] = unpickle(path+\"/data_batch_2\")\n",
    "training_batch[2] = unpickle(path+\"/data_batch_3\")\n",
    "training_batch[3] = unpickle(path+\"/data_batch_4\")\n",
    "val_batch[0] = unpickle(path+\"/data_batch_5\")\n",
    "test_batch[0] = unpickle(path+\"/test_batch\")\n",
    "meta_data = unpickle(path+\"/batches.meta\")"
   ]
  },
  {
   "cell_type": "code",
   "execution_count": 5,
   "id": "6dd4606f",
   "metadata": {},
   "outputs": [
    {
     "data": {
      "text/plain": [
       "dict_keys([b'batch_label', b'labels', b'data', b'filenames'])"
      ]
     },
     "execution_count": 5,
     "metadata": {},
     "output_type": "execute_result"
    }
   ],
   "source": [
    "training_batch[0].keys()"
   ]
  },
  {
   "cell_type": "code",
   "execution_count": 6,
   "id": "a00a5df9",
   "metadata": {},
   "outputs": [
    {
     "data": {
      "text/plain": [
       "(10000,)"
      ]
     },
     "execution_count": 6,
     "metadata": {},
     "output_type": "execute_result"
    }
   ],
   "source": [
    "np.array(training_batch[0][b'labels']).shape"
   ]
  },
  {
   "cell_type": "code",
   "execution_count": 7,
   "id": "eb3a7835",
   "metadata": {},
   "outputs": [
    {
     "data": {
      "text/plain": [
       "(10000, 3072)"
      ]
     },
     "execution_count": 7,
     "metadata": {},
     "output_type": "execute_result"
    }
   ],
   "source": [
    "training_batch[0][b'data'].shape"
   ]
  },
  {
   "cell_type": "code",
   "execution_count": 8,
   "id": "b76a22c8",
   "metadata": {},
   "outputs": [
    {
     "data": {
      "text/plain": [
       "[b'airplane',\n",
       " b'automobile',\n",
       " b'bird',\n",
       " b'cat',\n",
       " b'deer',\n",
       " b'dog',\n",
       " b'frog',\n",
       " b'horse',\n",
       " b'ship',\n",
       " b'truck']"
      ]
     },
     "execution_count": 8,
     "metadata": {},
     "output_type": "execute_result"
    }
   ],
   "source": [
    "meta_data[b'label_names']"
   ]
  },
  {
   "cell_type": "code",
   "execution_count": null,
   "id": "a7018435",
   "metadata": {},
   "outputs": [],
   "source": []
  },
  {
   "cell_type": "markdown",
   "id": "a30e5681",
   "metadata": {},
   "source": [
    "# define custom data loader"
   ]
  },
  {
   "cell_type": "code",
   "execution_count": 9,
   "id": "f308a319",
   "metadata": {},
   "outputs": [],
   "source": [
    "class CustomDataset(torch.utils.data.Dataset):\n",
    "    def __init__(self,batch,b_type,transform):\n",
    "        self.transform = transform\n",
    "        if b_type == \"train\":\n",
    "            self.data = np.concatenate((batch[0][b'data'],batch[1][b'data'],\n",
    "                                        batch[2][b'data'],batch[3][b'data']),axis=0)\n",
    "            #print(b_type, \" data shape: \",self.data.shape)\n",
    "            self.label = np.concatenate((batch[0][b'labels'],batch[1][b'labels'],\n",
    "                                        batch[2][b'labels'],batch[3][b'labels']))\n",
    "            #print(b_type, \" label shape: \",len(self.label))\n",
    "        else:\n",
    "            self.data = batch[0][b'data']\n",
    "            #print(b_type, \" data shape: \",self.data.shape)\n",
    "            self.label = batch[0][b'labels']\n",
    "            #print(b_type, \" label shape: \", len(self.label))\n",
    "    \n",
    "    def __len__(self):\n",
    "        return len(self.label)\n",
    "    \n",
    "    def __getitem__(self,index):\n",
    "        label = self.label[index]\n",
    "        image_data = self.data[index]\n",
    "        # convert (3072,) array to (3,32,32)\n",
    "        image_r = image_data[:1024].reshape(32,32)\n",
    "        image_g = image_data[1024:2048].reshape(32,32)\n",
    "        image_b = image_data[2048:].reshape(32,32)\n",
    "        image = np.array([image_r,image_g,image_b])\n",
    "        image = np.transpose(image,(1,2,0)) # change the batch dimension to the last dimension\n",
    "        #image = torch.tensor(image,dtype=torch.float)\n",
    "        if self.transform is not None:\n",
    "            image = self.transform(image)\n",
    "        #print(image.shape)\n",
    "        return image, label\n",
    "    "
   ]
  },
  {
   "cell_type": "code",
   "execution_count": 10,
   "id": "02e1fdb9",
   "metadata": {},
   "outputs": [
    {
     "data": {
      "text/plain": [
       "(3, 1, 2)"
      ]
     },
     "execution_count": 10,
     "metadata": {},
     "output_type": "execute_result"
    }
   ],
   "source": [
    "x = np.ones((1,2,3))\n",
    "np.transpose(x,(2,0,1)).shape"
   ]
  },
  {
   "cell_type": "markdown",
   "id": "abb81755",
   "metadata": {},
   "source": [
    "### transformation"
   ]
  },
  {
   "cell_type": "code",
   "execution_count": 11,
   "id": "e935b4eb",
   "metadata": {},
   "outputs": [],
   "source": [
    "# define data augmentation\n",
    "data_transformers = {\"train\": transforms.Compose([transforms.ToPILImage(),\n",
    "                                     transforms.RandomResizedCrop(256),\n",
    "                                     transforms.RandomHorizontalFlip(),\n",
    "                                     transforms.RandomRotation(30),\n",
    "                                     transforms.ToTensor(),\n",
    "                                     transforms.Normalize((0.5,0.5,0.5),(0.5,0.5,0.5))]),\n",
    "            \"test\":transforms.Compose([transforms.ToPILImage(),\n",
    "                                       transforms.Resize(256),\n",
    "                                       transforms.ToTensor(),\n",
    "                                       transforms.Normalize((0.5,0.5,0.5),(0.5,0.5,0.5))])}"
   ]
  },
  {
   "cell_type": "markdown",
   "id": "7fb6849d",
   "metadata": {},
   "source": [
    "### datasets"
   ]
  },
  {
   "cell_type": "code",
   "execution_count": 12,
   "id": "217ec77d",
   "metadata": {},
   "outputs": [],
   "source": [
    "# defining datasets\n",
    "train_data = CustomDataset(training_batch,\"train\",transform=data_transformers[\"train\"])\n",
    "val_data = CustomDataset(val_batch,\"validation\",transform=data_transformers[\"test\"])\n",
    "test_data = CustomDataset(test_batch,\"test\",transform=data_transformers[\"test\"])"
   ]
  },
  {
   "cell_type": "code",
   "execution_count": 13,
   "id": "2a1535d8",
   "metadata": {},
   "outputs": [
    {
     "name": "stdout",
     "output_type": "stream",
     "text": [
      "torch.Size([3, 256, 256])\n"
     ]
    }
   ],
   "source": [
    "# make sure the shape of the image extracted is okay\n",
    "print(train_data[0][0].shape)\n",
    "#print(train_data[0][1])"
   ]
  },
  {
   "cell_type": "markdown",
   "id": "5cab6536",
   "metadata": {},
   "source": [
    "### dataloader"
   ]
  },
  {
   "cell_type": "code",
   "execution_count": 14,
   "id": "91d41bc4",
   "metadata": {},
   "outputs": [],
   "source": [
    "train_dataloader = DataLoader(train_data,batch_size=128,shuffle=True)\n",
    "val_dataloader = DataLoader(val_data,batch_size=128,shuffle=True)\n",
    "test_dataloader = DataLoader(test_data,batch_size=128,shuffle=False)"
   ]
  },
  {
   "cell_type": "code",
   "execution_count": null,
   "id": "fa1b589b",
   "metadata": {},
   "outputs": [],
   "source": []
  },
  {
   "cell_type": "code",
   "execution_count": null,
   "id": "bc60fb95",
   "metadata": {},
   "outputs": [],
   "source": []
  },
  {
   "cell_type": "markdown",
   "id": "1238b45a",
   "metadata": {},
   "source": [
    "# training and validation routine"
   ]
  },
  {
   "cell_type": "code",
   "execution_count": 20,
   "id": "1442f373",
   "metadata": {},
   "outputs": [],
   "source": [
    "def train(model,trainloader,valloader,epochs,print_frequency,loss_fn,optimizer,device,run,part):\n",
    "    training_steps = epochs * (len(trainloader))\n",
    "    progress_bar = tqdm(range(training_steps))\n",
    "    ep = epochs\n",
    "    print_every = math.floor(training_steps/print_frequency)\n",
    "    steps = 0\n",
    "    model.to(device)\n",
    "    model.train()\n",
    "    total = 0\n",
    "    correct = 0\n",
    "    best_val = 10000\n",
    "    \n",
    "    current_loss = 0\n",
    "    \n",
    "    for e in np.arange(ep):\n",
    "        for batch,(images,labels) in enumerate(trainloader):\n",
    "            steps += 1\n",
    "            images, labels = images.to(device), labels.to(device)\n",
    "            # convert images to float because weights are floats\n",
    "            images = images.float()\n",
    "            labels = labels.type(torch.long) # need to be int\n",
    "            \n",
    "            # calculate loss and backpropogate\n",
    "            optimizer.zero_grad()\n",
    "            outputs = model(images)\n",
    "            _,predictions = torch.max(outputs.data,1)\n",
    "            total += labels.size(0)\n",
    "            correct += (predictions == labels).sum().item()\n",
    "            loss = loss_fn(outputs,labels)\n",
    "            loss.backward()\n",
    "            optimizer.step()\n",
    "            \n",
    "            current_loss += loss.item()\n",
    "            progress_bar.update(1)\n",
    "            \n",
    "            if steps % print_every == 0:\n",
    "                print('EPOCHS : {}/{}'.format(e+1,epochs),\n",
    "                      'Loss : {:.6f}'.format(current_loss/print_every)) \n",
    "                print('The training accuracy is {:.2f}%'.format(correct/total*100))\n",
    "                current_loss = 0\n",
    "                val_loss = validate(model,valloader,loss_fn, device)\n",
    "                if val_loss < best_val:\n",
    "                    torch.save(model.state_dict(),\"Weights/part-{}-run-{}-Best.pth\".format(str(part),\n",
    "                                                                                           str(run)))\n",
    "    torch.save(model.state_dict(),\"Weights/part-{}-run-{}-Last.pth\".format(str(part),\n",
    "                                                                           str(run)))"
   ]
  },
  {
   "cell_type": "code",
   "execution_count": 21,
   "id": "1bb58508",
   "metadata": {},
   "outputs": [],
   "source": [
    "def validate(model, valloader, loss_fn, device):\n",
    "    total = 0\n",
    "    correct = 0\n",
    "    val_loss = 0\n",
    "    model.eval()\n",
    "    steps = 0\n",
    "    with torch.no_grad():\n",
    "        for batch, (images,labels) in enumerate(valloader):\n",
    "            images, labels = images.to(device), labels.to(device)\n",
    "            # convert images to float because weights are floats\n",
    "            images = images.float()\n",
    "            labels = labels.type(torch.long) # need to be int\n",
    "            steps += 1\n",
    "            outputs = model(images)\n",
    "            _, predictions = torch.max(outputs.data,1)\n",
    "            total += labels.size(0)\n",
    "            correct += (labels == predictions).sum().item()\n",
    "            loss = loss_fn(outputs,labels)\n",
    "            val_loss += loss.item()\n",
    "    val_loss /= steps\n",
    "    accuracy = correct / total * 100\n",
    "    print(\"The validation loss is %.4f\" % (val_loss))\n",
    "    print('The valudation accuracy is {:.2f}%\\n'.format(accuracy))\n",
    "    return val_loss"
   ]
  },
  {
   "cell_type": "code",
   "execution_count": null,
   "id": "db86a247",
   "metadata": {},
   "outputs": [],
   "source": []
  },
  {
   "cell_type": "code",
   "execution_count": null,
   "id": "5bbc7229",
   "metadata": {},
   "outputs": [],
   "source": []
  },
  {
   "cell_type": "code",
   "execution_count": null,
   "id": "41793a9f",
   "metadata": {},
   "outputs": [],
   "source": []
  },
  {
   "cell_type": "code",
   "execution_count": null,
   "id": "80150338",
   "metadata": {},
   "outputs": [],
   "source": []
  },
  {
   "cell_type": "code",
   "execution_count": null,
   "id": "fc3144df",
   "metadata": {},
   "outputs": [],
   "source": []
  },
  {
   "cell_type": "markdown",
   "id": "bef0a3d4",
   "metadata": {},
   "source": [
    "# Part b)"
   ]
  },
  {
   "cell_type": "code",
   "execution_count": 17,
   "id": "d3611bff",
   "metadata": {},
   "outputs": [
    {
     "data": {
      "text/plain": [
       "AlexNet(\n",
       "  (features): Sequential(\n",
       "    (0): Conv2d(3, 64, kernel_size=(11, 11), stride=(4, 4), padding=(2, 2))\n",
       "    (1): ReLU(inplace=True)\n",
       "    (2): MaxPool2d(kernel_size=3, stride=2, padding=0, dilation=1, ceil_mode=False)\n",
       "    (3): Conv2d(64, 192, kernel_size=(5, 5), stride=(1, 1), padding=(2, 2))\n",
       "    (4): ReLU(inplace=True)\n",
       "    (5): MaxPool2d(kernel_size=3, stride=2, padding=0, dilation=1, ceil_mode=False)\n",
       "    (6): Conv2d(192, 384, kernel_size=(3, 3), stride=(1, 1), padding=(1, 1))\n",
       "    (7): ReLU(inplace=True)\n",
       "    (8): Conv2d(384, 256, kernel_size=(3, 3), stride=(1, 1), padding=(1, 1))\n",
       "    (9): ReLU(inplace=True)\n",
       "    (10): Conv2d(256, 256, kernel_size=(3, 3), stride=(1, 1), padding=(1, 1))\n",
       "    (11): ReLU(inplace=True)\n",
       "    (12): MaxPool2d(kernel_size=3, stride=2, padding=0, dilation=1, ceil_mode=False)\n",
       "  )\n",
       "  (avgpool): AdaptiveAvgPool2d(output_size=(6, 6))\n",
       "  (classifier): Sequential(\n",
       "    (0): Dropout(p=0.5, inplace=False)\n",
       "    (1): Linear(in_features=9216, out_features=4096, bias=True)\n",
       "    (2): ReLU(inplace=True)\n",
       "    (3): Dropout(p=0.5, inplace=False)\n",
       "    (4): Linear(in_features=4096, out_features=4096, bias=True)\n",
       "    (5): ReLU(inplace=True)\n",
       "    (6): Linear(in_features=4096, out_features=1000, bias=True)\n",
       "  )\n",
       ")"
      ]
     },
     "execution_count": 17,
     "metadata": {},
     "output_type": "execute_result"
    }
   ],
   "source": [
    "AlexNet = models.alexnet(pretrained=False)\n",
    "AlexNet.load_state_dict(torch.load(\"W://Study Material/Jupyter Notebook/Pretrained_Weights/alexnet-owt-7be5be79.pth\"))\n",
    "AlexNet.cuda()"
   ]
  },
  {
   "cell_type": "code",
   "execution_count": null,
   "id": "888e6498",
   "metadata": {},
   "outputs": [],
   "source": []
  },
  {
   "cell_type": "code",
   "execution_count": 18,
   "id": "9f9cfe8b",
   "metadata": {},
   "outputs": [],
   "source": [
    "loss_fn = nn.CrossEntropyLoss()\n",
    "optimizer = optim.Adam(AlexNet.parameters(),lr=1e-3)"
   ]
  },
  {
   "cell_type": "code",
   "execution_count": 24,
   "id": "a542a567",
   "metadata": {
    "scrolled": true
   },
   "outputs": [
    {
     "data": {
      "application/vnd.jupyter.widget-view+json": {
       "model_id": "0359a0ddd65b4e2d97f5ab080c414a8b",
       "version_major": 2,
       "version_minor": 0
      },
      "text/plain": [
       "  0%|          | 0/3130 [00:00<?, ?it/s]"
      ]
     },
     "metadata": {},
     "output_type": "display_data"
    },
    {
     "name": "stdout",
     "output_type": "stream",
     "text": [
      "EPOCHS : 1/10 Loss : 2.247014\n",
      "The training accuracy is 21.80%\n",
      "The validation loss is 1.6998\n",
      "The valudation accuracy is 36.71%\n",
      "\n",
      "EPOCHS : 1/10 Loss : 1.785275\n",
      "The training accuracy is 27.76%\n",
      "The validation loss is 1.5200\n",
      "The valudation accuracy is 43.46%\n",
      "\n",
      "EPOCHS : 2/10 Loss : 1.685747\n",
      "The training accuracy is 31.12%\n",
      "The validation loss is 1.4152\n",
      "The valudation accuracy is 47.11%\n",
      "\n",
      "EPOCHS : 2/10 Loss : 1.600968\n",
      "The training accuracy is 33.61%\n",
      "The validation loss is 1.3193\n",
      "The valudation accuracy is 51.00%\n",
      "\n",
      "EPOCHS : 3/10 Loss : 1.554594\n",
      "The training accuracy is 35.58%\n",
      "The validation loss is 1.3243\n",
      "The valudation accuracy is 53.44%\n",
      "\n",
      "EPOCHS : 3/10 Loss : 1.490266\n",
      "The training accuracy is 37.28%\n",
      "The validation loss is 1.1996\n",
      "The valudation accuracy is 56.95%\n",
      "\n",
      "EPOCHS : 4/10 Loss : 1.486563\n",
      "The training accuracy is 38.56%\n",
      "The validation loss is 1.1369\n",
      "The valudation accuracy is 58.76%\n",
      "\n",
      "EPOCHS : 4/10 Loss : 1.429415\n",
      "The training accuracy is 39.73%\n",
      "The validation loss is 1.1196\n",
      "The valudation accuracy is 60.99%\n",
      "\n",
      "EPOCHS : 5/10 Loss : 1.401546\n",
      "The training accuracy is 40.79%\n",
      "The validation loss is 1.0909\n",
      "The valudation accuracy is 61.05%\n",
      "\n",
      "EPOCHS : 5/10 Loss : 1.368858\n",
      "The training accuracy is 41.79%\n",
      "The validation loss is 1.0646\n",
      "The valudation accuracy is 62.20%\n",
      "\n",
      "EPOCHS : 6/10 Loss : 1.354280\n",
      "The training accuracy is 42.69%\n",
      "The validation loss is 1.0736\n",
      "The valudation accuracy is 62.41%\n",
      "\n",
      "EPOCHS : 6/10 Loss : 1.334924\n",
      "The training accuracy is 43.50%\n",
      "The validation loss is 0.9667\n",
      "The valudation accuracy is 65.68%\n",
      "\n",
      "EPOCHS : 7/10 Loss : 1.300909\n",
      "The training accuracy is 44.25%\n",
      "The validation loss is 0.9733\n",
      "The valudation accuracy is 66.59%\n",
      "\n",
      "EPOCHS : 7/10 Loss : 1.288129\n",
      "The training accuracy is 44.92%\n",
      "The validation loss is 1.0068\n",
      "The valudation accuracy is 64.91%\n",
      "\n",
      "EPOCHS : 8/10 Loss : 1.270171\n",
      "The training accuracy is 45.57%\n",
      "The validation loss is 0.9393\n",
      "The valudation accuracy is 67.63%\n",
      "\n",
      "EPOCHS : 8/10 Loss : 1.249892\n",
      "The training accuracy is 46.21%\n",
      "The validation loss is 0.9625\n",
      "The valudation accuracy is 67.05%\n",
      "\n",
      "EPOCHS : 9/10 Loss : 1.238430\n",
      "The training accuracy is 46.80%\n",
      "The validation loss is 0.8542\n",
      "The valudation accuracy is 70.39%\n",
      "\n",
      "EPOCHS : 9/10 Loss : 1.230177\n",
      "The training accuracy is 47.33%\n",
      "The validation loss is 0.8584\n",
      "The valudation accuracy is 70.26%\n",
      "\n",
      "EPOCHS : 10/10 Loss : 1.208205\n",
      "The training accuracy is 47.83%\n",
      "The validation loss is 0.8575\n",
      "The valudation accuracy is 70.58%\n",
      "\n",
      "EPOCHS : 10/10 Loss : 1.206469\n",
      "The training accuracy is 48.30%\n",
      "The validation loss is 0.8517\n",
      "The valudation accuracy is 70.97%\n",
      "\n"
     ]
    }
   ],
   "source": [
    "train(AlexNet,train_dataloader,val_dataloader,10,20,loss_fn,optimizer,\"cuda\",1)"
   ]
  },
  {
   "cell_type": "code",
   "execution_count": 25,
   "id": "4de1c428",
   "metadata": {
    "scrolled": true
   },
   "outputs": [
    {
     "data": {
      "application/vnd.jupyter.widget-view+json": {
       "model_id": "d2a9ab20773c47129021d41549293863",
       "version_major": 2,
       "version_minor": 0
      },
      "text/plain": [
       "  0%|          | 0/3130 [00:00<?, ?it/s]"
      ]
     },
     "metadata": {},
     "output_type": "display_data"
    },
    {
     "name": "stdout",
     "output_type": "stream",
     "text": [
      "EPOCHS : 1/10 Loss : 1.314707\n",
      "The training accuracy is 54.08%\n",
      "The validation loss is 0.7874\n",
      "The valudation accuracy is 72.85%\n",
      "\n",
      "EPOCHS : 1/10 Loss : 1.110474\n",
      "The training accuracy is 57.41%\n",
      "The validation loss is 0.7677\n",
      "The valudation accuracy is 73.35%\n",
      "\n",
      "EPOCHS : 2/10 Loss : 1.099722\n",
      "The training accuracy is 58.54%\n",
      "The validation loss is 0.7579\n",
      "The valudation accuracy is 73.52%\n",
      "\n",
      "EPOCHS : 2/10 Loss : 1.087660\n",
      "The training accuracy is 59.29%\n",
      "The validation loss is 0.7448\n",
      "The valudation accuracy is 74.05%\n",
      "\n",
      "EPOCHS : 3/10 Loss : 1.072100\n",
      "The training accuracy is 59.91%\n",
      "The validation loss is 0.7409\n",
      "The valudation accuracy is 74.36%\n",
      "\n",
      "EPOCHS : 3/10 Loss : 1.068306\n",
      "The training accuracy is 60.23%\n",
      "The validation loss is 0.7364\n",
      "The valudation accuracy is 74.53%\n",
      "\n",
      "EPOCHS : 4/10 Loss : 1.055259\n",
      "The training accuracy is 60.57%\n",
      "The validation loss is 0.7403\n",
      "The valudation accuracy is 74.46%\n",
      "\n",
      "EPOCHS : 4/10 Loss : 1.051216\n",
      "The training accuracy is 60.83%\n",
      "The validation loss is 0.7277\n",
      "The valudation accuracy is 74.69%\n",
      "\n",
      "EPOCHS : 5/10 Loss : 1.054497\n",
      "The training accuracy is 61.01%\n",
      "The validation loss is 0.7298\n",
      "The valudation accuracy is 74.64%\n",
      "\n",
      "EPOCHS : 5/10 Loss : 1.037197\n",
      "The training accuracy is 61.21%\n",
      "The validation loss is 0.7229\n",
      "The valudation accuracy is 74.84%\n",
      "\n",
      "EPOCHS : 6/10 Loss : 1.044361\n",
      "The training accuracy is 61.40%\n",
      "The validation loss is 0.7249\n",
      "The valudation accuracy is 75.03%\n",
      "\n",
      "EPOCHS : 6/10 Loss : 1.044632\n",
      "The training accuracy is 61.51%\n",
      "The validation loss is 0.7188\n",
      "The valudation accuracy is 74.97%\n",
      "\n",
      "EPOCHS : 7/10 Loss : 1.044561\n",
      "The training accuracy is 61.61%\n",
      "The validation loss is 0.7205\n",
      "The valudation accuracy is 75.01%\n",
      "\n",
      "EPOCHS : 7/10 Loss : 1.030355\n",
      "The training accuracy is 61.74%\n",
      "The validation loss is 0.7082\n",
      "The valudation accuracy is 75.07%\n",
      "\n",
      "EPOCHS : 8/10 Loss : 1.045026\n",
      "The training accuracy is 61.83%\n",
      "The validation loss is 0.7083\n",
      "The valudation accuracy is 75.31%\n",
      "\n",
      "EPOCHS : 8/10 Loss : 1.014952\n",
      "The training accuracy is 61.98%\n",
      "The validation loss is 0.7143\n",
      "The valudation accuracy is 75.18%\n",
      "\n",
      "EPOCHS : 9/10 Loss : 1.038396\n",
      "The training accuracy is 62.04%\n",
      "The validation loss is 0.7163\n",
      "The valudation accuracy is 75.08%\n",
      "\n",
      "EPOCHS : 9/10 Loss : 1.020153\n",
      "The training accuracy is 62.15%\n",
      "The validation loss is 0.7034\n",
      "The valudation accuracy is 75.28%\n",
      "\n",
      "EPOCHS : 10/10 Loss : 1.028688\n",
      "The training accuracy is 62.22%\n",
      "The validation loss is 0.7066\n",
      "The valudation accuracy is 75.30%\n",
      "\n",
      "EPOCHS : 10/10 Loss : 1.011283\n",
      "The training accuracy is 62.33%\n",
      "The validation loss is 0.6973\n",
      "The valudation accuracy is 75.38%\n",
      "\n"
     ]
    }
   ],
   "source": [
    "optimizer = optim.Adam(AlexNet.parameters(),lr=1e-5)\n",
    "train(AlexNet,train_dataloader,val_dataloader,10,20,loss_fn,optimizer,\"cuda\",2)"
   ]
  },
  {
   "cell_type": "code",
   "execution_count": 19,
   "id": "f12e21d7",
   "metadata": {
    "scrolled": true
   },
   "outputs": [
    {
     "data": {
      "application/vnd.jupyter.widget-view+json": {
       "model_id": "954c45d0b49941839a36d75960d2d9d2",
       "version_major": 2,
       "version_minor": 0
      },
      "text/plain": [
       "  0%|          | 0/3130 [00:00<?, ?it/s]"
      ]
     },
     "metadata": {},
     "output_type": "display_data"
    },
    {
     "name": "stdout",
     "output_type": "stream",
     "text": [
      "EPOCHS : 1/10 Loss : 1.236205\n",
      "The training accuracy is 57.47%\n",
      "The validation loss is 0.7003\n",
      "The valudation accuracy is 75.54%\n",
      "\n",
      "EPOCHS : 1/10 Loss : 1.020405\n",
      "The training accuracy is 60.70%\n",
      "The validation loss is 0.7034\n",
      "The valudation accuracy is 75.55%\n",
      "\n",
      "EPOCHS : 2/10 Loss : 1.018962\n",
      "The training accuracy is 61.69%\n",
      "The validation loss is 0.6994\n",
      "The valudation accuracy is 75.49%\n",
      "\n",
      "EPOCHS : 2/10 Loss : 1.014674\n",
      "The training accuracy is 62.28%\n",
      "The validation loss is 0.6986\n",
      "The valudation accuracy is 75.52%\n",
      "\n",
      "EPOCHS : 3/10 Loss : 1.023155\n",
      "The training accuracy is 62.52%\n",
      "The validation loss is 0.7007\n",
      "The valudation accuracy is 75.56%\n",
      "\n",
      "EPOCHS : 3/10 Loss : 1.013412\n",
      "The training accuracy is 62.75%\n",
      "The validation loss is 0.7012\n",
      "The valudation accuracy is 75.43%\n",
      "\n",
      "EPOCHS : 4/10 Loss : 1.010199\n",
      "The training accuracy is 62.95%\n",
      "The validation loss is 0.7021\n",
      "The valudation accuracy is 75.45%\n",
      "\n",
      "EPOCHS : 4/10 Loss : 1.028888\n",
      "The training accuracy is 63.05%\n",
      "The validation loss is 0.7022\n",
      "The valudation accuracy is 75.49%\n",
      "\n",
      "EPOCHS : 5/10 Loss : 1.016358\n",
      "The training accuracy is 63.15%\n",
      "The validation loss is 0.6972\n",
      "The valudation accuracy is 75.48%\n",
      "\n",
      "EPOCHS : 5/10 Loss : 1.023578\n",
      "The training accuracy is 63.22%\n",
      "The validation loss is 0.7030\n",
      "The valudation accuracy is 75.59%\n",
      "\n",
      "EPOCHS : 6/10 Loss : 1.019098\n",
      "The training accuracy is 63.26%\n",
      "The validation loss is 0.7011\n",
      "The valudation accuracy is 75.58%\n",
      "\n",
      "EPOCHS : 6/10 Loss : 1.015666\n",
      "The training accuracy is 63.36%\n",
      "The validation loss is 0.7017\n",
      "The valudation accuracy is 75.58%\n",
      "\n",
      "EPOCHS : 7/10 Loss : 1.015819\n",
      "The training accuracy is 63.42%\n",
      "The validation loss is 0.7019\n",
      "The valudation accuracy is 75.66%\n",
      "\n",
      "EPOCHS : 7/10 Loss : 0.999843\n",
      "The training accuracy is 63.52%\n",
      "The validation loss is 0.6974\n",
      "The valudation accuracy is 75.63%\n",
      "\n",
      "EPOCHS : 8/10 Loss : 1.012752\n",
      "The training accuracy is 63.54%\n",
      "The validation loss is 0.7003\n",
      "The valudation accuracy is 75.61%\n",
      "\n",
      "EPOCHS : 8/10 Loss : 1.019031\n",
      "The training accuracy is 63.54%\n",
      "The validation loss is 0.7079\n",
      "The valudation accuracy is 75.57%\n",
      "\n",
      "EPOCHS : 9/10 Loss : 1.016139\n",
      "The training accuracy is 63.54%\n",
      "The validation loss is 0.7064\n",
      "The valudation accuracy is 75.57%\n",
      "\n",
      "EPOCHS : 9/10 Loss : 1.005403\n",
      "The training accuracy is 63.60%\n",
      "The validation loss is 0.6966\n",
      "The valudation accuracy is 75.55%\n",
      "\n",
      "EPOCHS : 10/10 Loss : 1.006781\n",
      "The training accuracy is 63.62%\n",
      "The validation loss is 0.6981\n",
      "The valudation accuracy is 75.61%\n",
      "\n",
      "EPOCHS : 10/10 Loss : 1.022852\n",
      "The training accuracy is 63.63%\n",
      "The validation loss is 0.6972\n",
      "The valudation accuracy is 75.57%\n",
      "\n"
     ]
    }
   ],
   "source": [
    "optimizer = optim.Adam(AlexNet.parameters(),lr=1e-6)\n",
    "AlexNet.load_state_dict(torch.load(\"Weights/run-2-Best.pth\"))\n",
    "train(AlexNet,train_dataloader,val_dataloader,10,20,loss_fn,optimizer,\"cuda\",3)"
   ]
  },
  {
   "cell_type": "code",
   "execution_count": null,
   "id": "61172cdb",
   "metadata": {},
   "outputs": [],
   "source": []
  },
  {
   "cell_type": "code",
   "execution_count": null,
   "id": "de8b7710",
   "metadata": {},
   "outputs": [],
   "source": []
  },
  {
   "cell_type": "code",
   "execution_count": null,
   "id": "bd6c2a17",
   "metadata": {},
   "outputs": [],
   "source": []
  },
  {
   "cell_type": "code",
   "execution_count": null,
   "id": "d7204ca7",
   "metadata": {},
   "outputs": [],
   "source": []
  },
  {
   "cell_type": "code",
   "execution_count": null,
   "id": "26b54448",
   "metadata": {},
   "outputs": [],
   "source": []
  },
  {
   "cell_type": "markdown",
   "id": "8a455dd7",
   "metadata": {},
   "source": [
    "# Part c)"
   ]
  },
  {
   "cell_type": "code",
   "execution_count": 26,
   "id": "c849fa3c",
   "metadata": {
    "scrolled": true
   },
   "outputs": [
    {
     "data": {
      "text/plain": [
       "AlexNet(\n",
       "  (features): Sequential(\n",
       "    (0): Conv2d(3, 64, kernel_size=(11, 11), stride=(4, 4), padding=(2, 2))\n",
       "    (1): ReLU(inplace=True)\n",
       "    (2): MaxPool2d(kernel_size=3, stride=2, padding=0, dilation=1, ceil_mode=False)\n",
       "    (3): Conv2d(64, 192, kernel_size=(5, 5), stride=(1, 1), padding=(2, 2))\n",
       "    (4): ReLU(inplace=True)\n",
       "    (5): MaxPool2d(kernel_size=3, stride=2, padding=0, dilation=1, ceil_mode=False)\n",
       "    (6): Conv2d(192, 384, kernel_size=(3, 3), stride=(1, 1), padding=(1, 1))\n",
       "    (7): ReLU(inplace=True)\n",
       "    (8): Conv2d(384, 256, kernel_size=(3, 3), stride=(1, 1), padding=(1, 1))\n",
       "    (9): ReLU(inplace=True)\n",
       "    (10): Conv2d(256, 256, kernel_size=(3, 3), stride=(1, 1), padding=(1, 1))\n",
       "    (11): ReLU(inplace=True)\n",
       "    (12): MaxPool2d(kernel_size=3, stride=2, padding=0, dilation=1, ceil_mode=False)\n",
       "  )\n",
       "  (avgpool): AdaptiveAvgPool2d(output_size=(6, 6))\n",
       "  (classifier): Sequential(\n",
       "    (0): Dropout(p=0.5, inplace=False)\n",
       "    (1): Linear(in_features=9216, out_features=4096, bias=True)\n",
       "    (2): ReLU(inplace=True)\n",
       "    (3): Dropout(p=0.5, inplace=False)\n",
       "    (4): Linear(in_features=4096, out_features=4096, bias=True)\n",
       "    (5): ReLU(inplace=True)\n",
       "    (6): Linear(in_features=4096, out_features=1000, bias=True)\n",
       "  )\n",
       ")"
      ]
     },
     "execution_count": 26,
     "metadata": {},
     "output_type": "execute_result"
    }
   ],
   "source": [
    "AlexNet2 = models.alexnet(pretrained=False)\n",
    "AlexNet2.load_state_dict(torch.load(\"W://Study Material/Jupyter Notebook/Pretrained_Weights/alexnet-owt-7be5be79.pth\"))\n",
    "AlexNet2.cuda()"
   ]
  },
  {
   "cell_type": "code",
   "execution_count": 27,
   "id": "6fb08029",
   "metadata": {
    "scrolled": true
   },
   "outputs": [
    {
     "name": "stdout",
     "output_type": "stream",
     "text": [
      "AlexNet(\n",
      "  (features): Sequential(\n",
      "    (0): Conv2d(3, 64, kernel_size=(11, 11), stride=(4, 4), padding=(2, 2))\n",
      "    (1): ReLU(inplace=True)\n",
      "    (2): MaxPool2d(kernel_size=3, stride=2, padding=0, dilation=1, ceil_mode=False)\n",
      "    (3): Conv2d(64, 192, kernel_size=(5, 5), stride=(1, 1), padding=(2, 2))\n",
      "    (4): ReLU(inplace=True)\n",
      "    (5): MaxPool2d(kernel_size=3, stride=2, padding=0, dilation=1, ceil_mode=False)\n",
      "    (6): Conv2d(192, 384, kernel_size=(3, 3), stride=(1, 1), padding=(1, 1))\n",
      "    (7): ReLU(inplace=True)\n",
      "    (8): Conv2d(384, 256, kernel_size=(3, 3), stride=(1, 1), padding=(1, 1))\n",
      "    (9): ReLU(inplace=True)\n",
      "    (10): Conv2d(256, 256, kernel_size=(3, 3), stride=(1, 1), padding=(1, 1))\n",
      "    (11): ReLU(inplace=True)\n",
      "    (12): MaxPool2d(kernel_size=3, stride=2, padding=0, dilation=1, ceil_mode=False)\n",
      "  )\n",
      "  (avgpool): AdaptiveAvgPool2d(output_size=(6, 6))\n",
      "  (classifier): Sequential(\n",
      "    (0): Dropout(p=0.5, inplace=False)\n",
      "    (1): Linear(in_features=9216, out_features=4096, bias=True)\n",
      "    (2): ReLU(inplace=True)\n",
      "    (3): Linear(in_features=4096, out_features=10, bias=True)\n",
      "  )\n",
      ")\n"
     ]
    }
   ],
   "source": [
    "AlexNet2.classifier = nn.Sequential(\n",
    "    nn.Dropout(0.5,False),\n",
    "    nn.Linear(9216,4096,True),\n",
    "    nn.ReLU(True),\n",
    "    nn.Linear(4096,10,True)\n",
    ")\n",
    "print(AlexNet2)"
   ]
  },
  {
   "cell_type": "code",
   "execution_count": 24,
   "id": "0e9cc847",
   "metadata": {},
   "outputs": [],
   "source": [
    "loss_fn = nn.CrossEntropyLoss()\n",
    "optimizer = optim.Adam(AlexNet2.parameters(),lr=1e-3)"
   ]
  },
  {
   "cell_type": "code",
   "execution_count": 25,
   "id": "9d19b52c",
   "metadata": {
    "collapsed": true
   },
   "outputs": [
    {
     "data": {
      "application/vnd.jupyter.widget-view+json": {
       "model_id": "9fdcb1dbec5e479f8dfeea5be9d5b87f",
       "version_major": 2,
       "version_minor": 0
      },
      "text/plain": [
       "  0%|          | 0/3130 [00:00<?, ?it/s]"
      ]
     },
     "metadata": {},
     "output_type": "display_data"
    },
    {
     "name": "stdout",
     "output_type": "stream",
     "text": [
      "EPOCHS : 1/10 Loss : 2.342232\n",
      "The training accuracy is 9.85%\n",
      "The validation loss is 2.3030\n",
      "The valudation accuracy is 9.52%\n",
      "\n",
      "EPOCHS : 1/10 Loss : 2.302850\n",
      "The training accuracy is 9.81%\n",
      "The validation loss is 2.3027\n",
      "The valudation accuracy is 10.14%\n",
      "\n",
      "EPOCHS : 2/10 Loss : 2.302646\n",
      "The training accuracy is 9.81%\n",
      "The validation loss is 2.3028\n",
      "The valudation accuracy is 10.14%\n",
      "\n",
      "EPOCHS : 2/10 Loss : 2.302732\n",
      "The training accuracy is 9.78%\n",
      "The validation loss is 2.3027\n",
      "The valudation accuracy is 10.03%\n",
      "\n"
     ]
    },
    {
     "ename": "KeyboardInterrupt",
     "evalue": "",
     "output_type": "error",
     "traceback": [
      "\u001b[1;31m---------------------------------------------------------------------------\u001b[0m",
      "\u001b[1;31mKeyboardInterrupt\u001b[0m                         Traceback (most recent call last)",
      "\u001b[1;32m~\\AppData\\Local\\Temp/ipykernel_23084/577002224.py\u001b[0m in \u001b[0;36m<module>\u001b[1;34m\u001b[0m\n\u001b[1;32m----> 1\u001b[1;33m \u001b[0mtrain\u001b[0m\u001b[1;33m(\u001b[0m\u001b[0mAlexNet2\u001b[0m\u001b[1;33m,\u001b[0m\u001b[0mtrain_dataloader\u001b[0m\u001b[1;33m,\u001b[0m\u001b[0mval_dataloader\u001b[0m\u001b[1;33m,\u001b[0m\u001b[1;36m10\u001b[0m\u001b[1;33m,\u001b[0m\u001b[1;36m20\u001b[0m\u001b[1;33m,\u001b[0m\u001b[0mloss_fn\u001b[0m\u001b[1;33m,\u001b[0m\u001b[0moptimizer\u001b[0m\u001b[1;33m,\u001b[0m\u001b[1;34m\"cuda\"\u001b[0m\u001b[1;33m,\u001b[0m\u001b[1;36m1\u001b[0m\u001b[1;33m,\u001b[0m\u001b[1;34m\"c\"\u001b[0m\u001b[1;33m)\u001b[0m\u001b[1;33m\u001b[0m\u001b[1;33m\u001b[0m\u001b[0m\n\u001b[0m",
      "\u001b[1;32m~\\AppData\\Local\\Temp/ipykernel_23084/1989990385.py\u001b[0m in \u001b[0;36mtrain\u001b[1;34m(model, trainloader, valloader, epochs, print_frequency, loss_fn, optimizer, device, run, part)\u001b[0m\n\u001b[0;32m     16\u001b[0m         \u001b[1;32mfor\u001b[0m \u001b[0mbatch\u001b[0m\u001b[1;33m,\u001b[0m\u001b[1;33m(\u001b[0m\u001b[0mimages\u001b[0m\u001b[1;33m,\u001b[0m\u001b[0mlabels\u001b[0m\u001b[1;33m)\u001b[0m \u001b[1;32min\u001b[0m \u001b[0menumerate\u001b[0m\u001b[1;33m(\u001b[0m\u001b[0mtrainloader\u001b[0m\u001b[1;33m)\u001b[0m\u001b[1;33m:\u001b[0m\u001b[1;33m\u001b[0m\u001b[1;33m\u001b[0m\u001b[0m\n\u001b[0;32m     17\u001b[0m             \u001b[0msteps\u001b[0m \u001b[1;33m+=\u001b[0m \u001b[1;36m1\u001b[0m\u001b[1;33m\u001b[0m\u001b[1;33m\u001b[0m\u001b[0m\n\u001b[1;32m---> 18\u001b[1;33m             \u001b[0mimages\u001b[0m\u001b[1;33m,\u001b[0m \u001b[0mlabels\u001b[0m \u001b[1;33m=\u001b[0m \u001b[0mimages\u001b[0m\u001b[1;33m.\u001b[0m\u001b[0mto\u001b[0m\u001b[1;33m(\u001b[0m\u001b[0mdevice\u001b[0m\u001b[1;33m)\u001b[0m\u001b[1;33m,\u001b[0m \u001b[0mlabels\u001b[0m\u001b[1;33m.\u001b[0m\u001b[0mto\u001b[0m\u001b[1;33m(\u001b[0m\u001b[0mdevice\u001b[0m\u001b[1;33m)\u001b[0m\u001b[1;33m\u001b[0m\u001b[1;33m\u001b[0m\u001b[0m\n\u001b[0m\u001b[0;32m     19\u001b[0m             \u001b[1;31m# convert images to float because weights are floats\u001b[0m\u001b[1;33m\u001b[0m\u001b[1;33m\u001b[0m\u001b[0m\n\u001b[0;32m     20\u001b[0m             \u001b[0mimages\u001b[0m \u001b[1;33m=\u001b[0m \u001b[0mimages\u001b[0m\u001b[1;33m.\u001b[0m\u001b[0mfloat\u001b[0m\u001b[1;33m(\u001b[0m\u001b[1;33m)\u001b[0m\u001b[1;33m\u001b[0m\u001b[1;33m\u001b[0m\u001b[0m\n",
      "\u001b[1;31mKeyboardInterrupt\u001b[0m: "
     ]
    }
   ],
   "source": [
    "train(AlexNet2,train_dataloader,val_dataloader,10,20,loss_fn,optimizer,\"cuda\",1,\"c\")"
   ]
  },
  {
   "cell_type": "code",
   "execution_count": 28,
   "id": "4c52d720",
   "metadata": {},
   "outputs": [],
   "source": [
    "loss_fn = nn.CrossEntropyLoss()\n",
    "optimizer = optim.Adam(AlexNet2.parameters(),lr=1e-5)"
   ]
  },
  {
   "cell_type": "code",
   "execution_count": 29,
   "id": "fb4dec0d",
   "metadata": {
    "scrolled": true
   },
   "outputs": [
    {
     "data": {
      "application/vnd.jupyter.widget-view+json": {
       "model_id": "6150c9c7b8e745bbbaac11659d306b7a",
       "version_major": 2,
       "version_minor": 0
      },
      "text/plain": [
       "  0%|          | 0/3130 [00:00<?, ?it/s]"
      ]
     },
     "metadata": {},
     "output_type": "display_data"
    },
    {
     "name": "stdout",
     "output_type": "stream",
     "text": [
      "EPOCHS : 1/10 Loss : 1.749224\n",
      "The training accuracy is 37.26%\n",
      "The validation loss is 1.0611\n",
      "The valudation accuracy is 62.49%\n",
      "\n",
      "EPOCHS : 1/10 Loss : 1.344720\n",
      "The training accuracy is 44.61%\n",
      "The validation loss is 0.8322\n",
      "The valudation accuracy is 71.62%\n",
      "\n",
      "EPOCHS : 2/10 Loss : 1.248277\n",
      "The training accuracy is 48.05%\n",
      "The validation loss is 0.7669\n",
      "The valudation accuracy is 73.68%\n",
      "\n",
      "EPOCHS : 2/10 Loss : 1.182601\n",
      "The training accuracy is 50.66%\n",
      "The validation loss is 0.7867\n",
      "The valudation accuracy is 72.40%\n",
      "\n",
      "EPOCHS : 3/10 Loss : 1.149564\n",
      "The training accuracy is 52.32%\n",
      "The validation loss is 0.6671\n",
      "The valudation accuracy is 76.95%\n",
      "\n",
      "EPOCHS : 3/10 Loss : 1.132360\n",
      "The training accuracy is 53.53%\n",
      "The validation loss is 0.6508\n",
      "The valudation accuracy is 77.58%\n",
      "\n",
      "EPOCHS : 4/10 Loss : 1.089950\n",
      "The training accuracy is 54.61%\n",
      "The validation loss is 0.6348\n",
      "The valudation accuracy is 78.25%\n",
      "\n",
      "EPOCHS : 4/10 Loss : 1.067065\n",
      "The training accuracy is 55.53%\n",
      "The validation loss is 0.5904\n",
      "The valudation accuracy is 79.56%\n",
      "\n",
      "EPOCHS : 5/10 Loss : 1.058476\n",
      "The training accuracy is 56.33%\n",
      "The validation loss is 0.5837\n",
      "The valudation accuracy is 79.80%\n",
      "\n",
      "EPOCHS : 5/10 Loss : 1.039308\n",
      "The training accuracy is 57.00%\n",
      "The validation loss is 0.5653\n",
      "The valudation accuracy is 80.63%\n",
      "\n",
      "EPOCHS : 6/10 Loss : 1.022074\n",
      "The training accuracy is 57.62%\n",
      "The validation loss is 0.5610\n",
      "The valudation accuracy is 80.57%\n",
      "\n",
      "EPOCHS : 6/10 Loss : 1.004124\n",
      "The training accuracy is 58.18%\n",
      "The validation loss is 0.5485\n",
      "The valudation accuracy is 80.86%\n",
      "\n",
      "EPOCHS : 7/10 Loss : 0.996803\n",
      "The training accuracy is 58.69%\n",
      "The validation loss is 0.5404\n",
      "The valudation accuracy is 81.06%\n",
      "\n",
      "EPOCHS : 7/10 Loss : 0.982126\n",
      "The training accuracy is 59.15%\n",
      "The validation loss is 0.5449\n",
      "The valudation accuracy is 81.12%\n",
      "\n",
      "EPOCHS : 8/10 Loss : 0.975503\n",
      "The training accuracy is 59.57%\n",
      "The validation loss is 0.5282\n",
      "The valudation accuracy is 81.34%\n",
      "\n",
      "EPOCHS : 8/10 Loss : 0.971869\n",
      "The training accuracy is 59.97%\n",
      "The validation loss is 0.5269\n",
      "The valudation accuracy is 81.63%\n",
      "\n",
      "EPOCHS : 9/10 Loss : 0.954651\n",
      "The training accuracy is 60.34%\n",
      "The validation loss is 0.4988\n",
      "The valudation accuracy is 83.03%\n",
      "\n",
      "EPOCHS : 9/10 Loss : 0.958505\n",
      "The training accuracy is 60.65%\n",
      "The validation loss is 0.4952\n",
      "The valudation accuracy is 82.98%\n",
      "\n",
      "EPOCHS : 10/10 Loss : 0.949912\n",
      "The training accuracy is 60.97%\n",
      "The validation loss is 0.4980\n",
      "The valudation accuracy is 82.53%\n",
      "\n",
      "EPOCHS : 10/10 Loss : 0.922114\n",
      "The training accuracy is 61.29%\n",
      "The validation loss is 0.4982\n",
      "The valudation accuracy is 82.74%\n",
      "\n"
     ]
    }
   ],
   "source": [
    "train(AlexNet2,train_dataloader,val_dataloader,10,20,loss_fn,optimizer,\"cuda\",1,\"c\")"
   ]
  },
  {
   "cell_type": "code",
   "execution_count": 30,
   "id": "06758a72",
   "metadata": {
    "scrolled": true
   },
   "outputs": [
    {
     "data": {
      "application/vnd.jupyter.widget-view+json": {
       "model_id": "113d6ee37f984d4a89f2d1ea7ee3a739",
       "version_major": 2,
       "version_minor": 0
      },
      "text/plain": [
       "  0%|          | 0/3130 [00:00<?, ?it/s]"
      ]
     },
     "metadata": {},
     "output_type": "display_data"
    },
    {
     "name": "stdout",
     "output_type": "stream",
     "text": [
      "EPOCHS : 1/10 Loss : 0.983893\n",
      "The training accuracy is 65.21%\n",
      "The validation loss is 0.4936\n",
      "The valudation accuracy is 83.12%\n",
      "\n",
      "EPOCHS : 1/10 Loss : 0.904120\n",
      "The training accuracy is 66.81%\n",
      "The validation loss is 0.4828\n",
      "The valudation accuracy is 83.32%\n",
      "\n",
      "EPOCHS : 2/10 Loss : 0.906161\n",
      "The training accuracy is 67.25%\n",
      "The validation loss is 0.4769\n",
      "The valudation accuracy is 83.34%\n",
      "\n",
      "EPOCHS : 2/10 Loss : 0.900338\n",
      "The training accuracy is 67.54%\n",
      "The validation loss is 0.4763\n",
      "The valudation accuracy is 83.48%\n",
      "\n",
      "EPOCHS : 3/10 Loss : 0.921114\n",
      "The training accuracy is 67.56%\n",
      "The validation loss is 0.4737\n",
      "The valudation accuracy is 83.46%\n",
      "\n",
      "EPOCHS : 3/10 Loss : 0.895418\n",
      "The training accuracy is 67.72%\n",
      "The validation loss is 0.4758\n",
      "The valudation accuracy is 83.38%\n",
      "\n",
      "EPOCHS : 4/10 Loss : 0.905156\n",
      "The training accuracy is 67.83%\n",
      "The validation loss is 0.4768\n",
      "The valudation accuracy is 83.53%\n",
      "\n",
      "EPOCHS : 4/10 Loss : 0.887147\n",
      "The training accuracy is 67.99%\n",
      "The validation loss is 0.4795\n",
      "The valudation accuracy is 83.49%\n",
      "\n",
      "EPOCHS : 5/10 Loss : 0.894696\n",
      "The training accuracy is 68.05%\n",
      "The validation loss is 0.4749\n",
      "The valudation accuracy is 83.54%\n",
      "\n",
      "EPOCHS : 5/10 Loss : 0.898819\n",
      "The training accuracy is 68.12%\n",
      "The validation loss is 0.4786\n",
      "The valudation accuracy is 83.61%\n",
      "\n",
      "EPOCHS : 6/10 Loss : 0.897295\n",
      "The training accuracy is 68.15%\n",
      "The validation loss is 0.4721\n",
      "The valudation accuracy is 83.72%\n",
      "\n",
      "EPOCHS : 6/10 Loss : 0.907410\n",
      "The training accuracy is 68.16%\n",
      "The validation loss is 0.4769\n",
      "The valudation accuracy is 83.68%\n",
      "\n",
      "EPOCHS : 7/10 Loss : 0.901949\n",
      "The training accuracy is 68.16%\n",
      "The validation loss is 0.4778\n",
      "The valudation accuracy is 83.59%\n",
      "\n",
      "EPOCHS : 7/10 Loss : 0.892131\n",
      "The training accuracy is 68.21%\n",
      "The validation loss is 0.4749\n",
      "The valudation accuracy is 83.58%\n",
      "\n",
      "EPOCHS : 8/10 Loss : 0.893424\n",
      "The training accuracy is 68.25%\n",
      "The validation loss is 0.4760\n",
      "The valudation accuracy is 83.66%\n",
      "\n",
      "EPOCHS : 8/10 Loss : 0.907078\n",
      "The training accuracy is 68.25%\n",
      "The validation loss is 0.4715\n",
      "The valudation accuracy is 83.68%\n",
      "\n",
      "EPOCHS : 9/10 Loss : 0.907165\n",
      "The training accuracy is 68.24%\n",
      "The validation loss is 0.4700\n",
      "The valudation accuracy is 83.64%\n",
      "\n",
      "EPOCHS : 9/10 Loss : 0.888679\n",
      "The training accuracy is 68.26%\n",
      "The validation loss is 0.4740\n",
      "The valudation accuracy is 83.61%\n",
      "\n",
      "EPOCHS : 10/10 Loss : 0.898744\n",
      "The training accuracy is 68.29%\n",
      "The validation loss is 0.4734\n",
      "The valudation accuracy is 83.69%\n",
      "\n",
      "EPOCHS : 10/10 Loss : 0.893277\n",
      "The training accuracy is 68.30%\n",
      "The validation loss is 0.4694\n",
      "The valudation accuracy is 83.58%\n",
      "\n"
     ]
    }
   ],
   "source": [
    "optimizer = optim.Adam(AlexNet2.parameters(),lr=1e-7)\n",
    "train(AlexNet2,train_dataloader,val_dataloader,10,20,loss_fn,optimizer,\"cuda\",2,\"c\")"
   ]
  },
  {
   "cell_type": "code",
   "execution_count": 31,
   "id": "d563de2c",
   "metadata": {
    "scrolled": true
   },
   "outputs": [
    {
     "data": {
      "application/vnd.jupyter.widget-view+json": {
       "model_id": "e816a42f3d764b7a812ab849890a7d09",
       "version_major": 2,
       "version_minor": 0
      },
      "text/plain": [
       "  0%|          | 0/3130 [00:00<?, ?it/s]"
      ]
     },
     "metadata": {},
     "output_type": "display_data"
    },
    {
     "name": "stdout",
     "output_type": "stream",
     "text": [
      "EPOCHS : 1/10 Loss : 0.960729\n",
      "The training accuracy is 65.96%\n",
      "The validation loss is 0.4728\n",
      "The valudation accuracy is 83.51%\n",
      "\n",
      "EPOCHS : 1/10 Loss : 0.884539\n",
      "The training accuracy is 67.56%\n",
      "The validation loss is 0.4713\n",
      "The valudation accuracy is 83.52%\n",
      "\n",
      "EPOCHS : 2/10 Loss : 0.894978\n",
      "The training accuracy is 67.94%\n",
      "The validation loss is 0.4709\n",
      "The valudation accuracy is 83.56%\n",
      "\n",
      "EPOCHS : 2/10 Loss : 0.900989\n",
      "The training accuracy is 68.03%\n",
      "The validation loss is 0.4811\n",
      "The valudation accuracy is 83.58%\n",
      "\n",
      "EPOCHS : 3/10 Loss : 0.895619\n",
      "The training accuracy is 68.20%\n",
      "The validation loss is 0.4710\n",
      "The valudation accuracy is 83.62%\n",
      "\n",
      "EPOCHS : 3/10 Loss : 0.904552\n",
      "The training accuracy is 68.23%\n",
      "The validation loss is 0.4682\n",
      "The valudation accuracy is 83.59%\n",
      "\n",
      "EPOCHS : 4/10 Loss : 0.898023\n",
      "The training accuracy is 68.27%\n",
      "The validation loss is 0.4718\n",
      "The valudation accuracy is 83.64%\n",
      "\n",
      "EPOCHS : 4/10 Loss : 0.896598\n",
      "The training accuracy is 68.29%\n",
      "The validation loss is 0.4702\n",
      "The valudation accuracy is 83.62%\n",
      "\n",
      "EPOCHS : 5/10 Loss : 0.886057\n",
      "The training accuracy is 68.36%\n",
      "The validation loss is 0.4696\n",
      "The valudation accuracy is 83.62%\n",
      "\n",
      "EPOCHS : 5/10 Loss : 0.891967\n",
      "The training accuracy is 68.42%\n",
      "The validation loss is 0.4730\n",
      "The valudation accuracy is 83.62%\n",
      "\n",
      "EPOCHS : 6/10 Loss : 0.902300\n",
      "The training accuracy is 68.40%\n",
      "The validation loss is 0.4713\n",
      "The valudation accuracy is 83.61%\n",
      "\n",
      "EPOCHS : 6/10 Loss : 0.888475\n",
      "The training accuracy is 68.45%\n",
      "The validation loss is 0.4702\n",
      "The valudation accuracy is 83.65%\n",
      "\n",
      "EPOCHS : 7/10 Loss : 0.886854\n",
      "The training accuracy is 68.51%\n",
      "The validation loss is 0.4714\n",
      "The valudation accuracy is 83.63%\n",
      "\n",
      "EPOCHS : 7/10 Loss : 0.900989\n",
      "The training accuracy is 68.50%\n",
      "The validation loss is 0.4767\n",
      "The valudation accuracy is 83.65%\n",
      "\n",
      "EPOCHS : 8/10 Loss : 0.898051\n",
      "The training accuracy is 68.50%\n",
      "The validation loss is 0.4729\n",
      "The valudation accuracy is 83.66%\n",
      "\n",
      "EPOCHS : 8/10 Loss : 0.888562\n",
      "The training accuracy is 68.51%\n",
      "The validation loss is 0.4689\n",
      "The valudation accuracy is 83.66%\n",
      "\n",
      "EPOCHS : 9/10 Loss : 0.882809\n",
      "The training accuracy is 68.55%\n",
      "The validation loss is 0.4671\n",
      "The valudation accuracy is 83.67%\n",
      "\n",
      "EPOCHS : 9/10 Loss : 0.898687\n",
      "The training accuracy is 68.53%\n",
      "The validation loss is 0.4736\n",
      "The valudation accuracy is 83.69%\n",
      "\n",
      "EPOCHS : 10/10 Loss : 0.892271\n",
      "The training accuracy is 68.54%\n",
      "The validation loss is 0.4707\n",
      "The valudation accuracy is 83.68%\n",
      "\n",
      "EPOCHS : 10/10 Loss : 0.904148\n",
      "The training accuracy is 68.52%\n",
      "The validation loss is 0.4711\n",
      "The valudation accuracy is 83.65%\n",
      "\n"
     ]
    }
   ],
   "source": [
    "optimizer = optim.Adam(AlexNet2.parameters(),lr=1e-8)\n",
    "#AlexNet.load_state_dict(torch.load(\"Weights/part-c-run-2-Best.pth\"))\n",
    "train(AlexNet2,train_dataloader,val_dataloader,10,20,loss_fn,optimizer,\"cuda\",3,\"c\")"
   ]
  },
  {
   "cell_type": "code",
   "execution_count": null,
   "id": "43c38748",
   "metadata": {},
   "outputs": [],
   "source": []
  },
  {
   "cell_type": "code",
   "execution_count": null,
   "id": "1e47e74d",
   "metadata": {},
   "outputs": [],
   "source": []
  },
  {
   "cell_type": "code",
   "execution_count": null,
   "id": "70c16301",
   "metadata": {},
   "outputs": [],
   "source": []
  },
  {
   "cell_type": "code",
   "execution_count": null,
   "id": "9c682398",
   "metadata": {},
   "outputs": [],
   "source": []
  },
  {
   "cell_type": "markdown",
   "id": "2e144b63",
   "metadata": {},
   "source": [
    "# Part d)"
   ]
  },
  {
   "cell_type": "code",
   "execution_count": 32,
   "id": "f5743b6b",
   "metadata": {},
   "outputs": [
    {
     "data": {
      "text/plain": [
       "AlexNet(\n",
       "  (features): Sequential(\n",
       "    (0): Conv2d(3, 64, kernel_size=(11, 11), stride=(4, 4), padding=(2, 2))\n",
       "    (1): ReLU(inplace=True)\n",
       "    (2): MaxPool2d(kernel_size=3, stride=2, padding=0, dilation=1, ceil_mode=False)\n",
       "    (3): Conv2d(64, 192, kernel_size=(5, 5), stride=(1, 1), padding=(2, 2))\n",
       "    (4): ReLU(inplace=True)\n",
       "    (5): MaxPool2d(kernel_size=3, stride=2, padding=0, dilation=1, ceil_mode=False)\n",
       "    (6): Conv2d(192, 384, kernel_size=(3, 3), stride=(1, 1), padding=(1, 1))\n",
       "    (7): ReLU(inplace=True)\n",
       "    (8): Conv2d(384, 256, kernel_size=(3, 3), stride=(1, 1), padding=(1, 1))\n",
       "    (9): ReLU(inplace=True)\n",
       "    (10): Conv2d(256, 256, kernel_size=(3, 3), stride=(1, 1), padding=(1, 1))\n",
       "    (11): ReLU(inplace=True)\n",
       "    (12): MaxPool2d(kernel_size=3, stride=2, padding=0, dilation=1, ceil_mode=False)\n",
       "  )\n",
       "  (avgpool): AdaptiveAvgPool2d(output_size=(6, 6))\n",
       "  (classifier): Sequential(\n",
       "    (0): Dropout(p=0.5, inplace=False)\n",
       "    (1): Linear(in_features=9216, out_features=4096, bias=True)\n",
       "    (2): ReLU(inplace=True)\n",
       "    (3): Dropout(p=0.5, inplace=False)\n",
       "    (4): Linear(in_features=4096, out_features=4096, bias=True)\n",
       "    (5): ReLU(inplace=True)\n",
       "    (6): Linear(in_features=4096, out_features=1000, bias=True)\n",
       "  )\n",
       ")"
      ]
     },
     "execution_count": 32,
     "metadata": {},
     "output_type": "execute_result"
    }
   ],
   "source": [
    "AlexNet3 = models.alexnet(pretrained=False)\n",
    "AlexNet3.load_state_dict(torch.load(\"W://Study Material/Jupyter Notebook/Pretrained_Weights/alexnet-owt-7be5be79.pth\"))\n",
    "AlexNet3.cuda()"
   ]
  },
  {
   "cell_type": "code",
   "execution_count": 34,
   "id": "45e3f38a",
   "metadata": {},
   "outputs": [
    {
     "name": "stdout",
     "output_type": "stream",
     "text": [
      "AlexNet(\n",
      "  (features): Sequential(\n",
      "    (0): Conv2d(3, 64, kernel_size=(11, 11), stride=(4, 4), padding=(2, 2))\n",
      "    (1): ReLU(inplace=True)\n",
      "    (2): MaxPool2d(kernel_size=3, stride=2, padding=0, dilation=1, ceil_mode=False)\n",
      "    (3): Conv2d(64, 192, kernel_size=(5, 5), stride=(1, 1), padding=(2, 2))\n",
      "    (4): ReLU(inplace=True)\n",
      "    (5): MaxPool2d(kernel_size=3, stride=2, padding=0, dilation=1, ceil_mode=False)\n",
      "    (6): Conv2d(192, 384, kernel_size=(3, 3), stride=(1, 1), padding=(1, 1))\n",
      "    (7): ReLU(inplace=True)\n",
      "    (8): Conv2d(384, 256, kernel_size=(3, 3), stride=(1, 1), padding=(1, 1))\n",
      "    (9): ReLU(inplace=True)\n",
      "    (10): Conv2d(256, 256, kernel_size=(3, 3), stride=(1, 1), padding=(1, 1))\n",
      "    (11): ReLU(inplace=True)\n",
      "    (12): MaxPool2d(kernel_size=3, stride=2, padding=0, dilation=1, ceil_mode=False)\n",
      "  )\n",
      "  (avgpool): AdaptiveAvgPool2d(output_size=(6, 6))\n",
      "  (classifier): Sequential(\n",
      "    (0): Dropout(p=0.5, inplace=False)\n",
      "    (1): Linear(in_features=9216, out_features=4096, bias=True)\n",
      "    (2): ReLU(inplace=True)\n",
      "    (3): Dropout(p=0.5, inplace=False)\n",
      "    (4): Linear(in_features=4096, out_features=4096, bias=True)\n",
      "    (5): ReLU(inplace=True)\n",
      "    (6): Linear(in_features=4096, out_features=10, bias=True)\n",
      "  )\n",
      ")\n"
     ]
    }
   ],
   "source": [
    "AlexNet3.classifier[6] = nn.Linear(4096,10,True)\n",
    "print(AlexNet3)"
   ]
  },
  {
   "cell_type": "code",
   "execution_count": 35,
   "id": "987d99e3",
   "metadata": {},
   "outputs": [],
   "source": [
    "loss_fn = nn.CrossEntropyLoss()\n",
    "optimizer = optim.Adam(AlexNet3.parameters(),lr=1e-5)"
   ]
  },
  {
   "cell_type": "code",
   "execution_count": 36,
   "id": "5673cdfe",
   "metadata": {
    "scrolled": true
   },
   "outputs": [
    {
     "data": {
      "application/vnd.jupyter.widget-view+json": {
       "model_id": "89a8697c307a490a87fd579b2ff75f49",
       "version_major": 2,
       "version_minor": 0
      },
      "text/plain": [
       "  0%|          | 0/3130 [00:00<?, ?it/s]"
      ]
     },
     "metadata": {},
     "output_type": "display_data"
    },
    {
     "name": "stdout",
     "output_type": "stream",
     "text": [
      "EPOCHS : 1/10 Loss : 1.850561\n",
      "The training accuracy is 32.47%\n",
      "The validation loss is 1.2623\n",
      "The valudation accuracy is 55.76%\n",
      "\n",
      "EPOCHS : 1/10 Loss : 1.405315\n",
      "The training accuracy is 40.75%\n",
      "The validation loss is 0.9747\n",
      "The valudation accuracy is 65.92%\n",
      "\n",
      "EPOCHS : 2/10 Loss : 1.257076\n",
      "The training accuracy is 45.55%\n",
      "The validation loss is 0.8586\n",
      "The valudation accuracy is 69.45%\n",
      "\n",
      "EPOCHS : 2/10 Loss : 1.177570\n",
      "The training accuracy is 48.66%\n",
      "The validation loss is 0.7658\n",
      "The valudation accuracy is 73.17%\n",
      "\n",
      "EPOCHS : 3/10 Loss : 1.127938\n",
      "The training accuracy is 50.88%\n",
      "The validation loss is 0.6838\n",
      "The valudation accuracy is 76.32%\n",
      "\n",
      "EPOCHS : 3/10 Loss : 1.089887\n",
      "The training accuracy is 52.55%\n",
      "The validation loss is 0.6361\n",
      "The valudation accuracy is 78.05%\n",
      "\n",
      "EPOCHS : 4/10 Loss : 1.061739\n",
      "The training accuracy is 53.94%\n",
      "The validation loss is 0.6482\n",
      "The valudation accuracy is 77.48%\n",
      "\n",
      "EPOCHS : 4/10 Loss : 1.048316\n",
      "The training accuracy is 55.06%\n",
      "The validation loss is 0.5840\n",
      "The valudation accuracy is 79.73%\n",
      "\n",
      "EPOCHS : 5/10 Loss : 1.028207\n",
      "The training accuracy is 56.01%\n",
      "The validation loss is 0.5783\n",
      "The valudation accuracy is 79.75%\n",
      "\n",
      "EPOCHS : 5/10 Loss : 0.997779\n",
      "The training accuracy is 56.87%\n",
      "The validation loss is 0.5529\n",
      "The valudation accuracy is 80.76%\n",
      "\n",
      "EPOCHS : 6/10 Loss : 0.981257\n",
      "The training accuracy is 57.63%\n",
      "The validation loss is 0.5608\n",
      "The valudation accuracy is 80.42%\n",
      "\n",
      "EPOCHS : 6/10 Loss : 0.972149\n",
      "The training accuracy is 58.28%\n",
      "The validation loss is 0.5433\n",
      "The valudation accuracy is 81.03%\n",
      "\n",
      "EPOCHS : 7/10 Loss : 0.949519\n",
      "The training accuracy is 58.90%\n",
      "The validation loss is 0.5389\n",
      "The valudation accuracy is 81.30%\n",
      "\n",
      "EPOCHS : 7/10 Loss : 0.933250\n",
      "The training accuracy is 59.49%\n",
      "The validation loss is 0.5344\n",
      "The valudation accuracy is 81.23%\n",
      "\n",
      "EPOCHS : 8/10 Loss : 0.917924\n",
      "The training accuracy is 60.05%\n",
      "The validation loss is 0.5027\n",
      "The valudation accuracy is 82.17%\n",
      "\n",
      "EPOCHS : 8/10 Loss : 0.908061\n",
      "The training accuracy is 60.55%\n",
      "The validation loss is 0.4832\n",
      "The valudation accuracy is 83.11%\n",
      "\n",
      "EPOCHS : 9/10 Loss : 0.900666\n",
      "The training accuracy is 60.99%\n",
      "The validation loss is 0.4841\n",
      "The valudation accuracy is 83.14%\n",
      "\n",
      "EPOCHS : 9/10 Loss : 0.893229\n",
      "The training accuracy is 61.41%\n",
      "The validation loss is 0.4815\n",
      "The valudation accuracy is 83.27%\n",
      "\n",
      "EPOCHS : 10/10 Loss : 0.887517\n",
      "The training accuracy is 61.80%\n",
      "The validation loss is 0.4666\n",
      "The valudation accuracy is 83.78%\n",
      "\n",
      "EPOCHS : 10/10 Loss : 0.872435\n",
      "The training accuracy is 62.16%\n",
      "The validation loss is 0.4633\n",
      "The valudation accuracy is 83.90%\n",
      "\n"
     ]
    }
   ],
   "source": [
    "train(AlexNet3,train_dataloader,val_dataloader,10,20,loss_fn,optimizer,\"cuda\",1,\"d\")"
   ]
  },
  {
   "cell_type": "code",
   "execution_count": 37,
   "id": "1614ae00",
   "metadata": {
    "scrolled": true
   },
   "outputs": [
    {
     "data": {
      "application/vnd.jupyter.widget-view+json": {
       "model_id": "6ac5bc614d0241e78414c669d1ba736e",
       "version_major": 2,
       "version_minor": 0
      },
      "text/plain": [
       "  0%|          | 0/3130 [00:00<?, ?it/s]"
      ]
     },
     "metadata": {},
     "output_type": "display_data"
    },
    {
     "name": "stdout",
     "output_type": "stream",
     "text": [
      "EPOCHS : 1/10 Loss : 1.000398\n",
      "The training accuracy is 64.65%\n",
      "The validation loss is 0.4515\n",
      "The valudation accuracy is 84.18%\n",
      "\n",
      "EPOCHS : 1/10 Loss : 0.840051\n",
      "The training accuracy is 67.60%\n",
      "The validation loss is 0.4455\n",
      "The valudation accuracy is 84.52%\n",
      "\n",
      "EPOCHS : 2/10 Loss : 0.841163\n",
      "The training accuracy is 68.52%\n",
      "The validation loss is 0.4427\n",
      "The valudation accuracy is 84.39%\n",
      "\n",
      "EPOCHS : 2/10 Loss : 0.834193\n",
      "The training accuracy is 69.07%\n",
      "The validation loss is 0.4453\n",
      "The valudation accuracy is 84.51%\n",
      "\n",
      "EPOCHS : 3/10 Loss : 0.842139\n",
      "The training accuracy is 69.33%\n",
      "The validation loss is 0.4452\n",
      "The valudation accuracy is 84.52%\n",
      "\n",
      "EPOCHS : 3/10 Loss : 0.832247\n",
      "The training accuracy is 69.59%\n",
      "The validation loss is 0.4508\n",
      "The valudation accuracy is 84.45%\n",
      "\n",
      "EPOCHS : 4/10 Loss : 0.829938\n",
      "The training accuracy is 69.76%\n",
      "The validation loss is 0.4495\n",
      "The valudation accuracy is 84.32%\n",
      "\n",
      "EPOCHS : 4/10 Loss : 0.840508\n",
      "The training accuracy is 69.87%\n",
      "The validation loss is 0.4373\n",
      "The valudation accuracy is 84.74%\n",
      "\n",
      "EPOCHS : 5/10 Loss : 0.830376\n",
      "The training accuracy is 69.95%\n",
      "The validation loss is 0.4497\n",
      "The valudation accuracy is 84.30%\n",
      "\n",
      "EPOCHS : 5/10 Loss : 0.828192\n",
      "The training accuracy is 70.06%\n",
      "The validation loss is 0.4463\n",
      "The valudation accuracy is 84.54%\n",
      "\n",
      "EPOCHS : 6/10 Loss : 0.817075\n",
      "The training accuracy is 70.18%\n",
      "The validation loss is 0.4493\n",
      "The valudation accuracy is 84.43%\n",
      "\n",
      "EPOCHS : 6/10 Loss : 0.840949\n",
      "The training accuracy is 70.18%\n",
      "The validation loss is 0.4396\n",
      "The valudation accuracy is 84.62%\n",
      "\n",
      "EPOCHS : 7/10 Loss : 0.830831\n",
      "The training accuracy is 70.21%\n",
      "The validation loss is 0.4396\n",
      "The valudation accuracy is 84.62%\n",
      "\n",
      "EPOCHS : 7/10 Loss : 0.815412\n",
      "The training accuracy is 70.30%\n",
      "The validation loss is 0.4503\n",
      "The valudation accuracy is 84.29%\n",
      "\n",
      "EPOCHS : 8/10 Loss : 0.811264\n",
      "The training accuracy is 70.35%\n",
      "The validation loss is 0.4431\n",
      "The valudation accuracy is 84.75%\n",
      "\n",
      "EPOCHS : 8/10 Loss : 0.815634\n",
      "The training accuracy is 70.40%\n",
      "The validation loss is 0.4378\n",
      "The valudation accuracy is 84.83%\n",
      "\n",
      "EPOCHS : 9/10 Loss : 0.819109\n",
      "The training accuracy is 70.46%\n",
      "The validation loss is 0.4370\n",
      "The valudation accuracy is 84.89%\n",
      "\n",
      "EPOCHS : 9/10 Loss : 0.816168\n",
      "The training accuracy is 70.52%\n",
      "The validation loss is 0.4373\n",
      "The valudation accuracy is 84.64%\n",
      "\n",
      "EPOCHS : 10/10 Loss : 0.823191\n",
      "The training accuracy is 70.53%\n",
      "The validation loss is 0.4414\n",
      "The valudation accuracy is 84.70%\n",
      "\n",
      "EPOCHS : 10/10 Loss : 0.817268\n",
      "The training accuracy is 70.57%\n",
      "The validation loss is 0.4332\n",
      "The valudation accuracy is 84.92%\n",
      "\n"
     ]
    }
   ],
   "source": [
    "optimizer = optim.Adam(AlexNet3.parameters(),lr=1e-6)\n",
    "train(AlexNet3,train_dataloader,val_dataloader,10,20,loss_fn,optimizer,\"cuda\",2,\"d\")"
   ]
  },
  {
   "cell_type": "code",
   "execution_count": 38,
   "id": "4546a846",
   "metadata": {
    "scrolled": true
   },
   "outputs": [
    {
     "data": {
      "application/vnd.jupyter.widget-view+json": {
       "model_id": "0926d574551a4a30885288bbd65350a1",
       "version_major": 2,
       "version_minor": 0
      },
      "text/plain": [
       "  0%|          | 0/3130 [00:00<?, ?it/s]"
      ]
     },
     "metadata": {},
     "output_type": "display_data"
    },
    {
     "name": "stdout",
     "output_type": "stream",
     "text": [
      "EPOCHS : 1/10 Loss : 0.991773\n",
      "The training accuracy is 64.99%\n",
      "The validation loss is 0.4360\n",
      "The valudation accuracy is 84.82%\n",
      "\n",
      "EPOCHS : 1/10 Loss : 0.805074\n",
      "The training accuracy is 68.39%\n",
      "The validation loss is 0.4337\n",
      "The valudation accuracy is 84.83%\n",
      "\n",
      "EPOCHS : 2/10 Loss : 0.811057\n",
      "The training accuracy is 69.44%\n",
      "The validation loss is 0.4410\n",
      "The valudation accuracy is 84.85%\n",
      "\n",
      "EPOCHS : 2/10 Loss : 0.822433\n",
      "The training accuracy is 69.90%\n",
      "The validation loss is 0.4325\n",
      "The valudation accuracy is 84.87%\n",
      "\n",
      "EPOCHS : 3/10 Loss : 0.820671\n",
      "The training accuracy is 70.17%\n",
      "The validation loss is 0.4350\n",
      "The valudation accuracy is 84.86%\n",
      "\n",
      "EPOCHS : 3/10 Loss : 0.810344\n",
      "The training accuracy is 70.41%\n",
      "The validation loss is 0.4347\n",
      "The valudation accuracy is 84.86%\n",
      "\n",
      "EPOCHS : 4/10 Loss : 0.813434\n",
      "The training accuracy is 70.58%\n",
      "The validation loss is 0.4321\n",
      "The valudation accuracy is 84.92%\n",
      "\n",
      "EPOCHS : 4/10 Loss : 0.816192\n",
      "The training accuracy is 70.63%\n",
      "The validation loss is 0.4329\n",
      "The valudation accuracy is 84.91%\n",
      "\n",
      "EPOCHS : 5/10 Loss : 0.803453\n",
      "The training accuracy is 70.76%\n",
      "The validation loss is 0.4387\n",
      "The valudation accuracy is 84.91%\n",
      "\n",
      "EPOCHS : 5/10 Loss : 0.815467\n",
      "The training accuracy is 70.82%\n",
      "The validation loss is 0.4337\n",
      "The valudation accuracy is 84.91%\n",
      "\n",
      "EPOCHS : 6/10 Loss : 0.811431\n",
      "The training accuracy is 70.85%\n",
      "The validation loss is 0.4321\n",
      "The valudation accuracy is 84.94%\n",
      "\n",
      "EPOCHS : 6/10 Loss : 0.815065\n",
      "The training accuracy is 70.88%\n",
      "The validation loss is 0.4348\n",
      "The valudation accuracy is 84.96%\n",
      "\n",
      "EPOCHS : 7/10 Loss : 0.806256\n",
      "The training accuracy is 70.94%\n",
      "The validation loss is 0.4310\n",
      "The valudation accuracy is 84.98%\n",
      "\n",
      "EPOCHS : 7/10 Loss : 0.807493\n",
      "The training accuracy is 70.99%\n",
      "The validation loss is 0.4324\n",
      "The valudation accuracy is 84.95%\n",
      "\n",
      "EPOCHS : 8/10 Loss : 0.812556\n",
      "The training accuracy is 71.01%\n",
      "The validation loss is 0.4330\n",
      "The valudation accuracy is 84.94%\n",
      "\n",
      "EPOCHS : 8/10 Loss : 0.814946\n",
      "The training accuracy is 71.05%\n",
      "The validation loss is 0.4334\n",
      "The valudation accuracy is 84.96%\n",
      "\n",
      "EPOCHS : 9/10 Loss : 0.814383\n",
      "The training accuracy is 71.06%\n",
      "The validation loss is 0.4323\n",
      "The valudation accuracy is 84.96%\n",
      "\n",
      "EPOCHS : 9/10 Loss : 0.804518\n",
      "The training accuracy is 71.10%\n",
      "The validation loss is 0.4302\n",
      "The valudation accuracy is 84.96%\n",
      "\n",
      "EPOCHS : 10/10 Loss : 0.820406\n",
      "The training accuracy is 71.08%\n",
      "The validation loss is 0.4344\n",
      "The valudation accuracy is 84.96%\n",
      "\n",
      "EPOCHS : 10/10 Loss : 0.801487\n",
      "The training accuracy is 71.12%\n",
      "The validation loss is 0.4318\n",
      "The valudation accuracy is 84.97%\n",
      "\n"
     ]
    }
   ],
   "source": [
    "optimizer = optim.Adam(AlexNet3.parameters(),lr=1e-8)\n",
    "#AlexNet.load_state_dict(torch.load(\"Weights/part-d-run-2-Best.pth\"))\n",
    "train(AlexNet3,train_dataloader,val_dataloader,10,20,loss_fn,optimizer,\"cuda\",3,\"d\")"
   ]
  },
  {
   "cell_type": "code",
   "execution_count": null,
   "id": "15f53cbf",
   "metadata": {},
   "outputs": [],
   "source": []
  }
 ],
 "metadata": {
  "kernelspec": {
   "display_name": "Python 3 (ipykernel)",
   "language": "python",
   "name": "python3"
  },
  "language_info": {
   "codemirror_mode": {
    "name": "ipython",
    "version": 3
   },
   "file_extension": ".py",
   "mimetype": "text/x-python",
   "name": "python",
   "nbconvert_exporter": "python",
   "pygments_lexer": "ipython3",
   "version": "3.9.7"
  }
 },
 "nbformat": 4,
 "nbformat_minor": 5
}
