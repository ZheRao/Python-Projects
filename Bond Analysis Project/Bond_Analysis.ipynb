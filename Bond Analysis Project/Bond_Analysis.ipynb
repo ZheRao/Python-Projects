{
  "nbformat": 4,
  "nbformat_minor": 0,
  "metadata": {
    "colab": {
      "name": "Bond Analysis.ipynb",
      "provenance": [],
      "collapsed_sections": [],
      "authorship_tag": "ABX9TyO9yuTIT0jb62S6b4MVaRph",
      "include_colab_link": true
    },
    "kernelspec": {
      "name": "python3",
      "display_name": "Python 3"
    },
    "language_info": {
      "name": "python"
    },
    "accelerator": "GPU"
  },
  "cells": [
    {
      "cell_type": "markdown",
      "metadata": {
        "id": "view-in-github",
        "colab_type": "text"
      },
      "source": [
        "<a href=\"https://colab.research.google.com/github/ZheRao/Python-Projects/blob/main/Bond_Analysis.ipynb\" target=\"_parent\"><img src=\"https://colab.research.google.com/assets/colab-badge.svg\" alt=\"Open In Colab\"/></a>"
      ]
    },
    {
      "cell_type": "code",
      "metadata": {
        "id": "BidJdmq-5VJO"
      },
      "source": [
        "import pandas as pd\n",
        "import numpy as np\n",
        "from scipy.stats import norm"
      ],
      "execution_count": 1,
      "outputs": []
    },
    {
      "cell_type": "markdown",
      "metadata": {
        "id": "QQq86eg-JcSV"
      },
      "source": [
        "# Getting the data ready"
      ]
    },
    {
      "cell_type": "code",
      "metadata": {
        "colab": {
          "resources": {
            "http://localhost:8080/nbextensions/google.colab/files.js": {
              "data": "Ly8gQ29weXJpZ2h0IDIwMTcgR29vZ2xlIExMQwovLwovLyBMaWNlbnNlZCB1bmRlciB0aGUgQXBhY2hlIExpY2Vuc2UsIFZlcnNpb24gMi4wICh0aGUgIkxpY2Vuc2UiKTsKLy8geW91IG1heSBub3QgdXNlIHRoaXMgZmlsZSBleGNlcHQgaW4gY29tcGxpYW5jZSB3aXRoIHRoZSBMaWNlbnNlLgovLyBZb3UgbWF5IG9idGFpbiBhIGNvcHkgb2YgdGhlIExpY2Vuc2UgYXQKLy8KLy8gICAgICBodHRwOi8vd3d3LmFwYWNoZS5vcmcvbGljZW5zZXMvTElDRU5TRS0yLjAKLy8KLy8gVW5sZXNzIHJlcXVpcmVkIGJ5IGFwcGxpY2FibGUgbGF3IG9yIGFncmVlZCB0byBpbiB3cml0aW5nLCBzb2Z0d2FyZQovLyBkaXN0cmlidXRlZCB1bmRlciB0aGUgTGljZW5zZSBpcyBkaXN0cmlidXRlZCBvbiBhbiAiQVMgSVMiIEJBU0lTLAovLyBXSVRIT1VUIFdBUlJBTlRJRVMgT1IgQ09ORElUSU9OUyBPRiBBTlkgS0lORCwgZWl0aGVyIGV4cHJlc3Mgb3IgaW1wbGllZC4KLy8gU2VlIHRoZSBMaWNlbnNlIGZvciB0aGUgc3BlY2lmaWMgbGFuZ3VhZ2UgZ292ZXJuaW5nIHBlcm1pc3Npb25zIGFuZAovLyBsaW1pdGF0aW9ucyB1bmRlciB0aGUgTGljZW5zZS4KCi8qKgogKiBAZmlsZW92ZXJ2aWV3IEhlbHBlcnMgZm9yIGdvb2dsZS5jb2xhYiBQeXRob24gbW9kdWxlLgogKi8KKGZ1bmN0aW9uKHNjb3BlKSB7CmZ1bmN0aW9uIHNwYW4odGV4dCwgc3R5bGVBdHRyaWJ1dGVzID0ge30pIHsKICBjb25zdCBlbGVtZW50ID0gZG9jdW1lbnQuY3JlYXRlRWxlbWVudCgnc3BhbicpOwogIGVsZW1lbnQudGV4dENvbnRlbnQgPSB0ZXh0OwogIGZvciAoY29uc3Qga2V5IG9mIE9iamVjdC5rZXlzKHN0eWxlQXR0cmlidXRlcykpIHsKICAgIGVsZW1lbnQuc3R5bGVba2V5XSA9IHN0eWxlQXR0cmlidXRlc1trZXldOwogIH0KICByZXR1cm4gZWxlbWVudDsKfQoKLy8gTWF4IG51bWJlciBvZiBieXRlcyB3aGljaCB3aWxsIGJlIHVwbG9hZGVkIGF0IGEgdGltZS4KY29uc3QgTUFYX1BBWUxPQURfU0laRSA9IDEwMCAqIDEwMjQ7CgpmdW5jdGlvbiBfdXBsb2FkRmlsZXMoaW5wdXRJZCwgb3V0cHV0SWQpIHsKICBjb25zdCBzdGVwcyA9IHVwbG9hZEZpbGVzU3RlcChpbnB1dElkLCBvdXRwdXRJZCk7CiAgY29uc3Qgb3V0cHV0RWxlbWVudCA9IGRvY3VtZW50LmdldEVsZW1lbnRCeUlkKG91dHB1dElkKTsKICAvLyBDYWNoZSBzdGVwcyBvbiB0aGUgb3V0cHV0RWxlbWVudCB0byBtYWtlIGl0IGF2YWlsYWJsZSBmb3IgdGhlIG5leHQgY2FsbAogIC8vIHRvIHVwbG9hZEZpbGVzQ29udGludWUgZnJvbSBQeXRob24uCiAgb3V0cHV0RWxlbWVudC5zdGVwcyA9IHN0ZXBzOwoKICByZXR1cm4gX3VwbG9hZEZpbGVzQ29udGludWUob3V0cHV0SWQpOwp9CgovLyBUaGlzIGlzIHJvdWdobHkgYW4gYXN5bmMgZ2VuZXJhdG9yIChub3Qgc3VwcG9ydGVkIGluIHRoZSBicm93c2VyIHlldCksCi8vIHdoZXJlIHRoZXJlIGFyZSBtdWx0aXBsZSBhc3luY2hyb25vdXMgc3RlcHMgYW5kIHRoZSBQeXRob24gc2lkZSBpcyBnb2luZwovLyB0byBwb2xsIGZvciBjb21wbGV0aW9uIG9mIGVhY2ggc3RlcC4KLy8gVGhpcyB1c2VzIGEgUHJvbWlzZSB0byBibG9jayB0aGUgcHl0aG9uIHNpZGUgb24gY29tcGxldGlvbiBvZiBlYWNoIHN0ZXAsCi8vIHRoZW4gcGFzc2VzIHRoZSByZXN1bHQgb2YgdGhlIHByZXZpb3VzIHN0ZXAgYXMgdGhlIGlucHV0IHRvIHRoZSBuZXh0IHN0ZXAuCmZ1bmN0aW9uIF91cGxvYWRGaWxlc0NvbnRpbnVlKG91dHB1dElkKSB7CiAgY29uc3Qgb3V0cHV0RWxlbWVudCA9IGRvY3VtZW50LmdldEVsZW1lbnRCeUlkKG91dHB1dElkKTsKICBjb25zdCBzdGVwcyA9IG91dHB1dEVsZW1lbnQuc3RlcHM7CgogIGNvbnN0IG5leHQgPSBzdGVwcy5uZXh0KG91dHB1dEVsZW1lbnQubGFzdFByb21pc2VWYWx1ZSk7CiAgcmV0dXJuIFByb21pc2UucmVzb2x2ZShuZXh0LnZhbHVlLnByb21pc2UpLnRoZW4oKHZhbHVlKSA9PiB7CiAgICAvLyBDYWNoZSB0aGUgbGFzdCBwcm9taXNlIHZhbHVlIHRvIG1ha2UgaXQgYXZhaWxhYmxlIHRvIHRoZSBuZXh0CiAgICAvLyBzdGVwIG9mIHRoZSBnZW5lcmF0b3IuCiAgICBvdXRwdXRFbGVtZW50Lmxhc3RQcm9taXNlVmFsdWUgPSB2YWx1ZTsKICAgIHJldHVybiBuZXh0LnZhbHVlLnJlc3BvbnNlOwogIH0pOwp9CgovKioKICogR2VuZXJhdG9yIGZ1bmN0aW9uIHdoaWNoIGlzIGNhbGxlZCBiZXR3ZWVuIGVhY2ggYXN5bmMgc3RlcCBvZiB0aGUgdXBsb2FkCiAqIHByb2Nlc3MuCiAqIEBwYXJhbSB7c3RyaW5nfSBpbnB1dElkIEVsZW1lbnQgSUQgb2YgdGhlIGlucHV0IGZpbGUgcGlja2VyIGVsZW1lbnQuCiAqIEBwYXJhbSB7c3RyaW5nfSBvdXRwdXRJZCBFbGVtZW50IElEIG9mIHRoZSBvdXRwdXQgZGlzcGxheS4KICogQHJldHVybiB7IUl0ZXJhYmxlPCFPYmplY3Q+fSBJdGVyYWJsZSBvZiBuZXh0IHN0ZXBzLgogKi8KZnVuY3Rpb24qIHVwbG9hZEZpbGVzU3RlcChpbnB1dElkLCBvdXRwdXRJZCkgewogIGNvbnN0IGlucHV0RWxlbWVudCA9IGRvY3VtZW50LmdldEVsZW1lbnRCeUlkKGlucHV0SWQpOwogIGlucHV0RWxlbWVudC5kaXNhYmxlZCA9IGZhbHNlOwoKICBjb25zdCBvdXRwdXRFbGVtZW50ID0gZG9jdW1lbnQuZ2V0RWxlbWVudEJ5SWQob3V0cHV0SWQpOwogIG91dHB1dEVsZW1lbnQuaW5uZXJIVE1MID0gJyc7CgogIGNvbnN0IHBpY2tlZFByb21pc2UgPSBuZXcgUHJvbWlzZSgocmVzb2x2ZSkgPT4gewogICAgaW5wdXRFbGVtZW50LmFkZEV2ZW50TGlzdGVuZXIoJ2NoYW5nZScsIChlKSA9PiB7CiAgICAgIHJlc29sdmUoZS50YXJnZXQuZmlsZXMpOwogICAgfSk7CiAgfSk7CgogIGNvbnN0IGNhbmNlbCA9IGRvY3VtZW50LmNyZWF0ZUVsZW1lbnQoJ2J1dHRvbicpOwogIGlucHV0RWxlbWVudC5wYXJlbnRFbGVtZW50LmFwcGVuZENoaWxkKGNhbmNlbCk7CiAgY2FuY2VsLnRleHRDb250ZW50ID0gJ0NhbmNlbCB1cGxvYWQnOwogIGNvbnN0IGNhbmNlbFByb21pc2UgPSBuZXcgUHJvbWlzZSgocmVzb2x2ZSkgPT4gewogICAgY2FuY2VsLm9uY2xpY2sgPSAoKSA9PiB7CiAgICAgIHJlc29sdmUobnVsbCk7CiAgICB9OwogIH0pOwoKICAvLyBXYWl0IGZvciB0aGUgdXNlciB0byBwaWNrIHRoZSBmaWxlcy4KICBjb25zdCBmaWxlcyA9IHlpZWxkIHsKICAgIHByb21pc2U6IFByb21pc2UucmFjZShbcGlja2VkUHJvbWlzZSwgY2FuY2VsUHJvbWlzZV0pLAogICAgcmVzcG9uc2U6IHsKICAgICAgYWN0aW9uOiAnc3RhcnRpbmcnLAogICAgfQogIH07CgogIGNhbmNlbC5yZW1vdmUoKTsKCiAgLy8gRGlzYWJsZSB0aGUgaW5wdXQgZWxlbWVudCBzaW5jZSBmdXJ0aGVyIHBpY2tzIGFyZSBub3QgYWxsb3dlZC4KICBpbnB1dEVsZW1lbnQuZGlzYWJsZWQgPSB0cnVlOwoKICBpZiAoIWZpbGVzKSB7CiAgICByZXR1cm4gewogICAgICByZXNwb25zZTogewogICAgICAgIGFjdGlvbjogJ2NvbXBsZXRlJywKICAgICAgfQogICAgfTsKICB9CgogIGZvciAoY29uc3QgZmlsZSBvZiBmaWxlcykgewogICAgY29uc3QgbGkgPSBkb2N1bWVudC5jcmVhdGVFbGVtZW50KCdsaScpOwogICAgbGkuYXBwZW5kKHNwYW4oZmlsZS5uYW1lLCB7Zm9udFdlaWdodDogJ2JvbGQnfSkpOwogICAgbGkuYXBwZW5kKHNwYW4oCiAgICAgICAgYCgke2ZpbGUudHlwZSB8fCAnbi9hJ30pIC0gJHtmaWxlLnNpemV9IGJ5dGVzLCBgICsKICAgICAgICBgbGFzdCBtb2RpZmllZDogJHsKICAgICAgICAgICAgZmlsZS5sYXN0TW9kaWZpZWREYXRlID8gZmlsZS5sYXN0TW9kaWZpZWREYXRlLnRvTG9jYWxlRGF0ZVN0cmluZygpIDoKICAgICAgICAgICAgICAgICAgICAgICAgICAgICAgICAgICAgJ24vYSd9IC0gYCkpOwogICAgY29uc3QgcGVyY2VudCA9IHNwYW4oJzAlIGRvbmUnKTsKICAgIGxpLmFwcGVuZENoaWxkKHBlcmNlbnQpOwoKICAgIG91dHB1dEVsZW1lbnQuYXBwZW5kQ2hpbGQobGkpOwoKICAgIGNvbnN0IGZpbGVEYXRhUHJvbWlzZSA9IG5ldyBQcm9taXNlKChyZXNvbHZlKSA9PiB7CiAgICAgIGNvbnN0IHJlYWRlciA9IG5ldyBGaWxlUmVhZGVyKCk7CiAgICAgIHJlYWRlci5vbmxvYWQgPSAoZSkgPT4gewogICAgICAgIHJlc29sdmUoZS50YXJnZXQucmVzdWx0KTsKICAgICAgfTsKICAgICAgcmVhZGVyLnJlYWRBc0FycmF5QnVmZmVyKGZpbGUpOwogICAgfSk7CiAgICAvLyBXYWl0IGZvciB0aGUgZGF0YSB0byBiZSByZWFkeS4KICAgIGxldCBmaWxlRGF0YSA9IHlpZWxkIHsKICAgICAgcHJvbWlzZTogZmlsZURhdGFQcm9taXNlLAogICAgICByZXNwb25zZTogewogICAgICAgIGFjdGlvbjogJ2NvbnRpbnVlJywKICAgICAgfQogICAgfTsKCiAgICAvLyBVc2UgYSBjaHVua2VkIHNlbmRpbmcgdG8gYXZvaWQgbWVzc2FnZSBzaXplIGxpbWl0cy4gU2VlIGIvNjIxMTU2NjAuCiAgICBsZXQgcG9zaXRpb24gPSAwOwogICAgZG8gewogICAgICBjb25zdCBsZW5ndGggPSBNYXRoLm1pbihmaWxlRGF0YS5ieXRlTGVuZ3RoIC0gcG9zaXRpb24sIE1BWF9QQVlMT0FEX1NJWkUpOwogICAgICBjb25zdCBjaHVuayA9IG5ldyBVaW50OEFycmF5KGZpbGVEYXRhLCBwb3NpdGlvbiwgbGVuZ3RoKTsKICAgICAgcG9zaXRpb24gKz0gbGVuZ3RoOwoKICAgICAgY29uc3QgYmFzZTY0ID0gYnRvYShTdHJpbmcuZnJvbUNoYXJDb2RlLmFwcGx5KG51bGwsIGNodW5rKSk7CiAgICAgIHlpZWxkIHsKICAgICAgICByZXNwb25zZTogewogICAgICAgICAgYWN0aW9uOiAnYXBwZW5kJywKICAgICAgICAgIGZpbGU6IGZpbGUubmFtZSwKICAgICAgICAgIGRhdGE6IGJhc2U2NCwKICAgICAgICB9LAogICAgICB9OwoKICAgICAgbGV0IHBlcmNlbnREb25lID0gZmlsZURhdGEuYnl0ZUxlbmd0aCA9PT0gMCA/CiAgICAgICAgICAxMDAgOgogICAgICAgICAgTWF0aC5yb3VuZCgocG9zaXRpb24gLyBmaWxlRGF0YS5ieXRlTGVuZ3RoKSAqIDEwMCk7CiAgICAgIHBlcmNlbnQudGV4dENvbnRlbnQgPSBgJHtwZXJjZW50RG9uZX0lIGRvbmVgOwoKICAgIH0gd2hpbGUgKHBvc2l0aW9uIDwgZmlsZURhdGEuYnl0ZUxlbmd0aCk7CiAgfQoKICAvLyBBbGwgZG9uZS4KICB5aWVsZCB7CiAgICByZXNwb25zZTogewogICAgICBhY3Rpb246ICdjb21wbGV0ZScsCiAgICB9CiAgfTsKfQoKc2NvcGUuZ29vZ2xlID0gc2NvcGUuZ29vZ2xlIHx8IHt9OwpzY29wZS5nb29nbGUuY29sYWIgPSBzY29wZS5nb29nbGUuY29sYWIgfHwge307CnNjb3BlLmdvb2dsZS5jb2xhYi5fZmlsZXMgPSB7CiAgX3VwbG9hZEZpbGVzLAogIF91cGxvYWRGaWxlc0NvbnRpbnVlLAp9Owp9KShzZWxmKTsK",
              "ok": true,
              "headers": [
                [
                  "content-type",
                  "application/javascript"
                ]
              ],
              "status": 200,
              "status_text": ""
            }
          },
          "base_uri": "https://localhost:8080/",
          "height": 89
        },
        "id": "cITmUPa96wM-",
        "outputId": "147c2005-2748-4eed-c720-fbaeb06c128d"
      },
      "source": [
        "# upload file from local drive to colab\n",
        "from google.colab import files\n",
        "uploaded = files.upload()"
      ],
      "execution_count": 2,
      "outputs": [
        {
          "output_type": "display_data",
          "data": {
            "text/html": [
              "\n",
              "     <input type=\"file\" id=\"files-c0fa7da5-3192-4bc7-bde5-f6b68698dd2e\" name=\"files[]\" multiple disabled\n",
              "        style=\"border:none\" />\n",
              "     <output id=\"result-c0fa7da5-3192-4bc7-bde5-f6b68698dd2e\">\n",
              "      Upload widget is only available when the cell has been executed in the\n",
              "      current browser session. Please rerun this cell to enable.\n",
              "      </output>\n",
              "      <script src=\"/nbextensions/google.colab/files.js\"></script> "
            ],
            "text/plain": [
              "<IPython.core.display.HTML object>"
            ]
          },
          "metadata": {}
        },
        {
          "output_type": "stream",
          "name": "stdout",
          "text": [
            "Saving DataClean2021_update_data.xlsx to DataClean2021_update_data.xlsx\n"
          ]
        }
      ]
    },
    {
      "cell_type": "code",
      "metadata": {
        "id": "3ZN5bLvn5VYd"
      },
      "source": [
        "# read the bonds information, store it in \"dataset\" data frame\n",
        "dataset = pd.read_excel('DataClean2021_update_data.xlsx')"
      ],
      "execution_count": 3,
      "outputs": []
    },
    {
      "cell_type": "code",
      "metadata": {
        "id": "CTHWP_BIQanR"
      },
      "source": [
        "# read the yields information, store it in \"yields\" data frame\n",
        "yields = pd.read_excel('DataClean2021_update_data.xlsx', sheet_name=1)\n"
      ],
      "execution_count": 4,
      "outputs": []
    },
    {
      "cell_type": "code",
      "metadata": {
        "id": "kKlbXuPs9DzH"
      },
      "source": [
        "# calculate the number of rows in yields\n",
        "nrow_y = yields.iloc[:,1].count()\n",
        "\n",
        "# calculate the number of columns in yields\n",
        "ncol_y = yields.iloc[1,:].count()"
      ],
      "execution_count": 5,
      "outputs": []
    },
    {
      "cell_type": "markdown",
      "metadata": {
        "id": "ZLR1ep7GJoxe"
      },
      "source": [
        "# Calculating missing coupon numbers"
      ]
    },
    {
      "cell_type": "code",
      "metadata": {
        "id": "xlBGCRWLJpcq"
      },
      "source": [
        "# merge the data so that I don't have to search the yields everytime I need to find a yield \n",
        "#  (reduce running time)\n",
        "# Yield data starting in column 10 (NR), the first yield starts in 12 (025YR)\n",
        "mergedData = pd.merge(left=dataset,right=yields,how=\"left\", left_on=\"PurchaseDate\", right_on=\"Date\")"
      ],
      "execution_count": 6,
      "outputs": []
    },
    {
      "cell_type": "code",
      "metadata": {
        "id": "Xv7kU4x-tSsz"
      },
      "source": [
        "# return the appropriate yields corresponding to the purchase date\n",
        "def getYields2(bond):\n",
        "  freq = bond.loc[\"PaymentPeriod\"]\n",
        "  #print(freq)\n",
        "  if freq == \"Annually\":\n",
        "    index = np.arange(15,10+ncol_y,4)\n",
        "    return bond[index]\n",
        "  elif freq == \"SemiAnnually\":\n",
        "    index = np.arange(13,10+ncol_y,2)\n",
        "    return bond[index]\n",
        "  else:\n",
        "    index = np.arange(12,10+ncol_y)\n",
        "    return bond[index]"
      ],
      "execution_count": 7,
      "outputs": []
    },
    {
      "cell_type": "code",
      "metadata": {
        "id": "abHeDJ8YoX1G"
      },
      "source": [
        "# define the function that calculate the bond price\n",
        "def bondPrice(period, coupon, spread, bondyield, num_coupon):\n",
        "  price = 0\n",
        "\n",
        "  if period == \"Annually\":\n",
        "    for i in np.arange(num_coupon):\n",
        "      price += coupon / (1+bondyield[i]+spread) ** (i+1)\n",
        "    price += 100 / (1+bondyield[num_coupon-1]+spread)**(num_coupon)\n",
        "  elif period == \"SemiAnnually\":\n",
        "    for i in np.arange(num_coupon):\n",
        "      price += coupon / (1+bondyield[i]/2+spread) ** (i+1)\n",
        "    price += 100 / (1+bondyield[num_coupon-1]/2+spread)**(num_coupon)\n",
        "  else:\n",
        "    for i in np.arange(num_coupon):\n",
        "      price += coupon / (1+bondyield[i]/4+spread) ** (i+1)\n",
        "    price += 100 / (1+bondyield[num_coupon-1]/4+spread)**(num_coupon)\n",
        "  \n",
        "  return price"
      ],
      "execution_count": 8,
      "outputs": []
    },
    {
      "cell_type": "code",
      "metadata": {
        "id": "MvEZRKY5O-eM"
      },
      "source": [
        "# define the linear search function just in case bisection method cannot be used\n",
        "def lineSearch(freq,coupon,spread,bondyield,TP,eps,max,min):\n",
        "  price = bondPrice(freq,coupon,spread,bondyield,max)\n",
        "  error = abs(price-TP)\n",
        "  if error <= eps:\n",
        "    return max\n",
        "  lowest_error = error\n",
        "  lowest_error_idx = max\n",
        "\n",
        "  # return the number of coupons if the error is within tolerance\n",
        "  for i in np.arange((max-min)):\n",
        "    price = bondPrice(freq,coupon,spread,bondyield,max-i)\n",
        "    error = abs(price-TP)\n",
        "    if error <= eps:\n",
        "      return max-i\n",
        "    else:\n",
        "      if error < lowest_error:\n",
        "        lowest_error = error\n",
        "        lowest_error_idx = max-i\n",
        "\n",
        "  # if the function reaches here, means we have not returned anything, no error is within tolerance\n",
        "  #  so we will return the coupon number that produce the least error\n",
        "  return lowest_error_idx\n",
        "\n"
      ],
      "execution_count": 9,
      "outputs": []
    },
    {
      "cell_type": "code",
      "metadata": {
        "id": "93gukisQXKxM"
      },
      "source": [
        "# define the function that calculate the difference between calculated price and true price\n",
        "def diffFun(freq,coupon,spread,bondyield,couponNum,TP):\n",
        "  price = bondPrice(freq,coupon,spread,bondyield,couponNum)\n",
        "  return price-TP"
      ],
      "execution_count": 10,
      "outputs": []
    },
    {
      "cell_type": "code",
      "metadata": {
        "id": "ZnFxVdBt5Vjz"
      },
      "source": [
        "# define the bisection method\n",
        "\n",
        "def getCouponNum2(freq,coupon,spread,bondyield,TP,min,eps):\n",
        "  a = min\n",
        "  b = bondyield.count()\n",
        "  preDiff = 0\n",
        "  curDiff = 0\n",
        "  # first check if the signs are different in the two extreme cases\n",
        "  f_a = diffFun(freq,coupon,spread,bondyield,a,TP)\n",
        "  f_b = diffFun(freq,coupon,spread,bondyield,b,TP)\n",
        "  \n",
        "  if f_a*f_b >= 0:\n",
        "    # pass the bond to linear search\n",
        "    CNum=lineSearch(freq,coupon,spread,bondyield,TP,eps,b,min)\n",
        "    return CNum\n",
        "\n",
        "\n",
        "  # now that we know the root is in the middle, which means we can perform a bisection to find it\n",
        "  c = round((a+b)/2)\n",
        "  f_c = diffFun(freq,coupon,spread,bondyield,c,TP)\n",
        "\n",
        "  while abs(f_c) > eps:\n",
        "    if f_c * f_a < 0:\n",
        "      b = c\n",
        "      f_b = f_c\n",
        "    elif f_c * f_b < 0:\n",
        "      a = c\n",
        "      f_a = f_c\n",
        "    preDiff = f_c\n",
        "    c = round((a+b)/2)\n",
        "    f_c = diffFun(freq,coupon,spread,bondyield,c,TP)\n",
        "    curDiff = f_c\n",
        "    if preDiff == curDiff:\n",
        "      CNum=lineSearch(freq,coupon,spread,bondyield,TP,eps,bondyield.count(),min)\n",
        "      return CNum\n",
        "\n",
        "  return c\n",
        "\n",
        "\n",
        "\n",
        "\n"
      ],
      "execution_count": 11,
      "outputs": []
    },
    {
      "cell_type": "markdown",
      "source": [
        "## calculate the number of coupons"
      ],
      "metadata": {
        "id": "cX0Gd5QHcGWD"
      }
    },
    {
      "cell_type": "code",
      "metadata": {
        "id": "20EQLrkV98mg"
      },
      "source": [
        "# calcualte the total number of coupons and store it in the bonds dataframe\n",
        "mergedData[\"TotalCouponNum\"] = mergedData.apply(lambda x:getCouponNum2(x[\"PaymentPeriod\"],x[\"CouponRate\"]*100,\n",
        "                                    x[\"Spread\"],getYields2(x),\n",
        "                                    x[\"PriceAtCoupon0(%)\"],x[\"CurrentCouponNumbers\"],0.0001),\n",
        "                        axis=1)"
      ],
      "execution_count": 12,
      "outputs": []
    },
    {
      "cell_type": "code",
      "source": [
        ""
      ],
      "metadata": {
        "id": "AGmmlChpeyoL"
      },
      "execution_count": null,
      "outputs": []
    },
    {
      "cell_type": "markdown",
      "source": [
        "## show some of the results"
      ],
      "metadata": {
        "id": "RmzsCkvRcWli"
      }
    },
    {
      "cell_type": "code",
      "source": [
        "# demonstrate that the calculated bond price with calulcated number of coupons are the same as the coupon price\n",
        "mergedData[\"CalculatedPrice\"] = mergedData.apply(lambda x:bondPrice(x[\"PaymentPeriod\"],x[\"CouponRate\"]*100,\n",
        "                                  x[\"Spread\"],getYields2(x),\n",
        "                                  x[\"TotalCouponNum\"]),axis=1)"
      ],
      "metadata": {
        "id": "9rKT5HONcVtJ"
      },
      "execution_count": 13,
      "outputs": []
    },
    {
      "cell_type": "code",
      "source": [
        "mergedData.loc[:,[\"PriceAtCoupon0(%)\",\"CalculatedPrice\"]]"
      ],
      "metadata": {
        "colab": {
          "base_uri": "https://localhost:8080/",
          "height": 419
        },
        "id": "2ce1UlZ6cVw-",
        "outputId": "1f7dfb69-dd40-4ec7-b4b1-fc9ad5b701b0"
      },
      "execution_count": 19,
      "outputs": [
        {
          "output_type": "execute_result",
          "data": {
            "text/html": [
              "\n",
              "  <div id=\"df-28ae3041-5146-490e-91a2-ecaee33b6cc6\">\n",
              "    <div class=\"colab-df-container\">\n",
              "      <div>\n",
              "<style scoped>\n",
              "    .dataframe tbody tr th:only-of-type {\n",
              "        vertical-align: middle;\n",
              "    }\n",
              "\n",
              "    .dataframe tbody tr th {\n",
              "        vertical-align: top;\n",
              "    }\n",
              "\n",
              "    .dataframe thead th {\n",
              "        text-align: right;\n",
              "    }\n",
              "</style>\n",
              "<table border=\"1\" class=\"dataframe\">\n",
              "  <thead>\n",
              "    <tr style=\"text-align: right;\">\n",
              "      <th></th>\n",
              "      <th>PriceAtCoupon0(%)</th>\n",
              "      <th>CalculatedPrice</th>\n",
              "    </tr>\n",
              "  </thead>\n",
              "  <tbody>\n",
              "    <tr>\n",
              "      <th>0</th>\n",
              "      <td>122.100715</td>\n",
              "      <td>122.100715</td>\n",
              "    </tr>\n",
              "    <tr>\n",
              "      <th>1</th>\n",
              "      <td>65.558537</td>\n",
              "      <td>65.558537</td>\n",
              "    </tr>\n",
              "    <tr>\n",
              "      <th>2</th>\n",
              "      <td>89.527186</td>\n",
              "      <td>89.527186</td>\n",
              "    </tr>\n",
              "    <tr>\n",
              "      <th>3</th>\n",
              "      <td>90.784587</td>\n",
              "      <td>90.784587</td>\n",
              "    </tr>\n",
              "    <tr>\n",
              "      <th>4</th>\n",
              "      <td>113.345120</td>\n",
              "      <td>113.345120</td>\n",
              "    </tr>\n",
              "    <tr>\n",
              "      <th>...</th>\n",
              "      <td>...</td>\n",
              "      <td>...</td>\n",
              "    </tr>\n",
              "    <tr>\n",
              "      <th>124804</th>\n",
              "      <td>107.266264</td>\n",
              "      <td>107.266264</td>\n",
              "    </tr>\n",
              "    <tr>\n",
              "      <th>124805</th>\n",
              "      <td>87.826566</td>\n",
              "      <td>87.826566</td>\n",
              "    </tr>\n",
              "    <tr>\n",
              "      <th>124806</th>\n",
              "      <td>109.102035</td>\n",
              "      <td>109.102035</td>\n",
              "    </tr>\n",
              "    <tr>\n",
              "      <th>124807</th>\n",
              "      <td>77.202560</td>\n",
              "      <td>77.202560</td>\n",
              "    </tr>\n",
              "    <tr>\n",
              "      <th>124808</th>\n",
              "      <td>81.911740</td>\n",
              "      <td>81.911740</td>\n",
              "    </tr>\n",
              "  </tbody>\n",
              "</table>\n",
              "<p>124809 rows × 2 columns</p>\n",
              "</div>\n",
              "      <button class=\"colab-df-convert\" onclick=\"convertToInteractive('df-28ae3041-5146-490e-91a2-ecaee33b6cc6')\"\n",
              "              title=\"Convert this dataframe to an interactive table.\"\n",
              "              style=\"display:none;\">\n",
              "        \n",
              "  <svg xmlns=\"http://www.w3.org/2000/svg\" height=\"24px\"viewBox=\"0 0 24 24\"\n",
              "       width=\"24px\">\n",
              "    <path d=\"M0 0h24v24H0V0z\" fill=\"none\"/>\n",
              "    <path d=\"M18.56 5.44l.94 2.06.94-2.06 2.06-.94-2.06-.94-.94-2.06-.94 2.06-2.06.94zm-11 1L8.5 8.5l.94-2.06 2.06-.94-2.06-.94L8.5 2.5l-.94 2.06-2.06.94zm10 10l.94 2.06.94-2.06 2.06-.94-2.06-.94-.94-2.06-.94 2.06-2.06.94z\"/><path d=\"M17.41 7.96l-1.37-1.37c-.4-.4-.92-.59-1.43-.59-.52 0-1.04.2-1.43.59L10.3 9.45l-7.72 7.72c-.78.78-.78 2.05 0 2.83L4 21.41c.39.39.9.59 1.41.59.51 0 1.02-.2 1.41-.59l7.78-7.78 2.81-2.81c.8-.78.8-2.07 0-2.86zM5.41 20L4 18.59l7.72-7.72 1.47 1.35L5.41 20z\"/>\n",
              "  </svg>\n",
              "      </button>\n",
              "      \n",
              "  <style>\n",
              "    .colab-df-container {\n",
              "      display:flex;\n",
              "      flex-wrap:wrap;\n",
              "      gap: 12px;\n",
              "    }\n",
              "\n",
              "    .colab-df-convert {\n",
              "      background-color: #E8F0FE;\n",
              "      border: none;\n",
              "      border-radius: 50%;\n",
              "      cursor: pointer;\n",
              "      display: none;\n",
              "      fill: #1967D2;\n",
              "      height: 32px;\n",
              "      padding: 0 0 0 0;\n",
              "      width: 32px;\n",
              "    }\n",
              "\n",
              "    .colab-df-convert:hover {\n",
              "      background-color: #E2EBFA;\n",
              "      box-shadow: 0px 1px 2px rgba(60, 64, 67, 0.3), 0px 1px 3px 1px rgba(60, 64, 67, 0.15);\n",
              "      fill: #174EA6;\n",
              "    }\n",
              "\n",
              "    [theme=dark] .colab-df-convert {\n",
              "      background-color: #3B4455;\n",
              "      fill: #D2E3FC;\n",
              "    }\n",
              "\n",
              "    [theme=dark] .colab-df-convert:hover {\n",
              "      background-color: #434B5C;\n",
              "      box-shadow: 0px 1px 3px 1px rgba(0, 0, 0, 0.15);\n",
              "      filter: drop-shadow(0px 1px 2px rgba(0, 0, 0, 0.3));\n",
              "      fill: #FFFFFF;\n",
              "    }\n",
              "  </style>\n",
              "\n",
              "      <script>\n",
              "        const buttonEl =\n",
              "          document.querySelector('#df-28ae3041-5146-490e-91a2-ecaee33b6cc6 button.colab-df-convert');\n",
              "        buttonEl.style.display =\n",
              "          google.colab.kernel.accessAllowed ? 'block' : 'none';\n",
              "\n",
              "        async function convertToInteractive(key) {\n",
              "          const element = document.querySelector('#df-28ae3041-5146-490e-91a2-ecaee33b6cc6');\n",
              "          const dataTable =\n",
              "            await google.colab.kernel.invokeFunction('convertToInteractive',\n",
              "                                                     [key], {});\n",
              "          if (!dataTable) return;\n",
              "\n",
              "          const docLinkHtml = 'Like what you see? Visit the ' +\n",
              "            '<a target=\"_blank\" href=https://colab.research.google.com/notebooks/data_table.ipynb>data table notebook</a>'\n",
              "            + ' to learn more about interactive tables.';\n",
              "          element.innerHTML = '';\n",
              "          dataTable['output_type'] = 'display_data';\n",
              "          await google.colab.output.renderOutput(dataTable, element);\n",
              "          const docLink = document.createElement('div');\n",
              "          docLink.innerHTML = docLinkHtml;\n",
              "          element.appendChild(docLink);\n",
              "        }\n",
              "      </script>\n",
              "    </div>\n",
              "  </div>\n",
              "  "
            ],
            "text/plain": [
              "        PriceAtCoupon0(%)  CalculatedPrice\n",
              "0              122.100715       122.100715\n",
              "1               65.558537        65.558537\n",
              "2               89.527186        89.527186\n",
              "3               90.784587        90.784587\n",
              "4              113.345120       113.345120\n",
              "...                   ...              ...\n",
              "124804         107.266264       107.266264\n",
              "124805          87.826566        87.826566\n",
              "124806         109.102035       109.102035\n",
              "124807          77.202560        77.202560\n",
              "124808          81.911740        81.911740\n",
              "\n",
              "[124809 rows x 2 columns]"
            ]
          },
          "metadata": {},
          "execution_count": 19
        }
      ]
    },
    {
      "cell_type": "markdown",
      "metadata": {
        "id": "AxKWZQdCMWqF"
      },
      "source": [
        "# Calculating current bond prices"
      ]
    },
    {
      "cell_type": "code",
      "metadata": {
        "id": "SwPILOMIVhms"
      },
      "source": [
        "# import the package to calculate dates\n",
        "from datetime import date\n",
        "from dateutil.relativedelta import relativedelta"
      ],
      "execution_count": 20,
      "outputs": []
    },
    {
      "cell_type": "code",
      "metadata": {
        "id": "a8rtIrITXREe"
      },
      "source": [
        "# define today's date as datetime.date object\n",
        "today = date(2021, 8, 25)"
      ],
      "execution_count": 21,
      "outputs": []
    },
    {
      "cell_type": "code",
      "metadata": {
        "id": "UCp8AauDYjLd"
      },
      "source": [
        "# define a function that return the number of months passed by for given number of coupon payments\n",
        "def getMonths(bond):\n",
        "  if bond[\"PaymentPeriod\"] == \"Annually\":\n",
        "    return 12 * bond[\"CurrentCouponNumbers\"]\n",
        "\n",
        "  elif bond[\"PaymentPeriod\"] == \"SemiAnnually\":\n",
        "    return 6 * bond[\"CurrentCouponNumbers\"]\n",
        "\n",
        "  else:\n",
        "    return 3 * bond[\"CurrentCouponNumbers\"]"
      ],
      "execution_count": 22,
      "outputs": []
    },
    {
      "cell_type": "code",
      "metadata": {
        "id": "kcl_bZdEMVe1"
      },
      "source": [
        "# find the nearest past coupon payment date, it returns a datetime.date object\n",
        "def getCDate(bond):\n",
        "  oriDate = bond[\"PurchaseDate\"]\n",
        "  curDate = date(oriDate.year, oriDate.month, oriDate.day)\n",
        "  curDate += relativedelta(months =+ getMonths(bond))\n",
        "  return curDate\n"
      ],
      "execution_count": 23,
      "outputs": []
    },
    {
      "cell_type": "code",
      "metadata": {
        "id": "6ACkKQYKW8mF"
      },
      "source": [
        "# find the number of days between last coupon date and today\n",
        "def getDaysDiff(bond):\n",
        "  delta = today - getCDate(bond)\n",
        "  return delta.days"
      ],
      "execution_count": 24,
      "outputs": []
    },
    {
      "cell_type": "code",
      "metadata": {
        "id": "f5qM5Cp4MVnq"
      },
      "source": [
        "# define a function to find desired yields based on date\n",
        "def findY(today):  \n",
        "  for i in np.arange(nrow_y):\n",
        "    if yields.iloc[i,1].year == today.year and yields.iloc[i,1].month == today.month and yields.iloc[i,1].day == today.day:\n",
        "      todayY = yields.iloc[i,2:ncol_y]\n",
        "      return todayY\n"
      ],
      "execution_count": 25,
      "outputs": []
    },
    {
      "cell_type": "code",
      "metadata": {
        "id": "0dNPVuMFMVqc"
      },
      "source": [
        "# retrieve the yield curve on Aug 25, 2021\n",
        "myYields = findY(today)"
      ],
      "execution_count": 26,
      "outputs": []
    },
    {
      "cell_type": "code",
      "metadata": {
        "id": "Cc7H2sZzMVtV"
      },
      "source": [
        "# define a function that returns appropriate yields that should be used based on the coupon payment frequency\n",
        "def getYields3(bond):\n",
        "  freq = bond.loc[\"PaymentPeriod\"]\n",
        "  if freq == \"Annually\":\n",
        "    index = np.arange(3,ncol_y-2,4)\n",
        "    return myYields[index]\n",
        "  elif freq == \"SemiAnnually\":\n",
        "    index = np.arange(1,ncol_y-2,2)\n",
        "    return myYields[index]\n",
        "  else:\n",
        "    index = np.arange(0,ncol_y-2)\n",
        "    return myYields[index]"
      ],
      "execution_count": 27,
      "outputs": []
    },
    {
      "cell_type": "code",
      "metadata": {
        "id": "bUEk-_UkMV1D"
      },
      "source": [
        "# define a function that calculate the current bond price \n",
        "def bondPrice2(bond):\n",
        "  freq = bond[\"PaymentPeriod\"]\n",
        "  spread = bond[\"Spread\"]\n",
        "  # calculate the bond price at the last coupon date\n",
        "  price = bondPrice(freq,bond[\"CouponRate\"]*100,spread,\n",
        "                   getYields3(bond),(bond[\"TotalCouponNum\"]-bond[\"CurrentCouponNumbers\"]))\n",
        "  \n",
        "  rate = 0\n",
        "  totalNum = 0\n",
        "  diffNum = getDaysDiff(bond)\n",
        "\n",
        "  # now find the bond price today\n",
        "  if freq == \"Annually\":\n",
        "    rate = myYields[3]\n",
        "    totalNum = 360\n",
        "    price *= (1+rate+spread) ** (diffNum/totalNum)\n",
        "  elif freq == \"SemiAnnually\":\n",
        "    rate = myYields[1]\n",
        "    totalNum = 180\n",
        "    price *= (1+rate/2+spread) ** (diffNum/totalNum)\n",
        "  else:\n",
        "    rate = myYields[0]\n",
        "    totalNum = 90\n",
        "    price *= (1+rate/4+spread) ** (diffNum/totalNum)\n",
        "  \n",
        "\n",
        "  return price\n",
        "  "
      ],
      "execution_count": 28,
      "outputs": []
    },
    {
      "cell_type": "code",
      "metadata": {
        "id": "hH0GR725svsJ"
      },
      "source": [
        "# calcualte the curent prices and store it in the bonds dataframe\n",
        "mergedData[\"CurrentPrice\"] = mergedData.apply(lambda x:bondPrice2(x), axis=1)"
      ],
      "execution_count": 30,
      "outputs": []
    },
    {
      "cell_type": "code",
      "source": [
        "# compare current price vs. original price\n",
        "mergedData.loc[:,[\"PriceAtCoupon0(%)\",\"CurrentPrice\"]]"
      ],
      "metadata": {
        "colab": {
          "base_uri": "https://localhost:8080/",
          "height": 419
        },
        "id": "ad5XVq6ZlFr-",
        "outputId": "b4561436-aea4-4de0-83e3-bd2fac78b0da"
      },
      "execution_count": 33,
      "outputs": [
        {
          "output_type": "execute_result",
          "data": {
            "text/html": [
              "\n",
              "  <div id=\"df-d3fc53ae-59b8-4750-a950-0efc8f07de52\">\n",
              "    <div class=\"colab-df-container\">\n",
              "      <div>\n",
              "<style scoped>\n",
              "    .dataframe tbody tr th:only-of-type {\n",
              "        vertical-align: middle;\n",
              "    }\n",
              "\n",
              "    .dataframe tbody tr th {\n",
              "        vertical-align: top;\n",
              "    }\n",
              "\n",
              "    .dataframe thead th {\n",
              "        text-align: right;\n",
              "    }\n",
              "</style>\n",
              "<table border=\"1\" class=\"dataframe\">\n",
              "  <thead>\n",
              "    <tr style=\"text-align: right;\">\n",
              "      <th></th>\n",
              "      <th>PriceAtCoupon0(%)</th>\n",
              "      <th>CurrentPrice</th>\n",
              "    </tr>\n",
              "  </thead>\n",
              "  <tbody>\n",
              "    <tr>\n",
              "      <th>0</th>\n",
              "      <td>122.100715</td>\n",
              "      <td>135.508053</td>\n",
              "    </tr>\n",
              "    <tr>\n",
              "      <th>1</th>\n",
              "      <td>65.558537</td>\n",
              "      <td>71.311583</td>\n",
              "    </tr>\n",
              "    <tr>\n",
              "      <th>2</th>\n",
              "      <td>89.527186</td>\n",
              "      <td>97.806669</td>\n",
              "    </tr>\n",
              "    <tr>\n",
              "      <th>3</th>\n",
              "      <td>90.784587</td>\n",
              "      <td>99.385970</td>\n",
              "    </tr>\n",
              "    <tr>\n",
              "      <th>4</th>\n",
              "      <td>113.345120</td>\n",
              "      <td>120.820768</td>\n",
              "    </tr>\n",
              "    <tr>\n",
              "      <th>...</th>\n",
              "      <td>...</td>\n",
              "      <td>...</td>\n",
              "    </tr>\n",
              "    <tr>\n",
              "      <th>124804</th>\n",
              "      <td>107.266264</td>\n",
              "      <td>128.957450</td>\n",
              "    </tr>\n",
              "    <tr>\n",
              "      <th>124805</th>\n",
              "      <td>87.826566</td>\n",
              "      <td>111.664872</td>\n",
              "    </tr>\n",
              "    <tr>\n",
              "      <th>124806</th>\n",
              "      <td>109.102035</td>\n",
              "      <td>126.700347</td>\n",
              "    </tr>\n",
              "    <tr>\n",
              "      <th>124807</th>\n",
              "      <td>77.202560</td>\n",
              "      <td>103.794816</td>\n",
              "    </tr>\n",
              "    <tr>\n",
              "      <th>124808</th>\n",
              "      <td>81.911740</td>\n",
              "      <td>108.560784</td>\n",
              "    </tr>\n",
              "  </tbody>\n",
              "</table>\n",
              "<p>124809 rows × 2 columns</p>\n",
              "</div>\n",
              "      <button class=\"colab-df-convert\" onclick=\"convertToInteractive('df-d3fc53ae-59b8-4750-a950-0efc8f07de52')\"\n",
              "              title=\"Convert this dataframe to an interactive table.\"\n",
              "              style=\"display:none;\">\n",
              "        \n",
              "  <svg xmlns=\"http://www.w3.org/2000/svg\" height=\"24px\"viewBox=\"0 0 24 24\"\n",
              "       width=\"24px\">\n",
              "    <path d=\"M0 0h24v24H0V0z\" fill=\"none\"/>\n",
              "    <path d=\"M18.56 5.44l.94 2.06.94-2.06 2.06-.94-2.06-.94-.94-2.06-.94 2.06-2.06.94zm-11 1L8.5 8.5l.94-2.06 2.06-.94-2.06-.94L8.5 2.5l-.94 2.06-2.06.94zm10 10l.94 2.06.94-2.06 2.06-.94-2.06-.94-.94-2.06-.94 2.06-2.06.94z\"/><path d=\"M17.41 7.96l-1.37-1.37c-.4-.4-.92-.59-1.43-.59-.52 0-1.04.2-1.43.59L10.3 9.45l-7.72 7.72c-.78.78-.78 2.05 0 2.83L4 21.41c.39.39.9.59 1.41.59.51 0 1.02-.2 1.41-.59l7.78-7.78 2.81-2.81c.8-.78.8-2.07 0-2.86zM5.41 20L4 18.59l7.72-7.72 1.47 1.35L5.41 20z\"/>\n",
              "  </svg>\n",
              "      </button>\n",
              "      \n",
              "  <style>\n",
              "    .colab-df-container {\n",
              "      display:flex;\n",
              "      flex-wrap:wrap;\n",
              "      gap: 12px;\n",
              "    }\n",
              "\n",
              "    .colab-df-convert {\n",
              "      background-color: #E8F0FE;\n",
              "      border: none;\n",
              "      border-radius: 50%;\n",
              "      cursor: pointer;\n",
              "      display: none;\n",
              "      fill: #1967D2;\n",
              "      height: 32px;\n",
              "      padding: 0 0 0 0;\n",
              "      width: 32px;\n",
              "    }\n",
              "\n",
              "    .colab-df-convert:hover {\n",
              "      background-color: #E2EBFA;\n",
              "      box-shadow: 0px 1px 2px rgba(60, 64, 67, 0.3), 0px 1px 3px 1px rgba(60, 64, 67, 0.15);\n",
              "      fill: #174EA6;\n",
              "    }\n",
              "\n",
              "    [theme=dark] .colab-df-convert {\n",
              "      background-color: #3B4455;\n",
              "      fill: #D2E3FC;\n",
              "    }\n",
              "\n",
              "    [theme=dark] .colab-df-convert:hover {\n",
              "      background-color: #434B5C;\n",
              "      box-shadow: 0px 1px 3px 1px rgba(0, 0, 0, 0.15);\n",
              "      filter: drop-shadow(0px 1px 2px rgba(0, 0, 0, 0.3));\n",
              "      fill: #FFFFFF;\n",
              "    }\n",
              "  </style>\n",
              "\n",
              "      <script>\n",
              "        const buttonEl =\n",
              "          document.querySelector('#df-d3fc53ae-59b8-4750-a950-0efc8f07de52 button.colab-df-convert');\n",
              "        buttonEl.style.display =\n",
              "          google.colab.kernel.accessAllowed ? 'block' : 'none';\n",
              "\n",
              "        async function convertToInteractive(key) {\n",
              "          const element = document.querySelector('#df-d3fc53ae-59b8-4750-a950-0efc8f07de52');\n",
              "          const dataTable =\n",
              "            await google.colab.kernel.invokeFunction('convertToInteractive',\n",
              "                                                     [key], {});\n",
              "          if (!dataTable) return;\n",
              "\n",
              "          const docLinkHtml = 'Like what you see? Visit the ' +\n",
              "            '<a target=\"_blank\" href=https://colab.research.google.com/notebooks/data_table.ipynb>data table notebook</a>'\n",
              "            + ' to learn more about interactive tables.';\n",
              "          element.innerHTML = '';\n",
              "          dataTable['output_type'] = 'display_data';\n",
              "          await google.colab.output.renderOutput(dataTable, element);\n",
              "          const docLink = document.createElement('div');\n",
              "          docLink.innerHTML = docLinkHtml;\n",
              "          element.appendChild(docLink);\n",
              "        }\n",
              "      </script>\n",
              "    </div>\n",
              "  </div>\n",
              "  "
            ],
            "text/plain": [
              "        PriceAtCoupon0(%)  CurrentPrice\n",
              "0              122.100715    135.508053\n",
              "1               65.558537     71.311583\n",
              "2               89.527186     97.806669\n",
              "3               90.784587     99.385970\n",
              "4              113.345120    120.820768\n",
              "...                   ...           ...\n",
              "124804         107.266264    128.957450\n",
              "124805          87.826566    111.664872\n",
              "124806         109.102035    126.700347\n",
              "124807          77.202560    103.794816\n",
              "124808          81.911740    108.560784\n",
              "\n",
              "[124809 rows x 2 columns]"
            ]
          },
          "metadata": {},
          "execution_count": 33
        }
      ]
    },
    {
      "cell_type": "markdown",
      "source": [
        "The current prices are noticeably higher compared to the initial prices because the risk-free yields are lowered by the Bank of Canada as a response to the global pandemic. As there is an inverse relationship between the bond price and yields, bond price is expected to decrease if rates rise in the near future and remain stable if rates remain low."
      ],
      "metadata": {
        "id": "tKG2koCblr-G"
      }
    },
    {
      "cell_type": "markdown",
      "metadata": {
        "id": "RoA_fihEtt9r"
      },
      "source": [
        "# Calculate capital requirements of bond portfolio following Basel III"
      ]
    },
    {
      "cell_type": "code",
      "metadata": {
        "id": "XXMsN_B1PwXr"
      },
      "source": [
        "# annualize the spread\n",
        "def annualSpread(bond):\n",
        "  spread = bond[\"Spread\"]\n",
        "  freq = bond[\"PaymentPeriod\"]\n",
        "\n",
        "  if freq == \"Annually\":\n",
        "    return spread\n",
        "  elif freq == \"SemiAnnually\":\n",
        "    return spread*2\n",
        "  else:\n",
        "    return spread*4"
      ],
      "execution_count": null,
      "outputs": []
    },
    {
      "cell_type": "code",
      "metadata": {
        "id": "1hqG4MW_QUoi"
      },
      "source": [
        "# agument annualized spread into data frame\n",
        "dataset[\"AnnualizedSpread\"] = dataset.apply(lambda x:annualSpread(x), axis=1)"
      ],
      "execution_count": null,
      "outputs": []
    },
    {
      "cell_type": "code",
      "metadata": {
        "id": "RsKz-ry2MV_4"
      },
      "source": [
        "# get the spread decile and print the bounds\n",
        "max = np.max(dataset[\"AnnualizedSpread\"].values)\n",
        "min = np.min(dataset[\"AnnualizedSpread\"].values)\n",
        "dataset[\"SpreadDecile\"] = dataset.apply(lambda x: (x[\"AnnualizedSpread\"]-min)/(max-min), axis=1)\n"
      ],
      "execution_count": null,
      "outputs": []
    },
    {
      "cell_type": "code",
      "metadata": {
        "colab": {
          "base_uri": "https://localhost:8080/"
        },
        "id": "qp0ae2fyNA4K",
        "outputId": "e5852bee-1109-489c-cbc0-8c965ad96001"
      },
      "source": [
        "# print the bounds of spread\n",
        "s005=0\n",
        "sd005=0\n",
        "s020=0\n",
        "sd020=0\n",
        "s040=0\n",
        "sd040=0\n",
        "s060=0\n",
        "sd060=0\n",
        "s075=0\n",
        "sd075=0\n",
        "s090=0\n",
        "sd090=0\n",
        "\n",
        "for i in np.arange(len(dataset)):\n",
        "  spreadDecile = dataset[\"SpreadDecile\"][i]\n",
        "  if spreadDecile < 0.05:\n",
        "    if spreadDecile > sd005:\n",
        "      sd005 = spreadDecile\n",
        "      s005 = dataset[\"AnnualizedSpread\"][i]\n",
        "  elif spreadDecile  < 0.2:\n",
        "    if spreadDecile > sd020:\n",
        "      sd020 = spreadDecile\n",
        "      s020 = dataset[\"AnnualizedSpread\"][i]\n",
        "  elif spreadDecile  < 0.4:\n",
        "    if spreadDecile > sd040:\n",
        "      sd040 = spreadDecile\n",
        "      s040 = dataset[\"AnnualizedSpread\"][i]\n",
        "  elif spreadDecile  < 0.6:\n",
        "    if spreadDecile > sd060:\n",
        "      sd060 = spreadDecile\n",
        "      s060 = dataset[\"AnnualizedSpread\"][i]\n",
        "  elif spreadDecile  < 0.75:\n",
        "    if spreadDecile > sd075:\n",
        "      sd075 = spreadDecile\n",
        "      s075 = dataset[\"AnnualizedSpread\"][i]\n",
        "  elif spreadDecile  < 0.9:\n",
        "    if spreadDecile > sd090:\n",
        "      sd090 = spreadDecile\n",
        "      s090 = dataset[\"AnnualizedSpread\"][i]\n",
        "\n",
        "print(\"The 5%% cutoff: %0.3f%%\\nThe 20%% cutoff: %0.3f%%\\nThe 40%% cutoff: %0.3f%%\\nThe 60%% cutoff: %0.3f%%\\nThe 75%% cutoff: %0.3f%%\\nThe 90%% cutoff: %0.3f%%\\nThe max: %0.3f%%\\n\"\n",
        "    %(s005*100,s020*100,s040*100,s060*100,s075*100,s090*100,max*100))\n"
      ],
      "execution_count": null,
      "outputs": [
        {
          "output_type": "stream",
          "name": "stdout",
          "text": [
            "The 5% cutoff: 3.010%\n",
            "The 20% cutoff: 12.008%\n",
            "The 40% cutoff: 24.003%\n",
            "The 60% cutoff: 36.000%\n",
            "The 75% cutoff: 44.973%\n",
            "The 90% cutoff: 54.000%\n",
            "The max: 60.000%\n",
            "\n"
          ]
        }
      ]
    },
    {
      "cell_type": "code",
      "metadata": {
        "id": "21RoEcM00lFp"
      },
      "source": [
        "# define a function that returns the PD of a bond given its spread\n",
        "\n",
        "def getPD(bond):\n",
        "  spreadDecile = bond[\"SpreadDecile\"]\n",
        "  if spreadDecile < 0.05:\n",
        "    return 0.001\n",
        "  elif spreadDecile  < 0.2:\n",
        "    return 0.01\n",
        "  elif spreadDecile  < 0.4:\n",
        "    return 0.12\n",
        "  elif spreadDecile  < 0.6:\n",
        "    return 0.36\n",
        "  elif spreadDecile  < 0.75:\n",
        "    return 0.52\n",
        "  elif spreadDecile  < 0.9:\n",
        "    return 0.75\n",
        "  elif spreadDecile  <= 1:\n",
        "    return 0.85\n",
        "  else:\n",
        "    return 1\n",
        "  "
      ],
      "execution_count": null,
      "outputs": []
    },
    {
      "cell_type": "code",
      "metadata": {
        "id": "pVp_xYCZMWDJ"
      },
      "source": [
        "# agument the PD of the bonds into the dataset\n",
        "dataset[\"PD\"] = dataset.apply(lambda x: getPD(x), axis = 1)"
      ],
      "execution_count": null,
      "outputs": []
    },
    {
      "cell_type": "code",
      "metadata": {
        "id": "x7So-zgc15aT"
      },
      "source": [
        "# define LGD\n",
        "LGD = 0.75"
      ],
      "execution_count": null,
      "outputs": []
    },
    {
      "cell_type": "code",
      "metadata": {
        "id": "LWUTgzV715dH"
      },
      "source": [
        "# agument the exposure at default to the bond dataset\n",
        "dataset[\"EAD\"] = dataset.apply(lambda x: x[\"FaceValue\"]*x[\"CurrentPrice\"]/100, axis=1)"
      ],
      "execution_count": null,
      "outputs": []
    },
    {
      "cell_type": "code",
      "metadata": {
        "id": "zP_4rQEN5D9J"
      },
      "source": [
        "# define a function to return the maturity in years of a bond\n",
        "def getYears(bond):\n",
        "  freq = bond[\"PaymentPeriod\"]\n",
        "  totl = bond[\"TotalCouponNum\"] - bond[\"CurrentCouponNumbers\"]\n",
        "\n",
        "  if freq == \"Annually\":\n",
        "    return totl\n",
        "  elif freq == \"SemiAnnually\":\n",
        "    return totl/2\n",
        "  else:\n",
        "    return totl/4"
      ],
      "execution_count": null,
      "outputs": []
    },
    {
      "cell_type": "code",
      "metadata": {
        "id": "fi1x8JNP4wm2"
      },
      "source": [
        "# augment the maturity in years to the bond dataset\n",
        "dataset[\"MaturityInYears\"] = dataset.apply(lambda x: getYears(x), axis=1)"
      ],
      "execution_count": null,
      "outputs": []
    },
    {
      "cell_type": "markdown",
      "metadata": {
        "id": "JkWBE0Sg855e"
      },
      "source": [
        "## provision calculation"
      ]
    },
    {
      "cell_type": "code",
      "metadata": {
        "id": "YohUubXA15fX"
      },
      "source": [
        "# provision\n",
        "dataset[\"Provision\"] = dataset.apply(lambda x: x[\"PD\"]*x[\"EAD\"]*0.75, axis=1)"
      ],
      "execution_count": null,
      "outputs": []
    },
    {
      "cell_type": "markdown",
      "metadata": {
        "id": "CuYXkeEN8-U4"
      },
      "source": [
        "## capital calculation"
      ]
    },
    {
      "cell_type": "code",
      "metadata": {
        "id": "gOvWgbIo15iA"
      },
      "source": [
        "# calculating b\n",
        "def getb(bond):\n",
        "  myPD = bond[\"PD\"]\n",
        "  b = 0.11852 - 0.05478 * np.log(myPD)\n",
        "  b = b**2\n",
        "  return b"
      ],
      "execution_count": null,
      "outputs": []
    },
    {
      "cell_type": "code",
      "metadata": {
        "id": "B9YDThGp9B2k"
      },
      "source": [
        "# calculating ajusted maturity\n",
        "def getM(bond):\n",
        "  b = getb(bond)\n",
        "  m = bond[\"MaturityInYears\"]\n",
        "  m = (1+(m-2.5)*b) / (1-1.5*b)\n",
        "  return m"
      ],
      "execution_count": null,
      "outputs": []
    },
    {
      "cell_type": "code",
      "metadata": {
        "id": "AS25N-L_9B5S"
      },
      "source": [
        "# calculating R\n",
        "def getR(bond):\n",
        "  myPD = bond[\"PD\"]\n",
        "  R = 0.12 * ((1-np.exp(-50*myPD))/(1-np.exp(-50)))\n",
        "  R += 0.24 * (1-((1-np.exp(-50*myPD))/(1-np.exp(-50))))\n",
        "  return R\n"
      ],
      "execution_count": null,
      "outputs": []
    },
    {
      "cell_type": "code",
      "metadata": {
        "id": "atRg6K0V9B8e"
      },
      "source": [
        "# calculating the capital requirement\n",
        "def capital(bond):\n",
        "  myPD = bond[\"PD\"]\n",
        "  R = getR(bond)\n",
        "  M = getM(bond)\n",
        "  K = norm.cdf( np.sqrt(1/(1-R)) * norm.ppf(myPD) + np.sqrt(R/(1-R)) * norm.ppf(0.999) ) - myPD \n",
        "  K = 0.75 * M * K\n",
        "  return K"
      ],
      "execution_count": null,
      "outputs": []
    },
    {
      "cell_type": "code",
      "metadata": {
        "id": "LVAEqshHGRrc"
      },
      "source": [
        "# augment the capital requirement (%) for each bond\n",
        "dataset[\"CapitalRequirement%\"] = dataset.apply(lambda x: capital(x), axis=1)"
      ],
      "execution_count": null,
      "outputs": []
    },
    {
      "cell_type": "code",
      "metadata": {
        "id": "Rq0nreRp15kQ"
      },
      "source": [
        "# augment the capital requirement ($) for each bond\n",
        "dataset[\"CapitalRequirement\"] = dataset.apply(lambda x: capital(x)*x[\"EAD\"], axis=1)"
      ],
      "execution_count": null,
      "outputs": []
    },
    {
      "cell_type": "code",
      "metadata": {
        "id": "bz-NZjKxMWFz",
        "colab": {
          "base_uri": "https://localhost:8080/"
        },
        "outputId": "0d510529-dcf0-4af9-ea76-8f702328c42f"
      },
      "source": [
        "# print total exposures\n",
        "totalEAD = np.sum(dataset[\"EAD\"].values)\n",
        "totalEAD2 = \"${:,.4f}\".format(totalEAD)\n",
        "print(\"Total value of the portfolio is \", totalEAD2)\n",
        "\n",
        "# print total provision\n",
        "totalPro = np.sum(dataset[\"Provision\"].values)\n",
        "totalPro2 = \"${:,.4f}\".format(totalPro)\n",
        "print(\"Total Provisions required for the portfolio is \", totalPro2)\n",
        "\n",
        "# print total capital requirement percentage\n",
        "totalCapital = np.sum(dataset[\"CapitalRequirement\"].values)\n",
        "percentage = totalCapital/totalEAD\n",
        "print(\"Total capital requirement percentage is %0.4f%%\" %(percentage*100))\n",
        "\n",
        "# print total capital requirement in $\n",
        "totalCapital2 = \"${:,.4f}\".format(totalCapital)\n",
        "print(\"Total capital requirement is \", totalCapital2)"
      ],
      "execution_count": null,
      "outputs": [
        {
          "output_type": "stream",
          "name": "stdout",
          "text": [
            "Total value of the portfolio is  $13,271,024,823.2358\n",
            "Total Provisions required for the portfolio is  $326,015,232.0340\n",
            "Total capital requirement percentage is 24.5278%\n",
            "Total capital requirement is  $3,255,086,381.9375\n"
          ]
        }
      ]
    }
  ]
}
