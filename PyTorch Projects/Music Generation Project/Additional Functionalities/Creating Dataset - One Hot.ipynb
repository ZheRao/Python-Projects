{
 "cells": [
  {
   "cell_type": "code",
   "execution_count": 1,
   "id": "1954d750",
   "metadata": {},
   "outputs": [],
   "source": [
    "import numpy as np\n",
    "import pypianoroll\n",
    "import pandas as pd\n",
    "import Functions as f\n",
    "import os\n",
    "import matplotlib.pyplot as plt"
   ]
  },
  {
   "cell_type": "code",
   "execution_count": 25,
   "id": "f37b7af1",
   "metadata": {},
   "outputs": [
    {
     "data": {
      "text/plain": [
       "<matplotlib.image.AxesImage at 0x2952bdef640>"
      ]
     },
     "execution_count": 25,
     "metadata": {},
     "output_type": "execute_result"
    },
    {
     "data": {
      "image/png": "[encoded data removed]",
      "text/plain": [
       "<Figure size 1152x720 with 1 Axes>"
      ]
     },
     "metadata": {
      "needs_background": "light"
     },
     "output_type": "display_data"
    }
   ],
   "source": [
    "multitrack = pypianoroll.read(\"PopTransformer-run-2-001-BEST_Best.midi\")\n",
    "multitrack.binarize()\n",
    "combined_track = multitrack.blend()\n",
    "combined_track = combined_track[:,21:109]\n",
    "plt.figure(figsize=(16, 10))\n",
    "plt.imshow(combined_track.T)"
   ]
  },
  {
   "cell_type": "code",
   "execution_count": 7,
   "id": "85201b95",
   "metadata": {},
   "outputs": [
    {
     "data": {
      "text/plain": [
       "(4824, 128)"
      ]
     },
     "execution_count": 7,
     "metadata": {},
     "output_type": "execute_result"
    }
   ],
   "source": [
    "combined_track.shape"
   ]
  },
  {
   "cell_type": "code",
   "execution_count": null,
   "id": "c1a636e7",
   "metadata": {},
   "outputs": [],
   "source": []
  },
  {
   "cell_type": "code",
   "execution_count": null,
   "id": "52915eee",
   "metadata": {},
   "outputs": [],
   "source": []
  },
  {
   "cell_type": "markdown",
   "id": "2caf7724",
   "metadata": {},
   "source": [
    "# Step1: read the MIDI file and extract the combined pianoroll"
   ]
  },
  {
   "cell_type": "code",
   "execution_count": 2,
   "id": "b93c1b07",
   "metadata": {},
   "outputs": [],
   "source": [
    "# this function returns the entire pianoroll of the midi file\n",
    "def getPianoroll(path):\n",
    "    # read the midi file, convert to multitrack object with pypianoroll\n",
    "    \n",
    "    try: \n",
    "        multitrack = pypianoroll.read(path)\n",
    "        multitrack.binarize()\n",
    "        combined_track = multitrack.blend()\n",
    "        combined_track = combined_track[:,21:109]\n",
    "        combined_track[combined_track>1] = 1\n",
    "    except:\n",
    "        print(\"error: \", path)\n",
    "        return 1\n",
    "    \n",
    "    return 1\n",
    "    \n",
    "    # binarize the tracks\n",
    "    multitrack.binarize()\n",
    "    \n",
    "    # there are two tracks, one for right hand, and one for left, combine them since \n",
    "    #  it is one hot encoding, blend function returns the numpy array\n",
    "    #  shape: (music_length, 128)\n",
    "    combined_track = multitrack.blend()\n",
    "    \n",
    "    # reduce the pich range for pianos sectrion only 88\n",
    "    #  original: C(-2) / index 0 -- G(9) / index (127)\n",
    "    #  piano: A(0) / index 21  --  C(8) / index (108)\n",
    "    combined_track = combined_track[:,21:109]\n",
    "    \n",
    "    # make sure that the entries are 0 or 1\n",
    "    combined_track[combined_track>1] = 1\n",
    "    #print(len(combined_track[:,0]))\n",
    "    \n",
    "    return combined_track\n",
    "    "
   ]
  },
  {
   "cell_type": "code",
   "execution_count": 12,
   "id": "323b54d8",
   "metadata": {},
   "outputs": [
    {
     "data": {
      "text/plain": [
       "array([ 0,  0,  0,  0,  0,  0,  0,  0,  0,  0,  0,  0,  0,  0,  0,  0,  0,\n",
       "        0,  0,  0,  0,  0,  0,  0,  0,  0,  0,  0,  0,  0,  0,  0,  0,  0,\n",
       "        0,  0,  0,  0,  0,  0,  0,  0,  0,  0,  0,  0,  0,  0,  0,  0,  0,\n",
       "        0,  0,  0, 75,  0,  0,  0, 75,  0,  0, 75,  0,  0,  0,  0, 89,  0,\n",
       "        0,  0,  0,  0,  0,  0,  0,  0,  0,  0,  0,  0,  0,  0,  0,  0,  0,\n",
       "        0,  0,  0,  0,  0,  0,  0,  0,  0,  0,  0,  0,  0,  0,  0,  0,  0,\n",
       "        0,  0,  0,  0,  0,  0,  0,  0,  0,  0,  0,  0,  0,  0,  0,  0,  0,\n",
       "        0,  0,  0,  0,  0,  0,  0,  0,  0], dtype=uint8)"
      ]
     },
     "execution_count": 12,
     "metadata": {},
     "output_type": "execute_result"
    }
   ],
   "source": [
    "multitrack = pypianoroll.read(\"testout/black_key_original.mid\")\n",
    "multitrack.tracks[1][0]"
   ]
  },
  {
   "cell_type": "code",
   "execution_count": 5,
   "id": "70b6c3ea",
   "metadata": {},
   "outputs": [],
   "source": [
    "track = getPianoroll(\"testout/black_key_original.mid\")"
   ]
  },
  {
   "cell_type": "code",
   "execution_count": 8,
   "id": "2ee03c03",
   "metadata": {},
   "outputs": [
    {
     "data": {
      "text/plain": [
       "array([0, 0, 0, 0, 0, 0, 0, 0, 0, 0, 0, 0, 0, 0, 0, 0, 0, 0, 0, 0, 0, 0,\n",
       "       0, 0, 0, 0, 0, 0, 0, 0, 0, 0, 0, 1, 0, 0, 0, 1, 0, 0, 1, 0, 0, 0,\n",
       "       0, 1, 0, 0, 0, 0, 0, 0, 0, 0, 0, 0, 0, 0, 0, 0, 0, 0, 0, 0, 0, 0,\n",
       "       0, 0, 0, 1, 0, 0, 0, 0, 0, 0, 0, 0, 0, 0, 0, 0, 0, 0, 0, 0, 0, 0],\n",
       "      dtype=uint8)"
      ]
     },
     "execution_count": 8,
     "metadata": {},
     "output_type": "execute_result"
    }
   ],
   "source": [
    "track[0]"
   ]
  },
  {
   "cell_type": "code",
   "execution_count": 12,
   "id": "ac1d3c40",
   "metadata": {},
   "outputs": [],
   "source": [
    "track\n",
    "f.midiwrite(\"testout/organ_check.mid\",track,dtm=0.08)"
   ]
  },
  {
   "cell_type": "markdown",
   "id": "53718a94",
   "metadata": {},
   "source": [
    "# Step2: segment the pianoroll to subrolls with length 3000 gap 300"
   ]
  },
  {
   "cell_type": "code",
   "execution_count": 3,
   "id": "c2376def",
   "metadata": {},
   "outputs": [],
   "source": [
    "def segmentRoll(file_name,roll,output_folder,sample_len):\n",
    "    # compute number of segments: = music length - segment length + 1\n",
    "    nsample = len(roll) - sample_len\n",
    "    #print(len(roll))\n",
    "    #print(sample_len)\n",
    "    i=0\n",
    "    \n",
    "    # make segments, shape (sample_len,88), store in the folder in csv files\n",
    "    while i < nsample:\n",
    "        name = file_name[:-4] + \"- \" + str(i) +\".csv\"\n",
    "        output_path_train = os.path.join(output_folder,\"Train\",name)\n",
    "        output_path_val = os.path.join(output_folder,\"Val\",name)\n",
    "        output_path_test = os.path.join(output_folder,\"Test\",name)\n",
    "        segment_roll = roll[i : i+sample_len , :]\n",
    "       \n",
    "        # I want to put 14% into validation set and 9% into test set\n",
    "        #  roll a number from uniform distribution [0,1], if it's less than 0.14, val set\n",
    "        #  if it's bigger than 0.91, test set\n",
    "        num = np.random.uniform(0,1)\n",
    "        if num < 0.14:\n",
    "            #print(output_path_val)\n",
    "            np.savetxt(output_path_val,segment_roll,delimiter=\",\",fmt=\"%d\")\n",
    "        #elif num > 0.91:\n",
    "            #print(output_path_test)\n",
    "            #np.savetxt(output_path_test,segment_roll,delimiter=\",\",fmt=\"%d\")\n",
    "        else:\n",
    "            #print(output_path_train)\n",
    "            np.savetxt(output_path_train,segment_roll,delimiter=\",\",fmt=\"%d\")\n",
    "        \n",
    "        \n",
    "        #np.savetxt(output_path,segment_roll,delimiter=\",\",fmt=\"%d\")\n",
    "        \n",
    "        i += 300\n",
    "        \n",
    "        if i >= nsample:\n",
    "            j = len(roll) - sample_len - 1\n",
    "            name = file_name[:-4] + \"- \" + str(j) +\".csv\"\n",
    "            output_path_train = os.path.join(output_folder,\"Train\",name)\n",
    "            segment_roll = roll[-(sample_len):]\n",
    "            np.savetxt(output_path_train,segment_roll,delimiter=\",\",fmt=\"%d\")\n",
    "            break\n",
    "            \n",
    "    "
   ]
  },
  {
   "cell_type": "code",
   "execution_count": 4,
   "id": "5f64e805",
   "metadata": {},
   "outputs": [
    {
     "data": {
      "text/plain": [
       "array([0.63261182, 0.43963623, 0.15803412, 0.54187777, 0.77276358,\n",
       "       0.58012533, 0.88185482, 0.86974643, 0.971556  , 0.56454322,\n",
       "       0.75853326, 0.5449731 , 0.4208847 , 0.40133909, 0.22787573,\n",
       "       0.02254719, 0.82628089, 0.02660039, 0.90879473, 0.9611032 ,\n",
       "       0.73287498, 0.0101888 , 0.86540896, 0.74200841, 0.67509445,\n",
       "       0.32202905, 0.30540215, 0.56253531, 0.83548585, 0.99923158])"
      ]
     },
     "execution_count": 4,
     "metadata": {},
     "output_type": "execute_result"
    }
   ],
   "source": [
    "num = np.random.uniform(0,1,30)\n",
    "num"
   ]
  },
  {
   "cell_type": "markdown",
   "id": "e4813b3a",
   "metadata": {},
   "source": [
    "# Step3: combine the functions"
   ]
  },
  {
   "cell_type": "code",
   "execution_count": 3,
   "id": "df8c2c0e",
   "metadata": {},
   "outputs": [],
   "source": [
    "def generateData(file_name,file_path,output_folder,sample_len=600):\n",
    "    # get whole piano roll\n",
    "    roll = getPianoroll(file_path)\n",
    "    \n",
    "    # generate segments\n",
    "    #segmentRoll(file_name,roll,output_folder,sample_len)"
   ]
  },
  {
   "cell_type": "code",
   "execution_count": null,
   "id": "4811be0b",
   "metadata": {},
   "outputs": [],
   "source": []
  },
  {
   "cell_type": "code",
   "execution_count": null,
   "id": "3fc306a9",
   "metadata": {},
   "outputs": [],
   "source": []
  },
  {
   "cell_type": "code",
   "execution_count": 4,
   "id": "962bb8a3",
   "metadata": {},
   "outputs": [
    {
     "name": "stdout",
     "output_type": "stream",
     "text": [
      "1669\n"
     ]
    }
   ],
   "source": [
    "folder = \"Piano_Collections\"\n",
    "subfolder = os.listdir(folder)\n",
    "subfolder\n",
    "\n",
    "ful_path = []\n",
    "for i in np.arange(len(subfolder)):\n",
    "    full_folder = os.path.join(folder,subfolder[i])\n",
    "    names = os.listdir(full_folder)\n",
    "    path = map(lambda x: os.path.join(full_folder,x), names)\n",
    "    path = list(path)\n",
    "    ful_path.extend(path)\n",
    "ful_path[-10:]\n",
    "print(len(ful_path))"
   ]
  },
  {
   "cell_type": "code",
   "execution_count": 5,
   "id": "e50f4ab8",
   "metadata": {},
   "outputs": [
    {
     "data": {
      "application/vnd.jupyter.widget-view+json": {
       "model_id": "9d141abc13ed4b709e74e68b224e9b96",
       "version_major": 2,
       "version_minor": 0
      },
      "text/plain": [
       "  0%|          | 0/1669 [00:00<?, ?it/s]"
      ]
     },
     "metadata": {},
     "output_type": "display_data"
    },
    {
     "name": "stderr",
     "output_type": "stream",
     "text": [
      "W:\\Tools\\Anaconda3\\envs\\pytorch\\lib\\site-packages\\pretty_midi\\pretty_midi.py:97: RuntimeWarning: Tempo, Key or Time signature change events found on non-zero tracks.  This is not a valid type 0 or type 1 MIDI file.  Tempo, Key or Time Signature may be wrong.\n",
      "  warnings.warn(\n",
      "W:\\Tools\\Anaconda3\\envs\\pytorch\\lib\\site-packages\\pypianoroll\\inputs.py:225: RuntimeWarning: divide by zero encountered in true_divide\n",
      "  bpm = 60.0 / np.diff(beat_times_one_more)\n"
     ]
    },
    {
     "name": "stdout",
     "output_type": "stream",
     "text": [
      "error:  Piano_Collections\\Others\\jsrjeuxd.mid\n",
      "error:  Piano_Collections\\Others\\jsrmiro1.mid\n",
      "error:  Piano_Collections\\Others\\jsrmiro4.mid\n",
      "error:  Piano_Collections\\Others\\jsrmiro5.mid\n"
     ]
    }
   ],
   "source": [
    "from tqdm.auto import tqdm\n",
    "progress = tqdm(range(len(ful_path)))\n",
    "for i in ful_path:\n",
    "    generateData(\"a\",i,\"k\",10)\n",
    "    progress.update(1)"
   ]
  },
  {
   "cell_type": "code",
   "execution_count": null,
   "id": "f2b97770",
   "metadata": {},
   "outputs": [],
   "source": []
  },
  {
   "cell_type": "code",
   "execution_count": null,
   "id": "32c6d710",
   "metadata": {},
   "outputs": [],
   "source": []
  },
  {
   "cell_type": "code",
   "execution_count": null,
   "id": "161a0291",
   "metadata": {},
   "outputs": [],
   "source": []
  },
  {
   "cell_type": "code",
   "execution_count": null,
   "id": "6b5ddd9d",
   "metadata": {},
   "outputs": [],
   "source": []
  },
  {
   "cell_type": "code",
   "execution_count": null,
   "id": "808bd77c",
   "metadata": {},
   "outputs": [],
   "source": []
  },
  {
   "cell_type": "markdown",
   "id": "4ad2c577",
   "metadata": {},
   "source": [
    "# test run - runs perfectly"
   ]
  },
  {
   "cell_type": "code",
   "execution_count": 40,
   "id": "4a00965d",
   "metadata": {},
   "outputs": [],
   "source": [
    "file_name = \"chpn_op10_e05.mid\"\n",
    "file_path = \"testout/black_key_original.mid\"\n",
    "output_folder = \"Handcrafted Dataset - One Hot\"\n",
    "generateData(file_name,file_path,output_folder,600)"
   ]
  },
  {
   "cell_type": "code",
   "execution_count": 6,
   "id": "f7068d24",
   "metadata": {},
   "outputs": [],
   "source": [
    "# define the function to read the csv file, write to midi, and see if they are good\n",
    "def csv_to_midi(path,dtm=0.1,num=0):\n",
    "    roll = pd.read_csv(path,header=None)\n",
    "    roll = np.array(roll)\n",
    "    f.midiwrite(\"testout/csv-check\"+str(num)+\".mid\",roll,dtm=dtm)"
   ]
  },
  {
   "cell_type": "code",
   "execution_count": 61,
   "id": "8b9b823c",
   "metadata": {},
   "outputs": [],
   "source": [
    "num = 3400\n",
    "path = \"Handcrafted Dataset - One Hot/Train/mazrka40- \"+str(num)+\".csv\"\n",
    "csv_to_midi(path,dtm=0.024,num=num)"
   ]
  },
  {
   "cell_type": "code",
   "execution_count": null,
   "id": "0110cd1d",
   "metadata": {},
   "outputs": [],
   "source": [
    "roll = pd.read_csv(path,header=None)\n",
    "roll = np.array(roll)\n",
    "roll.shape"
   ]
  },
  {
   "cell_type": "code",
   "execution_count": null,
   "id": "a61252a3",
   "metadata": {},
   "outputs": [],
   "source": []
  },
  {
   "cell_type": "markdown",
   "id": "58c3aeec",
   "metadata": {},
   "source": [
    "# serious business - generate data sets"
   ]
  },
  {
   "cell_type": "markdown",
   "id": "2c43d5c7",
   "metadata": {},
   "source": [
    "# Liszt"
   ]
  },
  {
   "cell_type": "code",
   "execution_count": 4,
   "id": "fdf64792",
   "metadata": {},
   "outputs": [
    {
     "data": {
      "text/plain": [
       "['01pasali.mid',\n",
       " '01promes.mid',\n",
       " '02holnit.mid',\n",
       " '02regven.mid',\n",
       " '03linvit.mid',\n",
       " '03manger.mid',\n",
       " '04adeste.mid',\n",
       " '04gita.mid',\n",
       " '05littre.mid',\n",
       " '05rimpro.mid']"
      ]
     },
     "execution_count": 4,
     "metadata": {},
     "output_type": "execute_result"
    }
   ],
   "source": [
    "# get filenames\n",
    "fnames = os.listdir(\"Piano_Collections/Liszt\")\n",
    "fnames[:10]"
   ]
  },
  {
   "cell_type": "code",
   "execution_count": 5,
   "id": "a6dcccf0",
   "metadata": {},
   "outputs": [
    {
     "data": {
      "text/plain": [
       "['Piano_Collections\\\\Liszt\\\\festetic.mid',\n",
       " 'Piano_Collections\\\\Liszt\\\\feux.mid']"
      ]
     },
     "execution_count": 5,
     "metadata": {},
     "output_type": "execute_result"
    }
   ],
   "source": [
    "# get file pathes\n",
    "folder = \"Piano_Collections\"\n",
    "subfolder = \"Liszt\"\n",
    "fnames_ful = map(lambda fname:os.path.join(folder,subfolder,fname),fnames)\n",
    "fnames_ful = list(fnames_ful)\n",
    "fnames_ful[124:126] # 2 126 127 146"
   ]
  },
  {
   "cell_type": "code",
   "execution_count": 6,
   "id": "f98299d6",
   "metadata": {},
   "outputs": [],
   "source": [
    "# define output folder\n",
    "output_folder = \"Handcrafted Dataset - One Hot/Liszt\""
   ]
  },
  {
   "cell_type": "code",
   "execution_count": 9,
   "id": "20fc42af",
   "metadata": {},
   "outputs": [
    {
     "data": {
      "application/vnd.jupyter.widget-view+json": {
       "model_id": "a9c9f844cc134c4caaaef6280269bd53",
       "version_major": 2,
       "version_minor": 0
      },
      "text/plain": [
       "  0%|          | 0/319 [00:00<?, ?it/s]"
      ]
     },
     "metadata": {},
     "output_type": "display_data"
    },
    {
     "name": "stdout",
     "output_type": "stream",
     "text": [
      "error:  Piano_Collections\\Liszt\\feux.mid\n",
      "error:  Piano_Collections\\Liszt\\mazeppa.mid\n"
     ]
    }
   ],
   "source": [
    "from tqdm.auto import tqdm\n",
    "progress_bar = tqdm(np.arange(0,len(fnames)))\n",
    "a = np.array([125,215])\n",
    "for i in np.arange(0,len(fnames)):\n",
    "    #if i in a:\n",
    "        #progress_bar.update(1)\n",
    "        #continue     \n",
    "    generateData(fnames[i],fnames_ful[i],output_folder,1000)\n",
    "    progress_bar.update(1)"
   ]
  },
  {
   "cell_type": "code",
   "execution_count": null,
   "id": "e6072360",
   "metadata": {},
   "outputs": [],
   "source": []
  },
  {
   "cell_type": "code",
   "execution_count": null,
   "id": "ad710cbd",
   "metadata": {},
   "outputs": [],
   "source": []
  },
  {
   "cell_type": "markdown",
   "id": "5a22d8bb",
   "metadata": {},
   "source": [
    "## Chopin"
   ]
  },
  {
   "cell_type": "code",
   "execution_count": 4,
   "id": "07f6f8f4",
   "metadata": {},
   "outputs": [
    {
     "data": {
      "text/plain": [
       "['algrcrt3.mid',\n",
       " 'at09op10.mid',\n",
       " 'ballade3.mid',\n",
       " 'berceuse.mid',\n",
       " 'blschbub.mid',\n",
       " 'buena.mid',\n",
       " 'ch-etn04.mid',\n",
       " 'ch-etn10.mid',\n",
       " 'ch-etude.mid',\n",
       " 'chlargo.mid']"
      ]
     },
     "execution_count": 4,
     "metadata": {},
     "output_type": "execute_result"
    }
   ],
   "source": [
    "# get filenames\n",
    "fnames = os.listdir(\"Piano_Collections/Chopin\")\n",
    "fnames[:10]"
   ]
  },
  {
   "cell_type": "code",
   "execution_count": 5,
   "id": "891ddb2f",
   "metadata": {},
   "outputs": [
    {
     "data": {
      "text/plain": [
       "['Piano_Collections\\\\Chopin\\\\lecpsb3.mid',\n",
       " 'Piano_Collections\\\\Chopin\\\\lecpsd3.mid']"
      ]
     },
     "execution_count": 5,
     "metadata": {},
     "output_type": "execute_result"
    }
   ],
   "source": [
    "# get file pathes\n",
    "folder = \"Piano_Collections\"\n",
    "subfolder = \"Chopin\"\n",
    "fnames_ful = map(lambda fname:os.path.join(folder,subfolder,fname),fnames)\n",
    "fnames_ful = list(fnames_ful)\n",
    "fnames_ful[124:126] # 2 126 127 146"
   ]
  },
  {
   "cell_type": "code",
   "execution_count": 6,
   "id": "b27139d0",
   "metadata": {},
   "outputs": [],
   "source": [
    "# define output folder\n",
    "output_folder = \"Handcrafted Dataset - One Hot/Chopin\""
   ]
  },
  {
   "cell_type": "code",
   "execution_count": 9,
   "id": "30023037",
   "metadata": {
    "scrolled": true
   },
   "outputs": [
    {
     "data": {
      "application/vnd.jupyter.widget-view+json": {
       "model_id": "ee63917bb67a46178279f50503fcba7d",
       "version_major": 2,
       "version_minor": 0
      },
      "text/plain": [
       "  0%|          | 0/112 [00:00<?, ?it/s]"
      ]
     },
     "metadata": {},
     "output_type": "display_data"
    },
    {
     "name": "stdout",
     "output_type": "stream",
     "text": [
      "70\n",
      "chpn-p19.mid\n",
      "71\n",
      "chpn-p2.mid\n",
      "72\n",
      "chpn-p20.mid\n",
      "73\n",
      "chpn-p21.mid\n",
      "74\n",
      "chpn-p22.mid\n",
      "75\n",
      "chpn-p23.mid\n",
      "76\n",
      "chpn-p24.mid\n",
      "77\n",
      "chpn-p3.mid\n",
      "78\n",
      "chpn-p4.mid\n",
      "79\n",
      "chpn-p5.mid\n",
      "80\n",
      "chpn-p6.mid\n",
      "81\n",
      "chpn-p7.mid\n",
      "82\n",
      "chpn-p8.mid\n",
      "83\n",
      "chpn-p9.mid\n",
      "84\n",
      "chpnimpu.mid\n",
      "85\n",
      "chpn_op10_e01.mid\n",
      "86\n",
      "chpn_op10_e05.mid\n",
      "87\n",
      "chpn_op10_e12.mid\n",
      "88\n",
      "chpn_op23.mid\n",
      "89\n",
      "chpn_op25_e1.mid\n",
      "90\n",
      "chpn_op25_e11.mid\n",
      "91\n",
      "chpn_op25_e12.mid\n",
      "92\n",
      "chpn_op25_e2.mid\n",
      "93\n",
      "chpn_op25_e3.mid\n",
      "94\n",
      "chpn_op25_e4.mid\n",
      "95\n",
      "chpn_op27_1.mid\n",
      "96\n",
      "chpn_op27_2.mid\n",
      "97\n",
      "chpn_op33_2.mid\n",
      "98\n",
      "chpn_op33_4.mid\n",
      "99\n",
      "chpn_op35_1.mid\n",
      "100\n",
      "chpn_op35_2.mid\n",
      "101\n",
      "chpn_op35_3.mid\n",
      "102\n",
      "chpn_op35_4.mid\n",
      "103\n",
      "chpn_op53.mid\n",
      "104\n",
      "chpn_op66.mid\n",
      "105\n",
      "chpn_op7_1.mid\n",
      "106\n",
      "chpn_op7_2.mid\n",
      "107\n",
      "chp_op18.mid\n",
      "108\n",
      "chp_op31.mid\n",
      "109\n",
      "chsc3.mid\n",
      "110\n",
      "ch_10-11.mid\n",
      "111\n",
      "ch_10-2.mid\n",
      "112\n",
      "ch_10-6.mid\n",
      "113\n",
      "ch_10-7.mid\n",
      "114\n",
      "ch_10-8.mid\n",
      "115\n",
      "cmazurka.mid\n",
      "116\n",
      "contreda.mid\n",
      "117\n",
      "etn07o25.mid\n",
      "118\n",
      "etn10o25.mid\n",
      "119\n",
      "etude3.mid\n",
      "120\n",
      "fantop49.mid\n",
      "121\n",
      "fugaam.mid\n",
      "122\n",
      "lecpe8b.mid\n",
      "123\n",
      "lecpsa3.mid\n",
      "124\n",
      "lecpsb3.mid\n",
      "125\n",
      "lecpsd3.mid\n",
      "126\n",
      "mazrka01.mid\n",
      "127\n",
      "mazrka02.mid\n",
      "128\n",
      "mazrka03.mid\n",
      "129\n",
      "mazrka04.mid\n",
      "130\n",
      "mazrka07.mid\n",
      "131\n",
      "mazrka08.mid\n",
      "132\n",
      "mazrka09.mid\n",
      "133\n",
      "mazrka10.mid\n",
      "134\n",
      "mazrka11.mid\n",
      "135\n",
      "mazrka12.mid\n",
      "136\n",
      "mazrka13.mid\n",
      "137\n",
      "mazrka14.mid\n",
      "138\n",
      "mazrka15.mid\n",
      "139\n",
      "mazrka16.mid\n",
      "140\n",
      "mazrka17.mid\n",
      "141\n",
      "mazrka18.mid\n",
      "142\n",
      "mazrka19.mid\n",
      "143\n",
      "mazrka20.mid\n",
      "144\n",
      "mazrka22.mid\n",
      "145\n",
      "mazrka24.mid\n",
      "146\n",
      "mazrka26.mid\n",
      "147\n",
      "mazrka27.mid\n",
      "148\n",
      "mazrka28.mid\n",
      "149\n",
      "mazrka29.mid\n",
      "150\n",
      "mazrka30.mid\n",
      "151\n",
      "mazrka31.mid\n",
      "152\n",
      "mazrka32.mid\n",
      "153\n",
      "mazrka33.mid\n",
      "154\n",
      "mazrka34.mid\n",
      "155\n",
      "mazrka35.mid\n",
      "156\n",
      "mazrka36.mid\n",
      "157\n",
      "mazrka37.mid\n",
      "158\n",
      "mazrka38.mid\n",
      "159\n",
      "mazrka39.mid\n",
      "160\n",
      "mazrka40.mid\n",
      "161\n",
      "mazrka41.mid\n",
      "162\n",
      "mazrka42.mid\n",
      "163\n",
      "mazrka43.mid\n",
      "164\n",
      "mazrka44.mid\n",
      "165\n",
      "mazrka45.mid\n",
      "166\n",
      "mazrka50.mid\n",
      "167\n",
      "mazrka51.mid\n",
      "168\n",
      "mazurka.mid\n",
      "169\n",
      "mazurka_.mid\n",
      "170\n",
      "mk_chim2.mid\n",
      "171\n",
      "op25_no5.mid\n",
      "172\n",
      "op25_no6.mid\n",
      "173\n",
      "op72.mid\n",
      "174\n",
      "pologm.mid\n",
      "175\n",
      "prelop45.mid\n",
      "176\n",
      "rondo73.mid\n",
      "177\n",
      "scherzo1.mid\n",
      "178\n",
      "souvpaga.mid\n",
      "179\n",
      "valse14.mid\n",
      "180\n",
      "variludo.mid\n",
      "181\n",
      "waltzp.mid\n"
     ]
    }
   ],
   "source": [
    "from tqdm.auto import tqdm\n",
    "b = 182\n",
    "progress_bar = tqdm(np.arange(70,b))\n",
    "a = np.array([2,123, 125,126, 127,141, 144,145])\n",
    "for i in np.arange(70,b):\n",
    "    #if i in a:\n",
    "        #continue\n",
    "        #progress_bar.update(1)\n",
    "    generateData(fnames[i],fnames_ful[i],output_folder,1000)\n",
    "    print(i)\n",
    "    print(fnames[i])\n",
    "    progress_bar.update(1)"
   ]
  },
  {
   "cell_type": "markdown",
   "id": "2ab6da45",
   "metadata": {},
   "source": [
    "## Mozart"
   ]
  },
  {
   "cell_type": "code",
   "execution_count": 14,
   "id": "ff249e7a",
   "metadata": {},
   "outputs": [
    {
     "data": {
      "text/plain": [
       "['k281-1.mid',\n",
       " 'k281-2.mid',\n",
       " 'kv025.mid',\n",
       " 'kv1a.mid',\n",
       " 'kv1b.mid',\n",
       " 'kv1c.mid',\n",
       " 'kv1d.mid',\n",
       " 'kv1e.mid',\n",
       " 'kv2.mid',\n",
       " 'kv3.mid']"
      ]
     },
     "execution_count": 14,
     "metadata": {},
     "output_type": "execute_result"
    }
   ],
   "source": [
    "# get filenames\n",
    "fnames = os.listdir(\"Piano_Collections/Mozart\")\n",
    "fnames[:10]"
   ]
  },
  {
   "cell_type": "code",
   "execution_count": 15,
   "id": "9d26c22d",
   "metadata": {},
   "outputs": [
    {
     "data": {
      "text/plain": [
       "['Piano_Collections\\\\Mozart\\\\k281-1.mid',\n",
       " 'Piano_Collections\\\\Mozart\\\\k281-2.mid',\n",
       " 'Piano_Collections\\\\Mozart\\\\kv025.mid',\n",
       " 'Piano_Collections\\\\Mozart\\\\kv1a.mid',\n",
       " 'Piano_Collections\\\\Mozart\\\\kv1b.mid',\n",
       " 'Piano_Collections\\\\Mozart\\\\kv1c.mid',\n",
       " 'Piano_Collections\\\\Mozart\\\\kv1d.mid',\n",
       " 'Piano_Collections\\\\Mozart\\\\kv1e.mid',\n",
       " 'Piano_Collections\\\\Mozart\\\\kv2.mid',\n",
       " 'Piano_Collections\\\\Mozart\\\\kv3.mid']"
      ]
     },
     "execution_count": 15,
     "metadata": {},
     "output_type": "execute_result"
    }
   ],
   "source": [
    "# get file pathes\n",
    "folder = \"Piano_Collections\"\n",
    "subfolder = \"Mozart\"\n",
    "folder2 = \"mozart\"\n",
    "fnames_ful = map(lambda fname:os.path.join(folder,subfolder,fname),fnames)\n",
    "fnames_ful = list(fnames_ful)\n",
    "fnames_ful[:10]"
   ]
  },
  {
   "cell_type": "code",
   "execution_count": 16,
   "id": "a3c90c8b",
   "metadata": {},
   "outputs": [],
   "source": [
    "# define output folder\n",
    "output_folder = \"Handcrafted Dataset - One Hot/Mozart\""
   ]
  },
  {
   "cell_type": "code",
   "execution_count": 17,
   "id": "f210cfe4",
   "metadata": {},
   "outputs": [
    {
     "data": {
      "application/vnd.jupyter.widget-view+json": {
       "model_id": "f07c83b2e3b24d31a0d189fdc94b94d0",
       "version_major": 2,
       "version_minor": 0
      },
      "text/plain": [
       "  0%|          | 0/86 [00:00<?, ?it/s]"
      ]
     },
     "metadata": {},
     "output_type": "display_data"
    },
    {
     "name": "stdout",
     "output_type": "stream",
     "text": [
      "error:  Piano_Collections\\Mozart\\lempsb4.mid\n",
      "error:  Piano_Collections\\Mozart\\lempsc4.mid\n"
     ]
    },
    {
     "name": "stderr",
     "output_type": "stream",
     "text": [
      "W:\\Tools\\Anaconda3\\envs\\pytorch\\lib\\site-packages\\pypianoroll\\inputs.py:225: RuntimeWarning: divide by zero encountered in true_divide\n",
      "  bpm = 60.0 / np.diff(beat_times_one_more)\n"
     ]
    }
   ],
   "source": [
    "from tqdm.auto import tqdm\n",
    "progress_bar = tqdm(np.arange(0,len(fnames)))\n",
    "a = np.array([20,21])\n",
    "for i in np.arange(0,len(fnames)):\n",
    "    #if i in a:\n",
    "        #progress_bar.update(1)\n",
    "        #continue\n",
    "    generateData(fnames[i],fnames_ful[i],output_folder,2000)\n",
    "    progress_bar.update(1)"
   ]
  },
  {
   "cell_type": "code",
   "execution_count": null,
   "id": "a20b1ac1",
   "metadata": {},
   "outputs": [],
   "source": []
  },
  {
   "cell_type": "markdown",
   "id": "8d6b7fb9",
   "metadata": {},
   "source": [
    "## Beethoven"
   ]
  },
  {
   "cell_type": "code",
   "execution_count": 18,
   "id": "e0635d1e",
   "metadata": {},
   "outputs": [
    {
     "data": {
      "text/plain": [
       "['afav.mid',\n",
       " 'appass_1.mid',\n",
       " 'appass_2.mid',\n",
       " 'appass_3.mid',\n",
       " 'baga01.mid',\n",
       " 'baga02.mid',\n",
       " 'baga03.mid',\n",
       " 'baga04.mid',\n",
       " 'baga05.mid',\n",
       " 'baga06.mid']"
      ]
     },
     "execution_count": 18,
     "metadata": {},
     "output_type": "execute_result"
    }
   ],
   "source": [
    "fnames = os.listdir(\"Piano_Collections/Beethoven\")\n",
    "fnames[:10]"
   ]
  },
  {
   "cell_type": "code",
   "execution_count": 19,
   "id": "700637a8",
   "metadata": {},
   "outputs": [
    {
     "data": {
      "text/plain": [
       "['Piano_Collections\\\\Beethoven\\\\afav.mid',\n",
       " 'Piano_Collections\\\\Beethoven\\\\appass_1.mid',\n",
       " 'Piano_Collections\\\\Beethoven\\\\appass_2.mid',\n",
       " 'Piano_Collections\\\\Beethoven\\\\appass_3.mid',\n",
       " 'Piano_Collections\\\\Beethoven\\\\baga01.mid',\n",
       " 'Piano_Collections\\\\Beethoven\\\\baga02.mid',\n",
       " 'Piano_Collections\\\\Beethoven\\\\baga03.mid',\n",
       " 'Piano_Collections\\\\Beethoven\\\\baga04.mid',\n",
       " 'Piano_Collections\\\\Beethoven\\\\baga05.mid',\n",
       " 'Piano_Collections\\\\Beethoven\\\\baga06.mid']"
      ]
     },
     "execution_count": 19,
     "metadata": {},
     "output_type": "execute_result"
    }
   ],
   "source": [
    "# get file pathes\n",
    "folder = \"Piano_Collections\"\n",
    "subfolder = \"Beethoven\"\n",
    "fnames_ful = map(lambda fname:os.path.join(folder,subfolder,fname),fnames)\n",
    "fnames_ful = list(fnames_ful)\n",
    "fnames_ful[:10]"
   ]
  },
  {
   "cell_type": "code",
   "execution_count": 20,
   "id": "959e6498",
   "metadata": {},
   "outputs": [],
   "source": [
    "# define output folder\n",
    "output_folder = \"Handcrafted Dataset - One Hot/Beethoven\""
   ]
  },
  {
   "cell_type": "code",
   "execution_count": 21,
   "id": "fec2e514",
   "metadata": {},
   "outputs": [
    {
     "data": {
      "application/vnd.jupyter.widget-view+json": {
       "model_id": "4e456cb961bf4a5289fbd6c8e9658984",
       "version_major": 2,
       "version_minor": 0
      },
      "text/plain": [
       "  0%|          | 0/108 [00:00<?, ?it/s]"
      ]
     },
     "metadata": {},
     "output_type": "display_data"
    },
    {
     "name": "stdout",
     "output_type": "stream",
     "text": [
      "error:  Piano_Collections\\Beethoven\\bemfi2pb.mid\n",
      "error:  Piano_Collections\\Beethoven\\bev2i3pb.mid\n",
      "error:  Piano_Collections\\Beethoven\\bev3i7pb.mid\n",
      "error:  Piano_Collections\\Beethoven\\bev6i6pb.mid\n"
     ]
    }
   ],
   "source": [
    "from tqdm.auto import tqdm\n",
    "progress_bar = tqdm(np.arange(0,len(fnames)))\n",
    "a = np.array([86,88,89,90,93])\n",
    "for i in np.arange(0,len(fnames)):\n",
    "    #if i in a:\n",
    "       # continue\n",
    "        #progress_bar.update(1)\n",
    "    generateData(fnames[i],fnames_ful[i],output_folder,1000)\n",
    "    progress_bar.update(1)"
   ]
  },
  {
   "cell_type": "code",
   "execution_count": null,
   "id": "730c8721",
   "metadata": {},
   "outputs": [],
   "source": []
  },
  {
   "cell_type": "markdown",
   "id": "67478de6",
   "metadata": {},
   "source": [
    "# Haydn"
   ]
  },
  {
   "cell_type": "code",
   "execution_count": 22,
   "id": "b6f66d6b",
   "metadata": {},
   "outputs": [
    {
     "data": {
      "text/plain": [
       "['12_germa.mid',\n",
       " '12_men.mid',\n",
       " '12_menu.mid',\n",
       " '12_menue.mid',\n",
       " 'allegret.mid',\n",
       " 'allegro_.mid',\n",
       " 'capricci.mid',\n",
       " 'dance_in.mid',\n",
       " 'fantasia.mid',\n",
       " 'gdance1.mid']"
      ]
     },
     "execution_count": 22,
     "metadata": {},
     "output_type": "execute_result"
    }
   ],
   "source": [
    "fnames = os.listdir(\"Piano_Collections/Haydn\")\n",
    "fnames[:10]"
   ]
  },
  {
   "cell_type": "code",
   "execution_count": 23,
   "id": "3ff9839d",
   "metadata": {},
   "outputs": [
    {
     "data": {
      "text/plain": [
       "['Piano_Collections\\\\Haydn\\\\12_germa.mid',\n",
       " 'Piano_Collections\\\\Haydn\\\\12_men.mid',\n",
       " 'Piano_Collections\\\\Haydn\\\\12_menu.mid',\n",
       " 'Piano_Collections\\\\Haydn\\\\12_menue.mid',\n",
       " 'Piano_Collections\\\\Haydn\\\\allegret.mid',\n",
       " 'Piano_Collections\\\\Haydn\\\\allegro_.mid',\n",
       " 'Piano_Collections\\\\Haydn\\\\capricci.mid',\n",
       " 'Piano_Collections\\\\Haydn\\\\dance_in.mid',\n",
       " 'Piano_Collections\\\\Haydn\\\\fantasia.mid',\n",
       " 'Piano_Collections\\\\Haydn\\\\gdance1.mid']"
      ]
     },
     "execution_count": 23,
     "metadata": {},
     "output_type": "execute_result"
    }
   ],
   "source": [
    "# get file pathes\n",
    "folder = \"Piano_Collections\"\n",
    "subfolder = \"Haydn\"\n",
    "fnames_ful = map(lambda fname:os.path.join(folder,subfolder,fname),fnames)\n",
    "fnames_ful = list(fnames_ful)\n",
    "fnames_ful[:10]"
   ]
  },
  {
   "cell_type": "code",
   "execution_count": 24,
   "id": "18a356bc",
   "metadata": {},
   "outputs": [],
   "source": [
    "# define output folder\n",
    "output_folder = \"Handcrafted Dataset - One Hot/Haydn\""
   ]
  },
  {
   "cell_type": "code",
   "execution_count": 25,
   "id": "59a9a125",
   "metadata": {},
   "outputs": [
    {
     "data": {
      "application/vnd.jupyter.widget-view+json": {
       "model_id": "138364c848164ee4b6d70244caa29db7",
       "version_major": 2,
       "version_minor": 0
      },
      "text/plain": [
       "  0%|          | 0/160 [00:00<?, ?it/s]"
      ]
     },
     "metadata": {},
     "output_type": "display_data"
    }
   ],
   "source": [
    "from tqdm.auto import tqdm\n",
    "progress_bar = tqdm(np.arange(len(fnames)))\n",
    "a = np.array([])\n",
    "for i in np.arange(len(fnames)):\n",
    "    if i in a:\n",
    "        continue\n",
    "        progress_bar.update(1)\n",
    "    generateData(fnames[i],fnames_ful[i],output_folder,3000)\n",
    "    progress_bar.update(1)"
   ]
  },
  {
   "cell_type": "code",
   "execution_count": null,
   "id": "fdc9be71",
   "metadata": {},
   "outputs": [],
   "source": []
  },
  {
   "cell_type": "markdown",
   "id": "c6513469",
   "metadata": {},
   "source": [
    "# Clementi"
   ]
  },
  {
   "cell_type": "code",
   "execution_count": 49,
   "id": "a62000a3",
   "metadata": {},
   "outputs": [
    {
     "data": {
      "text/plain": [
       "['clem26_3.mid',\n",
       " 'clem5031.mid',\n",
       " 'clem5032.mid',\n",
       " 'clem5033.mid',\n",
       " 'clem5034.mid',\n",
       " 'clemm.mid',\n",
       " 'clemm2.mid',\n",
       " 'clemm3.mid',\n",
       " 'clmu07_3.mid',\n",
       " 'clmu12_2.mid']"
      ]
     },
     "execution_count": 49,
     "metadata": {},
     "output_type": "execute_result"
    }
   ],
   "source": [
    "fnames = os.listdir(\"Piano_Collections/Clementi\")\n",
    "fnames[:10]"
   ]
  },
  {
   "cell_type": "code",
   "execution_count": 50,
   "id": "6ac5e0a9",
   "metadata": {},
   "outputs": [
    {
     "data": {
      "text/plain": [
       "['Piano_Collections\\\\Clementi\\\\clem26_3.mid',\n",
       " 'Piano_Collections\\\\Clementi\\\\clem5031.mid',\n",
       " 'Piano_Collections\\\\Clementi\\\\clem5032.mid',\n",
       " 'Piano_Collections\\\\Clementi\\\\clem5033.mid',\n",
       " 'Piano_Collections\\\\Clementi\\\\clem5034.mid',\n",
       " 'Piano_Collections\\\\Clementi\\\\clemm.mid',\n",
       " 'Piano_Collections\\\\Clementi\\\\clemm2.mid',\n",
       " 'Piano_Collections\\\\Clementi\\\\clemm3.mid',\n",
       " 'Piano_Collections\\\\Clementi\\\\clmu07_3.mid',\n",
       " 'Piano_Collections\\\\Clementi\\\\clmu12_2.mid']"
      ]
     },
     "execution_count": 50,
     "metadata": {},
     "output_type": "execute_result"
    }
   ],
   "source": [
    "# get file pathes\n",
    "folder = \"Piano_Collections\"\n",
    "subfolder = \"Clementi\"\n",
    "fnames_ful = map(lambda fname:os.path.join(folder,subfolder,fname),fnames)\n",
    "fnames_ful = list(fnames_ful)\n",
    "fnames_ful[:10]"
   ]
  },
  {
   "cell_type": "code",
   "execution_count": 51,
   "id": "dec435f5",
   "metadata": {},
   "outputs": [
    {
     "data": {
      "application/vnd.jupyter.widget-view+json": {
       "model_id": "51f4da46c6fe4ee5870764caafbdf19b",
       "version_major": 2,
       "version_minor": 0
      },
      "text/plain": [
       "  0%|          | 0/62 [00:00<?, ?it/s]"
      ]
     },
     "metadata": {},
     "output_type": "display_data"
    }
   ],
   "source": [
    "# define output folder\n",
    "output_folder = \"Handcrafted Dataset - One Hot/Clementi\"\n",
    "from tqdm.auto import tqdm\n",
    "progress_bar = tqdm(np.arange(len(fnames)))\n",
    "a = np.array([])\n",
    "for i in np.arange(len(fnames)):\n",
    "    if i in a:\n",
    "        continue\n",
    "        progress_bar.update(1)\n",
    "    generateData(fnames[i],fnames_ful[i],output_folder,3000)\n",
    "    progress_bar.update(1)"
   ]
  },
  {
   "cell_type": "markdown",
   "id": "1ffb0afd",
   "metadata": {},
   "source": [
    "# Czerny"
   ]
  },
  {
   "cell_type": "code",
   "execution_count": 52,
   "id": "5da81f5b",
   "metadata": {},
   "outputs": [
    {
     "data": {
      "text/plain": [
       "['cn299_01.mid',\n",
       " 'cn299_02.mid',\n",
       " 'cn299_03.mid',\n",
       " 'cn299_04.mid',\n",
       " 'cn299_05.mid',\n",
       " 'cn299_06.mid',\n",
       " 'cn299_07.mid',\n",
       " 'cn299_08.mid',\n",
       " 'cn299_09.mid',\n",
       " 'cn299_10.mid']"
      ]
     },
     "execution_count": 52,
     "metadata": {},
     "output_type": "execute_result"
    }
   ],
   "source": [
    "fnames = os.listdir(\"Piano_Collections/Czerny\")\n",
    "fnames[:10]"
   ]
  },
  {
   "cell_type": "code",
   "execution_count": 53,
   "id": "604727bd",
   "metadata": {},
   "outputs": [
    {
     "data": {
      "text/plain": [
       "['Piano_Collections\\\\Czerny\\\\cn299_01.mid',\n",
       " 'Piano_Collections\\\\Czerny\\\\cn299_02.mid',\n",
       " 'Piano_Collections\\\\Czerny\\\\cn299_03.mid',\n",
       " 'Piano_Collections\\\\Czerny\\\\cn299_04.mid',\n",
       " 'Piano_Collections\\\\Czerny\\\\cn299_05.mid',\n",
       " 'Piano_Collections\\\\Czerny\\\\cn299_06.mid',\n",
       " 'Piano_Collections\\\\Czerny\\\\cn299_07.mid',\n",
       " 'Piano_Collections\\\\Czerny\\\\cn299_08.mid',\n",
       " 'Piano_Collections\\\\Czerny\\\\cn299_09.mid',\n",
       " 'Piano_Collections\\\\Czerny\\\\cn299_10.mid']"
      ]
     },
     "execution_count": 53,
     "metadata": {},
     "output_type": "execute_result"
    }
   ],
   "source": [
    "# get file pathes\n",
    "folder = \"Piano_Collections\"\n",
    "subfolder = \"Czerny\"\n",
    "fnames_ful = map(lambda fname:os.path.join(folder,subfolder,fname),fnames)\n",
    "fnames_ful = list(fnames_ful)\n",
    "fnames_ful[:10]"
   ]
  },
  {
   "cell_type": "code",
   "execution_count": 54,
   "id": "6058f561",
   "metadata": {},
   "outputs": [
    {
     "data": {
      "application/vnd.jupyter.widget-view+json": {
       "model_id": "3f9cb33646fe463db034f9dd58dd3869",
       "version_major": 2,
       "version_minor": 0
      },
      "text/plain": [
       "  0%|          | 0/81 [00:00<?, ?it/s]"
      ]
     },
     "metadata": {},
     "output_type": "display_data"
    }
   ],
   "source": [
    "# define output folder\n",
    "output_folder = \"Handcrafted Dataset - One Hot/Czerny\"\n",
    "from tqdm.auto import tqdm\n",
    "progress_bar = tqdm(np.arange(len(fnames)))\n",
    "a = np.array([])\n",
    "for i in np.arange(len(fnames)):\n",
    "    if i in a:\n",
    "        continue\n",
    "        progress_bar.update(1)\n",
    "    generateData(fnames[i],fnames_ful[i],output_folder,3000)\n",
    "    progress_bar.update(1)"
   ]
  },
  {
   "cell_type": "markdown",
   "id": "7899f801",
   "metadata": {},
   "source": [
    "# Debussy"
   ]
  },
  {
   "cell_type": "code",
   "execution_count": 55,
   "id": "e51f3e19",
   "metadata": {},
   "outputs": [
    {
     "data": {
      "text/plain": [
       "['canope.mid',\n",
       " 'debbalad.mid',\n",
       " 'debberg1.mid',\n",
       " 'debberg2.mid',\n",
       " 'debberg3.mid',\n",
       " 'debberg4.mid',\n",
       " 'debchi01.mid',\n",
       " 'debchi03.mid',\n",
       " 'debchi04.mid',\n",
       " 'debchi05.mid']"
      ]
     },
     "execution_count": 55,
     "metadata": {},
     "output_type": "execute_result"
    }
   ],
   "source": [
    "fnames = os.listdir(\"Piano_Collections/Debussy\")\n",
    "fnames[:10]"
   ]
  },
  {
   "cell_type": "code",
   "execution_count": 56,
   "id": "9934792d",
   "metadata": {},
   "outputs": [
    {
     "data": {
      "text/plain": [
       "['Piano_Collections\\\\Debussy\\\\canope.mid',\n",
       " 'Piano_Collections\\\\Debussy\\\\debbalad.mid',\n",
       " 'Piano_Collections\\\\Debussy\\\\debberg1.mid',\n",
       " 'Piano_Collections\\\\Debussy\\\\debberg2.mid',\n",
       " 'Piano_Collections\\\\Debussy\\\\debberg3.mid',\n",
       " 'Piano_Collections\\\\Debussy\\\\debberg4.mid',\n",
       " 'Piano_Collections\\\\Debussy\\\\debchi01.mid',\n",
       " 'Piano_Collections\\\\Debussy\\\\debchi03.mid',\n",
       " 'Piano_Collections\\\\Debussy\\\\debchi04.mid',\n",
       " 'Piano_Collections\\\\Debussy\\\\debchi05.mid']"
      ]
     },
     "execution_count": 56,
     "metadata": {},
     "output_type": "execute_result"
    }
   ],
   "source": [
    "# get file pathes\n",
    "folder = \"Piano_Collections\"\n",
    "subfolder = \"Debussy\"\n",
    "fnames_ful = map(lambda fname:os.path.join(folder,subfolder,fname),fnames)\n",
    "fnames_ful = list(fnames_ful)\n",
    "fnames_ful[:10]"
   ]
  },
  {
   "cell_type": "code",
   "execution_count": 57,
   "id": "2e202667",
   "metadata": {},
   "outputs": [
    {
     "data": {
      "application/vnd.jupyter.widget-view+json": {
       "model_id": "f0e5de7a627544a7b0e147cc03ce1dec",
       "version_major": 2,
       "version_minor": 0
      },
      "text/plain": [
       "  0%|          | 0/67 [00:00<?, ?it/s]"
      ]
     },
     "metadata": {},
     "output_type": "display_data"
    }
   ],
   "source": [
    "# define output folder\n",
    "output_folder = \"Handcrafted Dataset - One Hot/Debussy\"\n",
    "from tqdm.auto import tqdm\n",
    "progress_bar = tqdm(np.arange(len(fnames)))\n",
    "a = np.array([])\n",
    "for i in np.arange(len(fnames)):\n",
    "    if i in a:\n",
    "        continue\n",
    "        progress_bar.update(1)\n",
    "    generateData(fnames[i],fnames_ful[i],output_folder,3000)\n",
    "    progress_bar.update(1)"
   ]
  },
  {
   "cell_type": "code",
   "execution_count": null,
   "id": "d15fb8ad",
   "metadata": {},
   "outputs": [],
   "source": []
  },
  {
   "cell_type": "code",
   "execution_count": null,
   "id": "1c5900c7",
   "metadata": {},
   "outputs": [],
   "source": []
  },
  {
   "cell_type": "markdown",
   "id": "771e34d2",
   "metadata": {},
   "source": [
    "# Mendelssohn"
   ]
  },
  {
   "cell_type": "code",
   "execution_count": 26,
   "id": "2d13261a",
   "metadata": {},
   "outputs": [
    {
     "data": {
      "text/plain": [
       "['fmrond14.mid',\n",
       " 'jgo102_1.mid',\n",
       " 'jgo102_2.mid',\n",
       " 'jgo102_3.mid',\n",
       " 'jgo102_4.mid',\n",
       " 'jgo102_5.mid',\n",
       " 'jgo102_6.mid',\n",
       " 'jgop19_1.mid',\n",
       " 'jgop19_2.mid',\n",
       " 'jgop19_3.mid']"
      ]
     },
     "execution_count": 26,
     "metadata": {},
     "output_type": "execute_result"
    }
   ],
   "source": [
    "fnames = os.listdir(\"Piano_Collections/Mendelssohn\")\n",
    "fnames[:10]"
   ]
  },
  {
   "cell_type": "code",
   "execution_count": 27,
   "id": "ea63b58f",
   "metadata": {},
   "outputs": [
    {
     "data": {
      "text/plain": [
       "['Piano_Collections\\\\Mendelssohn\\\\fmrond14.mid',\n",
       " 'Piano_Collections\\\\Mendelssohn\\\\jgo102_1.mid',\n",
       " 'Piano_Collections\\\\Mendelssohn\\\\jgo102_2.mid',\n",
       " 'Piano_Collections\\\\Mendelssohn\\\\jgo102_3.mid',\n",
       " 'Piano_Collections\\\\Mendelssohn\\\\jgo102_4.mid',\n",
       " 'Piano_Collections\\\\Mendelssohn\\\\jgo102_5.mid',\n",
       " 'Piano_Collections\\\\Mendelssohn\\\\jgo102_6.mid',\n",
       " 'Piano_Collections\\\\Mendelssohn\\\\jgop19_1.mid',\n",
       " 'Piano_Collections\\\\Mendelssohn\\\\jgop19_2.mid',\n",
       " 'Piano_Collections\\\\Mendelssohn\\\\jgop19_3.mid']"
      ]
     },
     "execution_count": 27,
     "metadata": {},
     "output_type": "execute_result"
    }
   ],
   "source": [
    "# get file pathes\n",
    "folder = \"Piano_Collections\"\n",
    "subfolder = \"Mendelssohn\"\n",
    "fnames_ful = map(lambda fname:os.path.join(folder,subfolder,fname),fnames)\n",
    "fnames_ful = list(fnames_ful)\n",
    "fnames_ful[:10]"
   ]
  },
  {
   "cell_type": "code",
   "execution_count": 29,
   "id": "392a6d54",
   "metadata": {},
   "outputs": [
    {
     "data": {
      "application/vnd.jupyter.widget-view+json": {
       "model_id": "b6c51c502d1a48d5bae265130e04f75f",
       "version_major": 2,
       "version_minor": 0
      },
      "text/plain": [
       "  0%|          | 0/61 [00:00<?, ?it/s]"
      ]
     },
     "metadata": {},
     "output_type": "display_data"
    },
    {
     "name": "stdout",
     "output_type": "stream",
     "text": [
      "error:  Piano_Collections\\Mendelssohn\\mendand.mid\n"
     ]
    }
   ],
   "source": [
    "# define output folder\n",
    "output_folder = \"Handcrafted Dataset - One Hot/Mendelssohn\"\n",
    "from tqdm.auto import tqdm\n",
    "progress_bar = tqdm(np.arange(0,len(fnames)))\n",
    "a = np.array([55])\n",
    "for i in np.arange(0,len(fnames)):\n",
    "    #if i in a:\n",
    "        #continue\n",
    "        #progress_bar.update(1)\n",
    "    generateData(fnames[i],fnames_ful[i],output_folder,3000)\n",
    "    progress_bar.update(1)"
   ]
  },
  {
   "cell_type": "code",
   "execution_count": null,
   "id": "90d4cc95",
   "metadata": {},
   "outputs": [],
   "source": []
  },
  {
   "cell_type": "markdown",
   "id": "f765ce3a",
   "metadata": {},
   "source": [
    "# Schumann"
   ]
  },
  {
   "cell_type": "code",
   "execution_count": 30,
   "id": "d7e09072",
   "metadata": {},
   "outputs": [
    {
     "data": {
      "text/plain": [
       "['1-sorrow.mid',\n",
       " 'amkamin.mid',\n",
       " 'blumnstk.mid',\n",
       " 'carnaval.mid',\n",
       " 'faschng4.mid',\n",
       " 'fastzu.mid',\n",
       " 'fremmann.mid',\n",
       " 'furchten.mid',\n",
       " 'horseman.mid',\n",
       " 'humsong.mid']"
      ]
     },
     "execution_count": 30,
     "metadata": {},
     "output_type": "execute_result"
    }
   ],
   "source": [
    "fnames = os.listdir(\"Piano_Collections/Schumann\")\n",
    "fnames[:10]"
   ]
  },
  {
   "cell_type": "code",
   "execution_count": 31,
   "id": "04dc5997",
   "metadata": {},
   "outputs": [
    {
     "data": {
      "text/plain": [
       "['Piano_Collections\\\\Schumann\\\\1-sorrow.mid',\n",
       " 'Piano_Collections\\\\Schumann\\\\amkamin.mid',\n",
       " 'Piano_Collections\\\\Schumann\\\\blumnstk.mid',\n",
       " 'Piano_Collections\\\\Schumann\\\\carnaval.mid',\n",
       " 'Piano_Collections\\\\Schumann\\\\faschng4.mid',\n",
       " 'Piano_Collections\\\\Schumann\\\\fastzu.mid',\n",
       " 'Piano_Collections\\\\Schumann\\\\fremmann.mid',\n",
       " 'Piano_Collections\\\\Schumann\\\\furchten.mid',\n",
       " 'Piano_Collections\\\\Schumann\\\\horseman.mid',\n",
       " 'Piano_Collections\\\\Schumann\\\\humsong.mid']"
      ]
     },
     "execution_count": 31,
     "metadata": {},
     "output_type": "execute_result"
    }
   ],
   "source": [
    "# get file pathes\n",
    "folder = \"Piano_Collections\"\n",
    "subfolder = \"Schumann\"\n",
    "fnames_ful = map(lambda fname:os.path.join(folder,subfolder,fname),fnames)\n",
    "fnames_ful = list(fnames_ful)\n",
    "fnames_ful[:10]"
   ]
  },
  {
   "cell_type": "code",
   "execution_count": 32,
   "id": "64f3b3ce",
   "metadata": {},
   "outputs": [
    {
     "data": {
      "application/vnd.jupyter.widget-view+json": {
       "model_id": "f1de7b6ec97846398712127be297aa68",
       "version_major": 2,
       "version_minor": 0
      },
      "text/plain": [
       "  0%|          | 0/96 [00:00<?, ?it/s]"
      ]
     },
     "metadata": {},
     "output_type": "display_data"
    },
    {
     "name": "stdout",
     "output_type": "stream",
     "text": [
      "error:  Piano_Collections\\Schumann\\schm2105.mid\n"
     ]
    }
   ],
   "source": [
    "# define output folder\n",
    "output_folder = \"Handcrafted Dataset - One Hot/Schumann\"\n",
    "from tqdm.auto import tqdm\n",
    "progress_bar = tqdm(np.arange(0,len(fnames)))\n",
    "a = np.array([33])\n",
    "for i in np.arange(0,len(fnames)):\n",
    "    #if i in a:\n",
    "        #continue\n",
    "        #progress_bar.update(1)\n",
    "    generateData(fnames[i],fnames_ful[i],output_folder,3000)\n",
    "    progress_bar.update(1)"
   ]
  },
  {
   "cell_type": "code",
   "execution_count": null,
   "id": "80ed5e27",
   "metadata": {},
   "outputs": [],
   "source": []
  },
  {
   "cell_type": "code",
   "execution_count": null,
   "id": "af95f666",
   "metadata": {},
   "outputs": [],
   "source": []
  },
  {
   "cell_type": "markdown",
   "id": "d8f5935e",
   "metadata": {},
   "source": [
    "# Schubert"
   ]
  },
  {
   "cell_type": "code",
   "execution_count": 33,
   "id": "3ab1e7fb",
   "metadata": {},
   "outputs": [
    {
     "data": {
      "text/plain": [
       "['12_vari.mid',\n",
       " '20_varia.mid',\n",
       " '5_variat.mid',\n",
       " '6_variat.mid',\n",
       " 'allegret.mid',\n",
       " 'andante_.mid',\n",
       " 'andantin.mid',\n",
       " 'aria_con.mid',\n",
       " 'd0576_00.mid',\n",
       " 'd0576_01.mid']"
      ]
     },
     "execution_count": 33,
     "metadata": {},
     "output_type": "execute_result"
    }
   ],
   "source": [
    "fnames = os.listdir(\"Piano_Collections/Schubert\")\n",
    "fnames[:10]"
   ]
  },
  {
   "cell_type": "code",
   "execution_count": 34,
   "id": "3e10e062",
   "metadata": {},
   "outputs": [
    {
     "data": {
      "text/plain": [
       "['Piano_Collections\\\\Schubert\\\\12_vari.mid',\n",
       " 'Piano_Collections\\\\Schubert\\\\20_varia.mid',\n",
       " 'Piano_Collections\\\\Schubert\\\\5_variat.mid',\n",
       " 'Piano_Collections\\\\Schubert\\\\6_variat.mid',\n",
       " 'Piano_Collections\\\\Schubert\\\\allegret.mid',\n",
       " 'Piano_Collections\\\\Schubert\\\\andante_.mid',\n",
       " 'Piano_Collections\\\\Schubert\\\\andantin.mid',\n",
       " 'Piano_Collections\\\\Schubert\\\\aria_con.mid',\n",
       " 'Piano_Collections\\\\Schubert\\\\d0576_00.mid',\n",
       " 'Piano_Collections\\\\Schubert\\\\d0576_01.mid']"
      ]
     },
     "execution_count": 34,
     "metadata": {},
     "output_type": "execute_result"
    }
   ],
   "source": [
    "# get file pathes\n",
    "folder = \"Piano_Collections\"\n",
    "subfolder = \"Schubert\"\n",
    "fnames_ful = map(lambda fname:os.path.join(folder,subfolder,fname),fnames)\n",
    "fnames_ful = list(fnames_ful)\n",
    "fnames_ful[:10]"
   ]
  },
  {
   "cell_type": "code",
   "execution_count": 35,
   "id": "c08353d6",
   "metadata": {},
   "outputs": [
    {
     "data": {
      "application/vnd.jupyter.widget-view+json": {
       "model_id": "d160128bed5c4eb3b6b548b8c5f91b67",
       "version_major": 2,
       "version_minor": 0
      },
      "text/plain": [
       "  0%|          | 0/82 [00:00<?, ?it/s]"
      ]
     },
     "metadata": {},
     "output_type": "display_data"
    },
    {
     "name": "stdout",
     "output_type": "stream",
     "text": [
      "error:  Piano_Collections\\Schubert\\sch33_10.mid\n",
      "error:  Piano_Collections\\Schubert\\sch77_9.mid\n"
     ]
    }
   ],
   "source": [
    "# define output folder\n",
    "output_folder = \"Handcrafted Dataset - One Hot/Schubert\"\n",
    "from tqdm.auto import tqdm\n",
    "progress_bar = tqdm(np.arange(0,len(fnames)))\n",
    "a = np.array([41,42,43])\n",
    "for i in np.arange(0,len(fnames)):\n",
    "    #if i in a:\n",
    "        #continue\n",
    "        #progress_bar.update(1)\n",
    "    generateData(fnames[i],fnames_ful[i],output_folder,3000)\n",
    "    progress_bar.update(1)"
   ]
  },
  {
   "cell_type": "code",
   "execution_count": null,
   "id": "e9af9f4c",
   "metadata": {},
   "outputs": [],
   "source": []
  },
  {
   "cell_type": "markdown",
   "id": "533a8cb9",
   "metadata": {},
   "source": [
    "# Tchaikovsky"
   ]
  },
  {
   "cell_type": "code",
   "execution_count": 23,
   "id": "2d853b34",
   "metadata": {},
   "outputs": [
    {
     "data": {
      "text/plain": [
       "['cstchcsp.mid',\n",
       " 'junetcha.mid',\n",
       " 'romancef.mid',\n",
       " 'sytc2102.mid',\n",
       " 'tch37oct.mid',\n",
       " 'tchromnc.mid',\n",
       " 'tch_o402.mid',\n",
       " 'tch_o406.mid',\n",
       " 'tch_o409.mid',\n",
       " 'tch_o410.mid']"
      ]
     },
     "execution_count": 23,
     "metadata": {},
     "output_type": "execute_result"
    }
   ],
   "source": [
    "fnames = os.listdir(\"Piano_Collections/Tchaikovsky\")\n",
    "fnames[:10]"
   ]
  },
  {
   "cell_type": "code",
   "execution_count": 24,
   "id": "55370144",
   "metadata": {},
   "outputs": [
    {
     "data": {
      "text/plain": [
       "['Piano_Collections\\\\Tchaikovsky\\\\cstchcsp.mid',\n",
       " 'Piano_Collections\\\\Tchaikovsky\\\\junetcha.mid',\n",
       " 'Piano_Collections\\\\Tchaikovsky\\\\romancef.mid',\n",
       " 'Piano_Collections\\\\Tchaikovsky\\\\sytc2102.mid',\n",
       " 'Piano_Collections\\\\Tchaikovsky\\\\tch37oct.mid',\n",
       " 'Piano_Collections\\\\Tchaikovsky\\\\tchromnc.mid',\n",
       " 'Piano_Collections\\\\Tchaikovsky\\\\tch_o402.mid',\n",
       " 'Piano_Collections\\\\Tchaikovsky\\\\tch_o406.mid',\n",
       " 'Piano_Collections\\\\Tchaikovsky\\\\tch_o409.mid',\n",
       " 'Piano_Collections\\\\Tchaikovsky\\\\tch_o410.mid']"
      ]
     },
     "execution_count": 24,
     "metadata": {},
     "output_type": "execute_result"
    }
   ],
   "source": [
    "# get file pathes\n",
    "folder = \"Piano_Collections\"\n",
    "subfolder = \"Tchaikovsky\"\n",
    "fnames_ful = map(lambda fname:os.path.join(folder,subfolder,fname),fnames)\n",
    "fnames_ful = list(fnames_ful)\n",
    "fnames_ful[:10]"
   ]
  },
  {
   "cell_type": "code",
   "execution_count": 25,
   "id": "56e4960e",
   "metadata": {},
   "outputs": [
    {
     "data": {
      "application/vnd.jupyter.widget-view+json": {
       "model_id": "ad66306472ba40e4acfe1db734222f69",
       "version_major": 2,
       "version_minor": 0
      },
      "text/plain": [
       "  0%|          | 0/41 [00:00<?, ?it/s]"
      ]
     },
     "metadata": {},
     "output_type": "display_data"
    }
   ],
   "source": [
    "# define output folder\n",
    "output_folder = \"Handcrafted Dataset - One Hot/Tchaikovsky\"\n",
    "from tqdm.auto import tqdm\n",
    "progress_bar = tqdm(np.arange(0,len(fnames)))\n",
    "a = np.array([])\n",
    "for i in np.arange(0,len(fnames)):\n",
    "    if i in a:\n",
    "        continue\n",
    "        progress_bar.update(1)\n",
    "    generateData(fnames[i],fnames_ful[i],output_folder,3000)\n",
    "    progress_bar.update(1)"
   ]
  },
  {
   "cell_type": "code",
   "execution_count": null,
   "id": "026bb813",
   "metadata": {},
   "outputs": [],
   "source": []
  },
  {
   "cell_type": "markdown",
   "id": "20f95e61",
   "metadata": {},
   "source": [
    "# Others"
   ]
  },
  {
   "cell_type": "code",
   "execution_count": 26,
   "id": "a1857588",
   "metadata": {},
   "outputs": [
    {
     "data": {
      "text/plain": [
       "['cs_padtv.mid',\n",
       " 'elpelele.mid',\n",
       " 'fandango.mid',\n",
       " 'fauimp01.mid',\n",
       " 'fauimp02.mid',\n",
       " 'fauimp04.mid',\n",
       " 'fauimp05.mid',\n",
       " 'faunoc01.mid',\n",
       " 'faunoc02.mid',\n",
       " 'faunoc03.mid']"
      ]
     },
     "execution_count": 26,
     "metadata": {},
     "output_type": "execute_result"
    }
   ],
   "source": [
    "fnames = os.listdir(\"Piano_Collections/Others\")\n",
    "fnames[:10]"
   ]
  },
  {
   "cell_type": "code",
   "execution_count": 27,
   "id": "88330860",
   "metadata": {},
   "outputs": [
    {
     "data": {
      "text/plain": [
       "['Piano_Collections\\\\Others\\\\cs_padtv.mid',\n",
       " 'Piano_Collections\\\\Others\\\\elpelele.mid',\n",
       " 'Piano_Collections\\\\Others\\\\fandango.mid',\n",
       " 'Piano_Collections\\\\Others\\\\fauimp01.mid',\n",
       " 'Piano_Collections\\\\Others\\\\fauimp02.mid',\n",
       " 'Piano_Collections\\\\Others\\\\fauimp04.mid',\n",
       " 'Piano_Collections\\\\Others\\\\fauimp05.mid',\n",
       " 'Piano_Collections\\\\Others\\\\faunoc01.mid',\n",
       " 'Piano_Collections\\\\Others\\\\faunoc02.mid',\n",
       " 'Piano_Collections\\\\Others\\\\faunoc03.mid']"
      ]
     },
     "execution_count": 27,
     "metadata": {},
     "output_type": "execute_result"
    }
   ],
   "source": [
    "# get file pathes\n",
    "folder = \"Piano_Collections\"\n",
    "subfolder = \"Others\"\n",
    "fnames_ful = map(lambda fname:os.path.join(folder,subfolder,fname),fnames)\n",
    "fnames_ful = list(fnames_ful)\n",
    "fnames_ful[:10]"
   ]
  },
  {
   "cell_type": "code",
   "execution_count": 36,
   "id": "cef70907",
   "metadata": {},
   "outputs": [
    {
     "data": {
      "application/vnd.jupyter.widget-view+json": {
       "model_id": "11185c6454c34aacb1e028684dba6900",
       "version_major": 2,
       "version_minor": 0
      },
      "text/plain": [
       "  0%|          | 0/74 [00:00<?, ?it/s]"
      ]
     },
     "metadata": {},
     "output_type": "display_data"
    }
   ],
   "source": [
    "# define output folder\n",
    "output_folder = \"Handcrafted Dataset - One Hot/Others\"\n",
    "from tqdm.auto import tqdm\n",
    "progress_bar = tqdm(np.arange(69,len(fnames)))\n",
    "a = np.array([64,65,69])\n",
    "for i in np.arange(69,len(fnames)):\n",
    "    if i in a:\n",
    "        progress_bar.update(1)\n",
    "        continue\n",
    "    generateData(fnames[i],fnames_ful[i],output_folder,3000)\n",
    "    progress_bar.update(1)"
   ]
  },
  {
   "cell_type": "code",
   "execution_count": null,
   "id": "6e180c19",
   "metadata": {},
   "outputs": [],
   "source": []
  },
  {
   "cell_type": "markdown",
   "id": "98f3b608",
   "metadata": {},
   "source": [
    "# Handel_Harpsichord"
   ]
  },
  {
   "cell_type": "code",
   "execution_count": 37,
   "id": "8641a50c",
   "metadata": {},
   "outputs": [
    {
     "data": {
      "text/plain": [
       "['airnvari.mid',\n",
       " 'fantas10.mid',\n",
       " 'fantasi.mid',\n",
       " 'fantasi3.mid',\n",
       " 'fantasi4.mid',\n",
       " 'fantasi5.mid',\n",
       " 'fantasi6.mid',\n",
       " 'fantasi7.mid',\n",
       " 'fantasi8.mid',\n",
       " 'fantasi9.mid']"
      ]
     },
     "execution_count": 37,
     "metadata": {},
     "output_type": "execute_result"
    }
   ],
   "source": [
    "fnames = os.listdir(\"Piano_Collections/Handel_Harpsichord\")\n",
    "fnames[:10]"
   ]
  },
  {
   "cell_type": "code",
   "execution_count": 38,
   "id": "1e7bd106",
   "metadata": {},
   "outputs": [
    {
     "data": {
      "text/plain": [
       "['Piano_Collections\\\\Handel_Harpsichord\\\\airnvari.mid',\n",
       " 'Piano_Collections\\\\Handel_Harpsichord\\\\fantas10.mid',\n",
       " 'Piano_Collections\\\\Handel_Harpsichord\\\\fantasi.mid',\n",
       " 'Piano_Collections\\\\Handel_Harpsichord\\\\fantasi3.mid',\n",
       " 'Piano_Collections\\\\Handel_Harpsichord\\\\fantasi4.mid',\n",
       " 'Piano_Collections\\\\Handel_Harpsichord\\\\fantasi5.mid',\n",
       " 'Piano_Collections\\\\Handel_Harpsichord\\\\fantasi6.mid',\n",
       " 'Piano_Collections\\\\Handel_Harpsichord\\\\fantasi7.mid',\n",
       " 'Piano_Collections\\\\Handel_Harpsichord\\\\fantasi8.mid',\n",
       " 'Piano_Collections\\\\Handel_Harpsichord\\\\fantasi9.mid']"
      ]
     },
     "execution_count": 38,
     "metadata": {},
     "output_type": "execute_result"
    }
   ],
   "source": [
    "# get file pathes\n",
    "folder = \"Piano_Collections\"\n",
    "subfolder = \"Handel_Harpsichord\"\n",
    "fnames_ful = map(lambda fname:os.path.join(folder,subfolder,fname),fnames)\n",
    "fnames_ful = list(fnames_ful)\n",
    "fnames_ful[:10]"
   ]
  },
  {
   "cell_type": "code",
   "execution_count": 39,
   "id": "a5f67f2e",
   "metadata": {},
   "outputs": [
    {
     "data": {
      "application/vnd.jupyter.widget-view+json": {
       "model_id": "560f0364557b40f282259aa026d28003",
       "version_major": 2,
       "version_minor": 0
      },
      "text/plain": [
       "  0%|          | 0/60 [00:00<?, ?it/s]"
      ]
     },
     "metadata": {},
     "output_type": "display_data"
    }
   ],
   "source": [
    "# define output folder\n",
    "output_folder = \"Handcrafted Dataset - One Hot/Handel_Harpsichord\"\n",
    "from tqdm.auto import tqdm\n",
    "progress_bar = tqdm(np.arange(0,len(fnames)))\n",
    "a = np.array([])\n",
    "for i in np.arange(0,len(fnames)):\n",
    "    if i in a:\n",
    "        continue\n",
    "        progress_bar.update(1)\n",
    "    generateData(fnames[i],fnames_ful[i],output_folder,3000)\n",
    "    progress_bar.update(1)"
   ]
  },
  {
   "cell_type": "code",
   "execution_count": null,
   "id": "3bd051dd",
   "metadata": {},
   "outputs": [],
   "source": []
  },
  {
   "cell_type": "code",
   "execution_count": null,
   "id": "38356513",
   "metadata": {},
   "outputs": [],
   "source": []
  },
  {
   "cell_type": "code",
   "execution_count": null,
   "id": "fbd6d159",
   "metadata": {},
   "outputs": [],
   "source": []
  },
  {
   "cell_type": "code",
   "execution_count": null,
   "id": "e1c56b7c",
   "metadata": {},
   "outputs": [],
   "source": []
  },
  {
   "cell_type": "code",
   "execution_count": null,
   "id": "ff700836",
   "metadata": {},
   "outputs": [],
   "source": []
  },
  {
   "cell_type": "code",
   "execution_count": null,
   "id": "f2635a93",
   "metadata": {},
   "outputs": [],
   "source": []
  },
  {
   "cell_type": "code",
   "execution_count": null,
   "id": "70e67413",
   "metadata": {},
   "outputs": [],
   "source": []
  },
  {
   "cell_type": "code",
   "execution_count": null,
   "id": "12b30cbe",
   "metadata": {},
   "outputs": [],
   "source": []
  },
  {
   "cell_type": "code",
   "execution_count": null,
   "id": "6da50909",
   "metadata": {},
   "outputs": [],
   "source": []
  },
  {
   "cell_type": "code",
   "execution_count": null,
   "id": "32c5df80",
   "metadata": {},
   "outputs": [],
   "source": []
  },
  {
   "cell_type": "code",
   "execution_count": null,
   "id": "6fda1473",
   "metadata": {},
   "outputs": [],
   "source": []
  },
  {
   "cell_type": "code",
   "execution_count": null,
   "id": "00e4b867",
   "metadata": {},
   "outputs": [],
   "source": []
  }
 ],
 "metadata": {
  "kernelspec": {
   "display_name": "Python 3 (ipykernel)",
   "language": "python",
   "name": "python3"
  },
  "language_info": {
   "codemirror_mode": {
    "name": "ipython",
    "version": 3
   },
   "file_extension": ".py",
   "mimetype": "text/x-python",
   "name": "python",
   "nbconvert_exporter": "python",
   "pygments_lexer": "ipython3",
   "version": "3.9.12"
  }
 },
 "nbformat": 4,
 "nbformat_minor": 5
}
