{
 "cells": [
  {
   "cell_type": "code",
   "execution_count": 1,
   "id": "9fe3214f",
   "metadata": {},
   "outputs": [],
   "source": [
    "from miditok import REMI, get_midi_programs\n",
    "from miditoolkit import MidiFile\n",
    "from pathlib import Path\n",
    "import numpy as np"
   ]
  },
  {
   "cell_type": "code",
   "execution_count": null,
   "id": "af6e794e",
   "metadata": {},
   "outputs": [],
   "source": []
  },
  {
   "cell_type": "markdown",
   "id": "afb71138",
   "metadata": {},
   "source": [
    "# find usually how many events between two bars"
   ]
  },
  {
   "cell_type": "code",
   "execution_count": 2,
   "id": "a677c7fc",
   "metadata": {},
   "outputs": [],
   "source": [
    "def find_events_between_bar(events):\n",
    "    count_list = []\n",
    "    position = 0\n",
    "    count = 0\n",
    "    num_events = 0\n",
    "    for i in np.arange(len(events)):\n",
    "        if events[position] == 1:\n",
    "            if count <= 1:\n",
    "                position += 1\n",
    "                continue\n",
    "            else:\n",
    "                count_list.append(count)\n",
    "                count = 0\n",
    "                position += 1\n",
    "                num_events += 1\n",
    "                continue\n",
    "        position += 1\n",
    "        count += 1\n",
    "    return count_list, num_events\n",
    "                \n",
    "        "
   ]
  },
  {
   "cell_type": "markdown",
   "id": "82cc2f76",
   "metadata": {},
   "source": [
    "## Pop music"
   ]
  },
  {
   "cell_type": "code",
   "execution_count": 81,
   "id": "93a92796",
   "metadata": {},
   "outputs": [],
   "source": [
    "count_list,num_events = find_events_between_bar(val1[20])"
   ]
  },
  {
   "cell_type": "code",
   "execution_count": 82,
   "id": "1c56181e",
   "metadata": {},
   "outputs": [
    {
     "data": {
      "text/plain": [
       "<seaborn.axisgrid.FacetGrid at 0x1fdbccdcfa0>"
      ]
     },
     "execution_count": 82,
     "metadata": {},
     "output_type": "execute_result"
    },
    {
     "data": {
      "image/png": "[encoded data removed]",
      "text/plain": [
       "<Figure size 360x360 with 1 Axes>"
      ]
     },
     "metadata": {
      "needs_background": "light"
     },
     "output_type": "display_data"
    }
   ],
   "source": [
    "import seaborn as sns\n",
    "sns.displot(count_list)"
   ]
  },
  {
   "cell_type": "code",
   "execution_count": 83,
   "id": "33dbdc5b",
   "metadata": {},
   "outputs": [
    {
     "name": "stdout",
     "output_type": "stream",
     "text": [
      "Num of events:  77\n"
     ]
    }
   ],
   "source": [
    "print(\"Num of events: \", num_events)"
   ]
  },
  {
   "cell_type": "code",
   "execution_count": 84,
   "id": "5e6c29d0",
   "metadata": {},
   "outputs": [
    {
     "name": "stdout",
     "output_type": "stream",
     "text": [
      "Length:  5832\n"
     ]
    }
   ],
   "source": [
    "print(\"Length: \", len(val1[20]))"
   ]
  },
  {
   "cell_type": "markdown",
   "id": "bb46620e",
   "metadata": {},
   "source": [
    "I already converted all the events for each song into a json file. Now I extract them and create a npy for each of them with variable number of rows and fixed number of columns (representing a sequence)"
   ]
  },
  {
   "cell_type": "markdown",
   "id": "ae04c5cd",
   "metadata": {},
   "source": [
    "# read JSON files and extract the events for the dataset"
   ]
  },
  {
   "cell_type": "code",
   "execution_count": 2,
   "id": "31f0014a",
   "metadata": {},
   "outputs": [],
   "source": [
    "import json\n",
    "import os\n",
    "from tqdm.auto import tqdm\n",
    "\n",
    "def extract_events_folder(subfolder):\n",
    "    folder = \"Pop-music-REMI/\" + subfolder\n",
    "    filenames = os.listdir(folder)\n",
    "    fullnames = list(map(lambda name: os.path.join(folder,name), filenames))\n",
    "\n",
    "    progress = tqdm(range(len(fullnames)))\n",
    "    tokens = []\n",
    "    \n",
    "    for name in fullnames:\n",
    "        if name == folder + \"\\config.txt\":\n",
    "            progress.update(1)\n",
    "            continue\n",
    "        else:\n",
    "            f = open(name)\n",
    "            #print(name)\n",
    "            a = json.load(f)\n",
    "            #print(a)\n",
    "            events = a[0][0]\n",
    "            tokens.append(events)\n",
    "            progress.update(1)\n",
    "    print(\"converted files: \", len(tokens))\n",
    "    return tokens\n",
    "\n"
   ]
  },
  {
   "cell_type": "markdown",
   "id": "6abcc805",
   "metadata": {},
   "source": [
    "# convert tokens to subset of tokens with length 2000 with gap 50"
   ]
  },
  {
   "cell_type": "markdown",
   "id": "1556ad19",
   "metadata": {},
   "source": [
    "To make sure that everything in between are events, will search for the first bar event from the beginning, then pad everything before with 0, for sequence between the music, search for the bar event from the end backward, and pad everything from that event until the end with 0, for ending the sequence, don't do that"
   ]
  },
  {
   "cell_type": "code",
   "execution_count": 4,
   "id": "635401d8",
   "metadata": {},
   "outputs": [],
   "source": [
    "def find_bars(events,finish):\n",
    "    seq_len = len(events)\n",
    "    # find the next bar from beginning, and pad everything before\n",
    "    position = 0\n",
    "    for i in np.arange(seq_len):\n",
    "        if events[position] == 1:\n",
    "            break\n",
    "        else:\n",
    "            events[position] = 0\n",
    "            position += 1\n",
    "    #print(\"next bar event position: \", position)\n",
    "    \n",
    "    # if this is the sequence represent an end of a song, return events\n",
    "    if finish:\n",
    "        return events\n",
    "    \n",
    "    # find the previous bar event from the end, and pad everyting after\n",
    "    position = seq_len -1\n",
    "    for i in np.arange(position,0,-1):\n",
    "        if events[position] == 1:\n",
    "            events[position] = 0\n",
    "            #print(\"previous bar event position: \", position)\n",
    "            return events\n",
    "        else:\n",
    "            events[position] = 0\n",
    "            position -= 1\n",
    "    \n"
   ]
  },
  {
   "cell_type": "code",
   "execution_count": 6,
   "id": "0b3e94ab",
   "metadata": {},
   "outputs": [],
   "source": [
    "def find_last_bar(position,events):\n",
    "    while events[position] != 1:\n",
    "        position -= 1\n",
    "    return position"
   ]
  },
  {
   "cell_type": "code",
   "execution_count": 9,
   "id": "7406c66e",
   "metadata": {},
   "outputs": [
    {
     "data": {
      "text/plain": [
       "19"
      ]
     },
     "execution_count": 9,
     "metadata": {},
     "output_type": "execute_result"
    }
   ],
   "source": [
    "a = [1,2,2,2,2,2,2,2,2,1,2,2,2,2,2,2,2,2,2,1,2,2,2]\n",
    "b = find_last_bar(19,a)\n",
    "b"
   ]
  },
  {
   "cell_type": "code",
   "execution_count": 3,
   "id": "fc29d39e",
   "metadata": {},
   "outputs": [],
   "source": [
    "def convert(events,index,seq_len=2000,segment_every=50):\n",
    "    # if the sequence length is less than 2000, pad the sequence until 2000 and return it\n",
    "    if len(events) <= seq_len:\n",
    "        #print(len(events))\n",
    "        events = np.pad(events,(0,seq_len - len(events)))\n",
    "        #print(len(events))\n",
    "        return [1]\n",
    "    \n",
    "    output_tokens = []\n",
    "    \n",
    "    # if I have events of length 5 and seq_len of 3\n",
    "    #  the final position is 2 and the final sequence is in position 2, 3, 4\n",
    "    final_position = len(events) - seq_len # this is the start point of the last sample\n",
    "    \n",
    "    i=0\n",
    "    \n",
    "    while i <= final_position:\n",
    "        # if current sequence is not the end of the song\n",
    "        tokens = events[i:i+seq_len] \n",
    "        assert len(tokens) == seq_len\n",
    "        \n",
    "        # pad the beginning and the end so that the whole sequence represent whole events\n",
    "        #tokens = find_bars(tokens,False)\n",
    "        #assert len(tokens) == seq_len\n",
    "        \n",
    "        output_tokens.append(tokens)\n",
    "        \n",
    "        i += segment_every # move seq_len away, so starting a new sequence but from a bar event\n",
    "        \n",
    "        \n",
    "        \n",
    "        \n",
    "        # if the next sequence reaches the end of the music\n",
    "        if i >= final_position:\n",
    "            tokens = events[final_position:final_position+seq_len]\n",
    "            \n",
    "            assert len(tokens) == seq_len\n",
    "            \n",
    "            # pad the tokens\n",
    "            #tokens = find_bars(tokens,True)\n",
    "            #assert len(tokens) == seq_len\n",
    "            \n",
    "            output_tokens.append(tokens)\n",
    "        \n",
    "            break\n",
    "    \n",
    "    output_tokens = np.array(output_tokens)\n",
    "    #print(output_tokens.shape)\n",
    "    #np.save(output_path+str(index)+\".npy\",output_tokens)\n",
    "    return output_tokens\n",
    "    \n",
    "    \n",
    "    \n",
    "    "
   ]
  },
  {
   "cell_type": "code",
   "execution_count": 29,
   "id": "4fcd674b",
   "metadata": {},
   "outputs": [
    {
     "name": "stdout",
     "output_type": "stream",
     "text": [
      "[1 2 3 0 0 0 0 0 0 0]\n",
      "10\n"
     ]
    }
   ],
   "source": [
    "a = np.zeros(10)\n",
    "b = np.array([1,2,3])\n",
    "c = np.pad(b,(0,10-len(b)))\n",
    "print(c)\n",
    "print(len(c))"
   ]
  },
  {
   "cell_type": "code",
   "execution_count": null,
   "id": "4e117f7a",
   "metadata": {},
   "outputs": [],
   "source": []
  },
  {
   "cell_type": "markdown",
   "id": "101e4e34",
   "metadata": {},
   "source": [
    "# convert a folder"
   ]
  },
  {
   "cell_type": "code",
   "execution_count": 4,
   "id": "bd441ec1",
   "metadata": {},
   "outputs": [],
   "source": [
    "def convert_folder(subfolder,output_path,seq_len=2000,segment_every=50):\n",
    "    event_list = extract_events_folder(subfolder)\n",
    "    num_items = len(event_list)\n",
    "    progress = tqdm(range(num_items))\n",
    "    converted_events = convert(event_list[0], 0, seq_len, segment_every)\n",
    "    progress.update(1)\n",
    "    assert converted_events.shape[1] == seq_len\n",
    "    \n",
    "    for i in np.arange(1,num_items):\n",
    "        new_events = convert(event_list[i],i,seq_len,segment_every)\n",
    "        if len(new_events) == 1:\n",
    "            progress.update(1)\n",
    "            continue\n",
    "        assert new_events.shape[1] == seq_len\n",
    "        \n",
    "        # concatenate new_events into converted_events list\n",
    "        converted_events = np.concatenate((converted_events,new_events),axis=0)\n",
    "        \n",
    "        progress.update(1)\n",
    "    \n",
    "    print(\"final shape: \", converted_events.shape)\n",
    "    np.save(output_path+subfolder+\"800_every_100.npy\", converted_events)"
   ]
  },
  {
   "cell_type": "markdown",
   "id": "288dad82",
   "metadata": {},
   "source": [
    "## training data"
   ]
  },
  {
   "cell_type": "code",
   "execution_count": 14,
   "id": "88a5bec0",
   "metadata": {},
   "outputs": [
    {
     "data": {
      "application/vnd.jupyter.widget-view+json": {
       "model_id": "4d304eb810934d13b9eabf5f4fb75c93",
       "version_major": 2,
       "version_minor": 0
      },
      "text/plain": [
       "  0%|          | 0/718 [00:00<?, ?it/s]"
      ]
     },
     "metadata": {},
     "output_type": "display_data"
    },
    {
     "name": "stdout",
     "output_type": "stream",
     "text": [
      "converted files:  718\n"
     ]
    },
    {
     "data": {
      "application/vnd.jupyter.widget-view+json": {
       "model_id": "c1442455bc6a4671b784827fb9c76acb",
       "version_major": 2,
       "version_minor": 0
      },
      "text/plain": [
       "  0%|          | 0/718 [00:00<?, ?it/s]"
      ]
     },
     "metadata": {},
     "output_type": "display_data"
    },
    {
     "name": "stdout",
     "output_type": "stream",
     "text": [
      "final shape:  (33011, 800)\n"
     ]
    }
   ],
   "source": [
    "convert_folder(\"train\",\"Customized Dataset - Pop/Train/\",seq_len=800,segment_every=100)"
   ]
  },
  {
   "cell_type": "code",
   "execution_count": 16,
   "id": "bed53b9f",
   "metadata": {
    "scrolled": true
   },
   "outputs": [
    {
     "data": {
      "application/vnd.jupyter.widget-view+json": {
       "model_id": "a0d0a0f22a0745e5a67a1d3e37f4b7d8",
       "version_major": 2,
       "version_minor": 0
      },
      "text/plain": [
       "  0%|          | 0/1604 [00:00<?, ?it/s]"
      ]
     },
     "metadata": {},
     "output_type": "display_data"
    },
    {
     "name": "stdout",
     "output_type": "stream",
     "text": [
      "converted files:  1604\n"
     ]
    },
    {
     "data": {
      "application/vnd.jupyter.widget-view+json": {
       "model_id": "be08bd223dec459fbc5cbd0c8cdaf726",
       "version_major": 2,
       "version_minor": 0
      },
      "text/plain": [
       "  0%|          | 0/1604 [00:00<?, ?it/s]"
      ]
     },
     "metadata": {},
     "output_type": "display_data"
    },
    {
     "name": "stdout",
     "output_type": "stream",
     "text": [
      "final shape:  (65493, 800)\n"
     ]
    }
   ],
   "source": [
    "convert_folder(\"train2\",\"Customized Dataset - Pop/Train/\",seq_len=800,segment_every=100)"
   ]
  },
  {
   "cell_type": "code",
   "execution_count": 17,
   "id": "3eefaf36",
   "metadata": {},
   "outputs": [
    {
     "name": "stdout",
     "output_type": "stream",
     "text": [
      "training sample size:  (98504, 800)\n"
     ]
    }
   ],
   "source": [
    "# concatenate the two training dataset\n",
    "array1 = np.load(\"Customized Dataset - Pop/Train/train_800_every_100.npy\")\n",
    "array2 = np.load(\"Customized Dataset - Pop/Train/train2_800_every_100.npy\")\n",
    "array3 = np.concatenate((array1,array2),axis=0)\n",
    "print(\"training sample size: \", array3.shape)\n",
    "np.save(\"Customized Dataset - Pop/Train/customized_training_800_every_100.npy\",array3)"
   ]
  },
  {
   "cell_type": "code",
   "execution_count": null,
   "id": "3718fdc6",
   "metadata": {},
   "outputs": [],
   "source": []
  },
  {
   "cell_type": "code",
   "execution_count": null,
   "id": "86713b2c",
   "metadata": {},
   "outputs": [],
   "source": []
  },
  {
   "cell_type": "markdown",
   "id": "8f481669",
   "metadata": {},
   "source": [
    "## validation data"
   ]
  },
  {
   "cell_type": "code",
   "execution_count": 18,
   "id": "4f994ed5",
   "metadata": {},
   "outputs": [
    {
     "data": {
      "application/vnd.jupyter.widget-view+json": {
       "model_id": "efa8d9c74b774985b2275d5d805610d8",
       "version_major": 2,
       "version_minor": 0
      },
      "text/plain": [
       "  0%|          | 0/57 [00:00<?, ?it/s]"
      ]
     },
     "metadata": {},
     "output_type": "display_data"
    },
    {
     "name": "stdout",
     "output_type": "stream",
     "text": [
      "converted files:  57\n"
     ]
    },
    {
     "data": {
      "application/vnd.jupyter.widget-view+json": {
       "model_id": "d4fa8cbbb0944286898670dddcd5e82d",
       "version_major": 2,
       "version_minor": 0
      },
      "text/plain": [
       "  0%|          | 0/57 [00:00<?, ?it/s]"
      ]
     },
     "metadata": {},
     "output_type": "display_data"
    },
    {
     "name": "stdout",
     "output_type": "stream",
     "text": [
      "final shape:  (2768, 800)\n"
     ]
    }
   ],
   "source": [
    "convert_folder(\"val\",\"Customized Dataset - Pop/Val/\",seq_len=800,segment_every=100)"
   ]
  },
  {
   "cell_type": "code",
   "execution_count": 19,
   "id": "85c8b12f",
   "metadata": {},
   "outputs": [
    {
     "data": {
      "application/vnd.jupyter.widget-view+json": {
       "model_id": "a3a17fc7c577482f8c531b64a095b0ee",
       "version_major": 2,
       "version_minor": 0
      },
      "text/plain": [
       "  0%|          | 0/144 [00:00<?, ?it/s]"
      ]
     },
     "metadata": {},
     "output_type": "display_data"
    },
    {
     "name": "stdout",
     "output_type": "stream",
     "text": [
      "converted files:  144\n"
     ]
    },
    {
     "data": {
      "application/vnd.jupyter.widget-view+json": {
       "model_id": "03bd9b8c9a3940beafc2fa2c1147015e",
       "version_major": 2,
       "version_minor": 0
      },
      "text/plain": [
       "  0%|          | 0/144 [00:00<?, ?it/s]"
      ]
     },
     "metadata": {},
     "output_type": "display_data"
    },
    {
     "name": "stdout",
     "output_type": "stream",
     "text": [
      "final shape:  (6458, 800)\n"
     ]
    }
   ],
   "source": [
    "convert_folder(\"val2\",\"Customized Dataset - Pop/Val/\",seq_len=800,segment_every=100)"
   ]
  },
  {
   "cell_type": "code",
   "execution_count": 20,
   "id": "d426eef6",
   "metadata": {},
   "outputs": [
    {
     "name": "stdout",
     "output_type": "stream",
     "text": [
      "validation sample size:  (9226, 800)\n"
     ]
    }
   ],
   "source": [
    "# concatenate the two validation dataset\n",
    "array1 = np.load(\"Customized Dataset - Pop/Val/val800_every_100.npy\")\n",
    "array2 = np.load(\"Customized Dataset - Pop/Val/val2800_every_100.npy\")\n",
    "array3 = np.concatenate((array1,array2),axis=0)\n",
    "print(\"validation sample size: \", array3.shape)\n",
    "np.save(\"Customized Dataset - Pop/Val/customized_val_800_every_100.npy\",array3)"
   ]
  },
  {
   "cell_type": "code",
   "execution_count": null,
   "id": "ea780603",
   "metadata": {},
   "outputs": [],
   "source": []
  },
  {
   "cell_type": "code",
   "execution_count": null,
   "id": "1adf820a",
   "metadata": {},
   "outputs": [],
   "source": []
  },
  {
   "cell_type": "markdown",
   "id": "8e878483",
   "metadata": {},
   "source": [
    "# length 600 without padding\n"
   ]
  },
  {
   "cell_type": "code",
   "execution_count": null,
   "id": "d821936e",
   "metadata": {},
   "outputs": [],
   "source": []
  },
  {
   "cell_type": "code",
   "execution_count": null,
   "id": "5d042953",
   "metadata": {},
   "outputs": [],
   "source": []
  },
  {
   "cell_type": "code",
   "execution_count": null,
   "id": "0cb3d2c4",
   "metadata": {},
   "outputs": [],
   "source": []
  },
  {
   "cell_type": "code",
   "execution_count": null,
   "id": "f89c2ce7",
   "metadata": {},
   "outputs": [],
   "source": []
  },
  {
   "cell_type": "code",
   "execution_count": null,
   "id": "a7477510",
   "metadata": {},
   "outputs": [],
   "source": []
  },
  {
   "cell_type": "code",
   "execution_count": null,
   "id": "2798cd13",
   "metadata": {},
   "outputs": [],
   "source": []
  },
  {
   "cell_type": "code",
   "execution_count": null,
   "id": "d4fe75d0",
   "metadata": {},
   "outputs": [],
   "source": []
  }
 ],
 "metadata": {
  "kernelspec": {
   "display_name": "Python 3 (ipykernel)",
   "language": "python",
   "name": "python3"
  },
  "language_info": {
   "codemirror_mode": {
    "name": "ipython",
    "version": 3
   },
   "file_extension": ".py",
   "mimetype": "text/x-python",
   "name": "python",
   "nbconvert_exporter": "python",
   "pygments_lexer": "ipython3",
   "version": "3.9.12"
  }
 },
 "nbformat": 4,
 "nbformat_minor": 5
}
