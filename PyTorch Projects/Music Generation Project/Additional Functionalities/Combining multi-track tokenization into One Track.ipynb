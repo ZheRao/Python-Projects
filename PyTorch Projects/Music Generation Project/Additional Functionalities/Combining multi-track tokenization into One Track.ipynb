{
 "cells": [
  {
   "cell_type": "code",
   "execution_count": 1,
   "id": "9a18524c",
   "metadata": {},
   "outputs": [],
   "source": [
    "from miditok import REMI, get_midi_programs\n",
    "from miditoolkit import MidiFile"
   ]
  },
  {
   "cell_type": "code",
   "execution_count": 2,
   "id": "28ee7174",
   "metadata": {},
   "outputs": [],
   "source": [
    "pitch_range = range(21, 109)\n",
    "beat_res = {(0, 4): 8, (4, 12): 4}\n",
    "nb_velocities = 32"
   ]
  },
  {
   "cell_type": "code",
   "execution_count": 25,
   "id": "7dae1b27",
   "metadata": {},
   "outputs": [],
   "source": [
    "tokenizer = REMI()\n",
    "midi = MidiFile(\"Piano_collections_all/Train\\\\appass_3.mid\")"
   ]
  },
  {
   "cell_type": "code",
   "execution_count": 26,
   "id": "e5463437",
   "metadata": {},
   "outputs": [],
   "source": [
    "tokens = tokenizer.midi_to_tokens(midi)"
   ]
  },
  {
   "cell_type": "code",
   "execution_count": 5,
   "id": "5896b9a4",
   "metadata": {},
   "outputs": [
    {
     "data": {
      "text/plain": [
       "218"
      ]
     },
     "execution_count": 5,
     "metadata": {},
     "output_type": "execute_result"
    }
   ],
   "source": [
    "len(tokenizer.vocab)"
   ]
  },
  {
   "cell_type": "code",
   "execution_count": 27,
   "id": "c390efdd",
   "metadata": {},
   "outputs": [
    {
     "name": "stdout",
     "output_type": "stream",
     "text": [
      "2\n",
      "14448\n"
     ]
    }
   ],
   "source": [
    "print(len(tokens))\n",
    "print(len(tokens[0]))\n",
    "#print(len(tokens[1]))\n"
   ]
  },
  {
   "cell_type": "code",
   "execution_count": 33,
   "id": "c42afe62",
   "metadata": {},
   "outputs": [
    {
     "data": {
      "text/plain": [
       "[145, 44, 110, 145, 49, 110, 145, 52, 114, 145]"
      ]
     },
     "execution_count": 33,
     "metadata": {},
     "output_type": "execute_result"
    }
   ],
   "source": [
    "tokens[1][-10:]"
   ]
  },
  {
   "cell_type": "code",
   "execution_count": 34,
   "id": "2e0d6fbe",
   "metadata": {},
   "outputs": [],
   "source": [
    "a = [1,2,3,4,5,86,6,1,5,6,7,8]"
   ]
  },
  {
   "cell_type": "code",
   "execution_count": null,
   "id": "7df905bb",
   "metadata": {},
   "outputs": [],
   "source": []
  },
  {
   "cell_type": "code",
   "execution_count": 8,
   "id": "ccde9bf3",
   "metadata": {},
   "outputs": [],
   "source": [
    "# extract events from current event until next \"position\" event\n",
    "def extract_position(position,array):\n",
    "    extracted_array = [array[position]]\n",
    "    position += 1\n",
    "    done = False\n",
    "    while array[position] < 186 and array[position] != 1: # when not position event\n",
    "        extracted_array.append(array[position])\n",
    "        position += 1\n",
    "        if position == len(array):\n",
    "            done = True\n",
    "            break\n",
    "    return position, extracted_array, done"
   ]
  },
  {
   "cell_type": "code",
   "execution_count": 9,
   "id": "7fb2e3b4",
   "metadata": {},
   "outputs": [],
   "source": [
    "# tract events from current event until next \"bar\" event\n",
    "def extract_bar(position,array):\n",
    "    extracted_array = [array[position]]\n",
    "    position += 1\n",
    "    done = False\n",
    "    while array[position] != 1: # when not position event\n",
    "        extracted_array.append(array[position])\n",
    "        position += 1\n",
    "        if position == len(array):\n",
    "            done = True\n",
    "            break\n",
    "    return position, extracted_array, done # current position pointing at bar event"
   ]
  },
  {
   "cell_type": "code",
   "execution_count": 11,
   "id": "cd0692d0",
   "metadata": {},
   "outputs": [],
   "source": [
    "# 0 - padding\n",
    "# 1 - bar\n",
    "# 2 - 89 - pitch\n",
    "# 90 - 121 - velocity\n",
    "# 122 - 185 - duration\n",
    "# 187 - 217 - position\n",
    "\n",
    "\n",
    "def combine_encoding(left,right):\n",
    "    position1 = 1 # left\n",
    "    position2 = 1 # right\n",
    "    combined_events= [1]\n",
    "    left_finish_first = False\n",
    "    \n",
    "    while True:\n",
    "        # if left event is bar\n",
    "        if left[position1] == 1:\n",
    "            # if right event is not bar\n",
    "            if right[position2] != 1:\n",
    "                # right hand much reach next bar to syncronise the track\n",
    "                # extract everything of right events until next bar\n",
    "                position2, temparray,done = extract_bar(position2,right)\n",
    "                \n",
    "                # append temparray to combined_events\n",
    "                combined_events.extend(temparray)\n",
    "                \n",
    "                # if right hand reached the end of its track\n",
    "                if done:\n",
    "                    left_finish_first = False\n",
    "                    break\n",
    "                \n",
    "            # we have two bar events, append bar event into \n",
    "            #  combined_events, and move position by 1\n",
    "            combined_events.append(1)\n",
    "            position1 += 1\n",
    "            position2 += 1\n",
    "            continue\n",
    "            \n",
    "        # if right event is bar\n",
    "        if right[position2] == 1:\n",
    "            # if left event is not bar\n",
    "            if left[position1] != 1:\n",
    "                # left hand must reach next bar to syncronise the track\n",
    "                # extract everything of left events until next bar\n",
    "                position1, temparray,done = extract_bar(position1,left)\n",
    "                \n",
    "                # append temparray to combined_events\n",
    "                combined_events.extend(temparray)\n",
    "                \n",
    "                # if left hand reached the end of its track\n",
    "                if done:\n",
    "                    left_finish_first = True\n",
    "                    break\n",
    "                \n",
    "            # we have two bar events, append bar event into \n",
    "            #  combined_events, and move position by 1\n",
    "            combined_events.append(1)\n",
    "            position1 += 1\n",
    "            position2 += 1\n",
    "            continue\n",
    "        \n",
    "        left_position_event = left[position1]\n",
    "        right_position_event = right[position2]\n",
    "        \n",
    "        # if left position event is smaller than right position event\n",
    "        #   move left position until the next position event or bar event\n",
    "        if left_position_event < right_position_event:\n",
    "            position1, temparray,done = extract_position(position1,left)\n",
    "            combined_events.extend(temparray)\n",
    "            # if left hand reached the end of its track\n",
    "            if done:\n",
    "                left_finish_first = True\n",
    "                break\n",
    "        elif left_position_event > right_position_event:\n",
    "            # move right events until next position event or bar event\n",
    "            position2, temparray,done = extract_position(position2,right)\n",
    "            combined_events.extend(temparray)\n",
    "            # if right hand reached the end of its track\n",
    "            if done:\n",
    "                left_finish_first = False\n",
    "                break\n",
    "        else:\n",
    "            # if two event position are the same\n",
    "            #  move both events and append them all\n",
    "            position1, temparray,done1 = extract_position(position1,left)\n",
    "            position2, temparray2, done2 = extract_position(position2,right)\n",
    "            temparray.extend(temparray2[1:])\n",
    "            combined_events.extend(temparray)\n",
    "            \n",
    "            if done1:\n",
    "                left_finish_first = True\n",
    "                break\n",
    "            if done2:\n",
    "                left_finish_first = False\n",
    "                break\n",
    "    \n",
    "    # combining the remining track of unfinished track\n",
    "    if left_finish_first:\n",
    "        # trackdown remaining right hand track\n",
    "        combined_events.extend(right[position2:])\n",
    "    else:\n",
    "        combined_events.extend(left[position1:])\n",
    "    \n",
    "    return combined_events\n",
    "        \n",
    "        \n",
    "\n",
    "    \n",
    "    "
   ]
  },
  {
   "cell_type": "code",
   "execution_count": 56,
   "id": "f6d971c1",
   "metadata": {},
   "outputs": [],
   "source": [
    "a = [1,186,2,2,187,3,3,1,190,3,3]\n",
    "b = [1,186,5,5,1,189,6,6]\n"
   ]
  },
  {
   "cell_type": "code",
   "execution_count": 47,
   "id": "a971330b",
   "metadata": {},
   "outputs": [
    {
     "data": {
      "text/plain": [
       "['Classical Music/Train\\\\01pasali.mid',\n",
       " 'Classical Music/Train\\\\01promes.mid',\n",
       " 'Classical Music/Train\\\\02holnit.mid',\n",
       " 'Classical Music/Train\\\\02regven.mid',\n",
       " 'Classical Music/Train\\\\03manger.mid',\n",
       " 'Classical Music/Train\\\\04adeste.mid',\n",
       " 'Classical Music/Train\\\\04gita.mid',\n",
       " 'Classical Music/Train\\\\05littre.mid',\n",
       " 'Classical Music/Train\\\\06chimes.mid',\n",
       " 'Classical Music/Train\\\\06dealpi.mid']"
      ]
     },
     "execution_count": 47,
     "metadata": {},
     "output_type": "execute_result"
    }
   ],
   "source": [
    "# get fullnames of training directory for classical music\n",
    "import os\n",
    "names = os.listdir(\"Pop-music\")\n",
    "names[:10]\n",
    "# input paths\n",
    "fnames = map(lambda name:os.path.join(\"Classical Music/Train\",name),names)\n",
    "fnames = list(fnames)\n",
    "fnames[:10]"
   ]
  },
  {
   "cell_type": "code",
   "execution_count": 17,
   "id": "895e458d",
   "metadata": {},
   "outputs": [
    {
     "data": {
      "text/plain": [
       "'01pasali.mid'"
      ]
     },
     "execution_count": 17,
     "metadata": {},
     "output_type": "execute_result"
    }
   ],
   "source": [
    "# extract only the name from path\n",
    "os.path.basename(os.path.normpath(fnames[0]))"
   ]
  },
  {
   "cell_type": "code",
   "execution_count": 18,
   "id": "bbdc34cf",
   "metadata": {},
   "outputs": [],
   "source": []
  },
  {
   "cell_type": "code",
   "execution_count": 39,
   "id": "09a35cb8",
   "metadata": {
    "scrolled": true
   },
   "outputs": [
    {
     "name": "stdout",
     "output_type": "stream",
     "text": [
      "Classical Music/Val\\03linvit.mid\n",
      "Classical Music/Val\\05rimpro.mid\n",
      "Classical Music/Val\\07parten.mid\n",
      "Classical Music/Val\\09evnbel.mid\n",
      "Classical Music/Val\\6_variat.mid\n",
      "Classical Music/Val\\abdul.mid\n",
      "Classical Music/Val\\aj_lis13.mid\n",
      "Classical Music/Val\\allegret.mid\n",
      "Classical Music/Val\\allegro_.mid\n",
      "Classical Music/Val\\alp-sea.mid\n",
      "Classical Music/Val\\baga05.mid\n",
      "Classical Music/Val\\ballade3.mid\n",
      "Classical Music/Val\\be-ps-04.mid\n",
      "Classical Music/Val\\be-pv13r.mid\n",
      "Classical Music/Val\\beet1mv2.mid\n",
      "Classical Music/Val\\beethoven_hammerklavier_3.mid\n",
      "Classical Music/Val\\beethoven_opus22_4.mid\n",
      "Classical Music/Val\\beet_3_2.mid\n",
      "Classical Music/Val\\benedict.mid\n",
      "Classical Music/Val\\chasse.mid\n",
      "Classical Music/Val\\chonoc11.mid\n",
      "Classical Music/Val\\chopin_e.mid\n",
      "Classical Music/Val\\chopol10.mid\n",
      "Classical Music/Val\\choval02.mid\n",
      "Classical Music/Val\\choval13.mid\n",
      "Classical Music/Val\\chpn-p22.mid\n",
      "Classical Music/Val\\chpn-p4.mid\n",
      "Classical Music/Val\\chpn_op27_1.mid\n",
      "Classical Music/Val\\chpn_op53.mid\n",
      "Classical Music/Val\\chpn_op7_1.mid\n",
      "Classical Music/Val\\ch_10-11.mid\n",
      "Classical Music/Val\\clem5034.mid\n",
      "Classical Music/Val\\clemdu1a.mid\n",
      "Classical Music/Val\\clmu25_2.mid\n",
      "Classical Music/Val\\cn299_04.mid\n",
      "Classical Music/Val\\cn299_10.mid\n",
      "Classical Music/Val\\cn299_24.mid\n",
      "Classical Music/Val\\cn299_36.mid\n",
      "Classical Music/Val\\cn337_02.mid\n",
      "Classical Music/Val\\cn740_05.mid\n",
      "Classical Music/Val\\cn740_11.mid\n",
      "Classical Music/Val\\cn740_19.mid\n",
      "Classical Music/Val\\d0576_05.mid\n",
      "Classical Music/Val\\debchi05.mid\n",
      "Classical Music/Val\\debmazka.mid\n",
      "Classical Music/Val\\debussy_cc_6.mid\n",
      "Classical Music/Val\\deb_prel.mid\n",
      "Classical Music/Val\\dgcdet08.mid\n",
      "Classical Music/Val\\dgcdimg4.mid\n",
      "Classical Music/Val\\diable.mid\n",
      "Classical Music/Val\\dm_lzg12.mid\n",
      "Classical Music/Val\\dolly1.mid\n",
      "Classical Music/Val\\en_r_ve.mid\n",
      "Classical Music/Val\\et11evng.mid\n",
      "Classical Music/Val\\etn10o25.mid\n",
      "Classical Music/Val\\fantasi5.mid\n",
      "Classical Music/Val\\fantasia.mid\n",
      "Classical Music/Val\\fishmadc.mid\n",
      "Classical Music/Val\\flhryno4.mid\n",
      "Classical Music/Val\\flllg2.mid\n",
      "Classical Music/Val\\fremmann.mid\n",
      "Classical Music/Val\\freuden.mid\n",
      "Classical Music/Val\\gfhair2.mid\n",
      "Classical Music/Val\\gfhmen1.mid\n",
      "Classical Music/Val\\gfhouv.mid\n",
      "Classical Music/Val\\gr-bal24.mid\n",
      "Classical Music/Val\\grieg_gj.mid\n",
      "Classical Music/Val\\han4262.mid\n",
      "Classical Music/Val\\han4281.mid\n",
      "Classical Music/Val\\hay-p20c.mid\n",
      "Classical Music/Val\\haydn.mid\n",
      "Classical Music/Val\\haydn_-8.mid\n",
      "Classical Music/Val\\hr_clg13.mid\n",
      "Classical Music/Val\\hr_clg67.mid\n",
      "Classical Music/Val\\humsept1.mid\n",
      "Classical Music/Val\\hungrecr.mid\n",
      "Classical Music/Val\\il_maes.mid\n",
      "Classical Music/Val\\jd_lhnr2.mid\n",
      "Classical Music/Val\\jgo102_3.mid\n",
      "Classical Music/Val\\jgop30_2.mid\n",
      "Classical Music/Val\\jgop38_6.mid\n",
      "Classical Music/Val\\jgop67_4.mid\n",
      "Classical Music/Val\\jgop85_2.mid\n",
      "Classical Music/Val\\kdrzn_04.mid\n",
      "Classical Music/Val\\kv1c.mid\n",
      "Classical Music/Val\\kv6_ii.mid\n",
      "Classical Music/Val\\learab2.mid\n",
      "Classical Music/Val\\legierza.mid\n",
      "Classical Music/Val\\lismeph3.mid\n",
      "Classical Music/Val\\lispaga5.mid\n",
      "Classical Music/Val\\lisztson.mid\n",
      "Classical Music/Val\\lis_con2.mid\n",
      "Classical Music/Val\\mazrka02.mid\n",
      "Classical Music/Val\\mazrka12.mid\n",
      "Classical Music/Val\\mazrka29.mid\n",
      "Classical Music/Val\\mazrka35.mid\n",
      "Classical Music/Val\\mazrka43.mid\n",
      "Classical Music/Val\\mcl373_1.mid\n",
      "Classical Music/Val\\mendel.mid\n",
      "Classical Music/Val\\mendels.mid\n",
      "Classical Music/Val\\mk_chim2.mid\n",
      "Classical Music/Val\\mops1m2.mid\n",
      "Classical Music/Val\\mozall.mid\n",
      "Classical Music/Val\\mz_330_1.mid\n",
      "Classical Music/Val\\nf_be103.mid\n",
      "Classical Music/Val\\onegin.mid\n",
      "Classical Music/Val\\othayd3.mid\n",
      "Classical Music/Val\\petsuit1.mid\n",
      "Classical Music/Val\\polon1c_.mid\n",
      "Classical Music/Val\\preludn5.mid\n",
      "Classical Music/Val\\pr_lu-10.mid\n",
      "Classical Music/Val\\ravmmlo1.mid\n",
      "Classical Music/Val\\rugr47_2.mid\n",
      "Classical Music/Val\\sch171_6.mid\n",
      "Classical Music/Val\\scherzo1.mid\n",
      "Classical Music/Val\\schm17_1.mid\n",
      "Classical Music/Val\\schnson1.mid\n",
      "Classical Music/Val\\scn16_7.mid\n",
      "Classical Music/Val\\scro6her.mid\n",
      "Classical Music/Val\\sc_ps_05.mid\n",
      "Classical Music/Val\\septuor4.mid\n",
      "Classical Music/Val\\sonat-1.mid\n",
      "Classical Music/Val\\sonat-16.mid\n",
      "Classical Music/Val\\sonat-2.mid\n",
      "Classical Music/Val\\sonat-29.mid\n",
      "Classical Music/Val\\sonat-3.mid\n",
      "Classical Music/Val\\sonat-36.mid\n",
      "Classical Music/Val\\sonat-4.mid\n",
      "Classical Music/Val\\sonat-5.mid\n",
      "Classical Music/Val\\sonat-50.mid\n",
      "Classical Music/Val\\sonat-6.mid\n",
      "Classical Music/Val\\sonat-8.mid\n",
      "Classical Music/Val\\sonata copy.mid\n",
      "Classical Music/Val\\sonata-11.mid\n",
      "Classical Music/Val\\sonata-6-2.mid\n",
      "Classical Music/Val\\sonata-8-3.mid\n",
      "Classical Music/Val\\sonata_3.mid\n",
      "Classical Music/Val\\sonata__6.mid\n",
      "Classical Music/Val\\sonat__13.mid\n",
      "Classical Music/Val\\spontini.mid\n",
      "Classical Music/Val\\stgr68_5.mid\n",
      "Classical Music/Val\\stgrsnf4.mid\n",
      "Classical Music/Val\\sydh1014.mid\n",
      "Classical Music/Val\\sydh1018.mid\n",
      "Classical Music/Val\\sydl5906.mid\n",
      "Classical Music/Val\\sydvs804.mid\n",
      "Classical Music/Val\\syslgl01.mid\n",
      "Classical Music/Val\\syslmaca.mid\n",
      "Classical Music/Val\\sysmbi01.mid\n",
      "Classical Music/Val\\tch_y04.mid\n",
      "Classical Music/Val\\tch_y15.mid\n",
      "Classical Music/Val\\tc_37feb.mid\n",
      "Classical Music/Val\\tmcl36_3.mid\n",
      "Classical Music/Val\\valse.mid\n",
      "Classical Music/Val\\wamk19d.mid\n",
      "Classical Music/Val\\_beet7_4.mid\n"
     ]
    }
   ],
   "source": [
    "# apply combining track algorithm to each of them based on number of tracks it has\n",
    "import numpy as np\n",
    "\n",
    "tokenizer = REMI() # default parameters\n",
    "\n",
    "for path in fnames:\n",
    "    # prepare the midi file\n",
    "    midi = MidiFile(path)\n",
    "    # tokenize the midi file\n",
    "    try: tokens = tokenizer.midi_to_tokens(midi)\n",
    "    except: continue\n",
    "    # check number of tracks, usually two, this determines how many conbines to be done\n",
    "    n_track = len(tokens)\n",
    "    \n",
    "    # define output path\n",
    "    name = os.path.basename(os.path.normpath(path)) # extract name of the song\n",
    "    output_path = os.path.join(\"Classical Music/Val\",name)\n",
    "    \n",
    "    # if only one track\n",
    "    if n_track == 1:\n",
    "        tokensMidi = tokenizer.tokens_to_midi([tokens[0]],\n",
    "                                                 get_midi_programs(midi))\n",
    "        tokensMidi.dump(output_path)\n",
    "        continue\n",
    "    \n",
    "    # combine the first two tracks\n",
    "    combined_track = combine_encoding(tokens[0],tokens[1])\n",
    "    \n",
    "    # combine the rest tracks if there is more\n",
    "    for i in np.arange(2,n_track):\n",
    "        combined_track = combine_encoding(tokens[i],combined_track)\n",
    "    \n",
    "    # write out to output directory\n",
    "    \n",
    "    #  convert tokenization to midi\n",
    "    combined_trackMidi = tokenizer.tokens_to_midi([combined_track],\n",
    "                                                 get_midi_programs(midi))\n",
    "    combined_trackMidi.dump(output_path)\n",
    "    \n",
    "    "
   ]
  },
  {
   "cell_type": "code",
   "execution_count": null,
   "id": "9ee3f9b4",
   "metadata": {},
   "outputs": [],
   "source": []
  },
  {
   "cell_type": "code",
   "execution_count": null,
   "id": "5c374936",
   "metadata": {},
   "outputs": [],
   "source": []
  },
  {
   "cell_type": "code",
   "execution_count": 45,
   "id": "e20eac6c",
   "metadata": {},
   "outputs": [
    {
     "name": "stdout",
     "output_type": "stream",
     "text": [
      "all done!\n"
     ]
    }
   ],
   "source": [
    "# make sure now I only have one track - val\n",
    "for path in fnames:\n",
    "    # prepare the midi file\n",
    "    midi = MidiFile(path)\n",
    "    # tokenize the midi file\n",
    "    tokens = tokenizer.midi_to_tokens(midi)\n",
    "    # check number of tracks, usually two, this determines how many conbines to be done\n",
    "    n_track = len(tokens)\n",
    "    if n_track != 1:\n",
    "        print(path)\n",
    "        print(n_track)\n",
    "print(\"all done!\")"
   ]
  },
  {
   "cell_type": "code",
   "execution_count": 48,
   "id": "483a4768",
   "metadata": {},
   "outputs": [
    {
     "name": "stdout",
     "output_type": "stream",
     "text": [
      "all done!\n"
     ]
    }
   ],
   "source": [
    "# make sure now I only have one track - train\n",
    "for path in fnames:\n",
    "    # prepare the midi file\n",
    "    midi = MidiFile(path)\n",
    "    # tokenize the midi file\n",
    "    tokens = tokenizer.midi_to_tokens(midi)\n",
    "    # check number of tracks, usually two, this determines how many conbines to be done\n",
    "    n_track = len(tokens)\n",
    "    if n_track != 1:\n",
    "        print(path)\n",
    "        print(n_track)\n",
    "print(\"all done!\")"
   ]
  },
  {
   "cell_type": "code",
   "execution_count": null,
   "id": "57e0319b",
   "metadata": {},
   "outputs": [],
   "source": []
  },
  {
   "cell_type": "code",
   "execution_count": null,
   "id": "8f3a50e1",
   "metadata": {},
   "outputs": [],
   "source": []
  },
  {
   "cell_type": "code",
   "execution_count": null,
   "id": "f72c742d",
   "metadata": {},
   "outputs": [],
   "source": []
  },
  {
   "cell_type": "code",
   "execution_count": null,
   "id": "3a2c0323",
   "metadata": {},
   "outputs": [],
   "source": []
  },
  {
   "cell_type": "code",
   "execution_count": null,
   "id": "1c78cadd",
   "metadata": {},
   "outputs": [],
   "source": []
  },
  {
   "cell_type": "code",
   "execution_count": null,
   "id": "f1b3bca1",
   "metadata": {},
   "outputs": [],
   "source": []
  }
 ],
 "metadata": {
  "kernelspec": {
   "display_name": "Python 3 (ipykernel)",
   "language": "python",
   "name": "python3"
  },
  "language_info": {
   "codemirror_mode": {
    "name": "ipython",
    "version": 3
   },
   "file_extension": ".py",
   "mimetype": "text/x-python",
   "name": "python",
   "nbconvert_exporter": "python",
   "pygments_lexer": "ipython3",
   "version": "3.9.12"
  }
 },
 "nbformat": 4,
 "nbformat_minor": 5
}
