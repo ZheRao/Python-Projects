{
 "cells": [
  {
   "cell_type": "code",
   "execution_count": 1,
   "id": "d2ecf01f",
   "metadata": {},
   "outputs": [],
   "source": [
    "from miditok import REMI, get_midi_programs\n",
    "from miditoolkit import MidiFile\n",
    "from tqdm.auto import tqdm\n",
    "\n",
    "import numpy as np\n",
    "import os\n",
    "def find_length(folder):\n",
    "    names = os.listdir(folder)\n",
    "    fnames = map(lambda fname: os.path.join(folder,fname), names)\n",
    "    fnames = list(fnames)\n",
    "    tokenizer = REMI()\n",
    "    length=[]\n",
    "    progress = tqdm(range(len(fnames)))\n",
    "    for name in fnames:\n",
    "        midi = MidiFile(name)\n",
    "        tokens = tokenizer.midi_to_tokens(midi)\n",
    "        length.append(len(tokens[0]))\n",
    "        progress.update(1)\n",
    "    \n",
    "    return np.array(length)"
   ]
  },
  {
   "cell_type": "code",
   "execution_count": 13,
   "id": "ca969352",
   "metadata": {},
   "outputs": [
    {
     "data": {
      "application/vnd.jupyter.widget-view+json": {
       "model_id": "5386541ac9a747dd9517f8dd530e9483",
       "version_major": 2,
       "version_minor": 0
      },
      "text/plain": [
       "  0%|          | 0/718 [00:00<?, ?it/s]"
      ]
     },
     "metadata": {},
     "output_type": "display_data"
    }
   ],
   "source": [
    "array = find_length(\"Pop-music/Train\")"
   ]
  },
  {
   "cell_type": "code",
   "execution_count": 14,
   "id": "375054eb",
   "metadata": {},
   "outputs": [],
   "source": [
    "array = np.sort(array)\n",
    "np.save(\"Pop-music-train-token-length.npy\",array)"
   ]
  },
  {
   "cell_type": "code",
   "execution_count": 16,
   "id": "c4a937e6",
   "metadata": {
    "scrolled": true
   },
   "outputs": [
    {
     "data": {
      "text/plain": [
       "array([ 6605,  6634,  6637,  6655,  6667,  6694,  6710,  6714,  6744,\n",
       "        6758,  6762,  6769,  6775,  6792,  6808,  6819,  6892,  6904,\n",
       "        6910,  6913,  6928,  6933,  6968,  6992,  7031,  7081,  7112,\n",
       "        7128,  7138,  7173,  7281,  7335,  7361,  7390,  7409,  7472,\n",
       "        7511,  7517,  7603,  7670,  7728,  7800,  7850,  7853,  7854,\n",
       "        7863,  7890,  7910,  7911,  7994,  8003,  8329,  8434,  8466,\n",
       "        8468,  8487,  8539,  8569,  8577,  8596,  8690,  8792,  8793,\n",
       "        8814,  8859,  8873,  9158,  9178,  9185,  9804,  9852,  9904,\n",
       "       10002, 10005, 10185, 10695, 10737, 10762, 10900, 10992, 11028,\n",
       "       11084, 11168, 11319, 11395, 11436, 11468, 11555, 11951, 12318,\n",
       "       12383, 12389, 12992, 13225, 13358, 13468, 13754, 14148, 14417,\n",
       "       21481])"
      ]
     },
     "execution_count": 16,
     "metadata": {},
     "output_type": "execute_result"
    }
   ],
   "source": [
    "array[-100:]"
   ]
  },
  {
   "cell_type": "code",
   "execution_count": 17,
   "id": "26a1a586",
   "metadata": {},
   "outputs": [
    {
     "data": {
      "application/vnd.jupyter.widget-view+json": {
       "model_id": "abd196e01ffc4abcadf40cd3056579a9",
       "version_major": 2,
       "version_minor": 0
      },
      "text/plain": [
       "  0%|          | 0/57 [00:00<?, ?it/s]"
      ]
     },
     "metadata": {},
     "output_type": "display_data"
    }
   ],
   "source": [
    "array = find_length(\"Pop-music/Val\")"
   ]
  },
  {
   "cell_type": "code",
   "execution_count": 18,
   "id": "8befc758",
   "metadata": {},
   "outputs": [],
   "source": [
    "array = np.sort(array)\n",
    "np.save(\"Pop-music-val-token-length.npy\",array)"
   ]
  },
  {
   "cell_type": "code",
   "execution_count": 19,
   "id": "c95fc7c4",
   "metadata": {},
   "outputs": [
    {
     "data": {
      "text/plain": [
       "array([ 3891,  3926,  4110,  4129,  4292,  4329,  4392,  4404,  4466,\n",
       "        4518,  4525,  4525,  4580,  4634,  4651,  4654,  4718,  4730,\n",
       "        4762,  4812,  4813,  4827,  4875,  4876,  4941,  5011,  5066,\n",
       "        5086,  5164,  5268,  5307,  5667,  5730,  5812,  5832,  5869,\n",
       "        5914,  6120,  6249,  6479,  6494,  6757,  6901,  8244,  8766,\n",
       "        9023,  9716, 10665, 14565, 15067])"
      ]
     },
     "execution_count": 19,
     "metadata": {},
     "output_type": "execute_result"
    }
   ],
   "source": [
    "array[-50:]"
   ]
  },
  {
   "cell_type": "code",
   "execution_count": 3,
   "id": "866081f5",
   "metadata": {},
   "outputs": [],
   "source": [
    "array = np.load(\"Pop-music-2-train-token-length.npy\")\n",
    "array2 = np.load(\"Pop-music-2-val-token-length.npy\")\n",
    "array3 = np.load(\"Pop-music-train-token-length.npy\")\n",
    "array4 = np.load(\"Pop-music-val-token-length.npy\")"
   ]
  },
  {
   "cell_type": "code",
   "execution_count": 2,
   "id": "5b419731",
   "metadata": {},
   "outputs": [],
   "source": [
    "array = np.load(\"Classical-music-train-token-length.npy\")\n",
    "array2 = np.load(\"Classical-music-val-token-length.npy\")"
   ]
  },
  {
   "cell_type": "code",
   "execution_count": 3,
   "id": "22611b03",
   "metadata": {},
   "outputs": [
    {
     "name": "stdout",
     "output_type": "stream",
     "text": [
      "Total number of training samples:  1358\n"
     ]
    },
    {
     "data": {
      "text/plain": [
       "<seaborn.axisgrid.FacetGrid at 0x1e279cb91f0>"
      ]
     },
     "execution_count": 3,
     "metadata": {},
     "output_type": "execute_result"
    },
    {
     "data": {
      "image/png": "[encoded data removed]",
      "text/plain": [
       "<Figure size 360x360 with 1 Axes>"
      ]
     },
     "metadata": {
      "needs_background": "light"
     },
     "output_type": "display_data"
    }
   ],
   "source": [
    "import seaborn as sns\n",
    "#train_array = np.concatenate([array,array3])\n",
    "print(\"Total number of training samples: \", array.shape[0])\n",
    "sns.displot(array)\n",
    "#np.save(\"Pop-train-token-length.npy\",train_array)"
   ]
  },
  {
   "cell_type": "code",
   "execution_count": 32,
   "id": "11588a58",
   "metadata": {},
   "outputs": [
    {
     "name": "stdout",
     "output_type": "stream",
     "text": [
      "Total number of validation samples:  201\n"
     ]
    },
    {
     "data": {
      "image/png": "[encoded data removed]",
      "text/plain": [
       "<Figure size 360x360 with 1 Axes>"
      ]
     },
     "metadata": {
      "needs_background": "light"
     },
     "output_type": "display_data"
    }
   ],
   "source": [
    "val_array = np.concatenate([array2,array4])\n",
    "print(\"Total number of validation samples: \", val_array.shape[0])\n",
    "sns.displot(val_array)\n",
    "np.save(\"Pop-val-token-length.npy\",val_array)"
   ]
  },
  {
   "cell_type": "code",
   "execution_count": null,
   "id": "de0bb370",
   "metadata": {},
   "outputs": [],
   "source": []
  },
  {
   "cell_type": "code",
   "execution_count": null,
   "id": "14cf2c35",
   "metadata": {},
   "outputs": [],
   "source": []
  },
  {
   "cell_type": "code",
   "execution_count": null,
   "id": "4f0d5fde",
   "metadata": {},
   "outputs": [],
   "source": []
  },
  {
   "cell_type": "code",
   "execution_count": null,
   "id": "52f2d367",
   "metadata": {},
   "outputs": [],
   "source": []
  },
  {
   "cell_type": "code",
   "execution_count": null,
   "id": "07d457dd",
   "metadata": {},
   "outputs": [],
   "source": []
  },
  {
   "cell_type": "code",
   "execution_count": null,
   "id": "d992d8d5",
   "metadata": {},
   "outputs": [],
   "source": []
  },
  {
   "cell_type": "code",
   "execution_count": null,
   "id": "b8e1a471",
   "metadata": {},
   "outputs": [],
   "source": []
  }
 ],
 "metadata": {
  "kernelspec": {
   "display_name": "Python 3 (ipykernel)",
   "language": "python",
   "name": "python3"
  },
  "language_info": {
   "codemirror_mode": {
    "name": "ipython",
    "version": 3
   },
   "file_extension": ".py",
   "mimetype": "text/x-python",
   "name": "python",
   "nbconvert_exporter": "python",
   "pygments_lexer": "ipython3",
   "version": "3.9.12"
  }
 },
 "nbformat": 4,
 "nbformat_minor": 5
}
