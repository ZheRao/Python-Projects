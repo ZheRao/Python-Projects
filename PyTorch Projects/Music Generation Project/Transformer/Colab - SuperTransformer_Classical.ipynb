{
  "cells": [
    {
      "cell_type": "code",
      "execution_count": null,
      "id": "3b28c273",
      "metadata": {
        "id": "3b28c273",
        "colab": {
          "base_uri": "https://localhost:8080/"
        },
        "outputId": "f0b9b163-382b-4bf6-ac41-6651bb8b4e58"
      },
      "outputs": [
        {
          "output_type": "stream",
          "name": "stdout",
          "text": [
            "Mounted at /content/drive\n"
          ]
        }
      ],
      "source": [
        "from google.colab import drive\n",
        "drive.mount('/content/drive')"
      ]
    },
    {
      "cell_type": "code",
      "execution_count": null,
      "id": "6eccd9ff",
      "metadata": {
        "id": "6eccd9ff"
      },
      "outputs": [],
      "source": [
        "import math\n",
        "from typing import Tuple\n",
        "import numpy as np\n",
        "import copy\n",
        "import torch\n",
        "from torch import nn, Tensor\n",
        "import torch.nn.functional as F\n",
        "from torch.nn import TransformerEncoder, TransformerEncoderLayer\n",
        "from torch.utils import data\n",
        "from torch.autograd import Variable"
      ]
    },
    {
      "cell_type": "markdown",
      "id": "bc993740",
      "metadata": {
        "id": "bc993740"
      },
      "source": [
        "# Transformer model"
      ]
    },
    {
      "cell_type": "markdown",
      "id": "db14f0ab",
      "metadata": {
        "id": "db14f0ab"
      },
      "source": [
        "## embedding "
      ]
    },
    {
      "cell_type": "code",
      "execution_count": null,
      "id": "8d910ef6",
      "metadata": {
        "id": "8d910ef6"
      },
      "outputs": [],
      "source": [
        "class Embedder(nn.Module):\n",
        "    def __init__(self,num_token,d_model):\n",
        "        super(Embedder,self).__init__()\n",
        "        self.embed = nn.Embedding(num_token,d_model)\n",
        "    def forward(self,x):\n",
        "        return self.embed(x)"
      ]
    },
    {
      "cell_type": "markdown",
      "id": "721ac7d8",
      "metadata": {
        "id": "721ac7d8"
      },
      "source": [
        "## positional encoder"
      ]
    },
    {
      "cell_type": "code",
      "execution_count": null,
      "id": "1977ae10",
      "metadata": {
        "id": "1977ae10"
      },
      "outputs": [],
      "source": [
        "class PositionalEncoder(nn.Module):\n",
        "    def __init__(self, d_model, max_seq_len=2048):\n",
        "        super().__init__()\n",
        "        self.d_model = d_model\n",
        "        \n",
        "        # create constant \"positoinal encoding pe\" matrix with values dependant on \n",
        "        #  position and i\n",
        "        pe = torch.zeros(max_seq_len,d_model)\n",
        "        for pos in range(max_seq_len):\n",
        "            for i in range(0,d_model,2):\n",
        "                pe[pos,i] = math.sin(pos/(10000** ((2*i)/d_model)))\n",
        "                pe[pos,i+1] = math.cos(pos/(10000** ((2*(i+1))/d_model)))\n",
        "        pe = pe.unsqueeze(0)\n",
        "        self.register_buffer(\"pe\", pe)\n",
        "        \n",
        "    def forward(self,x):\n",
        "        # make embedding larger so that its more important\n",
        "        x = x * math.sqrt(self.d_model)\n",
        "        \n",
        "        # add constant to embedding\n",
        "        seq_len = x.size(1)\n",
        "        x = x + torch.nn.parameter.Parameter(self.pe[:,:seq_len], requires_grad=False).cuda()\n",
        "        return x"
      ]
    },
    {
      "cell_type": "code",
      "execution_count": null,
      "id": "5398272a",
      "metadata": {
        "id": "5398272a"
      },
      "outputs": [],
      "source": [
        ""
      ]
    },
    {
      "cell_type": "markdown",
      "id": "9285336e",
      "metadata": {
        "id": "9285336e"
      },
      "source": [
        "## MultiHeadAttention"
      ]
    },
    {
      "cell_type": "code",
      "execution_count": null,
      "id": "c8d97b59",
      "metadata": {
        "id": "c8d97b59"
      },
      "outputs": [],
      "source": [
        "class MultiHeadAttention(nn.Module):\n",
        "    def __init__(self, heads, d_model, dropout=0.3):\n",
        "        super().__init__()\n",
        "        \n",
        "        self.d_model = d_model\n",
        "        self.d_k = d_model // heads\n",
        "        self.h = heads\n",
        "        \n",
        "        # claculate Q, K, V representation of the token\n",
        "        self.q_linear = nn.Linear(d_model,d_model)\n",
        "        self.v_linear = nn.Linear(d_model,d_model)\n",
        "        self.k_linear = nn.Linear(d_model,d_model)\n",
        "        self.dropout = nn.Dropout(dropout)\n",
        "        self.out = nn.Linear(d_model,d_model)\n",
        "        \n",
        "    def forward(self,q,k,v,mask=None):\n",
        "        bs = q.size(0)\n",
        "        \n",
        "        # perform linear operation and split into h heads\n",
        "        k = self.k_linear(k).view(bs,-1,self.h,self.d_k)\n",
        "        q = self.q_linear(q).view(bs,-1,self.h,self.d_k)\n",
        "        v = self.v_linear(v).view(bs,-1,self.h,self.d_k)\n",
        "        \n",
        "        # transpose to get dimensions bs * heads * sequence_len * d_model\n",
        "        k = k.transpose(1,2)\n",
        "        q = q.transpose(1,2)\n",
        "        v = v.transpose(1,2)\n",
        "        \n",
        "        scores = attention(q, k, v, self.d_k, mask, self.dropout)\n",
        "        \n",
        "        # concatenate heads and put through final linear layer\n",
        "        concat = scores.transpose(1,2).contiguous().view(bs,-1,self.d_model)\n",
        "        \n",
        "        output = self.out(concat)\n",
        "        \n",
        "        return output\n",
        "    \n",
        "    # calculate attention\n",
        "def attention(q, k, v, d_k, mask=None, dropout=None):\n",
        "    scores = torch.matmul(q,k.transpose(2,-1)) / math.sqrt(d_k)\n",
        "    \n",
        "    if mask is not None:\n",
        "        mask = mask.unsqueeze(1).cuda()\n",
        "        scores = scores.masked_fill_(mask == 0, -1e9)\n",
        "    \n",
        "    scores = nn.functional.softmax(scores, dim=-1)\n",
        "    \n",
        "    if dropout:\n",
        "        scores = dropout(scores)\n",
        "    \n",
        "    output = torch.matmul(scores, v)\n",
        "    return output"
      ]
    },
    {
      "cell_type": "markdown",
      "id": "605ded78",
      "metadata": {
        "id": "605ded78"
      },
      "source": [
        "# Feed-forward Network - 1024 -> 2048"
      ]
    },
    {
      "cell_type": "code",
      "execution_count": null,
      "id": "adb2795d",
      "metadata": {
        "id": "adb2795d"
      },
      "outputs": [],
      "source": [
        "class FeedForward(nn.Module):\n",
        "    def __init__(self,d_model,d_ff = 2048, dropout=0.3):\n",
        "        super().__init__()\n",
        "        self.linear1 = nn.Linear(d_model,d_ff)\n",
        "        self.dropout = nn.Dropout(dropout)\n",
        "        self.linear2 = nn.Linear(d_ff,d_model)\n",
        "        self.relu = nn.ReLU()\n",
        "    def forward(self,x):\n",
        "        x = self.dropout(self.relu(self.linear1(x)))\n",
        "        x = self.linear2(x)\n",
        "        return x"
      ]
    },
    {
      "cell_type": "markdown",
      "id": "c955e89c",
      "metadata": {
        "id": "c955e89c"
      },
      "source": [
        "# Layernorm"
      ]
    },
    {
      "cell_type": "code",
      "execution_count": null,
      "id": "72c67333",
      "metadata": {
        "id": "72c67333"
      },
      "outputs": [],
      "source": [
        "class Norm(nn.Module):\n",
        "    def __init__(self, d_model, eps = 1e-6):\n",
        "        super().__init__()\n",
        "        \n",
        "        self.size = d_model\n",
        "        \n",
        "        # create two learnable parameters to calibrate normalization\n",
        "        self.alpha = nn.Parameter(torch.ones(self.size))\n",
        "        self.bias = nn.Parameter(torch.zeros(self.size))\n",
        "        self.eps = eps\n",
        "    \n",
        "    def forward(self,x):\n",
        "        norm = self.alpha * (x - x.mean(dim=-1,keepdim=True))/(x.std(dim=-1,keepdim=True)+self.eps)+self.bias\n",
        "        return norm"
      ]
    },
    {
      "cell_type": "code",
      "execution_count": null,
      "id": "f99a3bcd",
      "metadata": {
        "id": "f99a3bcd"
      },
      "outputs": [],
      "source": [
        ""
      ]
    },
    {
      "cell_type": "markdown",
      "id": "0c9e6b56",
      "metadata": {
        "id": "0c9e6b56"
      },
      "source": [
        "# Transformer"
      ]
    },
    {
      "cell_type": "markdown",
      "id": "799c492a",
      "metadata": {
        "id": "799c492a"
      },
      "source": [
        "## Encoder and Decoder"
      ]
    },
    {
      "cell_type": "code",
      "execution_count": null,
      "id": "127f9273",
      "metadata": {
        "id": "127f9273"
      },
      "outputs": [],
      "source": [
        "# build one encoder layer with one multi-head attention layer and one feed-forward layer\n",
        "class EncoderLayer(nn.Module):\n",
        "    def __init__(self,d_model,heads,dropout=0.3):\n",
        "        super().__init__()\n",
        "        self.norm1 = Norm(d_model)\n",
        "        self.norm2 = Norm(d_model)\n",
        "        self.attn = MultiHeadAttention(heads, d_model)\n",
        "        self.ff = FeedForward(d_model)\n",
        "        self.dropout1 = nn.Dropout(dropout)\n",
        "        self.dropout2 = nn.Dropout(dropout)\n",
        "    \n",
        "    def forward(self,x,mask):\n",
        "        x2 = self.norm1(x)\n",
        "        x = x + self.dropout1(self.attn(x2,x2,x2,mask))\n",
        "        x2 = self.norm2(x)\n",
        "        x = x + self.dropout2(self.ff(x2))\n",
        "        return x\n",
        "\n",
        "# a decoder layer with two multi-head attention layers and one feed-forward layer\n",
        "class DecoderLayer(nn.Module):\n",
        "    def __init__(self,d_model,heads,dropout=0.1):\n",
        "        super().__init__()\n",
        "        self.norm1 = Norm(d_model)\n",
        "        self.norm2 = Norm(d_model)\n",
        "        self.norm3 = Norm(d_model)\n",
        "        \n",
        "        self.dropout1 = nn.Dropout(dropout)\n",
        "        self.dropout2 = nn.Dropout(dropout)\n",
        "        self.dropout3 = nn.Dropout(dropout)\n",
        "        \n",
        "        self.attn1 = MultiHeadAttention(heads,d_model)\n",
        "        self.attn2 = MultiHeadAttention(heads,d_model)\n",
        "        self.ff=FeedForward(d_model).cuda()\n",
        "        \n",
        "    def forward(self,x,e_outputs,src_mask,trg_mask):\n",
        "        x2 = self.norm1(x)\n",
        "        x = x + self.dropout1(self.attn1(x2,x2,x2,trg_mask))\n",
        "        x2 = self.norm2(x)\n",
        "        x = x + self.dropout2(self.attn2(x2,e_outputs,e_outputs,src_mask))\n",
        "        x2 = self.norm3(x)\n",
        "        x = x + self.dropout3(self.ff(x2))\n",
        "        return x\n",
        "    \n",
        "    "
      ]
    },
    {
      "cell_type": "code",
      "execution_count": null,
      "id": "9b18ad54",
      "metadata": {
        "id": "9b18ad54"
      },
      "outputs": [],
      "source": [
        "# define a function that generate multiple layers:\n",
        "def get_clones(module,N):\n",
        "    return nn.ModuleList([copy.deepcopy(module) for i in range(N)])\n",
        "\n",
        "# encoder and decoder\n",
        "class Encoder(nn.Module):\n",
        "    def __init__(self,num_tokens,d_model,N,heads):\n",
        "        super().__init__()\n",
        "        self.N = N\n",
        "        self.embed = Embedder(num_tokens,d_model) # num_tokens is vocabulary size\n",
        "        self.pe = PositionalEncoder(d_model)\n",
        "        self.layers = get_clones(EncoderLayer(d_model,heads), N)\n",
        "        self.norm = Norm(d_model)\n",
        "        \n",
        "    def forward(self,src,mask):\n",
        "        x = self.embed(src)\n",
        "        x = self.pe(x)\n",
        "        for i in range(N):\n",
        "            x = self.layers[i](x,mask)\n",
        "        return self.norm(x)\n",
        "\n",
        "class Decoder(nn.Module):\n",
        "    def __init__(self,num_tokens,d_model,N,heads):\n",
        "        super().__init__()\n",
        "        self.N = N\n",
        "        self.embed = Embedder(num_tokens,d_model)\n",
        "        self.pe = PositionalEncoder(d_model)\n",
        "        self.layers = get_clones(DecoderLayer(d_model,heads), N)\n",
        "        self.norm = Norm(d_model)\n",
        "    \n",
        "    def forward(self, trg, e_outputs, src_mask, trg_mask):\n",
        "        x = self.embed(trg)\n",
        "        x = self.pe(x)\n",
        "        for i in range(self.N):\n",
        "            x = self.layers[i](x,e_outputs,src_mask,trg_mask)\n",
        "        return self.norm(x)"
      ]
    },
    {
      "cell_type": "markdown",
      "id": "3a0bbb65",
      "metadata": {
        "id": "3a0bbb65"
      },
      "source": [
        "## Transformer"
      ]
    },
    {
      "cell_type": "code",
      "execution_count": null,
      "id": "01478011",
      "metadata": {
        "id": "01478011"
      },
      "outputs": [],
      "source": [
        "class Transformer(nn.Module):\n",
        "    def __init__(self,src_num_tokens,trg_num_tokens,d_model,N,heads):\n",
        "        super().__init__()\n",
        "        self.encoder = Encoder(src_num_tokens,d_model,N,heads)\n",
        "        #self.decoder = Decoder(trg_num_tokens,d_model,N,heads)\n",
        "        self.out = nn.Linear(d_model,trg_num_tokens)\n",
        "    \n",
        "    def forward(self, src, src_mask):\n",
        "        e_outputs = self.encoder(src, src_mask)\n",
        "        #d_output = self.decoder(trg,e_outputs,src_mask,trg_mask)\n",
        "        output = self.out(e_outputs)\n",
        "        return output"
      ]
    },
    {
      "cell_type": "code",
      "execution_count": null,
      "id": "9b883fc0",
      "metadata": {
        "id": "9b883fc0"
      },
      "outputs": [],
      "source": [
        ""
      ]
    },
    {
      "cell_type": "code",
      "execution_count": null,
      "id": "de275f48",
      "metadata": {
        "id": "de275f48"
      },
      "outputs": [],
      "source": [
        ""
      ]
    },
    {
      "cell_type": "code",
      "execution_count": null,
      "id": "730a4237",
      "metadata": {
        "id": "730a4237"
      },
      "outputs": [],
      "source": [
        ""
      ]
    },
    {
      "cell_type": "code",
      "execution_count": null,
      "id": "48316799",
      "metadata": {
        "id": "48316799"
      },
      "outputs": [],
      "source": [
        ""
      ]
    },
    {
      "cell_type": "markdown",
      "id": "a854fa7d",
      "metadata": {
        "id": "a854fa7d"
      },
      "source": [
        "# customized dataset"
      ]
    },
    {
      "cell_type": "code",
      "source": [
        "!cp \"/content/drive/MyDrive/Customized Dataset - Pop/Val/customized_val_2048_every_20.npy\" \"/content/val_tokens.npy\" "
      ],
      "metadata": {
        "id": "mEH5Zizi50hm"
      },
      "id": "mEH5Zizi50hm",
      "execution_count": null,
      "outputs": []
    },
    {
      "cell_type": "code",
      "source": [
        "!cp \"/content/drive/MyDrive/Customized Dataset - Pop/Train/customized_training_2048_every_20.npy\" \"/content/train_tokens.npy\" "
      ],
      "metadata": {
        "id": "VH_09pxP50km"
      },
      "id": "VH_09pxP50km",
      "execution_count": null,
      "outputs": []
    },
    {
      "cell_type": "code",
      "execution_count": null,
      "id": "a7f2267e",
      "metadata": {
        "id": "a7f2267e"
      },
      "outputs": [],
      "source": [
        "class customizedDataset(data.Dataset):\n",
        "    def __init__(self,npy_path):\n",
        "        # read in data\n",
        "        self.data = np.load(npy_path)\n",
        "        print(\"Dataset shape: \", self.data.shape)\n",
        "    \n",
        "    def __len__(self):\n",
        "        return self.data.shape[0]\n",
        "    \n",
        "    def __getitem__(self,index):\n",
        "        sequence = self.data[index]\n",
        "        input_seq = sequence[:-1]\n",
        "        output_seq = sequence[1:]\n",
        "        return (input_seq,output_seq)"
      ]
    },
    {
      "cell_type": "markdown",
      "id": "88970b72",
      "metadata": {
        "id": "88970b72"
      },
      "source": [
        "## dataloders"
      ]
    },
    {
      "cell_type": "code",
      "execution_count": null,
      "id": "5b48bad4",
      "metadata": {
        "colab": {
          "base_uri": "https://localhost:8080/"
        },
        "id": "5b48bad4",
        "outputId": "fb5438ff-717e-4eb6-abed-fc7dcc9ca8fe"
      },
      "outputs": [
        {
          "output_type": "stream",
          "name": "stdout",
          "text": [
            "Dataset shape:  (335422, 2048)\n"
          ]
        }
      ],
      "source": [
        "train_dataset = customizedDataset(\"train_tokens.npy\")\n",
        "train_dataloader = data.DataLoader(train_dataset,batch_size=2,shuffle=True)"
      ]
    },
    {
      "cell_type": "code",
      "execution_count": null,
      "id": "f303a6d1",
      "metadata": {
        "colab": {
          "base_uri": "https://localhost:8080/"
        },
        "id": "f303a6d1",
        "outputId": "a40f6a5c-7f2d-40cd-f40b-e78e98522e85"
      },
      "outputs": [
        {
          "output_type": "stream",
          "name": "stdout",
          "text": [
            "Dataset shape:  (32423, 2048)\n"
          ]
        }
      ],
      "source": [
        "\n",
        "val_dataset = customizedDataset(\"val_tokens.npy\")\n",
        "\n",
        "set1 = list(range(0,len(val_dataset),5))\n",
        "set2 = list(range(1,len(val_dataset),5))\n",
        "set3 = list(range(2,len(val_dataset),5))\n",
        "set4 = list(range(3,len(val_dataset),5))\n",
        "set5 = list(range(3,len(val_dataset),5))\n",
        "\n",
        "val1 = data.Subset(val_dataset,set1)\n",
        "val2 = data.Subset(val_dataset,set2)\n",
        "val3 = data.Subset(val_dataset,set3)\n",
        "val4 = data.Subset(val_dataset,set4)\n",
        "val5 = data.Subset(val_dataset,set4)\n",
        "\n",
        "size=8\n",
        "\n",
        "val_dataloader1 = data.DataLoader(val1,batch_size=size,shuffle=True)\n",
        "val_dataloader2 = data.DataLoader(val2,batch_size=size,shuffle=True)\n",
        "val_dataloader3 = data.DataLoader(val3,batch_size=size,shuffle=True)\n",
        "val_dataloader4 = data.DataLoader(val4,batch_size=size,shuffle=True)\n",
        "val_dataloader5 = data.DataLoader(val4,batch_size=size,shuffle=True)\n",
        "\n",
        "val_dataloader = [val_dataloader1,\n",
        "               val_dataloader2,val_dataloader3,val_dataloader4,val_dataloader5]"
      ]
    },
    {
      "cell_type": "code",
      "execution_count": null,
      "id": "bef52036",
      "metadata": {
        "colab": {
          "base_uri": "https://localhost:8080/"
        },
        "id": "bef52036",
        "outputId": "60a37445-e534-4e0d-84e4-1be59060aca5"
      },
      "outputs": [
        {
          "output_type": "stream",
          "name": "stdout",
          "text": [
            "torch.Size([2, 2047])\n",
            "torch.Size([2, 2047])\n"
          ]
        }
      ],
      "source": [
        "# check\n",
        "X_train = next(iter(train_dataloader))\n",
        "print(X_train[0].shape) # input seq\n",
        "print(X_train[1].shape) # output seq"
      ]
    },
    {
      "cell_type": "code",
      "execution_count": null,
      "id": "b81e777e",
      "metadata": {
        "colab": {
          "base_uri": "https://localhost:8080/"
        },
        "id": "b81e777e",
        "outputId": "a8a2b51d-0a90-4c90-bd36-a680345e6f7b"
      },
      "outputs": [
        {
          "output_type": "stream",
          "name": "stdout",
          "text": [
            "torch.Size([8, 2047])\n",
            "torch.Size([8, 2047])\n"
          ]
        }
      ],
      "source": [
        "# check\n",
        "X_val = next(iter(val_dataloader[0]))\n",
        "print(X_val[0].shape) # input seq\n",
        "print(X_val[1].shape) # output seq"
      ]
    },
    {
      "cell_type": "code",
      "execution_count": null,
      "id": "4259d4fb",
      "metadata": {
        "colab": {
          "base_uri": "https://localhost:8080/"
        },
        "id": "4259d4fb",
        "outputId": "a53a1bf1-3a94-420a-d433-a95a9ae66df9"
      },
      "outputs": [
        {
          "output_type": "execute_result",
          "data": {
            "text/plain": [
              "167711"
            ]
          },
          "metadata": {},
          "execution_count": 19
        }
      ],
      "source": [
        "len(train_dataloader)"
      ]
    },
    {
      "cell_type": "markdown",
      "id": "71ef4aa2",
      "metadata": {
        "id": "71ef4aa2"
      },
      "source": [
        "# Train and Validation Routine"
      ]
    },
    {
      "cell_type": "code",
      "execution_count": null,
      "id": "7054629d",
      "metadata": {
        "id": "7054629d"
      },
      "outputs": [],
      "source": [
        "def create_mask(seq):\n",
        "    size = seq.size(1)\n",
        "    nopeak_mask = np.triu(np.ones((1,size,size)),k=1).astype(\"uint8\")\n",
        "    nopeak_mask = (torch.from_numpy(nopeak_mask)==0)\n",
        "    return nopeak_mask\n",
        "    "
      ]
    },
    {
      "cell_type": "code",
      "execution_count": null,
      "id": "860414b0",
      "metadata": {
        "id": "860414b0"
      },
      "outputs": [],
      "source": [
        "def create_mask_pad(seq,paded_seq):\n",
        "    return (seq != padded_seq).unsqueeze(1)"
      ]
    },
    {
      "cell_type": "code",
      "execution_count": null,
      "id": "90a51719",
      "metadata": {
        "colab": {
          "base_uri": "https://localhost:8080/"
        },
        "id": "90a51719",
        "outputId": "1bcdc125-a693-4b5a-d1f4-1fa59ebc5566"
      },
      "outputs": [
        {
          "output_type": "execute_result",
          "data": {
            "text/plain": [
              "tensor([[1, 0, 0],\n",
              "        [0, 1, 0],\n",
              "        [0, 0, 1]])"
            ]
          },
          "metadata": {},
          "execution_count": 21
        }
      ],
      "source": [
        "a = torch.zeros((3,3),dtype=torch.long)\n",
        "a[0,0] = 1\n",
        "a[1,1] = 1\n",
        "a[2,2] = 1\n",
        "b = torch.ones((3,3),dtype=torch.long)\n",
        "b = b * 3\n",
        "c = a & b\n",
        "c"
      ]
    },
    {
      "cell_type": "code",
      "execution_count": null,
      "id": "029bc1a1",
      "metadata": {
        "id": "029bc1a1"
      },
      "outputs": [],
      "source": [
        "def evaluate(model,val_dataloader,device,loss_fn,num_vocab):\n",
        "    model.eval()\n",
        "    loss = 0\n",
        "    steps = 0 # keep track of number of batches \n",
        "    with torch.no_grad():\n",
        "        for batch in val_dataloader:\n",
        "            steps += 1\n",
        "            input_seq, output_seq = batch\n",
        "            input_seq, output_seq = input_seq.long().to(device), output_seq.long().to(device)\n",
        "            output = model(input_seq,None) #shape (batch,seq_len,num_vocab)\n",
        "            output_flatten = output.view(-1,num_vocab) #shape (x,num_vocab)\n",
        "            # output shape (batch,seq_len)\n",
        "            loss +=  loss_fn(output_flatten,output_seq.view(-1)).item()\n",
        "    loss = loss / steps\n",
        "    print(f\"Validation loss: {loss:.6f}\\n\")\n",
        "    return loss"
      ]
    },
    {
      "cell_type": "code",
      "execution_count": null,
      "id": "1282de9e",
      "metadata": {
        "id": "1282de9e"
      },
      "outputs": [],
      "source": [
        "from tqdm.auto import tqdm\n",
        "def train(model,train_dataloader,val_dataloader,ep,print_frequency,loss_fn,\n",
        "          optimizer,device,run,grad_clip=1,scheduler=None,\n",
        "          num_vocab = 218,kind=\"Pop\"):\n",
        "    model.train()\n",
        "    val_best = float(\"inf\")\n",
        "    \n",
        "    # total number of training steps:\n",
        "    num_steps = ep * len(train_dataloader) # len(train_dataloader) is how many batches for 1 epoch\n",
        "    progress = tqdm(range(math.ceil(num_steps)))\n",
        "    \n",
        "    # calculate how often print the result\n",
        "    print_every = math.floor(num_steps/print_frequency) # this is the # of batches processed before print\n",
        "    \n",
        "    \n",
        "    # initialize\n",
        "    steps = 0\n",
        "    train_loss = []\n",
        "    val_loss = []\n",
        "    current_loss = 0\n",
        "    \n",
        "    for e in range(ep):\n",
        "        for batch in train_dataloader:\n",
        "            steps += 1\n",
        "            input_seq, output_seq = batch\n",
        "            input_seq, output_seq = input_seq.long().to(device), output_seq.long().to(device)\n",
        "            \n",
        "            optimizer.zero_grad()\n",
        "            output = model(input_seq,None)\n",
        "            output_flatten = output.view(-1,num_vocab)\n",
        "            loss = loss_fn(output_flatten,output_seq.view(-1))\n",
        "            current_loss += loss.item()\n",
        "            \n",
        "            loss.backward()\n",
        "            torch.nn.utils.clip_grad_norm_(model.parameters(),grad_clip)\n",
        "            optimizer.step()\n",
        "            \n",
        "            progress.update(1)\n",
        "            \n",
        "            # print \n",
        "            if steps % print_every == 0:\n",
        "                current_loss = current_loss / print_every\n",
        "                print(f\"EPOCHS  : {e+1}/{ep} Loss: {current_loss:.6f}\")\n",
        "                train_loss.append(current_loss)\n",
        "                current_loss = 0\n",
        "                \n",
        "                # validation\n",
        "                which_val = np.random.randint(0,4)\n",
        "                current_val_loss = evaluate(model,val_dataloader[which_val],device,loss_fn,num_vocab)\n",
        "                val_loss.append(current_val_loss)\n",
        "                \n",
        "                # save model\n",
        "                if current_val_loss < val_best:\n",
        "                    val_best = current_val_loss\n",
        "                    torch.save(model.state_dict(),f\"/content/drive/MyDrive/TransformerWeights/{kind}Transformer-run-{run}-val_loss_{val_best:.2f}.pth\")\n",
        "                \n",
        "            model.train()\n",
        "        if scheduler and (e + (ep*(run-1)) <= 7): # less than 8 epochs\n",
        "            scheduler.step()\n",
        "             \n",
        "            \n",
        "    return train_loss, val_loss\n",
        "    "
      ]
    },
    {
      "cell_type": "code",
      "source": [
        "a = torch.tensor([1,2,3])\n",
        "a == a"
      ],
      "metadata": {
        "colab": {
          "base_uri": "https://localhost:8080/"
        },
        "id": "H0xYBC5hNduD",
        "outputId": "7de90d8d-951e-4291-cec9-82dd11b3f229"
      },
      "id": "H0xYBC5hNduD",
      "execution_count": null,
      "outputs": [
        {
          "output_type": "execute_result",
          "data": {
            "text/plain": [
              "tensor([True, True, True])"
            ]
          },
          "metadata": {},
          "execution_count": 24
        }
      ]
    },
    {
      "cell_type": "code",
      "execution_count": null,
      "id": "98e5e724",
      "metadata": {
        "colab": {
          "base_uri": "https://localhost:8080/"
        },
        "id": "98e5e724",
        "outputId": "c687f3d1-ee4e-4dcb-fcf0-b9cc0de23d49"
      },
      "outputs": [
        {
          "output_type": "stream",
          "name": "stdout",
          "text": [
            "0.010\n"
          ]
        }
      ],
      "source": [
        "a = 0.01\n",
        "print(f\"{a:.3f}\")"
      ]
    },
    {
      "cell_type": "code",
      "execution_count": null,
      "id": "fec32b0b",
      "metadata": {
        "id": "fec32b0b"
      },
      "outputs": [],
      "source": [
        "# check performance\n",
        "import matplotlib.pyplot as plt\n",
        "\n",
        "def plot_loss(train_loss,val_loss,run,ylimit=None,modelname=\"OkaySuperComplexClassicalTransformer\"):\n",
        "  plt.figure(figsize=(12,8))\n",
        "  epochs = np.arange(1/5, (len(train_loss) + 1)/5,1/5)\n",
        "  plt.plot(epochs, train_loss, 'bo', label='Training loss')\n",
        "  plt.plot(epochs, val_loss, 'b', label='Validation loss')\n",
        "  if ylimit:\n",
        "    plt.ylim(ylimit)\n",
        "  plt.xlabel('Epochs')\n",
        "  plt.ylabel('Loss')\n",
        "  plt.title(f\"The Traininga and Validation Loss for {modelname} - Run - {str(run)} - {len(train_loss)//10} Epochs\")\n",
        "  plt.legend()\n",
        "  plt.savefig(\"/content/drive/MyDrive/TransformerPlot/\"+modelname+f\"run{str(run)}.jpg\")\n",
        "  plt.show() "
      ]
    },
    {
      "cell_type": "code",
      "execution_count": null,
      "id": "51680fc8",
      "metadata": {
        "id": "51680fc8"
      },
      "outputs": [],
      "source": [
        ""
      ]
    },
    {
      "cell_type": "markdown",
      "id": "8a4fd9bb",
      "metadata": {
        "id": "8a4fd9bb"
      },
      "source": [
        "# Train! - Complex Transformer"
      ]
    },
    {
      "cell_type": "code",
      "execution_count": null,
      "id": "097360d5",
      "metadata": {
        "colab": {
          "base_uri": "https://localhost:8080/"
        },
        "id": "097360d5",
        "outputId": "cf9b20c1-acf3-4212-8c34-39691a529d36"
      },
      "outputs": [
        {
          "output_type": "stream",
          "name": "stdout",
          "text": [
            "Collecting miditok\n",
            "  Downloading miditok-1.1.9-py3-none-any.whl (60 kB)\n",
            "\u001b[?25l\r\u001b[K     |█████▍                          | 10 kB 27.1 MB/s eta 0:00:01\r\u001b[K     |██████████▉                     | 20 kB 9.5 MB/s eta 0:00:01\r\u001b[K     |████████████████▎               | 30 kB 8.4 MB/s eta 0:00:01\r\u001b[K     |█████████████████████▊          | 40 kB 7.9 MB/s eta 0:00:01\r\u001b[K     |███████████████████████████▏    | 51 kB 4.9 MB/s eta 0:00:01\r\u001b[K     |████████████████████████████████| 60 kB 3.1 MB/s \n",
            "\u001b[?25hRequirement already satisfied: numpy>=1.21 in /usr/local/lib/python3.7/dist-packages (from miditok) (1.21.6)\n",
            "Collecting miditoolkit>=0.1.14\n",
            "  Downloading miditoolkit-0.1.16-py3-none-any.whl (20 kB)\n",
            "Collecting mido>=1.1.16\n",
            "  Downloading mido-1.2.10-py2.py3-none-any.whl (51 kB)\n",
            "\u001b[K     |████████████████████████████████| 51 kB 6.1 MB/s \n",
            "\u001b[?25hInstalling collected packages: mido, miditoolkit, miditok\n",
            "Successfully installed miditok-1.1.9 miditoolkit-0.1.16 mido-1.2.10\n"
          ]
        }
      ],
      "source": [
        "# get vocabulary size\n",
        "!pip install miditok\n",
        "from miditok import REMI, get_midi_programs\n",
        "from miditoolkit import MidiFile\n",
        "tokenizer = REMI()\n",
        "num_vocab = len(tokenizer.vocab)"
      ]
    },
    {
      "cell_type": "code",
      "execution_count": null,
      "id": "41304459",
      "metadata": {
        "colab": {
          "base_uri": "https://localhost:8080/"
        },
        "id": "41304459",
        "outputId": "2ec22f37-de17-4d24-8a35-88bf65bc6120"
      },
      "outputs": [
        {
          "output_type": "execute_result",
          "data": {
            "text/plain": [
              "218"
            ]
          },
          "metadata": {},
          "execution_count": 24
        }
      ],
      "source": [
        "num_vocab"
      ]
    },
    {
      "cell_type": "code",
      "execution_count": null,
      "id": "9c2b8841",
      "metadata": {
        "id": "9c2b8841"
      },
      "outputs": [],
      "source": [
        ""
      ]
    },
    {
      "cell_type": "code",
      "execution_count": null,
      "id": "f5c9b601",
      "metadata": {
        "id": "f5c9b601"
      },
      "outputs": [],
      "source": [
        ""
      ]
    },
    {
      "cell_type": "markdown",
      "id": "1975bd1b",
      "metadata": {
        "id": "1975bd1b"
      },
      "source": [
        "## 5 epochs - 12 layer, 8 head, 2048 ff neurons, 1024 d_model"
      ]
    },
    {
      "cell_type": "code",
      "source": [
        "# initialize model\n",
        "d_model = 1024 # 512\n",
        "N = 12 # num of transformer encoder layers within transformer encoder\n",
        "heads = 8\n",
        "loss_fn = nn.CrossEntropyLoss()\n",
        "src_num_tokens = num_vocab\n",
        "trg_num_tokens = num_vocab\n",
        "\n",
        "\n"
      ],
      "metadata": {
        "id": "4QmM5vStZbmG"
      },
      "id": "4QmM5vStZbmG",
      "execution_count": null,
      "outputs": []
    },
    {
      "cell_type": "code",
      "execution_count": null,
      "id": "26ba856b",
      "metadata": {
        "id": "26ba856b",
        "colab": {
          "base_uri": "https://localhost:8080/"
        },
        "outputId": "ef1cd719-7a47-485a-bcd9-70a136ea98d1"
      },
      "outputs": [
        {
          "output_type": "stream",
          "name": "stdout",
          "text": [
            "Adjusting learning rate of group 0 to 1.0000e-05.\n"
          ]
        }
      ],
      "source": [
        "lr = 1e-5 # learning rate\n",
        "PopTransformer = Transformer(src_num_tokens,trg_num_tokens,d_model,N,heads).cuda()\n",
        "optimizer = torch.optim.Adam(PopTransformer.parameters(),lr=lr)\n",
        "scheduler = torch.optim.lr_scheduler.StepLR(optimizer,1,gamma=0.5,verbose=True)\n",
        "# initializes the parameters with a range of values that stops the singal fading or \n",
        "#  getting too big\n",
        "for p in PopTransformer.parameters():\n",
        "    if p.dim() > 1:\n",
        "        nn.init.xavier_uniform_(p)"
      ]
    },
    {
      "cell_type": "code",
      "execution_count": null,
      "id": "ce84bae3",
      "metadata": {
        "id": "ce84bae3"
      },
      "outputs": [],
      "source": [
        ""
      ]
    },
    {
      "cell_type": "code",
      "execution_count": null,
      "id": "60779c71",
      "metadata": {
        "scrolled": true,
        "colab": {
          "base_uri": "https://localhost:8080/",
          "height": 1000,
          "referenced_widgets": [
            "d6d30d7a4f0849a78242deec91ab5919",
            "563c18c070ad4c7e9626395edd7e5a04",
            "38348075543a4728b4e633920bb87f46",
            "947a7d728b1f4d56bc12abcebe40ebb3",
            "be11b267d7a14ebc93d6c6ec31bb1c64",
            "482ad040e75a40869b2f861810257996",
            "13e8500e769646faa8a542dbe90a0865",
            "5ca3e01a4c914be0b6a3306fc71162c3",
            "e76077494ec04524bf169e57220cb25a",
            "34a46916e8564141887d47fa1d30cc8b",
            "f08543673a064411ac920bde7e0c4b81"
          ]
        },
        "id": "60779c71",
        "outputId": "6721db5f-e5a6-4879-8ee5-189981153c41"
      },
      "outputs": [
        {
          "output_type": "display_data",
          "data": {
            "text/plain": [
              "  0%|          | 0/39845 [00:00<?, ?it/s]"
            ],
            "application/vnd.jupyter.widget-view+json": {
              "version_major": 2,
              "version_minor": 0,
              "model_id": "d6d30d7a4f0849a78242deec91ab5919"
            }
          },
          "metadata": {}
        },
        {
          "output_type": "stream",
          "name": "stdout",
          "text": [
            "EPOCHS  : 1/5 Loss: 3.213402\n",
            "Validation loss: 2.682517\n",
            "\n",
            "EPOCHS  : 1/5 Loss: 2.701506\n",
            "Validation loss: 2.575634\n",
            "\n",
            "EPOCHS  : 1/5 Loss: 2.599140\n",
            "Validation loss: 2.502799\n",
            "\n",
            "EPOCHS  : 1/5 Loss: 2.555038\n",
            "Validation loss: 2.471340\n",
            "\n",
            "EPOCHS  : 1/5 Loss: 2.495333\n",
            "Validation loss: 2.432537\n",
            "\n",
            "EPOCHS  : 1/5 Loss: 2.425821\n",
            "Validation loss: 2.327350\n",
            "\n",
            "EPOCHS  : 1/5 Loss: 2.341032\n",
            "Validation loss: 2.261353\n",
            "\n",
            "EPOCHS  : 1/5 Loss: 2.274053\n",
            "Validation loss: 2.189436\n",
            "\n",
            "EPOCHS  : 1/5 Loss: 2.199707\n",
            "Validation loss: 2.100069\n",
            "\n",
            "EPOCHS  : 1/5 Loss: 2.121704\n",
            "Validation loss: 2.007484\n",
            "\n",
            "Adjusting learning rate of group 0 to 5.0000e-06.\n",
            "EPOCHS  : 2/5 Loss: 2.039721\n",
            "Validation loss: 1.952528\n",
            "\n",
            "EPOCHS  : 2/5 Loss: 2.018278\n",
            "Validation loss: 1.921307\n",
            "\n",
            "EPOCHS  : 2/5 Loss: 2.002812\n",
            "Validation loss: 1.891800\n",
            "\n",
            "EPOCHS  : 2/5 Loss: 1.971902\n",
            "Validation loss: 1.866926\n",
            "\n",
            "EPOCHS  : 2/5 Loss: 1.938856\n",
            "Validation loss: 1.842710\n",
            "\n",
            "EPOCHS  : 2/5 Loss: 1.920505\n",
            "Validation loss: 1.820707\n",
            "\n",
            "EPOCHS  : 2/5 Loss: 1.907598\n",
            "Validation loss: 1.798082\n",
            "\n",
            "EPOCHS  : 2/5 Loss: 1.882661\n",
            "Validation loss: 1.778217\n",
            "\n",
            "EPOCHS  : 2/5 Loss: 1.859002\n",
            "Validation loss: 1.754088\n",
            "\n",
            "EPOCHS  : 2/5 Loss: 1.840277\n",
            "Validation loss: 1.738190\n",
            "\n",
            "Adjusting learning rate of group 0 to 2.5000e-06.\n",
            "EPOCHS  : 3/5 Loss: 1.827781\n",
            "Validation loss: 1.715419\n",
            "\n",
            "EPOCHS  : 3/5 Loss: 1.818280\n",
            "Validation loss: 1.701870\n",
            "\n",
            "EPOCHS  : 3/5 Loss: 1.793663\n",
            "Validation loss: 1.688723\n",
            "\n",
            "EPOCHS  : 3/5 Loss: 1.802969\n",
            "Validation loss: 1.674917\n",
            "\n",
            "EPOCHS  : 3/5 Loss: 1.778045\n",
            "Validation loss: 1.658845\n",
            "\n",
            "EPOCHS  : 3/5 Loss: 1.774238\n",
            "Validation loss: 1.645314\n",
            "\n",
            "EPOCHS  : 3/5 Loss: 1.781633\n",
            "Validation loss: 1.633372\n",
            "\n",
            "EPOCHS  : 3/5 Loss: 1.756919\n",
            "Validation loss: 1.620420\n",
            "\n",
            "EPOCHS  : 3/5 Loss: 1.743989\n",
            "Validation loss: 1.607283\n",
            "\n",
            "EPOCHS  : 3/5 Loss: 1.735422\n",
            "Validation loss: 1.596723\n",
            "\n",
            "Adjusting learning rate of group 0 to 1.2500e-06.\n",
            "EPOCHS  : 4/5 Loss: 1.733218\n",
            "Validation loss: 1.586695\n",
            "\n",
            "EPOCHS  : 4/5 Loss: 1.726826\n",
            "Validation loss: 1.578623\n",
            "\n",
            "EPOCHS  : 4/5 Loss: 1.711479\n",
            "Validation loss: 1.572837\n",
            "\n",
            "EPOCHS  : 4/5 Loss: 1.708524\n",
            "Validation loss: 1.567314\n",
            "\n",
            "EPOCHS  : 4/5 Loss: 1.695544\n",
            "Validation loss: 1.561938\n",
            "\n",
            "EPOCHS  : 4/5 Loss: 1.693485\n",
            "Validation loss: 1.557061\n",
            "\n",
            "EPOCHS  : 4/5 Loss: 1.698105\n",
            "Validation loss: 1.550685\n",
            "\n",
            "EPOCHS  : 4/5 Loss: 1.684706\n",
            "Validation loss: 1.544585\n",
            "\n",
            "EPOCHS  : 4/5 Loss: 1.681553\n",
            "Validation loss: 1.539183\n",
            "\n",
            "EPOCHS  : 4/5 Loss: 1.667235\n",
            "Validation loss: 1.532662\n",
            "\n",
            "Adjusting learning rate of group 0 to 6.2500e-07.\n",
            "EPOCHS  : 5/5 Loss: 1.672024\n",
            "Validation loss: 1.529696\n",
            "\n",
            "EPOCHS  : 5/5 Loss: 1.669255\n",
            "Validation loss: 1.525622\n",
            "\n",
            "EPOCHS  : 5/5 Loss: 1.661700\n",
            "Validation loss: 1.523431\n",
            "\n",
            "EPOCHS  : 5/5 Loss: 1.667508\n",
            "Validation loss: 1.519654\n",
            "\n",
            "EPOCHS  : 5/5 Loss: 1.652131\n",
            "Validation loss: 1.516649\n",
            "\n",
            "EPOCHS  : 5/5 Loss: 1.664871\n",
            "Validation loss: 1.513741\n",
            "\n",
            "EPOCHS  : 5/5 Loss: 1.666877\n",
            "Validation loss: 1.510987\n",
            "\n",
            "EPOCHS  : 5/5 Loss: 1.661093\n",
            "Validation loss: 1.507782\n",
            "\n",
            "EPOCHS  : 5/5 Loss: 1.655958\n",
            "Validation loss: 1.504901\n",
            "\n",
            "EPOCHS  : 5/5 Loss: 1.635875\n",
            "Validation loss: 1.501007\n",
            "\n",
            "Adjusting learning rate of group 0 to 3.1250e-07.\n"
          ]
        }
      ],
      "source": [
        "train_loss, val_loss = train(PopTransformer,train_dataloader,val_dataloader,5,50,\n",
        "      loss_fn,optimizer,'cuda',1,grad_clip=1,scheduler = scheduler,\n",
        "                             num_vocab=num_vocab,kind=\"ModifiedSuperComplexPop\")"
      ]
    },
    {
      "cell_type": "code",
      "execution_count": null,
      "id": "a5637b93",
      "metadata": {
        "id": "a5637b93"
      },
      "outputs": [],
      "source": [
        "np.save(\"/content/drive/MyDrive/TransformerLoss/ModifiedSuperComplexPopTransformer_run1_trainloss.npy\",np.array(train_loss))\n",
        "np.save(\"/content/drive/MyDrive/TransformerLoss/ModifiedSuperComplexPopTransformer_run1_valloss.npy\",np.array(val_loss))"
      ]
    },
    {
      "cell_type": "code",
      "execution_count": null,
      "id": "b1ce6002",
      "metadata": {
        "id": "b1ce6002"
      },
      "outputs": [],
      "source": [
        ""
      ]
    },
    {
      "cell_type": "code",
      "execution_count": null,
      "id": "8ffa4b35",
      "metadata": {
        "id": "8ffa4b35"
      },
      "outputs": [],
      "source": [
        ""
      ]
    },
    {
      "cell_type": "code",
      "source": [
        ""
      ],
      "metadata": {
        "id": "T_8F9HogY0ZD"
      },
      "id": "T_8F9HogY0ZD",
      "execution_count": null,
      "outputs": []
    },
    {
      "cell_type": "code",
      "source": [
        ""
      ],
      "metadata": {
        "id": "Y57UEhyHY0b0"
      },
      "id": "Y57UEhyHY0b0",
      "execution_count": null,
      "outputs": []
    },
    {
      "cell_type": "markdown",
      "source": [
        "## 5 epochs - 16 layer, 16 head, 2048(0.4 dropout) ff neurons, 2048 d_model"
      ],
      "metadata": {
        "id": "HCBFNRujY1UG"
      },
      "id": "HCBFNRujY1UG"
    },
    {
      "cell_type": "code",
      "source": [
        "# initialize model\n",
        "d_model = 1024 # 512\n",
        "N = 12 # num of transformer encoder layers within transformer encoder\n",
        "heads = 8\n",
        "loss_fn = nn.CrossEntropyLoss()\n",
        "src_num_tokens = num_vocab\n",
        "trg_num_tokens = num_vocab\n",
        "\n",
        "\n"
      ],
      "metadata": {
        "id": "s8GBKS2UZdu6"
      },
      "id": "s8GBKS2UZdu6",
      "execution_count": null,
      "outputs": []
    },
    {
      "cell_type": "code",
      "execution_count": null,
      "id": "cde572f1",
      "metadata": {
        "id": "cde572f1",
        "colab": {
          "base_uri": "https://localhost:8080/"
        },
        "outputId": "ee5d547f-a3a0-4c16-878d-62c5474590ee"
      },
      "outputs": [
        {
          "output_type": "stream",
          "name": "stdout",
          "text": [
            "Adjusting learning rate of group 0 to 2.0000e-05.\n"
          ]
        }
      ],
      "source": [
        "lr = 2e-5 # learning rate 2e-5\n",
        "CTransformer = Transformer(src_num_tokens,trg_num_tokens,d_model,N,heads).cuda()\n",
        "optimizer = torch.optim.Adam(CTransformer.parameters(),lr=lr)\n",
        "scheduler = torch.optim.lr_scheduler.StepLR(optimizer,1,gamma=0.1,verbose=True)\n",
        "# initializes the parameters with a range of values that stops the singal fading or \n",
        "#  getting too big\n",
        "for p in CTransformer.parameters():\n",
        "    if p.dim() > 1:\n",
        "        nn.init.xavier_uniform_(p)"
      ]
    },
    {
      "cell_type": "code",
      "execution_count": null,
      "id": "0d6bd1fc",
      "metadata": {
        "id": "0d6bd1fc",
        "colab": {
          "base_uri": "https://localhost:8080/",
          "height": 361,
          "referenced_widgets": [
            "0fc21fe9426b414dadb8702aa7ace588",
            "f81aa83d0ccc41c591e4876fd3d8d63e",
            "09adac385bd848dd829ffdd2bb2ebef8",
            "3cca8b41f6234aa096652cc484a66cda",
            "db8eec2deb3e421d9693d173d1f85101",
            "5716c4dca5324bf5a62ea952a2a7e428",
            "471003f8d7434be283365b88331f44c8",
            "1765656a36ae4e7c98b158e208ed4264",
            "a167b969cd3142168949f5ef943eee83",
            "7e0af772c4c2458ea49c637da960cb0e",
            "6b6866b9090148eda3ed3ebd43a1508f"
          ]
        },
        "outputId": "2af87316-c19a-49b8-b1e3-1a3d0c2ca64b"
      },
      "outputs": [
        {
          "data": {
            "application/vnd.jupyter.widget-view+json": {
              "model_id": "0fc21fe9426b414dadb8702aa7ace588",
              "version_major": 2,
              "version_minor": 0
            },
            "text/plain": [
              "  0%|          | 0/173125 [00:00<?, ?it/s]"
            ]
          },
          "metadata": {},
          "output_type": "display_data"
        },
        {
          "metadata": {
            "tags": null
          },
          "name": "stdout",
          "output_type": "stream",
          "text": [
            "EPOCHS  : 1/5 Loss: 2.823149\n",
            "Validation loss: 2.481675\n",
            "\n",
            "EPOCHS  : 1/5 Loss: 2.409618\n",
            "Validation loss: 2.239798\n",
            "\n",
            "EPOCHS  : 1/5 Loss: 2.146070\n",
            "Validation loss: 1.976778\n",
            "\n",
            "EPOCHS  : 1/5 Loss: 1.909609\n",
            "Validation loss: 1.731717\n",
            "\n",
            "EPOCHS  : 1/5 Loss: 1.688751\n",
            "Validation loss: 1.477983\n",
            "\n",
            "EPOCHS  : 1/5 Loss: 1.514890\n",
            "Validation loss: 1.325345\n",
            "\n"
          ]
        }
      ],
      "source": [
        "train_loss, val_loss = train(CTransformer,train_dataloader,val_dataloader,5,100,\n",
        "      loss_fn,optimizer,'cuda',1,grad_clip=1,scheduler = scheduler,\n",
        "                             num_vocab=num_vocab,kind=\"SuperSuperComplexClassical\")"
      ]
    },
    {
      "cell_type": "code",
      "source": [
        "CTransformer.load_state_dict(torch.load(\"/content/drive/MyDrive/TransformerWeights/SuperSuperComplexClassicalTransformer-run-1-val_loss_BEST.pth\"))"
      ],
      "metadata": {
        "colab": {
          "base_uri": "https://localhost:8080/"
        },
        "id": "DaA4i5_XVqSf",
        "outputId": "3aadd43a-87b1-4396-ea10-95e2627a8488"
      },
      "id": "DaA4i5_XVqSf",
      "execution_count": null,
      "outputs": [
        {
          "output_type": "execute_result",
          "data": {
            "text/plain": [
              "<All keys matched successfully>"
            ]
          },
          "metadata": {},
          "execution_count": 30
        }
      ]
    },
    {
      "cell_type": "code",
      "source": [
        "train_loss, val_loss = train(CTransformer,train_dataloader,val_dataloader,2,40,\n",
        "      loss_fn,optimizer,'cuda',2,grad_clip=1,scheduler = scheduler,\n",
        "                             num_vocab=num_vocab,kind=\"SuperSuperComplexClassical\")"
      ],
      "metadata": {
        "colab": {
          "base_uri": "https://localhost:8080/",
          "height": 1000,
          "referenced_widgets": [
            "a01a6ce3b4b449058fed3f4d8fda8679",
            "64d10c63d00644149b6996ade4ad53ee",
            "f268025380544f86ae6f56a7df5908fa",
            "503b3cfb9cb0496fa6192412b158c831",
            "d175cd0788f544098dec3a179b8f11c2",
            "7f542a11cc634a4d9e5c11e777ed2f03",
            "d64047dd2b7542bbbd6d984e7dbfb923",
            "c45efc192b164668811df973a061381c",
            "70c0699e8de746c18d97524f4997a6cf",
            "4d16b51d064d4801b5e2213b4374d20e",
            "37aafc0341ab43369f494ca88b7bee85"
          ]
        },
        "id": "Ee1iBri4TivN",
        "outputId": "364eee6e-a276-46ba-940e-3eb6cdc03c16"
      },
      "id": "Ee1iBri4TivN",
      "execution_count": null,
      "outputs": [
        {
          "data": {
            "application/vnd.jupyter.widget-view+json": {
              "model_id": "a01a6ce3b4b449058fed3f4d8fda8679",
              "version_major": 2,
              "version_minor": 0
            },
            "text/plain": [
              "  0%|          | 0/69250 [00:00<?, ?it/s]"
            ]
          },
          "metadata": {},
          "output_type": "display_data"
        },
        {
          "output_type": "stream",
          "name": "stdout",
          "text": [
            "EPOCHS  : 1/2 Loss: 1.379033\n",
            "Validation loss: 1.170059\n",
            "\n",
            "EPOCHS  : 1/2 Loss: 1.231062\n",
            "Validation loss: 0.952868\n",
            "\n",
            "EPOCHS  : 1/2 Loss: 1.022811\n",
            "Validation loss: 0.707357\n",
            "\n",
            "EPOCHS  : 1/2 Loss: 0.810231\n",
            "Validation loss: 0.471254\n",
            "\n",
            "EPOCHS  : 1/2 Loss: 0.613951\n",
            "Validation loss: 0.286227\n",
            "\n",
            "EPOCHS  : 1/2 Loss: 0.441524\n",
            "Validation loss: 0.149026\n",
            "\n",
            "EPOCHS  : 1/2 Loss: 0.310301\n",
            "Validation loss: 0.075552\n",
            "\n",
            "EPOCHS  : 1/2 Loss: 0.218888\n",
            "Validation loss: 0.036703\n",
            "\n",
            "EPOCHS  : 1/2 Loss: 0.123998\n",
            "Validation loss: 0.011464\n",
            "\n",
            "EPOCHS  : 1/2 Loss: 0.059971\n",
            "Validation loss: 0.006828\n",
            "\n",
            "EPOCHS  : 1/2 Loss: 0.035978\n",
            "Validation loss: 0.005038\n",
            "\n",
            "EPOCHS  : 1/2 Loss: 0.024246\n",
            "Validation loss: 0.004264\n",
            "\n",
            "EPOCHS  : 1/2 Loss: 0.018229\n",
            "Validation loss: 0.003904\n",
            "\n",
            "EPOCHS  : 1/2 Loss: 0.013697\n",
            "Validation loss: 0.003686\n",
            "\n",
            "EPOCHS  : 1/2 Loss: 0.010594\n",
            "Validation loss: 0.003389\n",
            "\n",
            "EPOCHS  : 1/2 Loss: 0.008440\n",
            "Validation loss: 0.003073\n",
            "\n",
            "EPOCHS  : 1/2 Loss: 0.006945\n",
            "Validation loss: 0.002946\n",
            "\n",
            "EPOCHS  : 1/2 Loss: 0.006118\n",
            "Validation loss: 0.002963\n",
            "\n",
            "EPOCHS  : 1/2 Loss: 0.005502\n",
            "Validation loss: 0.002891\n",
            "\n",
            "EPOCHS  : 1/2 Loss: 0.005238\n",
            "Validation loss: 0.002756\n",
            "\n",
            "EPOCHS  : 2/2 Loss: 0.004771\n",
            "Validation loss: 0.002698\n",
            "\n",
            "EPOCHS  : 2/2 Loss: 0.004547\n",
            "Validation loss: 0.002614\n",
            "\n",
            "EPOCHS  : 2/2 Loss: 0.004341\n",
            "Validation loss: 0.002570\n",
            "\n",
            "EPOCHS  : 2/2 Loss: 0.004180\n",
            "Validation loss: 0.002546\n",
            "\n",
            "EPOCHS  : 2/2 Loss: 0.004077\n",
            "Validation loss: 0.002564\n",
            "\n",
            "EPOCHS  : 2/2 Loss: 0.003913\n",
            "Validation loss: 0.002539\n",
            "\n",
            "EPOCHS  : 2/2 Loss: 0.003700\n",
            "Validation loss: 0.002384\n",
            "\n",
            "EPOCHS  : 2/2 Loss: 0.003663\n",
            "Validation loss: 0.002461\n",
            "\n",
            "EPOCHS  : 2/2 Loss: 0.003456\n",
            "Validation loss: 0.002390\n",
            "\n",
            "EPOCHS  : 2/2 Loss: 0.003440\n",
            "Validation loss: 0.002374\n",
            "\n",
            "EPOCHS  : 2/2 Loss: 0.003353\n",
            "Validation loss: 0.002444\n",
            "\n",
            "EPOCHS  : 2/2 Loss: 0.003306\n",
            "Validation loss: 0.002440\n",
            "\n",
            "EPOCHS  : 2/2 Loss: 0.003215\n",
            "Validation loss: 0.002399\n",
            "\n",
            "EPOCHS  : 2/2 Loss: 0.003115\n",
            "Validation loss: 0.002431\n",
            "\n",
            "EPOCHS  : 2/2 Loss: 0.003091\n",
            "Validation loss: 0.002391\n",
            "\n",
            "EPOCHS  : 2/2 Loss: 0.003032\n",
            "Validation loss: 0.002303\n",
            "\n",
            "EPOCHS  : 2/2 Loss: 0.002992\n",
            "Validation loss: 0.002360\n",
            "\n",
            "EPOCHS  : 2/2 Loss: 0.002918\n",
            "Validation loss: 0.002276\n",
            "\n",
            "EPOCHS  : 2/2 Loss: 0.002903\n",
            "Validation loss: 0.002328\n",
            "\n",
            "EPOCHS  : 2/2 Loss: 0.002876\n",
            "Validation loss: 0.002236\n",
            "\n"
          ]
        }
      ]
    },
    {
      "cell_type": "code",
      "execution_count": null,
      "id": "455e043c",
      "metadata": {
        "id": "455e043c"
      },
      "outputs": [],
      "source": [
        "np.save(\"/content/drive/MyDrive/TransformerLoss/SuperSuperComplexPopTransformer_run2_trainloss.npy\",np.array(train_loss))\n",
        "np.save(\"/content/drive/MyDrive/TransformerLoss/SuperSuperComplexPopTransformer_run2_valloss.npy\",np.array(val_loss))"
      ]
    },
    {
      "cell_type": "code",
      "execution_count": null,
      "id": "efd2d0ed",
      "metadata": {
        "id": "efd2d0ed",
        "colab": {
          "base_uri": "https://localhost:8080/",
          "height": 513
        },
        "outputId": "b16be489-0acf-4d91-e0e8-dcd22af12848"
      },
      "outputs": [
        {
          "output_type": "display_data",
          "data": {
            "text/plain": [
              "<Figure size 864x576 with 1 Axes>"
            ],
            "image/png": "[encoded data removed]"
          },
          "metadata": {
            "needs_background": "light"
          }
        }
      ],
      "source": [
        "plot_loss(train_loss,val_loss,2,ylimit=None,modelname=\"SuperSuperComplexClassicalTransformer\")"
      ]
    },
    {
      "cell_type": "code",
      "execution_count": null,
      "id": "6d934691",
      "metadata": {
        "id": "6d934691",
        "colab": {
          "base_uri": "https://localhost:8080/",
          "height": 513
        },
        "outputId": "9f7cbced-ca52-439d-d22f-870798fb1064"
      },
      "outputs": [
        {
          "output_type": "display_data",
          "data": {
            "text/plain": [
              "<Figure size 864x576 with 1 Axes>"
            ],
            "image/png": "[encoded data removed]"
          },
          "metadata": {
            "needs_background": "light"
          }
        }
      ],
      "source": [
        "plot_loss(train_loss,val_loss,2,ylimit=[0,0.1],modelname=\"SuperSuperComplexClassicalTransformer\")"
      ]
    },
    {
      "cell_type": "code",
      "execution_count": null,
      "id": "083f5ef7",
      "metadata": {
        "id": "083f5ef7"
      },
      "outputs": [],
      "source": [
        ""
      ]
    },
    {
      "cell_type": "code",
      "source": [
        ""
      ],
      "metadata": {
        "id": "d1Pupvennd4T"
      },
      "id": "d1Pupvennd4T",
      "execution_count": null,
      "outputs": []
    },
    {
      "cell_type": "code",
      "source": [
        "train_loss, val_loss = train(CTransformer,train_dataloader,val_dataloader,2,20,\n",
        "      loss_fn,optimizer,'cuda',1,grad_clip=1,scheduler = scheduler,\n",
        "                             num_vocab=num_vocab,kind=\"FinestComplexPop\")"
      ],
      "metadata": {
        "colab": {
          "base_uri": "https://localhost:8080/",
          "height": 933,
          "referenced_widgets": [
            "9ec0839f6f3d472caa0285fd81d69c21",
            "fd3ea067b5e241bbb1c1414ef12d2b6d",
            "1e95de8bc95b4162bfb16e135dbdaf2e",
            "02aae92e07c54d8e8554103c3da71241",
            "3953e1d4885e4991a10c4c6600c48eea",
            "f03aac4063914ed2838d757040cd718d",
            "b1c795a3cf9e4e77bdb5fdd2084c8767",
            "41b0b66e144e481aaa5c2ba11d54ba5f",
            "d6b6103360f441969018fc8fa6cc935e",
            "61640fd947464081a4a88effe78e3448",
            "83c861368ab24a5f89f2d184fada1cf9"
          ]
        },
        "id": "aK96Hrymnd7h",
        "outputId": "710000f7-d2bb-4c39-9ff5-39582de6983e"
      },
      "id": "aK96Hrymnd7h",
      "execution_count": null,
      "outputs": [
        {
          "data": {
            "application/vnd.jupyter.widget-view+json": {
              "model_id": "9ec0839f6f3d472caa0285fd81d69c21",
              "version_major": 2,
              "version_minor": 0
            },
            "text/plain": [
              "  0%|          | 0/114022 [00:00<?, ?it/s]"
            ]
          },
          "metadata": {},
          "output_type": "display_data"
        },
        {
          "output_type": "stream",
          "name": "stdout",
          "text": [
            "EPOCHS  : 1/2 Loss: 2.819567\n",
            "Validation loss: 2.273425\n",
            "\n",
            "EPOCHS  : 1/2 Loss: 2.048602\n",
            "Validation loss: 1.037932\n",
            "\n",
            "EPOCHS  : 1/2 Loss: 0.556976\n",
            "Validation loss: 0.010790\n",
            "\n",
            "EPOCHS  : 1/2 Loss: 0.064860\n",
            "Validation loss: 0.004116\n",
            "\n",
            "EPOCHS  : 1/2 Loss: 0.015999\n",
            "Validation loss: 0.003391\n",
            "\n",
            "EPOCHS  : 1/2 Loss: 0.009558\n",
            "Validation loss: 0.003197\n",
            "\n",
            "EPOCHS  : 1/2 Loss: 0.007407\n",
            "Validation loss: 0.003076\n",
            "\n",
            "EPOCHS  : 1/2 Loss: 0.006239\n",
            "Validation loss: 0.003067\n",
            "\n",
            "EPOCHS  : 1/2 Loss: 0.005573\n",
            "Validation loss: 0.002996\n",
            "\n",
            "EPOCHS  : 1/2 Loss: 0.005086\n",
            "Validation loss: 0.002931\n",
            "\n",
            "Adjusting learning rate of group 0 to 1.0000e-06.\n"
          ]
        },
        {
          "output_type": "error",
          "ename": "KeyboardInterrupt",
          "evalue": "ignored",
          "traceback": [
            "\u001b[0;31m---------------------------------------------------------------------------\u001b[0m",
            "\u001b[0;31mKeyboardInterrupt\u001b[0m                         Traceback (most recent call last)",
            "\u001b[0;32m<ipython-input-26-c30c746d7f81>\u001b[0m in \u001b[0;36m<module>\u001b[0;34m()\u001b[0m\n\u001b[1;32m      1\u001b[0m train_loss, val_loss = train(CTransformer,train_dataloader,val_dataloader,2,20,\n\u001b[1;32m      2\u001b[0m       \u001b[0mloss_fn\u001b[0m\u001b[0;34m,\u001b[0m\u001b[0moptimizer\u001b[0m\u001b[0;34m,\u001b[0m\u001b[0;34m'cuda'\u001b[0m\u001b[0;34m,\u001b[0m\u001b[0;36m1\u001b[0m\u001b[0;34m,\u001b[0m\u001b[0mgrad_clip\u001b[0m\u001b[0;34m=\u001b[0m\u001b[0;36m1\u001b[0m\u001b[0;34m,\u001b[0m\u001b[0mscheduler\u001b[0m \u001b[0;34m=\u001b[0m \u001b[0mscheduler\u001b[0m\u001b[0;34m,\u001b[0m\u001b[0;34m\u001b[0m\u001b[0;34m\u001b[0m\u001b[0m\n\u001b[0;32m----> 3\u001b[0;31m                              num_vocab=num_vocab,kind=\"FinestComplexPop\")\n\u001b[0m",
            "\u001b[0;32m<ipython-input-20-261ae1359e6a>\u001b[0m in \u001b[0;36mtrain\u001b[0;34m(model, train_dataloader, val_dataloader, ep, print_frequency, loss_fn, optimizer, device, run, grad_clip, scheduler, num_vocab, kind)\u001b[0m\n\u001b[1;32m     32\u001b[0m             \u001b[0mcurrent_loss\u001b[0m \u001b[0;34m+=\u001b[0m \u001b[0mloss\u001b[0m\u001b[0;34m.\u001b[0m\u001b[0mitem\u001b[0m\u001b[0;34m(\u001b[0m\u001b[0;34m)\u001b[0m\u001b[0;34m\u001b[0m\u001b[0;34m\u001b[0m\u001b[0m\n\u001b[1;32m     33\u001b[0m \u001b[0;34m\u001b[0m\u001b[0m\n\u001b[0;32m---> 34\u001b[0;31m             \u001b[0mloss\u001b[0m\u001b[0;34m.\u001b[0m\u001b[0mbackward\u001b[0m\u001b[0;34m(\u001b[0m\u001b[0;34m)\u001b[0m\u001b[0;34m\u001b[0m\u001b[0;34m\u001b[0m\u001b[0m\n\u001b[0m\u001b[1;32m     35\u001b[0m             \u001b[0mtorch\u001b[0m\u001b[0;34m.\u001b[0m\u001b[0mnn\u001b[0m\u001b[0;34m.\u001b[0m\u001b[0mutils\u001b[0m\u001b[0;34m.\u001b[0m\u001b[0mclip_grad_norm_\u001b[0m\u001b[0;34m(\u001b[0m\u001b[0mmodel\u001b[0m\u001b[0;34m.\u001b[0m\u001b[0mparameters\u001b[0m\u001b[0;34m(\u001b[0m\u001b[0;34m)\u001b[0m\u001b[0;34m,\u001b[0m\u001b[0mgrad_clip\u001b[0m\u001b[0;34m)\u001b[0m\u001b[0;34m\u001b[0m\u001b[0;34m\u001b[0m\u001b[0m\n\u001b[1;32m     36\u001b[0m             \u001b[0moptimizer\u001b[0m\u001b[0;34m.\u001b[0m\u001b[0mstep\u001b[0m\u001b[0;34m(\u001b[0m\u001b[0;34m)\u001b[0m\u001b[0;34m\u001b[0m\u001b[0;34m\u001b[0m\u001b[0m\n",
            "\u001b[0;32m/usr/local/lib/python3.7/dist-packages/torch/_tensor.py\u001b[0m in \u001b[0;36mbackward\u001b[0;34m(self, gradient, retain_graph, create_graph, inputs)\u001b[0m\n\u001b[1;32m    361\u001b[0m                 \u001b[0mcreate_graph\u001b[0m\u001b[0;34m=\u001b[0m\u001b[0mcreate_graph\u001b[0m\u001b[0;34m,\u001b[0m\u001b[0;34m\u001b[0m\u001b[0;34m\u001b[0m\u001b[0m\n\u001b[1;32m    362\u001b[0m                 inputs=inputs)\n\u001b[0;32m--> 363\u001b[0;31m         \u001b[0mtorch\u001b[0m\u001b[0;34m.\u001b[0m\u001b[0mautograd\u001b[0m\u001b[0;34m.\u001b[0m\u001b[0mbackward\u001b[0m\u001b[0;34m(\u001b[0m\u001b[0mself\u001b[0m\u001b[0;34m,\u001b[0m \u001b[0mgradient\u001b[0m\u001b[0;34m,\u001b[0m \u001b[0mretain_graph\u001b[0m\u001b[0;34m,\u001b[0m \u001b[0mcreate_graph\u001b[0m\u001b[0;34m,\u001b[0m \u001b[0minputs\u001b[0m\u001b[0;34m=\u001b[0m\u001b[0minputs\u001b[0m\u001b[0;34m)\u001b[0m\u001b[0;34m\u001b[0m\u001b[0;34m\u001b[0m\u001b[0m\n\u001b[0m\u001b[1;32m    364\u001b[0m \u001b[0;34m\u001b[0m\u001b[0m\n\u001b[1;32m    365\u001b[0m     \u001b[0;32mdef\u001b[0m \u001b[0mregister_hook\u001b[0m\u001b[0;34m(\u001b[0m\u001b[0mself\u001b[0m\u001b[0;34m,\u001b[0m \u001b[0mhook\u001b[0m\u001b[0;34m)\u001b[0m\u001b[0;34m:\u001b[0m\u001b[0;34m\u001b[0m\u001b[0;34m\u001b[0m\u001b[0m\n",
            "\u001b[0;32m/usr/local/lib/python3.7/dist-packages/torch/autograd/__init__.py\u001b[0m in \u001b[0;36mbackward\u001b[0;34m(tensors, grad_tensors, retain_graph, create_graph, grad_variables, inputs)\u001b[0m\n\u001b[1;32m    173\u001b[0m     Variable._execution_engine.run_backward(  # Calls into the C++ engine to run the backward pass\n\u001b[1;32m    174\u001b[0m         \u001b[0mtensors\u001b[0m\u001b[0;34m,\u001b[0m \u001b[0mgrad_tensors_\u001b[0m\u001b[0;34m,\u001b[0m \u001b[0mretain_graph\u001b[0m\u001b[0;34m,\u001b[0m \u001b[0mcreate_graph\u001b[0m\u001b[0;34m,\u001b[0m \u001b[0minputs\u001b[0m\u001b[0;34m,\u001b[0m\u001b[0;34m\u001b[0m\u001b[0;34m\u001b[0m\u001b[0m\n\u001b[0;32m--> 175\u001b[0;31m         allow_unreachable=True, accumulate_grad=True)  # Calls into the C++ engine to run the backward pass\n\u001b[0m\u001b[1;32m    176\u001b[0m \u001b[0;34m\u001b[0m\u001b[0m\n\u001b[1;32m    177\u001b[0m def grad(\n",
            "\u001b[0;31mKeyboardInterrupt\u001b[0m: "
          ]
        }
      ]
    },
    {
      "cell_type": "code",
      "source": [
        "np.save(\"/content/drive/MyDrive/TransformerLoss/PredictiveComplexPopTransformer_run1_trainloss.npy\",np.array(train_loss))\n",
        "np.save(\"/content/drive/MyDrive/TransformerLoss/PredictiveComplexPopTransformer_run1_valloss.npy\",np.array(val_loss))"
      ],
      "metadata": {
        "id": "FEIO6LUJnd-j"
      },
      "id": "FEIO6LUJnd-j",
      "execution_count": null,
      "outputs": []
    },
    {
      "cell_type": "code",
      "source": [
        ""
      ],
      "metadata": {
        "id": "HrmI5m2wVLzs"
      },
      "id": "HrmI5m2wVLzs",
      "execution_count": null,
      "outputs": []
    },
    {
      "cell_type": "code",
      "source": [
        "CTransformer.load_state_dict(torch.load(\"/content/drive/MyDrive/TransformerWeights/SecondFinestComplexPopTransformer-run-1-val_loss_0.64.pth\"))"
      ],
      "metadata": {
        "colab": {
          "base_uri": "https://localhost:8080/"
        },
        "id": "ZTIH9uqKhu57",
        "outputId": "6816723b-c931-4b71-c2da-e79f02c7447b"
      },
      "id": "ZTIH9uqKhu57",
      "execution_count": null,
      "outputs": [
        {
          "output_type": "execute_result",
          "data": {
            "text/plain": [
              "<All keys matched successfully>"
            ]
          },
          "metadata": {},
          "execution_count": 26
        }
      ]
    },
    {
      "cell_type": "code",
      "source": [
        "train_loss, val_loss = train(CTransformer,train_dataloader,val_dataloader,1,50,\n",
        "      loss_fn,optimizer,'cuda',3,grad_clip=1,scheduler = scheduler,\n",
        "                             num_vocab=num_vocab,kind=\"SecondFinestComplexPop\")"
      ],
      "metadata": {
        "id": "9uY0fRhDneEa",
        "colab": {
          "base_uri": "https://localhost:8080/",
          "height": 527,
          "referenced_widgets": [
            "14e5b0fa0ef043c79b14cfaaf130e536",
            "1f57006e3fa6451c89af39ded125df35",
            "108258cdc20e4791bbd6bd950de89616",
            "b90cdde350e24b61aff2b0de48c59d93",
            "8646cd13ec3e49d092d974cac8d4dda6",
            "b01ecbf12c9e46f4a4676f1ff287cae1",
            "3c49cec5e65649408fd4626d09b5ef36",
            "0ca2b2a06fa949cca13d40bd28ddb9d3",
            "eebdf980a3644c64b74f77772a36a893",
            "2289c8abf6c248159fb0687c35b8ffc5",
            "1e8366f787e840f6903fed19450c6a04"
          ]
        },
        "outputId": "d9334530-53dd-4cc1-84a9-ad064abb9dd5"
      },
      "id": "9uY0fRhDneEa",
      "execution_count": null,
      "outputs": [
        {
          "output_type": "display_data",
          "data": {
            "text/plain": [
              "  0%|          | 0/167711 [00:00<?, ?it/s]"
            ],
            "application/vnd.jupyter.widget-view+json": {
              "version_major": 2,
              "version_minor": 0,
              "model_id": "14e5b0fa0ef043c79b14cfaaf130e536"
            }
          },
          "metadata": {}
        },
        {
          "output_type": "stream",
          "name": "stdout",
          "text": [
            "EPOCHS  : 1/1 Loss: 3.306877\n",
            "Validation loss: 2.941658\n",
            "\n",
            "EPOCHS  : 1/1 Loss: 2.991991\n",
            "Validation loss: 2.889391\n",
            "\n",
            "EPOCHS  : 1/1 Loss: 2.943952\n",
            "Validation loss: 2.860484\n",
            "\n"
          ]
        },
        {
          "output_type": "error",
          "ename": "KeyboardInterrupt",
          "evalue": "ignored",
          "traceback": [
            "\u001b[0;31m---------------------------------------------------------------------------\u001b[0m",
            "\u001b[0;31mKeyboardInterrupt\u001b[0m                         Traceback (most recent call last)",
            "\u001b[0;32m<ipython-input-25-7234e92e9a1d>\u001b[0m in \u001b[0;36m<module>\u001b[0;34m()\u001b[0m\n\u001b[1;32m      1\u001b[0m train_loss, val_loss = train(CTransformer,train_dataloader,val_dataloader,1,50,\n\u001b[1;32m      2\u001b[0m       \u001b[0mloss_fn\u001b[0m\u001b[0;34m,\u001b[0m\u001b[0moptimizer\u001b[0m\u001b[0;34m,\u001b[0m\u001b[0;34m'cuda'\u001b[0m\u001b[0;34m,\u001b[0m\u001b[0;36m3\u001b[0m\u001b[0;34m,\u001b[0m\u001b[0mgrad_clip\u001b[0m\u001b[0;34m=\u001b[0m\u001b[0;36m1\u001b[0m\u001b[0;34m,\u001b[0m\u001b[0mscheduler\u001b[0m \u001b[0;34m=\u001b[0m \u001b[0mscheduler\u001b[0m\u001b[0;34m,\u001b[0m\u001b[0;34m\u001b[0m\u001b[0;34m\u001b[0m\u001b[0m\n\u001b[0;32m----> 3\u001b[0;31m                              num_vocab=num_vocab,kind=\"SecondFinestComplexPop\")\n\u001b[0m",
            "\u001b[0;32m<ipython-input-20-29a97d370284>\u001b[0m in \u001b[0;36mtrain\u001b[0;34m(model, train_dataloader, val_dataloader, ep, print_frequency, loss_fn, optimizer, device, run, grad_clip, scheduler, num_vocab, kind)\u001b[0m\n\u001b[1;32m     30\u001b[0m             \u001b[0moutput_flatten\u001b[0m \u001b[0;34m=\u001b[0m \u001b[0moutput\u001b[0m\u001b[0;34m.\u001b[0m\u001b[0mview\u001b[0m\u001b[0;34m(\u001b[0m\u001b[0;34m-\u001b[0m\u001b[0;36m1\u001b[0m\u001b[0;34m,\u001b[0m\u001b[0mnum_vocab\u001b[0m\u001b[0;34m)\u001b[0m\u001b[0;34m\u001b[0m\u001b[0;34m\u001b[0m\u001b[0m\n\u001b[1;32m     31\u001b[0m             \u001b[0mloss\u001b[0m \u001b[0;34m=\u001b[0m \u001b[0mloss_fn\u001b[0m\u001b[0;34m(\u001b[0m\u001b[0moutput_flatten\u001b[0m\u001b[0;34m,\u001b[0m\u001b[0moutput_seq\u001b[0m\u001b[0;34m.\u001b[0m\u001b[0mview\u001b[0m\u001b[0;34m(\u001b[0m\u001b[0;34m-\u001b[0m\u001b[0;36m1\u001b[0m\u001b[0;34m)\u001b[0m\u001b[0;34m)\u001b[0m\u001b[0;34m\u001b[0m\u001b[0;34m\u001b[0m\u001b[0m\n\u001b[0;32m---> 32\u001b[0;31m             \u001b[0mcurrent_loss\u001b[0m \u001b[0;34m+=\u001b[0m \u001b[0mloss\u001b[0m\u001b[0;34m.\u001b[0m\u001b[0mitem\u001b[0m\u001b[0;34m(\u001b[0m\u001b[0;34m)\u001b[0m\u001b[0;34m\u001b[0m\u001b[0;34m\u001b[0m\u001b[0m\n\u001b[0m\u001b[1;32m     33\u001b[0m \u001b[0;34m\u001b[0m\u001b[0m\n\u001b[1;32m     34\u001b[0m             \u001b[0mloss\u001b[0m\u001b[0;34m.\u001b[0m\u001b[0mbackward\u001b[0m\u001b[0;34m(\u001b[0m\u001b[0;34m)\u001b[0m\u001b[0;34m\u001b[0m\u001b[0;34m\u001b[0m\u001b[0m\n",
            "\u001b[0;31mKeyboardInterrupt\u001b[0m: "
          ]
        }
      ]
    },
    {
      "cell_type": "code",
      "source": [
        "train_loss, val_loss = train(CTransformer,train_dataloader,val_dataloader,1,50,\n",
        "      loss_fn,optimizer,'cuda',3,grad_clip=1,scheduler = scheduler,\n",
        "                             num_vocab=num_vocab,kind=\"SecondFinestComplexPop\")"
      ],
      "metadata": {
        "colab": {
          "base_uri": "https://localhost:8080/",
          "height": 1000,
          "referenced_widgets": [
            "86824c59785f4962bfb96c2a09055c43",
            "f420d5ea9bc14c6ebf013f64eff21353",
            "dc3062adf5674232860a793a5b89de2c",
            "848c065501ef4ab9bdcdbbe611b3c2f7",
            "dc2463a7274346dbb062f5dae472c9ac",
            "2e7b0b54232a40e390f5722a452c944f",
            "607ff4ed289846ce97561f59599a1520",
            "457d6163dabe48b9b449b11cc91f9b38",
            "98c156efe839477684d8541208d4ddfd",
            "738ac5248b564e35988f4ad906673100",
            "27e0d28df818453cab6db7219ea00cf3"
          ]
        },
        "id": "hNAdXSH9mDMl",
        "outputId": "04d9a8a3-7628-497b-8cc2-aac19d707186"
      },
      "id": "hNAdXSH9mDMl",
      "execution_count": null,
      "outputs": [
        {
          "output_type": "display_data",
          "data": {
            "text/plain": [
              "  0%|          | 0/167711 [00:00<?, ?it/s]"
            ],
            "application/vnd.jupyter.widget-view+json": {
              "version_major": 2,
              "version_minor": 0,
              "model_id": "86824c59785f4962bfb96c2a09055c43"
            }
          },
          "metadata": {}
        },
        {
          "output_type": "stream",
          "name": "stdout",
          "text": [
            "EPOCHS  : 1/1 Loss: 3.056611\n",
            "Validation loss: 2.859165\n",
            "\n",
            "EPOCHS  : 1/1 Loss: 2.816294\n",
            "Validation loss: 2.631329\n",
            "\n",
            "EPOCHS  : 1/1 Loss: 2.646565\n",
            "Validation loss: 2.458885\n",
            "\n",
            "EPOCHS  : 1/1 Loss: 2.467681\n",
            "Validation loss: 2.151442\n",
            "\n",
            "EPOCHS  : 1/1 Loss: 2.074740\n",
            "Validation loss: 0.933395\n",
            "\n",
            "EPOCHS  : 1/1 Loss: 1.156832\n",
            "Validation loss: 0.302369\n",
            "\n",
            "EPOCHS  : 1/1 Loss: 0.707825\n",
            "Validation loss: 0.110569\n",
            "\n",
            "EPOCHS  : 1/1 Loss: 0.422203\n",
            "Validation loss: 0.024984\n",
            "\n",
            "EPOCHS  : 1/1 Loss: 0.202679\n",
            "Validation loss: 0.006105\n",
            "\n",
            "EPOCHS  : 1/1 Loss: 0.084802\n",
            "Validation loss: 0.003173\n",
            "\n",
            "EPOCHS  : 1/1 Loss: 0.047013\n",
            "Validation loss: 0.002543\n",
            "\n",
            "EPOCHS  : 1/1 Loss: 0.029947\n",
            "Validation loss: 0.002286\n",
            "\n",
            "EPOCHS  : 1/1 Loss: 0.020954\n",
            "Validation loss: 0.002063\n",
            "\n",
            "EPOCHS  : 1/1 Loss: 0.015915\n",
            "Validation loss: 0.001966\n",
            "\n",
            "EPOCHS  : 1/1 Loss: 0.012849\n",
            "Validation loss: 0.001886\n",
            "\n",
            "EPOCHS  : 1/1 Loss: 0.010533\n",
            "Validation loss: 0.001801\n",
            "\n",
            "EPOCHS  : 1/1 Loss: 0.008829\n",
            "Validation loss: 0.001750\n",
            "\n",
            "EPOCHS  : 1/1 Loss: 0.007438\n",
            "Validation loss: 0.001694\n",
            "\n",
            "EPOCHS  : 1/1 Loss: 0.006588\n",
            "Validation loss: 0.001726\n",
            "\n",
            "EPOCHS  : 1/1 Loss: 0.005942\n",
            "Validation loss: 0.001695\n",
            "\n",
            "EPOCHS  : 1/1 Loss: 0.005315\n",
            "Validation loss: 0.001689\n",
            "\n",
            "EPOCHS  : 1/1 Loss: 0.004886\n",
            "Validation loss: 0.001630\n",
            "\n",
            "EPOCHS  : 1/1 Loss: 0.004556\n",
            "Validation loss: 0.001589\n",
            "\n",
            "EPOCHS  : 1/1 Loss: 0.004228\n",
            "Validation loss: 0.001627\n",
            "\n",
            "EPOCHS  : 1/1 Loss: 0.004076\n",
            "Validation loss: 0.001574\n",
            "\n",
            "EPOCHS  : 1/1 Loss: 0.003793\n",
            "Validation loss: 0.001549\n",
            "\n",
            "EPOCHS  : 1/1 Loss: 0.003670\n",
            "Validation loss: 0.001558\n",
            "\n"
          ]
        }
      ]
    },
    {
      "cell_type": "code",
      "source": [
        "np.save(\"/content/drive/MyDrive/TransformerLoss/SecondFinestComplexPopTransformer_run1_trainloss.npy\",np.array(train_loss))\n",
        "np.save(\"/content/drive/MyDrive/TransformerLoss/SecondFinestComplexPopTransformer_run1_valloss.npy\",np.array(val_loss))"
      ],
      "metadata": {
        "id": "SD9ZLkMGOtJm"
      },
      "id": "SD9ZLkMGOtJm",
      "execution_count": null,
      "outputs": []
    },
    {
      "cell_type": "code",
      "source": [
        ""
      ],
      "metadata": {
        "id": "89t-xh3zOtMj"
      },
      "id": "89t-xh3zOtMj",
      "execution_count": null,
      "outputs": []
    },
    {
      "cell_type": "code",
      "source": [
        ""
      ],
      "metadata": {
        "id": "3E-yy1PGOh7Y"
      },
      "id": "3E-yy1PGOh7Y",
      "execution_count": null,
      "outputs": []
    },
    {
      "cell_type": "code",
      "source": [
        ""
      ],
      "metadata": {
        "id": "KFWwpCqBneG2"
      },
      "id": "KFWwpCqBneG2",
      "execution_count": null,
      "outputs": []
    },
    {
      "cell_type": "code",
      "execution_count": null,
      "id": "515ee280",
      "metadata": {
        "id": "515ee280"
      },
      "outputs": [],
      "source": [
        ""
      ]
    },
    {
      "cell_type": "code",
      "execution_count": null,
      "id": "9c86fc60",
      "metadata": {
        "id": "9c86fc60"
      },
      "outputs": [],
      "source": [
        ""
      ]
    },
    {
      "cell_type": "markdown",
      "id": "3273b384",
      "metadata": {
        "id": "3273b384"
      },
      "source": [
        "# Generate music"
      ]
    },
    {
      "cell_type": "code",
      "execution_count": null,
      "id": "7c1e091f",
      "metadata": {
        "id": "7c1e091f"
      },
      "outputs": [],
      "source": [
        "def generate_music(model,name,bar,start=2):\n",
        "    # get tokenized remi representation of the music\n",
        "    tokenizer = REMI() # initialize tokenizer\n",
        "    folder = \"Generated Music/Input/\"\n",
        "    #midi = MidiFile(folder+name+\".mid\") # classical\n",
        "    midi = MidiFile(folder+name+\".midi\")\n",
        "    events_MIDI = tokenizer.midi_to_tokens(midi)\n",
        "    #print(\"event length: \", len(events_MIDI[0]))\n",
        "\n",
        "    # extract events based on number of bars\n",
        "    count_bars = 0\n",
        "    start_position = start # since the first two events are bars\n",
        "    events_MIDI = events_MIDI[0]\n",
        "    position = start_position\n",
        "    while count_bars < bar: # if the number of bars already satisfies the request, break\n",
        "        \n",
        "        #print(position)\n",
        "        if events_MIDI[position] == 1:\n",
        "            # if current position is a bar, then add number of bars counts\n",
        "            count_bars+=1\n",
        "            #print(\"bar: \",count_bars)\n",
        "            #print(\"position: \", position)\n",
        "            position += 1\n",
        "        else:\n",
        "            # if not, move to the next position\n",
        "            position += 1\n",
        "        if position + 1 == len(events_MIDI):\n",
        "            #print(\"position: \", position)\n",
        "            # if already reached the end of events, break\n",
        "            break\n",
        "    print(\"position: \", position)\n",
        "    # now from beginning to position will have required number of bars (segment of music)\n",
        "    input_seq = events_MIDI[start_position:position]\n",
        "\n",
        "    # fed into model to obtain hidden state\n",
        "    input_seq = torch.tensor(input_seq,dtype=torch.long)\n",
        "    model.eval()\n",
        "    #print(input_seq)\n",
        "    op = model(input_seq.unsqueeze(0)) # (1,seq_len,218)\n",
        "    op = op.squeeze(0) # (seq_len,218)\n",
        "    op = nn.functional.softmax(op,dim=1)\n",
        "    _, op = torch.max(op,1)\n",
        "    op = op.detach().numpy()\n",
        "    op = np.insert(op,0,1) # insert bar event in the beginning\n",
        "    print(op)\n",
        "    \n",
        "    return op\n"
      ]
    },
    {
      "cell_type": "code",
      "execution_count": null,
      "id": "10cf18be",
      "metadata": {
        "id": "10cf18be",
        "outputId": "228f55a9-1c2e-4c6a-ebdc-5e8115def211"
      },
      "outputs": [
        {
          "data": {
            "text/plain": [
              "array([10,  1,  2,  3])"
            ]
          },
          "execution_count": 33,
          "metadata": {},
          "output_type": "execute_result"
        }
      ],
      "source": [
        "a = np.array([1,2,3])\n",
        "a = np.insert(a,0,10)\n",
        "a"
      ]
    },
    {
      "cell_type": "markdown",
      "id": "ba7c6cf0",
      "metadata": {
        "id": "ba7c6cf0"
      },
      "source": [
        "## initialize model"
      ]
    },
    {
      "cell_type": "code",
      "execution_count": null,
      "id": "3458625e",
      "metadata": {
        "id": "3458625e"
      },
      "outputs": [],
      "source": [
        "# get vocabulary size\n",
        "from miditok import REMI, get_midi_programs\n",
        "from miditoolkit import MidiFile\n",
        "tokenizer = REMI()\n",
        "num_vocab = len(tokenizer.vocab)"
      ]
    },
    {
      "cell_type": "code",
      "execution_count": null,
      "id": "de1a0c10",
      "metadata": {
        "id": "de1a0c10"
      },
      "outputs": [],
      "source": [
        "# initialize model\n",
        "embedding_size = 512\n",
        "hidden_size = 512\n",
        "num_layers = 2 # num of transformer encoder layers within transformer encoder\n",
        "num_heads = 4\n",
        "dropout = 0.25\n",
        "\n",
        "transformer = Transformer(num_vocab,embedding_size,num_heads,hidden_size,num_layers,dropout)\n"
      ]
    },
    {
      "cell_type": "code",
      "execution_count": null,
      "id": "b00120ab",
      "metadata": {
        "id": "b00120ab",
        "outputId": "a8c76aaf-3242-4877-cff6-3fd084c85bbf"
      },
      "outputs": [
        {
          "data": {
            "text/plain": [
              "<All keys matched successfully>"
            ]
          },
          "execution_count": 33,
          "metadata": {},
          "output_type": "execute_result"
        }
      ],
      "source": [
        "transformer.load_state_dict(torch.load(\"TransformerWeights/ComplexPopTransformer-run-1-val_loss_Best.pth\"))"
      ]
    },
    {
      "cell_type": "code",
      "execution_count": null,
      "id": "c3f85c53",
      "metadata": {
        "scrolled": true,
        "id": "c3f85c53",
        "outputId": "ed720ef5-8469-40f1-ac08-701e5baa0a37"
      },
      "outputs": [
        {
          "name": "stdout",
          "output_type": "stream",
          "text": [
            "position:  153\n",
            "[  1  36 106 125   1 107 125   1  29 107 125   1 186  24 107 125   1  24\n",
            " 107 125   1  36 107 125   1  36 107 125   1  36 107 125   1  36 107 125\n",
            "   1  36 105 129 190 107 125   1  29 106 125   1 186  24 107 125   1  36\n",
            " 106 125   1  36 107 125   1  36 106 125   1  36 107 125   1  36 106 125\n",
            "   1  36 105 129   1 108 125   1  29 106 129   1 186  24 108 125   1  36\n",
            " 106 125   1  36 108 125   1  36 106 125   1  36 108 125   1  36 106 125\n",
            "   1  36 105 125   1 108 125   1  29 106 125   1 186  24 108 125   1  36\n",
            " 106 125   1  36 106 125   1 108 125   1  36 106 129   1  36 107 125   1\n",
            "  36 106 125   1  36 105 125   1 186]\n"
          ]
        }
      ],
      "source": [
        "music = \"001\"\n",
        "output_seq = generate_music(transformer.cpu(),music,5,1)"
      ]
    },
    {
      "cell_type": "code",
      "execution_count": null,
      "id": "43f10591",
      "metadata": {
        "id": "43f10591",
        "outputId": "a2894365-9df0-442e-94b1-0871dc07f94d"
      },
      "outputs": [
        {
          "name": "stdout",
          "output_type": "stream",
          "text": [
            "Generated Music/PopTransformer/001-run1-Best.midi\n"
          ]
        }
      ],
      "source": [
        "model_name = \"PopTransformer\"\n",
        "run = \"1\"\n",
        "mode = \"Best\"\n",
        "\n",
        "output_path = \"Generated Music/\"+model_name+\"/\"+music+\"-run\"+run+\"-\"+mode+\".midi\"\n",
        "#music_path = \"Generated Music/Input/\" + music + \".mid\" # classical\n",
        "music_path = \"Generated Music/Input/\" + music + \".midi\"\n",
        "tokenizer = REMI()\n",
        "midi = MidiFile(music_path)\n",
        "output_midi = tokenizer.tokens_to_midi([output_seq],get_midi_programs(midi))\n",
        "\n",
        "output_midi.dump(output_path)"
      ]
    },
    {
      "cell_type": "code",
      "execution_count": null,
      "id": "bfd4467e",
      "metadata": {
        "id": "bfd4467e"
      },
      "outputs": [],
      "source": [
        ""
      ]
    },
    {
      "cell_type": "code",
      "execution_count": null,
      "id": "1f4de462",
      "metadata": {
        "id": "1f4de462"
      },
      "outputs": [],
      "source": [
        ""
      ]
    },
    {
      "cell_type": "code",
      "execution_count": null,
      "id": "583331b4",
      "metadata": {
        "id": "583331b4"
      },
      "outputs": [],
      "source": [
        ""
      ]
    }
  ],
  "metadata": {
    "kernelspec": {
      "display_name": "Python 3 (ipykernel)",
      "language": "python",
      "name": "python3"
    },
    "language_info": {
      "codemirror_mode": {
        "name": "ipython",
        "version": 3
      },
      "file_extension": ".py",
      "mimetype": "text/x-python",
      "name": "python",
      "nbconvert_exporter": "python",
      "pygments_lexer": "ipython3",
      "version": "3.9.12"
    },
    "colab": {
      "name": "SuperTransformer - Classical",
      "provenance": [],
      "collapsed_sections": [
        "1975bd1b",
        "ba7c6cf0"
      ],
      "machine_shape": "hm",
      "background_execution": "on"
    },
    "accelerator": "GPU",
    "widgets": {
      "application/vnd.jupyter.widget-state+json": {
        "d6d30d7a4f0849a78242deec91ab5919": {
          "model_module": "@jupyter-widgets/controls",
          "model_name": "HBoxModel",
          "model_module_version": "1.5.0",
          "state": {
            "_dom_classes": [],
            "_model_module": "@jupyter-widgets/controls",
            "_model_module_version": "1.5.0",
            "_model_name": "HBoxModel",
            "_view_count": null,
            "_view_module": "@jupyter-widgets/controls",
            "_view_module_version": "1.5.0",
            "_view_name": "HBoxView",
            "box_style": "",
            "children": [
              "IPY_MODEL_563c18c070ad4c7e9626395edd7e5a04",
              "IPY_MODEL_38348075543a4728b4e633920bb87f46",
              "IPY_MODEL_947a7d728b1f4d56bc12abcebe40ebb3"
            ],
            "layout": "IPY_MODEL_be11b267d7a14ebc93d6c6ec31bb1c64"
          }
        },
        "563c18c070ad4c7e9626395edd7e5a04": {
          "model_module": "@jupyter-widgets/controls",
          "model_name": "HTMLModel",
          "model_module_version": "1.5.0",
          "state": {
            "_dom_classes": [],
            "_model_module": "@jupyter-widgets/controls",
            "_model_module_version": "1.5.0",
            "_model_name": "HTMLModel",
            "_view_count": null,
            "_view_module": "@jupyter-widgets/controls",
            "_view_module_version": "1.5.0",
            "_view_name": "HTMLView",
            "description": "",
            "description_tooltip": null,
            "layout": "IPY_MODEL_482ad040e75a40869b2f861810257996",
            "placeholder": "​",
            "style": "IPY_MODEL_13e8500e769646faa8a542dbe90a0865",
            "value": "100%"
          }
        },
        "38348075543a4728b4e633920bb87f46": {
          "model_module": "@jupyter-widgets/controls",
          "model_name": "FloatProgressModel",
          "model_module_version": "1.5.0",
          "state": {
            "_dom_classes": [],
            "_model_module": "@jupyter-widgets/controls",
            "_model_module_version": "1.5.0",
            "_model_name": "FloatProgressModel",
            "_view_count": null,
            "_view_module": "@jupyter-widgets/controls",
            "_view_module_version": "1.5.0",
            "_view_name": "ProgressView",
            "bar_style": "",
            "description": "",
            "description_tooltip": null,
            "layout": "IPY_MODEL_5ca3e01a4c914be0b6a3306fc71162c3",
            "max": 39845,
            "min": 0,
            "orientation": "horizontal",
            "style": "IPY_MODEL_e76077494ec04524bf169e57220cb25a",
            "value": 39845
          }
        },
        "947a7d728b1f4d56bc12abcebe40ebb3": {
          "model_module": "@jupyter-widgets/controls",
          "model_name": "HTMLModel",
          "model_module_version": "1.5.0",
          "state": {
            "_dom_classes": [],
            "_model_module": "@jupyter-widgets/controls",
            "_model_module_version": "1.5.0",
            "_model_name": "HTMLModel",
            "_view_count": null,
            "_view_module": "@jupyter-widgets/controls",
            "_view_module_version": "1.5.0",
            "_view_name": "HTMLView",
            "description": "",
            "description_tooltip": null,
            "layout": "IPY_MODEL_34a46916e8564141887d47fa1d30cc8b",
            "placeholder": "​",
            "style": "IPY_MODEL_f08543673a064411ac920bde7e0c4b81",
            "value": " 39845/39845 [4:07:33&lt;00:00,  3.49it/s]"
          }
        },
        "be11b267d7a14ebc93d6c6ec31bb1c64": {
          "model_module": "@jupyter-widgets/base",
          "model_name": "LayoutModel",
          "model_module_version": "1.2.0",
          "state": {
            "_model_module": "@jupyter-widgets/base",
            "_model_module_version": "1.2.0",
            "_model_name": "LayoutModel",
            "_view_count": null,
            "_view_module": "@jupyter-widgets/base",
            "_view_module_version": "1.2.0",
            "_view_name": "LayoutView",
            "align_content": null,
            "align_items": null,
            "align_self": null,
            "border": null,
            "bottom": null,
            "display": null,
            "flex": null,
            "flex_flow": null,
            "grid_area": null,
            "grid_auto_columns": null,
            "grid_auto_flow": null,
            "grid_auto_rows": null,
            "grid_column": null,
            "grid_gap": null,
            "grid_row": null,
            "grid_template_areas": null,
            "grid_template_columns": null,
            "grid_template_rows": null,
            "height": null,
            "justify_content": null,
            "justify_items": null,
            "left": null,
            "margin": null,
            "max_height": null,
            "max_width": null,
            "min_height": null,
            "min_width": null,
            "object_fit": null,
            "object_position": null,
            "order": null,
            "overflow": null,
            "overflow_x": null,
            "overflow_y": null,
            "padding": null,
            "right": null,
            "top": null,
            "visibility": null,
            "width": null
          }
        },
        "482ad040e75a40869b2f861810257996": {
          "model_module": "@jupyter-widgets/base",
          "model_name": "LayoutModel",
          "model_module_version": "1.2.0",
          "state": {
            "_model_module": "@jupyter-widgets/base",
            "_model_module_version": "1.2.0",
            "_model_name": "LayoutModel",
            "_view_count": null,
            "_view_module": "@jupyter-widgets/base",
            "_view_module_version": "1.2.0",
            "_view_name": "LayoutView",
            "align_content": null,
            "align_items": null,
            "align_self": null,
            "border": null,
            "bottom": null,
            "display": null,
            "flex": null,
            "flex_flow": null,
            "grid_area": null,
            "grid_auto_columns": null,
            "grid_auto_flow": null,
            "grid_auto_rows": null,
            "grid_column": null,
            "grid_gap": null,
            "grid_row": null,
            "grid_template_areas": null,
            "grid_template_columns": null,
            "grid_template_rows": null,
            "height": null,
            "justify_content": null,
            "justify_items": null,
            "left": null,
            "margin": null,
            "max_height": null,
            "max_width": null,
            "min_height": null,
            "min_width": null,
            "object_fit": null,
            "object_position": null,
            "order": null,
            "overflow": null,
            "overflow_x": null,
            "overflow_y": null,
            "padding": null,
            "right": null,
            "top": null,
            "visibility": null,
            "width": null
          }
        },
        "13e8500e769646faa8a542dbe90a0865": {
          "model_module": "@jupyter-widgets/controls",
          "model_name": "DescriptionStyleModel",
          "model_module_version": "1.5.0",
          "state": {
            "_model_module": "@jupyter-widgets/controls",
            "_model_module_version": "1.5.0",
            "_model_name": "DescriptionStyleModel",
            "_view_count": null,
            "_view_module": "@jupyter-widgets/base",
            "_view_module_version": "1.2.0",
            "_view_name": "StyleView",
            "description_width": ""
          }
        },
        "5ca3e01a4c914be0b6a3306fc71162c3": {
          "model_module": "@jupyter-widgets/base",
          "model_name": "LayoutModel",
          "model_module_version": "1.2.0",
          "state": {
            "_model_module": "@jupyter-widgets/base",
            "_model_module_version": "1.2.0",
            "_model_name": "LayoutModel",
            "_view_count": null,
            "_view_module": "@jupyter-widgets/base",
            "_view_module_version": "1.2.0",
            "_view_name": "LayoutView",
            "align_content": null,
            "align_items": null,
            "align_self": null,
            "border": null,
            "bottom": null,
            "display": null,
            "flex": null,
            "flex_flow": null,
            "grid_area": null,
            "grid_auto_columns": null,
            "grid_auto_flow": null,
            "grid_auto_rows": null,
            "grid_column": null,
            "grid_gap": null,
            "grid_row": null,
            "grid_template_areas": null,
            "grid_template_columns": null,
            "grid_template_rows": null,
            "height": null,
            "justify_content": null,
            "justify_items": null,
            "left": null,
            "margin": null,
            "max_height": null,
            "max_width": null,
            "min_height": null,
            "min_width": null,
            "object_fit": null,
            "object_position": null,
            "order": null,
            "overflow": null,
            "overflow_x": null,
            "overflow_y": null,
            "padding": null,
            "right": null,
            "top": null,
            "visibility": null,
            "width": null
          }
        },
        "e76077494ec04524bf169e57220cb25a": {
          "model_module": "@jupyter-widgets/controls",
          "model_name": "ProgressStyleModel",
          "model_module_version": "1.5.0",
          "state": {
            "_model_module": "@jupyter-widgets/controls",
            "_model_module_version": "1.5.0",
            "_model_name": "ProgressStyleModel",
            "_view_count": null,
            "_view_module": "@jupyter-widgets/base",
            "_view_module_version": "1.2.0",
            "_view_name": "StyleView",
            "bar_color": null,
            "description_width": ""
          }
        },
        "34a46916e8564141887d47fa1d30cc8b": {
          "model_module": "@jupyter-widgets/base",
          "model_name": "LayoutModel",
          "model_module_version": "1.2.0",
          "state": {
            "_model_module": "@jupyter-widgets/base",
            "_model_module_version": "1.2.0",
            "_model_name": "LayoutModel",
            "_view_count": null,
            "_view_module": "@jupyter-widgets/base",
            "_view_module_version": "1.2.0",
            "_view_name": "LayoutView",
            "align_content": null,
            "align_items": null,
            "align_self": null,
            "border": null,
            "bottom": null,
            "display": null,
            "flex": null,
            "flex_flow": null,
            "grid_area": null,
            "grid_auto_columns": null,
            "grid_auto_flow": null,
            "grid_auto_rows": null,
            "grid_column": null,
            "grid_gap": null,
            "grid_row": null,
            "grid_template_areas": null,
            "grid_template_columns": null,
            "grid_template_rows": null,
            "height": null,
            "justify_content": null,
            "justify_items": null,
            "left": null,
            "margin": null,
            "max_height": null,
            "max_width": null,
            "min_height": null,
            "min_width": null,
            "object_fit": null,
            "object_position": null,
            "order": null,
            "overflow": null,
            "overflow_x": null,
            "overflow_y": null,
            "padding": null,
            "right": null,
            "top": null,
            "visibility": null,
            "width": null
          }
        },
        "f08543673a064411ac920bde7e0c4b81": {
          "model_module": "@jupyter-widgets/controls",
          "model_name": "DescriptionStyleModel",
          "model_module_version": "1.5.0",
          "state": {
            "_model_module": "@jupyter-widgets/controls",
            "_model_module_version": "1.5.0",
            "_model_name": "DescriptionStyleModel",
            "_view_count": null,
            "_view_module": "@jupyter-widgets/base",
            "_view_module_version": "1.2.0",
            "_view_name": "StyleView",
            "description_width": ""
          }
        },
        "0fc21fe9426b414dadb8702aa7ace588": {
          "model_module": "@jupyter-widgets/controls",
          "model_name": "HBoxModel",
          "model_module_version": "1.5.0",
          "state": {
            "_dom_classes": [],
            "_model_module": "@jupyter-widgets/controls",
            "_model_module_version": "1.5.0",
            "_model_name": "HBoxModel",
            "_view_count": null,
            "_view_module": "@jupyter-widgets/controls",
            "_view_module_version": "1.5.0",
            "_view_name": "HBoxView",
            "box_style": "",
            "children": [
              "IPY_MODEL_f81aa83d0ccc41c591e4876fd3d8d63e",
              "IPY_MODEL_09adac385bd848dd829ffdd2bb2ebef8",
              "IPY_MODEL_3cca8b41f6234aa096652cc484a66cda"
            ],
            "layout": "IPY_MODEL_db8eec2deb3e421d9693d173d1f85101"
          }
        },
        "f81aa83d0ccc41c591e4876fd3d8d63e": {
          "model_module": "@jupyter-widgets/controls",
          "model_name": "HTMLModel",
          "model_module_version": "1.5.0",
          "state": {
            "_dom_classes": [],
            "_model_module": "@jupyter-widgets/controls",
            "_model_module_version": "1.5.0",
            "_model_name": "HTMLModel",
            "_view_count": null,
            "_view_module": "@jupyter-widgets/controls",
            "_view_module_version": "1.5.0",
            "_view_name": "HTMLView",
            "description": "",
            "description_tooltip": null,
            "layout": "IPY_MODEL_5716c4dca5324bf5a62ea952a2a7e428",
            "placeholder": "​",
            "style": "IPY_MODEL_471003f8d7434be283365b88331f44c8",
            "value": "  6%"
          }
        },
        "09adac385bd848dd829ffdd2bb2ebef8": {
          "model_module": "@jupyter-widgets/controls",
          "model_name": "FloatProgressModel",
          "model_module_version": "1.5.0",
          "state": {
            "_dom_classes": [],
            "_model_module": "@jupyter-widgets/controls",
            "_model_module_version": "1.5.0",
            "_model_name": "FloatProgressModel",
            "_view_count": null,
            "_view_module": "@jupyter-widgets/controls",
            "_view_module_version": "1.5.0",
            "_view_name": "ProgressView",
            "bar_style": "",
            "description": "",
            "description_tooltip": null,
            "layout": "IPY_MODEL_1765656a36ae4e7c98b158e208ed4264",
            "max": 173125,
            "min": 0,
            "orientation": "horizontal",
            "style": "IPY_MODEL_a167b969cd3142168949f5ef943eee83",
            "value": 11707
          }
        },
        "3cca8b41f6234aa096652cc484a66cda": {
          "model_module": "@jupyter-widgets/controls",
          "model_name": "HTMLModel",
          "model_module_version": "1.5.0",
          "state": {
            "_dom_classes": [],
            "_model_module": "@jupyter-widgets/controls",
            "_model_module_version": "1.5.0",
            "_model_name": "HTMLModel",
            "_view_count": null,
            "_view_module": "@jupyter-widgets/controls",
            "_view_module_version": "1.5.0",
            "_view_name": "HTMLView",
            "description": "",
            "description_tooltip": null,
            "layout": "IPY_MODEL_7e0af772c4c2458ea49c637da960cb0e",
            "placeholder": "​",
            "style": "IPY_MODEL_6b6866b9090148eda3ed3ebd43a1508f",
            "value": " 11706/173125 [2:57:25&lt;36:45:32,  1.22it/s]"
          }
        },
        "db8eec2deb3e421d9693d173d1f85101": {
          "model_module": "@jupyter-widgets/base",
          "model_name": "LayoutModel",
          "model_module_version": "1.2.0",
          "state": {
            "_model_module": "@jupyter-widgets/base",
            "_model_module_version": "1.2.0",
            "_model_name": "LayoutModel",
            "_view_count": null,
            "_view_module": "@jupyter-widgets/base",
            "_view_module_version": "1.2.0",
            "_view_name": "LayoutView",
            "align_content": null,
            "align_items": null,
            "align_self": null,
            "border": null,
            "bottom": null,
            "display": null,
            "flex": null,
            "flex_flow": null,
            "grid_area": null,
            "grid_auto_columns": null,
            "grid_auto_flow": null,
            "grid_auto_rows": null,
            "grid_column": null,
            "grid_gap": null,
            "grid_row": null,
            "grid_template_areas": null,
            "grid_template_columns": null,
            "grid_template_rows": null,
            "height": null,
            "justify_content": null,
            "justify_items": null,
            "left": null,
            "margin": null,
            "max_height": null,
            "max_width": null,
            "min_height": null,
            "min_width": null,
            "object_fit": null,
            "object_position": null,
            "order": null,
            "overflow": null,
            "overflow_x": null,
            "overflow_y": null,
            "padding": null,
            "right": null,
            "top": null,
            "visibility": null,
            "width": null
          }
        },
        "5716c4dca5324bf5a62ea952a2a7e428": {
          "model_module": "@jupyter-widgets/base",
          "model_name": "LayoutModel",
          "model_module_version": "1.2.0",
          "state": {
            "_model_module": "@jupyter-widgets/base",
            "_model_module_version": "1.2.0",
            "_model_name": "LayoutModel",
            "_view_count": null,
            "_view_module": "@jupyter-widgets/base",
            "_view_module_version": "1.2.0",
            "_view_name": "LayoutView",
            "align_content": null,
            "align_items": null,
            "align_self": null,
            "border": null,
            "bottom": null,
            "display": null,
            "flex": null,
            "flex_flow": null,
            "grid_area": null,
            "grid_auto_columns": null,
            "grid_auto_flow": null,
            "grid_auto_rows": null,
            "grid_column": null,
            "grid_gap": null,
            "grid_row": null,
            "grid_template_areas": null,
            "grid_template_columns": null,
            "grid_template_rows": null,
            "height": null,
            "justify_content": null,
            "justify_items": null,
            "left": null,
            "margin": null,
            "max_height": null,
            "max_width": null,
            "min_height": null,
            "min_width": null,
            "object_fit": null,
            "object_position": null,
            "order": null,
            "overflow": null,
            "overflow_x": null,
            "overflow_y": null,
            "padding": null,
            "right": null,
            "top": null,
            "visibility": null,
            "width": null
          }
        },
        "471003f8d7434be283365b88331f44c8": {
          "model_module": "@jupyter-widgets/controls",
          "model_name": "DescriptionStyleModel",
          "model_module_version": "1.5.0",
          "state": {
            "_model_module": "@jupyter-widgets/controls",
            "_model_module_version": "1.5.0",
            "_model_name": "DescriptionStyleModel",
            "_view_count": null,
            "_view_module": "@jupyter-widgets/base",
            "_view_module_version": "1.2.0",
            "_view_name": "StyleView",
            "description_width": ""
          }
        },
        "1765656a36ae4e7c98b158e208ed4264": {
          "model_module": "@jupyter-widgets/base",
          "model_name": "LayoutModel",
          "model_module_version": "1.2.0",
          "state": {
            "_model_module": "@jupyter-widgets/base",
            "_model_module_version": "1.2.0",
            "_model_name": "LayoutModel",
            "_view_count": null,
            "_view_module": "@jupyter-widgets/base",
            "_view_module_version": "1.2.0",
            "_view_name": "LayoutView",
            "align_content": null,
            "align_items": null,
            "align_self": null,
            "border": null,
            "bottom": null,
            "display": null,
            "flex": null,
            "flex_flow": null,
            "grid_area": null,
            "grid_auto_columns": null,
            "grid_auto_flow": null,
            "grid_auto_rows": null,
            "grid_column": null,
            "grid_gap": null,
            "grid_row": null,
            "grid_template_areas": null,
            "grid_template_columns": null,
            "grid_template_rows": null,
            "height": null,
            "justify_content": null,
            "justify_items": null,
            "left": null,
            "margin": null,
            "max_height": null,
            "max_width": null,
            "min_height": null,
            "min_width": null,
            "object_fit": null,
            "object_position": null,
            "order": null,
            "overflow": null,
            "overflow_x": null,
            "overflow_y": null,
            "padding": null,
            "right": null,
            "top": null,
            "visibility": null,
            "width": null
          }
        },
        "a167b969cd3142168949f5ef943eee83": {
          "model_module": "@jupyter-widgets/controls",
          "model_name": "ProgressStyleModel",
          "model_module_version": "1.5.0",
          "state": {
            "_model_module": "@jupyter-widgets/controls",
            "_model_module_version": "1.5.0",
            "_model_name": "ProgressStyleModel",
            "_view_count": null,
            "_view_module": "@jupyter-widgets/base",
            "_view_module_version": "1.2.0",
            "_view_name": "StyleView",
            "bar_color": null,
            "description_width": ""
          }
        },
        "7e0af772c4c2458ea49c637da960cb0e": {
          "model_module": "@jupyter-widgets/base",
          "model_name": "LayoutModel",
          "model_module_version": "1.2.0",
          "state": {
            "_model_module": "@jupyter-widgets/base",
            "_model_module_version": "1.2.0",
            "_model_name": "LayoutModel",
            "_view_count": null,
            "_view_module": "@jupyter-widgets/base",
            "_view_module_version": "1.2.0",
            "_view_name": "LayoutView",
            "align_content": null,
            "align_items": null,
            "align_self": null,
            "border": null,
            "bottom": null,
            "display": null,
            "flex": null,
            "flex_flow": null,
            "grid_area": null,
            "grid_auto_columns": null,
            "grid_auto_flow": null,
            "grid_auto_rows": null,
            "grid_column": null,
            "grid_gap": null,
            "grid_row": null,
            "grid_template_areas": null,
            "grid_template_columns": null,
            "grid_template_rows": null,
            "height": null,
            "justify_content": null,
            "justify_items": null,
            "left": null,
            "margin": null,
            "max_height": null,
            "max_width": null,
            "min_height": null,
            "min_width": null,
            "object_fit": null,
            "object_position": null,
            "order": null,
            "overflow": null,
            "overflow_x": null,
            "overflow_y": null,
            "padding": null,
            "right": null,
            "top": null,
            "visibility": null,
            "width": null
          }
        },
        "6b6866b9090148eda3ed3ebd43a1508f": {
          "model_module": "@jupyter-widgets/controls",
          "model_name": "DescriptionStyleModel",
          "model_module_version": "1.5.0",
          "state": {
            "_model_module": "@jupyter-widgets/controls",
            "_model_module_version": "1.5.0",
            "_model_name": "DescriptionStyleModel",
            "_view_count": null,
            "_view_module": "@jupyter-widgets/base",
            "_view_module_version": "1.2.0",
            "_view_name": "StyleView",
            "description_width": ""
          }
        },
        "a01a6ce3b4b449058fed3f4d8fda8679": {
          "model_module": "@jupyter-widgets/controls",
          "model_name": "HBoxModel",
          "model_module_version": "1.5.0",
          "state": {
            "_dom_classes": [],
            "_model_module": "@jupyter-widgets/controls",
            "_model_module_version": "1.5.0",
            "_model_name": "HBoxModel",
            "_view_count": null,
            "_view_module": "@jupyter-widgets/controls",
            "_view_module_version": "1.5.0",
            "_view_name": "HBoxView",
            "box_style": "",
            "children": [
              "IPY_MODEL_64d10c63d00644149b6996ade4ad53ee",
              "IPY_MODEL_f268025380544f86ae6f56a7df5908fa",
              "IPY_MODEL_503b3cfb9cb0496fa6192412b158c831"
            ],
            "layout": "IPY_MODEL_d175cd0788f544098dec3a179b8f11c2"
          }
        },
        "64d10c63d00644149b6996ade4ad53ee": {
          "model_module": "@jupyter-widgets/controls",
          "model_name": "HTMLModel",
          "model_module_version": "1.5.0",
          "state": {
            "_dom_classes": [],
            "_model_module": "@jupyter-widgets/controls",
            "_model_module_version": "1.5.0",
            "_model_name": "HTMLModel",
            "_view_count": null,
            "_view_module": "@jupyter-widgets/controls",
            "_view_module_version": "1.5.0",
            "_view_name": "HTMLView",
            "description": "",
            "description_tooltip": null,
            "layout": "IPY_MODEL_7f542a11cc634a4d9e5c11e777ed2f03",
            "placeholder": "​",
            "style": "IPY_MODEL_d64047dd2b7542bbbd6d984e7dbfb923",
            "value": "100%"
          }
        },
        "f268025380544f86ae6f56a7df5908fa": {
          "model_module": "@jupyter-widgets/controls",
          "model_name": "FloatProgressModel",
          "model_module_version": "1.5.0",
          "state": {
            "_dom_classes": [],
            "_model_module": "@jupyter-widgets/controls",
            "_model_module_version": "1.5.0",
            "_model_name": "FloatProgressModel",
            "_view_count": null,
            "_view_module": "@jupyter-widgets/controls",
            "_view_module_version": "1.5.0",
            "_view_name": "ProgressView",
            "bar_style": "",
            "description": "",
            "description_tooltip": null,
            "layout": "IPY_MODEL_c45efc192b164668811df973a061381c",
            "max": 69250,
            "min": 0,
            "orientation": "horizontal",
            "style": "IPY_MODEL_70c0699e8de746c18d97524f4997a6cf",
            "value": 69250
          }
        },
        "503b3cfb9cb0496fa6192412b158c831": {
          "model_module": "@jupyter-widgets/controls",
          "model_name": "HTMLModel",
          "model_module_version": "1.5.0",
          "state": {
            "_dom_classes": [],
            "_model_module": "@jupyter-widgets/controls",
            "_model_module_version": "1.5.0",
            "_model_name": "HTMLModel",
            "_view_count": null,
            "_view_module": "@jupyter-widgets/controls",
            "_view_module_version": "1.5.0",
            "_view_name": "HTMLView",
            "description": "",
            "description_tooltip": null,
            "layout": "IPY_MODEL_4d16b51d064d4801b5e2213b4374d20e",
            "placeholder": "​",
            "style": "IPY_MODEL_37aafc0341ab43369f494ca88b7bee85",
            "value": " 69250/69250 [17:56:53&lt;00:00,  2.88s/it]"
          }
        },
        "d175cd0788f544098dec3a179b8f11c2": {
          "model_module": "@jupyter-widgets/base",
          "model_name": "LayoutModel",
          "model_module_version": "1.2.0",
          "state": {
            "_model_module": "@jupyter-widgets/base",
            "_model_module_version": "1.2.0",
            "_model_name": "LayoutModel",
            "_view_count": null,
            "_view_module": "@jupyter-widgets/base",
            "_view_module_version": "1.2.0",
            "_view_name": "LayoutView",
            "align_content": null,
            "align_items": null,
            "align_self": null,
            "border": null,
            "bottom": null,
            "display": null,
            "flex": null,
            "flex_flow": null,
            "grid_area": null,
            "grid_auto_columns": null,
            "grid_auto_flow": null,
            "grid_auto_rows": null,
            "grid_column": null,
            "grid_gap": null,
            "grid_row": null,
            "grid_template_areas": null,
            "grid_template_columns": null,
            "grid_template_rows": null,
            "height": null,
            "justify_content": null,
            "justify_items": null,
            "left": null,
            "margin": null,
            "max_height": null,
            "max_width": null,
            "min_height": null,
            "min_width": null,
            "object_fit": null,
            "object_position": null,
            "order": null,
            "overflow": null,
            "overflow_x": null,
            "overflow_y": null,
            "padding": null,
            "right": null,
            "top": null,
            "visibility": null,
            "width": null
          }
        },
        "7f542a11cc634a4d9e5c11e777ed2f03": {
          "model_module": "@jupyter-widgets/base",
          "model_name": "LayoutModel",
          "model_module_version": "1.2.0",
          "state": {
            "_model_module": "@jupyter-widgets/base",
            "_model_module_version": "1.2.0",
            "_model_name": "LayoutModel",
            "_view_count": null,
            "_view_module": "@jupyter-widgets/base",
            "_view_module_version": "1.2.0",
            "_view_name": "LayoutView",
            "align_content": null,
            "align_items": null,
            "align_self": null,
            "border": null,
            "bottom": null,
            "display": null,
            "flex": null,
            "flex_flow": null,
            "grid_area": null,
            "grid_auto_columns": null,
            "grid_auto_flow": null,
            "grid_auto_rows": null,
            "grid_column": null,
            "grid_gap": null,
            "grid_row": null,
            "grid_template_areas": null,
            "grid_template_columns": null,
            "grid_template_rows": null,
            "height": null,
            "justify_content": null,
            "justify_items": null,
            "left": null,
            "margin": null,
            "max_height": null,
            "max_width": null,
            "min_height": null,
            "min_width": null,
            "object_fit": null,
            "object_position": null,
            "order": null,
            "overflow": null,
            "overflow_x": null,
            "overflow_y": null,
            "padding": null,
            "right": null,
            "top": null,
            "visibility": null,
            "width": null
          }
        },
        "d64047dd2b7542bbbd6d984e7dbfb923": {
          "model_module": "@jupyter-widgets/controls",
          "model_name": "DescriptionStyleModel",
          "model_module_version": "1.5.0",
          "state": {
            "_model_module": "@jupyter-widgets/controls",
            "_model_module_version": "1.5.0",
            "_model_name": "DescriptionStyleModel",
            "_view_count": null,
            "_view_module": "@jupyter-widgets/base",
            "_view_module_version": "1.2.0",
            "_view_name": "StyleView",
            "description_width": ""
          }
        },
        "c45efc192b164668811df973a061381c": {
          "model_module": "@jupyter-widgets/base",
          "model_name": "LayoutModel",
          "model_module_version": "1.2.0",
          "state": {
            "_model_module": "@jupyter-widgets/base",
            "_model_module_version": "1.2.0",
            "_model_name": "LayoutModel",
            "_view_count": null,
            "_view_module": "@jupyter-widgets/base",
            "_view_module_version": "1.2.0",
            "_view_name": "LayoutView",
            "align_content": null,
            "align_items": null,
            "align_self": null,
            "border": null,
            "bottom": null,
            "display": null,
            "flex": null,
            "flex_flow": null,
            "grid_area": null,
            "grid_auto_columns": null,
            "grid_auto_flow": null,
            "grid_auto_rows": null,
            "grid_column": null,
            "grid_gap": null,
            "grid_row": null,
            "grid_template_areas": null,
            "grid_template_columns": null,
            "grid_template_rows": null,
            "height": null,
            "justify_content": null,
            "justify_items": null,
            "left": null,
            "margin": null,
            "max_height": null,
            "max_width": null,
            "min_height": null,
            "min_width": null,
            "object_fit": null,
            "object_position": null,
            "order": null,
            "overflow": null,
            "overflow_x": null,
            "overflow_y": null,
            "padding": null,
            "right": null,
            "top": null,
            "visibility": null,
            "width": null
          }
        },
        "70c0699e8de746c18d97524f4997a6cf": {
          "model_module": "@jupyter-widgets/controls",
          "model_name": "ProgressStyleModel",
          "model_module_version": "1.5.0",
          "state": {
            "_model_module": "@jupyter-widgets/controls",
            "_model_module_version": "1.5.0",
            "_model_name": "ProgressStyleModel",
            "_view_count": null,
            "_view_module": "@jupyter-widgets/base",
            "_view_module_version": "1.2.0",
            "_view_name": "StyleView",
            "bar_color": null,
            "description_width": ""
          }
        },
        "4d16b51d064d4801b5e2213b4374d20e": {
          "model_module": "@jupyter-widgets/base",
          "model_name": "LayoutModel",
          "model_module_version": "1.2.0",
          "state": {
            "_model_module": "@jupyter-widgets/base",
            "_model_module_version": "1.2.0",
            "_model_name": "LayoutModel",
            "_view_count": null,
            "_view_module": "@jupyter-widgets/base",
            "_view_module_version": "1.2.0",
            "_view_name": "LayoutView",
            "align_content": null,
            "align_items": null,
            "align_self": null,
            "border": null,
            "bottom": null,
            "display": null,
            "flex": null,
            "flex_flow": null,
            "grid_area": null,
            "grid_auto_columns": null,
            "grid_auto_flow": null,
            "grid_auto_rows": null,
            "grid_column": null,
            "grid_gap": null,
            "grid_row": null,
            "grid_template_areas": null,
            "grid_template_columns": null,
            "grid_template_rows": null,
            "height": null,
            "justify_content": null,
            "justify_items": null,
            "left": null,
            "margin": null,
            "max_height": null,
            "max_width": null,
            "min_height": null,
            "min_width": null,
            "object_fit": null,
            "object_position": null,
            "order": null,
            "overflow": null,
            "overflow_x": null,
            "overflow_y": null,
            "padding": null,
            "right": null,
            "top": null,
            "visibility": null,
            "width": null
          }
        },
        "37aafc0341ab43369f494ca88b7bee85": {
          "model_module": "@jupyter-widgets/controls",
          "model_name": "DescriptionStyleModel",
          "model_module_version": "1.5.0",
          "state": {
            "_model_module": "@jupyter-widgets/controls",
            "_model_module_version": "1.5.0",
            "_model_name": "DescriptionStyleModel",
            "_view_count": null,
            "_view_module": "@jupyter-widgets/base",
            "_view_module_version": "1.2.0",
            "_view_name": "StyleView",
            "description_width": ""
          }
        },
        "9ec0839f6f3d472caa0285fd81d69c21": {
          "model_module": "@jupyter-widgets/controls",
          "model_name": "HBoxModel",
          "model_module_version": "1.5.0",
          "state": {
            "_dom_classes": [],
            "_model_module": "@jupyter-widgets/controls",
            "_model_module_version": "1.5.0",
            "_model_name": "HBoxModel",
            "_view_count": null,
            "_view_module": "@jupyter-widgets/controls",
            "_view_module_version": "1.5.0",
            "_view_name": "HBoxView",
            "box_style": "",
            "children": [
              "IPY_MODEL_fd3ea067b5e241bbb1c1414ef12d2b6d",
              "IPY_MODEL_1e95de8bc95b4162bfb16e135dbdaf2e",
              "IPY_MODEL_02aae92e07c54d8e8554103c3da71241"
            ],
            "layout": "IPY_MODEL_3953e1d4885e4991a10c4c6600c48eea"
          }
        },
        "fd3ea067b5e241bbb1c1414ef12d2b6d": {
          "model_module": "@jupyter-widgets/controls",
          "model_name": "HTMLModel",
          "model_module_version": "1.5.0",
          "state": {
            "_dom_classes": [],
            "_model_module": "@jupyter-widgets/controls",
            "_model_module_version": "1.5.0",
            "_model_name": "HTMLModel",
            "_view_count": null,
            "_view_module": "@jupyter-widgets/controls",
            "_view_module_version": "1.5.0",
            "_view_name": "HTMLView",
            "description": "",
            "description_tooltip": null,
            "layout": "IPY_MODEL_f03aac4063914ed2838d757040cd718d",
            "placeholder": "​",
            "style": "IPY_MODEL_b1c795a3cf9e4e77bdb5fdd2084c8767",
            "value": " 51%"
          }
        },
        "1e95de8bc95b4162bfb16e135dbdaf2e": {
          "model_module": "@jupyter-widgets/controls",
          "model_name": "FloatProgressModel",
          "model_module_version": "1.5.0",
          "state": {
            "_dom_classes": [],
            "_model_module": "@jupyter-widgets/controls",
            "_model_module_version": "1.5.0",
            "_model_name": "FloatProgressModel",
            "_view_count": null,
            "_view_module": "@jupyter-widgets/controls",
            "_view_module_version": "1.5.0",
            "_view_name": "ProgressView",
            "bar_style": "",
            "description": "",
            "description_tooltip": null,
            "layout": "IPY_MODEL_41b0b66e144e481aaa5c2ba11d54ba5f",
            "max": 114022,
            "min": 0,
            "orientation": "horizontal",
            "style": "IPY_MODEL_d6b6103360f441969018fc8fa6cc935e",
            "value": 57787
          }
        },
        "02aae92e07c54d8e8554103c3da71241": {
          "model_module": "@jupyter-widgets/controls",
          "model_name": "HTMLModel",
          "model_module_version": "1.5.0",
          "state": {
            "_dom_classes": [],
            "_model_module": "@jupyter-widgets/controls",
            "_model_module_version": "1.5.0",
            "_model_name": "HTMLModel",
            "_view_count": null,
            "_view_module": "@jupyter-widgets/controls",
            "_view_module_version": "1.5.0",
            "_view_name": "HTMLView",
            "description": "",
            "description_tooltip": null,
            "layout": "IPY_MODEL_61640fd947464081a4a88effe78e3448",
            "placeholder": "​",
            "style": "IPY_MODEL_83c861368ab24a5f89f2d184fada1cf9",
            "value": " 57787/114022 [10:07:28&lt;9:15:03,  1.69it/s]"
          }
        },
        "3953e1d4885e4991a10c4c6600c48eea": {
          "model_module": "@jupyter-widgets/base",
          "model_name": "LayoutModel",
          "model_module_version": "1.2.0",
          "state": {
            "_model_module": "@jupyter-widgets/base",
            "_model_module_version": "1.2.0",
            "_model_name": "LayoutModel",
            "_view_count": null,
            "_view_module": "@jupyter-widgets/base",
            "_view_module_version": "1.2.0",
            "_view_name": "LayoutView",
            "align_content": null,
            "align_items": null,
            "align_self": null,
            "border": null,
            "bottom": null,
            "display": null,
            "flex": null,
            "flex_flow": null,
            "grid_area": null,
            "grid_auto_columns": null,
            "grid_auto_flow": null,
            "grid_auto_rows": null,
            "grid_column": null,
            "grid_gap": null,
            "grid_row": null,
            "grid_template_areas": null,
            "grid_template_columns": null,
            "grid_template_rows": null,
            "height": null,
            "justify_content": null,
            "justify_items": null,
            "left": null,
            "margin": null,
            "max_height": null,
            "max_width": null,
            "min_height": null,
            "min_width": null,
            "object_fit": null,
            "object_position": null,
            "order": null,
            "overflow": null,
            "overflow_x": null,
            "overflow_y": null,
            "padding": null,
            "right": null,
            "top": null,
            "visibility": null,
            "width": null
          }
        },
        "f03aac4063914ed2838d757040cd718d": {
          "model_module": "@jupyter-widgets/base",
          "model_name": "LayoutModel",
          "model_module_version": "1.2.0",
          "state": {
            "_model_module": "@jupyter-widgets/base",
            "_model_module_version": "1.2.0",
            "_model_name": "LayoutModel",
            "_view_count": null,
            "_view_module": "@jupyter-widgets/base",
            "_view_module_version": "1.2.0",
            "_view_name": "LayoutView",
            "align_content": null,
            "align_items": null,
            "align_self": null,
            "border": null,
            "bottom": null,
            "display": null,
            "flex": null,
            "flex_flow": null,
            "grid_area": null,
            "grid_auto_columns": null,
            "grid_auto_flow": null,
            "grid_auto_rows": null,
            "grid_column": null,
            "grid_gap": null,
            "grid_row": null,
            "grid_template_areas": null,
            "grid_template_columns": null,
            "grid_template_rows": null,
            "height": null,
            "justify_content": null,
            "justify_items": null,
            "left": null,
            "margin": null,
            "max_height": null,
            "max_width": null,
            "min_height": null,
            "min_width": null,
            "object_fit": null,
            "object_position": null,
            "order": null,
            "overflow": null,
            "overflow_x": null,
            "overflow_y": null,
            "padding": null,
            "right": null,
            "top": null,
            "visibility": null,
            "width": null
          }
        },
        "b1c795a3cf9e4e77bdb5fdd2084c8767": {
          "model_module": "@jupyter-widgets/controls",
          "model_name": "DescriptionStyleModel",
          "model_module_version": "1.5.0",
          "state": {
            "_model_module": "@jupyter-widgets/controls",
            "_model_module_version": "1.5.0",
            "_model_name": "DescriptionStyleModel",
            "_view_count": null,
            "_view_module": "@jupyter-widgets/base",
            "_view_module_version": "1.2.0",
            "_view_name": "StyleView",
            "description_width": ""
          }
        },
        "41b0b66e144e481aaa5c2ba11d54ba5f": {
          "model_module": "@jupyter-widgets/base",
          "model_name": "LayoutModel",
          "model_module_version": "1.2.0",
          "state": {
            "_model_module": "@jupyter-widgets/base",
            "_model_module_version": "1.2.0",
            "_model_name": "LayoutModel",
            "_view_count": null,
            "_view_module": "@jupyter-widgets/base",
            "_view_module_version": "1.2.0",
            "_view_name": "LayoutView",
            "align_content": null,
            "align_items": null,
            "align_self": null,
            "border": null,
            "bottom": null,
            "display": null,
            "flex": null,
            "flex_flow": null,
            "grid_area": null,
            "grid_auto_columns": null,
            "grid_auto_flow": null,
            "grid_auto_rows": null,
            "grid_column": null,
            "grid_gap": null,
            "grid_row": null,
            "grid_template_areas": null,
            "grid_template_columns": null,
            "grid_template_rows": null,
            "height": null,
            "justify_content": null,
            "justify_items": null,
            "left": null,
            "margin": null,
            "max_height": null,
            "max_width": null,
            "min_height": null,
            "min_width": null,
            "object_fit": null,
            "object_position": null,
            "order": null,
            "overflow": null,
            "overflow_x": null,
            "overflow_y": null,
            "padding": null,
            "right": null,
            "top": null,
            "visibility": null,
            "width": null
          }
        },
        "d6b6103360f441969018fc8fa6cc935e": {
          "model_module": "@jupyter-widgets/controls",
          "model_name": "ProgressStyleModel",
          "model_module_version": "1.5.0",
          "state": {
            "_model_module": "@jupyter-widgets/controls",
            "_model_module_version": "1.5.0",
            "_model_name": "ProgressStyleModel",
            "_view_count": null,
            "_view_module": "@jupyter-widgets/base",
            "_view_module_version": "1.2.0",
            "_view_name": "StyleView",
            "bar_color": null,
            "description_width": ""
          }
        },
        "61640fd947464081a4a88effe78e3448": {
          "model_module": "@jupyter-widgets/base",
          "model_name": "LayoutModel",
          "model_module_version": "1.2.0",
          "state": {
            "_model_module": "@jupyter-widgets/base",
            "_model_module_version": "1.2.0",
            "_model_name": "LayoutModel",
            "_view_count": null,
            "_view_module": "@jupyter-widgets/base",
            "_view_module_version": "1.2.0",
            "_view_name": "LayoutView",
            "align_content": null,
            "align_items": null,
            "align_self": null,
            "border": null,
            "bottom": null,
            "display": null,
            "flex": null,
            "flex_flow": null,
            "grid_area": null,
            "grid_auto_columns": null,
            "grid_auto_flow": null,
            "grid_auto_rows": null,
            "grid_column": null,
            "grid_gap": null,
            "grid_row": null,
            "grid_template_areas": null,
            "grid_template_columns": null,
            "grid_template_rows": null,
            "height": null,
            "justify_content": null,
            "justify_items": null,
            "left": null,
            "margin": null,
            "max_height": null,
            "max_width": null,
            "min_height": null,
            "min_width": null,
            "object_fit": null,
            "object_position": null,
            "order": null,
            "overflow": null,
            "overflow_x": null,
            "overflow_y": null,
            "padding": null,
            "right": null,
            "top": null,
            "visibility": null,
            "width": null
          }
        },
        "83c861368ab24a5f89f2d184fada1cf9": {
          "model_module": "@jupyter-widgets/controls",
          "model_name": "DescriptionStyleModel",
          "model_module_version": "1.5.0",
          "state": {
            "_model_module": "@jupyter-widgets/controls",
            "_model_module_version": "1.5.0",
            "_model_name": "DescriptionStyleModel",
            "_view_count": null,
            "_view_module": "@jupyter-widgets/base",
            "_view_module_version": "1.2.0",
            "_view_name": "StyleView",
            "description_width": ""
          }
        },
        "14e5b0fa0ef043c79b14cfaaf130e536": {
          "model_module": "@jupyter-widgets/controls",
          "model_name": "HBoxModel",
          "model_module_version": "1.5.0",
          "state": {
            "_dom_classes": [],
            "_model_module": "@jupyter-widgets/controls",
            "_model_module_version": "1.5.0",
            "_model_name": "HBoxModel",
            "_view_count": null,
            "_view_module": "@jupyter-widgets/controls",
            "_view_module_version": "1.5.0",
            "_view_name": "HBoxView",
            "box_style": "",
            "children": [
              "IPY_MODEL_1f57006e3fa6451c89af39ded125df35",
              "IPY_MODEL_108258cdc20e4791bbd6bd950de89616",
              "IPY_MODEL_b90cdde350e24b61aff2b0de48c59d93"
            ],
            "layout": "IPY_MODEL_8646cd13ec3e49d092d974cac8d4dda6"
          }
        },
        "1f57006e3fa6451c89af39ded125df35": {
          "model_module": "@jupyter-widgets/controls",
          "model_name": "HTMLModel",
          "model_module_version": "1.5.0",
          "state": {
            "_dom_classes": [],
            "_model_module": "@jupyter-widgets/controls",
            "_model_module_version": "1.5.0",
            "_model_name": "HTMLModel",
            "_view_count": null,
            "_view_module": "@jupyter-widgets/controls",
            "_view_module_version": "1.5.0",
            "_view_name": "HTMLView",
            "description": "",
            "description_tooltip": null,
            "layout": "IPY_MODEL_b01ecbf12c9e46f4a4676f1ff287cae1",
            "placeholder": "​",
            "style": "IPY_MODEL_3c49cec5e65649408fd4626d09b5ef36",
            "value": "  7%"
          }
        },
        "108258cdc20e4791bbd6bd950de89616": {
          "model_module": "@jupyter-widgets/controls",
          "model_name": "FloatProgressModel",
          "model_module_version": "1.5.0",
          "state": {
            "_dom_classes": [],
            "_model_module": "@jupyter-widgets/controls",
            "_model_module_version": "1.5.0",
            "_model_name": "FloatProgressModel",
            "_view_count": null,
            "_view_module": "@jupyter-widgets/controls",
            "_view_module_version": "1.5.0",
            "_view_name": "ProgressView",
            "bar_style": "",
            "description": "",
            "description_tooltip": null,
            "layout": "IPY_MODEL_0ca2b2a06fa949cca13d40bd28ddb9d3",
            "max": 167711,
            "min": 0,
            "orientation": "horizontal",
            "style": "IPY_MODEL_eebdf980a3644c64b74f77772a36a893",
            "value": 11362
          }
        },
        "b90cdde350e24b61aff2b0de48c59d93": {
          "model_module": "@jupyter-widgets/controls",
          "model_name": "HTMLModel",
          "model_module_version": "1.5.0",
          "state": {
            "_dom_classes": [],
            "_model_module": "@jupyter-widgets/controls",
            "_model_module_version": "1.5.0",
            "_model_name": "HTMLModel",
            "_view_count": null,
            "_view_module": "@jupyter-widgets/controls",
            "_view_module_version": "1.5.0",
            "_view_name": "HTMLView",
            "description": "",
            "description_tooltip": null,
            "layout": "IPY_MODEL_2289c8abf6c248159fb0687c35b8ffc5",
            "placeholder": "​",
            "style": "IPY_MODEL_1e8366f787e840f6903fed19450c6a04",
            "value": " 11362/167711 [2:51:54&lt;31:46:32,  1.37it/s]"
          }
        },
        "8646cd13ec3e49d092d974cac8d4dda6": {
          "model_module": "@jupyter-widgets/base",
          "model_name": "LayoutModel",
          "model_module_version": "1.2.0",
          "state": {
            "_model_module": "@jupyter-widgets/base",
            "_model_module_version": "1.2.0",
            "_model_name": "LayoutModel",
            "_view_count": null,
            "_view_module": "@jupyter-widgets/base",
            "_view_module_version": "1.2.0",
            "_view_name": "LayoutView",
            "align_content": null,
            "align_items": null,
            "align_self": null,
            "border": null,
            "bottom": null,
            "display": null,
            "flex": null,
            "flex_flow": null,
            "grid_area": null,
            "grid_auto_columns": null,
            "grid_auto_flow": null,
            "grid_auto_rows": null,
            "grid_column": null,
            "grid_gap": null,
            "grid_row": null,
            "grid_template_areas": null,
            "grid_template_columns": null,
            "grid_template_rows": null,
            "height": null,
            "justify_content": null,
            "justify_items": null,
            "left": null,
            "margin": null,
            "max_height": null,
            "max_width": null,
            "min_height": null,
            "min_width": null,
            "object_fit": null,
            "object_position": null,
            "order": null,
            "overflow": null,
            "overflow_x": null,
            "overflow_y": null,
            "padding": null,
            "right": null,
            "top": null,
            "visibility": null,
            "width": null
          }
        },
        "b01ecbf12c9e46f4a4676f1ff287cae1": {
          "model_module": "@jupyter-widgets/base",
          "model_name": "LayoutModel",
          "model_module_version": "1.2.0",
          "state": {
            "_model_module": "@jupyter-widgets/base",
            "_model_module_version": "1.2.0",
            "_model_name": "LayoutModel",
            "_view_count": null,
            "_view_module": "@jupyter-widgets/base",
            "_view_module_version": "1.2.0",
            "_view_name": "LayoutView",
            "align_content": null,
            "align_items": null,
            "align_self": null,
            "border": null,
            "bottom": null,
            "display": null,
            "flex": null,
            "flex_flow": null,
            "grid_area": null,
            "grid_auto_columns": null,
            "grid_auto_flow": null,
            "grid_auto_rows": null,
            "grid_column": null,
            "grid_gap": null,
            "grid_row": null,
            "grid_template_areas": null,
            "grid_template_columns": null,
            "grid_template_rows": null,
            "height": null,
            "justify_content": null,
            "justify_items": null,
            "left": null,
            "margin": null,
            "max_height": null,
            "max_width": null,
            "min_height": null,
            "min_width": null,
            "object_fit": null,
            "object_position": null,
            "order": null,
            "overflow": null,
            "overflow_x": null,
            "overflow_y": null,
            "padding": null,
            "right": null,
            "top": null,
            "visibility": null,
            "width": null
          }
        },
        "3c49cec5e65649408fd4626d09b5ef36": {
          "model_module": "@jupyter-widgets/controls",
          "model_name": "DescriptionStyleModel",
          "model_module_version": "1.5.0",
          "state": {
            "_model_module": "@jupyter-widgets/controls",
            "_model_module_version": "1.5.0",
            "_model_name": "DescriptionStyleModel",
            "_view_count": null,
            "_view_module": "@jupyter-widgets/base",
            "_view_module_version": "1.2.0",
            "_view_name": "StyleView",
            "description_width": ""
          }
        },
        "0ca2b2a06fa949cca13d40bd28ddb9d3": {
          "model_module": "@jupyter-widgets/base",
          "model_name": "LayoutModel",
          "model_module_version": "1.2.0",
          "state": {
            "_model_module": "@jupyter-widgets/base",
            "_model_module_version": "1.2.0",
            "_model_name": "LayoutModel",
            "_view_count": null,
            "_view_module": "@jupyter-widgets/base",
            "_view_module_version": "1.2.0",
            "_view_name": "LayoutView",
            "align_content": null,
            "align_items": null,
            "align_self": null,
            "border": null,
            "bottom": null,
            "display": null,
            "flex": null,
            "flex_flow": null,
            "grid_area": null,
            "grid_auto_columns": null,
            "grid_auto_flow": null,
            "grid_auto_rows": null,
            "grid_column": null,
            "grid_gap": null,
            "grid_row": null,
            "grid_template_areas": null,
            "grid_template_columns": null,
            "grid_template_rows": null,
            "height": null,
            "justify_content": null,
            "justify_items": null,
            "left": null,
            "margin": null,
            "max_height": null,
            "max_width": null,
            "min_height": null,
            "min_width": null,
            "object_fit": null,
            "object_position": null,
            "order": null,
            "overflow": null,
            "overflow_x": null,
            "overflow_y": null,
            "padding": null,
            "right": null,
            "top": null,
            "visibility": null,
            "width": null
          }
        },
        "eebdf980a3644c64b74f77772a36a893": {
          "model_module": "@jupyter-widgets/controls",
          "model_name": "ProgressStyleModel",
          "model_module_version": "1.5.0",
          "state": {
            "_model_module": "@jupyter-widgets/controls",
            "_model_module_version": "1.5.0",
            "_model_name": "ProgressStyleModel",
            "_view_count": null,
            "_view_module": "@jupyter-widgets/base",
            "_view_module_version": "1.2.0",
            "_view_name": "StyleView",
            "bar_color": null,
            "description_width": ""
          }
        },
        "2289c8abf6c248159fb0687c35b8ffc5": {
          "model_module": "@jupyter-widgets/base",
          "model_name": "LayoutModel",
          "model_module_version": "1.2.0",
          "state": {
            "_model_module": "@jupyter-widgets/base",
            "_model_module_version": "1.2.0",
            "_model_name": "LayoutModel",
            "_view_count": null,
            "_view_module": "@jupyter-widgets/base",
            "_view_module_version": "1.2.0",
            "_view_name": "LayoutView",
            "align_content": null,
            "align_items": null,
            "align_self": null,
            "border": null,
            "bottom": null,
            "display": null,
            "flex": null,
            "flex_flow": null,
            "grid_area": null,
            "grid_auto_columns": null,
            "grid_auto_flow": null,
            "grid_auto_rows": null,
            "grid_column": null,
            "grid_gap": null,
            "grid_row": null,
            "grid_template_areas": null,
            "grid_template_columns": null,
            "grid_template_rows": null,
            "height": null,
            "justify_content": null,
            "justify_items": null,
            "left": null,
            "margin": null,
            "max_height": null,
            "max_width": null,
            "min_height": null,
            "min_width": null,
            "object_fit": null,
            "object_position": null,
            "order": null,
            "overflow": null,
            "overflow_x": null,
            "overflow_y": null,
            "padding": null,
            "right": null,
            "top": null,
            "visibility": null,
            "width": null
          }
        },
        "1e8366f787e840f6903fed19450c6a04": {
          "model_module": "@jupyter-widgets/controls",
          "model_name": "DescriptionStyleModel",
          "model_module_version": "1.5.0",
          "state": {
            "_model_module": "@jupyter-widgets/controls",
            "_model_module_version": "1.5.0",
            "_model_name": "DescriptionStyleModel",
            "_view_count": null,
            "_view_module": "@jupyter-widgets/base",
            "_view_module_version": "1.2.0",
            "_view_name": "StyleView",
            "description_width": ""
          }
        },
        "86824c59785f4962bfb96c2a09055c43": {
          "model_module": "@jupyter-widgets/controls",
          "model_name": "HBoxModel",
          "model_module_version": "1.5.0",
          "state": {
            "_dom_classes": [],
            "_model_module": "@jupyter-widgets/controls",
            "_model_module_version": "1.5.0",
            "_model_name": "HBoxModel",
            "_view_count": null,
            "_view_module": "@jupyter-widgets/controls",
            "_view_module_version": "1.5.0",
            "_view_name": "HBoxView",
            "box_style": "",
            "children": [
              "IPY_MODEL_f420d5ea9bc14c6ebf013f64eff21353",
              "IPY_MODEL_dc3062adf5674232860a793a5b89de2c",
              "IPY_MODEL_848c065501ef4ab9bdcdbbe611b3c2f7"
            ],
            "layout": "IPY_MODEL_dc2463a7274346dbb062f5dae472c9ac"
          }
        },
        "f420d5ea9bc14c6ebf013f64eff21353": {
          "model_module": "@jupyter-widgets/controls",
          "model_name": "HTMLModel",
          "model_module_version": "1.5.0",
          "state": {
            "_dom_classes": [],
            "_model_module": "@jupyter-widgets/controls",
            "_model_module_version": "1.5.0",
            "_model_name": "HTMLModel",
            "_view_count": null,
            "_view_module": "@jupyter-widgets/controls",
            "_view_module_version": "1.5.0",
            "_view_name": "HTMLView",
            "description": "",
            "description_tooltip": null,
            "layout": "IPY_MODEL_2e7b0b54232a40e390f5722a452c944f",
            "placeholder": "​",
            "style": "IPY_MODEL_607ff4ed289846ce97561f59599a1520",
            "value": " 54%"
          }
        },
        "dc3062adf5674232860a793a5b89de2c": {
          "model_module": "@jupyter-widgets/controls",
          "model_name": "FloatProgressModel",
          "model_module_version": "1.5.0",
          "state": {
            "_dom_classes": [],
            "_model_module": "@jupyter-widgets/controls",
            "_model_module_version": "1.5.0",
            "_model_name": "FloatProgressModel",
            "_view_count": null,
            "_view_module": "@jupyter-widgets/controls",
            "_view_module_version": "1.5.0",
            "_view_name": "ProgressView",
            "bar_style": "",
            "description": "",
            "description_tooltip": null,
            "layout": "IPY_MODEL_457d6163dabe48b9b449b11cc91f9b38",
            "max": 167711,
            "min": 0,
            "orientation": "horizontal",
            "style": "IPY_MODEL_98c156efe839477684d8541208d4ddfd",
            "value": 90585
          }
        },
        "848c065501ef4ab9bdcdbbe611b3c2f7": {
          "model_module": "@jupyter-widgets/controls",
          "model_name": "HTMLModel",
          "model_module_version": "1.5.0",
          "state": {
            "_dom_classes": [],
            "_model_module": "@jupyter-widgets/controls",
            "_model_module_version": "1.5.0",
            "_model_name": "HTMLModel",
            "_view_count": null,
            "_view_module": "@jupyter-widgets/controls",
            "_view_module_version": "1.5.0",
            "_view_name": "HTMLView",
            "description": "",
            "description_tooltip": null,
            "layout": "IPY_MODEL_738ac5248b564e35988f4ad906673100",
            "placeholder": "​",
            "style": "IPY_MODEL_27e0d28df818453cab6db7219ea00cf3",
            "value": " 90584/167711 [23:39:04&lt;16:22:28,  1.31it/s]"
          }
        },
        "dc2463a7274346dbb062f5dae472c9ac": {
          "model_module": "@jupyter-widgets/base",
          "model_name": "LayoutModel",
          "model_module_version": "1.2.0",
          "state": {
            "_model_module": "@jupyter-widgets/base",
            "_model_module_version": "1.2.0",
            "_model_name": "LayoutModel",
            "_view_count": null,
            "_view_module": "@jupyter-widgets/base",
            "_view_module_version": "1.2.0",
            "_view_name": "LayoutView",
            "align_content": null,
            "align_items": null,
            "align_self": null,
            "border": null,
            "bottom": null,
            "display": null,
            "flex": null,
            "flex_flow": null,
            "grid_area": null,
            "grid_auto_columns": null,
            "grid_auto_flow": null,
            "grid_auto_rows": null,
            "grid_column": null,
            "grid_gap": null,
            "grid_row": null,
            "grid_template_areas": null,
            "grid_template_columns": null,
            "grid_template_rows": null,
            "height": null,
            "justify_content": null,
            "justify_items": null,
            "left": null,
            "margin": null,
            "max_height": null,
            "max_width": null,
            "min_height": null,
            "min_width": null,
            "object_fit": null,
            "object_position": null,
            "order": null,
            "overflow": null,
            "overflow_x": null,
            "overflow_y": null,
            "padding": null,
            "right": null,
            "top": null,
            "visibility": null,
            "width": null
          }
        },
        "2e7b0b54232a40e390f5722a452c944f": {
          "model_module": "@jupyter-widgets/base",
          "model_name": "LayoutModel",
          "model_module_version": "1.2.0",
          "state": {
            "_model_module": "@jupyter-widgets/base",
            "_model_module_version": "1.2.0",
            "_model_name": "LayoutModel",
            "_view_count": null,
            "_view_module": "@jupyter-widgets/base",
            "_view_module_version": "1.2.0",
            "_view_name": "LayoutView",
            "align_content": null,
            "align_items": null,
            "align_self": null,
            "border": null,
            "bottom": null,
            "display": null,
            "flex": null,
            "flex_flow": null,
            "grid_area": null,
            "grid_auto_columns": null,
            "grid_auto_flow": null,
            "grid_auto_rows": null,
            "grid_column": null,
            "grid_gap": null,
            "grid_row": null,
            "grid_template_areas": null,
            "grid_template_columns": null,
            "grid_template_rows": null,
            "height": null,
            "justify_content": null,
            "justify_items": null,
            "left": null,
            "margin": null,
            "max_height": null,
            "max_width": null,
            "min_height": null,
            "min_width": null,
            "object_fit": null,
            "object_position": null,
            "order": null,
            "overflow": null,
            "overflow_x": null,
            "overflow_y": null,
            "padding": null,
            "right": null,
            "top": null,
            "visibility": null,
            "width": null
          }
        },
        "607ff4ed289846ce97561f59599a1520": {
          "model_module": "@jupyter-widgets/controls",
          "model_name": "DescriptionStyleModel",
          "model_module_version": "1.5.0",
          "state": {
            "_model_module": "@jupyter-widgets/controls",
            "_model_module_version": "1.5.0",
            "_model_name": "DescriptionStyleModel",
            "_view_count": null,
            "_view_module": "@jupyter-widgets/base",
            "_view_module_version": "1.2.0",
            "_view_name": "StyleView",
            "description_width": ""
          }
        },
        "457d6163dabe48b9b449b11cc91f9b38": {
          "model_module": "@jupyter-widgets/base",
          "model_name": "LayoutModel",
          "model_module_version": "1.2.0",
          "state": {
            "_model_module": "@jupyter-widgets/base",
            "_model_module_version": "1.2.0",
            "_model_name": "LayoutModel",
            "_view_count": null,
            "_view_module": "@jupyter-widgets/base",
            "_view_module_version": "1.2.0",
            "_view_name": "LayoutView",
            "align_content": null,
            "align_items": null,
            "align_self": null,
            "border": null,
            "bottom": null,
            "display": null,
            "flex": null,
            "flex_flow": null,
            "grid_area": null,
            "grid_auto_columns": null,
            "grid_auto_flow": null,
            "grid_auto_rows": null,
            "grid_column": null,
            "grid_gap": null,
            "grid_row": null,
            "grid_template_areas": null,
            "grid_template_columns": null,
            "grid_template_rows": null,
            "height": null,
            "justify_content": null,
            "justify_items": null,
            "left": null,
            "margin": null,
            "max_height": null,
            "max_width": null,
            "min_height": null,
            "min_width": null,
            "object_fit": null,
            "object_position": null,
            "order": null,
            "overflow": null,
            "overflow_x": null,
            "overflow_y": null,
            "padding": null,
            "right": null,
            "top": null,
            "visibility": null,
            "width": null
          }
        },
        "98c156efe839477684d8541208d4ddfd": {
          "model_module": "@jupyter-widgets/controls",
          "model_name": "ProgressStyleModel",
          "model_module_version": "1.5.0",
          "state": {
            "_model_module": "@jupyter-widgets/controls",
            "_model_module_version": "1.5.0",
            "_model_name": "ProgressStyleModel",
            "_view_count": null,
            "_view_module": "@jupyter-widgets/base",
            "_view_module_version": "1.2.0",
            "_view_name": "StyleView",
            "bar_color": null,
            "description_width": ""
          }
        },
        "738ac5248b564e35988f4ad906673100": {
          "model_module": "@jupyter-widgets/base",
          "model_name": "LayoutModel",
          "model_module_version": "1.2.0",
          "state": {
            "_model_module": "@jupyter-widgets/base",
            "_model_module_version": "1.2.0",
            "_model_name": "LayoutModel",
            "_view_count": null,
            "_view_module": "@jupyter-widgets/base",
            "_view_module_version": "1.2.0",
            "_view_name": "LayoutView",
            "align_content": null,
            "align_items": null,
            "align_self": null,
            "border": null,
            "bottom": null,
            "display": null,
            "flex": null,
            "flex_flow": null,
            "grid_area": null,
            "grid_auto_columns": null,
            "grid_auto_flow": null,
            "grid_auto_rows": null,
            "grid_column": null,
            "grid_gap": null,
            "grid_row": null,
            "grid_template_areas": null,
            "grid_template_columns": null,
            "grid_template_rows": null,
            "height": null,
            "justify_content": null,
            "justify_items": null,
            "left": null,
            "margin": null,
            "max_height": null,
            "max_width": null,
            "min_height": null,
            "min_width": null,
            "object_fit": null,
            "object_position": null,
            "order": null,
            "overflow": null,
            "overflow_x": null,
            "overflow_y": null,
            "padding": null,
            "right": null,
            "top": null,
            "visibility": null,
            "width": null
          }
        },
        "27e0d28df818453cab6db7219ea00cf3": {
          "model_module": "@jupyter-widgets/controls",
          "model_name": "DescriptionStyleModel",
          "model_module_version": "1.5.0",
          "state": {
            "_model_module": "@jupyter-widgets/controls",
            "_model_module_version": "1.5.0",
            "_model_name": "DescriptionStyleModel",
            "_view_count": null,
            "_view_module": "@jupyter-widgets/base",
            "_view_module_version": "1.2.0",
            "_view_name": "StyleView",
            "description_width": ""
          }
        }
      }
    }
  },
  "nbformat": 4,
  "nbformat_minor": 5
}