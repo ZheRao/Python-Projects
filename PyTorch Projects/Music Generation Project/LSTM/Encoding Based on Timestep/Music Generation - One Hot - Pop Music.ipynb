{
 "cells": [
  {
   "cell_type": "code",
   "execution_count": 12,
   "id": "e040aa04",
   "metadata": {},
   "outputs": [],
   "source": [
    "#import torch\n",
    "#import torch.nn as nn\n",
    "#from torch.autograd import Variable\n",
    "#import torch.utils.data as data\n",
    "#import os\n",
    "#import pandas as pd\n",
    "#import numpy as np\n",
    "#import matplotlib.pyplot as plt\n",
    "#from tqdm.auto import tqdm\n",
    "#import random\n",
    "#from torch import optim\n",
    "import math\n",
    "#import pypianoroll\n",
    "#import Functions as F"
   ]
  },
  {
   "cell_type": "markdown",
   "id": "15121072",
   "metadata": {},
   "source": [
    "# Customized Dataset"
   ]
  },
  {
   "cell_type": "code",
   "execution_count": 2,
   "id": "74d1ea58",
   "metadata": {},
   "outputs": [],
   "source": [
    "import os\n",
    "import pandas as pd\n",
    "import numpy as np\n",
    "class customDataset(data.Dataset):\n",
    "    def __init__(self,path):\n",
    "        self.path = path\n",
    "        fnames = os.listdir(path)\n",
    "        fnames_ful = map(lambda fname: os.path.join(path, fname), fnames)\n",
    "        # hold a list of full file paths\n",
    "        self.fnames_ful = list(fnames_ful)\n",
    "        print(\"Total samples: \", len(self.fnames_ful))\n",
    "    \n",
    "    def __len__(self):\n",
    "        return len(self.fnames_ful)\n",
    "    \n",
    "    def __getitem__(self, index):\n",
    "        fnames_ful = self.fnames_ful[index]\n",
    "        roll = pd.read_csv(fnames_ful,header=None)\n",
    "        roll = np.array(roll)\n",
    "        # input sequence is from first element til the second last so that\n",
    "        #  the model could predict from the second element til the last one\n",
    "        input_seq = roll[:-1,:]\n",
    "        # we expect the model to predict the final 10 elements\n",
    "        output_seq = roll[1:,:]\n",
    "        #output_seq = roll[1:,:]\n",
    "        return (input_seq,output_seq)\n",
    "        \n",
    "        "
   ]
  },
  {
   "cell_type": "markdown",
   "id": "5fa4ad6f",
   "metadata": {},
   "source": [
    "# Dataloaders"
   ]
  },
  {
   "cell_type": "code",
   "execution_count": 3,
   "id": "5fae955c",
   "metadata": {},
   "outputs": [
    {
     "name": "stdout",
     "output_type": "stream",
     "text": [
      "Total samples:  28375\n"
     ]
    }
   ],
   "source": [
    "path = \"Pop-music - One Hot/Train\"\n",
    "\n",
    "train_dataset = customDataset(path)\n",
    "train_dataloader = data.DataLoader(train_dataset,batch_size=32,shuffle=True)"
   ]
  },
  {
   "cell_type": "code",
   "execution_count": 4,
   "id": "518dc525",
   "metadata": {},
   "outputs": [
    {
     "name": "stdout",
     "output_type": "stream",
     "text": [
      "torch.Size([32, 1999, 88])\n",
      "torch.Size([32, 1999, 88])\n"
     ]
    }
   ],
   "source": [
    "# check\n",
    "X_train=next(iter(train_dataloader))\n",
    "print(X_train[0].shape) # input seq\n",
    "print(X_train[1].shape) # output seq"
   ]
  },
  {
   "cell_type": "code",
   "execution_count": 5,
   "id": "593f05e6",
   "metadata": {},
   "outputs": [
    {
     "name": "stdout",
     "output_type": "stream",
     "text": [
      "Total samples:  4350\n"
     ]
    }
   ],
   "source": [
    "# validation set\n",
    "\n",
    "path = \"Pop-music - One Hot/Val\"\n",
    "#val_dataset = customDataset(path)\n",
    "val_dataset = customDataset(path)\n",
    "# seperate val set into 5 sets because validate 40,000 every time is too much\n",
    "#  now it would only validate on 8,000\n",
    "set1 = list(range(0,len(val_dataset),3))\n",
    "set2 = list(range(1,len(val_dataset),3))\n",
    "set3 = list(range(2,len(val_dataset),3))\n",
    "#set4 = list(range(3,len(val_dataset),5))\n",
    "#set5 = list(range(4,len(val_dataset),5))\n",
    "\n",
    "val1 = data.Subset(val_dataset,set1)\n",
    "val2 = data.Subset(val_dataset,set2)\n",
    "val3 = data.Subset(val_dataset,set3)\n",
    "#val4 = data.Subset(val_dataset,set4)\n",
    "#val5 = data.Subset(val_dataset,set5)\"\"\n",
    "\n",
    "size = 64\n",
    "val_dataloader1 = data.DataLoader(val1,batch_size=size,shuffle=True)\n",
    "val_dataloader2 = data.DataLoader(val2,batch_size=size,shuffle=True)\n",
    "val_dataloader3 = data.DataLoader(val3,batch_size=size,shuffle=True)\n",
    "#val_dataloader4 = data.DataLoader(val4,batch_size=size,shuffle=True)\n",
    "#val_dataloader5 = data.DataLoader(val5,batch_size=size,shuffle=True)\n",
    "\n",
    "val_dataloaders = [val_dataloader1,\n",
    "               val_dataloader2,\n",
    "                val_dataloader3]"
   ]
  },
  {
   "cell_type": "code",
   "execution_count": 6,
   "id": "e41bb28d",
   "metadata": {},
   "outputs": [
    {
     "name": "stdout",
     "output_type": "stream",
     "text": [
      "torch.Size([64, 1999, 88])\n",
      "torch.Size([64, 1999, 88])\n"
     ]
    }
   ],
   "source": [
    "# check\n",
    "X_val = next(iter(val_dataloader1))\n",
    "print(X_val[0].shape) # input seq\n",
    "print(X_val[1].shape) # output seq"
   ]
  },
  {
   "cell_type": "markdown",
   "id": "2877befb",
   "metadata": {},
   "source": [
    "## visualization"
   ]
  },
  {
   "cell_type": "code",
   "execution_count": 8,
   "id": "6800a347",
   "metadata": {},
   "outputs": [
    {
     "data": {
      "text/plain": [
       "<matplotlib.image.AxesImage at 0x1e5d0514b20>"
      ]
     },
     "execution_count": 8,
     "metadata": {},
     "output_type": "execute_result"
    },
    {
     "data": {
      "image/png": "[encoded data removed]",
      "text/plain": [
       "<Figure size 720x504 with 1 Axes>"
      ]
     },
     "metadata": {
      "needs_background": "light"
     },
     "output_type": "display_data"
    }
   ],
   "source": [
    "plt.figure(figsize=(10,7))\n",
    "plt.title(\"Matrix representation of a pop music composition\")\n",
    "plt.imshow(X_train[0][4][:1000].T)"
   ]
  },
  {
   "cell_type": "markdown",
   "id": "e7a52cfb",
   "metadata": {},
   "source": [
    "# Training and validation Routine"
   ]
  },
  {
   "cell_type": "code",
   "execution_count": 9,
   "id": "b4547161",
   "metadata": {},
   "outputs": [],
   "source": [
    "def evaluate(model,val_loader,device,loss_fn):\n",
    "    model.eval()\n",
    "    val_loss = 0.0\n",
    "    steps = 0\n",
    "    \n",
    "    for batch in val_loader:\n",
    "        steps += 1\n",
    "        input_seq, output_seq = batch\n",
    "        input_seq, output_seq = input_seq.to(device), output_seq.to(device)\n",
    "        # try to fix error :\"addmm_cuda\" not implemented for 'Long'\n",
    "        input_seq = input_seq.float()\n",
    "        \n",
    "        output_seq = output_seq.transpose(0,1).contiguous()\n",
    "        output_seq = output_seq.contiguous().view(-1)\n",
    "        \n",
    "        final,_ = model(input_seq)\n",
    "        # try to fix:\"nll_loss_forward_reduce_cuda_kernel_2d_index\" not implemented for 'Float'\n",
    "        #final, output_seq = final.double(),output_seq.double()\n",
    "        loss = loss_fn(final,output_seq)\n",
    "        val_loss += loss.item()\n",
    "    \n",
    "    print(\"The mean validation loss is %.6f\" % (val_loss/steps))\n",
    "    print()\n",
    "    return val_loss/steps"
   ]
  },
  {
   "cell_type": "code",
   "execution_count": 10,
   "id": "6132b032",
   "metadata": {},
   "outputs": [],
   "source": [
    "def train(model,trainloader,valloaders,ep,print_freq,loss_fun,\n",
    "          optimizer,device,run,grad_clip=1.0,mname=\"LSTM\"):\n",
    "    val_loss_best = float(\"inf\")\n",
    "    \n",
    "    # total number of training steps\n",
    "    num_steps = ep * (len(trainloader))\n",
    "    progress_bar = tqdm(range(num_steps))\n",
    "    \n",
    "    # calculate how often print the result\n",
    "    #  if num_step = 12, and print_freq = 3, then print every 4 steps\n",
    "    print_every = math.floor(num_steps/print_freq)\n",
    "    \n",
    "    # initialize\n",
    "    steps = 0\n",
    "    #model.to(device) ## error when run this twice\n",
    "    model.train()\n",
    "    train_losses = []\n",
    "    val_losses = []\n",
    "    which_val = 0\n",
    "    \n",
    "    for e in range(ep):\n",
    "        current_loss = 0\n",
    "        for batch in trainloader:\n",
    "            input_s, output_s = batch\n",
    "            steps += 1\n",
    "            input_seq, output_seq = input_s.to(device), output_s.to(device)\n",
    "            # try to fix error :\"addmm_cuda\" not implemented for 'Long'\n",
    "            #  note: output_seq should stay long (int)\n",
    "            input_seq = input_seq.float()\n",
    "            #print(\"input shape: \",input_seq.shape)\n",
    "            \n",
    "            output_seq = output_seq.transpose(0,1).contiguous()\n",
    "            #print(\"original output shape: \", output_seq.shape)\n",
    "            output_seq = output_seq.contiguous().view(-1)\n",
    "\n",
    "            \n",
    "            # calculate grad and update\n",
    "            optimizer.zero_grad()\n",
    "            final,_ = model(input_seq)\n",
    "            loss = loss_fun(final, output_seq)\n",
    "            #print(\"loss: \", loss)\n",
    "            train_losses.append(loss.item())\n",
    "            current_loss += loss.item()\n",
    "            #print(current_loss)\n",
    "            # update parameter\n",
    "            loss.backward()\n",
    "            torch.nn.utils.clip_grad_norm_(model.parameters(),grad_clip)\n",
    "            optimizer.step()\n",
    "            \n",
    "            # update progress bar\n",
    "            progress_bar.update(1)\n",
    "            \n",
    "            # print if reach the threshold we want\n",
    "            if steps % print_every == 0:\n",
    "                # training loss: divided by the number of steps taken during training\n",
    "                #  from last print to current print\n",
    "                print('EPOCHS : {}/{}'.format(e+1,ep),\n",
    "                          'Loss : {:.6f}'.format(current_loss/print_every))\n",
    "\n",
    "                current_loss = 0\n",
    "                #which_val = random.randint(0,4)\n",
    "                which_val = random.randint(0,2) # now I only have 2 val sets\n",
    "                # val loss: divided by the number of steps taken when validate\n",
    "                val_loss = evaluate(model,valloaders[which_val],device,loss_fun)\n",
    "                val_losses.append(val_loss)\n",
    "                \n",
    "                # add call back\n",
    "                if val_loss < val_loss_best:\n",
    "                    val_loss_best = val_loss\n",
    "                    torch.save(model.state_dict(),\n",
    "                     \"Handcrafted Dataset - One Hot Weights/\"+mname+\"-run-{}-val_loss-BEST.pth\".format(run))\n",
    "            model.train()\n",
    "    return train_losses, val_losses"
   ]
  },
  {
   "cell_type": "markdown",
   "id": "97c0232b",
   "metadata": {},
   "source": [
    "# Model"
   ]
  },
  {
   "cell_type": "code",
   "execution_count": 11,
   "id": "d50c673c",
   "metadata": {},
   "outputs": [],
   "source": [
    "class PopBaseLSTM(nn.Module):\n",
    "    def __init__(self, input_size = 88, embed_size = 256, hidden_size = 512, \n",
    "                  num_class = 88, layers = 1):\n",
    "        super(PopBaseLSTM, self).__init__()\n",
    "        self.input_size = input_size\n",
    "        self.embed_size = embed_size\n",
    "        self.hidden_size = hidden_size\n",
    "        self.num_class = num_class\n",
    "        self.layers = layers\n",
    "        self.notes_encoder = nn.Linear(in_features=input_size, out_features=embed_size)\n",
    "        self.layernorm_encoder = nn.LayerNorm(embed_size)\n",
    "        self.layernorm_lstm = nn.LayerNorm(hidden_size)\n",
    "        self.lstm = nn.LSTM(embed_size,hidden_size,layers)\n",
    "        self.final = nn.Linear(hidden_size,num_class)\n",
    "\n",
    "        \n",
    "    def forward(self,sequences,hidden=None):\n",
    "        # seq shape (batch,seq_len,88)\n",
    "        notes_encoded = self.notes_encoder(sequences) # shape (batch,seq_len,embed_size)\n",
    "        #notes_rolled = notes_encoded.permute(1,2,0).contiguous()\n",
    "                                                      # shape (seq_len,embed_size,batch)\n",
    "        notes_rolled = notes_encoded\n",
    "        notes_lnormed = self.layernorm_encoder(notes_rolled)\n",
    "        notes_lnormed = nn.Dropout(0.1)(notes_lnormed)\n",
    "        #notes = notes_lnormed.permute(2,0,1)          # shape (batch,seq_len,embed_size)\n",
    "        notes = notes_lnormed\n",
    "        \n",
    "        # output shape (batch,seq_len,hidden_size)\n",
    "        output, hidden = self.lstm(notes,hidden)\n",
    "        \n",
    "        #output_lnormed = self.layernorm_lstm(output.permute(1,2,0).contiguous())\n",
    "        output_lnormed = self.layernorm_lstm(output)\n",
    "        output_lnormed = nn.Dropout(0.1)(output_lnormed)\n",
    "        \n",
    "\n",
    "        \n",
    "        # only take the final 1000\n",
    "        #output_lnormed = output_lnormed[:,-1000:,:] \n",
    "        \n",
    "        # final shape (batch,200,num_class)\n",
    "        #final = self.final(output_lnormed.permute(2,0,1))\n",
    "        final = self.final(output_lnormed) # final (batch,200,hidden_size) --> \n",
    "                                            #                 (batch,200,88)\n",
    "        \n",
    "        ###\n",
    "        #final = self.relu(final)\n",
    "        #final = nn.Dropout(0.5)(final)\n",
    "        #final = self.final2(final)\n",
    "        \n",
    "        \n",
    "        ###\n",
    "        \n",
    "        # final shape (200,batch,88)\n",
    "        final = final.transpose(0,1).contiguous()\n",
    "        #print(\"original final shape: \", final.shape)\n",
    "        \n",
    "        # create a second measure for prediction per class, shape(seq_len,batch,num_class)\n",
    "        neg_final = 1 - final\n",
    "        \n",
    "        # two \"predictions\" for each node\n",
    "        zero_one_final = torch.stack((final,neg_final),dim=3).contiguous()\n",
    "        \n",
    "        # flatten everything except for the two predictions dimension\n",
    "        flatten_final = zero_one_final.view(-1,2)\n",
    "        \n",
    "        return flatten_final, hidden"
   ]
  },
  {
   "cell_type": "markdown",
   "id": "d67d33a8",
   "metadata": {},
   "source": [
    "# BaseLSTM1 - length 2000\n",
    "batchsize = 32"
   ]
  },
  {
   "cell_type": "code",
   "execution_count": 12,
   "id": "1c4b053d",
   "metadata": {},
   "outputs": [],
   "source": [
    "PopBaseLSTM1 = PopBaseLSTM(input_size = 88, embed_size = 256, hidden_size = 512, \n",
    "                  num_class = 88, layers = 1).cuda()\n",
    "optimizer = optim.AdamW(PopBaseLSTM1.parameters(),lr=1e-4)\n",
    "loss_fn = nn.CrossEntropyLoss()"
   ]
  },
  {
   "cell_type": "code",
   "execution_count": 15,
   "id": "773e6af0",
   "metadata": {
    "scrolled": true
   },
   "outputs": [
    {
     "data": {
      "application/vnd.jupyter.widget-view+json": {
       "model_id": "f7f51dc429aa4e0095b035f00398d910",
       "version_major": 2,
       "version_minor": 0
      },
      "text/plain": [
       "  0%|          | 0/887 [00:00<?, ?it/s]"
      ]
     },
     "metadata": {},
     "output_type": "display_data"
    },
    {
     "name": "stdout",
     "output_type": "stream",
     "text": [
      "EPOCHS : 1/1 Loss : 0.421925\n",
      "The mean validation loss is 0.0654\n",
      "\n",
      "EPOCHS : 1/1 Loss : 0.155907\n",
      "The mean validation loss is 0.0340\n",
      "\n",
      "EPOCHS : 1/1 Loss : 0.103671\n",
      "The mean validation loss is 0.0172\n",
      "\n",
      "EPOCHS : 1/1 Loss : 0.072764\n",
      "The mean validation loss is 0.0098\n",
      "\n",
      "EPOCHS : 1/1 Loss : 0.055441\n",
      "The mean validation loss is 0.0061\n",
      "\n",
      "EPOCHS : 1/1 Loss : 0.045409\n",
      "The mean validation loss is 0.0041\n",
      "\n",
      "EPOCHS : 1/1 Loss : 0.038642\n",
      "The mean validation loss is 0.0030\n",
      "\n",
      "EPOCHS : 1/1 Loss : 0.034670\n",
      "The mean validation loss is 0.0023\n",
      "\n",
      "EPOCHS : 1/1 Loss : 0.031799\n",
      "The mean validation loss is 0.0018\n",
      "\n",
      "EPOCHS : 1/1 Loss : 0.029651\n",
      "The mean validation loss is 0.0015\n",
      "\n",
      "EPOCHS : 1/1 Loss : 0.027696\n",
      "The mean validation loss is 0.0013\n",
      "\n",
      "EPOCHS : 1/1 Loss : 0.027029\n",
      "The mean validation loss is 0.0011\n",
      "\n",
      "EPOCHS : 1/1 Loss : 0.026093\n",
      "The mean validation loss is 0.0011\n",
      "\n",
      "EPOCHS : 1/1 Loss : 0.025644\n",
      "The mean validation loss is 0.0010\n",
      "\n",
      "EPOCHS : 1/1 Loss : 0.024760\n",
      "The mean validation loss is 0.0009\n",
      "\n",
      "EPOCHS : 1/1 Loss : 0.024473\n",
      "The mean validation loss is 0.0009\n",
      "\n",
      "EPOCHS : 1/1 Loss : 0.024279\n",
      "The mean validation loss is 0.0009\n",
      "\n",
      "EPOCHS : 1/1 Loss : 0.024119\n",
      "The mean validation loss is 0.0009\n",
      "\n",
      "EPOCHS : 1/1 Loss : 0.023530\n",
      "The mean validation loss is 0.0010\n",
      "\n",
      "EPOCHS : 1/1 Loss : 0.023644\n",
      "The mean validation loss is 0.0010\n",
      "\n"
     ]
    }
   ],
   "source": [
    "train_loss, val_loss = train(PopBaseLSTM1,train_dataloader,val_dataloaders,1,20,loss_fn,\n",
    "          optimizer,\"cuda\",1,grad_clip=1.0,mname=\"PopBaseLSTM1\")"
   ]
  },
  {
   "cell_type": "code",
   "execution_count": 13,
   "id": "2b7945f3",
   "metadata": {
    "scrolled": true
   },
   "outputs": [
    {
     "data": {
      "application/vnd.jupyter.widget-view+json": {
       "model_id": "9b599f09ecd84f4bb2e30459e35a2166",
       "version_major": 2,
       "version_minor": 0
      },
      "text/plain": [
       "  0%|          | 0/887 [00:00<?, ?it/s]"
      ]
     },
     "metadata": {},
     "output_type": "display_data"
    },
    {
     "name": "stdout",
     "output_type": "stream",
     "text": [
      "EPOCHS : 1/1 Loss : 0.023773\n",
      "The mean validation loss is 0.000904\n",
      "\n",
      "EPOCHS : 1/1 Loss : 0.023744\n",
      "The mean validation loss is 0.000903\n",
      "\n",
      "EPOCHS : 1/1 Loss : 0.023781\n",
      "The mean validation loss is 0.000916\n",
      "\n",
      "EPOCHS : 1/1 Loss : 0.023469\n",
      "The mean validation loss is 0.000937\n",
      "\n",
      "EPOCHS : 1/1 Loss : 0.023208\n",
      "The mean validation loss is 0.000984\n",
      "\n",
      "EPOCHS : 1/1 Loss : 0.023055\n",
      "The mean validation loss is 0.001014\n",
      "\n",
      "EPOCHS : 1/1 Loss : 0.022995\n",
      "The mean validation loss is 0.001048\n",
      "\n",
      "EPOCHS : 1/1 Loss : 0.022740\n",
      "The mean validation loss is 0.001102\n",
      "\n",
      "EPOCHS : 1/1 Loss : 0.022962\n",
      "The mean validation loss is 0.001160\n",
      "\n",
      "EPOCHS : 1/1 Loss : 0.022977\n",
      "The mean validation loss is 0.001249\n",
      "\n"
     ]
    }
   ],
   "source": [
    "optimizer = optim.AdamW(PopBaseLSTM1.parameters(),lr=5e-6)\n",
    "PopBaseLSTM1.load_state_dict(torch.load(\"Handcrafted Dataset - One Hot Weights/PopBaseLSTM1-run-1-val_loss-BEST.pth\"))\n",
    "train_loss, val_loss = train(PopBaseLSTM1,train_dataloader,val_dataloaders,1,10,loss_fn,\n",
    "          optimizer,\"cuda\",2,grad_clip=1.0,mname=\"PopBaseLSTM1\")"
   ]
  },
  {
   "cell_type": "code",
   "execution_count": 14,
   "id": "c5718378",
   "metadata": {},
   "outputs": [
    {
     "data": {
      "application/vnd.jupyter.widget-view+json": {
       "model_id": "612485aaf4c54cd5a8290a6037297abd",
       "version_major": 2,
       "version_minor": 0
      },
      "text/plain": [
       "  0%|          | 0/3548 [00:00<?, ?it/s]"
      ]
     },
     "metadata": {},
     "output_type": "display_data"
    },
    {
     "name": "stdout",
     "output_type": "stream",
     "text": [
      "EPOCHS : 1/4 Loss : 0.022732\n"
     ]
    },
    {
     "ename": "RuntimeError",
     "evalue": "CUDA out of memory. Tried to allocate 1.01 GiB (GPU 0; 6.00 GiB total capacity; 2.02 GiB already allocated; 623.38 MiB free; 3.40 GiB reserved in total by PyTorch) If reserved memory is >> allocated memory try setting max_split_size_mb to avoid fragmentation.  See documentation for Memory Management and PYTORCH_CUDA_ALLOC_CONF",
     "output_type": "error",
     "traceback": [
      "\u001b[1;31m---------------------------------------------------------------------------\u001b[0m",
      "\u001b[1;31mRuntimeError\u001b[0m                              Traceback (most recent call last)",
      "\u001b[1;32m~\\AppData\\Local\\Temp/ipykernel_19488/2675052487.py\u001b[0m in \u001b[0;36m<module>\u001b[1;34m\u001b[0m\n\u001b[1;32m----> 1\u001b[1;33m train_loss, val_loss = train(PopBaseLSTM1,train_dataloader,val_dataloaders,4,20,loss_fn,\n\u001b[0m\u001b[0;32m      2\u001b[0m           optimizer,\"cuda\",3,grad_clip=1.0,mname=\"PopBaseLSTM1\")\n",
      "\u001b[1;32m~\\AppData\\Local\\Temp/ipykernel_19488/3608770942.py\u001b[0m in \u001b[0;36mtrain\u001b[1;34m(model, trainloader, valloaders, ep, print_freq, loss_fun, optimizer, device, run, grad_clip, mname)\u001b[0m\n\u001b[0;32m     62\u001b[0m                 \u001b[0mwhich_val\u001b[0m \u001b[1;33m=\u001b[0m \u001b[0mrandom\u001b[0m\u001b[1;33m.\u001b[0m\u001b[0mrandint\u001b[0m\u001b[1;33m(\u001b[0m\u001b[1;36m0\u001b[0m\u001b[1;33m,\u001b[0m\u001b[1;36m2\u001b[0m\u001b[1;33m)\u001b[0m \u001b[1;31m# now I only have 2 val sets\u001b[0m\u001b[1;33m\u001b[0m\u001b[1;33m\u001b[0m\u001b[0m\n\u001b[0;32m     63\u001b[0m                 \u001b[1;31m# val loss: divided by the number of steps taken when validate\u001b[0m\u001b[1;33m\u001b[0m\u001b[1;33m\u001b[0m\u001b[0m\n\u001b[1;32m---> 64\u001b[1;33m                 \u001b[0mval_loss\u001b[0m \u001b[1;33m=\u001b[0m \u001b[0mevaluate\u001b[0m\u001b[1;33m(\u001b[0m\u001b[0mmodel\u001b[0m\u001b[1;33m,\u001b[0m\u001b[0mvalloaders\u001b[0m\u001b[1;33m[\u001b[0m\u001b[0mwhich_val\u001b[0m\u001b[1;33m]\u001b[0m\u001b[1;33m,\u001b[0m\u001b[0mdevice\u001b[0m\u001b[1;33m,\u001b[0m\u001b[0mloss_fun\u001b[0m\u001b[1;33m)\u001b[0m\u001b[1;33m\u001b[0m\u001b[1;33m\u001b[0m\u001b[0m\n\u001b[0m\u001b[0;32m     65\u001b[0m                 \u001b[0mval_losses\u001b[0m\u001b[1;33m.\u001b[0m\u001b[0mappend\u001b[0m\u001b[1;33m(\u001b[0m\u001b[0mval_loss\u001b[0m\u001b[1;33m)\u001b[0m\u001b[1;33m\u001b[0m\u001b[1;33m\u001b[0m\u001b[0m\n\u001b[0;32m     66\u001b[0m \u001b[1;33m\u001b[0m\u001b[0m\n",
      "\u001b[1;32m~\\AppData\\Local\\Temp/ipykernel_19488/3302521162.py\u001b[0m in \u001b[0;36mevaluate\u001b[1;34m(model, val_loader, device, loss_fn)\u001b[0m\n\u001b[0;32m     14\u001b[0m         \u001b[0moutput_seq\u001b[0m \u001b[1;33m=\u001b[0m \u001b[0moutput_seq\u001b[0m\u001b[1;33m.\u001b[0m\u001b[0mcontiguous\u001b[0m\u001b[1;33m(\u001b[0m\u001b[1;33m)\u001b[0m\u001b[1;33m.\u001b[0m\u001b[0mview\u001b[0m\u001b[1;33m(\u001b[0m\u001b[1;33m-\u001b[0m\u001b[1;36m1\u001b[0m\u001b[1;33m)\u001b[0m\u001b[1;33m\u001b[0m\u001b[1;33m\u001b[0m\u001b[0m\n\u001b[0;32m     15\u001b[0m \u001b[1;33m\u001b[0m\u001b[0m\n\u001b[1;32m---> 16\u001b[1;33m         \u001b[0mfinal\u001b[0m\u001b[1;33m,\u001b[0m\u001b[0m_\u001b[0m \u001b[1;33m=\u001b[0m \u001b[0mmodel\u001b[0m\u001b[1;33m(\u001b[0m\u001b[0minput_seq\u001b[0m\u001b[1;33m)\u001b[0m\u001b[1;33m\u001b[0m\u001b[1;33m\u001b[0m\u001b[0m\n\u001b[0m\u001b[0;32m     17\u001b[0m         \u001b[1;31m# try to fix:\"nll_loss_forward_reduce_cuda_kernel_2d_index\" not implemented for 'Float'\u001b[0m\u001b[1;33m\u001b[0m\u001b[1;33m\u001b[0m\u001b[0m\n\u001b[0;32m     18\u001b[0m         \u001b[1;31m#final, output_seq = final.double(),output_seq.double()\u001b[0m\u001b[1;33m\u001b[0m\u001b[1;33m\u001b[0m\u001b[0m\n",
      "\u001b[1;32mW:\\Tools\\Anaconda3\\envs\\pytorch\\lib\\site-packages\\torch\\nn\\modules\\module.py\u001b[0m in \u001b[0;36m_call_impl\u001b[1;34m(self, *input, **kwargs)\u001b[0m\n\u001b[0;32m   1100\u001b[0m         if not (self._backward_hooks or self._forward_hooks or self._forward_pre_hooks or _global_backward_hooks\n\u001b[0;32m   1101\u001b[0m                 or _global_forward_hooks or _global_forward_pre_hooks):\n\u001b[1;32m-> 1102\u001b[1;33m             \u001b[1;32mreturn\u001b[0m \u001b[0mforward_call\u001b[0m\u001b[1;33m(\u001b[0m\u001b[1;33m*\u001b[0m\u001b[0minput\u001b[0m\u001b[1;33m,\u001b[0m \u001b[1;33m**\u001b[0m\u001b[0mkwargs\u001b[0m\u001b[1;33m)\u001b[0m\u001b[1;33m\u001b[0m\u001b[1;33m\u001b[0m\u001b[0m\n\u001b[0m\u001b[0;32m   1103\u001b[0m         \u001b[1;31m# Do not call functions when jit is used\u001b[0m\u001b[1;33m\u001b[0m\u001b[1;33m\u001b[0m\u001b[0m\n\u001b[0;32m   1104\u001b[0m         \u001b[0mfull_backward_hooks\u001b[0m\u001b[1;33m,\u001b[0m \u001b[0mnon_full_backward_hooks\u001b[0m \u001b[1;33m=\u001b[0m \u001b[1;33m[\u001b[0m\u001b[1;33m]\u001b[0m\u001b[1;33m,\u001b[0m \u001b[1;33m[\u001b[0m\u001b[1;33m]\u001b[0m\u001b[1;33m\u001b[0m\u001b[1;33m\u001b[0m\u001b[0m\n",
      "\u001b[1;32m~\\AppData\\Local\\Temp/ipykernel_19488/2825187188.py\u001b[0m in \u001b[0;36mforward\u001b[1;34m(self, sequences, hidden)\u001b[0m\n\u001b[0;32m     27\u001b[0m \u001b[1;33m\u001b[0m\u001b[0m\n\u001b[0;32m     28\u001b[0m         \u001b[1;31m# output shape (batch,seq_len,hidden_size)\u001b[0m\u001b[1;33m\u001b[0m\u001b[1;33m\u001b[0m\u001b[0m\n\u001b[1;32m---> 29\u001b[1;33m         \u001b[0moutput\u001b[0m\u001b[1;33m,\u001b[0m \u001b[0mhidden\u001b[0m \u001b[1;33m=\u001b[0m \u001b[0mself\u001b[0m\u001b[1;33m.\u001b[0m\u001b[0mlstm\u001b[0m\u001b[1;33m(\u001b[0m\u001b[0mnotes\u001b[0m\u001b[1;33m,\u001b[0m\u001b[0mhidden\u001b[0m\u001b[1;33m)\u001b[0m\u001b[1;33m\u001b[0m\u001b[1;33m\u001b[0m\u001b[0m\n\u001b[0m\u001b[0;32m     30\u001b[0m \u001b[1;33m\u001b[0m\u001b[0m\n\u001b[0;32m     31\u001b[0m         \u001b[1;31m#output_lnormed = self.layernorm_lstm(output.permute(1,2,0).contiguous())\u001b[0m\u001b[1;33m\u001b[0m\u001b[1;33m\u001b[0m\u001b[0m\n",
      "\u001b[1;32mW:\\Tools\\Anaconda3\\envs\\pytorch\\lib\\site-packages\\torch\\nn\\modules\\module.py\u001b[0m in \u001b[0;36m_call_impl\u001b[1;34m(self, *input, **kwargs)\u001b[0m\n\u001b[0;32m   1100\u001b[0m         if not (self._backward_hooks or self._forward_hooks or self._forward_pre_hooks or _global_backward_hooks\n\u001b[0;32m   1101\u001b[0m                 or _global_forward_hooks or _global_forward_pre_hooks):\n\u001b[1;32m-> 1102\u001b[1;33m             \u001b[1;32mreturn\u001b[0m \u001b[0mforward_call\u001b[0m\u001b[1;33m(\u001b[0m\u001b[1;33m*\u001b[0m\u001b[0minput\u001b[0m\u001b[1;33m,\u001b[0m \u001b[1;33m**\u001b[0m\u001b[0mkwargs\u001b[0m\u001b[1;33m)\u001b[0m\u001b[1;33m\u001b[0m\u001b[1;33m\u001b[0m\u001b[0m\n\u001b[0m\u001b[0;32m   1103\u001b[0m         \u001b[1;31m# Do not call functions when jit is used\u001b[0m\u001b[1;33m\u001b[0m\u001b[1;33m\u001b[0m\u001b[0m\n\u001b[0;32m   1104\u001b[0m         \u001b[0mfull_backward_hooks\u001b[0m\u001b[1;33m,\u001b[0m \u001b[0mnon_full_backward_hooks\u001b[0m \u001b[1;33m=\u001b[0m \u001b[1;33m[\u001b[0m\u001b[1;33m]\u001b[0m\u001b[1;33m,\u001b[0m \u001b[1;33m[\u001b[0m\u001b[1;33m]\u001b[0m\u001b[1;33m\u001b[0m\u001b[1;33m\u001b[0m\u001b[0m\n",
      "\u001b[1;32mW:\\Tools\\Anaconda3\\envs\\pytorch\\lib\\site-packages\\torch\\nn\\modules\\rnn.py\u001b[0m in \u001b[0;36mforward\u001b[1;34m(self, input, hx)\u001b[0m\n\u001b[0;32m    689\u001b[0m         \u001b[0mself\u001b[0m\u001b[1;33m.\u001b[0m\u001b[0mcheck_forward_args\u001b[0m\u001b[1;33m(\u001b[0m\u001b[0minput\u001b[0m\u001b[1;33m,\u001b[0m \u001b[0mhx\u001b[0m\u001b[1;33m,\u001b[0m \u001b[0mbatch_sizes\u001b[0m\u001b[1;33m)\u001b[0m\u001b[1;33m\u001b[0m\u001b[1;33m\u001b[0m\u001b[0m\n\u001b[0;32m    690\u001b[0m         \u001b[1;32mif\u001b[0m \u001b[0mbatch_sizes\u001b[0m \u001b[1;32mis\u001b[0m \u001b[1;32mNone\u001b[0m\u001b[1;33m:\u001b[0m\u001b[1;33m\u001b[0m\u001b[1;33m\u001b[0m\u001b[0m\n\u001b[1;32m--> 691\u001b[1;33m             result = _VF.lstm(input, hx, self._flat_weights, self.bias, self.num_layers,\n\u001b[0m\u001b[0;32m    692\u001b[0m                               self.dropout, self.training, self.bidirectional, self.batch_first)\n\u001b[0;32m    693\u001b[0m         \u001b[1;32melse\u001b[0m\u001b[1;33m:\u001b[0m\u001b[1;33m\u001b[0m\u001b[1;33m\u001b[0m\u001b[0m\n",
      "\u001b[1;31mRuntimeError\u001b[0m: CUDA out of memory. Tried to allocate 1.01 GiB (GPU 0; 6.00 GiB total capacity; 2.02 GiB already allocated; 623.38 MiB free; 3.40 GiB reserved in total by PyTorch) If reserved memory is >> allocated memory try setting max_split_size_mb to avoid fragmentation.  See documentation for Memory Management and PYTORCH_CUDA_ALLOC_CONF"
     ]
    }
   ],
   "source": [
    "train_loss, val_loss = train(PopBaseLSTM1,train_dataloader,val_dataloaders,4,20,loss_fn,\n",
    "          optimizer,\"cuda\",3,grad_clip=1.0,mname=\"PopBaseLSTM1\")"
   ]
  },
  {
   "cell_type": "code",
   "execution_count": null,
   "id": "3de382fc",
   "metadata": {},
   "outputs": [],
   "source": []
  },
  {
   "cell_type": "code",
   "execution_count": null,
   "id": "1d59ea7c",
   "metadata": {},
   "outputs": [],
   "source": []
  },
  {
   "cell_type": "code",
   "execution_count": null,
   "id": "24e7b143",
   "metadata": {},
   "outputs": [],
   "source": []
  },
  {
   "cell_type": "code",
   "execution_count": null,
   "id": "8f6e130d",
   "metadata": {},
   "outputs": [],
   "source": []
  },
  {
   "cell_type": "code",
   "execution_count": null,
   "id": "1b4039ab",
   "metadata": {},
   "outputs": [],
   "source": []
  },
  {
   "cell_type": "code",
   "execution_count": null,
   "id": "0c8ec92d",
   "metadata": {},
   "outputs": [],
   "source": []
  },
  {
   "cell_type": "code",
   "execution_count": null,
   "id": "d7e1da5e",
   "metadata": {},
   "outputs": [],
   "source": []
  },
  {
   "cell_type": "code",
   "execution_count": null,
   "id": "ae9ceef5",
   "metadata": {},
   "outputs": [],
   "source": []
  },
  {
   "cell_type": "code",
   "execution_count": null,
   "id": "4af5fbb8",
   "metadata": {},
   "outputs": [],
   "source": []
  },
  {
   "cell_type": "markdown",
   "id": "7bb3695f",
   "metadata": {},
   "source": [
    "# Generate Music"
   ]
  },
  {
   "cell_type": "code",
   "execution_count": 23,
   "id": "83aa554b",
   "metadata": {},
   "outputs": [],
   "source": [
    "# define a function to extract hidden state given the beginning of a piece of music\n",
    "#  it should start from time step 0, extract the piano roll, take the first portion \n",
    "#   to generate hidden space and last prediction from the model\n",
    "def get_hidden(model, path,len_input_seq=200,ln=200,tmp=1,start_position=0):\n",
    "    # extract piano roll from the music and form one hot encoding\n",
    "    multitrack = pypianoroll.read(path)\n",
    "    multitrack.binarize()\n",
    "    combined_track = multitrack.blend()\n",
    "    # shrink the pitches and extract the part that we need\n",
    "    track_len = len(combined_track[:,0]) \n",
    "    # if track_len is less than the track they want\n",
    "    if (track_len < len_input_seq + start_position):\n",
    "        if (track_len < len_input_seq):\n",
    "            input_seq = combined_track[:,21:109] # take the entire trach\n",
    "        else:\n",
    "            input_seq = combined_track[start_position:,21:109] \n",
    "    else:\n",
    "        end_position = start_position + len_input_seq - 1\n",
    "        input_seq = combined_track[start_position:end_position,21:109]\n",
    "    \n",
    "    # input sequence must be a tensor\n",
    "    input_seq = torch.tensor(input_seq,dtype=torch.float)\n",
    "    \n",
    "    # add batch dimension\n",
    "    input_seq = torch.unsqueeze(input_seq,0)\n",
    "    \n",
    "    op, hidden = model(input_seq) # note hidden state don't stack\n",
    "    \n",
    "    # only take the last observations of each\n",
    "    output = op[-88:]\n",
    "    probs = nn.functional.softmax(output.div(tmp), dim=1)\n",
    "    output = torch.multinomial(probs.data, 1).squeeze().unsqueeze(0).unsqueeze(1)\n",
    "    output = output.float()\n",
    " \n",
    "    # hidden size (2,2,200,512), should go with (2,2,1,512)\n",
    "    h,c = hidden\n",
    "    h = h[:,-1:,:]\n",
    "    c = c[:,-1:,:]\n",
    "    hidden = (h,c)\n",
    "    \n",
    "    return generate_music(model,output,hidden,ln,tmp)\n",
    "\n",
    "# define a function to generate music based on the hidden state of the music\n",
    "def generate_music(model, start, hidden, ln=200, tmp=1):\n",
    "    seq_ip_cur = start\n",
    "        \n",
    "    op_seq = [seq_ip_cur.data.squeeze(1)]\n",
    "    hd = hidden\n",
    "\n",
    "    for i in range(ln):\n",
    "\n",
    "        # input sequence is predicted outputs\n",
    "        op, hd = model(seq_ip_cur, hd) # output is a vector of 88\n",
    "        #print(\"output: \",op)\n",
    "        \n",
    "        probs = nn.functional.softmax(op.div(tmp), dim=1)\n",
    "        #print(\"probabilities: \",probs)\n",
    "        \n",
    "        # update current sequence to the previous prediction\n",
    "        seq_ip_cur = torch.multinomial(probs.data, 1).squeeze().unsqueeze(0).unsqueeze(1)\n",
    "\n",
    "        # the model accept input as tensor of floats\n",
    "        seq_ip_cur = seq_ip_cur.float()\n",
    "        #print(\"updated sequence: \", seq_ip_cur.data.squeeze(1))\n",
    "\n",
    "        # append outputs\n",
    "        op_seq.append(seq_ip_cur.data.squeeze(1))\n",
    "\n",
    "    gen_seq = torch.cat(op_seq, dim=0).cpu().numpy()\n",
    "    \n",
    "    return gen_seq\n",
    "\n",
    "def generate_sample(model,model_val,run,musicname=\"mz_330_1.mid\",len_input_seq=200,\n",
    "                    ln=200,tmp=1,model_name=\"LSTM_Chopin\",start_position=0):\n",
    "    weights_folder = \"Handcrafted Dataset - One Hot Weights\"\n",
    "    \n",
    "    # this is for simple version\n",
    "    #LSTM = model(input_size=88,embed_size=512,hidden_size=512,num_class=88).cpu() \n",
    "    \n",
    "    LSTM = model(88,256,512,88,1).cpu() \n",
    "    weights = model_name+\"-run-\"+str(run)+\"-val_loss-\"+model_val+ \".pth\"\n",
    "    weights_path = os.path.join(weights_folder,weights)\n",
    "    LSTM.load_state_dict(torch.load(weights_path))\n",
    "    \n",
    "\n",
    "    musicpath = \"Handcrafted Dataset - Generated Music/input/Pop/\" + musicname\n",
    "    LSTM.eval()\n",
    "    seq = get_hidden(LSTM,musicpath,len_input_seq,ln,tmp,start_position)\n",
    "    \n",
    "    plt.figure(figsize=(10,7))\n",
    "    plt.imshow(seq.T)\n",
    "    \n",
    "    outputpath = 'Handcrafted Dataset - Generated Music/'+model_name+'/run'+str(run)+'-'+model_val+'-'+musicname\n",
    "    return seq, outputpath"
   ]
  },
  {
   "cell_type": "markdown",
   "id": "0fc76b0f",
   "metadata": {},
   "source": [
    "### PopBaseLSTM1"
   ]
  },
  {
   "cell_type": "code",
   "execution_count": 32,
   "id": "c3ca0d9e",
   "metadata": {},
   "outputs": [
    {
     "name": "stdout",
     "output_type": "stream",
     "text": [
      "Handcrafted Dataset - Generated Music/PopBaseLSTM1/run1-BEST-Someone_you_loved.midi\n"
     ]
    },
    {
     "data": {
      "image/png": "[encoded data removed]",
      "text/plain": [
       "<Figure size 720x504 with 1 Axes>"
      ]
     },
     "metadata": {
      "needs_background": "light"
     },
     "output_type": "display_data"
    }
   ],
   "source": [
    "model = PopBaseLSTM\n",
    "model_val = \"BEST\"\n",
    "run = 1\n",
    "seq,path=generate_sample(model,model_val,run,musicname=\"Someone_you_loved.midi\",\n",
    "            len_input_seq=20,ln=1000,tmp=1,model_name=\"PopBaseLSTM1\",start_position=0)\n",
    "print(path)"
   ]
  },
  {
   "cell_type": "code",
   "execution_count": 33,
   "id": "48a96387",
   "metadata": {},
   "outputs": [],
   "source": [
    "F.midiwrite(path, seq, dtm=0.1)"
   ]
  },
  {
   "cell_type": "code",
   "execution_count": null,
   "id": "7631f99a",
   "metadata": {},
   "outputs": [],
   "source": []
  },
  {
   "cell_type": "code",
   "execution_count": null,
   "id": "85e0d24a",
   "metadata": {},
   "outputs": [],
   "source": []
  },
  {
   "cell_type": "code",
   "execution_count": null,
   "id": "7213f692",
   "metadata": {},
   "outputs": [],
   "source": []
  },
  {
   "cell_type": "code",
   "execution_count": null,
   "id": "1714fcaa",
   "metadata": {},
   "outputs": [],
   "source": []
  },
  {
   "cell_type": "code",
   "execution_count": null,
   "id": "da8badf4",
   "metadata": {},
   "outputs": [],
   "source": []
  },
  {
   "cell_type": "code",
   "execution_count": null,
   "id": "9fc9b736",
   "metadata": {},
   "outputs": [],
   "source": []
  },
  {
   "cell_type": "code",
   "execution_count": null,
   "id": "61889078",
   "metadata": {},
   "outputs": [],
   "source": []
  }
 ],
 "metadata": {
  "kernelspec": {
   "display_name": "Python 3 (ipykernel)",
   "language": "python",
   "name": "python3"
  },
  "language_info": {
   "codemirror_mode": {
    "name": "ipython",
    "version": 3
   },
   "file_extension": ".py",
   "mimetype": "text/x-python",
   "name": "python",
   "nbconvert_exporter": "python",
   "pygments_lexer": "ipython3",
   "version": "3.9.12"
  }
 },
 "nbformat": 4,
 "nbformat_minor": 5
}
