{
 "cells": [
  {
   "cell_type": "code",
   "execution_count": null,
   "id": "e040aa04",
   "metadata": {},
   "outputs": [],
   "source": [
    "import torch\n",
    "import torch.nn as nn\n",
    "from torch.autograd import Variable\n",
    "import torch.utils.data as data\n",
    "import os\n",
    "import pandas as pd\n",
    "import numpy as np\n",
    "import matplotlib.pyplot as plt\n",
    "from tqdm.auto import tqdm\n",
    "import random\n",
    "from torch import optim\n",
    "import math\n",
    "import pypianoroll\n"
   ]
  },
  {
   "cell_type": "markdown",
   "id": "15121072",
   "metadata": {},
   "source": [
    "# Customized Dataset"
   ]
  },
  {
   "cell_type": "code",
   "execution_count": 2,
   "id": "74d1ea58",
   "metadata": {},
   "outputs": [],
   "source": [
    "\n",
    "class customDataset2(data.Dataset):\n",
    "    def __init__(self,folder,subfolders,trainingtype):\n",
    "        self.folder = folder # this contains subfolders such as mozart\n",
    "        self.subfolders = subfolders\n",
    "        self.trainingtype = trainingtype # this is either Train, Val, or Test\n",
    "        \n",
    "        subfoldername = self.subfolders # get all the subfoler names such as chopin\n",
    "        \n",
    "        # extract desired datasets from each of the subfolders\n",
    "        all_songs = []\n",
    "        for foldername in  subfoldername:\n",
    "            # this gives the path of desired folder: e.g..../Chopin/Train\n",
    "            dataset_path_in_subfolder = os.path.join(folder,foldername,trainingtype)\n",
    "            #print(\"desired folder \",dataset_path_in_subfolder)\n",
    "            \n",
    "            # this gives the song names in the desired folder: e.g. k21_op3.mid\n",
    "            songs_in_dataset = os.listdir(dataset_path_in_subfolder)\n",
    "            #print(\"songs: \", songs_in_dataset[:3])\n",
    "            \n",
    "            # combine the desired path with the song names: e.g. .../Chopin/Train/k21_op3.mid\n",
    "            songs = map(lambda fname: os.path.join(dataset_path_in_subfolder,fname),\n",
    "                                                    songs_in_dataset)\n",
    "            songs = list(songs)\n",
    "            #print(\"songs full: \",songs[:3])\n",
    "            \n",
    "            # append the songs to all_songs\n",
    "            all_songs.extend(songs)\n",
    "            #print(\"all songs: \", all_songs[:3])\n",
    "        \n",
    "        # hold a list of full file paths\n",
    "        self.fnames_ful = all_songs\n",
    "        print(\"Total samples: \",len(all_songs))\n",
    "        #print(all_songs[:10])\n",
    "    \n",
    "    def __len__(self):\n",
    "        return len(self.fnames_ful)\n",
    "    \n",
    "    def __getitem__(self, index):\n",
    "        fnames_ful = self.fnames_ful[index]\n",
    "        roll = pd.read_csv(fnames_ful,header=None)\n",
    "        roll = np.array(roll)\n",
    "        # input sequence is from first element til the second last so that\n",
    "        #  the model could predict from the second element til the last one\n",
    "        ##input_seq = roll[:-1,:]\n",
    "        input_seq = roll[:600,:] # length 500\n",
    "        # we expect the model to predict the all elements\n",
    "        ##output_seq = roll[-500:,:]\n",
    "        ##output_seq = roll[-1000:,:]\n",
    "        output_seq = roll[1:601,:] # length 500\n",
    "        return (input_seq,output_seq)"
   ]
  },
  {
   "cell_type": "markdown",
   "id": "5fa4ad6f",
   "metadata": {},
   "source": [
    "# Dataloaders"
   ]
  },
  {
   "cell_type": "code",
   "execution_count": 3,
   "id": "1e837c67",
   "metadata": {},
   "outputs": [],
   "source": [
    "folder = \"Handcrafted Dataset - One Hot\"\n",
    "subfolders = [\"Chopin\",\"Beethoven\",\"Mozart\"]"
   ]
  },
  {
   "cell_type": "markdown",
   "id": "908de3a3",
   "metadata": {},
   "source": [
    "length 3000 - total sample: 12587"
   ]
  },
  {
   "cell_type": "markdown",
   "id": "f35fe24b",
   "metadata": {},
   "source": [
    "length 2000 - total sample: 39798"
   ]
  },
  {
   "cell_type": "code",
   "execution_count": 4,
   "id": "5fae955c",
   "metadata": {},
   "outputs": [
    {
     "name": "stdout",
     "output_type": "stream",
     "text": [
      "Total samples:  39798\n"
     ]
    }
   ],
   "source": [
    "trainingtype = \"Train\"\n",
    "\n",
    "train_dataset = customDataset2(folder,subfolders,trainingtype)\n",
    "train_dataloader = data.DataLoader(train_dataset,batch_size=64,shuffle=True)"
   ]
  },
  {
   "cell_type": "code",
   "execution_count": 5,
   "id": "518dc525",
   "metadata": {},
   "outputs": [
    {
     "name": "stdout",
     "output_type": "stream",
     "text": [
      "torch.Size([64, 600, 88])\n",
      "torch.Size([64, 600, 88])\n"
     ]
    }
   ],
   "source": [
    "# check\n",
    "X_train=next(iter(train_dataloader))\n",
    "print(X_train[0].shape) # input seq\n",
    "print(X_train[1].shape) # output seq"
   ]
  },
  {
   "cell_type": "code",
   "execution_count": 6,
   "id": "593f05e6",
   "metadata": {},
   "outputs": [
    {
     "name": "stdout",
     "output_type": "stream",
     "text": [
      "Total samples:  6293\n"
     ]
    }
   ],
   "source": [
    "# validation set\n",
    "\n",
    "trainingtype=\"Val\"\n",
    "#val_dataset = customDataset(path)\n",
    "val_dataset = customDataset2(folder,subfolders,trainingtype)\n",
    "# seperate val set into 5 sets because validate 40,000 every time is too much\n",
    "#  now it would only validate on 8,000\n",
    "set1 = list(range(0,len(val_dataset),2))\n",
    "set2 = list(range(1,len(val_dataset),2))\n",
    "#set3 = list(range(2,len(val_dataset),3))\n",
    "#set4 = list(range(3,len(val_dataset),5))\n",
    "#set5 = list(range(4,len(val_dataset),5))\n",
    "\n",
    "val1 = data.Subset(val_dataset,set1)\n",
    "val2 = data.Subset(val_dataset,set2)\n",
    "#val3 = data.Subset(val_dataset,set3)\n",
    "#val4 = data.Subset(val_dataset,set4)\n",
    "#val5 = data.Subset(val_dataset,set5)\"\"\n",
    "\n",
    "size = 64\n",
    "val_dataloader1 = data.DataLoader(val1,batch_size=size,shuffle=True)\n",
    "val_dataloader2 = data.DataLoader(val2,batch_size=size,shuffle=True)\n",
    "#val_dataloader3 = data.DataLoader(val3,batch_size=size,shuffle=True)\n",
    "#val_dataloader4 = data.DataLoader(val4,batch_size=size,shuffle=True)\n",
    "#val_dataloader5 = data.DataLoader(val5,batch_size=size,shuffle=True)\n",
    "\n",
    "val_dataloaders = [val_dataloader1,\n",
    "               val_dataloader2]"
   ]
  },
  {
   "cell_type": "markdown",
   "id": "3f1eaaaf",
   "metadata": {},
   "source": [
    "length 3000 - total: 2135\n"
   ]
  },
  {
   "cell_type": "markdown",
   "id": "9d7b7a3b",
   "metadata": {},
   "source": [
    "length 2000 - total: 6293"
   ]
  },
  {
   "cell_type": "code",
   "execution_count": 7,
   "id": "e41bb28d",
   "metadata": {},
   "outputs": [
    {
     "name": "stdout",
     "output_type": "stream",
     "text": [
      "torch.Size([64, 600, 88])\n",
      "torch.Size([64, 600, 88])\n"
     ]
    }
   ],
   "source": [
    "# check\n",
    "X_val = next(iter(val_dataloader1))\n",
    "print(X_val[0].shape) # input seq\n",
    "print(X_val[1].shape) # output seq"
   ]
  },
  {
   "cell_type": "markdown",
   "id": "2877befb",
   "metadata": {},
   "source": [
    "## visualization"
   ]
  },
  {
   "cell_type": "code",
   "execution_count": 8,
   "id": "6800a347",
   "metadata": {},
   "outputs": [
    {
     "data": {
      "text/plain": [
       "<matplotlib.image.AxesImage at 0x1b5a673e790>"
      ]
     },
     "execution_count": 8,
     "metadata": {},
     "output_type": "execute_result"
    },
    {
     "data": {
      "image/png": "[encoded data removed]",
      "text/plain": [
       "<Figure size 720x504 with 1 Axes>"
      ]
     },
     "metadata": {
      "needs_background": "light"
     },
     "output_type": "display_data"
    }
   ],
   "source": [
    "plt.figure(figsize=(10,7))\n",
    "plt.title(\"Matrix representation of a classical composition\")\n",
    "plt.imshow(X_train[0][4][:500].T)"
   ]
  },
  {
   "cell_type": "markdown",
   "id": "e7a52cfb",
   "metadata": {},
   "source": [
    "# Training and validation Routine"
   ]
  },
  {
   "cell_type": "code",
   "execution_count": 9,
   "id": "b4547161",
   "metadata": {},
   "outputs": [],
   "source": [
    "def evaluate(model,val_loader,device,loss_fn):\n",
    "    model.eval()\n",
    "    val_loss = 0.0\n",
    "    steps = 0\n",
    "    \n",
    "    for batch in val_loader:\n",
    "        steps += 1\n",
    "        input_seq, output_seq = batch\n",
    "        input_seq, output_seq = input_seq.to(device), output_seq.to(device)\n",
    "        # try to fix error :\"addmm_cuda\" not implemented for 'Long'\n",
    "        input_seq = input_seq.float()\n",
    "        \n",
    "        output_seq = output_seq.transpose(0,1).contiguous()\n",
    "        output_seq = output_seq.contiguous().view(-1)\n",
    "        \n",
    "        final,_ = model(input_seq)\n",
    "        # try to fix:\"nll_loss_forward_reduce_cuda_kernel_2d_index\" not implemented for 'Float'\n",
    "        #final, output_seq = final.double(),output_seq.double()\n",
    "        loss = loss_fn(final,output_seq)\n",
    "        val_loss += loss.item()\n",
    "    \n",
    "    print(\"The mean validation loss is %.6f\" % (val_loss/steps))\n",
    "    print()\n",
    "    return val_loss/steps"
   ]
  },
  {
   "cell_type": "code",
   "execution_count": 10,
   "id": "6132b032",
   "metadata": {},
   "outputs": [],
   "source": [
    "def train(model,trainloader,valloaders,ep,print_freq,loss_fun,\n",
    "          optimizer,device,run,grad_clip=1.0,mname=\"LSTM\"):\n",
    "    val_loss_best = float(\"inf\")\n",
    "    \n",
    "    # total number of training steps\n",
    "    num_steps = ep * (len(trainloader))\n",
    "    progress_bar = tqdm(range(num_steps))\n",
    "    \n",
    "    # calculate how often print the result\n",
    "    #  if num_step = 12, and print_freq = 3, then print every 4 steps\n",
    "    print_every = math.floor(num_steps/print_freq)\n",
    "    \n",
    "    # initialize\n",
    "    steps = 0\n",
    "    #model.to(device) ## error when run this twice\n",
    "    model.train()\n",
    "    train_losses = []\n",
    "    val_losses = []\n",
    "    which_val = 0\n",
    "    \n",
    "    for e in range(ep):\n",
    "        current_loss = 0\n",
    "        for batch in trainloader:\n",
    "            input_s, output_s = batch\n",
    "            steps += 1\n",
    "            input_seq, output_seq = input_s.to(device), output_s.to(device)\n",
    "            # try to fix error :\"addmm_cuda\" not implemented for 'Long'\n",
    "            #  note: output_seq should stay long (int)\n",
    "            input_seq = input_seq.float()\n",
    "            #print(\"input shape: \",input_seq.shape)\n",
    "            \n",
    "            output_seq = output_seq.transpose(0,1).contiguous()\n",
    "            #print(\"original output shape: \", output_seq.shape)\n",
    "            output_seq = output_seq.contiguous().view(-1)\n",
    "            \n",
    "            #print(\"output shape: \", output_seq.shape)\n",
    "            #print(\"largest output: \", torch.max(output_seq))\n",
    "            \n",
    "            # calculate grad and update\n",
    "            optimizer.zero_grad()\n",
    "            final,_ = model(input_seq)\n",
    "            #print(\"prediction shape: \", final.shape)\n",
    "            #print(\"largest prediction: \", torch.max(final.permute(1,0)[0]))\n",
    "            # calculate loss and record loss\n",
    "            # try to fix:\"nll_loss_forward_reduce_cuda_kernel_2d_index\" not implemented for 'Float'\n",
    "            #final, output_seq = final.double(),output_seq.double()\n",
    "            #print(\"final shape: \", final.shape) # (,2)\n",
    "            #print(\"output shape: \", output_seq.shape)\n",
    "            #print(\"final: \",final[:2,:])\n",
    "            #print(\"output_seq:\",output_seq[:2])\n",
    "            loss = loss_fun(final, output_seq)\n",
    "            #print(\"loss: \", loss)\n",
    "            train_losses.append(loss.item())\n",
    "            current_loss += loss.item()\n",
    "            #print(current_loss)\n",
    "            # update parameter\n",
    "            loss.backward()\n",
    "            torch.nn.utils.clip_grad_norm_(model.parameters(),grad_clip)\n",
    "            optimizer.step()\n",
    "            \n",
    "            # update progress bar\n",
    "            progress_bar.update(1)\n",
    "            \n",
    "            # print if reach the threshold we want\n",
    "            if steps % print_every == 0:\n",
    "                # training loss: divided by the number of steps taken during training\n",
    "                #  from last print to current print\n",
    "                print('EPOCHS : {}/{}'.format(e+1,ep),\n",
    "                          'Loss : {:.6f}'.format(current_loss/print_every))\n",
    "\n",
    "                current_loss = 0\n",
    "                #which_val = random.randint(0,4)\n",
    "                which_val = random.randint(0,1) # now I only have 2 val sets\n",
    "                # val loss: divided by the number of steps taken when validate\n",
    "                val_loss = evaluate(model,valloaders[which_val],device,loss_fun)\n",
    "                val_losses.append(val_loss)\n",
    "                \n",
    "                # add call back\n",
    "                if val_loss < val_loss_best:\n",
    "                    val_loss_best = val_loss\n",
    "                    torch.save(model.state_dict(),\n",
    "                     \"Handcrafted Dataset - One Hot Weights/\"+mname+\"-run-{}-val_loss-BEST.pth\".format(run))\n",
    "            model.train()\n",
    "    return train_losses, val_losses"
   ]
  },
  {
   "cell_type": "markdown",
   "id": "97c0232b",
   "metadata": {},
   "source": [
    "# Model"
   ]
  },
  {
   "cell_type": "markdown",
   "id": "136226ae",
   "metadata": {},
   "source": [
    "# Length 600\n"
   ]
  },
  {
   "cell_type": "code",
   "execution_count": 11,
   "id": "d50c673c",
   "metadata": {},
   "outputs": [],
   "source": [
    "class BaseLSTM(nn.Module):\n",
    "    def __init__(self, input_size = 88, embed_size = 512, hidden_size = 1024, \n",
    "                  num_class = 88, layers = 2):\n",
    "        super(BaseLSTM, self).__init__()\n",
    "        self.input_size = input_size\n",
    "        self.embed_size = embed_size\n",
    "        self.hidden_size = hidden_size\n",
    "        self.num_class = num_class\n",
    "        self.layers = layers\n",
    "        self.notes_encoder = nn.Linear(in_features=input_size, out_features=embed_size)\n",
    "        self.layernorm_encoder = nn.LayerNorm(embed_size)\n",
    "        self.layernorm_lstm = nn.LayerNorm(hidden_size)\n",
    "        self.lstm = nn.LSTM(embed_size,hidden_size,layers)\n",
    "        self.final = nn.Linear(hidden_size,num_class)\n",
    "        ###\n",
    "        #self.final = nn.Linear(hidden_size,128)\n",
    "        #self.final2 = nn.Linear(128,num_class)\n",
    "        #self.relu = nn.ReLU()\n",
    "        ###\n",
    "        \n",
    "    def forward(self,sequences,hidden=None):\n",
    "        # seq shape (batch,seq_len,88)\n",
    "        notes_encoded = self.notes_encoder(sequences) # shape (batch,seq_len,embed_size)\n",
    "        #notes_rolled = notes_encoded.permute(1,2,0).contiguous()\n",
    "                                                      # shape (seq_len,embed_size,batch)\n",
    "        notes_rolled = notes_encoded\n",
    "        notes_lnormed = self.layernorm_encoder(notes_rolled)\n",
    "        notes_lnormed = nn.Dropout(0.1)(notes_lnormed)\n",
    "        #notes = notes_lnormed.permute(2,0,1)          # shape (batch,seq_len,embed_size)\n",
    "        notes = notes_lnormed\n",
    "        \n",
    "        # output shape (batch,seq_len,hidden_size)\n",
    "        output, hidden = self.lstm(notes,hidden)\n",
    "        \n",
    "        #output_lnormed = self.layernorm_lstm(output.permute(1,2,0).contiguous())\n",
    "        output_lnormed = self.layernorm_lstm(output)\n",
    "        output_lnormed = nn.Dropout(0.1)(output_lnormed)\n",
    "        \n",
    "\n",
    "        \n",
    "        # only take the final 1000\n",
    "        #output_lnormed = output_lnormed[:,-1000:,:] \n",
    "        \n",
    "        # final shape (batch,200,num_class)\n",
    "        #final = self.final(output_lnormed.permute(2,0,1))\n",
    "        final = self.final(output_lnormed) # final (batch,200,hidden_size) --> \n",
    "                                            #                 (batch,200,88)\n",
    "        \n",
    "        ###\n",
    "        #final = self.relu(final)\n",
    "        #final = nn.Dropout(0.5)(final)\n",
    "        #final = self.final2(final)\n",
    "        \n",
    "        \n",
    "        ###\n",
    "        \n",
    "        # final shape (200,batch,88)\n",
    "        final = final.transpose(0,1).contiguous()\n",
    "        #print(\"original final shape: \", final.shape)\n",
    "        \n",
    "        # create a second measure for prediction per class, shape(seq_len,batch,num_class)\n",
    "        neg_final = 1 - final\n",
    "        \n",
    "        # two \"predictions\" for each node\n",
    "        zero_one_final = torch.stack((final,neg_final),dim=3).contiguous()\n",
    "        \n",
    "        # flatten everything except for the two predictions dimension\n",
    "        flatten_final = zero_one_final.view(-1,2)\n",
    "        \n",
    "        return flatten_final, hidden"
   ]
  },
  {
   "cell_type": "code",
   "execution_count": 12,
   "id": "76b8696c",
   "metadata": {},
   "outputs": [
    {
     "data": {
      "text/plain": [
       "tensor([[1, 4],\n",
       "        [2, 5],\n",
       "        [3, 6]])"
      ]
     },
     "execution_count": 12,
     "metadata": {},
     "output_type": "execute_result"
    }
   ],
   "source": [
    "# experiment\n",
    "a = torch.tensor([1,2,3])\n",
    "b = torch.tensor([4,5,6])\n",
    "c = torch.stack((a,b),dim=1)\n",
    "c"
   ]
  },
  {
   "cell_type": "markdown",
   "id": "31503919",
   "metadata": {},
   "source": [
    "### 3 composers: Mozart, Chopin, Beethoven - BaseLSTM3com - gap 300"
   ]
  },
  {
   "cell_type": "code",
   "execution_count": 20,
   "id": "9a9884f7",
   "metadata": {},
   "outputs": [],
   "source": [
    "BaseLSTM3com = BaseLSTM(input_size = 88, embed_size = 512, hidden_size = 512, \n",
    "                  num_class = 88, layers = 2).cuda()\n",
    "\n",
    "#weights = torch.cuda.FloatTensor([1.0,2.0])\n",
    "loss_fun = nn.CrossEntropyLoss()\n",
    "optimizer = optim.AdamW(BaseLSTM3com.parameters(),lr=1e-4)"
   ]
  },
  {
   "cell_type": "markdown",
   "id": "c4579ed6",
   "metadata": {},
   "source": [
    "Batchsize = 64"
   ]
  },
  {
   "cell_type": "code",
   "execution_count": 21,
   "id": "7649fdbf",
   "metadata": {
    "scrolled": true
   },
   "outputs": [
    {
     "data": {
      "application/vnd.jupyter.widget-view+json": {
       "model_id": "b3c8e1f953df485788120e713be709e3",
       "version_major": 2,
       "version_minor": 0
      },
      "text/plain": [
       "  0%|          | 0/197 [00:00<?, ?it/s]"
      ]
     },
     "metadata": {},
     "output_type": "display_data"
    },
    {
     "name": "stdout",
     "output_type": "stream",
     "text": [
      "EPOCHS : 1/1 Loss : 0.946582\n",
      "The mean validation loss is 0.514326\n",
      "\n",
      "EPOCHS : 1/1 Loss : 0.394370\n",
      "The mean validation loss is 0.281572\n",
      "\n",
      "EPOCHS : 1/1 Loss : 0.242034\n",
      "The mean validation loss is 0.198186\n",
      "\n",
      "EPOCHS : 1/1 Loss : 0.180362\n",
      "The mean validation loss is 0.160735\n",
      "\n",
      "EPOCHS : 1/1 Loss : 0.150928\n",
      "The mean validation loss is 0.140709\n",
      "\n",
      "EPOCHS : 1/1 Loss : 0.134902\n",
      "The mean validation loss is 0.131139\n",
      "\n",
      "EPOCHS : 1/1 Loss : 0.125805\n",
      "The mean validation loss is 0.124569\n",
      "\n",
      "EPOCHS : 1/1 Loss : 0.120392\n",
      "The mean validation loss is 0.118896\n",
      "\n",
      "EPOCHS : 1/1 Loss : 0.120852\n",
      "The mean validation loss is 0.116593\n",
      "\n",
      "EPOCHS : 1/1 Loss : 0.117648\n",
      "The mean validation loss is 0.115170\n",
      "\n",
      "EPOCHS : 1/1 Loss : 0.113383\n",
      "The mean validation loss is 0.114327\n",
      "\n",
      "EPOCHS : 1/1 Loss : 0.111149\n",
      "The mean validation loss is 0.111746\n",
      "\n",
      "EPOCHS : 1/1 Loss : 0.108611\n",
      "The mean validation loss is 0.111540\n",
      "\n",
      "EPOCHS : 1/1 Loss : 0.111678\n",
      "The mean validation loss is 0.109051\n",
      "\n",
      "EPOCHS : 1/1 Loss : 0.111974\n",
      "The mean validation loss is 0.106396\n",
      "\n",
      "EPOCHS : 1/1 Loss : 0.112304\n",
      "The mean validation loss is 0.105718\n",
      "\n",
      "EPOCHS : 1/1 Loss : 0.103250\n",
      "The mean validation loss is 0.105448\n",
      "\n",
      "EPOCHS : 1/1 Loss : 0.103972\n",
      "The mean validation loss is 0.100204\n",
      "\n",
      "EPOCHS : 1/1 Loss : 0.101005\n",
      "The mean validation loss is 0.100166\n",
      "\n",
      "EPOCHS : 1/1 Loss : 0.095114\n",
      "The mean validation loss is 0.097309\n",
      "\n",
      "EPOCHS : 1/1 Loss : 0.092934\n",
      "The mean validation loss is 0.093784\n",
      "\n",
      "EPOCHS : 1/1 Loss : 0.094028\n",
      "The mean validation loss is 0.090465\n",
      "\n",
      "EPOCHS : 1/1 Loss : 0.088309\n",
      "The mean validation loss is 0.085975\n",
      "\n",
      "EPOCHS : 1/1 Loss : 0.087198\n",
      "The mean validation loss is 0.082076\n",
      "\n",
      "EPOCHS : 1/1 Loss : 0.079738\n",
      "The mean validation loss is 0.078337\n",
      "\n",
      "EPOCHS : 1/1 Loss : 0.077193\n",
      "The mean validation loss is 0.074059\n",
      "\n",
      "EPOCHS : 1/1 Loss : 0.072223\n",
      "The mean validation loss is 0.072323\n",
      "\n",
      "EPOCHS : 1/1 Loss : 0.069242\n",
      "The mean validation loss is 0.066979\n",
      "\n",
      "EPOCHS : 1/1 Loss : 0.067063\n",
      "The mean validation loss is 0.065013\n",
      "\n",
      "EPOCHS : 1/1 Loss : 0.060001\n",
      "The mean validation loss is 0.060153\n",
      "\n",
      "EPOCHS : 1/1 Loss : 0.059028\n",
      "The mean validation loss is 0.057253\n",
      "\n",
      "EPOCHS : 1/1 Loss : 0.056839\n",
      "The mean validation loss is 0.056898\n",
      "\n",
      "EPOCHS : 1/1 Loss : 0.053256\n",
      "The mean validation loss is 0.051890\n",
      "\n",
      "EPOCHS : 1/1 Loss : 0.052597\n",
      "The mean validation loss is 0.049921\n",
      "\n",
      "EPOCHS : 1/1 Loss : 0.047728\n",
      "The mean validation loss is 0.046575\n",
      "\n",
      "EPOCHS : 1/1 Loss : 0.046143\n",
      "The mean validation loss is 0.044689\n",
      "\n",
      "EPOCHS : 1/1 Loss : 0.044868\n",
      "The mean validation loss is 0.042722\n",
      "\n",
      "EPOCHS : 1/1 Loss : 0.042568\n",
      "The mean validation loss is 0.041631\n",
      "\n",
      "EPOCHS : 1/1 Loss : 0.040735\n",
      "The mean validation loss is 0.041578\n",
      "\n",
      "EPOCHS : 1/1 Loss : 0.039929\n",
      "The mean validation loss is 0.039442\n",
      "\n",
      "EPOCHS : 1/1 Loss : 0.038817\n",
      "The mean validation loss is 0.037765\n",
      "\n",
      "EPOCHS : 1/1 Loss : 0.036270\n",
      "The mean validation loss is 0.037394\n",
      "\n",
      "EPOCHS : 1/1 Loss : 0.037029\n",
      "The mean validation loss is 0.036420\n",
      "\n",
      "EPOCHS : 1/1 Loss : 0.036512\n",
      "The mean validation loss is 0.035355\n",
      "\n",
      "EPOCHS : 1/1 Loss : 0.035123\n",
      "The mean validation loss is 0.035045\n",
      "\n",
      "EPOCHS : 1/1 Loss : 0.035479\n",
      "The mean validation loss is 0.034114\n",
      "\n",
      "EPOCHS : 1/1 Loss : 0.032925\n",
      "The mean validation loss is 0.033466\n",
      "\n",
      "EPOCHS : 1/1 Loss : 0.032588\n",
      "The mean validation loss is 0.033233\n",
      "\n",
      "EPOCHS : 1/1 Loss : 0.033041\n",
      "The mean validation loss is 0.032798\n",
      "\n"
     ]
    }
   ],
   "source": [
    "train_loss, val_loss = train(BaseLSTM3com,train_dataloader,val_dataloaders,1,40,\n",
    "      loss_fun,optimizer,'cuda',1,grad_clip=1.0,mname=\"BaseLSTM3com\")"
   ]
  },
  {
   "cell_type": "code",
   "execution_count": 23,
   "id": "4af5fbb8",
   "metadata": {
    "collapsed": true
   },
   "outputs": [
    {
     "data": {
      "application/vnd.jupyter.widget-view+json": {
       "model_id": "a8a1bd7a7cb14396aa4c7aa07fa0d6b0",
       "version_major": 2,
       "version_minor": 0
      },
      "text/plain": [
       "  0%|          | 0/788 [00:00<?, ?it/s]"
      ]
     },
     "metadata": {},
     "output_type": "display_data"
    },
    {
     "name": "stdout",
     "output_type": "stream",
     "text": [
      "EPOCHS : 1/4 Loss : 0.031052\n",
      "The mean validation loss is 0.030716\n",
      "\n",
      "EPOCHS : 1/4 Loss : 0.029718\n",
      "The mean validation loss is 0.029587\n",
      "\n",
      "EPOCHS : 1/4 Loss : 0.028434\n",
      "The mean validation loss is 0.029210\n",
      "\n",
      "EPOCHS : 1/4 Loss : 0.027787\n",
      "The mean validation loss is 0.028047\n",
      "\n",
      "EPOCHS : 1/4 Loss : 0.026981\n",
      "The mean validation loss is 0.027633\n",
      "\n",
      "EPOCHS : 1/4 Loss : 0.026316\n",
      "The mean validation loss is 0.026200\n",
      "\n",
      "EPOCHS : 1/4 Loss : 0.025761\n",
      "The mean validation loss is 0.026021\n",
      "\n",
      "EPOCHS : 1/4 Loss : 0.025879\n",
      "The mean validation loss is 0.025102\n",
      "\n",
      "EPOCHS : 1/4 Loss : 0.025092\n",
      "The mean validation loss is 0.025262\n",
      "\n",
      "EPOCHS : 1/4 Loss : 0.024813\n",
      "The mean validation loss is 0.025540\n",
      "\n",
      "EPOCHS : 2/4 Loss : 0.015576\n",
      "The mean validation loss is 0.024845\n",
      "\n",
      "EPOCHS : 2/4 Loss : 0.024374\n",
      "The mean validation loss is 0.024826\n",
      "\n",
      "EPOCHS : 2/4 Loss : 0.024454\n",
      "The mean validation loss is 0.024735\n",
      "\n",
      "EPOCHS : 2/4 Loss : 0.023807\n",
      "The mean validation loss is 0.024265\n",
      "\n",
      "EPOCHS : 2/4 Loss : 0.024169\n",
      "The mean validation loss is 0.024642\n",
      "\n",
      "EPOCHS : 2/4 Loss : 0.023627\n",
      "The mean validation loss is 0.023578\n",
      "\n",
      "EPOCHS : 2/4 Loss : 0.024054\n",
      "The mean validation loss is 0.023600\n",
      "\n",
      "EPOCHS : 2/4 Loss : 0.023376\n",
      "The mean validation loss is 0.024016\n",
      "\n",
      "EPOCHS : 2/4 Loss : 0.022872\n",
      "The mean validation loss is 0.023253\n",
      "\n",
      "EPOCHS : 2/4 Loss : 0.023502\n",
      "The mean validation loss is 0.023748\n",
      "\n",
      "EPOCHS : 3/4 Loss : 0.005936\n",
      "The mean validation loss is 0.023643\n",
      "\n",
      "EPOCHS : 3/4 Loss : 0.022940\n",
      "The mean validation loss is 0.023302\n",
      "\n",
      "EPOCHS : 3/4 Loss : 0.022930\n",
      "The mean validation loss is 0.023330\n",
      "\n",
      "EPOCHS : 3/4 Loss : 0.022689\n",
      "The mean validation loss is 0.023422\n",
      "\n",
      "EPOCHS : 3/4 Loss : 0.022543\n",
      "The mean validation loss is 0.023477\n",
      "\n",
      "EPOCHS : 3/4 Loss : 0.022244\n",
      "The mean validation loss is 0.023177\n",
      "\n",
      "EPOCHS : 3/4 Loss : 0.022085\n",
      "The mean validation loss is 0.022849\n",
      "\n",
      "EPOCHS : 3/4 Loss : 0.022515\n",
      "The mean validation loss is 0.022436\n",
      "\n",
      "EPOCHS : 3/4 Loss : 0.022414\n",
      "The mean validation loss is 0.022380\n",
      "\n",
      "EPOCHS : 3/4 Loss : 0.022364\n",
      "The mean validation loss is 0.022394\n",
      "\n",
      "EPOCHS : 3/4 Loss : 0.021823\n",
      "The mean validation loss is 0.023014\n",
      "\n",
      "EPOCHS : 4/4 Loss : 0.019343\n",
      "The mean validation loss is 0.021885\n",
      "\n",
      "EPOCHS : 4/4 Loss : 0.021899\n",
      "The mean validation loss is 0.021954\n",
      "\n",
      "EPOCHS : 4/4 Loss : 0.021910\n",
      "The mean validation loss is 0.022062\n",
      "\n",
      "EPOCHS : 4/4 Loss : 0.021523\n",
      "The mean validation loss is 0.021710\n",
      "\n",
      "EPOCHS : 4/4 Loss : 0.021640\n",
      "The mean validation loss is 0.021818\n",
      "\n",
      "EPOCHS : 4/4 Loss : 0.021490\n",
      "The mean validation loss is 0.021969\n",
      "\n",
      "EPOCHS : 4/4 Loss : 0.021624\n",
      "The mean validation loss is 0.022339\n",
      "\n",
      "EPOCHS : 4/4 Loss : 0.021707\n",
      "The mean validation loss is 0.021552\n",
      "\n",
      "EPOCHS : 4/4 Loss : 0.021435\n",
      "The mean validation loss is 0.021546\n",
      "\n",
      "EPOCHS : 4/4 Loss : 0.021241\n",
      "The mean validation loss is 0.021988\n",
      "\n"
     ]
    }
   ],
   "source": [
    "train_loss, val_loss = train(BaseLSTM3com,train_dataloader,val_dataloaders,4,40,\n",
    "      loss_fun,optimizer,'cuda',2,grad_clip=1.0,mname=\"BaseLSTM3com\")"
   ]
  },
  {
   "cell_type": "code",
   "execution_count": 31,
   "id": "9ae07198",
   "metadata": {
    "collapsed": true
   },
   "outputs": [
    {
     "data": {
      "application/vnd.jupyter.widget-view+json": {
       "model_id": "b7a009aa0c3647eab9606941099d62cb",
       "version_major": 2,
       "version_minor": 0
      },
      "text/plain": [
       "  0%|          | 0/788 [00:00<?, ?it/s]"
      ]
     },
     "metadata": {},
     "output_type": "display_data"
    },
    {
     "name": "stdout",
     "output_type": "stream",
     "text": [
      "EPOCHS : 1/4 Loss : 0.021587\n",
      "The mean validation loss is 0.021551\n",
      "\n",
      "EPOCHS : 1/4 Loss : 0.021757\n",
      "The mean validation loss is 0.021371\n",
      "\n",
      "EPOCHS : 1/4 Loss : 0.021133\n",
      "The mean validation loss is 0.021528\n",
      "\n",
      "EPOCHS : 1/4 Loss : 0.021121\n",
      "The mean validation loss is 0.021481\n",
      "\n",
      "EPOCHS : 1/4 Loss : 0.021345\n",
      "The mean validation loss is 0.021967\n",
      "\n",
      "EPOCHS : 1/4 Loss : 0.021582\n",
      "The mean validation loss is 0.021987\n",
      "\n",
      "EPOCHS : 1/4 Loss : 0.021054\n",
      "The mean validation loss is 0.021999\n",
      "\n",
      "EPOCHS : 1/4 Loss : 0.021332\n",
      "The mean validation loss is 0.021333\n",
      "\n",
      "EPOCHS : 1/4 Loss : 0.021332\n",
      "The mean validation loss is 0.021932\n",
      "\n",
      "EPOCHS : 1/4 Loss : 0.021179\n",
      "The mean validation loss is 0.021262\n",
      "\n",
      "EPOCHS : 2/4 Loss : 0.013260\n",
      "The mean validation loss is 0.021376\n",
      "\n",
      "EPOCHS : 2/4 Loss : 0.021121\n",
      "The mean validation loss is 0.021261\n",
      "\n",
      "EPOCHS : 2/4 Loss : 0.020837\n",
      "The mean validation loss is 0.021223\n",
      "\n",
      "EPOCHS : 2/4 Loss : 0.021680\n",
      "The mean validation loss is 0.021257\n",
      "\n",
      "EPOCHS : 2/4 Loss : 0.021466\n",
      "The mean validation loss is 0.021788\n",
      "\n",
      "EPOCHS : 2/4 Loss : 0.021159\n",
      "The mean validation loss is 0.021247\n",
      "\n",
      "EPOCHS : 2/4 Loss : 0.020523\n",
      "The mean validation loss is 0.021856\n",
      "\n",
      "EPOCHS : 2/4 Loss : 0.021062\n",
      "The mean validation loss is 0.021416\n",
      "\n",
      "EPOCHS : 2/4 Loss : 0.021007\n",
      "The mean validation loss is 0.021453\n",
      "\n",
      "EPOCHS : 2/4 Loss : 0.021038\n",
      "The mean validation loss is 0.021682\n",
      "\n",
      "EPOCHS : 3/4 Loss : 0.005785\n",
      "The mean validation loss is 0.021100\n",
      "\n",
      "EPOCHS : 3/4 Loss : 0.020726\n",
      "The mean validation loss is 0.021244\n",
      "\n",
      "EPOCHS : 3/4 Loss : 0.021182\n",
      "The mean validation loss is 0.021161\n",
      "\n",
      "EPOCHS : 3/4 Loss : 0.021470\n",
      "The mean validation loss is 0.021061\n",
      "\n",
      "EPOCHS : 3/4 Loss : 0.020437\n",
      "The mean validation loss is 0.021714\n",
      "\n",
      "EPOCHS : 3/4 Loss : 0.021106\n",
      "The mean validation loss is 0.021845\n",
      "\n",
      "EPOCHS : 3/4 Loss : 0.021298\n",
      "The mean validation loss is 0.021087\n",
      "\n",
      "EPOCHS : 3/4 Loss : 0.020858\n",
      "The mean validation loss is 0.021087\n",
      "\n",
      "EPOCHS : 3/4 Loss : 0.020972\n",
      "The mean validation loss is 0.021191\n",
      "\n",
      "EPOCHS : 3/4 Loss : 0.020882\n",
      "The mean validation loss is 0.021016\n",
      "\n",
      "EPOCHS : 3/4 Loss : 0.020957\n",
      "The mean validation loss is 0.021708\n",
      "\n",
      "EPOCHS : 4/4 Loss : 0.019070\n",
      "The mean validation loss is 0.021283\n",
      "\n",
      "EPOCHS : 4/4 Loss : 0.021184\n",
      "The mean validation loss is 0.021668\n",
      "\n",
      "EPOCHS : 4/4 Loss : 0.020752\n",
      "The mean validation loss is 0.021007\n",
      "\n",
      "EPOCHS : 4/4 Loss : 0.021154\n",
      "The mean validation loss is 0.021596\n",
      "\n",
      "EPOCHS : 4/4 Loss : 0.020881\n",
      "The mean validation loss is 0.021584\n",
      "\n",
      "EPOCHS : 4/4 Loss : 0.020808\n",
      "The mean validation loss is 0.021839\n",
      "\n",
      "EPOCHS : 4/4 Loss : 0.021147\n",
      "The mean validation loss is 0.020887\n",
      "\n",
      "EPOCHS : 4/4 Loss : 0.020343\n",
      "The mean validation loss is 0.021730\n",
      "\n",
      "EPOCHS : 4/4 Loss : 0.020876\n",
      "The mean validation loss is 0.020969\n",
      "\n",
      "EPOCHS : 4/4 Loss : 0.021396\n",
      "The mean validation loss is 0.021607\n",
      "\n"
     ]
    }
   ],
   "source": [
    "train_loss, val_loss = train(BaseLSTM3com,train_dataloader,val_dataloaders,4,40,\n",
    "      loss_fun,optimizer,'cuda',3,grad_clip=1.0,mname=\"BaseLSTM3com\")"
   ]
  },
  {
   "cell_type": "code",
   "execution_count": null,
   "id": "ab3774a1",
   "metadata": {},
   "outputs": [],
   "source": []
  },
  {
   "cell_type": "code",
   "execution_count": null,
   "id": "8613b1b6",
   "metadata": {},
   "outputs": [],
   "source": []
  },
  {
   "cell_type": "markdown",
   "id": "263b4bc1",
   "metadata": {},
   "source": [
    "### BaseLSTM3com2 - gap 100\n",
    "batchsize = 64"
   ]
  },
  {
   "cell_type": "code",
   "execution_count": 13,
   "id": "71738772",
   "metadata": {},
   "outputs": [],
   "source": [
    "BaseLSTM3com2 = BaseLSTM(input_size = 88, embed_size = 512, hidden_size = 512, \n",
    "                  num_class = 88, layers = 2).cuda()\n",
    "\n",
    "#weights = torch.cuda.FloatTensor([1.0,2.0])\n",
    "loss_fun = nn.CrossEntropyLoss()\n",
    "optimizer = optim.AdamW(BaseLSTM3com2.parameters(),lr=1e-4)"
   ]
  },
  {
   "cell_type": "code",
   "execution_count": 14,
   "id": "91eecf9c",
   "metadata": {
    "scrolled": true
   },
   "outputs": [
    {
     "data": {
      "application/vnd.jupyter.widget-view+json": {
       "model_id": "015f7f53024948cfad9f90c6657dd0c6",
       "version_major": 2,
       "version_minor": 0
      },
      "text/plain": [
       "  0%|          | 0/622 [00:00<?, ?it/s]"
      ]
     },
     "metadata": {},
     "output_type": "display_data"
    },
    {
     "name": "stdout",
     "output_type": "stream",
     "text": [
      "EPOCHS : 1/1 Loss : 0.485090\n",
      "The mean validation loss is 0.178785\n",
      "\n",
      "EPOCHS : 1/1 Loss : 0.143999\n",
      "The mean validation loss is 0.124067\n",
      "\n",
      "EPOCHS : 1/1 Loss : 0.118936\n",
      "The mean validation loss is 0.113560\n",
      "\n",
      "EPOCHS : 1/1 Loss : 0.109804\n",
      "The mean validation loss is 0.107360\n",
      "\n",
      "EPOCHS : 1/1 Loss : 0.103219\n",
      "The mean validation loss is 0.099765\n",
      "\n",
      "EPOCHS : 1/1 Loss : 0.095055\n",
      "The mean validation loss is 0.087692\n",
      "\n",
      "EPOCHS : 1/1 Loss : 0.080243\n",
      "The mean validation loss is 0.071992\n",
      "\n",
      "EPOCHS : 1/1 Loss : 0.066157\n",
      "The mean validation loss is 0.058695\n",
      "\n",
      "EPOCHS : 1/1 Loss : 0.053605\n",
      "The mean validation loss is 0.048626\n",
      "\n",
      "EPOCHS : 1/1 Loss : 0.045904\n",
      "The mean validation loss is 0.041643\n",
      "\n",
      "EPOCHS : 1/1 Loss : 0.040509\n",
      "The mean validation loss is 0.037524\n",
      "\n",
      "EPOCHS : 1/1 Loss : 0.036130\n",
      "The mean validation loss is 0.034585\n",
      "\n",
      "EPOCHS : 1/1 Loss : 0.032942\n",
      "The mean validation loss is 0.032250\n",
      "\n",
      "EPOCHS : 1/1 Loss : 0.031623\n",
      "The mean validation loss is 0.030719\n",
      "\n",
      "EPOCHS : 1/1 Loss : 0.030513\n",
      "The mean validation loss is 0.029883\n",
      "\n",
      "EPOCHS : 1/1 Loss : 0.029342\n",
      "The mean validation loss is 0.028895\n",
      "\n",
      "EPOCHS : 1/1 Loss : 0.028425\n",
      "The mean validation loss is 0.027884\n",
      "\n",
      "EPOCHS : 1/1 Loss : 0.027880\n",
      "The mean validation loss is 0.027391\n",
      "\n",
      "EPOCHS : 1/1 Loss : 0.027449\n",
      "The mean validation loss is 0.026876\n",
      "\n",
      "EPOCHS : 1/1 Loss : 0.027000\n",
      "The mean validation loss is 0.026408\n",
      "\n",
      "EPOCHS : 1/1 Loss : 0.026732\n",
      "The mean validation loss is 0.026212\n",
      "\n",
      "EPOCHS : 1/1 Loss : 0.025493\n",
      "The mean validation loss is 0.025977\n",
      "\n",
      "EPOCHS : 1/1 Loss : 0.026108\n",
      "The mean validation loss is 0.025433\n",
      "\n",
      "EPOCHS : 1/1 Loss : 0.025395\n",
      "The mean validation loss is 0.025112\n",
      "\n",
      "EPOCHS : 1/1 Loss : 0.025626\n",
      "The mean validation loss is 0.024995\n",
      "\n",
      "EPOCHS : 1/1 Loss : 0.025487\n",
      "The mean validation loss is 0.024822\n",
      "\n",
      "EPOCHS : 1/1 Loss : 0.024867\n",
      "The mean validation loss is 0.024818\n",
      "\n",
      "EPOCHS : 1/1 Loss : 0.024754\n",
      "The mean validation loss is 0.024406\n",
      "\n",
      "EPOCHS : 1/1 Loss : 0.025003\n",
      "The mean validation loss is 0.024236\n",
      "\n",
      "EPOCHS : 1/1 Loss : 0.024720\n",
      "The mean validation loss is 0.024303\n",
      "\n",
      "EPOCHS : 1/1 Loss : 0.024789\n",
      "The mean validation loss is 0.024305\n",
      "\n",
      "EPOCHS : 1/1 Loss : 0.024504\n",
      "The mean validation loss is 0.023896\n",
      "\n",
      "EPOCHS : 1/1 Loss : 0.024222\n",
      "The mean validation loss is 0.024119\n",
      "\n",
      "EPOCHS : 1/1 Loss : 0.024357\n",
      "The mean validation loss is 0.023676\n",
      "\n",
      "EPOCHS : 1/1 Loss : 0.024129\n",
      "The mean validation loss is 0.023822\n",
      "\n",
      "EPOCHS : 1/1 Loss : 0.024012\n",
      "The mean validation loss is 0.023666\n",
      "\n",
      "EPOCHS : 1/1 Loss : 0.023675\n",
      "The mean validation loss is 0.023580\n",
      "\n",
      "EPOCHS : 1/1 Loss : 0.024384\n",
      "The mean validation loss is 0.023430\n",
      "\n",
      "EPOCHS : 1/1 Loss : 0.023636\n",
      "The mean validation loss is 0.023555\n",
      "\n",
      "EPOCHS : 1/1 Loss : 0.023418\n",
      "The mean validation loss is 0.023535\n",
      "\n",
      "EPOCHS : 1/1 Loss : 0.023215\n",
      "The mean validation loss is 0.023407\n",
      "\n"
     ]
    }
   ],
   "source": [
    "train_loss, val_loss = train(BaseLSTM3com2,train_dataloader,val_dataloaders,1,40,\n",
    "      loss_fun,optimizer,'cuda',1,grad_clip=1.0,mname=\"BaseLSTM3com2\")"
   ]
  },
  {
   "cell_type": "code",
   "execution_count": 15,
   "id": "483e537a",
   "metadata": {
    "scrolled": true
   },
   "outputs": [
    {
     "data": {
      "application/vnd.jupyter.widget-view+json": {
       "model_id": "0155b613b37842b398bf8741767006ce",
       "version_major": 2,
       "version_minor": 0
      },
      "text/plain": [
       "  0%|          | 0/2488 [00:00<?, ?it/s]"
      ]
     },
     "metadata": {},
     "output_type": "display_data"
    },
    {
     "name": "stdout",
     "output_type": "stream",
     "text": [
      "EPOCHS : 1/4 Loss : 0.023449\n",
      "The mean validation loss is 0.023176\n",
      "\n",
      "EPOCHS : 1/4 Loss : 0.023273\n",
      "The mean validation loss is 0.022872\n",
      "\n",
      "EPOCHS : 1/4 Loss : 0.023168\n",
      "The mean validation loss is 0.022773\n",
      "\n",
      "EPOCHS : 1/4 Loss : 0.023096\n",
      "The mean validation loss is 0.022918\n",
      "\n",
      "EPOCHS : 1/4 Loss : 0.022997\n",
      "The mean validation loss is 0.022618\n",
      "\n",
      "EPOCHS : 1/4 Loss : 0.022894\n",
      "The mean validation loss is 0.022559\n",
      "\n",
      "EPOCHS : 1/4 Loss : 0.022936\n",
      "The mean validation loss is 0.022488\n",
      "\n",
      "EPOCHS : 1/4 Loss : 0.022991\n",
      "The mean validation loss is 0.022550\n",
      "\n",
      "EPOCHS : 1/4 Loss : 0.022856\n",
      "The mean validation loss is 0.022360\n",
      "\n",
      "EPOCHS : 1/4 Loss : 0.022799\n",
      "The mean validation loss is 0.022561\n",
      "\n",
      "EPOCHS : 2/4 Loss : 0.021879\n",
      "The mean validation loss is 0.022568\n",
      "\n",
      "EPOCHS : 2/4 Loss : 0.022529\n",
      "The mean validation loss is 0.022505\n",
      "\n",
      "EPOCHS : 2/4 Loss : 0.022644\n",
      "The mean validation loss is 0.022435\n",
      "\n",
      "EPOCHS : 2/4 Loss : 0.022539\n",
      "The mean validation loss is 0.022185\n",
      "\n",
      "EPOCHS : 2/4 Loss : 0.022551\n",
      "The mean validation loss is 0.022031\n",
      "\n",
      "EPOCHS : 2/4 Loss : 0.022479\n",
      "The mean validation loss is 0.022350\n",
      "\n",
      "EPOCHS : 2/4 Loss : 0.022475\n",
      "The mean validation loss is 0.021972\n",
      "\n",
      "EPOCHS : 2/4 Loss : 0.022206\n",
      "The mean validation loss is 0.021984\n",
      "\n",
      "EPOCHS : 2/4 Loss : 0.022750\n",
      "The mean validation loss is 0.022210\n",
      "\n",
      "EPOCHS : 2/4 Loss : 0.022378\n",
      "The mean validation loss is 0.021783\n",
      "\n",
      "EPOCHS : 3/4 Loss : 0.020931\n",
      "The mean validation loss is 0.021904\n",
      "\n",
      "EPOCHS : 3/4 Loss : 0.022497\n",
      "The mean validation loss is 0.022052\n",
      "\n",
      "EPOCHS : 3/4 Loss : 0.022112\n",
      "The mean validation loss is 0.021725\n",
      "\n",
      "EPOCHS : 3/4 Loss : 0.021959\n",
      "The mean validation loss is 0.021695\n",
      "\n",
      "EPOCHS : 3/4 Loss : 0.022322\n",
      "The mean validation loss is 0.021901\n",
      "\n",
      "EPOCHS : 3/4 Loss : 0.022082\n",
      "The mean validation loss is 0.021776\n",
      "\n",
      "EPOCHS : 3/4 Loss : 0.022144\n",
      "The mean validation loss is 0.021765\n",
      "\n",
      "EPOCHS : 3/4 Loss : 0.022169\n",
      "The mean validation loss is 0.021847\n",
      "\n",
      "EPOCHS : 3/4 Loss : 0.021704\n",
      "The mean validation loss is 0.021765\n",
      "\n",
      "EPOCHS : 3/4 Loss : 0.022085\n",
      "The mean validation loss is 0.021694\n",
      "\n",
      "EPOCHS : 4/4 Loss : 0.019723\n",
      "The mean validation loss is 0.021781\n",
      "\n",
      "EPOCHS : 4/4 Loss : 0.022052\n",
      "The mean validation loss is 0.021504\n",
      "\n",
      "EPOCHS : 4/4 Loss : 0.021953\n",
      "The mean validation loss is 0.021862\n",
      "\n",
      "EPOCHS : 4/4 Loss : 0.021859\n",
      "The mean validation loss is 0.021685\n",
      "\n",
      "EPOCHS : 4/4 Loss : 0.022004\n",
      "The mean validation loss is 0.021668\n",
      "\n",
      "EPOCHS : 4/4 Loss : 0.022240\n",
      "The mean validation loss is 0.021873\n",
      "\n",
      "EPOCHS : 4/4 Loss : 0.021883\n",
      "The mean validation loss is 0.021578\n",
      "\n",
      "EPOCHS : 4/4 Loss : 0.022233\n",
      "The mean validation loss is 0.021441\n",
      "\n",
      "EPOCHS : 4/4 Loss : 0.021960\n",
      "The mean validation loss is 0.021858\n",
      "\n",
      "EPOCHS : 4/4 Loss : 0.021703\n",
      "The mean validation loss is 0.021508\n",
      "\n"
     ]
    }
   ],
   "source": [
    "train_loss, val_loss = train(BaseLSTM3com2,train_dataloader,val_dataloaders,4,40,\n",
    "      loss_fun,optimizer,'cuda',2,grad_clip=1.0,mname=\"BaseLSTM3com2\")"
   ]
  },
  {
   "cell_type": "code",
   "execution_count": null,
   "id": "95cd3927",
   "metadata": {},
   "outputs": [],
   "source": []
  },
  {
   "cell_type": "code",
   "execution_count": null,
   "id": "a724ceba",
   "metadata": {},
   "outputs": [],
   "source": []
  },
  {
   "cell_type": "code",
   "execution_count": null,
   "id": "1bcdc3e9",
   "metadata": {},
   "outputs": [],
   "source": []
  },
  {
   "cell_type": "code",
   "execution_count": null,
   "id": "995ca932",
   "metadata": {},
   "outputs": [],
   "source": []
  },
  {
   "cell_type": "markdown",
   "id": "7bb3695f",
   "metadata": {},
   "source": [
    "# Generate Music"
   ]
  },
  {
   "cell_type": "code",
   "execution_count": 20,
   "id": "83aa554b",
   "metadata": {},
   "outputs": [],
   "source": [
    "# define a function to extract hidden state given the beginning of a piece of music\n",
    "#  it should start from time step 0, extract the piano roll, take the first portion \n",
    "#   to generate hidden space and last prediction from the model\n",
    "def get_hidden(model, path,len_input_seq=200,ln=200,tmp=1,start_position=0):\n",
    "    # extract piano roll from the music and form one hot encoding\n",
    "    multitrack = pypianoroll.read(path)\n",
    "    multitrack.binarize()\n",
    "    combined_track = multitrack.blend()\n",
    "    # shrink the pitches and extract the part that we need\n",
    "    track_len = len(combined_track[:,0]) \n",
    "    # if track_len is less than the track they want\n",
    "    if (track_len < len_input_seq + start_position):\n",
    "        if (track_len < len_input_seq):\n",
    "            input_seq = combined_track[:,21:109] # take the entire trach\n",
    "        else:\n",
    "            input_seq = combined_track[start_position:,21:109] \n",
    "    else:\n",
    "        end_position = start_position + len_input_seq - 1\n",
    "        input_seq = combined_track[start_position:end_position,21:109]\n",
    "    \n",
    "    # input sequence must be a tensor\n",
    "    input_seq = torch.tensor(input_seq,dtype=torch.float)\n",
    "    \n",
    "    # add batch dimension\n",
    "    input_seq = torch.unsqueeze(input_seq,0)\n",
    "    \n",
    "    op, hidden = model(input_seq) # note hidden state don't stack\n",
    "    \n",
    "    # only take the last observations of each\n",
    "    output = op[-88:]\n",
    "    probs = nn.functional.softmax(output.div(tmp), dim=1)\n",
    "    output = torch.multinomial(probs.data, 1).squeeze().unsqueeze(0).unsqueeze(1)\n",
    "    output = output.float()\n",
    " \n",
    "    # hidden size (2,2,200,512), should go with (2,2,1,512)\n",
    "    h,c = hidden\n",
    "    h = h[:,-1:,:]\n",
    "    c = c[:,-1:,:]\n",
    "    hidden = (h,c)\n",
    "    \n",
    "    return generate_music(model,output,hidden,ln,tmp)\n",
    "\n",
    "# define a function to generate music based on the hidden state of the music\n",
    "def generate_music(model, start, hidden, ln=200, tmp=1):\n",
    "    seq_ip_cur = start\n",
    "        \n",
    "    op_seq = [seq_ip_cur.data.squeeze(1)]\n",
    "    hd = hidden\n",
    "\n",
    "    for i in range(ln):\n",
    "\n",
    "        # input sequence is predicted outputs\n",
    "        op, hd = model(seq_ip_cur, hd) # output is a vector of 88\n",
    "        #print(\"output: \",op)\n",
    "        \n",
    "        probs = nn.functional.softmax(op.div(tmp), dim=1)\n",
    "        #print(\"probabilities: \",probs)\n",
    "        \n",
    "        # update current sequence to the previous prediction\n",
    "        seq_ip_cur = torch.multinomial(probs.data, 1).squeeze().unsqueeze(0).unsqueeze(1)\n",
    "\n",
    "        # the model accept input as tensor of floats\n",
    "        seq_ip_cur = seq_ip_cur.float()\n",
    "        #print(\"updated sequence: \", seq_ip_cur.data.squeeze(1))\n",
    "\n",
    "        # append outputs\n",
    "        op_seq.append(seq_ip_cur.data.squeeze(1))\n",
    "\n",
    "    gen_seq = torch.cat(op_seq, dim=0).cpu().numpy()\n",
    "    \n",
    "    return gen_seq\n",
    "\n",
    "def generate_sample(model,model_val,run,musicname=\"mz_330_1.mid\",len_input_seq=200,\n",
    "                    ln=200,tmp=1,model_name=\"LSTM_Chopin\",start_position=0):\n",
    "    weights_folder = \"Handcrafted Dataset - One Hot Weights/\"\n",
    "    \n",
    "    # this is for simple version\n",
    "    #LSTM = model(input_size=88,embed_size=512,hidden_size=512,num_class=88).cpu() \n",
    "    \n",
    "    LSTM = model(88,512,512,88,2).cpu() \n",
    "    weights = model_name+\"-run-\"+str(run)+\"-val_loss-\"+model_val+ \".pth\"\n",
    "    weights_path = os.path.join(weights_folder,weights)\n",
    "    LSTM.load_state_dict(torch.load(weights_path))\n",
    "    \n",
    "\n",
    "    musicpath = \"Handcrafted Dataset - Generated Music/input/Classical/\" + musicname\n",
    "    LSTM.eval()\n",
    "    seq = get_hidden(LSTM,musicpath,len_input_seq,ln,tmp,start_position)\n",
    "    \n",
    "    plt.figure(figsize=(10,7))\n",
    "    plt.imshow(seq.T)\n",
    "    \n",
    "    outputpath = 'Handcrafted Dataset - Generated Music/'+model_name+'/run'+str(run)+'-'+model_val+'-'+musicname\n",
    "    return seq, outputpath"
   ]
  },
  {
   "cell_type": "markdown",
   "id": "585b36e5",
   "metadata": {},
   "source": [
    "### too much - BaseLSTM3com model - gap 300"
   ]
  },
  {
   "cell_type": "code",
   "execution_count": 22,
   "id": "6be403fb",
   "metadata": {},
   "outputs": [
    {
     "name": "stdout",
     "output_type": "stream",
     "text": [
      "Handcrafted Dataset - Generated Music/BaseLSTM3com/run3-BEST-mz_330_1.mid\n"
     ]
    },
    {
     "data": {
      "image/png": "[encoded data removed]",
      "text/plain": [
       "<Figure size 720x504 with 1 Axes>"
      ]
     },
     "metadata": {
      "needs_background": "light"
     },
     "output_type": "display_data"
    }
   ],
   "source": [
    "model = BaseLSTM\n",
    "model_val = \"BEST\"\n",
    "run = 3\n",
    "seq,path=generate_sample(model,model_val,run,musicname=\"mz_330_1.mid\",\n",
    "            len_input_seq=2000,ln=1000,tmp=1,model_name=\"BaseLSTM3com\",start_position=0)\n",
    "print(path)"
   ]
  },
  {
   "cell_type": "code",
   "execution_count": 23,
   "id": "f2f9c71d",
   "metadata": {},
   "outputs": [],
   "source": [
    "F.midiwrite(path, seq, dtm=0.1)"
   ]
  },
  {
   "cell_type": "code",
   "execution_count": null,
   "id": "7631f99a",
   "metadata": {},
   "outputs": [],
   "source": []
  },
  {
   "cell_type": "markdown",
   "id": "7454dc24",
   "metadata": {},
   "source": [
    "### BaseLSTM3com2 - gap 100"
   ]
  },
  {
   "cell_type": "code",
   "execution_count": 29,
   "id": "5a82f61d",
   "metadata": {},
   "outputs": [
    {
     "name": "stdout",
     "output_type": "stream",
     "text": [
      "Handcrafted Dataset - Generated Music/BaseLSTM3com2/run3-BEST-mz_330_1.mid\n"
     ]
    },
    {
     "data": {
      "image/png": "[encoded data removed]",
      "text/plain": [
       "<Figure size 720x504 with 1 Axes>"
      ]
     },
     "metadata": {
      "needs_background": "light"
     },
     "output_type": "display_data"
    }
   ],
   "source": [
    "model = BaseLSTM\n",
    "model_val = \"BEST\"\n",
    "run = 3\n",
    "seq,path=generate_sample(model,model_val,run,musicname=\"mz_330_1.mid\",\n",
    "            len_input_seq=2000,ln=1000,tmp=1,model_name=\"BaseLSTM3com2\",start_position=0)\n",
    "print(path)"
   ]
  },
  {
   "cell_type": "code",
   "execution_count": 27,
   "id": "760e6348",
   "metadata": {},
   "outputs": [],
   "source": [
    "F.midiwrite(path, seq, dtm=0.1)"
   ]
  },
  {
   "cell_type": "code",
   "execution_count": null,
   "id": "5d443a6c",
   "metadata": {},
   "outputs": [],
   "source": []
  },
  {
   "cell_type": "code",
   "execution_count": null,
   "id": "00ec970c",
   "metadata": {},
   "outputs": [],
   "source": []
  },
  {
   "cell_type": "code",
   "execution_count": null,
   "id": "e935cd00",
   "metadata": {},
   "outputs": [],
   "source": []
  },
  {
   "cell_type": "code",
   "execution_count": null,
   "id": "85e0d24a",
   "metadata": {},
   "outputs": [],
   "source": []
  },
  {
   "cell_type": "code",
   "execution_count": null,
   "id": "7213f692",
   "metadata": {},
   "outputs": [],
   "source": []
  },
  {
   "cell_type": "code",
   "execution_count": null,
   "id": "1714fcaa",
   "metadata": {},
   "outputs": [],
   "source": []
  },
  {
   "cell_type": "code",
   "execution_count": null,
   "id": "da8badf4",
   "metadata": {},
   "outputs": [],
   "source": []
  },
  {
   "cell_type": "code",
   "execution_count": null,
   "id": "9fc9b736",
   "metadata": {},
   "outputs": [],
   "source": []
  },
  {
   "cell_type": "code",
   "execution_count": null,
   "id": "61889078",
   "metadata": {},
   "outputs": [],
   "source": []
  }
 ],
 "metadata": {
  "kernelspec": {
   "display_name": "Python 3 (ipykernel)",
   "language": "python",
   "name": "python3"
  },
  "language_info": {
   "codemirror_mode": {
    "name": "ipython",
    "version": 3
   },
   "file_extension": ".py",
   "mimetype": "text/x-python",
   "name": "python",
   "nbconvert_exporter": "python",
   "pygments_lexer": "ipython3",
   "version": "3.9.12"
  }
 },
 "nbformat": 4,
 "nbformat_minor": 5
}
