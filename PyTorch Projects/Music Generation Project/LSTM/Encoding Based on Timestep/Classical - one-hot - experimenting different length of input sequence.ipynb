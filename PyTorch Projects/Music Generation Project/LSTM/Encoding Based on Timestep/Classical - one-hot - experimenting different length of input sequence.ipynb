{
 "cells": [
  {
   "cell_type": "code",
   "execution_count": 1,
   "id": "e040aa04",
   "metadata": {},
   "outputs": [],
   "source": [
    "import torch\n",
    "import torch.nn as nn\n",
    "from torch.autograd import Variable\n",
    "import torch.utils.data as data\n",
    "import os\n",
    "import pandas as pd\n",
    "import numpy as np\n",
    "import matplotlib.pyplot as plt\n",
    "from tqdm.auto import tqdm\n",
    "import random\n",
    "from torch import optim\n",
    "import math\n",
    "import pypianoroll\n",
    "import Functions as F"
   ]
  },
  {
   "cell_type": "markdown",
   "id": "15121072",
   "metadata": {},
   "source": [
    "# Customized Dataset"
   ]
  },
  {
   "cell_type": "code",
   "execution_count": 2,
   "id": "74d1ea58",
   "metadata": {},
   "outputs": [],
   "source": [
    "\n",
    "class customDataset2(data.Dataset):\n",
    "    def __init__(self,folder,subfolders,trainingtype):\n",
    "        self.folder = folder # this contains subfolders such as mozart\n",
    "        self.subfolders = subfolders\n",
    "        self.trainingtype = trainingtype # this is either Train, Val, or Test\n",
    "        \n",
    "        subfoldername = self.subfolders # get all the subfoler names such as chopin\n",
    "        \n",
    "        # extract desired datasets from each of the subfolders\n",
    "        all_songs = []\n",
    "        for foldername in  subfoldername:\n",
    "            # this gives the path of desired folder: e.g..../Chopin/Train\n",
    "            dataset_path_in_subfolder = os.path.join(folder,foldername,trainingtype)\n",
    "            #print(\"desired folder \",dataset_path_in_subfolder)\n",
    "            \n",
    "            # this gives the song names in the desired folder: e.g. k21_op3.mid\n",
    "            songs_in_dataset = os.listdir(dataset_path_in_subfolder)\n",
    "            #print(\"songs: \", songs_in_dataset[:3])\n",
    "            \n",
    "            # combine the desired path with the song names: e.g. .../Chopin/Train/k21_op3.mid\n",
    "            songs = map(lambda fname: os.path.join(dataset_path_in_subfolder,fname),\n",
    "                                                    songs_in_dataset)\n",
    "            songs = list(songs)\n",
    "            #print(\"songs full: \",songs[:3])\n",
    "            \n",
    "            # append the songs to all_songs\n",
    "            all_songs.extend(songs)\n",
    "            #print(\"all songs: \", all_songs[:3])\n",
    "        \n",
    "        # hold a list of full file paths\n",
    "        self.fnames_ful = all_songs\n",
    "        print(\"Total samples: \",len(all_songs))\n",
    "        #print(all_songs[:10])\n",
    "    \n",
    "    def __len__(self):\n",
    "        return len(self.fnames_ful)\n",
    "    \n",
    "    def __getitem__(self, index):\n",
    "        fnames_ful = self.fnames_ful[index]\n",
    "        roll = pd.read_csv(fnames_ful,header=None)\n",
    "        roll = np.array(roll)\n",
    "        # input sequence is from first element til the second last so that\n",
    "        #  the model could predict from the second element til the last one\n",
    "        ##input_seq = roll[:-1,:]\n",
    "        input_seq = roll[:500,:] # length 500\n",
    "        # we expect the model to predict the all elements\n",
    "        ##output_seq = roll[-500:,:]\n",
    "        ##output_seq = roll[-1000:,:]\n",
    "        output_seq = roll[1:501,:] # length 500\n",
    "        return (input_seq,output_seq)"
   ]
  },
  {
   "cell_type": "markdown",
   "id": "5fa4ad6f",
   "metadata": {},
   "source": [
    "# Dataloaders"
   ]
  },
  {
   "cell_type": "code",
   "execution_count": 3,
   "id": "1e837c67",
   "metadata": {},
   "outputs": [
    {
     "data": {
      "text/plain": [
       "['Bach',\n",
       " 'Beethoven',\n",
       " 'Chopin',\n",
       " 'Clementi',\n",
       " 'Czerny',\n",
       " 'Debussy',\n",
       " 'Handel_Harpsichord',\n",
       " 'Haydn',\n",
       " 'Liszt',\n",
       " 'Mendelssohn']"
      ]
     },
     "execution_count": 3,
     "metadata": {},
     "output_type": "execute_result"
    }
   ],
   "source": [
    "folder = \"Handcrafted Dataset - One Hot\"\n",
    "subfolders = os.listdir(folder)\n",
    "subfolders[:10]"
   ]
  },
  {
   "cell_type": "code",
   "execution_count": 4,
   "id": "5fae955c",
   "metadata": {},
   "outputs": [
    {
     "name": "stdout",
     "output_type": "stream",
     "text": [
      "Total samples:  29431\n"
     ]
    }
   ],
   "source": [
    "trainingtype = \"Train\"\n",
    "\n",
    "train_dataset = customDataset2(folder,subfolders,trainingtype)\n",
    "train_dataloader = data.DataLoader(train_dataset,batch_size=128,shuffle=True)"
   ]
  },
  {
   "cell_type": "code",
   "execution_count": 5,
   "id": "518dc525",
   "metadata": {},
   "outputs": [
    {
     "name": "stdout",
     "output_type": "stream",
     "text": [
      "torch.Size([128, 500, 88])\n",
      "torch.Size([128, 500, 88])\n"
     ]
    }
   ],
   "source": [
    "# check\n",
    "X_train=next(iter(train_dataloader))\n",
    "print(X_train[0].shape) # input seq\n",
    "print(X_train[1].shape) # output seq"
   ]
  },
  {
   "cell_type": "code",
   "execution_count": 6,
   "id": "593f05e6",
   "metadata": {},
   "outputs": [
    {
     "name": "stdout",
     "output_type": "stream",
     "text": [
      "Total samples:  5211\n"
     ]
    }
   ],
   "source": [
    "# validation set\n",
    "\n",
    "trainingtype=\"Val\"\n",
    "#val_dataset = customDataset(path)\n",
    "val_dataset = customDataset2(folder,subfolders,trainingtype)\n",
    "# seperate val set into 5 sets because validate 40,000 every time is too much\n",
    "#  now it would only validate on 8,000\n",
    "set1 = list(range(0,len(val_dataset),3))\n",
    "set2 = list(range(1,len(val_dataset),3))\n",
    "set3 = list(range(2,len(val_dataset),3))\n",
    "#set4 = list(range(3,len(val_dataset),5))\n",
    "#set5 = list(range(4,len(val_dataset),5))\n",
    "\n",
    "val1 = data.Subset(val_dataset,set1)\n",
    "val2 = data.Subset(val_dataset,set2)\n",
    "val3 = data.Subset(val_dataset,set3)\n",
    "#val4 = data.Subset(val_dataset,set4)\n",
    "#val5 = data.Subset(val_dataset,set5)\"\"\n",
    "\n",
    "size = 128\n",
    "val_dataloader1 = data.DataLoader(val1,batch_size=size,shuffle=True)\n",
    "val_dataloader2 = data.DataLoader(val2,batch_size=size,shuffle=True)\n",
    "val_dataloader3 = data.DataLoader(val3,batch_size=size,shuffle=True)\n",
    "#val_dataloader4 = data.DataLoader(val4,batch_size=size,shuffle=True)\n",
    "#val_dataloader5 = data.DataLoader(val5,batch_size=size,shuffle=True)\n",
    "\n",
    "val_dataloaders = [val_dataloader1,\n",
    "               val_dataloader2,\n",
    "                val_dataloader3]"
   ]
  },
  {
   "cell_type": "code",
   "execution_count": 7,
   "id": "e41bb28d",
   "metadata": {},
   "outputs": [
    {
     "name": "stdout",
     "output_type": "stream",
     "text": [
      "torch.Size([128, 500, 88])\n",
      "torch.Size([128, 500, 88])\n"
     ]
    }
   ],
   "source": [
    "# check\n",
    "X_val = next(iter(val_dataloader1))\n",
    "print(X_val[0].shape) # input seq\n",
    "print(X_val[1].shape) # output seq"
   ]
  },
  {
   "cell_type": "code",
   "execution_count": 8,
   "id": "e89d7f0a",
   "metadata": {},
   "outputs": [
    {
     "name": "stdout",
     "output_type": "stream",
     "text": [
      "Total samples:  3367\n"
     ]
    }
   ],
   "source": [
    "# test set\n",
    "trainingtype=\"Test\"\n",
    "test_dataset = customDataset2(folder,subfolders,trainingtype)\n",
    "test_dataloader = data.DataLoader(test_dataset,batch_size=128,shuffle=False)"
   ]
  },
  {
   "cell_type": "markdown",
   "id": "2877befb",
   "metadata": {},
   "source": [
    "## visualization"
   ]
  },
  {
   "cell_type": "code",
   "execution_count": 9,
   "id": "6800a347",
   "metadata": {},
   "outputs": [
    {
     "data": {
      "text/plain": [
       "<matplotlib.image.AxesImage at 0x137bbdf3b20>"
      ]
     },
     "execution_count": 9,
     "metadata": {},
     "output_type": "execute_result"
    },
    {
     "data": {
      "image/png": "[encoded data removed]",
      "text/plain": [
       "<Figure size 720x504 with 1 Axes>"
      ]
     },
     "metadata": {
      "needs_background": "light"
     },
     "output_type": "display_data"
    }
   ],
   "source": [
    "plt.figure(figsize=(10,7))\n",
    "plt.title(\"Matrix representation of a classical composition\")\n",
    "plt.imshow(X_train[0][4][:500].T)"
   ]
  },
  {
   "cell_type": "markdown",
   "id": "e7a52cfb",
   "metadata": {},
   "source": [
    "# Training and validation Routine"
   ]
  },
  {
   "cell_type": "code",
   "execution_count": 10,
   "id": "b4547161",
   "metadata": {},
   "outputs": [],
   "source": [
    "def evaluate(model,val_loader,device,loss_fn):\n",
    "    model.eval()\n",
    "    val_loss = 0.0\n",
    "    steps = 0\n",
    "    \n",
    "    for batch in val_loader:\n",
    "        steps += 1\n",
    "        input_seq, output_seq = batch\n",
    "        input_seq, output_seq = input_seq.to(device), output_seq.to(device)\n",
    "        # try to fix error :\"addmm_cuda\" not implemented for 'Long'\n",
    "        input_seq = input_seq.float()\n",
    "        \n",
    "        output_seq = output_seq.transpose(0,1).contiguous()\n",
    "        output_seq = output_seq.contiguous().view(-1)\n",
    "        \n",
    "        final,_ = model(input_seq)\n",
    "        # try to fix:\"nll_loss_forward_reduce_cuda_kernel_2d_index\" not implemented for 'Float'\n",
    "        #final, output_seq = final.double(),output_seq.double()\n",
    "        loss = loss_fn(final,output_seq)\n",
    "        val_loss += loss.item()\n",
    "    \n",
    "    print(\"The mean validation loss is %.4f\" % (val_loss/steps))\n",
    "    print()\n",
    "    return val_loss/steps"
   ]
  },
  {
   "cell_type": "code",
   "execution_count": 11,
   "id": "6132b032",
   "metadata": {},
   "outputs": [],
   "source": [
    "def train(model,trainloader,valloaders,ep,print_freq,loss_fun,\n",
    "          optimizer,device,run,grad_clip=1.0,mname=\"LSTM\"):\n",
    "    val_loss_best = float(\"inf\")\n",
    "    \n",
    "    # total number of training steps\n",
    "    num_steps = ep * (len(trainloader))\n",
    "    progress_bar = tqdm(range(num_steps))\n",
    "    \n",
    "    # calculate how often print the result\n",
    "    #  if num_step = 12, and print_freq = 3, then print every 4 steps\n",
    "    print_every = math.floor(num_steps/print_freq)\n",
    "    \n",
    "    # initialize\n",
    "    steps = 0\n",
    "    #model.to(device) ## error when run this twice\n",
    "    model.train()\n",
    "    train_losses = []\n",
    "    val_losses = []\n",
    "    which_val = 0\n",
    "    \n",
    "    for e in range(ep):\n",
    "        current_loss = 0\n",
    "        for batch in trainloader:\n",
    "            input_s, output_s = batch\n",
    "            steps += 1\n",
    "            input_seq, output_seq = input_s.to(device), output_s.to(device)\n",
    "            # try to fix error :\"addmm_cuda\" not implemented for 'Long'\n",
    "            #  note: output_seq should stay long (int)\n",
    "            input_seq = input_seq.float()\n",
    "            #print(\"input shape: \",input_seq.shape)\n",
    "            \n",
    "            output_seq = output_seq.transpose(0,1).contiguous()\n",
    "            #print(\"original output shape: \", output_seq.shape)\n",
    "            output_seq = output_seq.contiguous().view(-1)\n",
    "            \n",
    "            #print(\"output shape: \", output_seq.shape)\n",
    "            #print(\"largest output: \", torch.max(output_seq))\n",
    "            \n",
    "            # calculate grad and update\n",
    "            optimizer.zero_grad()\n",
    "            final,_ = model(input_seq)\n",
    "            #print(\"prediction shape: \", final.shape)\n",
    "            #print(\"largest prediction: \", torch.max(final.permute(1,0)[0]))\n",
    "            # calculate loss and record loss\n",
    "            # try to fix:\"nll_loss_forward_reduce_cuda_kernel_2d_index\" not implemented for 'Float'\n",
    "            #final, output_seq = final.double(),output_seq.double()\n",
    "            #print(\"final shape: \", final.shape) # (,2)\n",
    "            #print(\"output shape: \", output_seq.shape)\n",
    "            #print(\"final: \",final[:2,:])\n",
    "            #print(\"output_seq:\",output_seq[:2])\n",
    "            loss = loss_fun(final, output_seq)\n",
    "            #print(\"loss: \", loss)\n",
    "            train_losses.append(loss.item())\n",
    "            current_loss += loss.item()\n",
    "            #print(current_loss)\n",
    "            # update parameter\n",
    "            loss.backward()\n",
    "            torch.nn.utils.clip_grad_norm_(model.parameters(),grad_clip)\n",
    "            optimizer.step()\n",
    "            \n",
    "            # update progress bar\n",
    "            progress_bar.update(1)\n",
    "            \n",
    "            # print if reach the threshold we want\n",
    "            if steps % print_every == 0:\n",
    "                # training loss: divided by the number of steps taken during training\n",
    "                #  from last print to current print\n",
    "                print('EPOCHS : {}/{}'.format(e+1,ep),\n",
    "                          'Loss : {:.6f}'.format(current_loss/print_every))\n",
    "\n",
    "                current_loss = 0\n",
    "                #which_val = random.randint(0,4)\n",
    "                which_val = random.randint(0,2) # now I only have 2 val sets\n",
    "                # val loss: divided by the number of steps taken when validate\n",
    "                val_loss = evaluate(model,valloaders[which_val],device,loss_fun)\n",
    "                val_losses.append(val_loss)\n",
    "                \n",
    "                # add call back\n",
    "                if val_loss < val_loss_best:\n",
    "                    val_loss_best = val_loss\n",
    "                    torch.save(model.state_dict(),\n",
    "                     \"Handcrafted Dataset - One Hot Weights/\"+mname+\"-run-{}-val_loss-BEST.pth\".format(run))\n",
    "            model.train()\n",
    "    torch.save(model.state_dict(),\n",
    "         \"Handcrafted Dataset - One Hot Weights/\"+mname+\"-run-{}-val_loss-LAST.pth\".format(run))\n",
    "    return train_losses, val_losses"
   ]
  },
  {
   "cell_type": "markdown",
   "id": "97c0232b",
   "metadata": {},
   "source": [
    "# Model"
   ]
  },
  {
   "cell_type": "markdown",
   "id": "136226ae",
   "metadata": {},
   "source": [
    "# Length 3000"
   ]
  },
  {
   "cell_type": "code",
   "execution_count": 12,
   "id": "d50c673c",
   "metadata": {},
   "outputs": [],
   "source": [
    "class BaseLSTM(nn.Module):\n",
    "    def __init__(self, input_size = 88, embed_size = 512, hidden_size = 1024, \n",
    "                  num_class = 88, layers = 2):\n",
    "        super(BaseLSTM, self).__init__()\n",
    "        self.input_size = input_size\n",
    "        self.embed_size = embed_size\n",
    "        self.hidden_size = hidden_size\n",
    "        self.num_class = num_class\n",
    "        self.layers = layers\n",
    "        self.notes_encoder = nn.Linear(in_features=input_size, out_features=embed_size)\n",
    "        self.layernorm_encoder = nn.LayerNorm(embed_size)\n",
    "        self.layernorm_lstm = nn.LayerNorm(hidden_size)\n",
    "        self.lstm = nn.LSTM(embed_size,hidden_size,layers)\n",
    "        self.final = nn.Linear(hidden_size,num_class)\n",
    "        ###\n",
    "        #self.final = nn.Linear(hidden_size,128)\n",
    "        #self.final2 = nn.Linear(128,num_class)\n",
    "        #self.relu = nn.ReLU()\n",
    "        ###\n",
    "        \n",
    "    def forward(self,sequences,hidden=None):\n",
    "        # seq shape (batch,seq_len,88)\n",
    "        notes_encoded = self.notes_encoder(sequences) # shape (batch,seq_len,embed_size)\n",
    "        #notes_rolled = notes_encoded.permute(1,2,0).contiguous()\n",
    "                                                      # shape (seq_len,embed_size,batch)\n",
    "        notes_rolled = notes_encoded\n",
    "        notes_lnormed = self.layernorm_encoder(notes_rolled)\n",
    "        notes_lnormed = nn.Dropout(0.1)(notes_lnormed)\n",
    "        #notes = notes_lnormed.permute(2,0,1)          # shape (batch,seq_len,embed_size)\n",
    "        notes = notes_lnormed\n",
    "        \n",
    "        # output shape (batch,seq_len,hidden_size)\n",
    "        output, hidden = self.lstm(notes,hidden)\n",
    "        \n",
    "        #output_lnormed = self.layernorm_lstm(output.permute(1,2,0).contiguous())\n",
    "        output_lnormed = self.layernorm_lstm(output)\n",
    "        output_lnormed = nn.Dropout(0.1)(output_lnormed)\n",
    "        \n",
    "\n",
    "        \n",
    "        # only take the final 1000\n",
    "        #output_lnormed = output_lnormed[:,-1000:,:] \n",
    "        \n",
    "        # final shape (batch,200,num_class)\n",
    "        #final = self.final(output_lnormed.permute(2,0,1))\n",
    "        final = self.final(output_lnormed) # final (batch,200,hidden_size) --> \n",
    "                                            #                 (batch,200,88)\n",
    "        \n",
    "        ###\n",
    "        #final = self.relu(final)\n",
    "        #final = nn.Dropout(0.5)(final)\n",
    "        #final = self.final2(final)\n",
    "        \n",
    "        \n",
    "        ###\n",
    "        \n",
    "        # final shape (200,batch,88)\n",
    "        final = final.transpose(0,1).contiguous()\n",
    "        #print(\"original final shape: \", final.shape)\n",
    "        \n",
    "        # create a second measure for prediction per class, shape(seq_len,batch,num_class)\n",
    "        neg_final = 1 - final\n",
    "        \n",
    "        # two \"predictions\" for each node\n",
    "        zero_one_final = torch.stack((final,neg_final),dim=3).contiguous()\n",
    "        \n",
    "        # flatten everything except for the two predictions dimension\n",
    "        flatten_final = zero_one_final.view(-1,2)\n",
    "        \n",
    "        return flatten_final, hidden"
   ]
  },
  {
   "cell_type": "code",
   "execution_count": 41,
   "id": "76b8696c",
   "metadata": {},
   "outputs": [
    {
     "data": {
      "text/plain": [
       "tensor([[1, 4],\n",
       "        [2, 5],\n",
       "        [3, 6]])"
      ]
     },
     "execution_count": 41,
     "metadata": {},
     "output_type": "execute_result"
    }
   ],
   "source": [
    "# experiment\n",
    "a = torch.tensor([1,2,3])\n",
    "b = torch.tensor([4,5,6])\n",
    "c = torch.stack((a,b),dim=1)\n",
    "c"
   ]
  },
  {
   "cell_type": "code",
   "execution_count": 13,
   "id": "9a9884f7",
   "metadata": {},
   "outputs": [],
   "source": [
    "baseModel = BaseLSTM(input_size = 88, embed_size = 512, hidden_size = 512, \n",
    "                  num_class = 88, layers = 2).cuda()\n",
    "\n",
    "weights = torch.cuda.FloatTensor([1.0,2.0])\n",
    "loss_fun = nn.CrossEntropyLoss(weights)\n",
    "optimizer = optim.AdamW(baseModel.parameters(),lr=1e-4)"
   ]
  },
  {
   "cell_type": "markdown",
   "id": "c4579ed6",
   "metadata": {},
   "source": [
    "Batchsize = 16"
   ]
  },
  {
   "cell_type": "code",
   "execution_count": 14,
   "id": "7649fdbf",
   "metadata": {
    "collapsed": true
   },
   "outputs": [
    {
     "data": {
      "application/vnd.jupyter.widget-view+json": {
       "model_id": "7d0857a54b5943f1a316fa0468a90f9f",
       "version_major": 2,
       "version_minor": 0
      },
      "text/plain": [
       "  0%|          | 0/1840 [00:00<?, ?it/s]"
      ]
     },
     "metadata": {},
     "output_type": "display_data"
    },
    {
     "name": "stdout",
     "output_type": "stream",
     "text": [
      "EPOCHS : 1/1 Loss : 0.287788\n",
      "The mean validation loss is 0.1656\n",
      "\n",
      "EPOCHS : 1/1 Loss : 0.127989\n",
      "The mean validation loss is 0.0917\n",
      "\n",
      "EPOCHS : 1/1 Loss : 0.070552\n",
      "The mean validation loss is 0.0550\n",
      "\n",
      "EPOCHS : 1/1 Loss : 0.049597\n",
      "The mean validation loss is 0.0454\n",
      "\n",
      "EPOCHS : 1/1 Loss : 0.042761\n",
      "The mean validation loss is 0.0413\n",
      "\n",
      "EPOCHS : 1/1 Loss : 0.041020\n",
      "The mean validation loss is 0.0391\n",
      "\n",
      "EPOCHS : 1/1 Loss : 0.039075\n",
      "The mean validation loss is 0.0377\n",
      "\n",
      "EPOCHS : 1/1 Loss : 0.036907\n",
      "The mean validation loss is 0.0368\n",
      "\n",
      "EPOCHS : 1/1 Loss : 0.036365\n",
      "The mean validation loss is 0.0361\n",
      "\n",
      "EPOCHS : 1/1 Loss : 0.035822\n",
      "The mean validation loss is 0.0356\n",
      "\n",
      "EPOCHS : 1/1 Loss : 0.034977\n",
      "The mean validation loss is 0.0351\n",
      "\n",
      "EPOCHS : 1/1 Loss : 0.034478\n",
      "The mean validation loss is 0.0347\n",
      "\n",
      "EPOCHS : 1/1 Loss : 0.034747\n",
      "The mean validation loss is 0.0343\n",
      "\n",
      "EPOCHS : 1/1 Loss : 0.033055\n",
      "The mean validation loss is 0.0340\n",
      "\n",
      "EPOCHS : 1/1 Loss : 0.034993\n",
      "The mean validation loss is 0.0343\n",
      "\n",
      "EPOCHS : 1/1 Loss : 0.034337\n",
      "The mean validation loss is 0.0336\n",
      "\n",
      "EPOCHS : 1/1 Loss : 0.033632\n",
      "The mean validation loss is 0.0333\n",
      "\n",
      "EPOCHS : 1/1 Loss : 0.034375\n",
      "The mean validation loss is 0.0333\n",
      "\n",
      "EPOCHS : 1/1 Loss : 0.033132\n",
      "The mean validation loss is 0.0337\n",
      "\n",
      "EPOCHS : 1/1 Loss : 0.034095\n",
      "The mean validation loss is 0.0329\n",
      "\n",
      "EPOCHS : 1/1 Loss : 0.033506\n",
      "The mean validation loss is 0.0328\n",
      "\n",
      "EPOCHS : 1/1 Loss : 0.033270\n",
      "The mean validation loss is 0.0330\n",
      "\n",
      "EPOCHS : 1/1 Loss : 0.033380\n",
      "The mean validation loss is 0.0324\n",
      "\n",
      "EPOCHS : 1/1 Loss : 0.032763\n",
      "The mean validation loss is 0.0324\n",
      "\n",
      "EPOCHS : 1/1 Loss : 0.033059\n",
      "The mean validation loss is 0.0332\n",
      "\n",
      "EPOCHS : 1/1 Loss : 0.032429\n",
      "The mean validation loss is 0.0324\n",
      "\n",
      "EPOCHS : 1/1 Loss : 0.031953\n",
      "The mean validation loss is 0.0324\n",
      "\n",
      "EPOCHS : 1/1 Loss : 0.032308\n",
      "The mean validation loss is 0.0322\n",
      "\n",
      "EPOCHS : 1/1 Loss : 0.033369\n",
      "The mean validation loss is 0.0322\n",
      "\n",
      "EPOCHS : 1/1 Loss : 0.033006\n",
      "The mean validation loss is 0.0324\n",
      "\n",
      "EPOCHS : 1/1 Loss : 0.032881\n",
      "The mean validation loss is 0.0319\n",
      "\n",
      "EPOCHS : 1/1 Loss : 0.032496\n",
      "The mean validation loss is 0.0329\n",
      "\n",
      "EPOCHS : 1/1 Loss : 0.032815\n",
      "The mean validation loss is 0.0322\n",
      "\n",
      "EPOCHS : 1/1 Loss : 0.032258\n",
      "The mean validation loss is 0.0320\n",
      "\n",
      "EPOCHS : 1/1 Loss : 0.032621\n",
      "The mean validation loss is 0.0321\n",
      "\n",
      "EPOCHS : 1/1 Loss : 0.032711\n",
      "The mean validation loss is 0.0325\n",
      "\n",
      "EPOCHS : 1/1 Loss : 0.032850\n",
      "The mean validation loss is 0.0320\n",
      "\n",
      "EPOCHS : 1/1 Loss : 0.032579\n",
      "The mean validation loss is 0.0319\n",
      "\n",
      "EPOCHS : 1/1 Loss : 0.032666\n",
      "The mean validation loss is 0.0320\n",
      "\n",
      "EPOCHS : 1/1 Loss : 0.032089\n",
      "The mean validation loss is 0.0319\n",
      "\n"
     ]
    }
   ],
   "source": [
    "train_loss, val_loss = train(baseModel,train_dataloader,val_dataloaders,1,40,\n",
    "      loss_fun,optimizer,'cuda',1,grad_clip=1.0,mname=\"BaseLSTM\")"
   ]
  },
  {
   "cell_type": "code",
   "execution_count": 15,
   "id": "1c01a586",
   "metadata": {
    "collapsed": true
   },
   "outputs": [
    {
     "data": {
      "application/vnd.jupyter.widget-view+json": {
       "model_id": "e56c7acaaa5a4ab590bca1a42ef028c6",
       "version_major": 2,
       "version_minor": 0
      },
      "text/plain": [
       "  0%|          | 0/1840 [00:00<?, ?it/s]"
      ]
     },
     "metadata": {},
     "output_type": "display_data"
    },
    {
     "name": "stdout",
     "output_type": "stream",
     "text": [
      "EPOCHS : 1/1 Loss : 0.032765\n",
      "The mean validation loss is 0.0316\n",
      "\n",
      "EPOCHS : 1/1 Loss : 0.031376\n",
      "The mean validation loss is 0.0315\n",
      "\n",
      "EPOCHS : 1/1 Loss : 0.032659\n",
      "The mean validation loss is 0.0317\n",
      "\n",
      "EPOCHS : 1/1 Loss : 0.031982\n",
      "The mean validation loss is 0.0316\n",
      "\n",
      "EPOCHS : 1/1 Loss : 0.031212\n",
      "The mean validation loss is 0.0316\n",
      "\n",
      "EPOCHS : 1/1 Loss : 0.032325\n",
      "The mean validation loss is 0.0317\n",
      "\n",
      "EPOCHS : 1/1 Loss : 0.032859\n",
      "The mean validation loss is 0.0316\n",
      "\n",
      "EPOCHS : 1/1 Loss : 0.032216\n",
      "The mean validation loss is 0.0317\n",
      "\n",
      "EPOCHS : 1/1 Loss : 0.032531\n",
      "The mean validation loss is 0.0317\n",
      "\n",
      "EPOCHS : 1/1 Loss : 0.031385\n",
      "The mean validation loss is 0.0315\n",
      "\n",
      "EPOCHS : 1/1 Loss : 0.032410\n",
      "The mean validation loss is 0.0316\n",
      "\n",
      "EPOCHS : 1/1 Loss : 0.031887\n",
      "The mean validation loss is 0.0317\n",
      "\n",
      "EPOCHS : 1/1 Loss : 0.032050\n",
      "The mean validation loss is 0.0316\n",
      "\n",
      "EPOCHS : 1/1 Loss : 0.031609\n",
      "The mean validation loss is 0.0315\n",
      "\n",
      "EPOCHS : 1/1 Loss : 0.031862\n",
      "The mean validation loss is 0.0316\n",
      "\n",
      "EPOCHS : 1/1 Loss : 0.032078\n",
      "The mean validation loss is 0.0314\n",
      "\n",
      "EPOCHS : 1/1 Loss : 0.032579\n",
      "The mean validation loss is 0.0314\n",
      "\n",
      "EPOCHS : 1/1 Loss : 0.032298\n",
      "The mean validation loss is 0.0316\n",
      "\n",
      "EPOCHS : 1/1 Loss : 0.031184\n",
      "The mean validation loss is 0.0313\n",
      "\n",
      "EPOCHS : 1/1 Loss : 0.031978\n",
      "The mean validation loss is 0.0314\n",
      "\n",
      "EPOCHS : 1/1 Loss : 0.031626\n",
      "The mean validation loss is 0.0316\n",
      "\n",
      "EPOCHS : 1/1 Loss : 0.032555\n",
      "The mean validation loss is 0.0316\n",
      "\n",
      "EPOCHS : 1/1 Loss : 0.032095\n",
      "The mean validation loss is 0.0315\n",
      "\n",
      "EPOCHS : 1/1 Loss : 0.031247\n",
      "The mean validation loss is 0.0314\n",
      "\n",
      "EPOCHS : 1/1 Loss : 0.032286\n",
      "The mean validation loss is 0.0315\n",
      "\n",
      "EPOCHS : 1/1 Loss : 0.031139\n",
      "The mean validation loss is 0.0314\n",
      "\n",
      "EPOCHS : 1/1 Loss : 0.032117\n",
      "The mean validation loss is 0.0315\n",
      "\n",
      "EPOCHS : 1/1 Loss : 0.032636\n",
      "The mean validation loss is 0.0314\n",
      "\n",
      "EPOCHS : 1/1 Loss : 0.032585\n",
      "The mean validation loss is 0.0314\n",
      "\n",
      "EPOCHS : 1/1 Loss : 0.032457\n",
      "The mean validation loss is 0.0313\n",
      "\n",
      "EPOCHS : 1/1 Loss : 0.031500\n",
      "The mean validation loss is 0.0315\n",
      "\n",
      "EPOCHS : 1/1 Loss : 0.031399\n",
      "The mean validation loss is 0.0315\n",
      "\n",
      "EPOCHS : 1/1 Loss : 0.031660\n",
      "The mean validation loss is 0.0314\n",
      "\n",
      "EPOCHS : 1/1 Loss : 0.030965\n",
      "The mean validation loss is 0.0316\n",
      "\n",
      "EPOCHS : 1/1 Loss : 0.031501\n",
      "The mean validation loss is 0.0315\n",
      "\n",
      "EPOCHS : 1/1 Loss : 0.031599\n",
      "The mean validation loss is 0.0313\n",
      "\n",
      "EPOCHS : 1/1 Loss : 0.031603\n",
      "The mean validation loss is 0.0315\n",
      "\n",
      "EPOCHS : 1/1 Loss : 0.031811\n",
      "The mean validation loss is 0.0314\n",
      "\n",
      "EPOCHS : 1/1 Loss : 0.032112\n",
      "The mean validation loss is 0.0314\n",
      "\n",
      "EPOCHS : 1/1 Loss : 0.032474\n",
      "The mean validation loss is 0.0316\n",
      "\n"
     ]
    }
   ],
   "source": [
    "optimizer = optim.AdamW(baseModel.parameters(),lr=1e-5)\n",
    "train_loss, val_loss = train(baseModel,train_dataloader,val_dataloaders,1,40,\n",
    "      loss_fun,optimizer,'cuda',2,grad_clip=1.0,mname=\"BaseLSTM\")"
   ]
  },
  {
   "cell_type": "code",
   "execution_count": null,
   "id": "edf6d0e1",
   "metadata": {},
   "outputs": [],
   "source": []
  },
  {
   "cell_type": "code",
   "execution_count": null,
   "id": "453b235e",
   "metadata": {},
   "outputs": [],
   "source": []
  },
  {
   "cell_type": "code",
   "execution_count": 52,
   "id": "daab5233",
   "metadata": {
    "collapsed": true
   },
   "outputs": [
    {
     "data": {
      "application/vnd.jupyter.widget-view+json": {
       "model_id": "6dfb1223ae344758b7f71ca17207cba7",
       "version_major": 2,
       "version_minor": 0
      },
      "text/plain": [
       "  0%|          | 0/1840 [00:00<?, ?it/s]"
      ]
     },
     "metadata": {},
     "output_type": "display_data"
    },
    {
     "name": "stdout",
     "output_type": "stream",
     "text": [
      "final shape:  torch.Size([4222592, 2])\n",
      "output shape:  torch.Size([4222592])\n",
      "final:  tensor([[ 6.2297, -5.2297],\n",
      "        [ 6.0876, -5.0876]], device='cuda:0', grad_fn=<SliceBackward0>)\n",
      "output_seq: tensor([0, 0], device='cuda:0')\n",
      "loss:  tensor(0.0260, device='cuda:0', grad_fn=<NllLossBackward0>)\n",
      "final shape:  torch.Size([4222592, 2])\n",
      "output shape:  torch.Size([4222592])\n",
      "final:  tensor([[ 6.0642, -5.0642],\n",
      "        [ 5.5984, -4.5984]], device='cuda:0', grad_fn=<SliceBackward0>)\n",
      "output_seq: tensor([0, 0], device='cuda:0')\n",
      "loss:  tensor(0.0325, device='cuda:0', grad_fn=<NllLossBackward0>)\n",
      "final shape:  torch.Size([4222592, 2])\n",
      "output shape:  torch.Size([4222592])\n",
      "final:  tensor([[ 4.6328, -3.6328],\n",
      "        [ 4.6878, -3.6878]], device='cuda:0', grad_fn=<SliceBackward0>)\n",
      "output_seq: tensor([0, 0], device='cuda:0')\n",
      "loss:  tensor(0.0316, device='cuda:0', grad_fn=<NllLossBackward0>)\n",
      "final shape:  torch.Size([4222592, 2])\n",
      "output shape:  torch.Size([4222592])\n",
      "final:  tensor([[ 5.6609, -4.6609],\n",
      "        [ 5.5147, -4.5147]], device='cuda:0', grad_fn=<SliceBackward0>)\n",
      "output_seq: tensor([0, 0], device='cuda:0')\n",
      "loss:  tensor(0.0296, device='cuda:0', grad_fn=<NllLossBackward0>)\n"
     ]
    },
    {
     "ename": "KeyboardInterrupt",
     "evalue": "",
     "output_type": "error",
     "traceback": [
      "\u001b[1;31m---------------------------------------------------------------------------\u001b[0m",
      "\u001b[1;31mKeyboardInterrupt\u001b[0m                         Traceback (most recent call last)",
      "\u001b[1;32m~\\AppData\\Local\\Temp/ipykernel_6788/3054814874.py\u001b[0m in \u001b[0;36m<module>\u001b[1;34m\u001b[0m\n\u001b[0;32m      1\u001b[0m \u001b[1;31m# experiment\u001b[0m\u001b[1;33m\u001b[0m\u001b[1;33m\u001b[0m\u001b[0m\n\u001b[1;32m----> 2\u001b[1;33m train_loss, val_loss = train(baseModel,train_dataloader,val_dataloaders,1,40,\n\u001b[0m\u001b[0;32m      3\u001b[0m       loss_fun,optimizer,'cuda',2,grad_clip=1.0,mname=\"BaseLSTM\")\n",
      "\u001b[1;32m~\\AppData\\Local\\Temp/ipykernel_6788/598458230.py\u001b[0m in \u001b[0;36mtrain\u001b[1;34m(model, trainloader, valloaders, ep, print_freq, loss_fun, optimizer, device, run, grad_clip, mname)\u001b[0m\n\u001b[0;32m     21\u001b[0m     \u001b[1;32mfor\u001b[0m \u001b[0me\u001b[0m \u001b[1;32min\u001b[0m \u001b[0mrange\u001b[0m\u001b[1;33m(\u001b[0m\u001b[0mep\u001b[0m\u001b[1;33m)\u001b[0m\u001b[1;33m:\u001b[0m\u001b[1;33m\u001b[0m\u001b[1;33m\u001b[0m\u001b[0m\n\u001b[0;32m     22\u001b[0m         \u001b[0mcurrent_loss\u001b[0m \u001b[1;33m=\u001b[0m \u001b[1;36m0\u001b[0m\u001b[1;33m\u001b[0m\u001b[1;33m\u001b[0m\u001b[0m\n\u001b[1;32m---> 23\u001b[1;33m         \u001b[1;32mfor\u001b[0m \u001b[0mbatch\u001b[0m \u001b[1;32min\u001b[0m \u001b[0mtrainloader\u001b[0m\u001b[1;33m:\u001b[0m\u001b[1;33m\u001b[0m\u001b[1;33m\u001b[0m\u001b[0m\n\u001b[0m\u001b[0;32m     24\u001b[0m             \u001b[0minput_s\u001b[0m\u001b[1;33m,\u001b[0m \u001b[0moutput_s\u001b[0m \u001b[1;33m=\u001b[0m \u001b[0mbatch\u001b[0m\u001b[1;33m\u001b[0m\u001b[1;33m\u001b[0m\u001b[0m\n\u001b[0;32m     25\u001b[0m             \u001b[0msteps\u001b[0m \u001b[1;33m+=\u001b[0m \u001b[1;36m1\u001b[0m\u001b[1;33m\u001b[0m\u001b[1;33m\u001b[0m\u001b[0m\n",
      "\u001b[1;32mW:\\Tools\\Anaconda3\\envs\\pytorch\\lib\\site-packages\\torch\\utils\\data\\dataloader.py\u001b[0m in \u001b[0;36m__next__\u001b[1;34m(self)\u001b[0m\n\u001b[0;32m    519\u001b[0m             \u001b[1;32mif\u001b[0m \u001b[0mself\u001b[0m\u001b[1;33m.\u001b[0m\u001b[0m_sampler_iter\u001b[0m \u001b[1;32mis\u001b[0m \u001b[1;32mNone\u001b[0m\u001b[1;33m:\u001b[0m\u001b[1;33m\u001b[0m\u001b[1;33m\u001b[0m\u001b[0m\n\u001b[0;32m    520\u001b[0m                 \u001b[0mself\u001b[0m\u001b[1;33m.\u001b[0m\u001b[0m_reset\u001b[0m\u001b[1;33m(\u001b[0m\u001b[1;33m)\u001b[0m\u001b[1;33m\u001b[0m\u001b[1;33m\u001b[0m\u001b[0m\n\u001b[1;32m--> 521\u001b[1;33m             \u001b[0mdata\u001b[0m \u001b[1;33m=\u001b[0m \u001b[0mself\u001b[0m\u001b[1;33m.\u001b[0m\u001b[0m_next_data\u001b[0m\u001b[1;33m(\u001b[0m\u001b[1;33m)\u001b[0m\u001b[1;33m\u001b[0m\u001b[1;33m\u001b[0m\u001b[0m\n\u001b[0m\u001b[0;32m    522\u001b[0m             \u001b[0mself\u001b[0m\u001b[1;33m.\u001b[0m\u001b[0m_num_yielded\u001b[0m \u001b[1;33m+=\u001b[0m \u001b[1;36m1\u001b[0m\u001b[1;33m\u001b[0m\u001b[1;33m\u001b[0m\u001b[0m\n\u001b[0;32m    523\u001b[0m             \u001b[1;32mif\u001b[0m \u001b[0mself\u001b[0m\u001b[1;33m.\u001b[0m\u001b[0m_dataset_kind\u001b[0m \u001b[1;33m==\u001b[0m \u001b[0m_DatasetKind\u001b[0m\u001b[1;33m.\u001b[0m\u001b[0mIterable\u001b[0m \u001b[1;32mand\u001b[0m\u001b[0;31m \u001b[0m\u001b[0;31m\\\u001b[0m\u001b[1;33m\u001b[0m\u001b[1;33m\u001b[0m\u001b[0m\n",
      "\u001b[1;32mW:\\Tools\\Anaconda3\\envs\\pytorch\\lib\\site-packages\\torch\\utils\\data\\dataloader.py\u001b[0m in \u001b[0;36m_next_data\u001b[1;34m(self)\u001b[0m\n\u001b[0;32m    559\u001b[0m     \u001b[1;32mdef\u001b[0m \u001b[0m_next_data\u001b[0m\u001b[1;33m(\u001b[0m\u001b[0mself\u001b[0m\u001b[1;33m)\u001b[0m\u001b[1;33m:\u001b[0m\u001b[1;33m\u001b[0m\u001b[1;33m\u001b[0m\u001b[0m\n\u001b[0;32m    560\u001b[0m         \u001b[0mindex\u001b[0m \u001b[1;33m=\u001b[0m \u001b[0mself\u001b[0m\u001b[1;33m.\u001b[0m\u001b[0m_next_index\u001b[0m\u001b[1;33m(\u001b[0m\u001b[1;33m)\u001b[0m  \u001b[1;31m# may raise StopIteration\u001b[0m\u001b[1;33m\u001b[0m\u001b[1;33m\u001b[0m\u001b[0m\n\u001b[1;32m--> 561\u001b[1;33m         \u001b[0mdata\u001b[0m \u001b[1;33m=\u001b[0m \u001b[0mself\u001b[0m\u001b[1;33m.\u001b[0m\u001b[0m_dataset_fetcher\u001b[0m\u001b[1;33m.\u001b[0m\u001b[0mfetch\u001b[0m\u001b[1;33m(\u001b[0m\u001b[0mindex\u001b[0m\u001b[1;33m)\u001b[0m  \u001b[1;31m# may raise StopIteration\u001b[0m\u001b[1;33m\u001b[0m\u001b[1;33m\u001b[0m\u001b[0m\n\u001b[0m\u001b[0;32m    562\u001b[0m         \u001b[1;32mif\u001b[0m \u001b[0mself\u001b[0m\u001b[1;33m.\u001b[0m\u001b[0m_pin_memory\u001b[0m\u001b[1;33m:\u001b[0m\u001b[1;33m\u001b[0m\u001b[1;33m\u001b[0m\u001b[0m\n\u001b[0;32m    563\u001b[0m             \u001b[0mdata\u001b[0m \u001b[1;33m=\u001b[0m \u001b[0m_utils\u001b[0m\u001b[1;33m.\u001b[0m\u001b[0mpin_memory\u001b[0m\u001b[1;33m.\u001b[0m\u001b[0mpin_memory\u001b[0m\u001b[1;33m(\u001b[0m\u001b[0mdata\u001b[0m\u001b[1;33m)\u001b[0m\u001b[1;33m\u001b[0m\u001b[1;33m\u001b[0m\u001b[0m\n",
      "\u001b[1;32mW:\\Tools\\Anaconda3\\envs\\pytorch\\lib\\site-packages\\torch\\utils\\data\\_utils\\fetch.py\u001b[0m in \u001b[0;36mfetch\u001b[1;34m(self, possibly_batched_index)\u001b[0m\n\u001b[0;32m     47\u001b[0m     \u001b[1;32mdef\u001b[0m \u001b[0mfetch\u001b[0m\u001b[1;33m(\u001b[0m\u001b[0mself\u001b[0m\u001b[1;33m,\u001b[0m \u001b[0mpossibly_batched_index\u001b[0m\u001b[1;33m)\u001b[0m\u001b[1;33m:\u001b[0m\u001b[1;33m\u001b[0m\u001b[1;33m\u001b[0m\u001b[0m\n\u001b[0;32m     48\u001b[0m         \u001b[1;32mif\u001b[0m \u001b[0mself\u001b[0m\u001b[1;33m.\u001b[0m\u001b[0mauto_collation\u001b[0m\u001b[1;33m:\u001b[0m\u001b[1;33m\u001b[0m\u001b[1;33m\u001b[0m\u001b[0m\n\u001b[1;32m---> 49\u001b[1;33m             \u001b[0mdata\u001b[0m \u001b[1;33m=\u001b[0m \u001b[1;33m[\u001b[0m\u001b[0mself\u001b[0m\u001b[1;33m.\u001b[0m\u001b[0mdataset\u001b[0m\u001b[1;33m[\u001b[0m\u001b[0midx\u001b[0m\u001b[1;33m]\u001b[0m \u001b[1;32mfor\u001b[0m \u001b[0midx\u001b[0m \u001b[1;32min\u001b[0m \u001b[0mpossibly_batched_index\u001b[0m\u001b[1;33m]\u001b[0m\u001b[1;33m\u001b[0m\u001b[1;33m\u001b[0m\u001b[0m\n\u001b[0m\u001b[0;32m     50\u001b[0m         \u001b[1;32melse\u001b[0m\u001b[1;33m:\u001b[0m\u001b[1;33m\u001b[0m\u001b[1;33m\u001b[0m\u001b[0m\n\u001b[0;32m     51\u001b[0m             \u001b[0mdata\u001b[0m \u001b[1;33m=\u001b[0m \u001b[0mself\u001b[0m\u001b[1;33m.\u001b[0m\u001b[0mdataset\u001b[0m\u001b[1;33m[\u001b[0m\u001b[0mpossibly_batched_index\u001b[0m\u001b[1;33m]\u001b[0m\u001b[1;33m\u001b[0m\u001b[1;33m\u001b[0m\u001b[0m\n",
      "\u001b[1;32mW:\\Tools\\Anaconda3\\envs\\pytorch\\lib\\site-packages\\torch\\utils\\data\\_utils\\fetch.py\u001b[0m in \u001b[0;36m<listcomp>\u001b[1;34m(.0)\u001b[0m\n\u001b[0;32m     47\u001b[0m     \u001b[1;32mdef\u001b[0m \u001b[0mfetch\u001b[0m\u001b[1;33m(\u001b[0m\u001b[0mself\u001b[0m\u001b[1;33m,\u001b[0m \u001b[0mpossibly_batched_index\u001b[0m\u001b[1;33m)\u001b[0m\u001b[1;33m:\u001b[0m\u001b[1;33m\u001b[0m\u001b[1;33m\u001b[0m\u001b[0m\n\u001b[0;32m     48\u001b[0m         \u001b[1;32mif\u001b[0m \u001b[0mself\u001b[0m\u001b[1;33m.\u001b[0m\u001b[0mauto_collation\u001b[0m\u001b[1;33m:\u001b[0m\u001b[1;33m\u001b[0m\u001b[1;33m\u001b[0m\u001b[0m\n\u001b[1;32m---> 49\u001b[1;33m             \u001b[0mdata\u001b[0m \u001b[1;33m=\u001b[0m \u001b[1;33m[\u001b[0m\u001b[0mself\u001b[0m\u001b[1;33m.\u001b[0m\u001b[0mdataset\u001b[0m\u001b[1;33m[\u001b[0m\u001b[0midx\u001b[0m\u001b[1;33m]\u001b[0m \u001b[1;32mfor\u001b[0m \u001b[0midx\u001b[0m \u001b[1;32min\u001b[0m \u001b[0mpossibly_batched_index\u001b[0m\u001b[1;33m]\u001b[0m\u001b[1;33m\u001b[0m\u001b[1;33m\u001b[0m\u001b[0m\n\u001b[0m\u001b[0;32m     50\u001b[0m         \u001b[1;32melse\u001b[0m\u001b[1;33m:\u001b[0m\u001b[1;33m\u001b[0m\u001b[1;33m\u001b[0m\u001b[0m\n\u001b[0;32m     51\u001b[0m             \u001b[0mdata\u001b[0m \u001b[1;33m=\u001b[0m \u001b[0mself\u001b[0m\u001b[1;33m.\u001b[0m\u001b[0mdataset\u001b[0m\u001b[1;33m[\u001b[0m\u001b[0mpossibly_batched_index\u001b[0m\u001b[1;33m]\u001b[0m\u001b[1;33m\u001b[0m\u001b[1;33m\u001b[0m\u001b[0m\n",
      "\u001b[1;32m~\\AppData\\Local\\Temp/ipykernel_6788/13951875.py\u001b[0m in \u001b[0;36m__getitem__\u001b[1;34m(self, index)\u001b[0m\n\u001b[0;32m     38\u001b[0m     \u001b[1;32mdef\u001b[0m \u001b[0m__getitem__\u001b[0m\u001b[1;33m(\u001b[0m\u001b[0mself\u001b[0m\u001b[1;33m,\u001b[0m \u001b[0mindex\u001b[0m\u001b[1;33m)\u001b[0m\u001b[1;33m:\u001b[0m\u001b[1;33m\u001b[0m\u001b[1;33m\u001b[0m\u001b[0m\n\u001b[0;32m     39\u001b[0m         \u001b[0mfnames_ful\u001b[0m \u001b[1;33m=\u001b[0m \u001b[0mself\u001b[0m\u001b[1;33m.\u001b[0m\u001b[0mfnames_ful\u001b[0m\u001b[1;33m[\u001b[0m\u001b[0mindex\u001b[0m\u001b[1;33m]\u001b[0m\u001b[1;33m\u001b[0m\u001b[1;33m\u001b[0m\u001b[0m\n\u001b[1;32m---> 40\u001b[1;33m         \u001b[0mroll\u001b[0m \u001b[1;33m=\u001b[0m \u001b[0mpd\u001b[0m\u001b[1;33m.\u001b[0m\u001b[0mread_csv\u001b[0m\u001b[1;33m(\u001b[0m\u001b[0mfnames_ful\u001b[0m\u001b[1;33m,\u001b[0m\u001b[0mheader\u001b[0m\u001b[1;33m=\u001b[0m\u001b[1;32mNone\u001b[0m\u001b[1;33m)\u001b[0m\u001b[1;33m\u001b[0m\u001b[1;33m\u001b[0m\u001b[0m\n\u001b[0m\u001b[0;32m     41\u001b[0m         \u001b[0mroll\u001b[0m \u001b[1;33m=\u001b[0m \u001b[0mnp\u001b[0m\u001b[1;33m.\u001b[0m\u001b[0marray\u001b[0m\u001b[1;33m(\u001b[0m\u001b[0mroll\u001b[0m\u001b[1;33m)\u001b[0m\u001b[1;33m\u001b[0m\u001b[1;33m\u001b[0m\u001b[0m\n\u001b[0;32m     42\u001b[0m         \u001b[1;31m# input sequence is from first element til the second last so that\u001b[0m\u001b[1;33m\u001b[0m\u001b[1;33m\u001b[0m\u001b[0m\n",
      "\u001b[1;32mW:\\Tools\\Anaconda3\\envs\\pytorch\\lib\\site-packages\\pandas\\util\\_decorators.py\u001b[0m in \u001b[0;36mwrapper\u001b[1;34m(*args, **kwargs)\u001b[0m\n\u001b[0;32m    309\u001b[0m                     \u001b[0mstacklevel\u001b[0m\u001b[1;33m=\u001b[0m\u001b[0mstacklevel\u001b[0m\u001b[1;33m,\u001b[0m\u001b[1;33m\u001b[0m\u001b[1;33m\u001b[0m\u001b[0m\n\u001b[0;32m    310\u001b[0m                 )\n\u001b[1;32m--> 311\u001b[1;33m             \u001b[1;32mreturn\u001b[0m \u001b[0mfunc\u001b[0m\u001b[1;33m(\u001b[0m\u001b[1;33m*\u001b[0m\u001b[0margs\u001b[0m\u001b[1;33m,\u001b[0m \u001b[1;33m**\u001b[0m\u001b[0mkwargs\u001b[0m\u001b[1;33m)\u001b[0m\u001b[1;33m\u001b[0m\u001b[1;33m\u001b[0m\u001b[0m\n\u001b[0m\u001b[0;32m    312\u001b[0m \u001b[1;33m\u001b[0m\u001b[0m\n\u001b[0;32m    313\u001b[0m         \u001b[1;32mreturn\u001b[0m \u001b[0mwrapper\u001b[0m\u001b[1;33m\u001b[0m\u001b[1;33m\u001b[0m\u001b[0m\n",
      "\u001b[1;32mW:\\Tools\\Anaconda3\\envs\\pytorch\\lib\\site-packages\\pandas\\io\\parsers\\readers.py\u001b[0m in \u001b[0;36mread_csv\u001b[1;34m(filepath_or_buffer, sep, delimiter, header, names, index_col, usecols, squeeze, prefix, mangle_dupe_cols, dtype, engine, converters, true_values, false_values, skipinitialspace, skiprows, skipfooter, nrows, na_values, keep_default_na, na_filter, verbose, skip_blank_lines, parse_dates, infer_datetime_format, keep_date_col, date_parser, dayfirst, cache_dates, iterator, chunksize, compression, thousands, decimal, lineterminator, quotechar, quoting, doublequote, escapechar, comment, encoding, encoding_errors, dialect, error_bad_lines, warn_bad_lines, on_bad_lines, delim_whitespace, low_memory, memory_map, float_precision, storage_options)\u001b[0m\n\u001b[0;32m    678\u001b[0m     \u001b[0mkwds\u001b[0m\u001b[1;33m.\u001b[0m\u001b[0mupdate\u001b[0m\u001b[1;33m(\u001b[0m\u001b[0mkwds_defaults\u001b[0m\u001b[1;33m)\u001b[0m\u001b[1;33m\u001b[0m\u001b[1;33m\u001b[0m\u001b[0m\n\u001b[0;32m    679\u001b[0m \u001b[1;33m\u001b[0m\u001b[0m\n\u001b[1;32m--> 680\u001b[1;33m     \u001b[1;32mreturn\u001b[0m \u001b[0m_read\u001b[0m\u001b[1;33m(\u001b[0m\u001b[0mfilepath_or_buffer\u001b[0m\u001b[1;33m,\u001b[0m \u001b[0mkwds\u001b[0m\u001b[1;33m)\u001b[0m\u001b[1;33m\u001b[0m\u001b[1;33m\u001b[0m\u001b[0m\n\u001b[0m\u001b[0;32m    681\u001b[0m \u001b[1;33m\u001b[0m\u001b[0m\n\u001b[0;32m    682\u001b[0m \u001b[1;33m\u001b[0m\u001b[0m\n",
      "\u001b[1;32mW:\\Tools\\Anaconda3\\envs\\pytorch\\lib\\site-packages\\pandas\\io\\parsers\\readers.py\u001b[0m in \u001b[0;36m_read\u001b[1;34m(filepath_or_buffer, kwds)\u001b[0m\n\u001b[0;32m    573\u001b[0m \u001b[1;33m\u001b[0m\u001b[0m\n\u001b[0;32m    574\u001b[0m     \u001b[1;31m# Create the parser.\u001b[0m\u001b[1;33m\u001b[0m\u001b[1;33m\u001b[0m\u001b[0m\n\u001b[1;32m--> 575\u001b[1;33m     \u001b[0mparser\u001b[0m \u001b[1;33m=\u001b[0m \u001b[0mTextFileReader\u001b[0m\u001b[1;33m(\u001b[0m\u001b[0mfilepath_or_buffer\u001b[0m\u001b[1;33m,\u001b[0m \u001b[1;33m**\u001b[0m\u001b[0mkwds\u001b[0m\u001b[1;33m)\u001b[0m\u001b[1;33m\u001b[0m\u001b[1;33m\u001b[0m\u001b[0m\n\u001b[0m\u001b[0;32m    576\u001b[0m \u001b[1;33m\u001b[0m\u001b[0m\n\u001b[0;32m    577\u001b[0m     \u001b[1;32mif\u001b[0m \u001b[0mchunksize\u001b[0m \u001b[1;32mor\u001b[0m \u001b[0miterator\u001b[0m\u001b[1;33m:\u001b[0m\u001b[1;33m\u001b[0m\u001b[1;33m\u001b[0m\u001b[0m\n",
      "\u001b[1;32mW:\\Tools\\Anaconda3\\envs\\pytorch\\lib\\site-packages\\pandas\\io\\parsers\\readers.py\u001b[0m in \u001b[0;36m__init__\u001b[1;34m(self, f, engine, **kwds)\u001b[0m\n\u001b[0;32m    931\u001b[0m \u001b[1;33m\u001b[0m\u001b[0m\n\u001b[0;32m    932\u001b[0m         \u001b[0mself\u001b[0m\u001b[1;33m.\u001b[0m\u001b[0mhandles\u001b[0m\u001b[1;33m:\u001b[0m \u001b[0mIOHandles\u001b[0m \u001b[1;33m|\u001b[0m \u001b[1;32mNone\u001b[0m \u001b[1;33m=\u001b[0m \u001b[1;32mNone\u001b[0m\u001b[1;33m\u001b[0m\u001b[1;33m\u001b[0m\u001b[0m\n\u001b[1;32m--> 933\u001b[1;33m         \u001b[0mself\u001b[0m\u001b[1;33m.\u001b[0m\u001b[0m_engine\u001b[0m \u001b[1;33m=\u001b[0m \u001b[0mself\u001b[0m\u001b[1;33m.\u001b[0m\u001b[0m_make_engine\u001b[0m\u001b[1;33m(\u001b[0m\u001b[0mf\u001b[0m\u001b[1;33m,\u001b[0m \u001b[0mself\u001b[0m\u001b[1;33m.\u001b[0m\u001b[0mengine\u001b[0m\u001b[1;33m)\u001b[0m\u001b[1;33m\u001b[0m\u001b[1;33m\u001b[0m\u001b[0m\n\u001b[0m\u001b[0;32m    934\u001b[0m \u001b[1;33m\u001b[0m\u001b[0m\n\u001b[0;32m    935\u001b[0m     \u001b[1;32mdef\u001b[0m \u001b[0mclose\u001b[0m\u001b[1;33m(\u001b[0m\u001b[0mself\u001b[0m\u001b[1;33m)\u001b[0m\u001b[1;33m:\u001b[0m\u001b[1;33m\u001b[0m\u001b[1;33m\u001b[0m\u001b[0m\n",
      "\u001b[1;32mW:\\Tools\\Anaconda3\\envs\\pytorch\\lib\\site-packages\\pandas\\io\\parsers\\readers.py\u001b[0m in \u001b[0;36m_make_engine\u001b[1;34m(self, f, engine)\u001b[0m\n\u001b[0;32m   1229\u001b[0m \u001b[1;33m\u001b[0m\u001b[0m\n\u001b[0;32m   1230\u001b[0m         \u001b[1;32mtry\u001b[0m\u001b[1;33m:\u001b[0m\u001b[1;33m\u001b[0m\u001b[1;33m\u001b[0m\u001b[0m\n\u001b[1;32m-> 1231\u001b[1;33m             \u001b[1;32mreturn\u001b[0m \u001b[0mmapping\u001b[0m\u001b[1;33m[\u001b[0m\u001b[0mengine\u001b[0m\u001b[1;33m]\u001b[0m\u001b[1;33m(\u001b[0m\u001b[0mf\u001b[0m\u001b[1;33m,\u001b[0m \u001b[1;33m**\u001b[0m\u001b[0mself\u001b[0m\u001b[1;33m.\u001b[0m\u001b[0moptions\u001b[0m\u001b[1;33m)\u001b[0m\u001b[1;33m\u001b[0m\u001b[1;33m\u001b[0m\u001b[0m\n\u001b[0m\u001b[0;32m   1232\u001b[0m         \u001b[1;32mexcept\u001b[0m \u001b[0mException\u001b[0m\u001b[1;33m:\u001b[0m\u001b[1;33m\u001b[0m\u001b[1;33m\u001b[0m\u001b[0m\n\u001b[0;32m   1233\u001b[0m             \u001b[1;32mif\u001b[0m \u001b[0mself\u001b[0m\u001b[1;33m.\u001b[0m\u001b[0mhandles\u001b[0m \u001b[1;32mis\u001b[0m \u001b[1;32mnot\u001b[0m \u001b[1;32mNone\u001b[0m\u001b[1;33m:\u001b[0m\u001b[1;33m\u001b[0m\u001b[1;33m\u001b[0m\u001b[0m\n",
      "\u001b[1;32mW:\\Tools\\Anaconda3\\envs\\pytorch\\lib\\site-packages\\pandas\\io\\parsers\\c_parser_wrapper.py\u001b[0m in \u001b[0;36m__init__\u001b[1;34m(self, src, **kwds)\u001b[0m\n\u001b[0;32m     73\u001b[0m \u001b[1;33m\u001b[0m\u001b[0m\n\u001b[0;32m     74\u001b[0m         \u001b[0mkwds\u001b[0m\u001b[1;33m[\u001b[0m\u001b[1;34m\"dtype\"\u001b[0m\u001b[1;33m]\u001b[0m \u001b[1;33m=\u001b[0m \u001b[0mensure_dtype_objs\u001b[0m\u001b[1;33m(\u001b[0m\u001b[0mkwds\u001b[0m\u001b[1;33m.\u001b[0m\u001b[0mget\u001b[0m\u001b[1;33m(\u001b[0m\u001b[1;34m\"dtype\"\u001b[0m\u001b[1;33m,\u001b[0m \u001b[1;32mNone\u001b[0m\u001b[1;33m)\u001b[0m\u001b[1;33m)\u001b[0m\u001b[1;33m\u001b[0m\u001b[1;33m\u001b[0m\u001b[0m\n\u001b[1;32m---> 75\u001b[1;33m         \u001b[0mself\u001b[0m\u001b[1;33m.\u001b[0m\u001b[0m_reader\u001b[0m \u001b[1;33m=\u001b[0m \u001b[0mparsers\u001b[0m\u001b[1;33m.\u001b[0m\u001b[0mTextReader\u001b[0m\u001b[1;33m(\u001b[0m\u001b[0msrc\u001b[0m\u001b[1;33m,\u001b[0m \u001b[1;33m**\u001b[0m\u001b[0mkwds\u001b[0m\u001b[1;33m)\u001b[0m\u001b[1;33m\u001b[0m\u001b[1;33m\u001b[0m\u001b[0m\n\u001b[0m\u001b[0;32m     76\u001b[0m \u001b[1;33m\u001b[0m\u001b[0m\n\u001b[0;32m     77\u001b[0m         \u001b[0mself\u001b[0m\u001b[1;33m.\u001b[0m\u001b[0munnamed_cols\u001b[0m \u001b[1;33m=\u001b[0m \u001b[0mself\u001b[0m\u001b[1;33m.\u001b[0m\u001b[0m_reader\u001b[0m\u001b[1;33m.\u001b[0m\u001b[0munnamed_cols\u001b[0m\u001b[1;33m\u001b[0m\u001b[1;33m\u001b[0m\u001b[0m\n",
      "\u001b[1;31mKeyboardInterrupt\u001b[0m: "
     ]
    }
   ],
   "source": [
    "# experiment\n",
    "train_loss, val_loss = train(baseModel,train_dataloader,val_dataloaders,1,40,\n",
    "      loss_fun,optimizer,'cuda',2,grad_clip=1.0,mname=\"BaseLSTM\")"
   ]
  },
  {
   "cell_type": "code",
   "execution_count": null,
   "id": "477ca162",
   "metadata": {},
   "outputs": [],
   "source": []
  },
  {
   "cell_type": "markdown",
   "id": "c6f524bf",
   "metadata": {},
   "source": [
    "# try without weighted loss - baseModel2\n",
    "batch_size = 16"
   ]
  },
  {
   "cell_type": "code",
   "execution_count": 13,
   "id": "1d6a5ef4",
   "metadata": {},
   "outputs": [],
   "source": [
    "baseModel2 = BaseLSTM(input_size = 88, embed_size = 512, hidden_size = 512, \n",
    "                  num_class = 88, layers = 2).cuda()\n",
    "\n",
    "#weights = torch.cuda.FloatTensor([1.0,2.0])\n",
    "loss_fun = nn.CrossEntropyLoss()\n",
    "optimizer = optim.AdamW(baseModel2.parameters(),lr=1e-4)"
   ]
  },
  {
   "cell_type": "code",
   "execution_count": 14,
   "id": "fb71a32f",
   "metadata": {
    "collapsed": true
   },
   "outputs": [
    {
     "data": {
      "application/vnd.jupyter.widget-view+json": {
       "model_id": "531d5912516444fea31a9790cd6f6b32",
       "version_major": 2,
       "version_minor": 0
      },
      "text/plain": [
       "  0%|          | 0/1840 [00:00<?, ?it/s]"
      ]
     },
     "metadata": {},
     "output_type": "display_data"
    },
    {
     "name": "stdout",
     "output_type": "stream",
     "text": [
      "EPOCHS : 1/1 Loss : 0.260530\n",
      "The mean validation loss is 0.1132\n",
      "\n",
      "EPOCHS : 1/1 Loss : 0.101901\n",
      "The mean validation loss is 0.0895\n",
      "\n",
      "EPOCHS : 1/1 Loss : 0.067828\n",
      "The mean validation loss is 0.0515\n",
      "\n",
      "EPOCHS : 1/1 Loss : 0.042426\n",
      "The mean validation loss is 0.0357\n",
      "\n",
      "EPOCHS : 1/1 Loss : 0.033910\n",
      "The mean validation loss is 0.0302\n",
      "\n",
      "EPOCHS : 1/1 Loss : 0.028896\n",
      "The mean validation loss is 0.0278\n",
      "\n",
      "EPOCHS : 1/1 Loss : 0.027414\n",
      "The mean validation loss is 0.0262\n",
      "\n",
      "EPOCHS : 1/1 Loss : 0.026193\n",
      "The mean validation loss is 0.0254\n",
      "\n",
      "EPOCHS : 1/1 Loss : 0.025131\n",
      "The mean validation loss is 0.0246\n",
      "\n",
      "EPOCHS : 1/1 Loss : 0.024479\n",
      "The mean validation loss is 0.0242\n",
      "\n",
      "EPOCHS : 1/1 Loss : 0.023573\n",
      "The mean validation loss is 0.0238\n",
      "\n",
      "EPOCHS : 1/1 Loss : 0.023805\n",
      "The mean validation loss is 0.0236\n",
      "\n",
      "EPOCHS : 1/1 Loss : 0.023733\n",
      "The mean validation loss is 0.0233\n",
      "\n",
      "EPOCHS : 1/1 Loss : 0.022963\n",
      "The mean validation loss is 0.0229\n",
      "\n",
      "EPOCHS : 1/1 Loss : 0.023165\n",
      "The mean validation loss is 0.0229\n",
      "\n",
      "EPOCHS : 1/1 Loss : 0.023309\n",
      "The mean validation loss is 0.0226\n",
      "\n",
      "EPOCHS : 1/1 Loss : 0.022078\n",
      "The mean validation loss is 0.0225\n",
      "\n",
      "EPOCHS : 1/1 Loss : 0.022514\n",
      "The mean validation loss is 0.0223\n",
      "\n",
      "EPOCHS : 1/1 Loss : 0.022347\n",
      "The mean validation loss is 0.0223\n",
      "\n",
      "EPOCHS : 1/1 Loss : 0.022417\n",
      "The mean validation loss is 0.0221\n",
      "\n",
      "EPOCHS : 1/1 Loss : 0.022628\n",
      "The mean validation loss is 0.0219\n",
      "\n",
      "EPOCHS : 1/1 Loss : 0.022004\n",
      "The mean validation loss is 0.0220\n",
      "\n",
      "EPOCHS : 1/1 Loss : 0.021594\n",
      "The mean validation loss is 0.0218\n",
      "\n",
      "EPOCHS : 1/1 Loss : 0.022702\n",
      "The mean validation loss is 0.0218\n",
      "\n",
      "EPOCHS : 1/1 Loss : 0.021689\n",
      "The mean validation loss is 0.0220\n",
      "\n",
      "EPOCHS : 1/1 Loss : 0.021871\n",
      "The mean validation loss is 0.0216\n",
      "\n",
      "EPOCHS : 1/1 Loss : 0.022000\n",
      "The mean validation loss is 0.0216\n",
      "\n",
      "EPOCHS : 1/1 Loss : 0.021806\n",
      "The mean validation loss is 0.0216\n",
      "\n",
      "EPOCHS : 1/1 Loss : 0.022134\n",
      "The mean validation loss is 0.0214\n",
      "\n",
      "EPOCHS : 1/1 Loss : 0.021169\n",
      "The mean validation loss is 0.0215\n",
      "\n",
      "EPOCHS : 1/1 Loss : 0.021809\n",
      "The mean validation loss is 0.0215\n",
      "\n",
      "EPOCHS : 1/1 Loss : 0.021669\n",
      "The mean validation loss is 0.0214\n",
      "\n",
      "EPOCHS : 1/1 Loss : 0.021825\n",
      "The mean validation loss is 0.0217\n",
      "\n",
      "EPOCHS : 1/1 Loss : 0.021505\n",
      "The mean validation loss is 0.0215\n",
      "\n",
      "EPOCHS : 1/1 Loss : 0.021368\n",
      "The mean validation loss is 0.0217\n",
      "\n",
      "EPOCHS : 1/1 Loss : 0.022219\n",
      "The mean validation loss is 0.0215\n",
      "\n",
      "EPOCHS : 1/1 Loss : 0.021508\n",
      "The mean validation loss is 0.0213\n",
      "\n",
      "EPOCHS : 1/1 Loss : 0.021148\n",
      "The mean validation loss is 0.0213\n",
      "\n",
      "EPOCHS : 1/1 Loss : 0.020954\n",
      "The mean validation loss is 0.0213\n",
      "\n",
      "EPOCHS : 1/1 Loss : 0.022073\n",
      "The mean validation loss is 0.0213\n",
      "\n"
     ]
    }
   ],
   "source": [
    "train_loss, val_loss = train(baseModel2,train_dataloader,val_dataloaders,1,40,\n",
    "      loss_fun,optimizer,'cuda',1,grad_clip=1.0,mname=\"BaseLSTM2\")"
   ]
  },
  {
   "cell_type": "code",
   "execution_count": 15,
   "id": "9673ab08",
   "metadata": {
    "collapsed": true
   },
   "outputs": [
    {
     "data": {
      "application/vnd.jupyter.widget-view+json": {
       "model_id": "c0a618a45bc94b4099789aff4693fd56",
       "version_major": 2,
       "version_minor": 0
      },
      "text/plain": [
       "  0%|          | 0/1840 [00:00<?, ?it/s]"
      ]
     },
     "metadata": {},
     "output_type": "display_data"
    },
    {
     "name": "stdout",
     "output_type": "stream",
     "text": [
      "EPOCHS : 1/1 Loss : 0.020578\n",
      "The mean validation loss is 0.0213\n",
      "\n",
      "EPOCHS : 1/1 Loss : 0.021792\n",
      "The mean validation loss is 0.0212\n",
      "\n",
      "EPOCHS : 1/1 Loss : 0.021543\n",
      "The mean validation loss is 0.0211\n",
      "\n",
      "EPOCHS : 1/1 Loss : 0.021385\n",
      "The mean validation loss is 0.0213\n",
      "\n",
      "EPOCHS : 1/1 Loss : 0.021034\n",
      "The mean validation loss is 0.0212\n",
      "\n",
      "EPOCHS : 1/1 Loss : 0.021757\n",
      "The mean validation loss is 0.0210\n",
      "\n",
      "EPOCHS : 1/1 Loss : 0.021155\n",
      "The mean validation loss is 0.0211\n",
      "\n",
      "EPOCHS : 1/1 Loss : 0.021290\n",
      "The mean validation loss is 0.0212\n",
      "\n",
      "EPOCHS : 1/1 Loss : 0.021310\n",
      "The mean validation loss is 0.0211\n",
      "\n",
      "EPOCHS : 1/1 Loss : 0.021367\n",
      "The mean validation loss is 0.0212\n",
      "\n",
      "EPOCHS : 1/1 Loss : 0.021680\n",
      "The mean validation loss is 0.0213\n",
      "\n",
      "EPOCHS : 1/1 Loss : 0.021300\n",
      "The mean validation loss is 0.0211\n",
      "\n",
      "EPOCHS : 1/1 Loss : 0.021401\n",
      "The mean validation loss is 0.0210\n",
      "\n",
      "EPOCHS : 1/1 Loss : 0.021553\n",
      "The mean validation loss is 0.0212\n",
      "\n",
      "EPOCHS : 1/1 Loss : 0.021853\n",
      "The mean validation loss is 0.0211\n",
      "\n",
      "EPOCHS : 1/1 Loss : 0.021850\n",
      "The mean validation loss is 0.0211\n",
      "\n",
      "EPOCHS : 1/1 Loss : 0.021311\n",
      "The mean validation loss is 0.0211\n",
      "\n",
      "EPOCHS : 1/1 Loss : 0.021039\n",
      "The mean validation loss is 0.0210\n",
      "\n",
      "EPOCHS : 1/1 Loss : 0.021059\n",
      "The mean validation loss is 0.0211\n",
      "\n",
      "EPOCHS : 1/1 Loss : 0.021334\n",
      "The mean validation loss is 0.0211\n",
      "\n",
      "EPOCHS : 1/1 Loss : 0.021695\n",
      "The mean validation loss is 0.0211\n",
      "\n",
      "EPOCHS : 1/1 Loss : 0.021729\n",
      "The mean validation loss is 0.0211\n",
      "\n",
      "EPOCHS : 1/1 Loss : 0.021182\n",
      "The mean validation loss is 0.0211\n",
      "\n",
      "EPOCHS : 1/1 Loss : 0.021314\n",
      "The mean validation loss is 0.0210\n",
      "\n",
      "EPOCHS : 1/1 Loss : 0.020730\n",
      "The mean validation loss is 0.0211\n",
      "\n",
      "EPOCHS : 1/1 Loss : 0.020823\n",
      "The mean validation loss is 0.0212\n",
      "\n",
      "EPOCHS : 1/1 Loss : 0.021468\n",
      "The mean validation loss is 0.0210\n",
      "\n",
      "EPOCHS : 1/1 Loss : 0.021836\n",
      "The mean validation loss is 0.0211\n",
      "\n",
      "EPOCHS : 1/1 Loss : 0.021246\n",
      "The mean validation loss is 0.0211\n",
      "\n",
      "EPOCHS : 1/1 Loss : 0.021360\n",
      "The mean validation loss is 0.0211\n",
      "\n",
      "EPOCHS : 1/1 Loss : 0.021842\n",
      "The mean validation loss is 0.0211\n",
      "\n",
      "EPOCHS : 1/1 Loss : 0.021196\n",
      "The mean validation loss is 0.0212\n",
      "\n",
      "EPOCHS : 1/1 Loss : 0.021530\n",
      "The mean validation loss is 0.0211\n",
      "\n",
      "EPOCHS : 1/1 Loss : 0.021257\n",
      "The mean validation loss is 0.0210\n",
      "\n",
      "EPOCHS : 1/1 Loss : 0.021177\n",
      "The mean validation loss is 0.0211\n",
      "\n",
      "EPOCHS : 1/1 Loss : 0.021663\n",
      "The mean validation loss is 0.0212\n",
      "\n",
      "EPOCHS : 1/1 Loss : 0.021059\n",
      "The mean validation loss is 0.0210\n",
      "\n",
      "EPOCHS : 1/1 Loss : 0.021351\n",
      "The mean validation loss is 0.0211\n",
      "\n",
      "EPOCHS : 1/1 Loss : 0.020825\n",
      "The mean validation loss is 0.0210\n",
      "\n",
      "EPOCHS : 1/1 Loss : 0.021515\n",
      "The mean validation loss is 0.0211\n",
      "\n"
     ]
    }
   ],
   "source": [
    "optimizer = optim.AdamW(baseModel2.parameters(),lr=1e-6)\n",
    "train_loss, val_loss = train(baseModel2,train_dataloader,val_dataloaders,1,40,\n",
    "      loss_fun,optimizer,'cuda',2,grad_clip=1.0,mname=\"BaseLSTM2\")"
   ]
  },
  {
   "cell_type": "code",
   "execution_count": 16,
   "id": "9f69c942",
   "metadata": {
    "collapsed": true
   },
   "outputs": [
    {
     "data": {
      "application/vnd.jupyter.widget-view+json": {
       "model_id": "ff28b72079284568bac82c97927b9a04",
       "version_major": 2,
       "version_minor": 0
      },
      "text/plain": [
       "  0%|          | 0/1840 [00:00<?, ?it/s]"
      ]
     },
     "metadata": {},
     "output_type": "display_data"
    },
    {
     "name": "stdout",
     "output_type": "stream",
     "text": [
      "EPOCHS : 1/1 Loss : 0.021402\n",
      "The mean validation loss is 0.0210\n",
      "\n",
      "EPOCHS : 1/1 Loss : 0.021311\n",
      "The mean validation loss is 0.0210\n",
      "\n",
      "EPOCHS : 1/1 Loss : 0.021257\n",
      "The mean validation loss is 0.0211\n",
      "\n",
      "EPOCHS : 1/1 Loss : 0.021039\n",
      "The mean validation loss is 0.0210\n",
      "\n",
      "EPOCHS : 1/1 Loss : 0.021405\n",
      "The mean validation loss is 0.0212\n",
      "\n",
      "EPOCHS : 1/1 Loss : 0.021243\n",
      "The mean validation loss is 0.0210\n",
      "\n",
      "EPOCHS : 1/1 Loss : 0.021566\n",
      "The mean validation loss is 0.0211\n",
      "\n",
      "EPOCHS : 1/1 Loss : 0.021170\n",
      "The mean validation loss is 0.0210\n",
      "\n",
      "EPOCHS : 1/1 Loss : 0.021452\n",
      "The mean validation loss is 0.0212\n",
      "\n",
      "EPOCHS : 1/1 Loss : 0.021468\n",
      "The mean validation loss is 0.0211\n",
      "\n"
     ]
    }
   ],
   "source": [
    "optimizer = optim.AdamW(baseModel2.parameters(),lr=1e-7)\n",
    "train_loss, val_loss = train(baseModel2,train_dataloader,val_dataloaders,1,10,\n",
    "      loss_fun,optimizer,'cuda',3,grad_clip=1.0,mname=\"BaseLSTM2\")"
   ]
  },
  {
   "cell_type": "code",
   "execution_count": 17,
   "id": "148d83b3",
   "metadata": {
    "collapsed": true
   },
   "outputs": [
    {
     "data": {
      "application/vnd.jupyter.widget-view+json": {
       "model_id": "2312de0197ed4b21ad348c192a2f387a",
       "version_major": 2,
       "version_minor": 0
      },
      "text/plain": [
       "  0%|          | 0/1840 [00:00<?, ?it/s]"
      ]
     },
     "metadata": {},
     "output_type": "display_data"
    },
    {
     "name": "stdout",
     "output_type": "stream",
     "text": [
      "EPOCHS : 1/1 Loss : 0.021479\n",
      "The mean validation loss is 0.0212\n",
      "\n",
      "EPOCHS : 1/1 Loss : 0.021402\n",
      "The mean validation loss is 0.0211\n",
      "\n",
      "EPOCHS : 1/1 Loss : 0.021408\n",
      "The mean validation loss is 0.0211\n",
      "\n",
      "EPOCHS : 1/1 Loss : 0.021388\n",
      "The mean validation loss is 0.0212\n",
      "\n",
      "EPOCHS : 1/1 Loss : 0.021044\n",
      "The mean validation loss is 0.0211\n",
      "\n",
      "EPOCHS : 1/1 Loss : 0.021329\n",
      "The mean validation loss is 0.0211\n",
      "\n",
      "EPOCHS : 1/1 Loss : 0.021324\n",
      "The mean validation loss is 0.0211\n",
      "\n",
      "EPOCHS : 1/1 Loss : 0.021307\n",
      "The mean validation loss is 0.0211\n",
      "\n",
      "EPOCHS : 1/1 Loss : 0.021337\n",
      "The mean validation loss is 0.0212\n",
      "\n",
      "EPOCHS : 1/1 Loss : 0.021343\n",
      "The mean validation loss is 0.0211\n",
      "\n"
     ]
    }
   ],
   "source": [
    "train_loss, val_loss = train(baseModel2,train_dataloader,val_dataloaders,1,10,\n",
    "      loss_fun,optimizer,'cuda',4,grad_clip=1.0,mname=\"BaseLSTM2\")"
   ]
  },
  {
   "cell_type": "code",
   "execution_count": 18,
   "id": "1b36ea2c",
   "metadata": {
    "collapsed": true
   },
   "outputs": [
    {
     "data": {
      "application/vnd.jupyter.widget-view+json": {
       "model_id": "64fe75f0316349f5b8b931bd2724eeb3",
       "version_major": 2,
       "version_minor": 0
      },
      "text/plain": [
       "  0%|          | 0/1840 [00:00<?, ?it/s]"
      ]
     },
     "metadata": {},
     "output_type": "display_data"
    },
    {
     "name": "stdout",
     "output_type": "stream",
     "text": [
      "EPOCHS : 1/1 Loss : 0.021228\n",
      "The mean validation loss is 0.0210\n",
      "\n",
      "EPOCHS : 1/1 Loss : 0.021085\n",
      "The mean validation loss is 0.0211\n",
      "\n",
      "EPOCHS : 1/1 Loss : 0.021373\n",
      "The mean validation loss is 0.0211\n",
      "\n",
      "EPOCHS : 1/1 Loss : 0.021348\n",
      "The mean validation loss is 0.0212\n",
      "\n",
      "EPOCHS : 1/1 Loss : 0.021453\n",
      "The mean validation loss is 0.0212\n",
      "\n",
      "EPOCHS : 1/1 Loss : 0.021240\n",
      "The mean validation loss is 0.0211\n",
      "\n",
      "EPOCHS : 1/1 Loss : 0.021268\n",
      "The mean validation loss is 0.0210\n",
      "\n",
      "EPOCHS : 1/1 Loss : 0.021490\n",
      "The mean validation loss is 0.0211\n",
      "\n",
      "EPOCHS : 1/1 Loss : 0.021328\n",
      "The mean validation loss is 0.0210\n",
      "\n",
      "EPOCHS : 1/1 Loss : 0.021488\n",
      "The mean validation loss is 0.0211\n",
      "\n"
     ]
    }
   ],
   "source": [
    "train_loss, val_loss = train(baseModel2,train_dataloader,val_dataloaders,1,10,\n",
    "      loss_fun,optimizer,'cuda',5,grad_clip=1.0,mname=\"BaseLSTM2\")"
   ]
  },
  {
   "cell_type": "code",
   "execution_count": 19,
   "id": "2a41cfc4",
   "metadata": {
    "collapsed": true
   },
   "outputs": [
    {
     "data": {
      "application/vnd.jupyter.widget-view+json": {
       "model_id": "849a311dd0944f2c886e837c8fc6b5c1",
       "version_major": 2,
       "version_minor": 0
      },
      "text/plain": [
       "  0%|          | 0/1840 [00:00<?, ?it/s]"
      ]
     },
     "metadata": {},
     "output_type": "display_data"
    },
    {
     "name": "stdout",
     "output_type": "stream",
     "text": [
      "EPOCHS : 1/1 Loss : 0.021271\n",
      "The mean validation loss is 0.0211\n",
      "\n",
      "EPOCHS : 1/1 Loss : 0.021485\n",
      "The mean validation loss is 0.0211\n",
      "\n",
      "EPOCHS : 1/1 Loss : 0.021231\n",
      "The mean validation loss is 0.0211\n",
      "\n",
      "EPOCHS : 1/1 Loss : 0.021319\n",
      "The mean validation loss is 0.0211\n",
      "\n",
      "EPOCHS : 1/1 Loss : 0.021351\n",
      "The mean validation loss is 0.0211\n",
      "\n",
      "EPOCHS : 1/1 Loss : 0.021442\n",
      "The mean validation loss is 0.0211\n",
      "\n",
      "EPOCHS : 1/1 Loss : 0.021020\n",
      "The mean validation loss is 0.0210\n",
      "\n",
      "EPOCHS : 1/1 Loss : 0.021387\n",
      "The mean validation loss is 0.0212\n",
      "\n",
      "EPOCHS : 1/1 Loss : 0.021285\n",
      "The mean validation loss is 0.0210\n",
      "\n",
      "EPOCHS : 1/1 Loss : 0.021418\n",
      "The mean validation loss is 0.0211\n",
      "\n"
     ]
    }
   ],
   "source": [
    "train_loss, val_loss = train(baseModel2,train_dataloader,val_dataloaders,1,10,\n",
    "      loss_fun,optimizer,'cuda',6,grad_clip=1.0,mname=\"BaseLSTM2\")"
   ]
  },
  {
   "cell_type": "code",
   "execution_count": null,
   "id": "efbaf3b6",
   "metadata": {},
   "outputs": [],
   "source": []
  },
  {
   "cell_type": "code",
   "execution_count": null,
   "id": "74f0c48f",
   "metadata": {},
   "outputs": [],
   "source": []
  },
  {
   "cell_type": "markdown",
   "id": "cdcd4530",
   "metadata": {},
   "source": [
    "# try only take the final 1000 - baseModel3\n",
    "batch-size = 16"
   ]
  },
  {
   "cell_type": "code",
   "execution_count": 13,
   "id": "4a287183",
   "metadata": {},
   "outputs": [],
   "source": [
    "baseModel3 = BaseLSTM(input_size = 88, embed_size = 512, hidden_size = 512, \n",
    "                  num_class = 88, layers = 2).cuda()\n",
    "\n",
    "weights = torch.cuda.FloatTensor([1.0,2.0])\n",
    "loss_fun = nn.CrossEntropyLoss()\n",
    "optimizer = optim.AdamW(baseModel3.parameters(),lr=1e-4)"
   ]
  },
  {
   "cell_type": "code",
   "execution_count": 14,
   "id": "048d9280",
   "metadata": {
    "collapsed": true
   },
   "outputs": [
    {
     "data": {
      "application/vnd.jupyter.widget-view+json": {
       "model_id": "bf3fb61aa7fe48368eb119bd9c50073d",
       "version_major": 2,
       "version_minor": 0
      },
      "text/plain": [
       "  0%|          | 0/1840 [00:00<?, ?it/s]"
      ]
     },
     "metadata": {},
     "output_type": "display_data"
    },
    {
     "name": "stdout",
     "output_type": "stream",
     "text": [
      "EPOCHS : 1/1 Loss : 0.182721\n",
      "The mean validation loss is 0.0903\n",
      "\n",
      "EPOCHS : 1/1 Loss : 0.057688\n",
      "The mean validation loss is 0.0373\n",
      "\n",
      "EPOCHS : 1/1 Loss : 0.032011\n",
      "The mean validation loss is 0.0284\n",
      "\n",
      "EPOCHS : 1/1 Loss : 0.027391\n",
      "The mean validation loss is 0.0261\n",
      "\n",
      "EPOCHS : 1/1 Loss : 0.024886\n",
      "The mean validation loss is 0.0245\n",
      "\n",
      "EPOCHS : 1/1 Loss : 0.024435\n",
      "The mean validation loss is 0.0238\n",
      "\n",
      "EPOCHS : 1/1 Loss : 0.023827\n",
      "The mean validation loss is 0.0235\n",
      "\n",
      "EPOCHS : 1/1 Loss : 0.023624\n",
      "The mean validation loss is 0.0232\n",
      "\n",
      "EPOCHS : 1/1 Loss : 0.023141\n",
      "The mean validation loss is 0.0230\n",
      "\n",
      "EPOCHS : 1/1 Loss : 0.022687\n",
      "The mean validation loss is 0.0224\n",
      "\n",
      "EPOCHS : 1/1 Loss : 0.022653\n",
      "The mean validation loss is 0.0221\n",
      "\n",
      "EPOCHS : 1/1 Loss : 0.022580\n",
      "The mean validation loss is 0.0221\n",
      "\n",
      "EPOCHS : 1/1 Loss : 0.022262\n",
      "The mean validation loss is 0.0223\n",
      "\n",
      "EPOCHS : 1/1 Loss : 0.021940\n",
      "The mean validation loss is 0.0218\n",
      "\n",
      "EPOCHS : 1/1 Loss : 0.021746\n",
      "The mean validation loss is 0.0215\n",
      "\n",
      "EPOCHS : 1/1 Loss : 0.021860\n",
      "The mean validation loss is 0.0217\n",
      "\n",
      "EPOCHS : 1/1 Loss : 0.021592\n",
      "The mean validation loss is 0.0213\n",
      "\n",
      "EPOCHS : 1/1 Loss : 0.021725\n",
      "The mean validation loss is 0.0219\n",
      "\n",
      "EPOCHS : 1/1 Loss : 0.021481\n",
      "The mean validation loss is 0.0217\n",
      "\n",
      "EPOCHS : 1/1 Loss : 0.021731\n",
      "The mean validation loss is 0.0217\n",
      "\n"
     ]
    }
   ],
   "source": [
    "train_loss, val_loss = train(baseModel3,train_dataloader,val_dataloaders,1,20,\n",
    "      loss_fun,optimizer,'cuda',1,grad_clip=1.0,mname=\"BaseLSTM3\")"
   ]
  },
  {
   "cell_type": "code",
   "execution_count": 15,
   "id": "d8423fe7",
   "metadata": {
    "collapsed": true
   },
   "outputs": [
    {
     "data": {
      "application/vnd.jupyter.widget-view+json": {
       "model_id": "f8a0f73f75f948f5b663aebd16fd5e13",
       "version_major": 2,
       "version_minor": 0
      },
      "text/plain": [
       "  0%|          | 0/1840 [00:00<?, ?it/s]"
      ]
     },
     "metadata": {},
     "output_type": "display_data"
    },
    {
     "name": "stdout",
     "output_type": "stream",
     "text": [
      "EPOCHS : 1/1 Loss : 0.021508\n",
      "The mean validation loss is 0.0214\n",
      "\n",
      "EPOCHS : 1/1 Loss : 0.021438\n",
      "The mean validation loss is 0.0213\n",
      "\n",
      "EPOCHS : 1/1 Loss : 0.021166\n",
      "The mean validation loss is 0.0214\n",
      "\n",
      "EPOCHS : 1/1 Loss : 0.021420\n",
      "The mean validation loss is 0.0211\n",
      "\n",
      "EPOCHS : 1/1 Loss : 0.021683\n",
      "The mean validation loss is 0.0213\n",
      "\n",
      "EPOCHS : 1/1 Loss : 0.021298\n",
      "The mean validation loss is 0.0214\n",
      "\n",
      "EPOCHS : 1/1 Loss : 0.021267\n",
      "The mean validation loss is 0.0213\n",
      "\n",
      "EPOCHS : 1/1 Loss : 0.021238\n",
      "The mean validation loss is 0.0211\n",
      "\n",
      "EPOCHS : 1/1 Loss : 0.021847\n",
      "The mean validation loss is 0.0211\n",
      "\n",
      "EPOCHS : 1/1 Loss : 0.021518\n",
      "The mean validation loss is 0.0213\n",
      "\n",
      "EPOCHS : 1/1 Loss : 0.021516\n",
      "The mean validation loss is 0.0213\n",
      "\n",
      "EPOCHS : 1/1 Loss : 0.021318\n",
      "The mean validation loss is 0.0212\n",
      "\n",
      "EPOCHS : 1/1 Loss : 0.021483\n",
      "The mean validation loss is 0.0212\n",
      "\n",
      "EPOCHS : 1/1 Loss : 0.021503\n",
      "The mean validation loss is 0.0213\n",
      "\n",
      "EPOCHS : 1/1 Loss : 0.021518\n",
      "The mean validation loss is 0.0212\n",
      "\n",
      "EPOCHS : 1/1 Loss : 0.021416\n",
      "The mean validation loss is 0.0213\n",
      "\n",
      "EPOCHS : 1/1 Loss : 0.021349\n",
      "The mean validation loss is 0.0209\n",
      "\n",
      "EPOCHS : 1/1 Loss : 0.021357\n",
      "The mean validation loss is 0.0213\n",
      "\n",
      "EPOCHS : 1/1 Loss : 0.021465\n",
      "The mean validation loss is 0.0211\n",
      "\n",
      "EPOCHS : 1/1 Loss : 0.021025\n",
      "The mean validation loss is 0.0210\n",
      "\n"
     ]
    }
   ],
   "source": [
    "optimizer = optim.AdamW(baseModel3.parameters(),lr=1e-5)\n",
    "train_loss, val_loss = train(baseModel3,train_dataloader,val_dataloaders,1,20,\n",
    "      loss_fun,optimizer,'cuda',2,grad_clip=1.0,mname=\"BaseLSTM3\")"
   ]
  },
  {
   "cell_type": "code",
   "execution_count": 16,
   "id": "b7b957a7",
   "metadata": {
    "collapsed": true
   },
   "outputs": [
    {
     "data": {
      "application/vnd.jupyter.widget-view+json": {
       "model_id": "1e016b2c37b54052bca29b35633e4db3",
       "version_major": 2,
       "version_minor": 0
      },
      "text/plain": [
       "  0%|          | 0/3680 [00:00<?, ?it/s]"
      ]
     },
     "metadata": {},
     "output_type": "display_data"
    },
    {
     "name": "stdout",
     "output_type": "stream",
     "text": [
      "EPOCHS : 1/2 Loss : 0.021180\n",
      "The mean validation loss is 0.0212\n",
      "\n",
      "EPOCHS : 1/2 Loss : 0.021496\n",
      "The mean validation loss is 0.0211\n",
      "\n",
      "EPOCHS : 1/2 Loss : 0.021125\n",
      "The mean validation loss is 0.0212\n",
      "\n",
      "EPOCHS : 1/2 Loss : 0.021190\n",
      "The mean validation loss is 0.0212\n",
      "\n",
      "EPOCHS : 1/2 Loss : 0.021391\n",
      "The mean validation loss is 0.0211\n",
      "\n",
      "EPOCHS : 1/2 Loss : 0.021355\n",
      "The mean validation loss is 0.0212\n",
      "\n",
      "EPOCHS : 1/2 Loss : 0.021392\n",
      "The mean validation loss is 0.0212\n",
      "\n",
      "EPOCHS : 1/2 Loss : 0.021190\n",
      "The mean validation loss is 0.0211\n",
      "\n",
      "EPOCHS : 1/2 Loss : 0.021458\n",
      "The mean validation loss is 0.0212\n",
      "\n",
      "EPOCHS : 1/2 Loss : 0.021115\n",
      "The mean validation loss is 0.0212\n",
      "\n",
      "EPOCHS : 2/2 Loss : 0.021413\n",
      "The mean validation loss is 0.0210\n",
      "\n",
      "EPOCHS : 2/2 Loss : 0.021676\n",
      "The mean validation loss is 0.0212\n",
      "\n",
      "EPOCHS : 2/2 Loss : 0.021224\n",
      "The mean validation loss is 0.0211\n",
      "\n",
      "EPOCHS : 2/2 Loss : 0.021405\n",
      "The mean validation loss is 0.0210\n",
      "\n",
      "EPOCHS : 2/2 Loss : 0.021108\n",
      "The mean validation loss is 0.0209\n",
      "\n",
      "EPOCHS : 2/2 Loss : 0.021263\n",
      "The mean validation loss is 0.0210\n",
      "\n",
      "EPOCHS : 2/2 Loss : 0.020966\n",
      "The mean validation loss is 0.0210\n",
      "\n",
      "EPOCHS : 2/2 Loss : 0.021453\n",
      "The mean validation loss is 0.0209\n",
      "\n",
      "EPOCHS : 2/2 Loss : 0.020999\n",
      "The mean validation loss is 0.0211\n",
      "\n",
      "EPOCHS : 2/2 Loss : 0.021454\n",
      "The mean validation loss is 0.0209\n",
      "\n"
     ]
    }
   ],
   "source": [
    "optimizer = optim.AdamW(baseModel3.parameters(),lr=1e-6)\n",
    "train_loss, val_loss = train(baseModel3,train_dataloader,val_dataloaders,2,20,\n",
    "      loss_fun,optimizer,'cuda',3,grad_clip=1.0,mname=\"BaseLSTM3\")"
   ]
  },
  {
   "cell_type": "code",
   "execution_count": 17,
   "id": "93401a7f",
   "metadata": {
    "collapsed": true
   },
   "outputs": [
    {
     "data": {
      "application/vnd.jupyter.widget-view+json": {
       "model_id": "69446b0c83c1420d841a31b5e9c27f24",
       "version_major": 2,
       "version_minor": 0
      },
      "text/plain": [
       "  0%|          | 0/5520 [00:00<?, ?it/s]"
      ]
     },
     "metadata": {},
     "output_type": "display_data"
    },
    {
     "name": "stdout",
     "output_type": "stream",
     "text": [
      "EPOCHS : 1/3 Loss : 0.021081\n",
      "The mean validation loss is 0.0210\n",
      "\n",
      "EPOCHS : 1/3 Loss : 0.021501\n",
      "The mean validation loss is 0.0210\n",
      "\n",
      "EPOCHS : 1/3 Loss : 0.021407\n",
      "The mean validation loss is 0.0212\n",
      "\n",
      "EPOCHS : 1/3 Loss : 0.021285\n",
      "The mean validation loss is 0.0210\n",
      "\n",
      "EPOCHS : 1/3 Loss : 0.021633\n",
      "The mean validation loss is 0.0212\n",
      "\n",
      "EPOCHS : 1/3 Loss : 0.021232\n",
      "The mean validation loss is 0.0209\n",
      "\n",
      "EPOCHS : 1/3 Loss : 0.021165\n",
      "The mean validation loss is 0.0210\n",
      "\n",
      "EPOCHS : 1/3 Loss : 0.021331\n",
      "The mean validation loss is 0.0211\n",
      "\n",
      "EPOCHS : 1/3 Loss : 0.021166\n",
      "The mean validation loss is 0.0211\n",
      "\n",
      "EPOCHS : 1/3 Loss : 0.021012\n",
      "The mean validation loss is 0.0208\n",
      "\n",
      "EPOCHS : 2/3 Loss : 0.021245\n",
      "The mean validation loss is 0.0212\n",
      "\n",
      "EPOCHS : 2/3 Loss : 0.021221\n",
      "The mean validation loss is 0.0211\n",
      "\n",
      "EPOCHS : 2/3 Loss : 0.021257\n",
      "The mean validation loss is 0.0212\n",
      "\n",
      "EPOCHS : 2/3 Loss : 0.021270\n",
      "The mean validation loss is 0.0211\n",
      "\n",
      "EPOCHS : 2/3 Loss : 0.021107\n",
      "The mean validation loss is 0.0211\n",
      "\n",
      "EPOCHS : 2/3 Loss : 0.021263\n",
      "The mean validation loss is 0.0211\n",
      "\n",
      "EPOCHS : 2/3 Loss : 0.021118\n",
      "The mean validation loss is 0.0209\n",
      "\n",
      "EPOCHS : 2/3 Loss : 0.021618\n",
      "The mean validation loss is 0.0212\n",
      "\n",
      "EPOCHS : 2/3 Loss : 0.021058\n",
      "The mean validation loss is 0.0211\n",
      "\n",
      "EPOCHS : 2/3 Loss : 0.021471\n",
      "The mean validation loss is 0.0209\n",
      "\n",
      "EPOCHS : 3/3 Loss : 0.021496\n",
      "The mean validation loss is 0.0211\n",
      "\n",
      "EPOCHS : 3/3 Loss : 0.021439\n",
      "The mean validation loss is 0.0212\n",
      "\n",
      "EPOCHS : 3/3 Loss : 0.021315\n",
      "The mean validation loss is 0.0211\n",
      "\n",
      "EPOCHS : 3/3 Loss : 0.021167\n",
      "The mean validation loss is 0.0211\n",
      "\n",
      "EPOCHS : 3/3 Loss : 0.021313\n",
      "The mean validation loss is 0.0210\n",
      "\n",
      "EPOCHS : 3/3 Loss : 0.021051\n",
      "The mean validation loss is 0.0209\n",
      "\n",
      "EPOCHS : 3/3 Loss : 0.021175\n",
      "The mean validation loss is 0.0211\n",
      "\n",
      "EPOCHS : 3/3 Loss : 0.021169\n",
      "The mean validation loss is 0.0212\n",
      "\n",
      "EPOCHS : 3/3 Loss : 0.021331\n",
      "The mean validation loss is 0.0212\n",
      "\n",
      "EPOCHS : 3/3 Loss : 0.021138\n",
      "The mean validation loss is 0.0212\n",
      "\n"
     ]
    }
   ],
   "source": [
    "optimizer = optim.AdamW(baseModel3.parameters(),lr=1e-6)\n",
    "train_loss, val_loss = train(baseModel3,train_dataloader,val_dataloaders,3,30,\n",
    "      loss_fun,optimizer,'cuda',4,grad_clip=1.0,mname=\"BaseLSTM3\")"
   ]
  },
  {
   "cell_type": "code",
   "execution_count": null,
   "id": "87341d8a",
   "metadata": {},
   "outputs": [],
   "source": []
  },
  {
   "cell_type": "code",
   "execution_count": 16,
   "id": "7a633e02",
   "metadata": {
    "collapsed": true
   },
   "outputs": [
    {
     "data": {
      "application/vnd.jupyter.widget-view+json": {
       "model_id": "f7c9f4bfb94443c8aa22278ce8f5b9d3",
       "version_major": 2,
       "version_minor": 0
      },
      "text/plain": [
       "  0%|          | 0/3680 [00:00<?, ?it/s]"
      ]
     },
     "metadata": {},
     "output_type": "display_data"
    },
    {
     "name": "stdout",
     "output_type": "stream",
     "text": [
      "EPOCHS : 1/2 Loss : 0.021467\n",
      "The mean validation loss is 0.0209\n",
      "\n",
      "EPOCHS : 1/2 Loss : 0.021402\n",
      "The mean validation loss is 0.0211\n",
      "\n",
      "EPOCHS : 1/2 Loss : 0.021431\n",
      "The mean validation loss is 0.0211\n",
      "\n",
      "EPOCHS : 1/2 Loss : 0.021352\n",
      "The mean validation loss is 0.0212\n",
      "\n",
      "EPOCHS : 1/2 Loss : 0.020963\n",
      "The mean validation loss is 0.0209\n",
      "\n",
      "EPOCHS : 1/2 Loss : 0.021193\n",
      "The mean validation loss is 0.0210\n",
      "\n",
      "EPOCHS : 1/2 Loss : 0.021166\n",
      "The mean validation loss is 0.0212\n",
      "\n",
      "EPOCHS : 1/2 Loss : 0.021400\n",
      "The mean validation loss is 0.0212\n",
      "\n",
      "EPOCHS : 1/2 Loss : 0.021129\n",
      "The mean validation loss is 0.0211\n",
      "\n",
      "EPOCHS : 1/2 Loss : 0.021141\n",
      "The mean validation loss is 0.0212\n",
      "\n",
      "EPOCHS : 2/2 Loss : 0.021231\n",
      "The mean validation loss is 0.0212\n",
      "\n",
      "EPOCHS : 2/2 Loss : 0.021283\n",
      "The mean validation loss is 0.0211\n",
      "\n",
      "EPOCHS : 2/2 Loss : 0.021295\n",
      "The mean validation loss is 0.0211\n",
      "\n",
      "EPOCHS : 2/2 Loss : 0.021305\n",
      "The mean validation loss is 0.0211\n",
      "\n",
      "EPOCHS : 2/2 Loss : 0.021131\n",
      "The mean validation loss is 0.0210\n",
      "\n",
      "EPOCHS : 2/2 Loss : 0.021251\n",
      "The mean validation loss is 0.0209\n",
      "\n",
      "EPOCHS : 2/2 Loss : 0.021312\n",
      "The mean validation loss is 0.0211\n",
      "\n",
      "EPOCHS : 2/2 Loss : 0.021285\n",
      "The mean validation loss is 0.0209\n",
      "\n",
      "EPOCHS : 2/2 Loss : 0.021142\n",
      "The mean validation loss is 0.0212\n",
      "\n",
      "EPOCHS : 2/2 Loss : 0.021219\n",
      "The mean validation loss is 0.0209\n",
      "\n"
     ]
    }
   ],
   "source": [
    "optimizer = optim.AdamW(baseModel3.parameters(),lr=1e-6)\n",
    "baseModel3.load_state_dict(torch.load(\"Handcrafted Dataset - One Hot Weights/BaseLSTM3-run-4-val_loss-BEST.pth\"))\n",
    "train_loss, val_loss = train(baseModel3,train_dataloader,val_dataloaders,2,20,\n",
    "      loss_fun,optimizer,'cuda',5,grad_clip=1.0,mname=\"BaseLSTM3\")"
   ]
  },
  {
   "cell_type": "code",
   "execution_count": 17,
   "id": "ba7c07c1",
   "metadata": {
    "collapsed": true
   },
   "outputs": [
    {
     "data": {
      "application/vnd.jupyter.widget-view+json": {
       "model_id": "cfeafa45102d4e8796e87b85c02990e4",
       "version_major": 2,
       "version_minor": 0
      },
      "text/plain": [
       "  0%|          | 0/3680 [00:00<?, ?it/s]"
      ]
     },
     "metadata": {},
     "output_type": "display_data"
    },
    {
     "name": "stdout",
     "output_type": "stream",
     "text": [
      "EPOCHS : 1/2 Loss : 0.021427\n",
      "The mean validation loss is 0.0209\n",
      "\n",
      "EPOCHS : 1/2 Loss : 0.021297\n",
      "The mean validation loss is 0.0211\n",
      "\n",
      "EPOCHS : 1/2 Loss : 0.021154\n",
      "The mean validation loss is 0.0210\n",
      "\n",
      "EPOCHS : 1/2 Loss : 0.020942\n",
      "The mean validation loss is 0.0211\n",
      "\n",
      "EPOCHS : 1/2 Loss : 0.021211\n",
      "The mean validation loss is 0.0208\n",
      "\n",
      "EPOCHS : 1/2 Loss : 0.021067\n",
      "The mean validation loss is 0.0211\n",
      "\n",
      "EPOCHS : 1/2 Loss : 0.021193\n",
      "The mean validation loss is 0.0212\n",
      "\n",
      "EPOCHS : 1/2 Loss : 0.021584\n",
      "The mean validation loss is 0.0211\n",
      "\n",
      "EPOCHS : 1/2 Loss : 0.021254\n",
      "The mean validation loss is 0.0211\n",
      "\n",
      "EPOCHS : 1/2 Loss : 0.021271\n",
      "The mean validation loss is 0.0211\n",
      "\n",
      "EPOCHS : 2/2 Loss : 0.021204\n",
      "The mean validation loss is 0.0211\n",
      "\n",
      "EPOCHS : 2/2 Loss : 0.021424\n",
      "The mean validation loss is 0.0209\n",
      "\n",
      "EPOCHS : 2/2 Loss : 0.021308\n",
      "The mean validation loss is 0.0210\n",
      "\n",
      "EPOCHS : 2/2 Loss : 0.020897\n",
      "The mean validation loss is 0.0211\n",
      "\n",
      "EPOCHS : 2/2 Loss : 0.021359\n",
      "The mean validation loss is 0.0211\n",
      "\n",
      "EPOCHS : 2/2 Loss : 0.021336\n",
      "The mean validation loss is 0.0209\n",
      "\n",
      "EPOCHS : 2/2 Loss : 0.021203\n",
      "The mean validation loss is 0.0210\n",
      "\n",
      "EPOCHS : 2/2 Loss : 0.021428\n",
      "The mean validation loss is 0.0209\n",
      "\n",
      "EPOCHS : 2/2 Loss : 0.020892\n",
      "The mean validation loss is 0.0209\n",
      "\n",
      "EPOCHS : 2/2 Loss : 0.021254\n",
      "The mean validation loss is 0.0211\n",
      "\n"
     ]
    }
   ],
   "source": [
    "train_loss, val_loss = train(baseModel3,train_dataloader,val_dataloaders,2,20,\n",
    "      loss_fun,optimizer,'cuda',6,grad_clip=1.0,mname=\"BaseLSTM3\")"
   ]
  },
  {
   "cell_type": "code",
   "execution_count": 18,
   "id": "811508ce",
   "metadata": {
    "collapsed": true
   },
   "outputs": [
    {
     "data": {
      "application/vnd.jupyter.widget-view+json": {
       "model_id": "e1646f94a896422eb9f24ef144fb89a6",
       "version_major": 2,
       "version_minor": 0
      },
      "text/plain": [
       "  0%|          | 0/3680 [00:00<?, ?it/s]"
      ]
     },
     "metadata": {},
     "output_type": "display_data"
    },
    {
     "name": "stdout",
     "output_type": "stream",
     "text": [
      "EPOCHS : 1/2 Loss : 0.021376\n",
      "The mean validation loss is 0.0209\n",
      "\n",
      "EPOCHS : 1/2 Loss : 0.021198\n",
      "The mean validation loss is 0.0212\n",
      "\n",
      "EPOCHS : 1/2 Loss : 0.021159\n",
      "The mean validation loss is 0.0212\n",
      "\n",
      "EPOCHS : 1/2 Loss : 0.021191\n",
      "The mean validation loss is 0.0209\n",
      "\n",
      "EPOCHS : 1/2 Loss : 0.021317\n",
      "The mean validation loss is 0.0212\n",
      "\n",
      "EPOCHS : 1/2 Loss : 0.021092\n",
      "The mean validation loss is 0.0210\n",
      "\n",
      "EPOCHS : 1/2 Loss : 0.021407\n",
      "The mean validation loss is 0.0208\n",
      "\n",
      "EPOCHS : 1/2 Loss : 0.021298\n",
      "The mean validation loss is 0.0211\n",
      "\n",
      "EPOCHS : 1/2 Loss : 0.020847\n",
      "The mean validation loss is 0.0211\n",
      "\n",
      "EPOCHS : 1/2 Loss : 0.021366\n",
      "The mean validation loss is 0.0208\n",
      "\n",
      "EPOCHS : 2/2 Loss : 0.021476\n",
      "The mean validation loss is 0.0211\n",
      "\n",
      "EPOCHS : 2/2 Loss : 0.021109\n",
      "The mean validation loss is 0.0210\n",
      "\n",
      "EPOCHS : 2/2 Loss : 0.021457\n",
      "The mean validation loss is 0.0211\n",
      "\n",
      "EPOCHS : 2/2 Loss : 0.020930\n",
      "The mean validation loss is 0.0209\n",
      "\n",
      "EPOCHS : 2/2 Loss : 0.021096\n",
      "The mean validation loss is 0.0211\n",
      "\n",
      "EPOCHS : 2/2 Loss : 0.021130\n",
      "The mean validation loss is 0.0209\n",
      "\n",
      "EPOCHS : 2/2 Loss : 0.021297\n",
      "The mean validation loss is 0.0209\n",
      "\n",
      "EPOCHS : 2/2 Loss : 0.021279\n",
      "The mean validation loss is 0.0211\n",
      "\n",
      "EPOCHS : 2/2 Loss : 0.021212\n",
      "The mean validation loss is 0.0210\n",
      "\n",
      "EPOCHS : 2/2 Loss : 0.021186\n",
      "The mean validation loss is 0.0211\n",
      "\n"
     ]
    }
   ],
   "source": [
    "train_loss, val_loss = train(baseModel3,train_dataloader,val_dataloaders,2,20,\n",
    "      loss_fun,optimizer,'cuda',7,grad_clip=1.0,mname=\"BaseLSTM3\")"
   ]
  },
  {
   "cell_type": "code",
   "execution_count": null,
   "id": "7acc19df",
   "metadata": {},
   "outputs": [],
   "source": []
  },
  {
   "cell_type": "code",
   "execution_count": null,
   "id": "35a20296",
   "metadata": {},
   "outputs": [],
   "source": []
  },
  {
   "cell_type": "markdown",
   "id": "78a0a318",
   "metadata": {},
   "source": [
    "# change datalength to 1000 - baseModel4\n",
    "batchsize = 64"
   ]
  },
  {
   "cell_type": "code",
   "execution_count": 14,
   "id": "691fef6c",
   "metadata": {},
   "outputs": [],
   "source": [
    "# BaseLSTM: take all the output\n",
    "baseModel4 = BaseLSTM(input_size = 88, embed_size = 512, hidden_size = 512, \n",
    "                  num_class = 88, layers = 2).cuda()\n",
    "\n",
    "#weights = torch.cuda.FloatTensor([1.0,2.0])\n",
    "loss_fun = nn.CrossEntropyLoss()\n",
    "optimizer = optim.AdamW(baseModel4.parameters(),lr=1e-4)"
   ]
  },
  {
   "cell_type": "code",
   "execution_count": 15,
   "id": "fe838524",
   "metadata": {
    "collapsed": true
   },
   "outputs": [
    {
     "data": {
      "application/vnd.jupyter.widget-view+json": {
       "model_id": "ff801f1f80144cf890c0bab052a09659",
       "version_major": 2,
       "version_minor": 0
      },
      "text/plain": [
       "  0%|          | 0/920 [00:00<?, ?it/s]"
      ]
     },
     "metadata": {},
     "output_type": "display_data"
    },
    {
     "name": "stdout",
     "output_type": "stream",
     "text": [
      "EPOCHS : 1/2 Loss : 0.358428\n",
      "The mean validation loss is 0.1319\n",
      "\n",
      "EPOCHS : 1/2 Loss : 0.120455\n",
      "The mean validation loss is 0.1115\n",
      "\n",
      "EPOCHS : 1/2 Loss : 0.108036\n",
      "The mean validation loss is 0.1021\n",
      "\n",
      "EPOCHS : 1/2 Loss : 0.094364\n",
      "The mean validation loss is 0.0843\n",
      "\n",
      "EPOCHS : 1/2 Loss : 0.073847\n",
      "The mean validation loss is 0.0612\n",
      "\n",
      "EPOCHS : 1/2 Loss : 0.053244\n",
      "The mean validation loss is 0.0460\n",
      "\n",
      "EPOCHS : 1/2 Loss : 0.042133\n",
      "The mean validation loss is 0.0378\n",
      "\n",
      "EPOCHS : 1/2 Loss : 0.035745\n",
      "The mean validation loss is 0.0332\n",
      "\n",
      "EPOCHS : 1/2 Loss : 0.032542\n",
      "The mean validation loss is 0.0309\n",
      "\n",
      "EPOCHS : 1/2 Loss : 0.029657\n",
      "The mean validation loss is 0.0289\n",
      "\n",
      "EPOCHS : 1/2 Loss : 0.028616\n",
      "The mean validation loss is 0.0278\n",
      "\n",
      "EPOCHS : 1/2 Loss : 0.027194\n",
      "The mean validation loss is 0.0269\n",
      "\n",
      "EPOCHS : 1/2 Loss : 0.026058\n",
      "The mean validation loss is 0.0262\n",
      "\n",
      "EPOCHS : 1/2 Loss : 0.025733\n",
      "The mean validation loss is 0.0257\n",
      "\n",
      "EPOCHS : 1/2 Loss : 0.024993\n",
      "The mean validation loss is 0.0252\n",
      "\n",
      "EPOCHS : 1/2 Loss : 0.024826\n",
      "The mean validation loss is 0.0249\n",
      "\n",
      "EPOCHS : 1/2 Loss : 0.024351\n",
      "The mean validation loss is 0.0244\n",
      "\n",
      "EPOCHS : 1/2 Loss : 0.024539\n",
      "The mean validation loss is 0.0241\n",
      "\n",
      "EPOCHS : 1/2 Loss : 0.024372\n",
      "The mean validation loss is 0.0241\n",
      "\n",
      "EPOCHS : 1/2 Loss : 0.023878\n",
      "The mean validation loss is 0.0239\n",
      "\n",
      "EPOCHS : 2/2 Loss : 0.023719\n",
      "The mean validation loss is 0.0237\n",
      "\n",
      "EPOCHS : 2/2 Loss : 0.023601\n",
      "The mean validation loss is 0.0232\n",
      "\n",
      "EPOCHS : 2/2 Loss : 0.022658\n",
      "The mean validation loss is 0.0231\n",
      "\n",
      "EPOCHS : 2/2 Loss : 0.023152\n",
      "The mean validation loss is 0.0230\n",
      "\n",
      "EPOCHS : 2/2 Loss : 0.022643\n",
      "The mean validation loss is 0.0227\n",
      "\n",
      "EPOCHS : 2/2 Loss : 0.022884\n",
      "The mean validation loss is 0.0226\n",
      "\n",
      "EPOCHS : 2/2 Loss : 0.022714\n",
      "The mean validation loss is 0.0228\n",
      "\n",
      "EPOCHS : 2/2 Loss : 0.021985\n",
      "The mean validation loss is 0.0225\n",
      "\n",
      "EPOCHS : 2/2 Loss : 0.021946\n",
      "The mean validation loss is 0.0223\n",
      "\n",
      "EPOCHS : 2/2 Loss : 0.022304\n",
      "The mean validation loss is 0.0221\n",
      "\n",
      "EPOCHS : 2/2 Loss : 0.022353\n",
      "The mean validation loss is 0.0219\n",
      "\n",
      "EPOCHS : 2/2 Loss : 0.021809\n",
      "The mean validation loss is 0.0217\n",
      "\n",
      "EPOCHS : 2/2 Loss : 0.021910\n",
      "The mean validation loss is 0.0218\n",
      "\n",
      "EPOCHS : 2/2 Loss : 0.021399\n",
      "The mean validation loss is 0.0216\n",
      "\n",
      "EPOCHS : 2/2 Loss : 0.021995\n",
      "The mean validation loss is 0.0218\n",
      "\n",
      "EPOCHS : 2/2 Loss : 0.021750\n",
      "The mean validation loss is 0.0216\n",
      "\n",
      "EPOCHS : 2/2 Loss : 0.021238\n",
      "The mean validation loss is 0.0215\n",
      "\n",
      "EPOCHS : 2/2 Loss : 0.021388\n",
      "The mean validation loss is 0.0215\n",
      "\n",
      "EPOCHS : 2/2 Loss : 0.021278\n",
      "The mean validation loss is 0.0213\n",
      "\n",
      "EPOCHS : 2/2 Loss : 0.021338\n",
      "The mean validation loss is 0.0214\n",
      "\n"
     ]
    }
   ],
   "source": [
    "train_loss, val_loss = train(baseModel4,train_dataloader,val_dataloaders,2,40,\n",
    "      loss_fun,optimizer,'cuda',1,grad_clip=1.0,mname=\"BaseLSTM4\")"
   ]
  },
  {
   "cell_type": "code",
   "execution_count": 16,
   "id": "0d7f23e1",
   "metadata": {
    "collapsed": true
   },
   "outputs": [
    {
     "data": {
      "application/vnd.jupyter.widget-view+json": {
       "model_id": "cf50597cf8984788a844d55382d56b40",
       "version_major": 2,
       "version_minor": 0
      },
      "text/plain": [
       "  0%|          | 0/920 [00:00<?, ?it/s]"
      ]
     },
     "metadata": {},
     "output_type": "display_data"
    },
    {
     "name": "stdout",
     "output_type": "stream",
     "text": [
      "EPOCHS : 1/2 Loss : 0.021212\n",
      "The mean validation loss is 0.0213\n",
      "\n",
      "EPOCHS : 1/2 Loss : 0.021048\n",
      "The mean validation loss is 0.0213\n",
      "\n",
      "EPOCHS : 1/2 Loss : 0.021179\n",
      "The mean validation loss is 0.0211\n",
      "\n",
      "EPOCHS : 1/2 Loss : 0.021147\n",
      "The mean validation loss is 0.0213\n",
      "\n",
      "EPOCHS : 1/2 Loss : 0.021115\n",
      "The mean validation loss is 0.0212\n",
      "\n",
      "EPOCHS : 1/2 Loss : 0.020989\n",
      "The mean validation loss is 0.0212\n",
      "\n",
      "EPOCHS : 1/2 Loss : 0.021244\n",
      "The mean validation loss is 0.0208\n",
      "\n",
      "EPOCHS : 1/2 Loss : 0.020671\n",
      "The mean validation loss is 0.0212\n",
      "\n",
      "EPOCHS : 1/2 Loss : 0.020974\n",
      "The mean validation loss is 0.0210\n",
      "\n",
      "EPOCHS : 1/2 Loss : 0.020873\n",
      "The mean validation loss is 0.0210\n",
      "\n",
      "EPOCHS : 2/2 Loss : 0.020909\n",
      "The mean validation loss is 0.0210\n",
      "\n",
      "EPOCHS : 2/2 Loss : 0.021024\n",
      "The mean validation loss is 0.0210\n",
      "\n",
      "EPOCHS : 2/2 Loss : 0.020921\n",
      "The mean validation loss is 0.0211\n",
      "\n",
      "EPOCHS : 2/2 Loss : 0.020952\n",
      "The mean validation loss is 0.0211\n",
      "\n",
      "EPOCHS : 2/2 Loss : 0.020868\n",
      "The mean validation loss is 0.0208\n",
      "\n",
      "EPOCHS : 2/2 Loss : 0.020811\n",
      "The mean validation loss is 0.0212\n",
      "\n",
      "EPOCHS : 2/2 Loss : 0.020880\n",
      "The mean validation loss is 0.0209\n",
      "\n",
      "EPOCHS : 2/2 Loss : 0.021013\n",
      "The mean validation loss is 0.0208\n",
      "\n",
      "EPOCHS : 2/2 Loss : 0.020486\n",
      "The mean validation loss is 0.0210\n",
      "\n",
      "EPOCHS : 2/2 Loss : 0.020443\n",
      "The mean validation loss is 0.0207\n",
      "\n"
     ]
    }
   ],
   "source": [
    "optimizer = optim.AdamW(baseModel4.parameters(),lr=1e-5)\n",
    "train_loss, val_loss = train(baseModel4,train_dataloader,val_dataloaders,2,20,\n",
    "      loss_fun,optimizer,'cuda',2,grad_clip=1.0,mname=\"BaseLSTM4\")"
   ]
  },
  {
   "cell_type": "code",
   "execution_count": 16,
   "id": "b0922dfe",
   "metadata": {
    "collapsed": true
   },
   "outputs": [
    {
     "data": {
      "application/vnd.jupyter.widget-view+json": {
       "model_id": "254a897ff7d346938a2c4d949ffd404b",
       "version_major": 2,
       "version_minor": 0
      },
      "text/plain": [
       "  0%|          | 0/920 [00:00<?, ?it/s]"
      ]
     },
     "metadata": {},
     "output_type": "display_data"
    },
    {
     "name": "stdout",
     "output_type": "stream",
     "text": [
      "EPOCHS : 1/2 Loss : 0.021092\n",
      "The mean validation loss is 0.0211\n",
      "\n",
      "EPOCHS : 1/2 Loss : 0.021046\n",
      "The mean validation loss is 0.0210\n",
      "\n",
      "EPOCHS : 1/2 Loss : 0.020535\n",
      "The mean validation loss is 0.0209\n",
      "\n",
      "EPOCHS : 1/2 Loss : 0.020504\n",
      "The mean validation loss is 0.0208\n",
      "\n",
      "EPOCHS : 1/2 Loss : 0.020484\n",
      "The mean validation loss is 0.0212\n",
      "\n",
      "EPOCHS : 1/2 Loss : 0.020863\n",
      "The mean validation loss is 0.0207\n",
      "\n",
      "EPOCHS : 1/2 Loss : 0.020771\n",
      "The mean validation loss is 0.0207\n",
      "\n",
      "EPOCHS : 1/2 Loss : 0.020789\n",
      "The mean validation loss is 0.0210\n",
      "\n",
      "EPOCHS : 1/2 Loss : 0.020623\n",
      "The mean validation loss is 0.0210\n",
      "\n",
      "EPOCHS : 1/2 Loss : 0.020649\n",
      "The mean validation loss is 0.0208\n",
      "\n",
      "EPOCHS : 2/2 Loss : 0.020828\n",
      "The mean validation loss is 0.0209\n",
      "\n",
      "EPOCHS : 2/2 Loss : 0.020647\n",
      "The mean validation loss is 0.0206\n",
      "\n",
      "EPOCHS : 2/2 Loss : 0.020629\n",
      "The mean validation loss is 0.0210\n",
      "\n",
      "EPOCHS : 2/2 Loss : 0.020619\n",
      "The mean validation loss is 0.0209\n",
      "\n",
      "EPOCHS : 2/2 Loss : 0.020422\n",
      "The mean validation loss is 0.0208\n",
      "\n",
      "EPOCHS : 2/2 Loss : 0.020486\n",
      "The mean validation loss is 0.0208\n",
      "\n",
      "EPOCHS : 2/2 Loss : 0.020884\n",
      "The mean validation loss is 0.0206\n",
      "\n",
      "EPOCHS : 2/2 Loss : 0.021069\n",
      "The mean validation loss is 0.0208\n",
      "\n",
      "EPOCHS : 2/2 Loss : 0.020772\n",
      "The mean validation loss is 0.0210\n",
      "\n",
      "EPOCHS : 2/2 Loss : 0.020869\n",
      "The mean validation loss is 0.0209\n",
      "\n"
     ]
    }
   ],
   "source": [
    "optimizer = optim.AdamW(baseModel4.parameters(),lr=1e-6)\n",
    "baseModel4.load_state_dict(torch.load(\"Handcrafted Dataset - One Hot Weights/BaseLSTM4-run-2-val_loss-BEST.pth\"))\n",
    "train_loss, val_loss = train(baseModel4,train_dataloader,val_dataloaders,2,20,\n",
    "      loss_fun,optimizer,'cuda',3,grad_clip=1.0,mname=\"BaseLSTM4\")"
   ]
  },
  {
   "cell_type": "code",
   "execution_count": 17,
   "id": "202f85b2",
   "metadata": {
    "collapsed": true
   },
   "outputs": [
    {
     "data": {
      "application/vnd.jupyter.widget-view+json": {
       "model_id": "4318e1fce0ca475891d6786bdfa98f66",
       "version_major": 2,
       "version_minor": 0
      },
      "text/plain": [
       "  0%|          | 0/1840 [00:00<?, ?it/s]"
      ]
     },
     "metadata": {},
     "output_type": "display_data"
    },
    {
     "name": "stdout",
     "output_type": "stream",
     "text": [
      "EPOCHS : 1/4 Loss : 0.020785\n",
      "The mean validation loss is 0.0208\n",
      "\n",
      "EPOCHS : 1/4 Loss : 0.020636\n",
      "The mean validation loss is 0.0206\n",
      "\n",
      "EPOCHS : 1/4 Loss : 0.020636\n",
      "The mean validation loss is 0.0210\n",
      "\n",
      "EPOCHS : 1/4 Loss : 0.020715\n",
      "The mean validation loss is 0.0207\n",
      "\n",
      "EPOCHS : 1/4 Loss : 0.020834\n",
      "The mean validation loss is 0.0208\n",
      "\n",
      "EPOCHS : 2/4 Loss : 0.020858\n",
      "The mean validation loss is 0.0207\n",
      "\n",
      "EPOCHS : 2/4 Loss : 0.020710\n",
      "The mean validation loss is 0.0211\n",
      "\n",
      "EPOCHS : 2/4 Loss : 0.020567\n",
      "The mean validation loss is 0.0209\n",
      "\n",
      "EPOCHS : 2/4 Loss : 0.020749\n",
      "The mean validation loss is 0.0208\n",
      "\n",
      "EPOCHS : 2/4 Loss : 0.020620\n",
      "The mean validation loss is 0.0209\n",
      "\n"
     ]
    },
    {
     "ename": "RuntimeError",
     "evalue": "CUDA out of memory. Tried to allocate 1.34 GiB (GPU 0; 6.00 GiB total capacity; 1.11 GiB already allocated; 1.09 GiB free; 2.92 GiB reserved in total by PyTorch) If reserved memory is >> allocated memory try setting max_split_size_mb to avoid fragmentation.  See documentation for Memory Management and PYTORCH_CUDA_ALLOC_CONF",
     "output_type": "error",
     "traceback": [
      "\u001b[1;31m---------------------------------------------------------------------------\u001b[0m",
      "\u001b[1;31mRuntimeError\u001b[0m                              Traceback (most recent call last)",
      "\u001b[1;32m~\\AppData\\Local\\Temp/ipykernel_10264/4054989112.py\u001b[0m in \u001b[0;36m<module>\u001b[1;34m\u001b[0m\n\u001b[1;32m----> 1\u001b[1;33m train_loss, val_loss = train(baseModel4,train_dataloader,val_dataloaders,4,20,\n\u001b[0m\u001b[0;32m      2\u001b[0m       loss_fun,optimizer,'cuda',4,grad_clip=1.0,mname=\"BaseLSTM4\")\n",
      "\u001b[1;32m~\\AppData\\Local\\Temp/ipykernel_10264/1721261742.py\u001b[0m in \u001b[0;36mtrain\u001b[1;34m(model, trainloader, valloaders, ep, print_freq, loss_fun, optimizer, device, run, grad_clip, mname)\u001b[0m\n\u001b[0;32m     39\u001b[0m             \u001b[1;31m# calculate grad and update\u001b[0m\u001b[1;33m\u001b[0m\u001b[1;33m\u001b[0m\u001b[0m\n\u001b[0;32m     40\u001b[0m             \u001b[0moptimizer\u001b[0m\u001b[1;33m.\u001b[0m\u001b[0mzero_grad\u001b[0m\u001b[1;33m(\u001b[0m\u001b[1;33m)\u001b[0m\u001b[1;33m\u001b[0m\u001b[1;33m\u001b[0m\u001b[0m\n\u001b[1;32m---> 41\u001b[1;33m             \u001b[0mfinal\u001b[0m\u001b[1;33m,\u001b[0m\u001b[0m_\u001b[0m \u001b[1;33m=\u001b[0m \u001b[0mmodel\u001b[0m\u001b[1;33m(\u001b[0m\u001b[0minput_seq\u001b[0m\u001b[1;33m)\u001b[0m\u001b[1;33m\u001b[0m\u001b[1;33m\u001b[0m\u001b[0m\n\u001b[0m\u001b[0;32m     42\u001b[0m             \u001b[1;31m#print(\"prediction shape: \", final.shape)\u001b[0m\u001b[1;33m\u001b[0m\u001b[1;33m\u001b[0m\u001b[0m\n\u001b[0;32m     43\u001b[0m             \u001b[1;31m#print(\"largest prediction: \", torch.max(final.permute(1,0)[0]))\u001b[0m\u001b[1;33m\u001b[0m\u001b[1;33m\u001b[0m\u001b[0m\n",
      "\u001b[1;32mW:\\Tools\\Anaconda3\\envs\\pytorch\\lib\\site-packages\\torch\\nn\\modules\\module.py\u001b[0m in \u001b[0;36m_call_impl\u001b[1;34m(self, *input, **kwargs)\u001b[0m\n\u001b[0;32m   1100\u001b[0m         if not (self._backward_hooks or self._forward_hooks or self._forward_pre_hooks or _global_backward_hooks\n\u001b[0;32m   1101\u001b[0m                 or _global_forward_hooks or _global_forward_pre_hooks):\n\u001b[1;32m-> 1102\u001b[1;33m             \u001b[1;32mreturn\u001b[0m \u001b[0mforward_call\u001b[0m\u001b[1;33m(\u001b[0m\u001b[1;33m*\u001b[0m\u001b[0minput\u001b[0m\u001b[1;33m,\u001b[0m \u001b[1;33m**\u001b[0m\u001b[0mkwargs\u001b[0m\u001b[1;33m)\u001b[0m\u001b[1;33m\u001b[0m\u001b[1;33m\u001b[0m\u001b[0m\n\u001b[0m\u001b[0;32m   1103\u001b[0m         \u001b[1;31m# Do not call functions when jit is used\u001b[0m\u001b[1;33m\u001b[0m\u001b[1;33m\u001b[0m\u001b[0m\n\u001b[0;32m   1104\u001b[0m         \u001b[0mfull_backward_hooks\u001b[0m\u001b[1;33m,\u001b[0m \u001b[0mnon_full_backward_hooks\u001b[0m \u001b[1;33m=\u001b[0m \u001b[1;33m[\u001b[0m\u001b[1;33m]\u001b[0m\u001b[1;33m,\u001b[0m \u001b[1;33m[\u001b[0m\u001b[1;33m]\u001b[0m\u001b[1;33m\u001b[0m\u001b[1;33m\u001b[0m\u001b[0m\n",
      "\u001b[1;32m~\\AppData\\Local\\Temp/ipykernel_10264/3900351998.py\u001b[0m in \u001b[0;36mforward\u001b[1;34m(self, sequences, hidden)\u001b[0m\n\u001b[0;32m     31\u001b[0m \u001b[1;33m\u001b[0m\u001b[0m\n\u001b[0;32m     32\u001b[0m         \u001b[1;31m# output shape (batch,seq_len,hidden_size)\u001b[0m\u001b[1;33m\u001b[0m\u001b[1;33m\u001b[0m\u001b[0m\n\u001b[1;32m---> 33\u001b[1;33m         \u001b[0moutput\u001b[0m\u001b[1;33m,\u001b[0m \u001b[0mhidden\u001b[0m \u001b[1;33m=\u001b[0m \u001b[0mself\u001b[0m\u001b[1;33m.\u001b[0m\u001b[0mlstm\u001b[0m\u001b[1;33m(\u001b[0m\u001b[0mnotes\u001b[0m\u001b[1;33m,\u001b[0m\u001b[0mhidden\u001b[0m\u001b[1;33m)\u001b[0m\u001b[1;33m\u001b[0m\u001b[1;33m\u001b[0m\u001b[0m\n\u001b[0m\u001b[0;32m     34\u001b[0m \u001b[1;33m\u001b[0m\u001b[0m\n\u001b[0;32m     35\u001b[0m         \u001b[1;31m#output_lnormed = self.layernorm_lstm(output.permute(1,2,0).contiguous())\u001b[0m\u001b[1;33m\u001b[0m\u001b[1;33m\u001b[0m\u001b[0m\n",
      "\u001b[1;32mW:\\Tools\\Anaconda3\\envs\\pytorch\\lib\\site-packages\\torch\\nn\\modules\\module.py\u001b[0m in \u001b[0;36m_call_impl\u001b[1;34m(self, *input, **kwargs)\u001b[0m\n\u001b[0;32m   1100\u001b[0m         if not (self._backward_hooks or self._forward_hooks or self._forward_pre_hooks or _global_backward_hooks\n\u001b[0;32m   1101\u001b[0m                 or _global_forward_hooks or _global_forward_pre_hooks):\n\u001b[1;32m-> 1102\u001b[1;33m             \u001b[1;32mreturn\u001b[0m \u001b[0mforward_call\u001b[0m\u001b[1;33m(\u001b[0m\u001b[1;33m*\u001b[0m\u001b[0minput\u001b[0m\u001b[1;33m,\u001b[0m \u001b[1;33m**\u001b[0m\u001b[0mkwargs\u001b[0m\u001b[1;33m)\u001b[0m\u001b[1;33m\u001b[0m\u001b[1;33m\u001b[0m\u001b[0m\n\u001b[0m\u001b[0;32m   1103\u001b[0m         \u001b[1;31m# Do not call functions when jit is used\u001b[0m\u001b[1;33m\u001b[0m\u001b[1;33m\u001b[0m\u001b[0m\n\u001b[0;32m   1104\u001b[0m         \u001b[0mfull_backward_hooks\u001b[0m\u001b[1;33m,\u001b[0m \u001b[0mnon_full_backward_hooks\u001b[0m \u001b[1;33m=\u001b[0m \u001b[1;33m[\u001b[0m\u001b[1;33m]\u001b[0m\u001b[1;33m,\u001b[0m \u001b[1;33m[\u001b[0m\u001b[1;33m]\u001b[0m\u001b[1;33m\u001b[0m\u001b[1;33m\u001b[0m\u001b[0m\n",
      "\u001b[1;32mW:\\Tools\\Anaconda3\\envs\\pytorch\\lib\\site-packages\\torch\\nn\\modules\\rnn.py\u001b[0m in \u001b[0;36mforward\u001b[1;34m(self, input, hx)\u001b[0m\n\u001b[0;32m    689\u001b[0m         \u001b[0mself\u001b[0m\u001b[1;33m.\u001b[0m\u001b[0mcheck_forward_args\u001b[0m\u001b[1;33m(\u001b[0m\u001b[0minput\u001b[0m\u001b[1;33m,\u001b[0m \u001b[0mhx\u001b[0m\u001b[1;33m,\u001b[0m \u001b[0mbatch_sizes\u001b[0m\u001b[1;33m)\u001b[0m\u001b[1;33m\u001b[0m\u001b[1;33m\u001b[0m\u001b[0m\n\u001b[0;32m    690\u001b[0m         \u001b[1;32mif\u001b[0m \u001b[0mbatch_sizes\u001b[0m \u001b[1;32mis\u001b[0m \u001b[1;32mNone\u001b[0m\u001b[1;33m:\u001b[0m\u001b[1;33m\u001b[0m\u001b[1;33m\u001b[0m\u001b[0m\n\u001b[1;32m--> 691\u001b[1;33m             result = _VF.lstm(input, hx, self._flat_weights, self.bias, self.num_layers,\n\u001b[0m\u001b[0;32m    692\u001b[0m                               self.dropout, self.training, self.bidirectional, self.batch_first)\n\u001b[0;32m    693\u001b[0m         \u001b[1;32melse\u001b[0m\u001b[1;33m:\u001b[0m\u001b[1;33m\u001b[0m\u001b[1;33m\u001b[0m\u001b[0m\n",
      "\u001b[1;31mRuntimeError\u001b[0m: CUDA out of memory. Tried to allocate 1.34 GiB (GPU 0; 6.00 GiB total capacity; 1.11 GiB already allocated; 1.09 GiB free; 2.92 GiB reserved in total by PyTorch) If reserved memory is >> allocated memory try setting max_split_size_mb to avoid fragmentation.  See documentation for Memory Management and PYTORCH_CUDA_ALLOC_CONF"
     ]
    }
   ],
   "source": [
    "train_loss, val_loss = train(baseModel4,train_dataloader,val_dataloaders,4,20,\n",
    "      loss_fun,optimizer,'cuda',4,grad_clip=1.0,mname=\"BaseLSTM4\")"
   ]
  },
  {
   "cell_type": "code",
   "execution_count": 15,
   "id": "c7f51e33",
   "metadata": {
    "collapsed": true
   },
   "outputs": [
    {
     "data": {
      "application/vnd.jupyter.widget-view+json": {
       "model_id": "9b31f3a2b5f04a8188b7393eaa65d622",
       "version_major": 2,
       "version_minor": 0
      },
      "text/plain": [
       "  0%|          | 0/1840 [00:00<?, ?it/s]"
      ]
     },
     "metadata": {},
     "output_type": "display_data"
    },
    {
     "name": "stdout",
     "output_type": "stream",
     "text": [
      "EPOCHS : 1/4 Loss : 0.020918\n",
      "The mean validation loss is 0.0207\n",
      "\n",
      "EPOCHS : 1/4 Loss : 0.020795\n",
      "The mean validation loss is 0.0209\n",
      "\n",
      "EPOCHS : 1/4 Loss : 0.020701\n",
      "The mean validation loss is 0.0207\n",
      "\n",
      "EPOCHS : 1/4 Loss : 0.020548\n",
      "The mean validation loss is 0.0207\n",
      "\n",
      "EPOCHS : 1/4 Loss : 0.020571\n",
      "The mean validation loss is 0.0208\n",
      "\n",
      "EPOCHS : 2/4 Loss : 0.020645\n",
      "The mean validation loss is 0.0208\n",
      "\n",
      "EPOCHS : 2/4 Loss : 0.020752\n",
      "The mean validation loss is 0.0212\n",
      "\n",
      "EPOCHS : 2/4 Loss : 0.020841\n",
      "The mean validation loss is 0.0209\n",
      "\n",
      "EPOCHS : 2/4 Loss : 0.020601\n",
      "The mean validation loss is 0.0207\n",
      "\n",
      "EPOCHS : 2/4 Loss : 0.020736\n",
      "The mean validation loss is 0.0207\n",
      "\n",
      "EPOCHS : 3/4 Loss : 0.020651\n",
      "The mean validation loss is 0.0208\n",
      "\n",
      "EPOCHS : 3/4 Loss : 0.020721\n",
      "The mean validation loss is 0.0206\n",
      "\n",
      "EPOCHS : 3/4 Loss : 0.020776\n",
      "The mean validation loss is 0.0207\n",
      "\n",
      "EPOCHS : 3/4 Loss : 0.020719\n",
      "The mean validation loss is 0.0207\n",
      "\n",
      "EPOCHS : 3/4 Loss : 0.020618\n",
      "The mean validation loss is 0.0209\n",
      "\n",
      "EPOCHS : 4/4 Loss : 0.020852\n",
      "The mean validation loss is 0.0207\n",
      "\n",
      "EPOCHS : 4/4 Loss : 0.020735\n",
      "The mean validation loss is 0.0210\n",
      "\n",
      "EPOCHS : 4/4 Loss : 0.020714\n",
      "The mean validation loss is 0.0208\n",
      "\n",
      "EPOCHS : 4/4 Loss : 0.020652\n",
      "The mean validation loss is 0.0209\n",
      "\n",
      "EPOCHS : 4/4 Loss : 0.020580\n",
      "The mean validation loss is 0.0210\n",
      "\n"
     ]
    }
   ],
   "source": [
    "optimizer = optim.AdamW(baseModel4.parameters(),lr=1e-7)\n",
    "baseModel4.load_state_dict(torch.load(\"Handcrafted Dataset - One Hot Weights/BaseLSTM4-run-4-val_loss-BEST.pth\"))\n",
    "train_loss, val_loss = train(baseModel4,train_dataloader,val_dataloaders,4,20,\n",
    "      loss_fun,optimizer,'cuda',5,grad_clip=1.0,mname=\"BaseLSTM4\")"
   ]
  },
  {
   "cell_type": "code",
   "execution_count": null,
   "id": "949ee329",
   "metadata": {},
   "outputs": [],
   "source": []
  },
  {
   "cell_type": "markdown",
   "id": "f7b0a546",
   "metadata": {},
   "source": [
    "# change datalength to 500 - baseModel5\n",
    "batchsize = 128"
   ]
  },
  {
   "cell_type": "code",
   "execution_count": 13,
   "id": "81f45440",
   "metadata": {},
   "outputs": [],
   "source": [
    "# BaseLSTM: take all the output\n",
    "baseModel5 = BaseLSTM(input_size = 88, embed_size = 512, hidden_size = 512, \n",
    "                  num_class = 88, layers = 2).cuda()\n",
    "\n",
    "#weights = torch.cuda.FloatTensor([1.0,2.0])\n",
    "loss_fun = nn.CrossEntropyLoss()\n",
    "optimizer = optim.AdamW(baseModel5.parameters(),lr=1e-4)"
   ]
  },
  {
   "cell_type": "code",
   "execution_count": 14,
   "id": "8bd42a72",
   "metadata": {
    "collapsed": true
   },
   "outputs": [
    {
     "data": {
      "application/vnd.jupyter.widget-view+json": {
       "model_id": "14423446d45447d78ca4cb7dcfce5841",
       "version_major": 2,
       "version_minor": 0
      },
      "text/plain": [
       "  0%|          | 0/460 [00:00<?, ?it/s]"
      ]
     },
     "metadata": {},
     "output_type": "display_data"
    },
    {
     "name": "stdout",
     "output_type": "stream",
     "text": [
      "EPOCHS : 1/2 Loss : 0.655432\n",
      "The mean validation loss is 0.2417\n",
      "\n",
      "EPOCHS : 1/2 Loss : 0.181469\n",
      "The mean validation loss is 0.1416\n",
      "\n",
      "EPOCHS : 1/2 Loss : 0.130518\n",
      "The mean validation loss is 0.1203\n",
      "\n",
      "EPOCHS : 1/2 Loss : 0.116161\n",
      "The mean validation loss is 0.1126\n",
      "\n",
      "EPOCHS : 1/2 Loss : 0.112110\n",
      "The mean validation loss is 0.1089\n",
      "\n",
      "EPOCHS : 1/2 Loss : 0.107698\n",
      "The mean validation loss is 0.1051\n",
      "\n",
      "EPOCHS : 1/2 Loss : 0.102934\n",
      "The mean validation loss is 0.0990\n",
      "\n",
      "EPOCHS : 1/2 Loss : 0.093924\n",
      "The mean validation loss is 0.0910\n",
      "\n",
      "EPOCHS : 1/2 Loss : 0.085111\n",
      "The mean validation loss is 0.0796\n",
      "\n",
      "EPOCHS : 1/2 Loss : 0.074064\n",
      "The mean validation loss is 0.0673\n",
      "\n",
      "EPOCHS : 1/2 Loss : 0.062784\n",
      "The mean validation loss is 0.0582\n",
      "\n",
      "EPOCHS : 1/2 Loss : 0.053842\n",
      "The mean validation loss is 0.0498\n",
      "\n",
      "EPOCHS : 1/2 Loss : 0.047686\n",
      "The mean validation loss is 0.0445\n",
      "\n",
      "EPOCHS : 1/2 Loss : 0.042558\n",
      "The mean validation loss is 0.0405\n",
      "\n",
      "EPOCHS : 1/2 Loss : 0.039067\n",
      "The mean validation loss is 0.0373\n",
      "\n",
      "EPOCHS : 1/2 Loss : 0.036051\n",
      "The mean validation loss is 0.0350\n",
      "\n",
      "EPOCHS : 1/2 Loss : 0.034394\n",
      "The mean validation loss is 0.0328\n",
      "\n",
      "EPOCHS : 1/2 Loss : 0.032290\n",
      "The mean validation loss is 0.0318\n",
      "\n",
      "EPOCHS : 1/2 Loss : 0.030699\n",
      "The mean validation loss is 0.0306\n",
      "\n",
      "EPOCHS : 1/2 Loss : 0.030072\n",
      "The mean validation loss is 0.0297\n",
      "\n",
      "EPOCHS : 2/2 Loss : 0.002600\n",
      "The mean validation loss is 0.0289\n",
      "\n",
      "EPOCHS : 2/2 Loss : 0.028528\n",
      "The mean validation loss is 0.0283\n",
      "\n",
      "EPOCHS : 2/2 Loss : 0.027455\n",
      "The mean validation loss is 0.0278\n",
      "\n",
      "EPOCHS : 2/2 Loss : 0.027191\n",
      "The mean validation loss is 0.0273\n",
      "\n",
      "EPOCHS : 2/2 Loss : 0.026700\n",
      "The mean validation loss is 0.0269\n",
      "\n",
      "EPOCHS : 2/2 Loss : 0.026795\n",
      "The mean validation loss is 0.0262\n",
      "\n",
      "EPOCHS : 2/2 Loss : 0.026516\n",
      "The mean validation loss is 0.0259\n",
      "\n",
      "EPOCHS : 2/2 Loss : 0.025792\n",
      "The mean validation loss is 0.0259\n",
      "\n",
      "EPOCHS : 2/2 Loss : 0.026180\n",
      "The mean validation loss is 0.0256\n",
      "\n",
      "EPOCHS : 2/2 Loss : 0.025955\n",
      "The mean validation loss is 0.0251\n",
      "\n",
      "EPOCHS : 2/2 Loss : 0.024733\n",
      "The mean validation loss is 0.0251\n",
      "\n",
      "EPOCHS : 2/2 Loss : 0.024884\n",
      "The mean validation loss is 0.0250\n",
      "\n",
      "EPOCHS : 2/2 Loss : 0.024532\n",
      "The mean validation loss is 0.0245\n",
      "\n",
      "EPOCHS : 2/2 Loss : 0.024435\n",
      "The mean validation loss is 0.0246\n",
      "\n",
      "EPOCHS : 2/2 Loss : 0.024199\n",
      "The mean validation loss is 0.0245\n",
      "\n",
      "EPOCHS : 2/2 Loss : 0.024540\n",
      "The mean validation loss is 0.0243\n",
      "\n",
      "EPOCHS : 2/2 Loss : 0.024059\n",
      "The mean validation loss is 0.0240\n",
      "\n",
      "EPOCHS : 2/2 Loss : 0.024087\n",
      "The mean validation loss is 0.0241\n",
      "\n",
      "EPOCHS : 2/2 Loss : 0.023276\n",
      "The mean validation loss is 0.0241\n",
      "\n",
      "EPOCHS : 2/2 Loss : 0.024210\n",
      "The mean validation loss is 0.0239\n",
      "\n",
      "EPOCHS : 2/2 Loss : 0.023650\n",
      "The mean validation loss is 0.0237\n",
      "\n"
     ]
    }
   ],
   "source": [
    "train_loss, val_loss = train(baseModel5,train_dataloader,val_dataloaders,2,40,\n",
    "      loss_fun,optimizer,'cuda',1,grad_clip=1.0,mname=\"BaseLSTM5\")"
   ]
  },
  {
   "cell_type": "code",
   "execution_count": 15,
   "id": "1853b143",
   "metadata": {
    "collapsed": true
   },
   "outputs": [
    {
     "data": {
      "application/vnd.jupyter.widget-view+json": {
       "model_id": "3290494ec7c14e0ba99556cb7c26d16a",
       "version_major": 2,
       "version_minor": 0
      },
      "text/plain": [
       "  0%|          | 0/460 [00:00<?, ?it/s]"
      ]
     },
     "metadata": {},
     "output_type": "display_data"
    },
    {
     "name": "stdout",
     "output_type": "stream",
     "text": [
      "EPOCHS : 1/2 Loss : 0.023085\n",
      "The mean validation loss is 0.0235\n",
      "\n",
      "EPOCHS : 1/2 Loss : 0.023168\n",
      "The mean validation loss is 0.0234\n",
      "\n",
      "EPOCHS : 1/2 Loss : 0.023210\n",
      "The mean validation loss is 0.0233\n",
      "\n",
      "EPOCHS : 1/2 Loss : 0.022820\n",
      "The mean validation loss is 0.0232\n",
      "\n",
      "EPOCHS : 1/2 Loss : 0.023412\n",
      "The mean validation loss is 0.0230\n",
      "\n",
      "EPOCHS : 1/2 Loss : 0.023251\n",
      "The mean validation loss is 0.0230\n",
      "\n",
      "EPOCHS : 1/2 Loss : 0.022504\n",
      "The mean validation loss is 0.0230\n",
      "\n",
      "EPOCHS : 1/2 Loss : 0.022626\n",
      "The mean validation loss is 0.0228\n",
      "\n",
      "EPOCHS : 1/2 Loss : 0.022583\n",
      "The mean validation loss is 0.0227\n",
      "\n",
      "EPOCHS : 1/2 Loss : 0.022372\n",
      "The mean validation loss is 0.0224\n",
      "\n",
      "EPOCHS : 2/2 Loss : 0.022629\n",
      "The mean validation loss is 0.0227\n",
      "\n",
      "EPOCHS : 2/2 Loss : 0.022555\n",
      "The mean validation loss is 0.0225\n",
      "\n",
      "EPOCHS : 2/2 Loss : 0.021956\n",
      "The mean validation loss is 0.0225\n",
      "\n",
      "EPOCHS : 2/2 Loss : 0.022187\n",
      "The mean validation loss is 0.0222\n",
      "\n",
      "EPOCHS : 2/2 Loss : 0.022317\n",
      "The mean validation loss is 0.0222\n",
      "\n",
      "EPOCHS : 2/2 Loss : 0.022157\n",
      "The mean validation loss is 0.0224\n",
      "\n",
      "EPOCHS : 2/2 Loss : 0.021922\n",
      "The mean validation loss is 0.0222\n",
      "\n",
      "EPOCHS : 2/2 Loss : 0.022173\n",
      "The mean validation loss is 0.0222\n",
      "\n",
      "EPOCHS : 2/2 Loss : 0.021985\n",
      "The mean validation loss is 0.0218\n",
      "\n",
      "EPOCHS : 2/2 Loss : 0.021899\n",
      "The mean validation loss is 0.0217\n",
      "\n"
     ]
    }
   ],
   "source": [
    "optimizer = optim.AdamW(baseModel5.parameters(),lr=1e-5)\n",
    "train_loss, val_loss = train(baseModel5,train_dataloader,val_dataloaders,2,20,\n",
    "      loss_fun,optimizer,'cuda',2,grad_clip=1.0,mname=\"BaseLSTM5\")"
   ]
  },
  {
   "cell_type": "code",
   "execution_count": 16,
   "id": "02550b0b",
   "metadata": {
    "scrolled": true
   },
   "outputs": [
    {
     "data": {
      "application/vnd.jupyter.widget-view+json": {
       "model_id": "91c04899a1e34d7b822321145707fa35",
       "version_major": 2,
       "version_minor": 0
      },
      "text/plain": [
       "  0%|          | 0/460 [00:00<?, ?it/s]"
      ]
     },
     "metadata": {},
     "output_type": "display_data"
    },
    {
     "name": "stdout",
     "output_type": "stream",
     "text": [
      "EPOCHS : 1/2 Loss : 0.021830\n",
      "The mean validation loss is 0.0216\n",
      "\n",
      "EPOCHS : 1/2 Loss : 0.021664\n",
      "The mean validation loss is 0.0217\n",
      "\n",
      "EPOCHS : 1/2 Loss : 0.021271\n",
      "The mean validation loss is 0.0213\n",
      "\n",
      "EPOCHS : 1/2 Loss : 0.021103\n",
      "The mean validation loss is 0.0213\n",
      "\n",
      "EPOCHS : 1/2 Loss : 0.021359\n",
      "The mean validation loss is 0.0211\n",
      "\n",
      "EPOCHS : 1/2 Loss : 0.021330\n",
      "The mean validation loss is 0.0214\n",
      "\n",
      "EPOCHS : 1/2 Loss : 0.021251\n",
      "The mean validation loss is 0.0213\n",
      "\n",
      "EPOCHS : 1/2 Loss : 0.020932\n",
      "The mean validation loss is 0.0212\n",
      "\n",
      "EPOCHS : 1/2 Loss : 0.021127\n",
      "The mean validation loss is 0.0213\n",
      "\n",
      "EPOCHS : 1/2 Loss : 0.021083\n",
      "The mean validation loss is 0.0209\n",
      "\n",
      "EPOCHS : 2/2 Loss : 0.020855\n",
      "The mean validation loss is 0.0211\n",
      "\n",
      "EPOCHS : 2/2 Loss : 0.021038\n",
      "The mean validation loss is 0.0210\n",
      "\n",
      "EPOCHS : 2/2 Loss : 0.020902\n",
      "The mean validation loss is 0.0209\n",
      "\n",
      "EPOCHS : 2/2 Loss : 0.021387\n",
      "The mean validation loss is 0.0211\n",
      "\n",
      "EPOCHS : 2/2 Loss : 0.020666\n",
      "The mean validation loss is 0.0211\n",
      "\n",
      "EPOCHS : 2/2 Loss : 0.020818\n",
      "The mean validation loss is 0.0209\n",
      "\n",
      "EPOCHS : 2/2 Loss : 0.020981\n",
      "The mean validation loss is 0.0211\n",
      "\n",
      "EPOCHS : 2/2 Loss : 0.020615\n",
      "The mean validation loss is 0.0209\n",
      "\n",
      "EPOCHS : 2/2 Loss : 0.021034\n",
      "The mean validation loss is 0.0208\n",
      "\n",
      "EPOCHS : 2/2 Loss : 0.020691\n",
      "The mean validation loss is 0.0209\n",
      "\n"
     ]
    }
   ],
   "source": [
    "train_loss, val_loss = train(baseModel5,train_dataloader,val_dataloaders,2,20,\n",
    "      loss_fun,optimizer,'cuda',3,grad_clip=1.0,mname=\"BaseLSTM5\")"
   ]
  },
  {
   "cell_type": "code",
   "execution_count": 17,
   "id": "3bc9a6e3",
   "metadata": {
    "scrolled": true
   },
   "outputs": [
    {
     "data": {
      "application/vnd.jupyter.widget-view+json": {
       "model_id": "da5670709be243a587d955ac15e2e455",
       "version_major": 2,
       "version_minor": 0
      },
      "text/plain": [
       "  0%|          | 0/920 [00:00<?, ?it/s]"
      ]
     },
     "metadata": {},
     "output_type": "display_data"
    },
    {
     "name": "stdout",
     "output_type": "stream",
     "text": [
      "EPOCHS : 1/4 Loss : 0.021008\n",
      "The mean validation loss is 0.0210\n",
      "\n",
      "EPOCHS : 1/4 Loss : 0.020702\n",
      "The mean validation loss is 0.0207\n",
      "\n",
      "EPOCHS : 1/4 Loss : 0.020673\n",
      "The mean validation loss is 0.0208\n",
      "\n",
      "EPOCHS : 1/4 Loss : 0.020746\n",
      "The mean validation loss is 0.0209\n",
      "\n",
      "EPOCHS : 1/4 Loss : 0.020430\n",
      "The mean validation loss is 0.0206\n",
      "\n",
      "EPOCHS : 2/4 Loss : 0.020623\n",
      "The mean validation loss is 0.0208\n",
      "\n",
      "EPOCHS : 2/4 Loss : 0.020764\n",
      "The mean validation loss is 0.0209\n",
      "\n",
      "EPOCHS : 2/4 Loss : 0.020558\n",
      "The mean validation loss is 0.0207\n",
      "\n",
      "EPOCHS : 2/4 Loss : 0.020657\n",
      "The mean validation loss is 0.0207\n",
      "\n",
      "EPOCHS : 2/4 Loss : 0.020324\n",
      "The mean validation loss is 0.0207\n",
      "\n",
      "EPOCHS : 3/4 Loss : 0.020407\n",
      "The mean validation loss is 0.0207\n",
      "\n",
      "EPOCHS : 3/4 Loss : 0.020561\n",
      "The mean validation loss is 0.0206\n",
      "\n",
      "EPOCHS : 3/4 Loss : 0.020620\n",
      "The mean validation loss is 0.0207\n",
      "\n",
      "EPOCHS : 3/4 Loss : 0.020545\n",
      "The mean validation loss is 0.0205\n",
      "\n",
      "EPOCHS : 3/4 Loss : 0.020427\n",
      "The mean validation loss is 0.0204\n",
      "\n",
      "EPOCHS : 4/4 Loss : 0.020398\n",
      "The mean validation loss is 0.0204\n",
      "\n",
      "EPOCHS : 4/4 Loss : 0.020560\n",
      "The mean validation loss is 0.0206\n",
      "\n",
      "EPOCHS : 4/4 Loss : 0.020425\n",
      "The mean validation loss is 0.0204\n",
      "\n",
      "EPOCHS : 4/4 Loss : 0.020395\n",
      "The mean validation loss is 0.0204\n",
      "\n",
      "EPOCHS : 4/4 Loss : 0.020325\n",
      "The mean validation loss is 0.0206\n",
      "\n"
     ]
    }
   ],
   "source": [
    "train_loss, val_loss = train(baseModel5,train_dataloader,val_dataloaders,4,20,\n",
    "      loss_fun,optimizer,'cuda',4,grad_clip=1.0,mname=\"BaseLSTM5\")"
   ]
  },
  {
   "cell_type": "code",
   "execution_count": null,
   "id": "774c9fc6",
   "metadata": {},
   "outputs": [],
   "source": [
    "train_loss, val_loss = train(baseModel5,train_dataloader,val_dataloaders,4,20,\n",
    "      loss_fun,optimizer,'cuda',4,grad_clip=1.0,mname=\"BaseLSTM5\")"
   ]
  },
  {
   "cell_type": "code",
   "execution_count": null,
   "id": "c565e595",
   "metadata": {},
   "outputs": [],
   "source": []
  },
  {
   "cell_type": "code",
   "execution_count": null,
   "id": "1c4b053d",
   "metadata": {},
   "outputs": [],
   "source": []
  },
  {
   "cell_type": "code",
   "execution_count": null,
   "id": "4af5fbb8",
   "metadata": {},
   "outputs": [],
   "source": []
  },
  {
   "cell_type": "markdown",
   "id": "7bb3695f",
   "metadata": {},
   "source": [
    "# Generate Music"
   ]
  },
  {
   "cell_type": "code",
   "execution_count": 19,
   "id": "83aa554b",
   "metadata": {},
   "outputs": [],
   "source": [
    "# define a function to extract hidden state given the beginning of a piece of music\n",
    "#  it should start from time step 0, extract the piano roll, take the first portion \n",
    "#   to generate hidden space and last prediction from the model\n",
    "def get_hidden(model, path,len_input_seq=200,ln=200,tmp=1,start_position=0):\n",
    "    # extract piano roll from the music and form one hot encoding\n",
    "    multitrack = pypianoroll.read(path)\n",
    "    multitrack.binarize()\n",
    "    combined_track = multitrack.blend()\n",
    "    # shrink the pitches and extract the part that we need\n",
    "    track_len = len(combined_track[:,0]) \n",
    "    # if track_len is less than the track they want\n",
    "    if (track_len < len_input_seq + start_position):\n",
    "        if (track_len < len_input_seq):\n",
    "            input_seq = combined_track[:,21:109] # take the entire trach\n",
    "        else:\n",
    "            input_seq = combined_track[start_position:,21:109] \n",
    "    else:\n",
    "        end_position = start_position + len_input_seq - 1\n",
    "        input_seq = combined_track[start_position:end_position,21:109]\n",
    "    \n",
    "    # input sequence must be a tensor\n",
    "    input_seq = torch.tensor(input_seq,dtype=torch.float)\n",
    "    \n",
    "    # add batch dimension\n",
    "    input_seq = torch.unsqueeze(input_seq,0)\n",
    "    \n",
    "    op, hidden = model(input_seq) # note hidden state don't stack\n",
    "    \n",
    "    # only take the last observations of each\n",
    "    output = op[-88:]\n",
    "    probs = nn.functional.softmax(output.div(tmp), dim=1)\n",
    "    output = torch.multinomial(probs.data, 1).squeeze().unsqueeze(0).unsqueeze(1)\n",
    "    output = output.float()\n",
    " \n",
    "    # hidden size (2,2,200,512), should go with (2,2,1,512)\n",
    "    h,c = hidden\n",
    "    h = h[:,-1:,:]\n",
    "    c = c[:,-1:,:]\n",
    "    hidden = (h,c)\n",
    "    \n",
    "    return generate_music(model,output,hidden,ln,tmp)\n",
    "\n",
    "# define a function to generate music based on the hidden state of the music\n",
    "def generate_music(model, start, hidden, ln=200, tmp=1):\n",
    "    seq_ip_cur = start\n",
    "        \n",
    "    op_seq = [seq_ip_cur.data.squeeze(1)]\n",
    "    hd = hidden\n",
    "\n",
    "    for i in range(ln):\n",
    "\n",
    "        # input sequence is predicted outputs\n",
    "        op, hd = model(seq_ip_cur, hd) # output is a vector of 88\n",
    "        #print(\"output: \",op)\n",
    "        \n",
    "        probs = nn.functional.softmax(op.div(tmp), dim=1)\n",
    "        #print(\"probabilities: \",probs)\n",
    "        \n",
    "        # update current sequence to the previous prediction\n",
    "        seq_ip_cur = torch.multinomial(probs.data, 1).squeeze().unsqueeze(0).unsqueeze(1)\n",
    "\n",
    "        # the model accept input as tensor of floats\n",
    "        seq_ip_cur = seq_ip_cur.float()\n",
    "        #print(\"updated sequence: \", seq_ip_cur.data.squeeze(1))\n",
    "\n",
    "        # append outputs\n",
    "        op_seq.append(seq_ip_cur.data.squeeze(1))\n",
    "\n",
    "    gen_seq = torch.cat(op_seq, dim=0).cpu().numpy()\n",
    "    \n",
    "    return gen_seq\n",
    "\n",
    "def generate_sample(model,model_val,run,musicname=\"mz_330_1.mid\",len_input_seq=200,\n",
    "                    ln=200,tmp=1,model_name=\"LSTM_Chopin\",start_position=0):\n",
    "    weights_folder = \"Handcrafted Dataset - One Hot Weights\"\n",
    "    \n",
    "    # this is for simple version\n",
    "    #LSTM = model(input_size=88,embed_size=512,hidden_size=512,num_class=88).cpu() \n",
    "    \n",
    "    LSTM = model(88,512,512,88,2).cpu() \n",
    "    weights = model_name+\"-run-\"+str(run)+\"-val_loss-\"+model_val+ \".pth\"\n",
    "    weights_path = os.path.join(weights_folder,weights)\n",
    "    LSTM.load_state_dict(torch.load(weights_path))\n",
    "    \n",
    "\n",
    "    musicpath = \"Handcrafted Dataset - Generated Music/input/\" + musicname\n",
    "    LSTM.eval()\n",
    "    seq = get_hidden(LSTM,musicpath,len_input_seq,ln,tmp,start_position)\n",
    "    \n",
    "    plt.figure(figsize=(10,7))\n",
    "    plt.imshow(seq.T)\n",
    "    \n",
    "    outputpath = 'Handcrafted Dataset - Generated Music/'+model_name+'/run'+str(run)+'-'+model_val+'-'+musicname\n",
    "    return seq, outputpath"
   ]
  },
  {
   "cell_type": "markdown",
   "id": "585b36e5",
   "metadata": {},
   "source": [
    "### too much - BaseLSTM2 model"
   ]
  },
  {
   "cell_type": "code",
   "execution_count": 70,
   "id": "6be403fb",
   "metadata": {},
   "outputs": [
    {
     "name": "stdout",
     "output_type": "stream",
     "text": [
      "Handcrafted Dataset - Generated Music/BaseLSTM2/run4-BEST-black_key.mid\n"
     ]
    },
    {
     "data": {
      "image/png": "[encoded data removed]",
      "text/plain": [
       "<Figure size 720x504 with 1 Axes>"
      ]
     },
     "metadata": {
      "needs_background": "light"
     },
     "output_type": "display_data"
    }
   ],
   "source": [
    "model = BaseLSTM\n",
    "model_val = \"BEST\"\n",
    "run = 4\n",
    "seq,path=generate_sample(model,model_val,run,musicname=\"black_key.mid\",\n",
    "            len_input_seq=1000,ln=1000,tmp=1,model_name=\"BaseLSTM2\",start_position=0)\n",
    "print(path)"
   ]
  },
  {
   "cell_type": "code",
   "execution_count": 67,
   "id": "f2f9c71d",
   "metadata": {},
   "outputs": [],
   "source": [
    "F.midiwrite(path, seq, dtm=0.1)"
   ]
  },
  {
   "cell_type": "markdown",
   "id": "f14eb6f2",
   "metadata": {},
   "source": [
    "### with only final 1000 loss - BaseLSTM3 model"
   ]
  },
  {
   "cell_type": "code",
   "execution_count": 25,
   "id": "22811279",
   "metadata": {},
   "outputs": [
    {
     "name": "stdout",
     "output_type": "stream",
     "text": [
      "Handcrafted Dataset - Generated Music/BaseLSTM3/run6-BEST-waldstein_1.mid\n"
     ]
    },
    {
     "data": {
      "image/png": "[encoded data removed]",
      "text/plain": [
       "<Figure size 720x504 with 1 Axes>"
      ]
     },
     "metadata": {
      "needs_background": "light"
     },
     "output_type": "display_data"
    }
   ],
   "source": [
    "model = BaseLSTM\n",
    "model_val = \"BEST\"\n",
    "run = 6\n",
    "seq,path=generate_sample(model,model_val,run,musicname=\"waldstein_1.mid\",\n",
    "            len_input_seq=2000,ln=1000,tmp=1,model_name=\"BaseLSTM3\",start_position=0)\n",
    "print(path)"
   ]
  },
  {
   "cell_type": "code",
   "execution_count": 26,
   "id": "68f0460e",
   "metadata": {},
   "outputs": [],
   "source": [
    "F.midiwrite(path, seq, dtm=0.1)"
   ]
  },
  {
   "cell_type": "code",
   "execution_count": null,
   "id": "eae27ed5",
   "metadata": {},
   "outputs": [],
   "source": []
  },
  {
   "cell_type": "markdown",
   "id": "548920ad",
   "metadata": {},
   "source": [
    "### with 1000 input and output sequence - BaseLSTM4 model"
   ]
  },
  {
   "cell_type": "code",
   "execution_count": 24,
   "id": "82d41783",
   "metadata": {},
   "outputs": [
    {
     "name": "stdout",
     "output_type": "stream",
     "text": [
      "Handcrafted Dataset - Generated Music/BaseLSTM4/run5-BEST-waldstein_1.mid\n"
     ]
    },
    {
     "data": {
      "image/png": "[encoded data removed]",
      "text/plain": [
       "<Figure size 720x504 with 1 Axes>"
      ]
     },
     "metadata": {
      "needs_background": "light"
     },
     "output_type": "display_data"
    }
   ],
   "source": [
    "model = BaseLSTM\n",
    "model_val = \"BEST\"\n",
    "run = 5\n",
    "seq,path=generate_sample(model,model_val,run,musicname=\"waldstein_1.mid\",\n",
    "            len_input_seq=2000,ln=1000,tmp=1,model_name=\"BaseLSTM4\",start_position=0)\n",
    "print(path)"
   ]
  },
  {
   "cell_type": "code",
   "execution_count": 25,
   "id": "2d11044a",
   "metadata": {},
   "outputs": [],
   "source": [
    "F.midiwrite(path, seq, dtm=0.1)"
   ]
  },
  {
   "cell_type": "code",
   "execution_count": null,
   "id": "acdf6ef2",
   "metadata": {},
   "outputs": [],
   "source": []
  },
  {
   "cell_type": "markdown",
   "id": "0fc76b0f",
   "metadata": {},
   "source": [
    "### with 500 input and output sequence - BaseLSTM5 model"
   ]
  },
  {
   "cell_type": "code",
   "execution_count": 20,
   "id": "c3ca0d9e",
   "metadata": {},
   "outputs": [
    {
     "name": "stdout",
     "output_type": "stream",
     "text": [
      "Handcrafted Dataset - Generated Music/BaseLSTM5/run4-BEST-waldstein_1.mid\n"
     ]
    },
    {
     "data": {
      "image/png": "[encoded data removed]",
      "text/plain": [
       "<Figure size 720x504 with 1 Axes>"
      ]
     },
     "metadata": {
      "needs_background": "light"
     },
     "output_type": "display_data"
    }
   ],
   "source": [
    "model = BaseLSTM\n",
    "model_val = \"BEST\"\n",
    "run = 4\n",
    "seq,path=generate_sample(model,model_val,run,musicname=\"waldstein_1.mid\",\n",
    "            len_input_seq=2000,ln=1000,tmp=1,model_name=\"BaseLSTM5\",start_position=0)\n",
    "print(path)"
   ]
  },
  {
   "cell_type": "code",
   "execution_count": null,
   "id": "48a96387",
   "metadata": {},
   "outputs": [],
   "source": []
  },
  {
   "cell_type": "code",
   "execution_count": null,
   "id": "7631f99a",
   "metadata": {},
   "outputs": [],
   "source": []
  },
  {
   "cell_type": "code",
   "execution_count": null,
   "id": "85e0d24a",
   "metadata": {},
   "outputs": [],
   "source": []
  },
  {
   "cell_type": "code",
   "execution_count": null,
   "id": "7213f692",
   "metadata": {},
   "outputs": [],
   "source": []
  },
  {
   "cell_type": "code",
   "execution_count": null,
   "id": "1714fcaa",
   "metadata": {},
   "outputs": [],
   "source": []
  },
  {
   "cell_type": "code",
   "execution_count": null,
   "id": "da8badf4",
   "metadata": {},
   "outputs": [],
   "source": []
  },
  {
   "cell_type": "code",
   "execution_count": null,
   "id": "9fc9b736",
   "metadata": {},
   "outputs": [],
   "source": []
  },
  {
   "cell_type": "code",
   "execution_count": null,
   "id": "61889078",
   "metadata": {},
   "outputs": [],
   "source": []
  }
 ],
 "metadata": {
  "kernelspec": {
   "display_name": "Python 3 (ipykernel)",
   "language": "python",
   "name": "python3"
  },
  "language_info": {
   "codemirror_mode": {
    "name": "ipython",
    "version": 3
   },
   "file_extension": ".py",
   "mimetype": "text/x-python",
   "name": "python",
   "nbconvert_exporter": "python",
   "pygments_lexer": "ipython3",
   "version": "3.9.7"
  }
 },
 "nbformat": 4,
 "nbformat_minor": 5
}
