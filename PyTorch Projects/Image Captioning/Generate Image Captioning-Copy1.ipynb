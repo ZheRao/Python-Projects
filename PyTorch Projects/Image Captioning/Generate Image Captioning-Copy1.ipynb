{
 "cells": [
  {
   "cell_type": "code",
   "execution_count": 1,
   "id": "b9c119d7",
   "metadata": {},
   "outputs": [],
   "source": [
    "import nltk\n",
    "from pycocotools.coco import COCO\n",
    "import torch.utils.data as data\n",
    "import torchvision.models as models\n",
    "import torchvision.transforms as transforms\n",
    "from torch.nn.utils.rnn import pack_padded_sequence\n",
    "\n",
    "import os\n",
    "import pickle\n",
    "import numpy as np\n",
    "from PIL import Image\n",
    "from collections import Counter\n",
    "import matplotlib.pyplot as plt\n",
    "\n",
    "import torch\n",
    "import torch.nn as nn\n",
    "\n",
    "\n"
   ]
  },
  {
   "cell_type": "markdown",
   "id": "efa718d4",
   "metadata": {},
   "source": [
    "# Load Dictionary"
   ]
  },
  {
   "cell_type": "code",
   "execution_count": 2,
   "id": "422e2a96",
   "metadata": {},
   "outputs": [],
   "source": [
    "class Vocab(object):\n",
    "    \n",
    "    def __init__(self):\n",
    "        self.w2i = {} # word to index\n",
    "        self.i2w = {}\n",
    "        self.index = 0\n",
    "    \n",
    "    # if v is a Vocab object, v(token) will return the index associated with the token\n",
    "    def __call__(self,token):\n",
    "        if not token in self.w2i:\n",
    "            return self.w2i[\"<unk>\"]\n",
    "        return self.w2i[token]\n",
    "    \n",
    "    def __len__(self):\n",
    "        return len(self.w2i)\n",
    "    \n",
    "    def add_token(self,token):\n",
    "        if not token in self.w2i:\n",
    "            # if the token is new, assign an index to it and update w2i, i2w, update index\n",
    "            self.w2i[token] = self.index\n",
    "            self.i2w[self.index] = token\n",
    "            self.index += 1\n",
    "    \n",
    "            \n",
    "        "
   ]
  },
  {
   "cell_type": "code",
   "execution_count": null,
   "id": "2a154712",
   "metadata": {},
   "outputs": [],
   "source": []
  },
  {
   "cell_type": "code",
   "execution_count": 3,
   "id": "201afbf5",
   "metadata": {},
   "outputs": [],
   "source": [
    "with open(\"vocabulary.pkl\",\"rb\") as f:\n",
    "    vocabulary = pickle.load(f)"
   ]
  },
  {
   "cell_type": "code",
   "execution_count": null,
   "id": "9e00adb0",
   "metadata": {},
   "outputs": [],
   "source": []
  },
  {
   "cell_type": "code",
   "execution_count": null,
   "id": "52f6cc2c",
   "metadata": {},
   "outputs": [],
   "source": []
  },
  {
   "cell_type": "code",
   "execution_count": null,
   "id": "b054f958",
   "metadata": {},
   "outputs": [],
   "source": []
  },
  {
   "cell_type": "code",
   "execution_count": null,
   "id": "284f52a2",
   "metadata": {},
   "outputs": [],
   "source": []
  },
  {
   "cell_type": "markdown",
   "id": "d3c2348b",
   "metadata": {},
   "source": [
    "# Models"
   ]
  },
  {
   "cell_type": "code",
   "execution_count": 4,
   "id": "c68a370b",
   "metadata": {},
   "outputs": [],
   "source": [
    "class CNN(nn.Module):\n",
    "    def __init__(self,embedding_size,weight_path):\n",
    "        # pretrained ResNext-50\n",
    "        super(CNN,self).__init__()\n",
    "        resnet = models.resnext50_32x4d(pretrained=False)\n",
    "        if weight_path:\n",
    "            resnet.load_state_dict(torch.load(weight_path))\n",
    "        # exclude the last layer\n",
    "        module_list = list(resnet.children())[:-1]\n",
    "        self.resnet = nn.Sequential(*module_list) \n",
    "        self.linear = nn.Linear(resnet.fc.in_features,embedding_size) # embed the output features\n",
    "        self.batch_norm = nn.BatchNorm1d(embedding_size,momentum=0.01)\n",
    "        self.dropout = nn.Dropout(0.1)\n",
    "    \n",
    "    def forward(self,input_imgs):\n",
    "        # extract features\n",
    "        with torch.no_grad():\n",
    "            features = self.resnet(input_imgs)\n",
    "        \n",
    "        # embed the features\n",
    "        features = features.reshape(features.size(0),-1)\n",
    "        features = self.dropout(self.batch_norm(self.linear(features)))\n",
    "        return features\n",
    "\n",
    "\n",
    "        \n",
    "        "
   ]
  },
  {
   "cell_type": "code",
   "execution_count": 5,
   "id": "bf6efee8",
   "metadata": {},
   "outputs": [],
   "source": [
    "class LSTM(nn.Module):\n",
    "    def __init__(self,embed,hidden,vocab,num_layers,max_seq_len=30):\n",
    "        super(LSTM,self).__init__()\n",
    "        self.embedding = nn.Embedding(vocab,embed)\n",
    "        self.lstm = nn.LSTM(embed,hidden,num_layers,batch_first=True,dropout=0.1)\n",
    "        #self.lstm = nn.LSTM(embed*2,hidden,num_layers,batch_first=True,dropout=0.1)\n",
    "        self.linear = nn.Linear(hidden,vocab)\n",
    "        self.max_seq_len = max_seq_len\n",
    "    \n",
    "    def forward(self,input_features,capts,lens):\n",
    "        # decode image feature vectors and generate captions\n",
    "        ####\n",
    "        capts = capts[:,:-1] # for each caption, ignore the last token\n",
    "        ###\n",
    "        \n",
    "        embeddings = self.embedding(capts)\n",
    "        # input_features (batch,embed_size)\n",
    "        # embeddings (batch,sequence_len,embed_size)\n",
    "        \n",
    "        #####\n",
    "        repeated_features = input_features.unsqueeze(1).repeat(1,embeddings.size(dim=1),1)\n",
    "        embeddings = torch.cat((repeated_features,embeddings),2)\n",
    "        \n",
    "        #####\n",
    "        \n",
    "        #embeddings = torch.cat((input_features.unsqueeze(1),embeddings), 1)\n",
    "        #lstm_input = pack_padded_sequence(embeddings, np.array(lens), batch_first=True)\n",
    "        \n",
    "        lstm_input = pack_padded_sequence(embeddings, np.array(lens)-1, batch_first=True)\n",
    "        hidden_variables,_ = self.lstm(lstm_input)\n",
    "        model_outputs = self.linear(hidden_variables[0])\n",
    "        return model_outputs\n",
    "    \n",
    "    def sample(self,input_features,lstm_states=None):\n",
    "        \"\"\"Generate captions for given image features using greedy search.\"\"\"\n",
    "        sampled_indices = []\n",
    "        lstm_inputs = input_features.unsqueeze(1)\n",
    "        for i in range(self.max_seq_len):\n",
    "            hidden_variables, lstm_states = self.lstm(lstm_inputs, lstm_states)          # hiddens: (batch_size, 1, hidden_size)\n",
    "            model_outputs = self.linear(hidden_variables.squeeze(1))            # outputs:  (batch_size, vocab_size)\n",
    "            _, predicted_outputs = model_outputs.max(1)                        # predicted: (batch_size)\n",
    "            sampled_indices.append(predicted_outputs)\n",
    "            lstm_inputs = self.embedding(predicted_outputs)                       # inputs: (batch_size, embed_size)\n",
    "            lstm_inputs = lstm_inputs.unsqueeze(1)                         # inputs: (batch_size, 1, embed_size)\n",
    "        sampled_indices = torch.stack(sampled_indices, 1)                # sampled_ids: (batch_size, max_seq_length)\n",
    "        return sampled_indices"
   ]
  },
  {
   "cell_type": "code",
   "execution_count": null,
   "id": "40106d80",
   "metadata": {},
   "outputs": [],
   "source": []
  },
  {
   "cell_type": "markdown",
   "id": "b4b54784",
   "metadata": {},
   "source": [
    "# load image & model"
   ]
  },
  {
   "cell_type": "code",
   "execution_count": 6,
   "id": "f4a67fe2",
   "metadata": {},
   "outputs": [],
   "source": [
    "transform = transforms.Compose([transforms.ToTensor(),\n",
    "                               transforms.Normalize((0.485,0.456,0.406),\n",
    "                                                   (0.229,0.224,0.225))])\n",
    "def load_image(path):\n",
    "    img = Image.open(path).convert(\"RGB\")\n",
    "    img = img.resize([224,224],Image.LANCZOS)\n",
    "    img = transform(img).unsqueeze(0)\n",
    "    return img"
   ]
  },
  {
   "cell_type": "code",
   "execution_count": 7,
   "id": "fed78723",
   "metadata": {},
   "outputs": [
    {
     "name": "stderr",
     "output_type": "stream",
     "text": [
      "W:\\Tools\\Anaconda3\\envs\\pytorch\\lib\\site-packages\\torch\\nn\\modules\\rnn.py:62: UserWarning: dropout option adds dropout after all but last recurrent layer, so non-zero dropout expects num_layers greater than 1, but got dropout=0.1 and num_layers=1\n",
      "  warnings.warn(\"dropout option adds dropout after all but last \"\n"
     ]
    },
    {
     "data": {
      "text/plain": [
       "<All keys matched successfully>"
      ]
     },
     "execution_count": 7,
     "metadata": {},
     "output_type": "execute_result"
    }
   ],
   "source": [
    "encoder = CNN(256,None).eval()\n",
    "decoder = LSTM(256,512,len(vocabulary),1).eval()\n",
    "encoder = encoder.to(\"cuda\")\n",
    "decoder = decoder.to(\"cuda\")\n",
    "encoder.load_state_dict(torch.load(\"Weights/run-2-encoder.pth\"))\n",
    "decoder.load_state_dict(torch.load(\"Weights/run-2-decoder.pth\"))"
   ]
  },
  {
   "cell_type": "code",
   "execution_count": null,
   "id": "8c471f90",
   "metadata": {},
   "outputs": [],
   "source": []
  },
  {
   "cell_type": "markdown",
   "id": "16337b05",
   "metadata": {},
   "source": [
    "# Generate captioning"
   ]
  },
  {
   "cell_type": "code",
   "execution_count": 11,
   "id": "f7c4c93a",
   "metadata": {
    "scrolled": true
   },
   "outputs": [
    {
     "data": {
      "text/plain": [
       "array([   1,    4,  115,   41,    4, 1413,   17, 1027,   37,  149,    4,\n",
       "        872,  873,   13,    2,    2,   13,    2,    2,   13,    2,    2,\n",
       "         13,    2,    2,   13,    2,    2,   13,    2], dtype=int64)"
      ]
     },
     "execution_count": 11,
     "metadata": {},
     "output_type": "execute_result"
    }
   ],
   "source": [
    "path = \"Images/07.jpg\"\n",
    "img = load_image(path)\n",
    "img = img.to(\"cuda\")\n",
    "feature = encoder(img)\n",
    "sampled_indices = decoder.sample(feature)\n",
    "#print(sampled_indices)\n",
    "sampled_indices = sampled_indices[0].cpu().numpy()\n",
    "sampled_indices"
   ]
  },
  {
   "cell_type": "code",
   "execution_count": 12,
   "id": "0647a433",
   "metadata": {},
   "outputs": [
    {
     "data": {
      "text/plain": [
       "'a man in a suit and tie is holding a cell phone .'"
      ]
     },
     "execution_count": 12,
     "metadata": {},
     "output_type": "execute_result"
    }
   ],
   "source": [
    "# convert tokens to text\n",
    "predicted_caption = []\n",
    "for token_index in sampled_indices:\n",
    "    word = vocabulary.i2w[token_index]\n",
    "    predicted_caption.append(word)\n",
    "    if word == \"<end>\":\n",
    "        break\n",
    "predicted_sentence = \" \".join(predicted_caption[1:-1]) \n",
    "predicted_sentence"
   ]
  },
  {
   "cell_type": "code",
   "execution_count": 13,
   "id": "8ce763c9",
   "metadata": {},
   "outputs": [
    {
     "name": "stdout",
     "output_type": "stream",
     "text": [
      "a man in a suit and tie is holding a cell phone .\n"
     ]
    },
    {
     "data": {
      "text/plain": [
       "<matplotlib.image.AxesImage at 0x2750c7621f0>"
      ]
     },
     "execution_count": 13,
     "metadata": {},
     "output_type": "execute_result"
    },
    {
     "data": {
      "image/png": "[encoded data removed]",
      "text/plain": [
       "<Figure size 432x288 with 1 Axes>"
      ]
     },
     "metadata": {
      "needs_background": "light"
     },
     "output_type": "display_data"
    }
   ],
   "source": [
    "# Print image & generated caption text\n",
    "print (predicted_sentence)\n",
    "img = Image.open(path)\n",
    "plt.imshow(np.asarray(img))"
   ]
  },
  {
   "cell_type": "code",
   "execution_count": null,
   "id": "1763ec43",
   "metadata": {},
   "outputs": [],
   "source": []
  },
  {
   "cell_type": "code",
   "execution_count": null,
   "id": "03803e4a",
   "metadata": {},
   "outputs": [],
   "source": []
  }
 ],
 "metadata": {
  "kernelspec": {
   "display_name": "Python 3 (ipykernel)",
   "language": "python",
   "name": "python3"
  },
  "language_info": {
   "codemirror_mode": {
    "name": "ipython",
    "version": 3
   },
   "file_extension": ".py",
   "mimetype": "text/x-python",
   "name": "python",
   "nbconvert_exporter": "python",
   "pygments_lexer": "ipython3",
   "version": "3.9.12"
  }
 },
 "nbformat": 4,
 "nbformat_minor": 5
}
